{
 "cells": [
  {
   "cell_type": "code",
   "execution_count": null,
   "metadata": {},
   "outputs": [],
   "source": [
    "%pip install yfinance\n",
    "%pip install nltk\n",
    "%pip install matplotlib\n",
    "%pip install seaborn\n",
    "%pip install wordcloud\n",
    "%pip install torchvision\n",
    "%pip install -U scikit-learn scipy matplotlib\n",
    "%pip install pytorch-lightning\n",
    "%pip install transformers"
   ]
  },
  {
   "cell_type": "code",
   "execution_count": 1,
   "metadata": {},
   "outputs": [],
   "source": [
    "from sklearn.metrics import mean_absolute_error\n",
    "import pandas as pd\n",
    "import tensorflow as tf\n",
    "import yfinance as yf\n",
    "\n",
    "import numpy as np\n",
    "\n",
    "from sklearn.model_selection import train_test_split"
   ]
  },
  {
   "cell_type": "code",
   "execution_count": 3,
   "metadata": {},
   "outputs": [
    {
     "name": "stdout",
     "output_type": "stream",
     "text": [
      "[*********************100%%**********************]  1 of 1 completed\n"
     ]
    }
   ],
   "source": [
    "start_date ='2015-01-01'\n",
    "end_date = '2022-12-31'\n",
    "price = yf.download(\"BTC-USD\", start=start_date, end=end_date)"
   ]
  },
  {
   "cell_type": "code",
   "execution_count": 4,
   "metadata": {},
   "outputs": [],
   "source": [
    "crypto_price_daily_2009_2023 = price.reset_index()"
   ]
  },
  {
   "cell_type": "code",
   "execution_count": 6,
   "metadata": {},
   "outputs": [
    {
     "data": {
      "text/html": [
       "<div>\n",
       "<style scoped>\n",
       "    .dataframe tbody tr th:only-of-type {\n",
       "        vertical-align: middle;\n",
       "    }\n",
       "\n",
       "    .dataframe tbody tr th {\n",
       "        vertical-align: top;\n",
       "    }\n",
       "\n",
       "    .dataframe thead th {\n",
       "        text-align: right;\n",
       "    }\n",
       "</style>\n",
       "<table border=\"1\" class=\"dataframe\">\n",
       "  <thead>\n",
       "    <tr style=\"text-align: right;\">\n",
       "      <th></th>\n",
       "      <th>Date</th>\n",
       "      <th>Open</th>\n",
       "      <th>High</th>\n",
       "      <th>Low</th>\n",
       "      <th>Close</th>\n",
       "      <th>Adj Close</th>\n",
       "      <th>Volume</th>\n",
       "    </tr>\n",
       "  </thead>\n",
       "  <tbody>\n",
       "    <tr>\n",
       "      <th>0</th>\n",
       "      <td>2015-01-01</td>\n",
       "      <td>320.434998</td>\n",
       "      <td>320.434998</td>\n",
       "      <td>314.002991</td>\n",
       "      <td>314.248993</td>\n",
       "      <td>314.248993</td>\n",
       "      <td>8036550</td>\n",
       "    </tr>\n",
       "    <tr>\n",
       "      <th>1</th>\n",
       "      <td>2015-01-02</td>\n",
       "      <td>314.079010</td>\n",
       "      <td>315.838989</td>\n",
       "      <td>313.565002</td>\n",
       "      <td>315.032013</td>\n",
       "      <td>315.032013</td>\n",
       "      <td>7860650</td>\n",
       "    </tr>\n",
       "    <tr>\n",
       "      <th>2</th>\n",
       "      <td>2015-01-03</td>\n",
       "      <td>314.846008</td>\n",
       "      <td>315.149994</td>\n",
       "      <td>281.082001</td>\n",
       "      <td>281.082001</td>\n",
       "      <td>281.082001</td>\n",
       "      <td>33054400</td>\n",
       "    </tr>\n",
       "    <tr>\n",
       "      <th>3</th>\n",
       "      <td>2015-01-04</td>\n",
       "      <td>281.145996</td>\n",
       "      <td>287.230011</td>\n",
       "      <td>257.612000</td>\n",
       "      <td>264.195007</td>\n",
       "      <td>264.195007</td>\n",
       "      <td>55629100</td>\n",
       "    </tr>\n",
       "    <tr>\n",
       "      <th>4</th>\n",
       "      <td>2015-01-05</td>\n",
       "      <td>265.084015</td>\n",
       "      <td>278.341003</td>\n",
       "      <td>265.084015</td>\n",
       "      <td>274.473999</td>\n",
       "      <td>274.473999</td>\n",
       "      <td>43962800</td>\n",
       "    </tr>\n",
       "    <tr>\n",
       "      <th>...</th>\n",
       "      <td>...</td>\n",
       "      <td>...</td>\n",
       "      <td>...</td>\n",
       "      <td>...</td>\n",
       "      <td>...</td>\n",
       "      <td>...</td>\n",
       "      <td>...</td>\n",
       "    </tr>\n",
       "    <tr>\n",
       "      <th>2916</th>\n",
       "      <td>2022-12-26</td>\n",
       "      <td>16842.250000</td>\n",
       "      <td>16920.123047</td>\n",
       "      <td>16812.369141</td>\n",
       "      <td>16919.804688</td>\n",
       "      <td>16919.804688</td>\n",
       "      <td>11886957804</td>\n",
       "    </tr>\n",
       "    <tr>\n",
       "      <th>2917</th>\n",
       "      <td>2022-12-27</td>\n",
       "      <td>16919.291016</td>\n",
       "      <td>16959.845703</td>\n",
       "      <td>16642.072266</td>\n",
       "      <td>16717.173828</td>\n",
       "      <td>16717.173828</td>\n",
       "      <td>15748580239</td>\n",
       "    </tr>\n",
       "    <tr>\n",
       "      <th>2918</th>\n",
       "      <td>2022-12-28</td>\n",
       "      <td>16716.400391</td>\n",
       "      <td>16768.169922</td>\n",
       "      <td>16497.556641</td>\n",
       "      <td>16552.572266</td>\n",
       "      <td>16552.572266</td>\n",
       "      <td>17005713920</td>\n",
       "    </tr>\n",
       "    <tr>\n",
       "      <th>2919</th>\n",
       "      <td>2022-12-29</td>\n",
       "      <td>16552.322266</td>\n",
       "      <td>16651.755859</td>\n",
       "      <td>16508.683594</td>\n",
       "      <td>16642.341797</td>\n",
       "      <td>16642.341797</td>\n",
       "      <td>14472237479</td>\n",
       "    </tr>\n",
       "    <tr>\n",
       "      <th>2920</th>\n",
       "      <td>2022-12-30</td>\n",
       "      <td>16641.330078</td>\n",
       "      <td>16643.427734</td>\n",
       "      <td>16408.474609</td>\n",
       "      <td>16602.585938</td>\n",
       "      <td>16602.585938</td>\n",
       "      <td>15929162910</td>\n",
       "    </tr>\n",
       "  </tbody>\n",
       "</table>\n",
       "<p>2921 rows × 7 columns</p>\n",
       "</div>"
      ],
      "text/plain": [
       "           Date          Open          High           Low         Close  \\\n",
       "0    2015-01-01    320.434998    320.434998    314.002991    314.248993   \n",
       "1    2015-01-02    314.079010    315.838989    313.565002    315.032013   \n",
       "2    2015-01-03    314.846008    315.149994    281.082001    281.082001   \n",
       "3    2015-01-04    281.145996    287.230011    257.612000    264.195007   \n",
       "4    2015-01-05    265.084015    278.341003    265.084015    274.473999   \n",
       "...         ...           ...           ...           ...           ...   \n",
       "2916 2022-12-26  16842.250000  16920.123047  16812.369141  16919.804688   \n",
       "2917 2022-12-27  16919.291016  16959.845703  16642.072266  16717.173828   \n",
       "2918 2022-12-28  16716.400391  16768.169922  16497.556641  16552.572266   \n",
       "2919 2022-12-29  16552.322266  16651.755859  16508.683594  16642.341797   \n",
       "2920 2022-12-30  16641.330078  16643.427734  16408.474609  16602.585938   \n",
       "\n",
       "         Adj Close       Volume  \n",
       "0       314.248993      8036550  \n",
       "1       315.032013      7860650  \n",
       "2       281.082001     33054400  \n",
       "3       264.195007     55629100  \n",
       "4       274.473999     43962800  \n",
       "...            ...          ...  \n",
       "2916  16919.804688  11886957804  \n",
       "2917  16717.173828  15748580239  \n",
       "2918  16552.572266  17005713920  \n",
       "2919  16642.341797  14472237479  \n",
       "2920  16602.585938  15929162910  \n",
       "\n",
       "[2921 rows x 7 columns]"
      ]
     },
     "execution_count": 6,
     "metadata": {},
     "output_type": "execute_result"
    }
   ],
   "source": [
    "crypto_price_daily_2009_2023"
   ]
  },
  {
   "cell_type": "code",
   "execution_count": 7,
   "metadata": {},
   "outputs": [
    {
     "data": {
      "text/plain": [
       "(2921, 7)"
      ]
     },
     "execution_count": 7,
     "metadata": {},
     "output_type": "execute_result"
    }
   ],
   "source": [
    "crypto_price_daily_2009_2023.shape"
   ]
  },
  {
   "cell_type": "code",
   "execution_count": 64,
   "metadata": {},
   "outputs": [],
   "source": [
    "crypto_price_hourly_2018_2022 = pd.read_csv('../archive/BTC-Hourly.csv')"
   ]
  },
  {
   "cell_type": "code",
   "execution_count": 273,
   "metadata": {},
   "outputs": [],
   "source": [
    "c =pd.read_csv('../archive/bitstampUSD_1-min_data_2012-01-01_to_2021-03-31.csv')"
   ]
  },
  {
   "cell_type": "code",
   "execution_count": 274,
   "metadata": {},
   "outputs": [
    {
     "data": {
      "text/plain": [
       "(4857377, 8)"
      ]
     },
     "execution_count": 274,
     "metadata": {},
     "output_type": "execute_result"
    }
   ],
   "source": [
    "c.shape"
   ]
  },
  {
   "cell_type": "code",
   "execution_count": 49,
   "metadata": {},
   "outputs": [
    {
     "data": {
      "text/plain": [
       "(33259, 9)"
      ]
     },
     "execution_count": 49,
     "metadata": {},
     "output_type": "execute_result"
    }
   ],
   "source": [
    "crypto_price_hourly_2018_2022.shape"
   ]
  },
  {
   "cell_type": "code",
   "execution_count": 53,
   "metadata": {},
   "outputs": [
    {
     "data": {
      "text/html": [
       "<div>\n",
       "<style scoped>\n",
       "    .dataframe tbody tr th:only-of-type {\n",
       "        vertical-align: middle;\n",
       "    }\n",
       "\n",
       "    .dataframe tbody tr th {\n",
       "        vertical-align: top;\n",
       "    }\n",
       "\n",
       "    .dataframe thead th {\n",
       "        text-align: right;\n",
       "    }\n",
       "</style>\n",
       "<table border=\"1\" class=\"dataframe\">\n",
       "  <thead>\n",
       "    <tr style=\"text-align: right;\">\n",
       "      <th></th>\n",
       "      <th>unix</th>\n",
       "      <th>symbol</th>\n",
       "      <th>open</th>\n",
       "      <th>high</th>\n",
       "      <th>low</th>\n",
       "      <th>close</th>\n",
       "      <th>Volume BTC</th>\n",
       "      <th>Volume USD</th>\n",
       "    </tr>\n",
       "  </thead>\n",
       "  <tbody>\n",
       "    <tr>\n",
       "      <th>0</th>\n",
       "      <td>1646092800</td>\n",
       "      <td>BTC/USD</td>\n",
       "      <td>43221.71</td>\n",
       "      <td>43626.49</td>\n",
       "      <td>43185.48</td>\n",
       "      <td>43312.27</td>\n",
       "      <td>5.205632e+01</td>\n",
       "      <td>2.254677e+06</td>\n",
       "    </tr>\n",
       "    <tr>\n",
       "      <th>1</th>\n",
       "      <td>1646089200</td>\n",
       "      <td>BTC/USD</td>\n",
       "      <td>43085.30</td>\n",
       "      <td>43364.81</td>\n",
       "      <td>42892.37</td>\n",
       "      <td>43178.98</td>\n",
       "      <td>1.068161e+02</td>\n",
       "      <td>4.612210e+06</td>\n",
       "    </tr>\n",
       "    <tr>\n",
       "      <th>2</th>\n",
       "      <td>1646085600</td>\n",
       "      <td>BTC/USD</td>\n",
       "      <td>41657.23</td>\n",
       "      <td>44256.08</td>\n",
       "      <td>41650.29</td>\n",
       "      <td>42907.32</td>\n",
       "      <td>5.275406e+02</td>\n",
       "      <td>2.263535e+07</td>\n",
       "    </tr>\n",
       "    <tr>\n",
       "      <th>3</th>\n",
       "      <td>1646082000</td>\n",
       "      <td>BTC/USD</td>\n",
       "      <td>41917.09</td>\n",
       "      <td>41917.09</td>\n",
       "      <td>41542.60</td>\n",
       "      <td>41659.53</td>\n",
       "      <td>6.975168e+01</td>\n",
       "      <td>2.905822e+06</td>\n",
       "    </tr>\n",
       "    <tr>\n",
       "      <th>4</th>\n",
       "      <td>1646078400</td>\n",
       "      <td>BTC/USD</td>\n",
       "      <td>41361.99</td>\n",
       "      <td>41971.00</td>\n",
       "      <td>41284.11</td>\n",
       "      <td>41914.97</td>\n",
       "      <td>2.471517e+02</td>\n",
       "      <td>1.035935e+07</td>\n",
       "    </tr>\n",
       "    <tr>\n",
       "      <th>...</th>\n",
       "      <td>...</td>\n",
       "      <td>...</td>\n",
       "      <td>...</td>\n",
       "      <td>...</td>\n",
       "      <td>...</td>\n",
       "      <td>...</td>\n",
       "      <td>...</td>\n",
       "      <td>...</td>\n",
       "    </tr>\n",
       "    <tr>\n",
       "      <th>33254</th>\n",
       "      <td>1526378400</td>\n",
       "      <td>BTC/USD</td>\n",
       "      <td>8708.32</td>\n",
       "      <td>8865.00</td>\n",
       "      <td>8695.11</td>\n",
       "      <td>8795.90</td>\n",
       "      <td>1.110127e+07</td>\n",
       "      <td>1.260690e+03</td>\n",
       "    </tr>\n",
       "    <tr>\n",
       "      <th>33255</th>\n",
       "      <td>1526374800</td>\n",
       "      <td>BTC/USD</td>\n",
       "      <td>8728.49</td>\n",
       "      <td>8754.40</td>\n",
       "      <td>8701.35</td>\n",
       "      <td>8708.32</td>\n",
       "      <td>1.593992e+06</td>\n",
       "      <td>1.826200e+02</td>\n",
       "    </tr>\n",
       "    <tr>\n",
       "      <th>33256</th>\n",
       "      <td>1526371200</td>\n",
       "      <td>BTC/USD</td>\n",
       "      <td>8739.00</td>\n",
       "      <td>8750.27</td>\n",
       "      <td>8660.53</td>\n",
       "      <td>8728.49</td>\n",
       "      <td>7.986063e+06</td>\n",
       "      <td>9.177900e+02</td>\n",
       "    </tr>\n",
       "    <tr>\n",
       "      <th>33257</th>\n",
       "      <td>1526367600</td>\n",
       "      <td>BTC/USD</td>\n",
       "      <td>8740.99</td>\n",
       "      <td>8766.00</td>\n",
       "      <td>8721.11</td>\n",
       "      <td>8739.00</td>\n",
       "      <td>2.390399e+06</td>\n",
       "      <td>2.735800e+02</td>\n",
       "    </tr>\n",
       "    <tr>\n",
       "      <th>33258</th>\n",
       "      <td>1526364000</td>\n",
       "      <td>BTC/USD</td>\n",
       "      <td>8733.86</td>\n",
       "      <td>8796.68</td>\n",
       "      <td>8707.28</td>\n",
       "      <td>8740.99</td>\n",
       "      <td>4.906603e+06</td>\n",
       "      <td>5.599300e+02</td>\n",
       "    </tr>\n",
       "  </tbody>\n",
       "</table>\n",
       "<p>33259 rows × 8 columns</p>\n",
       "</div>"
      ],
      "text/plain": [
       "             unix   symbol      open      high       low     close  \\\n",
       "0      1646092800  BTC/USD  43221.71  43626.49  43185.48  43312.27   \n",
       "1      1646089200  BTC/USD  43085.30  43364.81  42892.37  43178.98   \n",
       "2      1646085600  BTC/USD  41657.23  44256.08  41650.29  42907.32   \n",
       "3      1646082000  BTC/USD  41917.09  41917.09  41542.60  41659.53   \n",
       "4      1646078400  BTC/USD  41361.99  41971.00  41284.11  41914.97   \n",
       "...           ...      ...       ...       ...       ...       ...   \n",
       "33254  1526378400  BTC/USD   8708.32   8865.00   8695.11   8795.90   \n",
       "33255  1526374800  BTC/USD   8728.49   8754.40   8701.35   8708.32   \n",
       "33256  1526371200  BTC/USD   8739.00   8750.27   8660.53   8728.49   \n",
       "33257  1526367600  BTC/USD   8740.99   8766.00   8721.11   8739.00   \n",
       "33258  1526364000  BTC/USD   8733.86   8796.68   8707.28   8740.99   \n",
       "\n",
       "         Volume BTC    Volume USD  \n",
       "0      5.205632e+01  2.254677e+06  \n",
       "1      1.068161e+02  4.612210e+06  \n",
       "2      5.275406e+02  2.263535e+07  \n",
       "3      6.975168e+01  2.905822e+06  \n",
       "4      2.471517e+02  1.035935e+07  \n",
       "...             ...           ...  \n",
       "33254  1.110127e+07  1.260690e+03  \n",
       "33255  1.593992e+06  1.826200e+02  \n",
       "33256  7.986063e+06  9.177900e+02  \n",
       "33257  2.390399e+06  2.735800e+02  \n",
       "33258  4.906603e+06  5.599300e+02  \n",
       "\n",
       "[33259 rows x 8 columns]"
      ]
     },
     "execution_count": 53,
     "metadata": {},
     "output_type": "execute_result"
    }
   ],
   "source": [
    "crypto_price_hourly_2018_2022"
   ]
  },
  {
   "cell_type": "code",
   "execution_count": 8,
   "metadata": {},
   "outputs": [],
   "source": [
    "df = crypto_price_daily_2009_2023 #crypto_price_hourly_2018_2022.loc[:,['close']]"
   ]
  },
  {
   "cell_type": "code",
   "execution_count": 10,
   "metadata": {},
   "outputs": [],
   "source": [
    "df = df.drop(['Date'],axis=1)"
   ]
  },
  {
   "cell_type": "code",
   "execution_count": 11,
   "metadata": {},
   "outputs": [
    {
     "data": {
      "text/html": [
       "<div>\n",
       "<style scoped>\n",
       "    .dataframe tbody tr th:only-of-type {\n",
       "        vertical-align: middle;\n",
       "    }\n",
       "\n",
       "    .dataframe tbody tr th {\n",
       "        vertical-align: top;\n",
       "    }\n",
       "\n",
       "    .dataframe thead th {\n",
       "        text-align: right;\n",
       "    }\n",
       "</style>\n",
       "<table border=\"1\" class=\"dataframe\">\n",
       "  <thead>\n",
       "    <tr style=\"text-align: right;\">\n",
       "      <th></th>\n",
       "      <th>Open</th>\n",
       "      <th>High</th>\n",
       "      <th>Low</th>\n",
       "      <th>Close</th>\n",
       "      <th>Adj Close</th>\n",
       "      <th>Volume</th>\n",
       "    </tr>\n",
       "  </thead>\n",
       "  <tbody>\n",
       "    <tr>\n",
       "      <th>0</th>\n",
       "      <td>320.434998</td>\n",
       "      <td>320.434998</td>\n",
       "      <td>314.002991</td>\n",
       "      <td>314.248993</td>\n",
       "      <td>314.248993</td>\n",
       "      <td>8036550</td>\n",
       "    </tr>\n",
       "    <tr>\n",
       "      <th>1</th>\n",
       "      <td>314.079010</td>\n",
       "      <td>315.838989</td>\n",
       "      <td>313.565002</td>\n",
       "      <td>315.032013</td>\n",
       "      <td>315.032013</td>\n",
       "      <td>7860650</td>\n",
       "    </tr>\n",
       "    <tr>\n",
       "      <th>2</th>\n",
       "      <td>314.846008</td>\n",
       "      <td>315.149994</td>\n",
       "      <td>281.082001</td>\n",
       "      <td>281.082001</td>\n",
       "      <td>281.082001</td>\n",
       "      <td>33054400</td>\n",
       "    </tr>\n",
       "    <tr>\n",
       "      <th>3</th>\n",
       "      <td>281.145996</td>\n",
       "      <td>287.230011</td>\n",
       "      <td>257.612000</td>\n",
       "      <td>264.195007</td>\n",
       "      <td>264.195007</td>\n",
       "      <td>55629100</td>\n",
       "    </tr>\n",
       "    <tr>\n",
       "      <th>4</th>\n",
       "      <td>265.084015</td>\n",
       "      <td>278.341003</td>\n",
       "      <td>265.084015</td>\n",
       "      <td>274.473999</td>\n",
       "      <td>274.473999</td>\n",
       "      <td>43962800</td>\n",
       "    </tr>\n",
       "    <tr>\n",
       "      <th>...</th>\n",
       "      <td>...</td>\n",
       "      <td>...</td>\n",
       "      <td>...</td>\n",
       "      <td>...</td>\n",
       "      <td>...</td>\n",
       "      <td>...</td>\n",
       "    </tr>\n",
       "    <tr>\n",
       "      <th>2916</th>\n",
       "      <td>16842.250000</td>\n",
       "      <td>16920.123047</td>\n",
       "      <td>16812.369141</td>\n",
       "      <td>16919.804688</td>\n",
       "      <td>16919.804688</td>\n",
       "      <td>11886957804</td>\n",
       "    </tr>\n",
       "    <tr>\n",
       "      <th>2917</th>\n",
       "      <td>16919.291016</td>\n",
       "      <td>16959.845703</td>\n",
       "      <td>16642.072266</td>\n",
       "      <td>16717.173828</td>\n",
       "      <td>16717.173828</td>\n",
       "      <td>15748580239</td>\n",
       "    </tr>\n",
       "    <tr>\n",
       "      <th>2918</th>\n",
       "      <td>16716.400391</td>\n",
       "      <td>16768.169922</td>\n",
       "      <td>16497.556641</td>\n",
       "      <td>16552.572266</td>\n",
       "      <td>16552.572266</td>\n",
       "      <td>17005713920</td>\n",
       "    </tr>\n",
       "    <tr>\n",
       "      <th>2919</th>\n",
       "      <td>16552.322266</td>\n",
       "      <td>16651.755859</td>\n",
       "      <td>16508.683594</td>\n",
       "      <td>16642.341797</td>\n",
       "      <td>16642.341797</td>\n",
       "      <td>14472237479</td>\n",
       "    </tr>\n",
       "    <tr>\n",
       "      <th>2920</th>\n",
       "      <td>16641.330078</td>\n",
       "      <td>16643.427734</td>\n",
       "      <td>16408.474609</td>\n",
       "      <td>16602.585938</td>\n",
       "      <td>16602.585938</td>\n",
       "      <td>15929162910</td>\n",
       "    </tr>\n",
       "  </tbody>\n",
       "</table>\n",
       "<p>2921 rows × 6 columns</p>\n",
       "</div>"
      ],
      "text/plain": [
       "              Open          High           Low         Close     Adj Close  \\\n",
       "0       320.434998    320.434998    314.002991    314.248993    314.248993   \n",
       "1       314.079010    315.838989    313.565002    315.032013    315.032013   \n",
       "2       314.846008    315.149994    281.082001    281.082001    281.082001   \n",
       "3       281.145996    287.230011    257.612000    264.195007    264.195007   \n",
       "4       265.084015    278.341003    265.084015    274.473999    274.473999   \n",
       "...            ...           ...           ...           ...           ...   \n",
       "2916  16842.250000  16920.123047  16812.369141  16919.804688  16919.804688   \n",
       "2917  16919.291016  16959.845703  16642.072266  16717.173828  16717.173828   \n",
       "2918  16716.400391  16768.169922  16497.556641  16552.572266  16552.572266   \n",
       "2919  16552.322266  16651.755859  16508.683594  16642.341797  16642.341797   \n",
       "2920  16641.330078  16643.427734  16408.474609  16602.585938  16602.585938   \n",
       "\n",
       "           Volume  \n",
       "0         8036550  \n",
       "1         7860650  \n",
       "2        33054400  \n",
       "3        55629100  \n",
       "4        43962800  \n",
       "...           ...  \n",
       "2916  11886957804  \n",
       "2917  15748580239  \n",
       "2918  17005713920  \n",
       "2919  14472237479  \n",
       "2920  15929162910  \n",
       "\n",
       "[2921 rows x 6 columns]"
      ]
     },
     "execution_count": 11,
     "metadata": {},
     "output_type": "execute_result"
    }
   ],
   "source": [
    "df"
   ]
  },
  {
   "cell_type": "code",
   "execution_count": 12,
   "metadata": {},
   "outputs": [],
   "source": [
    "prediction_period = 20"
   ]
  },
  {
   "cell_type": "code",
   "execution_count": 13,
   "metadata": {},
   "outputs": [
    {
     "name": "stdout",
     "output_type": "stream",
     "text": [
      "19\n",
      "18\n",
      "17\n",
      "16\n",
      "15\n",
      "14\n",
      "13\n",
      "12\n",
      "11\n",
      "10\n",
      "9\n",
      "8\n",
      "7\n",
      "6\n",
      "5\n",
      "4\n",
      "3\n",
      "2\n",
      "1\n",
      "0\n"
     ]
    }
   ],
   "source": [
    "y_hats = []\n",
    "\n",
    "for i in reversed(range(prediction_period)):\n",
    "    print(i)\n",
    "\n",
    "    h = i + 1\n",
    "    window_index = (len(df) - h)\n",
    "\n",
    "\n",
    "    y_win = df[: window_index].tail(10)\n",
    "\n",
    "    y_hats.append(y_win.mean())"
   ]
  },
  {
   "cell_type": "code",
   "execution_count": 14,
   "metadata": {},
   "outputs": [
    {
     "data": {
      "text/html": [
       "<div>\n",
       "<style scoped>\n",
       "    .dataframe tbody tr th:only-of-type {\n",
       "        vertical-align: middle;\n",
       "    }\n",
       "\n",
       "    .dataframe tbody tr th {\n",
       "        vertical-align: top;\n",
       "    }\n",
       "\n",
       "    .dataframe thead th {\n",
       "        text-align: right;\n",
       "    }\n",
       "</style>\n",
       "<table border=\"1\" class=\"dataframe\">\n",
       "  <thead>\n",
       "    <tr style=\"text-align: right;\">\n",
       "      <th></th>\n",
       "      <th>Open</th>\n",
       "      <th>High</th>\n",
       "      <th>Low</th>\n",
       "      <th>Close</th>\n",
       "      <th>Adj Close</th>\n",
       "      <th>Volume</th>\n",
       "    </tr>\n",
       "  </thead>\n",
       "  <tbody>\n",
       "    <tr>\n",
       "      <th>2901</th>\n",
       "      <td>17129.710938</td>\n",
       "      <td>17245.634766</td>\n",
       "      <td>17091.820312</td>\n",
       "      <td>17104.193359</td>\n",
       "      <td>17104.193359</td>\n",
       "      <td>14122486832</td>\n",
       "    </tr>\n",
       "    <tr>\n",
       "      <th>2902</th>\n",
       "      <td>17102.500000</td>\n",
       "      <td>17212.564453</td>\n",
       "      <td>16899.394531</td>\n",
       "      <td>17206.437500</td>\n",
       "      <td>17206.437500</td>\n",
       "      <td>19617581341</td>\n",
       "    </tr>\n",
       "    <tr>\n",
       "      <th>2903</th>\n",
       "      <td>17206.441406</td>\n",
       "      <td>17930.085938</td>\n",
       "      <td>17111.763672</td>\n",
       "      <td>17781.318359</td>\n",
       "      <td>17781.318359</td>\n",
       "      <td>26634741631</td>\n",
       "    </tr>\n",
       "    <tr>\n",
       "      <th>2904</th>\n",
       "      <td>17782.066406</td>\n",
       "      <td>18318.531250</td>\n",
       "      <td>17739.513672</td>\n",
       "      <td>17815.650391</td>\n",
       "      <td>17815.650391</td>\n",
       "      <td>25534481470</td>\n",
       "    </tr>\n",
       "    <tr>\n",
       "      <th>2905</th>\n",
       "      <td>17813.644531</td>\n",
       "      <td>17846.744141</td>\n",
       "      <td>17322.589844</td>\n",
       "      <td>17364.865234</td>\n",
       "      <td>17364.865234</td>\n",
       "      <td>20964448341</td>\n",
       "    </tr>\n",
       "    <tr>\n",
       "      <th>2906</th>\n",
       "      <td>17364.546875</td>\n",
       "      <td>17505.525391</td>\n",
       "      <td>16584.701172</td>\n",
       "      <td>16647.484375</td>\n",
       "      <td>16647.484375</td>\n",
       "      <td>24031608960</td>\n",
       "    </tr>\n",
       "    <tr>\n",
       "      <th>2907</th>\n",
       "      <td>16646.982422</td>\n",
       "      <td>16800.589844</td>\n",
       "      <td>16614.029297</td>\n",
       "      <td>16795.091797</td>\n",
       "      <td>16795.091797</td>\n",
       "      <td>14463581825</td>\n",
       "    </tr>\n",
       "    <tr>\n",
       "      <th>2908</th>\n",
       "      <td>16795.609375</td>\n",
       "      <td>16815.386719</td>\n",
       "      <td>16697.820312</td>\n",
       "      <td>16757.976562</td>\n",
       "      <td>16757.976562</td>\n",
       "      <td>10924354698</td>\n",
       "    </tr>\n",
       "    <tr>\n",
       "      <th>2909</th>\n",
       "      <td>16759.041016</td>\n",
       "      <td>16807.527344</td>\n",
       "      <td>16398.136719</td>\n",
       "      <td>16439.679688</td>\n",
       "      <td>16439.679688</td>\n",
       "      <td>17221074814</td>\n",
       "    </tr>\n",
       "    <tr>\n",
       "      <th>2910</th>\n",
       "      <td>16441.787109</td>\n",
       "      <td>17012.984375</td>\n",
       "      <td>16427.867188</td>\n",
       "      <td>16906.304688</td>\n",
       "      <td>16906.304688</td>\n",
       "      <td>22722096615</td>\n",
       "    </tr>\n",
       "    <tr>\n",
       "      <th>2911</th>\n",
       "      <td>16904.527344</td>\n",
       "      <td>16916.800781</td>\n",
       "      <td>16755.912109</td>\n",
       "      <td>16817.535156</td>\n",
       "      <td>16817.535156</td>\n",
       "      <td>14882945045</td>\n",
       "    </tr>\n",
       "    <tr>\n",
       "      <th>2912</th>\n",
       "      <td>16818.380859</td>\n",
       "      <td>16866.673828</td>\n",
       "      <td>16592.408203</td>\n",
       "      <td>16830.341797</td>\n",
       "      <td>16830.341797</td>\n",
       "      <td>16441573050</td>\n",
       "    </tr>\n",
       "    <tr>\n",
       "      <th>2913</th>\n",
       "      <td>16829.644531</td>\n",
       "      <td>16905.218750</td>\n",
       "      <td>16794.458984</td>\n",
       "      <td>16796.953125</td>\n",
       "      <td>16796.953125</td>\n",
       "      <td>15329265213</td>\n",
       "    </tr>\n",
       "    <tr>\n",
       "      <th>2914</th>\n",
       "      <td>16796.976562</td>\n",
       "      <td>16864.703125</td>\n",
       "      <td>16793.527344</td>\n",
       "      <td>16847.755859</td>\n",
       "      <td>16847.755859</td>\n",
       "      <td>9744636213</td>\n",
       "    </tr>\n",
       "    <tr>\n",
       "      <th>2915</th>\n",
       "      <td>16847.505859</td>\n",
       "      <td>16860.554688</td>\n",
       "      <td>16755.253906</td>\n",
       "      <td>16841.986328</td>\n",
       "      <td>16841.986328</td>\n",
       "      <td>11656379938</td>\n",
       "    </tr>\n",
       "    <tr>\n",
       "      <th>2916</th>\n",
       "      <td>16842.250000</td>\n",
       "      <td>16920.123047</td>\n",
       "      <td>16812.369141</td>\n",
       "      <td>16919.804688</td>\n",
       "      <td>16919.804688</td>\n",
       "      <td>11886957804</td>\n",
       "    </tr>\n",
       "    <tr>\n",
       "      <th>2917</th>\n",
       "      <td>16919.291016</td>\n",
       "      <td>16959.845703</td>\n",
       "      <td>16642.072266</td>\n",
       "      <td>16717.173828</td>\n",
       "      <td>16717.173828</td>\n",
       "      <td>15748580239</td>\n",
       "    </tr>\n",
       "    <tr>\n",
       "      <th>2918</th>\n",
       "      <td>16716.400391</td>\n",
       "      <td>16768.169922</td>\n",
       "      <td>16497.556641</td>\n",
       "      <td>16552.572266</td>\n",
       "      <td>16552.572266</td>\n",
       "      <td>17005713920</td>\n",
       "    </tr>\n",
       "    <tr>\n",
       "      <th>2919</th>\n",
       "      <td>16552.322266</td>\n",
       "      <td>16651.755859</td>\n",
       "      <td>16508.683594</td>\n",
       "      <td>16642.341797</td>\n",
       "      <td>16642.341797</td>\n",
       "      <td>14472237479</td>\n",
       "    </tr>\n",
       "    <tr>\n",
       "      <th>2920</th>\n",
       "      <td>16641.330078</td>\n",
       "      <td>16643.427734</td>\n",
       "      <td>16408.474609</td>\n",
       "      <td>16602.585938</td>\n",
       "      <td>16602.585938</td>\n",
       "      <td>15929162910</td>\n",
       "    </tr>\n",
       "  </tbody>\n",
       "</table>\n",
       "</div>"
      ],
      "text/plain": [
       "              Open          High           Low         Close     Adj Close  \\\n",
       "2901  17129.710938  17245.634766  17091.820312  17104.193359  17104.193359   \n",
       "2902  17102.500000  17212.564453  16899.394531  17206.437500  17206.437500   \n",
       "2903  17206.441406  17930.085938  17111.763672  17781.318359  17781.318359   \n",
       "2904  17782.066406  18318.531250  17739.513672  17815.650391  17815.650391   \n",
       "2905  17813.644531  17846.744141  17322.589844  17364.865234  17364.865234   \n",
       "2906  17364.546875  17505.525391  16584.701172  16647.484375  16647.484375   \n",
       "2907  16646.982422  16800.589844  16614.029297  16795.091797  16795.091797   \n",
       "2908  16795.609375  16815.386719  16697.820312  16757.976562  16757.976562   \n",
       "2909  16759.041016  16807.527344  16398.136719  16439.679688  16439.679688   \n",
       "2910  16441.787109  17012.984375  16427.867188  16906.304688  16906.304688   \n",
       "2911  16904.527344  16916.800781  16755.912109  16817.535156  16817.535156   \n",
       "2912  16818.380859  16866.673828  16592.408203  16830.341797  16830.341797   \n",
       "2913  16829.644531  16905.218750  16794.458984  16796.953125  16796.953125   \n",
       "2914  16796.976562  16864.703125  16793.527344  16847.755859  16847.755859   \n",
       "2915  16847.505859  16860.554688  16755.253906  16841.986328  16841.986328   \n",
       "2916  16842.250000  16920.123047  16812.369141  16919.804688  16919.804688   \n",
       "2917  16919.291016  16959.845703  16642.072266  16717.173828  16717.173828   \n",
       "2918  16716.400391  16768.169922  16497.556641  16552.572266  16552.572266   \n",
       "2919  16552.322266  16651.755859  16508.683594  16642.341797  16642.341797   \n",
       "2920  16641.330078  16643.427734  16408.474609  16602.585938  16602.585938   \n",
       "\n",
       "           Volume  \n",
       "2901  14122486832  \n",
       "2902  19617581341  \n",
       "2903  26634741631  \n",
       "2904  25534481470  \n",
       "2905  20964448341  \n",
       "2906  24031608960  \n",
       "2907  14463581825  \n",
       "2908  10924354698  \n",
       "2909  17221074814  \n",
       "2910  22722096615  \n",
       "2911  14882945045  \n",
       "2912  16441573050  \n",
       "2913  15329265213  \n",
       "2914   9744636213  \n",
       "2915  11656379938  \n",
       "2916  11886957804  \n",
       "2917  15748580239  \n",
       "2918  17005713920  \n",
       "2919  14472237479  \n",
       "2920  15929162910  "
      ]
     },
     "execution_count": 14,
     "metadata": {},
     "output_type": "execute_result"
    }
   ],
   "source": [
    "df.tail(prediction_period)"
   ]
  },
  {
   "cell_type": "code",
   "execution_count": 15,
   "metadata": {},
   "outputs": [
    {
     "data": {
      "text/plain": [
       "678477880.314572"
      ]
     },
     "execution_count": 15,
     "metadata": {},
     "output_type": "execute_result"
    }
   ],
   "source": [
    "mean_absolute_error(df.tail(prediction_period), y_hats)"
   ]
  },
  {
   "cell_type": "code",
   "execution_count": 51,
   "metadata": {},
   "outputs": [
    {
     "data": {
      "text/html": [
       "<div>\n",
       "<style scoped>\n",
       "    .dataframe tbody tr th:only-of-type {\n",
       "        vertical-align: middle;\n",
       "    }\n",
       "\n",
       "    .dataframe tbody tr th {\n",
       "        vertical-align: top;\n",
       "    }\n",
       "\n",
       "    .dataframe thead th {\n",
       "        text-align: right;\n",
       "    }\n",
       "</style>\n",
       "<table border=\"1\" class=\"dataframe\">\n",
       "  <thead>\n",
       "    <tr style=\"text-align: right;\">\n",
       "      <th></th>\n",
       "      <th>unix</th>\n",
       "      <th>date</th>\n",
       "      <th>symbol</th>\n",
       "      <th>open</th>\n",
       "      <th>high</th>\n",
       "      <th>low</th>\n",
       "      <th>close</th>\n",
       "      <th>Volume BTC</th>\n",
       "      <th>Volume USD</th>\n",
       "    </tr>\n",
       "  </thead>\n",
       "  <tbody>\n",
       "    <tr>\n",
       "      <th>0</th>\n",
       "      <td>1646092800</td>\n",
       "      <td>2022-03-01 00:00:00</td>\n",
       "      <td>BTC/USD</td>\n",
       "      <td>43221.71</td>\n",
       "      <td>43626.49</td>\n",
       "      <td>43185.48</td>\n",
       "      <td>43312.27</td>\n",
       "      <td>5.205632e+01</td>\n",
       "      <td>2.254677e+06</td>\n",
       "    </tr>\n",
       "    <tr>\n",
       "      <th>1</th>\n",
       "      <td>1646089200</td>\n",
       "      <td>2022-02-28 23:00:00</td>\n",
       "      <td>BTC/USD</td>\n",
       "      <td>43085.30</td>\n",
       "      <td>43364.81</td>\n",
       "      <td>42892.37</td>\n",
       "      <td>43178.98</td>\n",
       "      <td>1.068161e+02</td>\n",
       "      <td>4.612210e+06</td>\n",
       "    </tr>\n",
       "    <tr>\n",
       "      <th>2</th>\n",
       "      <td>1646085600</td>\n",
       "      <td>2022-02-28 22:00:00</td>\n",
       "      <td>BTC/USD</td>\n",
       "      <td>41657.23</td>\n",
       "      <td>44256.08</td>\n",
       "      <td>41650.29</td>\n",
       "      <td>42907.32</td>\n",
       "      <td>5.275406e+02</td>\n",
       "      <td>2.263535e+07</td>\n",
       "    </tr>\n",
       "    <tr>\n",
       "      <th>3</th>\n",
       "      <td>1646082000</td>\n",
       "      <td>2022-02-28 21:00:00</td>\n",
       "      <td>BTC/USD</td>\n",
       "      <td>41917.09</td>\n",
       "      <td>41917.09</td>\n",
       "      <td>41542.60</td>\n",
       "      <td>41659.53</td>\n",
       "      <td>6.975168e+01</td>\n",
       "      <td>2.905822e+06</td>\n",
       "    </tr>\n",
       "    <tr>\n",
       "      <th>4</th>\n",
       "      <td>1646078400</td>\n",
       "      <td>2022-02-28 20:00:00</td>\n",
       "      <td>BTC/USD</td>\n",
       "      <td>41361.99</td>\n",
       "      <td>41971.00</td>\n",
       "      <td>41284.11</td>\n",
       "      <td>41914.97</td>\n",
       "      <td>2.471517e+02</td>\n",
       "      <td>1.035935e+07</td>\n",
       "    </tr>\n",
       "    <tr>\n",
       "      <th>...</th>\n",
       "      <td>...</td>\n",
       "      <td>...</td>\n",
       "      <td>...</td>\n",
       "      <td>...</td>\n",
       "      <td>...</td>\n",
       "      <td>...</td>\n",
       "      <td>...</td>\n",
       "      <td>...</td>\n",
       "      <td>...</td>\n",
       "    </tr>\n",
       "    <tr>\n",
       "      <th>33254</th>\n",
       "      <td>1526378400</td>\n",
       "      <td>2018-05-15 10:00:00</td>\n",
       "      <td>BTC/USD</td>\n",
       "      <td>8708.32</td>\n",
       "      <td>8865.00</td>\n",
       "      <td>8695.11</td>\n",
       "      <td>8795.90</td>\n",
       "      <td>1.110127e+07</td>\n",
       "      <td>1.260690e+03</td>\n",
       "    </tr>\n",
       "    <tr>\n",
       "      <th>33255</th>\n",
       "      <td>1526374800</td>\n",
       "      <td>2018-05-15 09:00:00</td>\n",
       "      <td>BTC/USD</td>\n",
       "      <td>8728.49</td>\n",
       "      <td>8754.40</td>\n",
       "      <td>8701.35</td>\n",
       "      <td>8708.32</td>\n",
       "      <td>1.593992e+06</td>\n",
       "      <td>1.826200e+02</td>\n",
       "    </tr>\n",
       "    <tr>\n",
       "      <th>33256</th>\n",
       "      <td>1526371200</td>\n",
       "      <td>2018-05-15 08:00:00</td>\n",
       "      <td>BTC/USD</td>\n",
       "      <td>8739.00</td>\n",
       "      <td>8750.27</td>\n",
       "      <td>8660.53</td>\n",
       "      <td>8728.49</td>\n",
       "      <td>7.986063e+06</td>\n",
       "      <td>9.177900e+02</td>\n",
       "    </tr>\n",
       "    <tr>\n",
       "      <th>33257</th>\n",
       "      <td>1526367600</td>\n",
       "      <td>2018-05-15 07:00:00</td>\n",
       "      <td>BTC/USD</td>\n",
       "      <td>8740.99</td>\n",
       "      <td>8766.00</td>\n",
       "      <td>8721.11</td>\n",
       "      <td>8739.00</td>\n",
       "      <td>2.390399e+06</td>\n",
       "      <td>2.735800e+02</td>\n",
       "    </tr>\n",
       "    <tr>\n",
       "      <th>33258</th>\n",
       "      <td>1526364000</td>\n",
       "      <td>2018-05-15 06:00:00</td>\n",
       "      <td>BTC/USD</td>\n",
       "      <td>8733.86</td>\n",
       "      <td>8796.68</td>\n",
       "      <td>8707.28</td>\n",
       "      <td>8740.99</td>\n",
       "      <td>4.906603e+06</td>\n",
       "      <td>5.599300e+02</td>\n",
       "    </tr>\n",
       "  </tbody>\n",
       "</table>\n",
       "<p>33259 rows × 9 columns</p>\n",
       "</div>"
      ],
      "text/plain": [
       "             unix                 date   symbol      open      high       low  \\\n",
       "0      1646092800  2022-03-01 00:00:00  BTC/USD  43221.71  43626.49  43185.48   \n",
       "1      1646089200  2022-02-28 23:00:00  BTC/USD  43085.30  43364.81  42892.37   \n",
       "2      1646085600  2022-02-28 22:00:00  BTC/USD  41657.23  44256.08  41650.29   \n",
       "3      1646082000  2022-02-28 21:00:00  BTC/USD  41917.09  41917.09  41542.60   \n",
       "4      1646078400  2022-02-28 20:00:00  BTC/USD  41361.99  41971.00  41284.11   \n",
       "...           ...                  ...      ...       ...       ...       ...   \n",
       "33254  1526378400  2018-05-15 10:00:00  BTC/USD   8708.32   8865.00   8695.11   \n",
       "33255  1526374800  2018-05-15 09:00:00  BTC/USD   8728.49   8754.40   8701.35   \n",
       "33256  1526371200  2018-05-15 08:00:00  BTC/USD   8739.00   8750.27   8660.53   \n",
       "33257  1526367600  2018-05-15 07:00:00  BTC/USD   8740.99   8766.00   8721.11   \n",
       "33258  1526364000  2018-05-15 06:00:00  BTC/USD   8733.86   8796.68   8707.28   \n",
       "\n",
       "          close    Volume BTC    Volume USD  \n",
       "0      43312.27  5.205632e+01  2.254677e+06  \n",
       "1      43178.98  1.068161e+02  4.612210e+06  \n",
       "2      42907.32  5.275406e+02  2.263535e+07  \n",
       "3      41659.53  6.975168e+01  2.905822e+06  \n",
       "4      41914.97  2.471517e+02  1.035935e+07  \n",
       "...         ...           ...           ...  \n",
       "33254   8795.90  1.110127e+07  1.260690e+03  \n",
       "33255   8708.32  1.593992e+06  1.826200e+02  \n",
       "33256   8728.49  7.986063e+06  9.177900e+02  \n",
       "33257   8739.00  2.390399e+06  2.735800e+02  \n",
       "33258   8740.99  4.906603e+06  5.599300e+02  \n",
       "\n",
       "[33259 rows x 9 columns]"
      ]
     },
     "execution_count": 51,
     "metadata": {},
     "output_type": "execute_result"
    }
   ],
   "source": [
    "crypto_price_hourly_2018_2022"
   ]
  },
  {
   "attachments": {},
   "cell_type": "markdown",
   "metadata": {},
   "source": [
    "### Preprocess dataset"
   ]
  },
  {
   "cell_type": "code",
   "execution_count": 89,
   "metadata": {},
   "outputs": [],
   "source": [
    "# df = df.drop(['symbol'],axis=1)"
   ]
  },
  {
   "cell_type": "code",
   "execution_count": 16,
   "metadata": {},
   "outputs": [
    {
     "data": {
      "text/plain": [
       "Index(['Open', 'High', 'Low', 'Close', 'Adj Close', 'Volume'], dtype='object')"
      ]
     },
     "execution_count": 16,
     "metadata": {},
     "output_type": "execute_result"
    }
   ],
   "source": [
    "df.keys()"
   ]
  },
  {
   "cell_type": "code",
   "execution_count": 133,
   "metadata": {},
   "outputs": [
    {
     "name": "stdout",
     "output_type": "stream",
     "text": [
      "<class 'pandas.core.frame.DataFrame'>\n",
      "RangeIndex: 2921 entries, 0 to 2920\n",
      "Data columns (total 6 columns):\n",
      " #   Column     Non-Null Count  Dtype  \n",
      "---  ------     --------------  -----  \n",
      " 0   Open       2921 non-null   float64\n",
      " 1   High       2921 non-null   float64\n",
      " 2   Low        2921 non-null   float64\n",
      " 3   Close      2921 non-null   float64\n",
      " 4   Adj Close  2921 non-null   float64\n",
      " 5   Volume     2921 non-null   int64  \n",
      "dtypes: float64(5), int64(1)\n",
      "memory usage: 137.0 KB\n"
     ]
    }
   ],
   "source": [
    "df.info()"
   ]
  },
  {
   "cell_type": "code",
   "execution_count": 57,
   "metadata": {},
   "outputs": [],
   "source": [
    "import datetime"
   ]
  },
  {
   "cell_type": "code",
   "execution_count": 77,
   "metadata": {},
   "outputs": [],
   "source": [
    "date_time = pd.to_datetime(crypto_price_hourly_2018_2022.pop('date'), format='%Y-%m-%d %H:%M:%S')"
   ]
  },
  {
   "cell_type": "code",
   "execution_count": 78,
   "metadata": {},
   "outputs": [
    {
     "data": {
      "text/plain": [
       "0       2022-03-01 00:00:00\n",
       "1       2022-02-28 23:00:00\n",
       "2       2022-02-28 22:00:00\n",
       "3       2022-02-28 21:00:00\n",
       "4       2022-02-28 20:00:00\n",
       "                ...        \n",
       "33254   2018-05-15 10:00:00\n",
       "33255   2018-05-15 09:00:00\n",
       "33256   2018-05-15 08:00:00\n",
       "33257   2018-05-15 07:00:00\n",
       "33258   2018-05-15 06:00:00\n",
       "Name: date, Length: 33259, dtype: datetime64[ns]"
      ]
     },
     "execution_count": 78,
     "metadata": {},
     "output_type": "execute_result"
    }
   ],
   "source": [
    "date_time"
   ]
  },
  {
   "cell_type": "code",
   "execution_count": 79,
   "metadata": {},
   "outputs": [],
   "source": [
    "timestamp_s = date_time.map(datetime.datetime.timestamp)"
   ]
  },
  {
   "cell_type": "code",
   "execution_count": 80,
   "metadata": {},
   "outputs": [],
   "source": [
    "day = 24 * 60 * 60\n",
    "year = (365.2425) * day"
   ]
  },
  {
   "cell_type": "code",
   "execution_count": 82,
   "metadata": {},
   "outputs": [],
   "source": [
    "df['Day sin'] = np.sin(timestamp_s * (2 * np.pi / day))\n",
    "df['Day cos'] = np.cos(timestamp_s * (2 * np.pi / day))\n",
    "df['Year sin'] = np.sin(timestamp_s * (2 * np.pi / year))\n",
    "df['Year cos'] = np.cos(timestamp_s * (2 * np.pi / year))"
   ]
  },
  {
   "cell_type": "code",
   "execution_count": 17,
   "metadata": {},
   "outputs": [
    {
     "data": {
      "text/plain": [
       "{'Open': 0, 'High': 1, 'Low': 2, 'Close': 3, 'Adj Close': 4, 'Volume': 5}"
      ]
     },
     "execution_count": 17,
     "metadata": {},
     "output_type": "execute_result"
    }
   ],
   "source": [
    "column_indices = {name: i for i, name in enumerate(df.columns)}\n",
    "\n",
    "column_indices"
   ]
  },
  {
   "cell_type": "code",
   "execution_count": 18,
   "metadata": {},
   "outputs": [
    {
     "data": {
      "text/plain": [
       "2921"
      ]
     },
     "execution_count": 18,
     "metadata": {},
     "output_type": "execute_result"
    }
   ],
   "source": [
    "n = len(df)\n",
    "n"
   ]
  },
  {
   "cell_type": "code",
   "execution_count": 126,
   "metadata": {},
   "outputs": [],
   "source": [
    "train_df = df[0:int(n*0.7)]\n",
    "val_df = df[int(n*0.7):int(n*0.9)]\n",
    "test_df = df[int(n*0.9):]"
   ]
  },
  {
   "cell_type": "code",
   "execution_count": 20,
   "metadata": {},
   "outputs": [
    {
     "data": {
      "text/plain": [
       "6"
      ]
     },
     "execution_count": 20,
     "metadata": {},
     "output_type": "execute_result"
    }
   ],
   "source": [
    "num_features = df.shape[1]\n",
    "\n",
    "num_features"
   ]
  },
  {
   "cell_type": "code",
   "execution_count": 21,
   "metadata": {},
   "outputs": [],
   "source": [
    "train_mean = train_df.mean()\n",
    "train_std = train_df.std()"
   ]
  },
  {
   "cell_type": "code",
   "execution_count": 131,
   "metadata": {},
   "outputs": [],
   "source": [
    "train_df = (train_df - train_mean) / train_std\n",
    "val_df = (val_df - train_mean) / train_std\n",
    "test_df = (test_df - train_mean) / train_std"
   ]
  },
  {
   "cell_type": "code",
   "execution_count": 132,
   "metadata": {},
   "outputs": [
    {
     "data": {
      "text/html": [
       "<div>\n",
       "<style scoped>\n",
       "    .dataframe tbody tr th:only-of-type {\n",
       "        vertical-align: middle;\n",
       "    }\n",
       "\n",
       "    .dataframe tbody tr th {\n",
       "        vertical-align: top;\n",
       "    }\n",
       "\n",
       "    .dataframe thead th {\n",
       "        text-align: right;\n",
       "    }\n",
       "</style>\n",
       "<table border=\"1\" class=\"dataframe\">\n",
       "  <thead>\n",
       "    <tr style=\"text-align: right;\">\n",
       "      <th></th>\n",
       "      <th>Open</th>\n",
       "      <th>High</th>\n",
       "      <th>Low</th>\n",
       "      <th>Close</th>\n",
       "      <th>Adj Close</th>\n",
       "      <th>Volume</th>\n",
       "    </tr>\n",
       "  </thead>\n",
       "  <tbody>\n",
       "    <tr>\n",
       "      <th>2044</th>\n",
       "      <td>1.795365</td>\n",
       "      <td>1.751293</td>\n",
       "      <td>1.852938</td>\n",
       "      <td>1.800418</td>\n",
       "      <td>1.800418</td>\n",
       "      <td>1.326491</td>\n",
       "    </tr>\n",
       "    <tr>\n",
       "      <th>2045</th>\n",
       "      <td>1.802514</td>\n",
       "      <td>1.750266</td>\n",
       "      <td>1.804418</td>\n",
       "      <td>1.756527</td>\n",
       "      <td>1.756527</td>\n",
       "      <td>1.303410</td>\n",
       "    </tr>\n",
       "    <tr>\n",
       "      <th>2046</th>\n",
       "      <td>1.759575</td>\n",
       "      <td>1.726847</td>\n",
       "      <td>1.842658</td>\n",
       "      <td>1.794085</td>\n",
       "      <td>1.794085</td>\n",
       "      <td>0.825305</td>\n",
       "    </tr>\n",
       "    <tr>\n",
       "      <th>2047</th>\n",
       "      <td>1.792275</td>\n",
       "      <td>1.728279</td>\n",
       "      <td>1.840196</td>\n",
       "      <td>1.774809</td>\n",
       "      <td>1.774809</td>\n",
       "      <td>0.818216</td>\n",
       "    </tr>\n",
       "    <tr>\n",
       "      <th>2048</th>\n",
       "      <td>1.773787</td>\n",
       "      <td>1.785428</td>\n",
       "      <td>1.869155</td>\n",
       "      <td>1.824625</td>\n",
       "      <td>1.824625</td>\n",
       "      <td>1.559804</td>\n",
       "    </tr>\n",
       "    <tr>\n",
       "      <th>...</th>\n",
       "      <td>...</td>\n",
       "      <td>...</td>\n",
       "      <td>...</td>\n",
       "      <td>...</td>\n",
       "      <td>...</td>\n",
       "      <td>...</td>\n",
       "    </tr>\n",
       "    <tr>\n",
       "      <th>2623</th>\n",
       "      <td>8.275342</td>\n",
       "      <td>8.301251</td>\n",
       "      <td>8.579937</td>\n",
       "      <td>8.436314</td>\n",
       "      <td>8.436314</td>\n",
       "      <td>1.530781</td>\n",
       "    </tr>\n",
       "    <tr>\n",
       "      <th>2624</th>\n",
       "      <td>8.443539</td>\n",
       "      <td>9.056883</td>\n",
       "      <td>8.771015</td>\n",
       "      <td>9.235269</td>\n",
       "      <td>9.235269</td>\n",
       "      <td>2.090339</td>\n",
       "    </tr>\n",
       "    <tr>\n",
       "      <th>2625</th>\n",
       "      <td>9.239375</td>\n",
       "      <td>8.946703</td>\n",
       "      <td>8.803388</td>\n",
       "      <td>8.608674</td>\n",
       "      <td>8.608674</td>\n",
       "      <td>1.986635</td>\n",
       "    </tr>\n",
       "    <tr>\n",
       "      <th>2626</th>\n",
       "      <td>8.615243</td>\n",
       "      <td>8.487035</td>\n",
       "      <td>8.679481</td>\n",
       "      <td>8.450518</td>\n",
       "      <td>8.450518</td>\n",
       "      <td>1.581367</td>\n",
       "    </tr>\n",
       "    <tr>\n",
       "      <th>2627</th>\n",
       "      <td>8.456260</td>\n",
       "      <td>8.302244</td>\n",
       "      <td>8.787972</td>\n",
       "      <td>8.477360</td>\n",
       "      <td>8.477360</td>\n",
       "      <td>0.571164</td>\n",
       "    </tr>\n",
       "  </tbody>\n",
       "</table>\n",
       "<p>584 rows × 6 columns</p>\n",
       "</div>"
      ],
      "text/plain": [
       "          Open      High       Low     Close  Adj Close    Volume\n",
       "2044  1.795365  1.751293  1.852938  1.800418   1.800418  1.326491\n",
       "2045  1.802514  1.750266  1.804418  1.756527   1.756527  1.303410\n",
       "2046  1.759575  1.726847  1.842658  1.794085   1.794085  0.825305\n",
       "2047  1.792275  1.728279  1.840196  1.774809   1.774809  0.818216\n",
       "2048  1.773787  1.785428  1.869155  1.824625   1.824625  1.559804\n",
       "...        ...       ...       ...       ...        ...       ...\n",
       "2623  8.275342  8.301251  8.579937  8.436314   8.436314  1.530781\n",
       "2624  8.443539  9.056883  8.771015  9.235269   9.235269  2.090339\n",
       "2625  9.239375  8.946703  8.803388  8.608674   8.608674  1.986635\n",
       "2626  8.615243  8.487035  8.679481  8.450518   8.450518  1.581367\n",
       "2627  8.456260  8.302244  8.787972  8.477360   8.477360  0.571164\n",
       "\n",
       "[584 rows x 6 columns]"
      ]
     },
     "execution_count": 132,
     "metadata": {},
     "output_type": "execute_result"
    }
   ],
   "source": [
    "val_df"
   ]
  },
  {
   "cell_type": "code",
   "execution_count": 81,
   "metadata": {},
   "outputs": [],
   "source": [
    "from numpy import array"
   ]
  },
  {
   "cell_type": "code",
   "execution_count": 120,
   "metadata": {},
   "outputs": [],
   "source": [
    "def get_train():\n",
    " seq = [[0.0, 0.1], [0.1, 0.2], [0.2, 0.3], [0.3, 0.4], [0.4, 0.5]]\n",
    " seq = array(seq)\n",
    " X, y = seq[:, 0], seq[:, 1]\n",
    " X = X.reshape((5, 1, 1))\n",
    " return X, y\n",
    " \n",
    "# return validation data\n",
    "def get_val():\n",
    " seq = [[0.5, 0.6], [0.6, 0.7], [0.7, 0.8], [0.8, 0.9], [0.9, 1.0]]\n",
    " seq = array(seq)\n",
    " X, y = seq[:, 0], seq[:, 1]\n",
    " X = X.reshape((len(X), 1, 1))\n",
    " return X, y"
   ]
  },
  {
   "cell_type": "code",
   "execution_count": 121,
   "metadata": {},
   "outputs": [],
   "source": [
    "X,y = get_train()"
   ]
  },
  {
   "cell_type": "code",
   "execution_count": 134,
   "metadata": {},
   "outputs": [
    {
     "data": {
      "text/plain": [
       "array([0.1, 0.2, 0.3, 0.4, 0.5])"
      ]
     },
     "execution_count": 134,
     "metadata": {},
     "output_type": "execute_result"
    }
   ],
   "source": [
    "y"
   ]
  },
  {
   "cell_type": "code",
   "execution_count": 123,
   "metadata": {},
   "outputs": [
    {
     "data": {
      "text/plain": [
       "(5,)"
      ]
     },
     "execution_count": 123,
     "metadata": {},
     "output_type": "execute_result"
    }
   ],
   "source": [
    "y.shape"
   ]
  },
  {
   "cell_type": "code",
   "execution_count": 97,
   "metadata": {},
   "outputs": [],
   "source": [
    "def get_timeseries(df):\n",
    "    seq = df.values\n",
    "    seq = array(seq)\n",
    "    X, y = seq[:, 0], seq[:, 1]\n",
    "    X = X.reshape((len(X), 1, 1))\n",
    "    return X, y\n"
   ]
  },
  {
   "cell_type": "code",
   "execution_count": 111,
   "metadata": {},
   "outputs": [],
   "source": [
    "X_train,X_test = get_timeseries(train_df)\n",
    "valX,valY = get_timeseries(val_df)"
   ]
  },
  {
   "cell_type": "code",
   "execution_count": 101,
   "metadata": {},
   "outputs": [
    {
     "data": {
      "text/plain": [
       "array([[[-1.01962494]],\n",
       "\n",
       "       [[-1.02119037]],\n",
       "\n",
       "       [[-1.02100147]],\n",
       "\n",
       "       ...,\n",
       "\n",
       "       [[ 1.62145728]],\n",
       "\n",
       "       [[ 1.6713155 ]],\n",
       "\n",
       "       [[ 1.66087763]]])"
      ]
     },
     "execution_count": 101,
     "metadata": {},
     "output_type": "execute_result"
    }
   ],
   "source": [
    "X"
   ]
  },
  {
   "cell_type": "code",
   "execution_count": 102,
   "metadata": {},
   "outputs": [
    {
     "data": {
      "text/plain": [
       "array([[[-1.01962494]],\n",
       "\n",
       "       [[-1.02119037]],\n",
       "\n",
       "       [[-1.02100147]],\n",
       "\n",
       "       ...,\n",
       "\n",
       "       [[ 1.62145728]],\n",
       "\n",
       "       [[ 1.6713155 ]],\n",
       "\n",
       "       [[ 1.66087763]]])"
      ]
     },
     "execution_count": 102,
     "metadata": {},
     "output_type": "execute_result"
    }
   ],
   "source": [
    "valX"
   ]
  },
  {
   "cell_type": "code",
   "execution_count": 103,
   "metadata": {},
   "outputs": [],
   "source": [
    "from keras.models import Sequential\n",
    "from keras.layers import Dense\n",
    "from keras.layers import LSTM\n",
    "from matplotlib import pyplot\n",
    "from numpy import array"
   ]
  },
  {
   "cell_type": "code",
   "execution_count": 119,
   "metadata": {},
   "outputs": [
    {
     "name": "stdout",
     "output_type": "stream",
     "text": [
      "Epoch 1/300\n",
      "64/64 [==============================] - 3s 10ms/step - loss: 0.8612 - val_loss: 69.6866\n",
      "Epoch 2/300\n",
      "64/64 [==============================] - 0s 2ms/step - loss: 0.2943 - val_loss: 52.8307\n",
      "Epoch 3/300\n",
      "64/64 [==============================] - 0s 2ms/step - loss: 0.0211 - val_loss: 44.2653\n",
      "Epoch 4/300\n",
      "64/64 [==============================] - 0s 2ms/step - loss: 0.0172 - val_loss: 39.7804\n",
      "Epoch 5/300\n",
      "64/64 [==============================] - 0s 2ms/step - loss: 0.0138 - val_loss: 36.5191\n",
      "Epoch 6/300\n",
      "64/64 [==============================] - 0s 2ms/step - loss: 0.0128 - val_loss: 34.0790\n",
      "Epoch 7/300\n",
      "64/64 [==============================] - 0s 3ms/step - loss: 0.0124 - val_loss: 32.3295\n",
      "Epoch 8/300\n",
      "64/64 [==============================] - 0s 2ms/step - loss: 0.0125 - val_loss: 31.0682\n",
      "Epoch 9/300\n",
      "64/64 [==============================] - 0s 2ms/step - loss: 0.0127 - val_loss: 30.1345\n",
      "Epoch 10/300\n",
      "64/64 [==============================] - 0s 3ms/step - loss: 0.0129 - val_loss: 29.4090\n",
      "Epoch 11/300\n",
      "64/64 [==============================] - 0s 2ms/step - loss: 0.0130 - val_loss: 28.8102\n",
      "Epoch 12/300\n",
      "64/64 [==============================] - 0s 2ms/step - loss: 0.0132 - val_loss: 28.2862\n",
      "Epoch 13/300\n",
      "64/64 [==============================] - 0s 2ms/step - loss: 0.0133 - val_loss: 27.8051\n",
      "Epoch 14/300\n",
      "64/64 [==============================] - 0s 2ms/step - loss: 0.0134 - val_loss: 27.3484\n",
      "Epoch 15/300\n",
      "64/64 [==============================] - 0s 2ms/step - loss: 0.0135 - val_loss: 26.9058\n",
      "Epoch 16/300\n",
      "64/64 [==============================] - 0s 2ms/step - loss: 0.0135 - val_loss: 26.4715\n",
      "Epoch 17/300\n",
      "64/64 [==============================] - 0s 2ms/step - loss: 0.0135 - val_loss: 26.0424\n",
      "Epoch 18/300\n",
      "64/64 [==============================] - 0s 3ms/step - loss: 0.0134 - val_loss: 25.6171\n",
      "Epoch 19/300\n",
      "64/64 [==============================] - 0s 3ms/step - loss: 0.0134 - val_loss: 25.1946\n",
      "Epoch 20/300\n",
      "64/64 [==============================] - 0s 3ms/step - loss: 0.0133 - val_loss: 24.7747\n",
      "Epoch 21/300\n",
      "64/64 [==============================] - 0s 3ms/step - loss: 0.0132 - val_loss: 24.3571\n",
      "Epoch 22/300\n",
      "64/64 [==============================] - 0s 3ms/step - loss: 0.0131 - val_loss: 23.9418\n",
      "Epoch 23/300\n",
      "64/64 [==============================] - 0s 3ms/step - loss: 0.0130 - val_loss: 23.5288\n",
      "Epoch 24/300\n",
      "64/64 [==============================] - 0s 3ms/step - loss: 0.0129 - val_loss: 23.1182\n",
      "Epoch 25/300\n",
      "64/64 [==============================] - 0s 3ms/step - loss: 0.0127 - val_loss: 22.7100\n",
      "Epoch 26/300\n",
      "64/64 [==============================] - 0s 3ms/step - loss: 0.0126 - val_loss: 22.3045\n",
      "Epoch 27/300\n",
      "64/64 [==============================] - 0s 3ms/step - loss: 0.0124 - val_loss: 21.9018\n",
      "Epoch 28/300\n",
      "64/64 [==============================] - 0s 3ms/step - loss: 0.0122 - val_loss: 21.5021\n",
      "Epoch 29/300\n",
      "64/64 [==============================] - 0s 3ms/step - loss: 0.0121 - val_loss: 21.1056\n",
      "Epoch 30/300\n",
      "64/64 [==============================] - 0s 3ms/step - loss: 0.0119 - val_loss: 20.7127\n",
      "Epoch 31/300\n",
      "64/64 [==============================] - 0s 3ms/step - loss: 0.0117 - val_loss: 20.3235\n",
      "Epoch 32/300\n",
      "64/64 [==============================] - 0s 3ms/step - loss: 0.0115 - val_loss: 19.9386\n",
      "Epoch 33/300\n",
      "64/64 [==============================] - 0s 3ms/step - loss: 0.0113 - val_loss: 19.5582\n",
      "Epoch 34/300\n",
      "64/64 [==============================] - 0s 2ms/step - loss: 0.0110 - val_loss: 19.1828\n",
      "Epoch 35/300\n",
      "64/64 [==============================] - 0s 2ms/step - loss: 0.0108 - val_loss: 18.8128\n",
      "Epoch 36/300\n",
      "64/64 [==============================] - 0s 3ms/step - loss: 0.0106 - val_loss: 18.4486\n",
      "Epoch 37/300\n",
      "64/64 [==============================] - 0s 2ms/step - loss: 0.0103 - val_loss: 18.0909\n",
      "Epoch 38/300\n",
      "64/64 [==============================] - 0s 3ms/step - loss: 0.0101 - val_loss: 17.7400\n",
      "Epoch 39/300\n",
      "64/64 [==============================] - 0s 3ms/step - loss: 0.0098 - val_loss: 17.3966\n",
      "Epoch 40/300\n",
      "64/64 [==============================] - 0s 2ms/step - loss: 0.0096 - val_loss: 17.0611\n",
      "Epoch 41/300\n",
      "64/64 [==============================] - 0s 3ms/step - loss: 0.0093 - val_loss: 16.7341\n",
      "Epoch 42/300\n",
      "64/64 [==============================] - 0s 3ms/step - loss: 0.0090 - val_loss: 16.4163\n",
      "Epoch 43/300\n",
      "64/64 [==============================] - 0s 2ms/step - loss: 0.0087 - val_loss: 16.1081\n",
      "Epoch 44/300\n",
      "64/64 [==============================] - 0s 3ms/step - loss: 0.0084 - val_loss: 15.8101\n",
      "Epoch 45/300\n",
      "64/64 [==============================] - 0s 2ms/step - loss: 0.0081 - val_loss: 15.5230\n",
      "Epoch 46/300\n",
      "64/64 [==============================] - 0s 3ms/step - loss: 0.0078 - val_loss: 15.2472\n",
      "Epoch 47/300\n",
      "64/64 [==============================] - 0s 3ms/step - loss: 0.0075 - val_loss: 14.9834\n",
      "Epoch 48/300\n",
      "64/64 [==============================] - 0s 2ms/step - loss: 0.0072 - val_loss: 14.7319\n",
      "Epoch 49/300\n",
      "64/64 [==============================] - 0s 2ms/step - loss: 0.0069 - val_loss: 14.4934\n",
      "Epoch 50/300\n",
      "64/64 [==============================] - 0s 2ms/step - loss: 0.0066 - val_loss: 14.2684\n",
      "Epoch 51/300\n",
      "64/64 [==============================] - 0s 2ms/step - loss: 0.0063 - val_loss: 14.0571\n",
      "Epoch 52/300\n",
      "64/64 [==============================] - 0s 3ms/step - loss: 0.0060 - val_loss: 13.8599\n",
      "Epoch 53/300\n",
      "64/64 [==============================] - 0s 3ms/step - loss: 0.0057 - val_loss: 13.6772\n",
      "Epoch 54/300\n",
      "64/64 [==============================] - 0s 3ms/step - loss: 0.0054 - val_loss: 13.5090\n",
      "Epoch 55/300\n",
      "64/64 [==============================] - 0s 3ms/step - loss: 0.0052 - val_loss: 13.3554\n",
      "Epoch 56/300\n",
      "64/64 [==============================] - 0s 3ms/step - loss: 0.0049 - val_loss: 13.2163\n",
      "Epoch 57/300\n",
      "64/64 [==============================] - 0s 3ms/step - loss: 0.0047 - val_loss: 13.0913\n",
      "Epoch 58/300\n",
      "64/64 [==============================] - 0s 2ms/step - loss: 0.0044 - val_loss: 12.9798\n",
      "Epoch 59/300\n",
      "64/64 [==============================] - 0s 2ms/step - loss: 0.0042 - val_loss: 12.8812\n",
      "Epoch 60/300\n",
      "64/64 [==============================] - 0s 2ms/step - loss: 0.0041 - val_loss: 12.7944\n",
      "Epoch 61/300\n",
      "64/64 [==============================] - 0s 2ms/step - loss: 0.0039 - val_loss: 12.7185\n",
      "Epoch 62/300\n",
      "64/64 [==============================] - 0s 2ms/step - loss: 0.0038 - val_loss: 12.6523\n",
      "Epoch 63/300\n",
      "64/64 [==============================] - 0s 2ms/step - loss: 0.0036 - val_loss: 12.5948\n",
      "Epoch 64/300\n",
      "64/64 [==============================] - 0s 2ms/step - loss: 0.0035 - val_loss: 12.5449\n",
      "Epoch 65/300\n",
      "64/64 [==============================] - 0s 3ms/step - loss: 0.0034 - val_loss: 12.5016\n",
      "Epoch 66/300\n",
      "64/64 [==============================] - 0s 3ms/step - loss: 0.0034 - val_loss: 12.4643\n",
      "Epoch 67/300\n",
      "64/64 [==============================] - 0s 3ms/step - loss: 0.0033 - val_loss: 12.4322\n",
      "Epoch 68/300\n",
      "64/64 [==============================] - 0s 2ms/step - loss: 0.0032 - val_loss: 12.4047\n",
      "Epoch 69/300\n",
      "64/64 [==============================] - 0s 3ms/step - loss: 0.0032 - val_loss: 12.3814\n",
      "Epoch 70/300\n",
      "64/64 [==============================] - 0s 2ms/step - loss: 0.0031 - val_loss: 12.3617\n",
      "Epoch 71/300\n",
      "64/64 [==============================] - 0s 3ms/step - loss: 0.0031 - val_loss: 12.3452\n",
      "Epoch 72/300\n",
      "64/64 [==============================] - 0s 3ms/step - loss: 0.0031 - val_loss: 12.3314\n",
      "Epoch 73/300\n",
      "64/64 [==============================] - 0s 2ms/step - loss: 0.0030 - val_loss: 12.3200\n",
      "Epoch 74/300\n",
      "64/64 [==============================] - 0s 2ms/step - loss: 0.0030 - val_loss: 12.3103\n",
      "Epoch 75/300\n",
      "64/64 [==============================] - 0s 2ms/step - loss: 0.0030 - val_loss: 12.3021\n",
      "Epoch 76/300\n",
      "64/64 [==============================] - 0s 2ms/step - loss: 0.0029 - val_loss: 12.2948\n",
      "Epoch 77/300\n",
      "64/64 [==============================] - 0s 2ms/step - loss: 0.0029 - val_loss: 12.2879\n",
      "Epoch 78/300\n",
      "64/64 [==============================] - 0s 3ms/step - loss: 0.0029 - val_loss: 12.2811\n",
      "Epoch 79/300\n",
      "64/64 [==============================] - 0s 2ms/step - loss: 0.0029 - val_loss: 12.2738\n",
      "Epoch 80/300\n",
      "64/64 [==============================] - 0s 3ms/step - loss: 0.0029 - val_loss: 12.2656\n",
      "Epoch 81/300\n",
      "64/64 [==============================] - 0s 2ms/step - loss: 0.0029 - val_loss: 12.2562\n",
      "Epoch 82/300\n",
      "64/64 [==============================] - 0s 3ms/step - loss: 0.0028 - val_loss: 12.2453\n",
      "Epoch 83/300\n",
      "64/64 [==============================] - 0s 2ms/step - loss: 0.0028 - val_loss: 12.2324\n",
      "Epoch 84/300\n",
      "64/64 [==============================] - 0s 2ms/step - loss: 0.0028 - val_loss: 12.2175\n",
      "Epoch 85/300\n",
      "64/64 [==============================] - 0s 2ms/step - loss: 0.0028 - val_loss: 12.2003\n",
      "Epoch 86/300\n",
      "64/64 [==============================] - 0s 3ms/step - loss: 0.0028 - val_loss: 12.1808\n",
      "Epoch 87/300\n",
      "64/64 [==============================] - 0s 3ms/step - loss: 0.0028 - val_loss: 12.1591\n",
      "Epoch 88/300\n",
      "64/64 [==============================] - 0s 3ms/step - loss: 0.0028 - val_loss: 12.1349\n",
      "Epoch 89/300\n",
      "64/64 [==============================] - 0s 3ms/step - loss: 0.0028 - val_loss: 12.1093\n",
      "Epoch 90/300\n",
      "64/64 [==============================] - 0s 3ms/step - loss: 0.0028 - val_loss: 12.0803\n",
      "Epoch 91/300\n",
      "64/64 [==============================] - 0s 2ms/step - loss: 0.0028 - val_loss: 12.0532\n",
      "Epoch 92/300\n",
      "64/64 [==============================] - 0s 3ms/step - loss: 0.0028 - val_loss: 12.0171\n",
      "Epoch 93/300\n",
      "64/64 [==============================] - 0s 2ms/step - loss: 0.0028 - val_loss: 11.9977\n",
      "Epoch 94/300\n",
      "64/64 [==============================] - 0s 3ms/step - loss: 0.0028 - val_loss: 11.9385\n",
      "Epoch 95/300\n",
      "64/64 [==============================] - 0s 2ms/step - loss: 0.0028 - val_loss: 11.9689\n",
      "Epoch 96/300\n",
      "64/64 [==============================] - 0s 2ms/step - loss: 0.0028 - val_loss: 11.7982\n",
      "Epoch 97/300\n",
      "64/64 [==============================] - 0s 3ms/step - loss: 0.0027 - val_loss: 12.0949\n",
      "Epoch 98/300\n",
      "64/64 [==============================] - 0s 3ms/step - loss: 0.0032 - val_loss: 11.3770\n",
      "Epoch 99/300\n",
      "64/64 [==============================] - 0s 3ms/step - loss: 0.0031 - val_loss: 13.1082\n",
      "Epoch 100/300\n",
      "64/64 [==============================] - 0s 3ms/step - loss: 0.0071 - val_loss: 10.5089\n",
      "Epoch 101/300\n",
      "64/64 [==============================] - 0s 3ms/step - loss: 0.0127 - val_loss: 16.3563\n",
      "Epoch 102/300\n",
      "64/64 [==============================] - 0s 3ms/step - loss: 0.0117 - val_loss: 12.9350\n",
      "Epoch 103/300\n",
      "64/64 [==============================] - 0s 3ms/step - loss: 0.0035 - val_loss: 13.4876\n",
      "Epoch 104/300\n",
      "64/64 [==============================] - 0s 3ms/step - loss: 0.0033 - val_loss: 12.7815\n",
      "Epoch 105/300\n",
      "64/64 [==============================] - 0s 3ms/step - loss: 0.0025 - val_loss: 13.0403\n",
      "Epoch 106/300\n",
      "64/64 [==============================] - 0s 3ms/step - loss: 0.0029 - val_loss: 12.7985\n",
      "Epoch 107/300\n",
      "64/64 [==============================] - 0s 3ms/step - loss: 0.0025 - val_loss: 12.9869\n",
      "Epoch 108/300\n",
      "64/64 [==============================] - 0s 3ms/step - loss: 0.0028 - val_loss: 12.8026\n",
      "Epoch 109/300\n",
      "64/64 [==============================] - 0s 3ms/step - loss: 0.0025 - val_loss: 12.9927\n",
      "Epoch 110/300\n",
      "64/64 [==============================] - 0s 2ms/step - loss: 0.0028 - val_loss: 12.7640\n",
      "Epoch 111/300\n",
      "64/64 [==============================] - 0s 3ms/step - loss: 0.0025 - val_loss: 13.0446\n",
      "Epoch 112/300\n",
      "64/64 [==============================] - 0s 3ms/step - loss: 0.0029 - val_loss: 12.6585\n",
      "Epoch 113/300\n",
      "64/64 [==============================] - 0s 2ms/step - loss: 0.0026 - val_loss: 13.2231\n",
      "Epoch 114/300\n",
      "64/64 [==============================] - 0s 2ms/step - loss: 0.0034 - val_loss: 12.4270\n",
      "Epoch 115/300\n",
      "64/64 [==============================] - 0s 3ms/step - loss: 0.0031 - val_loss: 13.7978\n",
      "Epoch 116/300\n",
      "64/64 [==============================] - 0s 3ms/step - loss: 0.0055 - val_loss: 12.1673\n",
      "Epoch 117/300\n",
      "64/64 [==============================] - 0s 3ms/step - loss: 0.0054 - val_loss: 14.9149\n",
      "Epoch 118/300\n",
      "64/64 [==============================] - 0s 2ms/step - loss: 0.0077 - val_loss: 12.7182\n",
      "Epoch 119/300\n",
      "64/64 [==============================] - 0s 3ms/step - loss: 0.0041 - val_loss: 14.4459\n",
      "Epoch 120/300\n",
      "64/64 [==============================] - 0s 2ms/step - loss: 0.0046 - val_loss: 13.1443\n",
      "Epoch 121/300\n",
      "64/64 [==============================] - 0s 2ms/step - loss: 0.0026 - val_loss: 13.8275\n",
      "Epoch 122/300\n",
      "64/64 [==============================] - 0s 3ms/step - loss: 0.0033 - val_loss: 13.2112\n",
      "Epoch 123/300\n",
      "64/64 [==============================] - 0s 2ms/step - loss: 0.0025 - val_loss: 13.7068\n",
      "Epoch 124/300\n",
      "64/64 [==============================] - 0s 2ms/step - loss: 0.0031 - val_loss: 13.2060\n",
      "Epoch 125/300\n",
      "64/64 [==============================] - 0s 2ms/step - loss: 0.0025 - val_loss: 13.7236\n",
      "Epoch 126/300\n",
      "64/64 [==============================] - 0s 2ms/step - loss: 0.0031 - val_loss: 13.1311\n",
      "Epoch 127/300\n",
      "64/64 [==============================] - 0s 2ms/step - loss: 0.0026 - val_loss: 13.8707\n",
      "Epoch 128/300\n",
      "64/64 [==============================] - 0s 2ms/step - loss: 0.0035 - val_loss: 12.9830\n",
      "Epoch 129/300\n",
      "64/64 [==============================] - 0s 2ms/step - loss: 0.0030 - val_loss: 14.2618\n",
      "Epoch 130/300\n",
      "64/64 [==============================] - 0s 3ms/step - loss: 0.0047 - val_loss: 12.8472\n",
      "Epoch 131/300\n",
      "64/64 [==============================] - 0s 2ms/step - loss: 0.0040 - val_loss: 14.8830\n",
      "Epoch 132/300\n",
      "64/64 [==============================] - 0s 2ms/step - loss: 0.0060 - val_loss: 13.0633\n",
      "Epoch 133/300\n",
      "64/64 [==============================] - 0s 2ms/step - loss: 0.0040 - val_loss: 14.8995\n",
      "Epoch 134/300\n",
      "64/64 [==============================] - 0s 2ms/step - loss: 0.0049 - val_loss: 13.4365\n",
      "Epoch 135/300\n",
      "64/64 [==============================] - 0s 2ms/step - loss: 0.0029 - val_loss: 14.4717\n",
      "Epoch 136/300\n",
      "64/64 [==============================] - 0s 2ms/step - loss: 0.0037 - val_loss: 13.5760\n",
      "Epoch 137/300\n",
      "64/64 [==============================] - 0s 2ms/step - loss: 0.0026 - val_loss: 14.3304\n",
      "Epoch 138/300\n",
      "64/64 [==============================] - 0s 2ms/step - loss: 0.0033 - val_loss: 13.5930\n",
      "Epoch 139/300\n",
      "64/64 [==============================] - 0s 3ms/step - loss: 0.0026 - val_loss: 14.3554\n",
      "Epoch 140/300\n",
      "64/64 [==============================] - 0s 2ms/step - loss: 0.0034 - val_loss: 13.5398\n",
      "Epoch 141/300\n",
      "64/64 [==============================] - 0s 2ms/step - loss: 0.0027 - val_loss: 14.5270\n",
      "Epoch 142/300\n",
      "64/64 [==============================] - 0s 2ms/step - loss: 0.0038 - val_loss: 13.4475\n",
      "Epoch 143/300\n",
      "64/64 [==============================] - 0s 3ms/step - loss: 0.0031 - val_loss: 14.8822\n",
      "Epoch 144/300\n",
      "64/64 [==============================] - 0s 2ms/step - loss: 0.0047 - val_loss: 13.4255\n",
      "Epoch 145/300\n",
      "64/64 [==============================] - 0s 2ms/step - loss: 0.0037 - val_loss: 15.2580\n",
      "Epoch 146/300\n",
      "64/64 [==============================] - 0s 2ms/step - loss: 0.0051 - val_loss: 13.6284\n",
      "Epoch 147/300\n",
      "64/64 [==============================] - 0s 3ms/step - loss: 0.0034 - val_loss: 15.2180\n",
      "Epoch 148/300\n",
      "64/64 [==============================] - 0s 3ms/step - loss: 0.0044 - val_loss: 13.8807\n",
      "Epoch 149/300\n",
      "64/64 [==============================] - 0s 2ms/step - loss: 0.0029 - val_loss: 15.0018\n",
      "Epoch 150/300\n",
      "64/64 [==============================] - 0s 2ms/step - loss: 0.0037 - val_loss: 14.0019\n",
      "Epoch 151/300\n",
      "64/64 [==============================] - 0s 2ms/step - loss: 0.0027 - val_loss: 14.9346\n",
      "Epoch 152/300\n",
      "64/64 [==============================] - 0s 2ms/step - loss: 0.0035 - val_loss: 14.0236\n",
      "Epoch 153/300\n",
      "64/64 [==============================] - 0s 3ms/step - loss: 0.0027 - val_loss: 15.0053\n",
      "Epoch 154/300\n",
      "64/64 [==============================] - 0s 2ms/step - loss: 0.0036 - val_loss: 13.9921\n",
      "Epoch 155/300\n",
      "64/64 [==============================] - 0s 2ms/step - loss: 0.0029 - val_loss: 15.2107\n",
      "Epoch 156/300\n",
      "64/64 [==============================] - 0s 2ms/step - loss: 0.0041 - val_loss: 13.9603\n",
      "Epoch 157/300\n",
      "64/64 [==============================] - 0s 2ms/step - loss: 0.0032 - val_loss: 15.5159\n",
      "Epoch 158/300\n",
      "64/64 [==============================] - 0s 2ms/step - loss: 0.0046 - val_loss: 14.0260\n",
      "Epoch 159/300\n",
      "64/64 [==============================] - 0s 2ms/step - loss: 0.0034 - val_loss: 15.7124\n",
      "Epoch 160/300\n",
      "64/64 [==============================] - 0s 3ms/step - loss: 0.0046 - val_loss: 14.2114\n",
      "Epoch 161/300\n",
      "64/64 [==============================] - 0s 2ms/step - loss: 0.0032 - val_loss: 15.7062\n",
      "Epoch 162/300\n",
      "64/64 [==============================] - 0s 2ms/step - loss: 0.0042 - val_loss: 14.3896\n",
      "Epoch 163/300\n",
      "64/64 [==============================] - 0s 2ms/step - loss: 0.0029 - val_loss: 15.5775\n",
      "Epoch 164/300\n",
      "64/64 [==============================] - 0s 2ms/step - loss: 0.0037 - val_loss: 14.4999\n",
      "Epoch 165/300\n",
      "64/64 [==============================] - 0s 2ms/step - loss: 0.0027 - val_loss: 15.5448\n",
      "Epoch 166/300\n",
      "64/64 [==============================] - 0s 3ms/step - loss: 0.0036 - val_loss: 14.5278\n",
      "Epoch 167/300\n",
      "64/64 [==============================] - 0s 2ms/step - loss: 0.0027 - val_loss: 15.6344\n",
      "Epoch 168/300\n",
      "64/64 [==============================] - 0s 3ms/step - loss: 0.0037 - val_loss: 14.5160\n",
      "Epoch 169/300\n",
      "64/64 [==============================] - 0s 2ms/step - loss: 0.0029 - val_loss: 15.8378\n",
      "Epoch 170/300\n",
      "64/64 [==============================] - 0s 3ms/step - loss: 0.0041 - val_loss: 14.5189\n",
      "Epoch 171/300\n",
      "64/64 [==============================] - 0s 3ms/step - loss: 0.0031 - val_loss: 16.0918\n",
      "Epoch 172/300\n",
      "64/64 [==============================] - 0s 2ms/step - loss: 0.0045 - val_loss: 14.6082\n",
      "Epoch 173/300\n",
      "64/64 [==============================] - 0s 3ms/step - loss: 0.0032 - val_loss: 16.2184\n",
      "Epoch 174/300\n",
      "64/64 [==============================] - 0s 2ms/step - loss: 0.0044 - val_loss: 14.7587\n",
      "Epoch 175/300\n",
      "64/64 [==============================] - 0s 2ms/step - loss: 0.0030 - val_loss: 16.2049\n",
      "Epoch 176/300\n",
      "64/64 [==============================] - 0s 2ms/step - loss: 0.0041 - val_loss: 14.8634\n",
      "Epoch 177/300\n",
      "64/64 [==============================] - 0s 2ms/step - loss: 0.0029 - val_loss: 16.1622\n",
      "Epoch 178/300\n",
      "64/64 [==============================] - 0s 3ms/step - loss: 0.0038 - val_loss: 14.9813\n",
      "Epoch 179/300\n",
      "64/64 [==============================] - 0s 3ms/step - loss: 0.0028 - val_loss: 16.1563\n",
      "Epoch 180/300\n",
      "64/64 [==============================] - 0s 2ms/step - loss: 0.0037 - val_loss: 15.0332\n",
      "Epoch 181/300\n",
      "64/64 [==============================] - 0s 3ms/step - loss: 0.0028 - val_loss: 16.2403\n",
      "Epoch 182/300\n",
      "64/64 [==============================] - 0s 2ms/step - loss: 0.0038 - val_loss: 15.0524\n",
      "Epoch 183/300\n",
      "64/64 [==============================] - 0s 2ms/step - loss: 0.0029 - val_loss: 16.4054\n",
      "Epoch 184/300\n",
      "64/64 [==============================] - 0s 2ms/step - loss: 0.0041 - val_loss: 15.0828\n",
      "Epoch 185/300\n",
      "64/64 [==============================] - 0s 2ms/step - loss: 0.0030 - val_loss: 16.5943\n",
      "Epoch 186/300\n",
      "64/64 [==============================] - 0s 2ms/step - loss: 0.0043 - val_loss: 15.1660\n",
      "Epoch 187/300\n",
      "64/64 [==============================] - 0s 2ms/step - loss: 0.0031 - val_loss: 16.7008\n",
      "Epoch 188/300\n",
      "64/64 [==============================] - 0s 2ms/step - loss: 0.0042 - val_loss: 15.2929\n",
      "Epoch 189/300\n",
      "64/64 [==============================] - 0s 2ms/step - loss: 0.0029 - val_loss: 16.6968\n",
      "Epoch 190/300\n",
      "64/64 [==============================] - 0s 3ms/step - loss: 0.0040 - val_loss: 15.4085\n",
      "Epoch 191/300\n",
      "64/64 [==============================] - 0s 2ms/step - loss: 0.0028 - val_loss: 16.6728\n",
      "Epoch 192/300\n",
      "64/64 [==============================] - 0s 2ms/step - loss: 0.0038 - val_loss: 15.4832\n",
      "Epoch 193/300\n",
      "64/64 [==============================] - 0s 2ms/step - loss: 0.0028 - val_loss: 16.6987\n",
      "Epoch 194/300\n",
      "64/64 [==============================] - 0s 3ms/step - loss: 0.0038 - val_loss: 15.5233\n",
      "Epoch 195/300\n",
      "64/64 [==============================] - 0s 3ms/step - loss: 0.0028 - val_loss: 16.7905\n",
      "Epoch 196/300\n",
      "64/64 [==============================] - 0s 3ms/step - loss: 0.0039 - val_loss: 15.5522\n",
      "Epoch 197/300\n",
      "64/64 [==============================] - 0s 3ms/step - loss: 0.0029 - val_loss: 16.9277\n",
      "Epoch 198/300\n",
      "64/64 [==============================] - 0s 2ms/step - loss: 0.0041 - val_loss: 15.5948\n",
      "Epoch 199/300\n",
      "64/64 [==============================] - 0s 2ms/step - loss: 0.0030 - val_loss: 17.0654\n",
      "Epoch 200/300\n",
      "64/64 [==============================] - 0s 3ms/step - loss: 0.0042 - val_loss: 15.6798\n",
      "Epoch 201/300\n",
      "64/64 [==============================] - 0s 2ms/step - loss: 0.0029 - val_loss: 17.1168\n",
      "Epoch 202/300\n",
      "64/64 [==============================] - 0s 3ms/step - loss: 0.0041 - val_loss: 15.7829\n",
      "Epoch 203/300\n",
      "64/64 [==============================] - 0s 2ms/step - loss: 0.0028 - val_loss: 17.1057\n",
      "Epoch 204/300\n",
      "64/64 [==============================] - 0s 2ms/step - loss: 0.0039 - val_loss: 15.8696\n",
      "Epoch 205/300\n",
      "64/64 [==============================] - 0s 2ms/step - loss: 0.0027 - val_loss: 17.1012\n",
      "Epoch 206/300\n",
      "64/64 [==============================] - 0s 3ms/step - loss: 0.0038 - val_loss: 15.9249\n",
      "Epoch 207/300\n",
      "64/64 [==============================] - 0s 3ms/step - loss: 0.0027 - val_loss: 17.1443\n",
      "Epoch 208/300\n",
      "64/64 [==============================] - 0s 2ms/step - loss: 0.0038 - val_loss: 15.9578\n",
      "Epoch 209/300\n",
      "64/64 [==============================] - 0s 3ms/step - loss: 0.0028 - val_loss: 17.2370\n",
      "Epoch 210/300\n",
      "64/64 [==============================] - 0s 2ms/step - loss: 0.0039 - val_loss: 15.9886\n",
      "Epoch 211/300\n",
      "64/64 [==============================] - 0s 2ms/step - loss: 0.0028 - val_loss: 17.3522\n",
      "Epoch 212/300\n",
      "64/64 [==============================] - 0s 2ms/step - loss: 0.0041 - val_loss: 16.0396\n",
      "Epoch 213/300\n",
      "64/64 [==============================] - 0s 2ms/step - loss: 0.0029 - val_loss: 17.4421\n",
      "Epoch 214/300\n",
      "64/64 [==============================] - 0s 2ms/step - loss: 0.0041 - val_loss: 16.1137\n",
      "Epoch 215/300\n",
      "64/64 [==============================] - 0s 2ms/step - loss: 0.0028 - val_loss: 17.4821\n",
      "Epoch 216/300\n",
      "64/64 [==============================] - 0s 3ms/step - loss: 0.0040 - val_loss: 16.1882\n",
      "Epoch 217/300\n",
      "64/64 [==============================] - 0s 3ms/step - loss: 0.0028 - val_loss: 17.4880\n",
      "Epoch 218/300\n",
      "64/64 [==============================] - 0s 2ms/step - loss: 0.0039 - val_loss: 16.2615\n",
      "Epoch 219/300\n",
      "64/64 [==============================] - 0s 3ms/step - loss: 0.0027 - val_loss: 17.4909\n",
      "Epoch 220/300\n",
      "64/64 [==============================] - 0s 2ms/step - loss: 0.0038 - val_loss: 16.3157\n",
      "Epoch 221/300\n",
      "64/64 [==============================] - 0s 2ms/step - loss: 0.0027 - val_loss: 17.5257\n",
      "Epoch 222/300\n",
      "64/64 [==============================] - 0s 2ms/step - loss: 0.0038 - val_loss: 16.3504\n",
      "Epoch 223/300\n",
      "64/64 [==============================] - 0s 3ms/step - loss: 0.0027 - val_loss: 17.5988\n",
      "Epoch 224/300\n",
      "64/64 [==============================] - 0s 2ms/step - loss: 0.0039 - val_loss: 16.3810\n",
      "Epoch 225/300\n",
      "64/64 [==============================] - 0s 2ms/step - loss: 0.0028 - val_loss: 17.6916\n",
      "Epoch 226/300\n",
      "64/64 [==============================] - 0s 2ms/step - loss: 0.0040 - val_loss: 16.4243\n",
      "Epoch 227/300\n",
      "64/64 [==============================] - 0s 3ms/step - loss: 0.0028 - val_loss: 17.7701\n",
      "Epoch 228/300\n",
      "64/64 [==============================] - 0s 3ms/step - loss: 0.0040 - val_loss: 16.4855\n",
      "Epoch 229/300\n",
      "64/64 [==============================] - 0s 3ms/step - loss: 0.0028 - val_loss: 17.8087\n",
      "Epoch 230/300\n",
      "64/64 [==============================] - 0s 3ms/step - loss: 0.0040 - val_loss: 16.5533\n",
      "Epoch 231/300\n",
      "64/64 [==============================] - 0s 5ms/step - loss: 0.0027 - val_loss: 17.8166\n",
      "Epoch 232/300\n",
      "64/64 [==============================] - 0s 4ms/step - loss: 0.0039 - val_loss: 16.6162\n",
      "Epoch 233/300\n",
      "64/64 [==============================] - 0s 3ms/step - loss: 0.0027 - val_loss: 17.8228\n",
      "Epoch 234/300\n",
      "64/64 [==============================] - 0s 3ms/step - loss: 0.0038 - val_loss: 16.6629\n",
      "Epoch 235/300\n",
      "64/64 [==============================] - 0s 3ms/step - loss: 0.0027 - val_loss: 17.8552\n",
      "Epoch 236/300\n",
      "64/64 [==============================] - 0s 3ms/step - loss: 0.0038 - val_loss: 16.6954\n",
      "Epoch 237/300\n",
      "64/64 [==============================] - 0s 3ms/step - loss: 0.0027 - val_loss: 17.9178\n",
      "Epoch 238/300\n",
      "64/64 [==============================] - 0s 3ms/step - loss: 0.0039 - val_loss: 16.7252\n",
      "Epoch 239/300\n",
      "64/64 [==============================] - 0s 3ms/step - loss: 0.0027 - val_loss: 17.9945\n",
      "Epoch 240/300\n",
      "64/64 [==============================] - 0s 3ms/step - loss: 0.0039 - val_loss: 16.7649\n",
      "Epoch 241/300\n",
      "64/64 [==============================] - 0s 2ms/step - loss: 0.0028 - val_loss: 18.0582\n",
      "Epoch 242/300\n",
      "64/64 [==============================] - 0s 2ms/step - loss: 0.0040 - val_loss: 16.8186\n",
      "Epoch 243/300\n",
      "64/64 [==============================] - 0s 2ms/step - loss: 0.0028 - val_loss: 18.0919\n",
      "Epoch 244/300\n",
      "64/64 [==============================] - 0s 3ms/step - loss: 0.0039 - val_loss: 16.8779\n",
      "Epoch 245/300\n",
      "64/64 [==============================] - 0s 2ms/step - loss: 0.0027 - val_loss: 18.1057\n",
      "Epoch 246/300\n",
      "64/64 [==============================] - 0s 2ms/step - loss: 0.0038 - val_loss: 16.9299\n",
      "Epoch 247/300\n",
      "64/64 [==============================] - 0s 2ms/step - loss: 0.0027 - val_loss: 18.1221\n",
      "Epoch 248/300\n",
      "64/64 [==============================] - 0s 2ms/step - loss: 0.0038 - val_loss: 16.9715\n",
      "Epoch 249/300\n",
      "64/64 [==============================] - 0s 2ms/step - loss: 0.0027 - val_loss: 18.1537\n",
      "Epoch 250/300\n",
      "64/64 [==============================] - 0s 3ms/step - loss: 0.0038 - val_loss: 17.0064\n",
      "Epoch 251/300\n",
      "64/64 [==============================] - 0s 3ms/step - loss: 0.0027 - val_loss: 18.2018\n",
      "Epoch 252/300\n",
      "64/64 [==============================] - 0s 3ms/step - loss: 0.0038 - val_loss: 17.0392\n",
      "Epoch 253/300\n",
      "64/64 [==============================] - 0s 3ms/step - loss: 0.0027 - val_loss: 18.2589\n",
      "Epoch 254/300\n",
      "64/64 [==============================] - 0s 2ms/step - loss: 0.0039 - val_loss: 17.0769\n",
      "Epoch 255/300\n",
      "64/64 [==============================] - 0s 2ms/step - loss: 0.0027 - val_loss: 18.3105\n",
      "Epoch 256/300\n",
      "64/64 [==============================] - 0s 3ms/step - loss: 0.0039 - val_loss: 17.1215\n",
      "Epoch 257/300\n",
      "64/64 [==============================] - 0s 3ms/step - loss: 0.0027 - val_loss: 18.3458\n",
      "Epoch 258/300\n",
      "64/64 [==============================] - 0s 2ms/step - loss: 0.0039 - val_loss: 17.1706\n",
      "Epoch 259/300\n",
      "64/64 [==============================] - 0s 2ms/step - loss: 0.0027 - val_loss: 18.3657\n",
      "Epoch 260/300\n",
      "64/64 [==============================] - 0s 2ms/step - loss: 0.0038 - val_loss: 17.2190\n",
      "Epoch 261/300\n",
      "64/64 [==============================] - 0s 2ms/step - loss: 0.0027 - val_loss: 18.3828\n",
      "Epoch 262/300\n",
      "64/64 [==============================] - 0s 2ms/step - loss: 0.0038 - val_loss: 17.2596\n",
      "Epoch 263/300\n",
      "64/64 [==============================] - 0s 2ms/step - loss: 0.0027 - val_loss: 18.4121\n",
      "Epoch 264/300\n",
      "64/64 [==============================] - 0s 2ms/step - loss: 0.0038 - val_loss: 17.2932\n",
      "Epoch 265/300\n",
      "64/64 [==============================] - 0s 2ms/step - loss: 0.0027 - val_loss: 18.4560\n",
      "Epoch 266/300\n",
      "64/64 [==============================] - 0s 2ms/step - loss: 0.0038 - val_loss: 17.3252\n",
      "Epoch 267/300\n",
      "64/64 [==============================] - 0s 2ms/step - loss: 0.0027 - val_loss: 18.5070\n",
      "Epoch 268/300\n",
      "64/64 [==============================] - 0s 2ms/step - loss: 0.0038 - val_loss: 17.3614\n",
      "Epoch 269/300\n",
      "64/64 [==============================] - 0s 3ms/step - loss: 0.0027 - val_loss: 18.5524\n",
      "Epoch 270/300\n",
      "64/64 [==============================] - 0s 2ms/step - loss: 0.0038 - val_loss: 17.4037\n",
      "Epoch 271/300\n",
      "64/64 [==============================] - 0s 3ms/step - loss: 0.0027 - val_loss: 18.5842\n",
      "Epoch 272/300\n",
      "64/64 [==============================] - 0s 3ms/step - loss: 0.0038 - val_loss: 17.4490\n",
      "Epoch 273/300\n",
      "64/64 [==============================] - 0s 2ms/step - loss: 0.0027 - val_loss: 18.6062\n",
      "Epoch 274/300\n",
      "64/64 [==============================] - 0s 2ms/step - loss: 0.0038 - val_loss: 17.4906\n",
      "Epoch 275/300\n",
      "64/64 [==============================] - 0s 2ms/step - loss: 0.0027 - val_loss: 18.6270\n",
      "Epoch 276/300\n",
      "64/64 [==============================] - 0s 2ms/step - loss: 0.0038 - val_loss: 17.5285\n",
      "Epoch 277/300\n",
      "64/64 [==============================] - 0s 2ms/step - loss: 0.0026 - val_loss: 18.6515\n",
      "Epoch 278/300\n",
      "64/64 [==============================] - 0s 2ms/step - loss: 0.0037 - val_loss: 17.5649\n",
      "Epoch 279/300\n",
      "64/64 [==============================] - 0s 3ms/step - loss: 0.0026 - val_loss: 18.6831\n",
      "Epoch 280/300\n",
      "64/64 [==============================] - 0s 3ms/step - loss: 0.0037 - val_loss: 17.5984\n",
      "Epoch 281/300\n",
      "64/64 [==============================] - 0s 2ms/step - loss: 0.0027 - val_loss: 18.7223\n",
      "Epoch 282/300\n",
      "64/64 [==============================] - 0s 2ms/step - loss: 0.0038 - val_loss: 17.6319\n",
      "Epoch 283/300\n",
      "64/64 [==============================] - 0s 2ms/step - loss: 0.0027 - val_loss: 18.7634\n",
      "Epoch 284/300\n",
      "64/64 [==============================] - 0s 3ms/step - loss: 0.0038 - val_loss: 17.6683\n",
      "Epoch 285/300\n",
      "64/64 [==============================] - 0s 2ms/step - loss: 0.0027 - val_loss: 18.7996\n",
      "Epoch 286/300\n",
      "64/64 [==============================] - 0s 2ms/step - loss: 0.0038 - val_loss: 17.7076\n",
      "Epoch 287/300\n",
      "64/64 [==============================] - 0s 2ms/step - loss: 0.0027 - val_loss: 18.8286\n",
      "Epoch 288/300\n",
      "64/64 [==============================] - 0s 2ms/step - loss: 0.0038 - val_loss: 17.7477\n",
      "Epoch 289/300\n",
      "64/64 [==============================] - 0s 3ms/step - loss: 0.0026 - val_loss: 18.8529\n",
      "Epoch 290/300\n",
      "64/64 [==============================] - 0s 2ms/step - loss: 0.0037 - val_loss: 17.7862\n",
      "Epoch 291/300\n",
      "64/64 [==============================] - 0s 3ms/step - loss: 0.0026 - val_loss: 18.8782\n",
      "Epoch 292/300\n",
      "64/64 [==============================] - 0s 3ms/step - loss: 0.0037 - val_loss: 17.8217\n",
      "Epoch 293/300\n",
      "64/64 [==============================] - 0s 2ms/step - loss: 0.0026 - val_loss: 18.9076\n",
      "Epoch 294/300\n",
      "64/64 [==============================] - 0s 3ms/step - loss: 0.0037 - val_loss: 17.8553\n",
      "Epoch 295/300\n",
      "64/64 [==============================] - 0s 2ms/step - loss: 0.0026 - val_loss: 18.9402\n",
      "Epoch 296/300\n",
      "64/64 [==============================] - 0s 2ms/step - loss: 0.0037 - val_loss: 17.8896\n",
      "Epoch 297/300\n",
      "64/64 [==============================] - 0s 2ms/step - loss: 0.0026 - val_loss: 18.9726\n",
      "Epoch 298/300\n",
      "64/64 [==============================] - 0s 3ms/step - loss: 0.0037 - val_loss: 17.9245\n",
      "Epoch 299/300\n",
      "64/64 [==============================] - 0s 3ms/step - loss: 0.0026 - val_loss: 19.0029\n",
      "Epoch 300/300\n",
      "64/64 [==============================] - 0s 3ms/step - loss: 0.0037 - val_loss: 17.9608\n"
     ]
    },
    {
     "data": {
      "image/png": "[encoded data removed]",
      "text/plain": [
       "<Figure size 640x480 with 1 Axes>"
      ]
     },
     "metadata": {},
     "output_type": "display_data"
    }
   ],
   "source": [
    "model = Sequential()\n",
    "# model.add(LSTM(64, input_shape=(1,1)))\n",
    "# model.add(Dense(1, activation='linear'))\n",
    "model.add(LSTM(units=64, return_sequences=True, input_shape=(1,1)))\n",
    "model.add(LSTM(units=32))\n",
    "model.add(Dense(units=1))\n",
    "# compile model\n",
    "model.compile(loss='mse', optimizer='adam')\n",
    "# fit model\n",
    "history = model.fit(X, y, epochs=300, validation_data=(valX, valY), shuffle=False)\n",
    "# plot train and validation loss\n",
    "pyplot.plot(history.history['loss'])\n",
    "pyplot.plot(history.history['val_loss'])\n",
    "pyplot.title('model train vs validation loss')\n",
    "pyplot.ylabel('loss')\n",
    "pyplot.xlabel('epoch')\n",
    "pyplot.legend(['train', 'validation'], loc='upper right')\n",
    "pyplot.show()"
   ]
  },
  {
   "cell_type": "code",
   "execution_count": 34,
   "metadata": {},
   "outputs": [
    {
     "data": {
      "text/html": [
       "<div>\n",
       "<style scoped>\n",
       "    .dataframe tbody tr th:only-of-type {\n",
       "        vertical-align: middle;\n",
       "    }\n",
       "\n",
       "    .dataframe tbody tr th {\n",
       "        vertical-align: top;\n",
       "    }\n",
       "\n",
       "    .dataframe thead th {\n",
       "        text-align: right;\n",
       "    }\n",
       "</style>\n",
       "<table border=\"1\" class=\"dataframe\">\n",
       "  <thead>\n",
       "    <tr style=\"text-align: right;\">\n",
       "      <th></th>\n",
       "      <th>Open</th>\n",
       "      <th>High</th>\n",
       "      <th>Low</th>\n",
       "      <th>Close</th>\n",
       "      <th>Adj Close</th>\n",
       "      <th>Volume</th>\n",
       "    </tr>\n",
       "  </thead>\n",
       "  <tbody>\n",
       "    <tr>\n",
       "      <th>0</th>\n",
       "      <td>-1.019625</td>\n",
       "      <td>-1.017142</td>\n",
       "      <td>-1.027033</td>\n",
       "      <td>-1.021952</td>\n",
       "      <td>-1.021952</td>\n",
       "      <td>-0.684957</td>\n",
       "    </tr>\n",
       "    <tr>\n",
       "      <th>1</th>\n",
       "      <td>-1.021190</td>\n",
       "      <td>-1.018241</td>\n",
       "      <td>-1.027145</td>\n",
       "      <td>-1.021759</td>\n",
       "      <td>-1.021759</td>\n",
       "      <td>-0.684972</td>\n",
       "    </tr>\n",
       "    <tr>\n",
       "      <th>2</th>\n",
       "      <td>-1.021001</td>\n",
       "      <td>-1.018406</td>\n",
       "      <td>-1.035435</td>\n",
       "      <td>-1.030117</td>\n",
       "      <td>-1.030117</td>\n",
       "      <td>-0.682806</td>\n",
       "    </tr>\n",
       "    <tr>\n",
       "      <th>3</th>\n",
       "      <td>-1.029302</td>\n",
       "      <td>-1.025079</td>\n",
       "      <td>-1.041425</td>\n",
       "      <td>-1.034273</td>\n",
       "      <td>-1.034273</td>\n",
       "      <td>-0.680865</td>\n",
       "    </tr>\n",
       "    <tr>\n",
       "      <th>4</th>\n",
       "      <td>-1.033257</td>\n",
       "      <td>-1.027204</td>\n",
       "      <td>-1.039518</td>\n",
       "      <td>-1.031743</td>\n",
       "      <td>-1.031743</td>\n",
       "      <td>-0.681868</td>\n",
       "    </tr>\n",
       "    <tr>\n",
       "      <th>...</th>\n",
       "      <td>...</td>\n",
       "      <td>...</td>\n",
       "      <td>...</td>\n",
       "      <td>...</td>\n",
       "      <td>...</td>\n",
       "      <td>...</td>\n",
       "    </tr>\n",
       "    <tr>\n",
       "      <th>2039</th>\n",
       "      <td>1.690124</td>\n",
       "      <td>1.725583</td>\n",
       "      <td>1.761310</td>\n",
       "      <td>1.795450</td>\n",
       "      <td>1.795450</td>\n",
       "      <td>1.556498</td>\n",
       "    </tr>\n",
       "    <tr>\n",
       "      <th>2040</th>\n",
       "      <td>1.797556</td>\n",
       "      <td>1.782799</td>\n",
       "      <td>1.704768</td>\n",
       "      <td>1.621666</td>\n",
       "      <td>1.621666</td>\n",
       "      <td>1.671238</td>\n",
       "    </tr>\n",
       "    <tr>\n",
       "      <th>2041</th>\n",
       "      <td>1.621457</td>\n",
       "      <td>1.643907</td>\n",
       "      <td>1.703309</td>\n",
       "      <td>1.669109</td>\n",
       "      <td>1.669109</td>\n",
       "      <td>1.057438</td>\n",
       "    </tr>\n",
       "    <tr>\n",
       "      <th>2042</th>\n",
       "      <td>1.671316</td>\n",
       "      <td>1.627725</td>\n",
       "      <td>1.724168</td>\n",
       "      <td>1.659151</td>\n",
       "      <td>1.659151</td>\n",
       "      <td>1.141575</td>\n",
       "    </tr>\n",
       "    <tr>\n",
       "      <th>2043</th>\n",
       "      <td>1.660878</td>\n",
       "      <td>1.723633</td>\n",
       "      <td>1.740537</td>\n",
       "      <td>1.792356</td>\n",
       "      <td>1.792356</td>\n",
       "      <td>1.413382</td>\n",
       "    </tr>\n",
       "  </tbody>\n",
       "</table>\n",
       "<p>2044 rows × 6 columns</p>\n",
       "</div>"
      ],
      "text/plain": [
       "          Open      High       Low     Close  Adj Close    Volume\n",
       "0    -1.019625 -1.017142 -1.027033 -1.021952  -1.021952 -0.684957\n",
       "1    -1.021190 -1.018241 -1.027145 -1.021759  -1.021759 -0.684972\n",
       "2    -1.021001 -1.018406 -1.035435 -1.030117  -1.030117 -0.682806\n",
       "3    -1.029302 -1.025079 -1.041425 -1.034273  -1.034273 -0.680865\n",
       "4    -1.033257 -1.027204 -1.039518 -1.031743  -1.031743 -0.681868\n",
       "...        ...       ...       ...       ...        ...       ...\n",
       "2039  1.690124  1.725583  1.761310  1.795450   1.795450  1.556498\n",
       "2040  1.797556  1.782799  1.704768  1.621666   1.621666  1.671238\n",
       "2041  1.621457  1.643907  1.703309  1.669109   1.669109  1.057438\n",
       "2042  1.671316  1.627725  1.724168  1.659151   1.659151  1.141575\n",
       "2043  1.660878  1.723633  1.740537  1.792356   1.792356  1.413382\n",
       "\n",
       "[2044 rows x 6 columns]"
      ]
     },
     "execution_count": 34,
     "metadata": {},
     "output_type": "execute_result"
    }
   ],
   "source": [
    "train_df"
   ]
  },
  {
   "attachments": {},
   "cell_type": "markdown",
   "metadata": {},
   "source": [
    "### Windows Generator"
   ]
  },
  {
   "cell_type": "code",
   "execution_count": 23,
   "metadata": {},
   "outputs": [],
   "source": [
    "class WindowsGenerator():\n",
    "    def __init__(self, input_width, label_width,shift, train_df,val_df,test_df,label_columns = None):\n",
    "        self.train_df = train_df\n",
    "        self.val_df = val_df\n",
    "        self.test_df = test_df\n",
    "\n",
    "        self.label_columns = label_columns\n",
    "        if label_columns is not None:\n",
    "            self.label_columns_indices = {name: i for i, name in enumerate(label_columns)}\n",
    "\n",
    "        self.column_indices = {name: i for i,name in enumerate(train_df.columns)}\n",
    "\n",
    "        self.input_width = input_width\n",
    "        self.label_width = label_width\n",
    "        self.shift = shift\n",
    "\n",
    "        self.total_windows_size = input_width + shift\n",
    "\n",
    "        self.input_slice = slice(0,input_width)\n",
    "        self.input_indices = np.arange(self.total_windows_size)[self.input_slice]\n",
    "\n",
    "        self.label_start = self.total_windows_size - self.label_width\n",
    "        self.labels_slice = slice(self.label_start,None)\n",
    "        self.labe_indices = np.arange(self.total_windows_size)[self.labels_slice]\n",
    "\n",
    "    def split_window(self,features):\n",
    "        inputs = features[:, self.input_slice,:]\n",
    "        labels = features[:, self.labels_slice, :]\n",
    "\n",
    "        if self.label_columns is not None:\n",
    "            labels = tf.stack([labels[:,:,self.column_indices[name]] for name in self.label_columns],axis=1)\n",
    "        \n",
    "        inputs.set_shape([None, self.input_width,None])\n",
    "        labels.set_shape([None, self.label_width,None])\n",
    "\n",
    "        return inputs, labels\n",
    "\n",
    "    \n",
    "    def make_dataset(self,data):\n",
    "        data = np.array(data, dtype=np.float32)\n",
    "        ds = tf.keras.preprocessing.timeseries_dataset_from_array(data=data,targets=None,sequence_length=self.total_windows_size,sequence_stride=1,shuffle=False,batch_size=32)\n",
    "\n",
    "        ds = ds.map(self.split_window)\n",
    "        return ds\n",
    "\n",
    "    @property\n",
    "    def train(self):\n",
    "        return self.make_dataset(self.train_df)\n",
    "\n",
    "    @property\n",
    "    def val(self):\n",
    "        return self.make_dataset(self.val_df)\n",
    "\n",
    "    @property\n",
    "    def test(self):\n",
    "        return self.make_dataset(self.test_df)\n"
   ]
  },
  {
   "cell_type": "code",
   "execution_count": 30,
   "metadata": {},
   "outputs": [],
   "source": [
    "single_step_window = WindowsGenerator(input_width=1, label_width=1, shift=1,train_df=train_df,val_df=val_df,test_df=test_df,label_columns=['Close'])"
   ]
  },
  {
   "cell_type": "code",
   "execution_count": 100,
   "metadata": {},
   "outputs": [],
   "source": [
    "def compile_and_fit(model,x_train,x_val, epochs=200, patience=10):\n",
    "    early_stopping = tf.keras.callbacks.EarlyStopping(monitor='val_loss', patience=patience, mode='min')\n",
    "\n",
    "    model.compile(loss=tf.losses.MeanSquaredError(), optimizer=tf.optimizers.Adam(), metrics=[tf.metrics.MeanAbsoluteError()])\n",
    "\n",
    "    history = model.fit(x_train,epochs = epochs,batch_size=32,validation_data=(x_val), callbacks=[early_stopping])\n",
    "    return history"
   ]
  },
  {
   "cell_type": "code",
   "execution_count": 77,
   "metadata": {},
   "outputs": [],
   "source": [
    "def make_dataset(data):\n",
    "    data = np.array(data, dtype=np.float32)\n",
    "    ds = tf.keras.preprocessing.timeseries_dataset_from_array(data=data,targets=None,sequence_length=25,sequence_stride=1,shuffle=False,batch_size=32)\n",
    "\n",
    "    # ds = ds.map(self.split_window)\n",
    "    return ds"
   ]
  },
  {
   "cell_type": "code",
   "execution_count": 41,
   "metadata": {},
   "outputs": [],
   "source": [
    "\n",
    "import matplotlib.pyplot as plt"
   ]
  },
  {
   "cell_type": "code",
   "execution_count": 75,
   "metadata": {},
   "outputs": [
    {
     "data": {
      "text/html": [
       "<div>\n",
       "<style scoped>\n",
       "    .dataframe tbody tr th:only-of-type {\n",
       "        vertical-align: middle;\n",
       "    }\n",
       "\n",
       "    .dataframe tbody tr th {\n",
       "        vertical-align: top;\n",
       "    }\n",
       "\n",
       "    .dataframe thead th {\n",
       "        text-align: right;\n",
       "    }\n",
       "</style>\n",
       "<table border=\"1\" class=\"dataframe\">\n",
       "  <thead>\n",
       "    <tr style=\"text-align: right;\">\n",
       "      <th></th>\n",
       "      <th>Open</th>\n",
       "      <th>High</th>\n",
       "      <th>Low</th>\n",
       "      <th>Close</th>\n",
       "      <th>Adj Close</th>\n",
       "      <th>Volume</th>\n",
       "    </tr>\n",
       "  </thead>\n",
       "  <tbody>\n",
       "    <tr>\n",
       "      <th>0</th>\n",
       "      <td>-1.019625</td>\n",
       "      <td>-1.017142</td>\n",
       "      <td>-1.027033</td>\n",
       "      <td>-1.021952</td>\n",
       "      <td>-1.021952</td>\n",
       "      <td>-0.684957</td>\n",
       "    </tr>\n",
       "    <tr>\n",
       "      <th>1</th>\n",
       "      <td>-1.021190</td>\n",
       "      <td>-1.018241</td>\n",
       "      <td>-1.027145</td>\n",
       "      <td>-1.021759</td>\n",
       "      <td>-1.021759</td>\n",
       "      <td>-0.684972</td>\n",
       "    </tr>\n",
       "    <tr>\n",
       "      <th>2</th>\n",
       "      <td>-1.021001</td>\n",
       "      <td>-1.018406</td>\n",
       "      <td>-1.035435</td>\n",
       "      <td>-1.030117</td>\n",
       "      <td>-1.030117</td>\n",
       "      <td>-0.682806</td>\n",
       "    </tr>\n",
       "    <tr>\n",
       "      <th>3</th>\n",
       "      <td>-1.029302</td>\n",
       "      <td>-1.025079</td>\n",
       "      <td>-1.041425</td>\n",
       "      <td>-1.034273</td>\n",
       "      <td>-1.034273</td>\n",
       "      <td>-0.680865</td>\n",
       "    </tr>\n",
       "    <tr>\n",
       "      <th>4</th>\n",
       "      <td>-1.033257</td>\n",
       "      <td>-1.027204</td>\n",
       "      <td>-1.039518</td>\n",
       "      <td>-1.031743</td>\n",
       "      <td>-1.031743</td>\n",
       "      <td>-0.681868</td>\n",
       "    </tr>\n",
       "    <tr>\n",
       "      <th>...</th>\n",
       "      <td>...</td>\n",
       "      <td>...</td>\n",
       "      <td>...</td>\n",
       "      <td>...</td>\n",
       "      <td>...</td>\n",
       "      <td>...</td>\n",
       "    </tr>\n",
       "    <tr>\n",
       "      <th>2039</th>\n",
       "      <td>1.690124</td>\n",
       "      <td>1.725583</td>\n",
       "      <td>1.761310</td>\n",
       "      <td>1.795450</td>\n",
       "      <td>1.795450</td>\n",
       "      <td>1.556498</td>\n",
       "    </tr>\n",
       "    <tr>\n",
       "      <th>2040</th>\n",
       "      <td>1.797556</td>\n",
       "      <td>1.782799</td>\n",
       "      <td>1.704768</td>\n",
       "      <td>1.621666</td>\n",
       "      <td>1.621666</td>\n",
       "      <td>1.671238</td>\n",
       "    </tr>\n",
       "    <tr>\n",
       "      <th>2041</th>\n",
       "      <td>1.621457</td>\n",
       "      <td>1.643907</td>\n",
       "      <td>1.703309</td>\n",
       "      <td>1.669109</td>\n",
       "      <td>1.669109</td>\n",
       "      <td>1.057438</td>\n",
       "    </tr>\n",
       "    <tr>\n",
       "      <th>2042</th>\n",
       "      <td>1.671316</td>\n",
       "      <td>1.627725</td>\n",
       "      <td>1.724168</td>\n",
       "      <td>1.659151</td>\n",
       "      <td>1.659151</td>\n",
       "      <td>1.141575</td>\n",
       "    </tr>\n",
       "    <tr>\n",
       "      <th>2043</th>\n",
       "      <td>1.660878</td>\n",
       "      <td>1.723633</td>\n",
       "      <td>1.740537</td>\n",
       "      <td>1.792356</td>\n",
       "      <td>1.792356</td>\n",
       "      <td>1.413382</td>\n",
       "    </tr>\n",
       "  </tbody>\n",
       "</table>\n",
       "<p>2044 rows × 6 columns</p>\n",
       "</div>"
      ],
      "text/plain": [
       "          Open      High       Low     Close  Adj Close    Volume\n",
       "0    -1.019625 -1.017142 -1.027033 -1.021952  -1.021952 -0.684957\n",
       "1    -1.021190 -1.018241 -1.027145 -1.021759  -1.021759 -0.684972\n",
       "2    -1.021001 -1.018406 -1.035435 -1.030117  -1.030117 -0.682806\n",
       "3    -1.029302 -1.025079 -1.041425 -1.034273  -1.034273 -0.680865\n",
       "4    -1.033257 -1.027204 -1.039518 -1.031743  -1.031743 -0.681868\n",
       "...        ...       ...       ...       ...        ...       ...\n",
       "2039  1.690124  1.725583  1.761310  1.795450   1.795450  1.556498\n",
       "2040  1.797556  1.782799  1.704768  1.621666   1.621666  1.671238\n",
       "2041  1.621457  1.643907  1.703309  1.669109   1.669109  1.057438\n",
       "2042  1.671316  1.627725  1.724168  1.659151   1.659151  1.141575\n",
       "2043  1.660878  1.723633  1.740537  1.792356   1.792356  1.413382\n",
       "\n",
       "[2044 rows x 6 columns]"
      ]
     },
     "execution_count": 75,
     "metadata": {},
     "output_type": "execute_result"
    }
   ],
   "source": [
    "train_df"
   ]
  },
  {
   "cell_type": "code",
   "execution_count": 44,
   "metadata": {},
   "outputs": [],
   "source": [
    "def plot_training_history(history):\n",
    "    plt.plot(history.history['loss'], label='train_loss')\n",
    "    plt.plot(history.history['val_loss'], label='val_loss')\n",
    "    plt.xlabel('Epochs')\n",
    "    plt.ylabel('Loss')\n",
    "    plt.legend()\n",
    "    plt.show()\n",
    "\n",
    "    plt.plot(history.history['mean_absolute_error'], label='train_mae')\n",
    "    plt.plot(history.history['val_mean_absolute_error'], label='val_mae')\n",
    "    plt.xlabel('Epochs')\n",
    "    plt.ylabel('MAE')\n",
    "    plt.legend()\n",
    "    plt.show()"
   ]
  },
  {
   "attachments": {},
   "cell_type": "markdown",
   "metadata": {},
   "source": [
    "### Build a Baseline Model"
   ]
  },
  {
   "cell_type": "code",
   "execution_count": 26,
   "metadata": {},
   "outputs": [],
   "source": [
    "class Baseline(tf.keras.Model):\n",
    "    def __init__(self,label_index = None):\n",
    "        super().__init__()\n",
    "        self.label_index = label_index\n",
    "\n",
    "    def call(self,inputs):\n",
    "        if self.label_index is None:\n",
    "            return inputs\n",
    "        result = inputs[:,:, self.label_index]\n",
    "        return result[:,:, tf.newaxis]"
   ]
  },
  {
   "cell_type": "code",
   "execution_count": 27,
   "metadata": {},
   "outputs": [],
   "source": [
    "baseline = Baseline(label_index=column_indices['Close']) "
   ]
  },
  {
   "cell_type": "code",
   "execution_count": null,
   "metadata": {},
   "outputs": [],
   "source": [
    "plot_training_history(compile_and_fit(baseline, single_step_window))"
   ]
  },
  {
   "cell_type": "code",
   "execution_count": 78,
   "metadata": {},
   "outputs": [
    {
     "data": {
      "text/plain": [
       "<_MapDataset element_spec=(TensorSpec(shape=(None, 1, 6), dtype=tf.float32, name=None), TensorSpec(shape=(None, 1, None), dtype=tf.float32, name=None))>"
      ]
     },
     "execution_count": 78,
     "metadata": {},
     "output_type": "execute_result"
    }
   ],
   "source": [
    "single_step_window.t"
   ]
  },
  {
   "cell_type": "code",
   "execution_count": 48,
   "metadata": {},
   "outputs": [
    {
     "name": "stdout",
     "output_type": "stream",
     "text": [
      "19/19 [==============================] - 0s 8ms/step - loss: 0.1582 - mean_absolute_error: 0.2709\n"
     ]
    }
   ],
   "source": [
    "val_performance = {}\n",
    "val_performance['Baseline'] = baseline.evaluate(single_step_window.val)"
   ]
  },
  {
   "cell_type": "code",
   "execution_count": 49,
   "metadata": {},
   "outputs": [
    {
     "data": {
      "text/plain": [
       "{'Baseline': [0.1581842452287674, 0.27093949913978577]}"
      ]
     },
     "execution_count": 49,
     "metadata": {},
     "output_type": "execute_result"
    }
   ],
   "source": [
    "val_performance"
   ]
  },
  {
   "attachments": {},
   "cell_type": "markdown",
   "metadata": {},
   "source": [
    "### Create linear model"
   ]
  },
  {
   "cell_type": "code",
   "execution_count": 50,
   "metadata": {},
   "outputs": [],
   "source": [
    "linear = tf.keras.Sequential([\n",
    "    tf.keras.layers.Dense(units=1)\n",
    "])"
   ]
  },
  {
   "cell_type": "code",
   "execution_count": 80,
   "metadata": {},
   "outputs": [
    {
     "data": {
      "text/plain": [
       "array([[-1.01962494, -1.01714231, -1.02703348, -1.02195212, -1.02195212,\n",
       "        -0.68495711],\n",
       "       [-1.02119037, -1.0182409 , -1.02714526, -1.02175938, -1.02175938,\n",
       "        -0.68497223],\n",
       "       [-1.02100147, -1.01840559, -1.03543525, -1.03011656, -1.03011656,\n",
       "        -0.68280592],\n",
       "       ...,\n",
       "       [ 1.62145728,  1.64390668,  1.70330909,  1.66910929,  1.66910929,\n",
       "         1.05743849],\n",
       "       [ 1.6713155 ,  1.62772493,  1.72416753,  1.65915057,  1.65915057,\n",
       "         1.14157453],\n",
       "       [ 1.66087763,  1.72363268,  1.74053661,  1.79235589,  1.79235589,\n",
       "         1.4133817 ]])"
      ]
     },
     "execution_count": 80,
     "metadata": {},
     "output_type": "execute_result"
    }
   ],
   "source": [
    "train_df.values"
   ]
  },
  {
   "cell_type": "code",
   "execution_count": 99,
   "metadata": {},
   "outputs": [
    {
     "ename": "ValueError",
     "evalue": "The truth value of an array with more than one element is ambiguous. Use a.any() or a.all()",
     "output_type": "error",
     "traceback": [
      "\u001b[1;31m---------------------------------------------------------------------------\u001b[0m",
      "\u001b[1;31mValueError\u001b[0m                                Traceback (most recent call last)",
      "Cell \u001b[1;32mIn[99], line 1\u001b[0m\n\u001b[1;32m----> 1\u001b[0m plot_training_history( compile_and_fit(linear, X,valX))\n",
      "Cell \u001b[1;32mIn[72], line 6\u001b[0m, in \u001b[0;36mcompile_and_fit\u001b[1;34m(model, x_train, x_val, epochs, patience)\u001b[0m\n\u001b[0;32m      2\u001b[0m early_stopping \u001b[39m=\u001b[39m tf\u001b[39m.\u001b[39mkeras\u001b[39m.\u001b[39mcallbacks\u001b[39m.\u001b[39mEarlyStopping(monitor\u001b[39m=\u001b[39m\u001b[39m'\u001b[39m\u001b[39mval_loss\u001b[39m\u001b[39m'\u001b[39m, patience\u001b[39m=\u001b[39mpatience, mode\u001b[39m=\u001b[39m\u001b[39m'\u001b[39m\u001b[39mmin\u001b[39m\u001b[39m'\u001b[39m)\n\u001b[0;32m      4\u001b[0m model\u001b[39m.\u001b[39mcompile(loss\u001b[39m=\u001b[39mtf\u001b[39m.\u001b[39mlosses\u001b[39m.\u001b[39mMeanSquaredError(), optimizer\u001b[39m=\u001b[39mtf\u001b[39m.\u001b[39moptimizers\u001b[39m.\u001b[39mAdam(), metrics\u001b[39m=\u001b[39m[tf\u001b[39m.\u001b[39mmetrics\u001b[39m.\u001b[39mMeanAbsoluteError()])\n\u001b[1;32m----> 6\u001b[0m history \u001b[39m=\u001b[39m model\u001b[39m.\u001b[39;49mfit(x_train,epochs \u001b[39m=\u001b[39;49m epochs,batch_size\u001b[39m=\u001b[39;49m\u001b[39m32\u001b[39;49m,validation_data\u001b[39m=\u001b[39;49m(x_val), callbacks\u001b[39m=\u001b[39;49m[early_stopping])\n\u001b[0;32m      7\u001b[0m \u001b[39mreturn\u001b[39;00m history\n",
      "File \u001b[1;32mc:\\Users\\Computing\\AppData\\Local\\Programs\\Python\\Python311\\Lib\\site-packages\\keras\\src\\utils\\traceback_utils.py:70\u001b[0m, in \u001b[0;36mfilter_traceback.<locals>.error_handler\u001b[1;34m(*args, **kwargs)\u001b[0m\n\u001b[0;32m     67\u001b[0m     filtered_tb \u001b[39m=\u001b[39m _process_traceback_frames(e\u001b[39m.\u001b[39m__traceback__)\n\u001b[0;32m     68\u001b[0m     \u001b[39m# To get the full stack trace, call:\u001b[39;00m\n\u001b[0;32m     69\u001b[0m     \u001b[39m# `tf.debugging.disable_traceback_filtering()`\u001b[39;00m\n\u001b[1;32m---> 70\u001b[0m     \u001b[39mraise\u001b[39;00m e\u001b[39m.\u001b[39mwith_traceback(filtered_tb) \u001b[39mfrom\u001b[39;00m \u001b[39mNone\u001b[39;00m\n\u001b[0;32m     71\u001b[0m \u001b[39mfinally\u001b[39;00m:\n\u001b[0;32m     72\u001b[0m     \u001b[39mdel\u001b[39;00m filtered_tb\n",
      "File \u001b[1;32mc:\\Users\\Computing\\AppData\\Local\\Programs\\Python\\Python311\\Lib\\site-packages\\keras\\src\\engine\\training.py:1664\u001b[0m, in \u001b[0;36mModel.fit\u001b[1;34m(self, x, y, batch_size, epochs, verbose, callbacks, validation_split, validation_data, shuffle, class_weight, sample_weight, initial_epoch, steps_per_epoch, validation_steps, validation_batch_size, validation_freq, max_queue_size, workers, use_multiprocessing)\u001b[0m\n\u001b[0;32m   1653\u001b[0m \u001b[39mif\u001b[39;00m validation_split \u001b[39mand\u001b[39;00m validation_data \u001b[39mis\u001b[39;00m \u001b[39mNone\u001b[39;00m:\n\u001b[0;32m   1654\u001b[0m     \u001b[39m# Create the validation data using the training data. Only supported\u001b[39;00m\n\u001b[0;32m   1655\u001b[0m     \u001b[39m# for `Tensor` and `NumPy` input.\u001b[39;00m\n\u001b[0;32m   1656\u001b[0m     (\n\u001b[0;32m   1657\u001b[0m         x,\n\u001b[0;32m   1658\u001b[0m         y,\n\u001b[1;32m   (...)\u001b[0m\n\u001b[0;32m   1661\u001b[0m         (x, y, sample_weight), validation_split\u001b[39m=\u001b[39mvalidation_split\n\u001b[0;32m   1662\u001b[0m     )\n\u001b[1;32m-> 1664\u001b[0m \u001b[39mif\u001b[39;00m validation_data:\n\u001b[0;32m   1665\u001b[0m     (\n\u001b[0;32m   1666\u001b[0m         val_x,\n\u001b[0;32m   1667\u001b[0m         val_y,\n\u001b[0;32m   1668\u001b[0m         val_sample_weight,\n\u001b[0;32m   1669\u001b[0m     ) \u001b[39m=\u001b[39m data_adapter\u001b[39m.\u001b[39munpack_x_y_sample_weight(validation_data)\n\u001b[0;32m   1671\u001b[0m \u001b[39mif\u001b[39;00m \u001b[39mself\u001b[39m\u001b[39m.\u001b[39mdistribute_strategy\u001b[39m.\u001b[39m_should_use_with_coordinator:\n",
      "\u001b[1;31mValueError\u001b[0m: The truth value of an array with more than one element is ambiguous. Use a.any() or a.all()"
     ]
    }
   ],
   "source": [
    "plot_training_history( compile_and_fit(linear, X,valX))\n"
   ]
  },
  {
   "cell_type": "code",
   "execution_count": 282,
   "metadata": {},
   "outputs": [
    {
     "name": "stdout",
     "output_type": "stream",
     "text": [
      "208/208 [==============================] - 0s 596us/step - loss: 4.6514e-04 - mean_absolute_error: 0.0195\n"
     ]
    },
    {
     "data": {
      "text/plain": [
       "{'Baseline': [2.4682211875915527, 1.2308413982391357],\n",
       " 'Linear': [0.0004651415511034429, 0.01945582777261734]}"
      ]
     },
     "execution_count": 282,
     "metadata": {},
     "output_type": "execute_result"
    }
   ],
   "source": [
    "val_performance['Linear'] = linear.evaluate(single_step_window.val)\n",
    "val_performance"
   ]
  },
  {
   "attachments": {},
   "cell_type": "markdown",
   "metadata": {},
   "source": [
    "### Dense Model"
   ]
  },
  {
   "cell_type": "code",
   "execution_count": 61,
   "metadata": {},
   "outputs": [],
   "source": [
    "dense = tf.keras.Sequential([\n",
    "     tf.keras.layers.LSTM(units=64),\n",
    "    # tf.keras.layers.Dense(units = 64, activation='relu'),\n",
    "    # tf.keras.layers.Dense(units = 64, activation='relu'),\n",
    "    tf.keras.layers.Dense(units = 1)\n",
    "])"
   ]
  },
  {
   "cell_type": "code",
   "execution_count": 62,
   "metadata": {},
   "outputs": [
    {
     "name": "stdout",
     "output_type": "stream",
     "text": [
      "Epoch 1/200\n",
      "64/64 [==============================] - 2s 11ms/step - loss: 0.5824 - mean_absolute_error: 0.6379 - val_loss: 59.0323 - val_mean_absolute_error: 6.7034\n",
      "Epoch 2/200\n",
      "64/64 [==============================] - 0s 2ms/step - loss: 0.0678 - mean_absolute_error: 0.1823 - val_loss: 43.4929 - val_mean_absolute_error: 5.5737\n",
      "Epoch 3/200\n",
      "64/64 [==============================] - 0s 2ms/step - loss: 0.0276 - mean_absolute_error: 0.0907 - val_loss: 38.6754 - val_mean_absolute_error: 5.2223\n",
      "Epoch 4/200\n",
      "64/64 [==============================] - 0s 2ms/step - loss: 0.0178 - mean_absolute_error: 0.0756 - val_loss: 35.4064 - val_mean_absolute_error: 4.9757\n",
      "Epoch 5/200\n",
      "64/64 [==============================] - 0s 2ms/step - loss: 0.0127 - mean_absolute_error: 0.0659 - val_loss: 32.9993 - val_mean_absolute_error: 4.7887\n",
      "Epoch 6/200\n",
      "64/64 [==============================] - 0s 2ms/step - loss: 0.0107 - mean_absolute_error: 0.0632 - val_loss: 31.3875 - val_mean_absolute_error: 4.6595\n",
      "Epoch 7/200\n",
      "64/64 [==============================] - 0s 2ms/step - loss: 0.0099 - mean_absolute_error: 0.0630 - val_loss: 30.3466 - val_mean_absolute_error: 4.5743\n",
      "Epoch 8/200\n",
      "64/64 [==============================] - 0s 2ms/step - loss: 0.0096 - mean_absolute_error: 0.0633 - val_loss: 29.6116 - val_mean_absolute_error: 4.5135\n",
      "Epoch 9/200\n",
      "64/64 [==============================] - 0s 2ms/step - loss: 0.0094 - mean_absolute_error: 0.0635 - val_loss: 28.9985 - val_mean_absolute_error: 4.4623\n",
      "Epoch 10/200\n",
      "64/64 [==============================] - 0s 2ms/step - loss: 0.0094 - mean_absolute_error: 0.0635 - val_loss: 28.4346 - val_mean_absolute_error: 4.4149\n",
      "Epoch 11/200\n",
      "64/64 [==============================] - 0s 2ms/step - loss: 0.0092 - mean_absolute_error: 0.0634 - val_loss: 27.9081 - val_mean_absolute_error: 4.3702\n",
      "Epoch 12/200\n",
      "64/64 [==============================] - 0s 2ms/step - loss: 0.0091 - mean_absolute_error: 0.0631 - val_loss: 27.4191 - val_mean_absolute_error: 4.3283\n",
      "Epoch 13/200\n",
      "64/64 [==============================] - 0s 2ms/step - loss: 0.0090 - mean_absolute_error: 0.0628 - val_loss: 26.9624 - val_mean_absolute_error: 4.2888\n",
      "Epoch 14/200\n",
      "64/64 [==============================] - 0s 2ms/step - loss: 0.0089 - mean_absolute_error: 0.0625 - val_loss: 26.5304 - val_mean_absolute_error: 4.2511\n",
      "Epoch 15/200\n",
      "64/64 [==============================] - 0s 2ms/step - loss: 0.0088 - mean_absolute_error: 0.0622 - val_loss: 26.1180 - val_mean_absolute_error: 4.2147\n",
      "Epoch 16/200\n",
      "64/64 [==============================] - 0s 2ms/step - loss: 0.0087 - mean_absolute_error: 0.0619 - val_loss: 25.7237 - val_mean_absolute_error: 4.1794\n",
      "Epoch 17/200\n",
      "64/64 [==============================] - 0s 2ms/step - loss: 0.0086 - mean_absolute_error: 0.0616 - val_loss: 25.3468 - val_mean_absolute_error: 4.1454\n",
      "Epoch 18/200\n",
      "64/64 [==============================] - 0s 2ms/step - loss: 0.0085 - mean_absolute_error: 0.0613 - val_loss: 24.9873 - val_mean_absolute_error: 4.1124\n",
      "Epoch 19/200\n",
      "64/64 [==============================] - 0s 2ms/step - loss: 0.0085 - mean_absolute_error: 0.0610 - val_loss: 24.6447 - val_mean_absolute_error: 4.0807\n",
      "Epoch 20/200\n",
      "64/64 [==============================] - 0s 2ms/step - loss: 0.0084 - mean_absolute_error: 0.0608 - val_loss: 24.3189 - val_mean_absolute_error: 4.0501\n",
      "Epoch 21/200\n",
      "64/64 [==============================] - 0s 3ms/step - loss: 0.0083 - mean_absolute_error: 0.0606 - val_loss: 24.0100 - val_mean_absolute_error: 4.0207\n",
      "Epoch 22/200\n",
      "64/64 [==============================] - 0s 3ms/step - loss: 0.0082 - mean_absolute_error: 0.0604 - val_loss: 23.7180 - val_mean_absolute_error: 3.9926\n",
      "Epoch 23/200\n",
      "64/64 [==============================] - 0s 2ms/step - loss: 0.0082 - mean_absolute_error: 0.0602 - val_loss: 23.4428 - val_mean_absolute_error: 3.9658\n",
      "Epoch 24/200\n",
      "64/64 [==============================] - 0s 2ms/step - loss: 0.0081 - mean_absolute_error: 0.0600 - val_loss: 23.1843 - val_mean_absolute_error: 3.9403\n",
      "Epoch 25/200\n",
      "64/64 [==============================] - 0s 2ms/step - loss: 0.0081 - mean_absolute_error: 0.0598 - val_loss: 22.9423 - val_mean_absolute_error: 3.9161\n",
      "Epoch 26/200\n",
      "64/64 [==============================] - 0s 2ms/step - loss: 0.0080 - mean_absolute_error: 0.0597 - val_loss: 22.7164 - val_mean_absolute_error: 3.8933\n",
      "Epoch 27/200\n",
      "64/64 [==============================] - 0s 2ms/step - loss: 0.0080 - mean_absolute_error: 0.0595 - val_loss: 22.5062 - val_mean_absolute_error: 3.8719\n",
      "Epoch 28/200\n",
      "64/64 [==============================] - 0s 2ms/step - loss: 0.0079 - mean_absolute_error: 0.0594 - val_loss: 22.3112 - val_mean_absolute_error: 3.8518\n",
      "Epoch 29/200\n",
      "64/64 [==============================] - 0s 2ms/step - loss: 0.0079 - mean_absolute_error: 0.0592 - val_loss: 22.1307 - val_mean_absolute_error: 3.8330\n",
      "Epoch 30/200\n",
      "64/64 [==============================] - 0s 2ms/step - loss: 0.0078 - mean_absolute_error: 0.0590 - val_loss: 21.9639 - val_mean_absolute_error: 3.8155\n",
      "Epoch 31/200\n",
      "64/64 [==============================] - 0s 2ms/step - loss: 0.0078 - mean_absolute_error: 0.0588 - val_loss: 21.8102 - val_mean_absolute_error: 3.7993\n",
      "Epoch 32/200\n",
      "64/64 [==============================] - 0s 2ms/step - loss: 0.0078 - mean_absolute_error: 0.0587 - val_loss: 21.6688 - val_mean_absolute_error: 3.7842\n",
      "Epoch 33/200\n",
      "64/64 [==============================] - 0s 2ms/step - loss: 0.0077 - mean_absolute_error: 0.0585 - val_loss: 21.5390 - val_mean_absolute_error: 3.7703\n",
      "Epoch 34/200\n",
      "64/64 [==============================] - 0s 2ms/step - loss: 0.0077 - mean_absolute_error: 0.0583 - val_loss: 21.4200 - val_mean_absolute_error: 3.7575\n",
      "Epoch 35/200\n",
      "64/64 [==============================] - 0s 2ms/step - loss: 0.0077 - mean_absolute_error: 0.0581 - val_loss: 21.3112 - val_mean_absolute_error: 3.7458\n",
      "Epoch 36/200\n",
      "64/64 [==============================] - 0s 2ms/step - loss: 0.0076 - mean_absolute_error: 0.0579 - val_loss: 21.2120 - val_mean_absolute_error: 3.7350\n",
      "Epoch 37/200\n",
      "64/64 [==============================] - 0s 2ms/step - loss: 0.0076 - mean_absolute_error: 0.0578 - val_loss: 21.1218 - val_mean_absolute_error: 3.7253\n",
      "Epoch 38/200\n",
      "64/64 [==============================] - 0s 2ms/step - loss: 0.0076 - mean_absolute_error: 0.0576 - val_loss: 21.0401 - val_mean_absolute_error: 3.7164\n",
      "Epoch 39/200\n",
      "64/64 [==============================] - 0s 2ms/step - loss: 0.0075 - mean_absolute_error: 0.0574 - val_loss: 20.9663 - val_mean_absolute_error: 3.7084\n",
      "Epoch 40/200\n",
      "64/64 [==============================] - 0s 2ms/step - loss: 0.0075 - mean_absolute_error: 0.0572 - val_loss: 20.9000 - val_mean_absolute_error: 3.7013\n",
      "Epoch 41/200\n",
      "64/64 [==============================] - 0s 2ms/step - loss: 0.0075 - mean_absolute_error: 0.0570 - val_loss: 20.8407 - val_mean_absolute_error: 3.6949\n",
      "Epoch 42/200\n",
      "64/64 [==============================] - 0s 2ms/step - loss: 0.0075 - mean_absolute_error: 0.0568 - val_loss: 20.7878 - val_mean_absolute_error: 3.6892\n",
      "Epoch 43/200\n",
      "64/64 [==============================] - 0s 2ms/step - loss: 0.0074 - mean_absolute_error: 0.0566 - val_loss: 20.7408 - val_mean_absolute_error: 3.6841\n",
      "Epoch 44/200\n",
      "64/64 [==============================] - 0s 2ms/step - loss: 0.0074 - mean_absolute_error: 0.0564 - val_loss: 20.6993 - val_mean_absolute_error: 3.6797\n",
      "Epoch 45/200\n",
      "64/64 [==============================] - 0s 2ms/step - loss: 0.0074 - mean_absolute_error: 0.0563 - val_loss: 20.6627 - val_mean_absolute_error: 3.6758\n",
      "Epoch 46/200\n",
      "64/64 [==============================] - 0s 2ms/step - loss: 0.0074 - mean_absolute_error: 0.0561 - val_loss: 20.6307 - val_mean_absolute_error: 3.6724\n",
      "Epoch 47/200\n",
      "64/64 [==============================] - 0s 2ms/step - loss: 0.0073 - mean_absolute_error: 0.0559 - val_loss: 20.6026 - val_mean_absolute_error: 3.6695\n",
      "Epoch 48/200\n",
      "64/64 [==============================] - 0s 2ms/step - loss: 0.0073 - mean_absolute_error: 0.0557 - val_loss: 20.5782 - val_mean_absolute_error: 3.6670\n",
      "Epoch 49/200\n",
      "64/64 [==============================] - 0s 2ms/step - loss: 0.0073 - mean_absolute_error: 0.0556 - val_loss: 20.5569 - val_mean_absolute_error: 3.6648\n",
      "Epoch 50/200\n",
      "64/64 [==============================] - 0s 2ms/step - loss: 0.0073 - mean_absolute_error: 0.0554 - val_loss: 20.5385 - val_mean_absolute_error: 3.6629\n",
      "Epoch 51/200\n",
      "64/64 [==============================] - 0s 2ms/step - loss: 0.0072 - mean_absolute_error: 0.0552 - val_loss: 20.5225 - val_mean_absolute_error: 3.6613\n",
      "Epoch 52/200\n",
      "64/64 [==============================] - 0s 2ms/step - loss: 0.0072 - mean_absolute_error: 0.0551 - val_loss: 20.5086 - val_mean_absolute_error: 3.6600\n",
      "Epoch 53/200\n",
      "64/64 [==============================] - 0s 2ms/step - loss: 0.0072 - mean_absolute_error: 0.0549 - val_loss: 20.4966 - val_mean_absolute_error: 3.6589\n",
      "Epoch 54/200\n",
      "64/64 [==============================] - 0s 2ms/step - loss: 0.0072 - mean_absolute_error: 0.0548 - val_loss: 20.4862 - val_mean_absolute_error: 3.6579\n",
      "Epoch 55/200\n",
      "64/64 [==============================] - 0s 2ms/step - loss: 0.0071 - mean_absolute_error: 0.0546 - val_loss: 20.4771 - val_mean_absolute_error: 3.6571\n",
      "Epoch 56/200\n",
      "64/64 [==============================] - 0s 2ms/step - loss: 0.0071 - mean_absolute_error: 0.0545 - val_loss: 20.4691 - val_mean_absolute_error: 3.6565\n",
      "Epoch 57/200\n",
      "64/64 [==============================] - 0s 2ms/step - loss: 0.0071 - mean_absolute_error: 0.0544 - val_loss: 20.4620 - val_mean_absolute_error: 3.6559\n",
      "Epoch 58/200\n",
      "64/64 [==============================] - 0s 2ms/step - loss: 0.0071 - mean_absolute_error: 0.0542 - val_loss: 20.4558 - val_mean_absolute_error: 3.6555\n",
      "Epoch 59/200\n",
      "64/64 [==============================] - 0s 2ms/step - loss: 0.0071 - mean_absolute_error: 0.0541 - val_loss: 20.4501 - val_mean_absolute_error: 3.6552\n",
      "Epoch 60/200\n",
      "64/64 [==============================] - 0s 2ms/step - loss: 0.0070 - mean_absolute_error: 0.0540 - val_loss: 20.4450 - val_mean_absolute_error: 3.6549\n",
      "Epoch 61/200\n",
      "64/64 [==============================] - 0s 2ms/step - loss: 0.0070 - mean_absolute_error: 0.0539 - val_loss: 20.4402 - val_mean_absolute_error: 3.6547\n",
      "Epoch 62/200\n",
      "64/64 [==============================] - 0s 2ms/step - loss: 0.0070 - mean_absolute_error: 0.0538 - val_loss: 20.4359 - val_mean_absolute_error: 3.6545\n",
      "Epoch 63/200\n",
      "64/64 [==============================] - 0s 2ms/step - loss: 0.0070 - mean_absolute_error: 0.0537 - val_loss: 20.4318 - val_mean_absolute_error: 3.6544\n",
      "Epoch 64/200\n",
      "64/64 [==============================] - 0s 2ms/step - loss: 0.0070 - mean_absolute_error: 0.0536 - val_loss: 20.4280 - val_mean_absolute_error: 3.6543\n",
      "Epoch 65/200\n",
      "64/64 [==============================] - 0s 2ms/step - loss: 0.0070 - mean_absolute_error: 0.0535 - val_loss: 20.4244 - val_mean_absolute_error: 3.6542\n",
      "Epoch 66/200\n",
      "64/64 [==============================] - 0s 2ms/step - loss: 0.0070 - mean_absolute_error: 0.0534 - val_loss: 20.4210 - val_mean_absolute_error: 3.6542\n",
      "Epoch 67/200\n",
      "64/64 [==============================] - 0s 2ms/step - loss: 0.0069 - mean_absolute_error: 0.0534 - val_loss: 20.4178 - val_mean_absolute_error: 3.6542\n",
      "Epoch 68/200\n",
      "64/64 [==============================] - 0s 2ms/step - loss: 0.0069 - mean_absolute_error: 0.0533 - val_loss: 20.4149 - val_mean_absolute_error: 3.6542\n",
      "Epoch 69/200\n",
      "64/64 [==============================] - 0s 2ms/step - loss: 0.0069 - mean_absolute_error: 0.0532 - val_loss: 20.4122 - val_mean_absolute_error: 3.6543\n",
      "Epoch 70/200\n",
      "64/64 [==============================] - 0s 2ms/step - loss: 0.0069 - mean_absolute_error: 0.0532 - val_loss: 20.4097 - val_mean_absolute_error: 3.6544\n",
      "Epoch 71/200\n",
      "64/64 [==============================] - 0s 2ms/step - loss: 0.0069 - mean_absolute_error: 0.0531 - val_loss: 20.4075 - val_mean_absolute_error: 3.6545\n",
      "Epoch 72/200\n",
      "64/64 [==============================] - 0s 2ms/step - loss: 0.0069 - mean_absolute_error: 0.0531 - val_loss: 20.4056 - val_mean_absolute_error: 3.6546\n",
      "Epoch 73/200\n",
      "64/64 [==============================] - 0s 2ms/step - loss: 0.0069 - mean_absolute_error: 0.0530 - val_loss: 20.4040 - val_mean_absolute_error: 3.6548\n",
      "Epoch 74/200\n",
      "64/64 [==============================] - 0s 2ms/step - loss: 0.0069 - mean_absolute_error: 0.0530 - val_loss: 20.4028 - val_mean_absolute_error: 3.6549\n",
      "Epoch 75/200\n",
      "64/64 [==============================] - 0s 2ms/step - loss: 0.0069 - mean_absolute_error: 0.0530 - val_loss: 20.4018 - val_mean_absolute_error: 3.6552\n",
      "Epoch 76/200\n",
      "64/64 [==============================] - 0s 2ms/step - loss: 0.0069 - mean_absolute_error: 0.0529 - val_loss: 20.4014 - val_mean_absolute_error: 3.6554\n",
      "Epoch 77/200\n",
      "64/64 [==============================] - 0s 2ms/step - loss: 0.0069 - mean_absolute_error: 0.0529 - val_loss: 20.4014 - val_mean_absolute_error: 3.6557\n",
      "Epoch 78/200\n",
      "64/64 [==============================] - 0s 2ms/step - loss: 0.0068 - mean_absolute_error: 0.0529 - val_loss: 20.4018 - val_mean_absolute_error: 3.6560\n",
      "Epoch 79/200\n",
      "64/64 [==============================] - 0s 2ms/step - loss: 0.0068 - mean_absolute_error: 0.0528 - val_loss: 20.4028 - val_mean_absolute_error: 3.6564\n",
      "Epoch 80/200\n",
      "64/64 [==============================] - 0s 2ms/step - loss: 0.0068 - mean_absolute_error: 0.0528 - val_loss: 20.4044 - val_mean_absolute_error: 3.6568\n",
      "Epoch 81/200\n",
      "64/64 [==============================] - 0s 2ms/step - loss: 0.0068 - mean_absolute_error: 0.0528 - val_loss: 20.4062 - val_mean_absolute_error: 3.6572\n",
      "Epoch 82/200\n",
      "64/64 [==============================] - 0s 2ms/step - loss: 0.0068 - mean_absolute_error: 0.0527 - val_loss: 20.4090 - val_mean_absolute_error: 3.6578\n",
      "Epoch 83/200\n",
      "64/64 [==============================] - 0s 2ms/step - loss: 0.0068 - mean_absolute_error: 0.0527 - val_loss: 20.4127 - val_mean_absolute_error: 3.6584\n",
      "Epoch 84/200\n",
      "64/64 [==============================] - 0s 2ms/step - loss: 0.0068 - mean_absolute_error: 0.0527 - val_loss: 20.4162 - val_mean_absolute_error: 3.6589\n",
      "Epoch 85/200\n",
      "64/64 [==============================] - 0s 2ms/step - loss: 0.0068 - mean_absolute_error: 0.0526 - val_loss: 20.4209 - val_mean_absolute_error: 3.6596\n",
      "Epoch 86/200\n",
      "64/64 [==============================] - 0s 2ms/step - loss: 0.0068 - mean_absolute_error: 0.0526 - val_loss: 20.4274 - val_mean_absolute_error: 3.6605\n",
      "Epoch 87/200\n",
      "64/64 [==============================] - 0s 2ms/step - loss: 0.0068 - mean_absolute_error: 0.0526 - val_loss: 20.4326 - val_mean_absolute_error: 3.6612\n"
     ]
    },
    {
     "data": {
      "image/png": "[encoded data removed]",
      "text/plain": [
       "<Figure size 640x480 with 1 Axes>"
      ]
     },
     "metadata": {},
     "output_type": "display_data"
    },
    {
     "data": {
      "image/png": "[encoded data removed]",
      "text/plain": [
       "<Figure size 640x480 with 1 Axes>"
      ]
     },
     "metadata": {},
     "output_type": "display_data"
    }
   ],
   "source": [
    "plot_training_history( compile_and_fit(dense, single_step_window))"
   ]
  },
  {
   "cell_type": "code",
   "execution_count": 285,
   "metadata": {},
   "outputs": [
    {
     "name": "stdout",
     "output_type": "stream",
     "text": [
      "208/208 [==============================] - 0s 711us/step - loss: 0.0043 - mean_absolute_error: 0.0628\n"
     ]
    }
   ],
   "source": [
    "val_performance['Dense'] = dense.evaluate(single_step_window.val)"
   ]
  },
  {
   "cell_type": "code",
   "execution_count": 286,
   "metadata": {},
   "outputs": [
    {
     "data": {
      "text/plain": [
       "{'Baseline': [2.4682211875915527, 1.2308413982391357],\n",
       " 'Linear': [0.0004651415511034429, 0.01945582777261734],\n",
       " 'Dense': [0.00428706593811512, 0.06284575164318085]}"
      ]
     },
     "execution_count": 286,
     "metadata": {},
     "output_type": "execute_result"
    }
   ],
   "source": [
    "val_performance"
   ]
  },
  {
   "attachments": {},
   "cell_type": "markdown",
   "metadata": {},
   "source": [
    "### CNN"
   ]
  },
  {
   "cell_type": "code",
   "execution_count": null,
   "metadata": {},
   "outputs": [],
   "source": [
    "def compile_and_fit_embeddings(model,X_train, X_val, epochs=200, patience=10):\n",
    "    early_stopping = tf.keras.callbacks.EarlyStopping(monitor='val_loss', patience=patience, mode='min')\n",
    "    model.compile(loss=tf.losses.MeanSquaredError(), optimizer=tf.optimizers.Adam(), metrics=[tf.metrics.MeanAbsoluteError()])\n",
    "    history = model.fit(X_train, epochs = epochs,batch_size=32, validation_split=0.33,shuffle=False,callbacks=[early_stopping])\n",
    "    return history"
   ]
  },
  {
   "cell_type": "code",
   "execution_count": 63,
   "metadata": {},
   "outputs": [],
   "source": [
    "CONV_WIDTH = 3\n",
    "\n",
    "conv_window = WindowsGenerator(input_width=CONV_WIDTH,label_width=1,shift=1,train_df=train_df,val_df=val_df,test_df=test_df,label_columns=['Close'])"
   ]
  },
  {
   "cell_type": "code",
   "execution_count": 64,
   "metadata": {},
   "outputs": [],
   "source": [
    "conv_model = tf.keras.Sequential([\n",
    "    tf.keras.layers.Conv1D(filters=32, kernel_size=(CONV_WIDTH,),activation='relu'),\n",
    "    tf.keras.layers.Dense(units=32,activation='relu'),\n",
    "    tf.keras.layers.Dense(units=1)\n",
    "])"
   ]
  },
  {
   "cell_type": "code",
   "execution_count": 65,
   "metadata": {},
   "outputs": [
    {
     "name": "stdout",
     "output_type": "stream",
     "text": [
      "Epoch 1/200\n",
      "64/64 [==============================] - 1s 9ms/step - loss: 0.3536 - mean_absolute_error: 0.4108 - val_loss: 0.3254 - val_mean_absolute_error: 0.4288\n",
      "Epoch 2/200\n",
      "64/64 [==============================] - 0s 2ms/step - loss: 0.0273 - mean_absolute_error: 0.0862 - val_loss: 4.6212 - val_mean_absolute_error: 1.8448\n",
      "Epoch 3/200\n",
      "64/64 [==============================] - 0s 2ms/step - loss: 0.0265 - mean_absolute_error: 0.0844 - val_loss: 0.7445 - val_mean_absolute_error: 0.6612\n",
      "Epoch 4/200\n",
      "64/64 [==============================] - 0s 2ms/step - loss: 0.0144 - mean_absolute_error: 0.0725 - val_loss: 0.4296 - val_mean_absolute_error: 0.4864\n",
      "Epoch 5/200\n",
      "64/64 [==============================] - 0s 2ms/step - loss: 0.0112 - mean_absolute_error: 0.0621 - val_loss: 0.7775 - val_mean_absolute_error: 0.6825\n",
      "Epoch 6/200\n",
      "64/64 [==============================] - 0s 2ms/step - loss: 0.0115 - mean_absolute_error: 0.0610 - val_loss: 0.8716 - val_mean_absolute_error: 0.7340\n",
      "Epoch 7/200\n",
      "64/64 [==============================] - 0s 2ms/step - loss: 0.0119 - mean_absolute_error: 0.0554 - val_loss: 0.9956 - val_mean_absolute_error: 0.7998\n",
      "Epoch 8/200\n",
      "64/64 [==============================] - 0s 2ms/step - loss: 0.0126 - mean_absolute_error: 0.0570 - val_loss: 0.9325 - val_mean_absolute_error: 0.7709\n",
      "Epoch 9/200\n",
      "64/64 [==============================] - 0s 2ms/step - loss: 0.0122 - mean_absolute_error: 0.0553 - val_loss: 0.7064 - val_mean_absolute_error: 0.6583\n",
      "Epoch 10/200\n",
      "64/64 [==============================] - 0s 2ms/step - loss: 0.0109 - mean_absolute_error: 0.0515 - val_loss: 0.6067 - val_mean_absolute_error: 0.6010\n",
      "Epoch 11/200\n",
      "64/64 [==============================] - 0s 2ms/step - loss: 0.0102 - mean_absolute_error: 0.0507 - val_loss: 0.6765 - val_mean_absolute_error: 0.6454\n"
     ]
    },
    {
     "data": {
      "image/png": "[encoded data removed]",
      "text/plain": [
       "<Figure size 640x480 with 1 Axes>"
      ]
     },
     "metadata": {},
     "output_type": "display_data"
    },
    {
     "data": {
      "image/png": "[encoded data removed]",
      "text/plain": [
       "<Figure size 640x480 with 1 Axes>"
      ]
     },
     "metadata": {},
     "output_type": "display_data"
    }
   ],
   "source": [
    "plot_training_history( compile_and_fit(conv_model,train_df,val_df))"
   ]
  },
  {
   "cell_type": "code",
   "execution_count": 290,
   "metadata": {},
   "outputs": [
    {
     "name": "stdout",
     "output_type": "stream",
     "text": [
      "208/208 [==============================] - 0s 635us/step - loss: 0.0010 - mean_absolute_error: 0.0268\n"
     ]
    },
    {
     "data": {
      "text/plain": [
       "{'Baseline': [2.4682211875915527, 1.2308413982391357],\n",
       " 'Linear': [0.0004651415511034429, 0.01945582777261734],\n",
       " 'Dense': [0.00428706593811512, 0.06284575164318085],\n",
       " 'Conv': [0.0010297620901837945, 0.026760917156934738]}"
      ]
     },
     "execution_count": 290,
     "metadata": {},
     "output_type": "execute_result"
    }
   ],
   "source": [
    "val_performance['Conv'] = conv_model.evaluate(conv_window.val)\n",
    "val_performance\n"
   ]
  },
  {
   "attachments": {},
   "cell_type": "markdown",
   "metadata": {},
   "source": [
    "### RNN and LSTM"
   ]
  },
  {
   "cell_type": "code",
   "execution_count": 66,
   "metadata": {},
   "outputs": [],
   "source": [
    "lstm_model = tf.keras.Sequential([\n",
    "    tf.keras.layers.LSTM(32,return_sequences=True),\n",
    "    tf.keras.layers.Dense(units=1)\n",
    "])"
   ]
  },
  {
   "cell_type": "code",
   "execution_count": 67,
   "metadata": {},
   "outputs": [],
   "source": [
    "wide_window = WindowsGenerator(input_width=24, label_width=24, shift=1,train_df=train_df,val_df=val_df,test_df=test_df,label_columns=['Close'])"
   ]
  },
  {
   "cell_type": "code",
   "execution_count": 68,
   "metadata": {},
   "outputs": [
    {
     "ename": "ValueError",
     "evalue": "in user code:\n\n    File \"C:\\Users\\Computing\\AppData\\Local\\Temp\\ipykernel_22312\\4001016132.py\", line 34, in split_window  *\n        labels.set_shape([None, self.label_width,None])\n\n    ValueError: Dimension 1 in both shapes must be equal, but are 1 and 24. Shapes are [?,1,?] and [?,24,?].\n",
     "output_type": "error",
     "traceback": [
      "\u001b[1;31m---------------------------------------------------------------------------\u001b[0m",
      "\u001b[1;31mValueError\u001b[0m                                Traceback (most recent call last)",
      "Cell \u001b[1;32mIn[68], line 1\u001b[0m\n\u001b[1;32m----> 1\u001b[0m compile_and_fit(lstm_model, wide_window)\n",
      "Cell \u001b[1;32mIn[58], line 6\u001b[0m, in \u001b[0;36mcompile_and_fit\u001b[1;34m(model, window, epochs, patience)\u001b[0m\n\u001b[0;32m      2\u001b[0m early_stopping \u001b[39m=\u001b[39m tf\u001b[39m.\u001b[39mkeras\u001b[39m.\u001b[39mcallbacks\u001b[39m.\u001b[39mEarlyStopping(monitor\u001b[39m=\u001b[39m\u001b[39m'\u001b[39m\u001b[39mval_loss\u001b[39m\u001b[39m'\u001b[39m, patience\u001b[39m=\u001b[39mpatience, mode\u001b[39m=\u001b[39m\u001b[39m'\u001b[39m\u001b[39mmin\u001b[39m\u001b[39m'\u001b[39m)\n\u001b[0;32m      4\u001b[0m model\u001b[39m.\u001b[39mcompile(loss\u001b[39m=\u001b[39mtf\u001b[39m.\u001b[39mlosses\u001b[39m.\u001b[39mMeanSquaredError(), optimizer\u001b[39m=\u001b[39mtf\u001b[39m.\u001b[39moptimizers\u001b[39m.\u001b[39mAdam(), metrics\u001b[39m=\u001b[39m[tf\u001b[39m.\u001b[39mmetrics\u001b[39m.\u001b[39mMeanAbsoluteError()])\n\u001b[1;32m----> 6\u001b[0m history \u001b[39m=\u001b[39m model\u001b[39m.\u001b[39mfit(window\u001b[39m.\u001b[39;49mtrain,epochs \u001b[39m=\u001b[39m epochs,batch_size\u001b[39m=\u001b[39m\u001b[39m32\u001b[39m,validation_data\u001b[39m=\u001b[39m(window\u001b[39m.\u001b[39mval), callbacks\u001b[39m=\u001b[39m[early_stopping])\n\u001b[0;32m      7\u001b[0m \u001b[39mreturn\u001b[39;00m history\n",
      "Cell \u001b[1;32mIn[23], line 48\u001b[0m, in \u001b[0;36mWindowsGenerator.train\u001b[1;34m(self)\u001b[0m\n\u001b[0;32m     46\u001b[0m \u001b[39m@property\u001b[39m\n\u001b[0;32m     47\u001b[0m \u001b[39mdef\u001b[39;00m \u001b[39mtrain\u001b[39m(\u001b[39mself\u001b[39m):\n\u001b[1;32m---> 48\u001b[0m     \u001b[39mreturn\u001b[39;00m \u001b[39mself\u001b[39;49m\u001b[39m.\u001b[39;49mmake_dataset(\u001b[39mself\u001b[39;49m\u001b[39m.\u001b[39;49mtrain_df)\n",
      "Cell \u001b[1;32mIn[23], line 43\u001b[0m, in \u001b[0;36mWindowsGenerator.make_dataset\u001b[1;34m(self, data)\u001b[0m\n\u001b[0;32m     40\u001b[0m data \u001b[39m=\u001b[39m np\u001b[39m.\u001b[39marray(data, dtype\u001b[39m=\u001b[39mnp\u001b[39m.\u001b[39mfloat32)\n\u001b[0;32m     41\u001b[0m ds \u001b[39m=\u001b[39m tf\u001b[39m.\u001b[39mkeras\u001b[39m.\u001b[39mpreprocessing\u001b[39m.\u001b[39mtimeseries_dataset_from_array(data\u001b[39m=\u001b[39mdata,targets\u001b[39m=\u001b[39m\u001b[39mNone\u001b[39;00m,sequence_length\u001b[39m=\u001b[39m\u001b[39mself\u001b[39m\u001b[39m.\u001b[39mtotal_windows_size,sequence_stride\u001b[39m=\u001b[39m\u001b[39m1\u001b[39m,shuffle\u001b[39m=\u001b[39m\u001b[39mFalse\u001b[39;00m,batch_size\u001b[39m=\u001b[39m\u001b[39m32\u001b[39m)\n\u001b[1;32m---> 43\u001b[0m ds \u001b[39m=\u001b[39m ds\u001b[39m.\u001b[39;49mmap(\u001b[39mself\u001b[39;49m\u001b[39m.\u001b[39;49msplit_window)\n\u001b[0;32m     44\u001b[0m \u001b[39mreturn\u001b[39;00m ds\n",
      "File \u001b[1;32mc:\\Users\\Computing\\AppData\\Local\\Programs\\Python\\Python311\\Lib\\site-packages\\tensorflow\\python\\data\\ops\\dataset_ops.py:2278\u001b[0m, in \u001b[0;36mDatasetV2.map\u001b[1;34m(self, map_func, num_parallel_calls, deterministic, name)\u001b[0m\n\u001b[0;32m   2274\u001b[0m \u001b[39m# Loaded lazily due to a circular dependency (dataset_ops -> map_op ->\u001b[39;00m\n\u001b[0;32m   2275\u001b[0m \u001b[39m# dataset_ops).\u001b[39;00m\n\u001b[0;32m   2276\u001b[0m \u001b[39m# pylint: disable=g-import-not-at-top,protected-access\u001b[39;00m\n\u001b[0;32m   2277\u001b[0m \u001b[39mfrom\u001b[39;00m \u001b[39mtensorflow\u001b[39;00m\u001b[39m.\u001b[39;00m\u001b[39mpython\u001b[39;00m\u001b[39m.\u001b[39;00m\u001b[39mdata\u001b[39;00m\u001b[39m.\u001b[39;00m\u001b[39mops\u001b[39;00m \u001b[39mimport\u001b[39;00m map_op\n\u001b[1;32m-> 2278\u001b[0m \u001b[39mreturn\u001b[39;00m map_op\u001b[39m.\u001b[39;49m_map_v2(\n\u001b[0;32m   2279\u001b[0m     \u001b[39mself\u001b[39;49m,\n\u001b[0;32m   2280\u001b[0m     map_func,\n\u001b[0;32m   2281\u001b[0m     num_parallel_calls\u001b[39m=\u001b[39;49mnum_parallel_calls,\n\u001b[0;32m   2282\u001b[0m     deterministic\u001b[39m=\u001b[39;49mdeterministic,\n\u001b[0;32m   2283\u001b[0m     name\u001b[39m=\u001b[39;49mname)\n",
      "File \u001b[1;32mc:\\Users\\Computing\\AppData\\Local\\Programs\\Python\\Python311\\Lib\\site-packages\\tensorflow\\python\\data\\ops\\map_op.py:37\u001b[0m, in \u001b[0;36m_map_v2\u001b[1;34m(input_dataset, map_func, num_parallel_calls, deterministic, name)\u001b[0m\n\u001b[0;32m     34\u001b[0m   \u001b[39mif\u001b[39;00m deterministic \u001b[39mis\u001b[39;00m \u001b[39mnot\u001b[39;00m \u001b[39mNone\u001b[39;00m \u001b[39mand\u001b[39;00m \u001b[39mnot\u001b[39;00m debug_mode\u001b[39m.\u001b[39mDEBUG_MODE:\n\u001b[0;32m     35\u001b[0m     warnings\u001b[39m.\u001b[39mwarn(\u001b[39m\"\u001b[39m\u001b[39mThe `deterministic` argument has no effect unless the \u001b[39m\u001b[39m\"\u001b[39m\n\u001b[0;32m     36\u001b[0m                   \u001b[39m\"\u001b[39m\u001b[39m`num_parallel_calls` argument is specified.\u001b[39m\u001b[39m\"\u001b[39m)\n\u001b[1;32m---> 37\u001b[0m   \u001b[39mreturn\u001b[39;00m _MapDataset(\n\u001b[0;32m     38\u001b[0m       input_dataset, map_func, preserve_cardinality\u001b[39m=\u001b[39;49m\u001b[39mTrue\u001b[39;49;00m, name\u001b[39m=\u001b[39;49mname)\n\u001b[0;32m     39\u001b[0m \u001b[39melse\u001b[39;00m:\n\u001b[0;32m     40\u001b[0m   \u001b[39mreturn\u001b[39;00m _ParallelMapDataset(\n\u001b[0;32m     41\u001b[0m       input_dataset,\n\u001b[0;32m     42\u001b[0m       map_func,\n\u001b[1;32m   (...)\u001b[0m\n\u001b[0;32m     45\u001b[0m       preserve_cardinality\u001b[39m=\u001b[39m\u001b[39mTrue\u001b[39;00m,\n\u001b[0;32m     46\u001b[0m       name\u001b[39m=\u001b[39mname)\n",
      "File \u001b[1;32mc:\\Users\\Computing\\AppData\\Local\\Programs\\Python\\Python311\\Lib\\site-packages\\tensorflow\\python\\data\\ops\\map_op.py:107\u001b[0m, in \u001b[0;36m_MapDataset.__init__\u001b[1;34m(self, input_dataset, map_func, use_inter_op_parallelism, preserve_cardinality, use_legacy_function, name)\u001b[0m\n\u001b[0;32m    105\u001b[0m \u001b[39mself\u001b[39m\u001b[39m.\u001b[39m_use_inter_op_parallelism \u001b[39m=\u001b[39m use_inter_op_parallelism\n\u001b[0;32m    106\u001b[0m \u001b[39mself\u001b[39m\u001b[39m.\u001b[39m_preserve_cardinality \u001b[39m=\u001b[39m preserve_cardinality\n\u001b[1;32m--> 107\u001b[0m \u001b[39mself\u001b[39m\u001b[39m.\u001b[39m_map_func \u001b[39m=\u001b[39m structured_function\u001b[39m.\u001b[39;49mStructuredFunctionWrapper(\n\u001b[0;32m    108\u001b[0m     map_func,\n\u001b[0;32m    109\u001b[0m     \u001b[39mself\u001b[39;49m\u001b[39m.\u001b[39;49m_transformation_name(),\n\u001b[0;32m    110\u001b[0m     dataset\u001b[39m=\u001b[39;49minput_dataset,\n\u001b[0;32m    111\u001b[0m     use_legacy_function\u001b[39m=\u001b[39;49muse_legacy_function)\n\u001b[0;32m    112\u001b[0m \u001b[39mself\u001b[39m\u001b[39m.\u001b[39m_name \u001b[39m=\u001b[39m name\n\u001b[0;32m    113\u001b[0m variant_tensor \u001b[39m=\u001b[39m gen_dataset_ops\u001b[39m.\u001b[39mmap_dataset(\n\u001b[0;32m    114\u001b[0m     input_dataset\u001b[39m.\u001b[39m_variant_tensor,  \u001b[39m# pylint: disable=protected-access\u001b[39;00m\n\u001b[0;32m    115\u001b[0m     \u001b[39mself\u001b[39m\u001b[39m.\u001b[39m_map_func\u001b[39m.\u001b[39mfunction\u001b[39m.\u001b[39mcaptured_inputs,\n\u001b[1;32m   (...)\u001b[0m\n\u001b[0;32m    118\u001b[0m     preserve_cardinality\u001b[39m=\u001b[39m\u001b[39mself\u001b[39m\u001b[39m.\u001b[39m_preserve_cardinality,\n\u001b[0;32m    119\u001b[0m     \u001b[39m*\u001b[39m\u001b[39m*\u001b[39m\u001b[39mself\u001b[39m\u001b[39m.\u001b[39m_common_args)\n",
      "File \u001b[1;32mc:\\Users\\Computing\\AppData\\Local\\Programs\\Python\\Python311\\Lib\\site-packages\\tensorflow\\python\\data\\ops\\structured_function.py:272\u001b[0m, in \u001b[0;36mStructuredFunctionWrapper.__init__\u001b[1;34m(self, func, transformation_name, dataset, input_classes, input_shapes, input_types, input_structure, add_to_graph, use_legacy_function, defun_kwargs)\u001b[0m\n\u001b[0;32m    265\u001b[0m       warnings\u001b[39m.\u001b[39mwarn(\n\u001b[0;32m    266\u001b[0m           \u001b[39m\"\u001b[39m\u001b[39mEven though the `tf.config.experimental_run_functions_eagerly` \u001b[39m\u001b[39m\"\u001b[39m\n\u001b[0;32m    267\u001b[0m           \u001b[39m\"\u001b[39m\u001b[39moption is set, this option does not apply to tf.data functions. \u001b[39m\u001b[39m\"\u001b[39m\n\u001b[0;32m    268\u001b[0m           \u001b[39m\"\u001b[39m\u001b[39mTo force eager execution of tf.data functions, please use \u001b[39m\u001b[39m\"\u001b[39m\n\u001b[0;32m    269\u001b[0m           \u001b[39m\"\u001b[39m\u001b[39m`tf.data.experimental.enable_debug_mode()`.\u001b[39m\u001b[39m\"\u001b[39m)\n\u001b[0;32m    270\u001b[0m     fn_factory \u001b[39m=\u001b[39m trace_tf_function(defun_kwargs)\n\u001b[1;32m--> 272\u001b[0m \u001b[39mself\u001b[39m\u001b[39m.\u001b[39m_function \u001b[39m=\u001b[39m fn_factory()\n\u001b[0;32m    273\u001b[0m \u001b[39m# There is no graph to add in eager mode.\u001b[39;00m\n\u001b[0;32m    274\u001b[0m add_to_graph \u001b[39m&\u001b[39m\u001b[39m=\u001b[39m \u001b[39mnot\u001b[39;00m context\u001b[39m.\u001b[39mexecuting_eagerly()\n",
      "File \u001b[1;32mc:\\Users\\Computing\\AppData\\Local\\Programs\\Python\\Python311\\Lib\\site-packages\\tensorflow\\python\\eager\\polymorphic_function\\polymorphic_function.py:1189\u001b[0m, in \u001b[0;36mFunction.get_concrete_function\u001b[1;34m(self, *args, **kwargs)\u001b[0m\n\u001b[0;32m   1187\u001b[0m \u001b[39mdef\u001b[39;00m \u001b[39mget_concrete_function\u001b[39m(\u001b[39mself\u001b[39m, \u001b[39m*\u001b[39margs, \u001b[39m*\u001b[39m\u001b[39m*\u001b[39mkwargs):\n\u001b[0;32m   1188\u001b[0m   \u001b[39m# Implements GenericFunction.get_concrete_function.\u001b[39;00m\n\u001b[1;32m-> 1189\u001b[0m   concrete \u001b[39m=\u001b[39m \u001b[39mself\u001b[39;49m\u001b[39m.\u001b[39;49m_get_concrete_function_garbage_collected(\u001b[39m*\u001b[39;49margs, \u001b[39m*\u001b[39;49m\u001b[39m*\u001b[39;49mkwargs)\n\u001b[0;32m   1190\u001b[0m   concrete\u001b[39m.\u001b[39m_garbage_collector\u001b[39m.\u001b[39mrelease()  \u001b[39m# pylint: disable=protected-access\u001b[39;00m\n\u001b[0;32m   1191\u001b[0m   \u001b[39mreturn\u001b[39;00m concrete\n",
      "File \u001b[1;32mc:\\Users\\Computing\\AppData\\Local\\Programs\\Python\\Python311\\Lib\\site-packages\\tensorflow\\python\\eager\\polymorphic_function\\polymorphic_function.py:1169\u001b[0m, in \u001b[0;36mFunction._get_concrete_function_garbage_collected\u001b[1;34m(self, *args, **kwargs)\u001b[0m\n\u001b[0;32m   1167\u001b[0m   \u001b[39mif\u001b[39;00m \u001b[39mself\u001b[39m\u001b[39m.\u001b[39m_variable_creation_fn \u001b[39mis\u001b[39;00m \u001b[39mNone\u001b[39;00m:\n\u001b[0;32m   1168\u001b[0m     initializers \u001b[39m=\u001b[39m []\n\u001b[1;32m-> 1169\u001b[0m     \u001b[39mself\u001b[39;49m\u001b[39m.\u001b[39;49m_initialize(args, kwargs, add_initializers_to\u001b[39m=\u001b[39;49minitializers)\n\u001b[0;32m   1170\u001b[0m     \u001b[39mself\u001b[39m\u001b[39m.\u001b[39m_initialize_uninitialized_variables(initializers)\n\u001b[0;32m   1172\u001b[0m \u001b[39mif\u001b[39;00m \u001b[39mself\u001b[39m\u001b[39m.\u001b[39m_created_variables:\n\u001b[0;32m   1173\u001b[0m   \u001b[39m# In this case we have created variables on the first call, so we run the\u001b[39;00m\n\u001b[0;32m   1174\u001b[0m   \u001b[39m# version which is guaranteed to never create variables.\u001b[39;00m\n",
      "File \u001b[1;32mc:\\Users\\Computing\\AppData\\Local\\Programs\\Python\\Python311\\Lib\\site-packages\\tensorflow\\python\\eager\\polymorphic_function\\polymorphic_function.py:694\u001b[0m, in \u001b[0;36mFunction._initialize\u001b[1;34m(self, args, kwds, add_initializers_to)\u001b[0m\n\u001b[0;32m    691\u001b[0m \u001b[39mself\u001b[39m\u001b[39m.\u001b[39m_variable_creation_fn\u001b[39m.\u001b[39m_name \u001b[39m=\u001b[39m \u001b[39mself\u001b[39m\u001b[39m.\u001b[39m_name  \u001b[39m# pylint: disable=protected-access\u001b[39;00m\n\u001b[0;32m    692\u001b[0m \u001b[39m# Force the definition of the function for these arguments\u001b[39;00m\n\u001b[0;32m    693\u001b[0m \u001b[39mself\u001b[39m\u001b[39m.\u001b[39m_concrete_variable_creation_fn \u001b[39m=\u001b[39m (\n\u001b[1;32m--> 694\u001b[0m     \u001b[39mself\u001b[39;49m\u001b[39m.\u001b[39;49m_variable_creation_fn    \u001b[39m# pylint: disable=protected-access\u001b[39;49;00m\n\u001b[0;32m    695\u001b[0m     \u001b[39m.\u001b[39;49m_get_concrete_function_internal_garbage_collected(\n\u001b[0;32m    696\u001b[0m         \u001b[39m*\u001b[39;49margs, \u001b[39m*\u001b[39;49m\u001b[39m*\u001b[39;49mkwds))\n\u001b[0;32m    698\u001b[0m \u001b[39mdef\u001b[39;00m \u001b[39minvalid_creator_scope\u001b[39m(\u001b[39m*\u001b[39munused_args, \u001b[39m*\u001b[39m\u001b[39m*\u001b[39munused_kwds):\n\u001b[0;32m    699\u001b[0m \u001b[39m  \u001b[39m\u001b[39m\"\"\"Disables variable creation.\"\"\"\u001b[39;00m\n",
      "File \u001b[1;32mc:\\Users\\Computing\\AppData\\Local\\Programs\\Python\\Python311\\Lib\\site-packages\\tensorflow\\python\\eager\\polymorphic_function\\tracing_compiler.py:176\u001b[0m, in \u001b[0;36mTracingCompiler._get_concrete_function_internal_garbage_collected\u001b[1;34m(self, *args, **kwargs)\u001b[0m\n\u001b[0;32m    174\u001b[0m \u001b[39m\u001b[39m\u001b[39m\"\"\"Returns a concrete function which cleans up its graph function.\"\"\"\u001b[39;00m\n\u001b[0;32m    175\u001b[0m \u001b[39mwith\u001b[39;00m \u001b[39mself\u001b[39m\u001b[39m.\u001b[39m_lock:\n\u001b[1;32m--> 176\u001b[0m   concrete_function, _ \u001b[39m=\u001b[39m \u001b[39mself\u001b[39;49m\u001b[39m.\u001b[39;49m_maybe_define_concrete_function(args, kwargs)\n\u001b[0;32m    177\u001b[0m \u001b[39mreturn\u001b[39;00m concrete_function\n",
      "File \u001b[1;32mc:\\Users\\Computing\\AppData\\Local\\Programs\\Python\\Python311\\Lib\\site-packages\\tensorflow\\python\\eager\\polymorphic_function\\tracing_compiler.py:171\u001b[0m, in \u001b[0;36mTracingCompiler._maybe_define_concrete_function\u001b[1;34m(self, args, kwargs)\u001b[0m\n\u001b[0;32m    168\u001b[0m   args \u001b[39m=\u001b[39m \u001b[39mself\u001b[39m\u001b[39m.\u001b[39minput_signature\n\u001b[0;32m    169\u001b[0m   kwargs \u001b[39m=\u001b[39m {}\n\u001b[1;32m--> 171\u001b[0m \u001b[39mreturn\u001b[39;00m \u001b[39mself\u001b[39;49m\u001b[39m.\u001b[39;49m_maybe_define_function(args, kwargs)\n",
      "File \u001b[1;32mc:\\Users\\Computing\\AppData\\Local\\Programs\\Python\\Python311\\Lib\\site-packages\\tensorflow\\python\\eager\\polymorphic_function\\tracing_compiler.py:398\u001b[0m, in \u001b[0;36mTracingCompiler._maybe_define_function\u001b[1;34m(self, args, kwargs)\u001b[0m\n\u001b[0;32m    395\u001b[0m args \u001b[39m=\u001b[39m placeholder_bound_args\u001b[39m.\u001b[39margs\n\u001b[0;32m    396\u001b[0m kwargs \u001b[39m=\u001b[39m placeholder_bound_args\u001b[39m.\u001b[39mkwargs\n\u001b[1;32m--> 398\u001b[0m concrete_function \u001b[39m=\u001b[39m \u001b[39mself\u001b[39;49m\u001b[39m.\u001b[39;49m_create_concrete_function(\n\u001b[0;32m    399\u001b[0m     args, kwargs, func_graph)\n\u001b[0;32m    401\u001b[0m \u001b[39m# TODO(b/263520817): Remove access to private attribute.\u001b[39;00m\n\u001b[0;32m    402\u001b[0m graph_capture_container \u001b[39m=\u001b[39m concrete_function\u001b[39m.\u001b[39mgraph\u001b[39m.\u001b[39mfunction_captures\n",
      "File \u001b[1;32mc:\\Users\\Computing\\AppData\\Local\\Programs\\Python\\Python311\\Lib\\site-packages\\tensorflow\\python\\eager\\polymorphic_function\\tracing_compiler.py:305\u001b[0m, in \u001b[0;36mTracingCompiler._create_concrete_function\u001b[1;34m(self, args, kwargs, func_graph)\u001b[0m\n\u001b[0;32m    301\u001b[0m \u001b[39melse\u001b[39;00m:\n\u001b[0;32m    302\u001b[0m   arg_names \u001b[39m=\u001b[39m base_arg_names\n\u001b[0;32m    304\u001b[0m concrete_function \u001b[39m=\u001b[39m monomorphic_function\u001b[39m.\u001b[39mConcreteFunction(\n\u001b[1;32m--> 305\u001b[0m     func_graph_module\u001b[39m.\u001b[39;49mfunc_graph_from_py_func(\n\u001b[0;32m    306\u001b[0m         \u001b[39mself\u001b[39;49m\u001b[39m.\u001b[39;49m_name,\n\u001b[0;32m    307\u001b[0m         \u001b[39mself\u001b[39;49m\u001b[39m.\u001b[39;49m_python_function,\n\u001b[0;32m    308\u001b[0m         args,\n\u001b[0;32m    309\u001b[0m         kwargs,\n\u001b[0;32m    310\u001b[0m         \u001b[39mNone\u001b[39;49;00m,\n\u001b[0;32m    311\u001b[0m         func_graph\u001b[39m=\u001b[39;49mfunc_graph,\n\u001b[0;32m    312\u001b[0m         arg_names\u001b[39m=\u001b[39;49marg_names,\n\u001b[0;32m    313\u001b[0m         capture_by_value\u001b[39m=\u001b[39;49m\u001b[39mself\u001b[39;49m\u001b[39m.\u001b[39;49m_capture_by_value,\n\u001b[0;32m    314\u001b[0m         create_placeholders\u001b[39m=\u001b[39;49m\u001b[39mFalse\u001b[39;49;00m),\n\u001b[0;32m    315\u001b[0m     \u001b[39mself\u001b[39m\u001b[39m.\u001b[39m_function_attributes,\n\u001b[0;32m    316\u001b[0m     spec\u001b[39m=\u001b[39m\u001b[39mself\u001b[39m\u001b[39m.\u001b[39mfunction_spec,\n\u001b[0;32m    317\u001b[0m     \u001b[39m# Tell the ConcreteFunction to clean up its graph once it goes out of\u001b[39;00m\n\u001b[0;32m    318\u001b[0m     \u001b[39m# scope. This is not the default behavior since it gets used in some\u001b[39;00m\n\u001b[0;32m    319\u001b[0m     \u001b[39m# places (like Keras) where the FuncGraph lives longer than the\u001b[39;00m\n\u001b[0;32m    320\u001b[0m     \u001b[39m# ConcreteFunction.\u001b[39;00m\n\u001b[0;32m    321\u001b[0m     shared_func_graph\u001b[39m=\u001b[39m\u001b[39mFalse\u001b[39;00m)\n\u001b[0;32m    322\u001b[0m \u001b[39mreturn\u001b[39;00m concrete_function\n",
      "File \u001b[1;32mc:\\Users\\Computing\\AppData\\Local\\Programs\\Python\\Python311\\Lib\\site-packages\\tensorflow\\python\\framework\\func_graph.py:1055\u001b[0m, in \u001b[0;36mfunc_graph_from_py_func\u001b[1;34m(name, python_func, args, kwargs, signature, func_graph, add_control_dependencies, arg_names, op_return_value, collections, capture_by_value, create_placeholders)\u001b[0m\n\u001b[0;32m   1052\u001b[0m   \u001b[39mreturn\u001b[39;00m x\n\u001b[0;32m   1054\u001b[0m _, original_func \u001b[39m=\u001b[39m tf_decorator\u001b[39m.\u001b[39munwrap(python_func)\n\u001b[1;32m-> 1055\u001b[0m func_outputs \u001b[39m=\u001b[39m python_func(\u001b[39m*\u001b[39;49mfunc_args, \u001b[39m*\u001b[39;49m\u001b[39m*\u001b[39;49mfunc_kwargs)\n\u001b[0;32m   1057\u001b[0m \u001b[39m# invariant: `func_outputs` contains only Tensors, CompositeTensors,\u001b[39;00m\n\u001b[0;32m   1058\u001b[0m \u001b[39m# TensorArrays and `None`s.\u001b[39;00m\n\u001b[0;32m   1059\u001b[0m func_outputs \u001b[39m=\u001b[39m variable_utils\u001b[39m.\u001b[39mconvert_variables_to_tensors(func_outputs)\n",
      "File \u001b[1;32mc:\\Users\\Computing\\AppData\\Local\\Programs\\Python\\Python311\\Lib\\site-packages\\tensorflow\\python\\eager\\polymorphic_function\\polymorphic_function.py:597\u001b[0m, in \u001b[0;36mFunction._compiler_with_scope.<locals>.wrapped_fn\u001b[1;34m(*args, **kwds)\u001b[0m\n\u001b[0;32m    593\u001b[0m \u001b[39mwith\u001b[39;00m default_graph\u001b[39m.\u001b[39m_variable_creator_scope(scope, priority\u001b[39m=\u001b[39m\u001b[39m50\u001b[39m):  \u001b[39m# pylint: disable=protected-access\u001b[39;00m\n\u001b[0;32m    594\u001b[0m   \u001b[39m# __wrapped__ allows AutoGraph to swap in a converted function. We give\u001b[39;00m\n\u001b[0;32m    595\u001b[0m   \u001b[39m# the function a weak reference to itself to avoid a reference cycle.\u001b[39;00m\n\u001b[0;32m    596\u001b[0m   \u001b[39mwith\u001b[39;00m OptionalXlaContext(compile_with_xla):\n\u001b[1;32m--> 597\u001b[0m     out \u001b[39m=\u001b[39m weak_wrapped_fn()\u001b[39m.\u001b[39;49m__wrapped__(\u001b[39m*\u001b[39;49margs, \u001b[39m*\u001b[39;49m\u001b[39m*\u001b[39;49mkwds)\n\u001b[0;32m    598\u001b[0m   \u001b[39mreturn\u001b[39;00m out\n",
      "File \u001b[1;32mc:\\Users\\Computing\\AppData\\Local\\Programs\\Python\\Python311\\Lib\\site-packages\\tensorflow\\python\\data\\ops\\structured_function.py:238\u001b[0m, in \u001b[0;36mStructuredFunctionWrapper.__init__.<locals>.trace_tf_function.<locals>.wrapped_fn\u001b[1;34m(*args)\u001b[0m\n\u001b[0;32m    237\u001b[0m \u001b[39mdef\u001b[39;00m \u001b[39mwrapped_fn\u001b[39m(\u001b[39m*\u001b[39margs):  \u001b[39m# pylint: disable=missing-docstring\u001b[39;00m\n\u001b[1;32m--> 238\u001b[0m   ret \u001b[39m=\u001b[39m wrapper_helper(\u001b[39m*\u001b[39;49margs)\n\u001b[0;32m    239\u001b[0m   ret \u001b[39m=\u001b[39m structure\u001b[39m.\u001b[39mto_tensor_list(\u001b[39mself\u001b[39m\u001b[39m.\u001b[39m_output_structure, ret)\n\u001b[0;32m    240\u001b[0m   \u001b[39mreturn\u001b[39;00m [ops\u001b[39m.\u001b[39mconvert_to_tensor(t) \u001b[39mfor\u001b[39;00m t \u001b[39min\u001b[39;00m ret]\n",
      "File \u001b[1;32mc:\\Users\\Computing\\AppData\\Local\\Programs\\Python\\Python311\\Lib\\site-packages\\tensorflow\\python\\data\\ops\\structured_function.py:168\u001b[0m, in \u001b[0;36mStructuredFunctionWrapper.__init__.<locals>.wrapper_helper\u001b[1;34m(*args)\u001b[0m\n\u001b[0;32m    166\u001b[0m \u001b[39mif\u001b[39;00m \u001b[39mnot\u001b[39;00m _should_unpack(nested_args):\n\u001b[0;32m    167\u001b[0m   nested_args \u001b[39m=\u001b[39m (nested_args,)\n\u001b[1;32m--> 168\u001b[0m ret \u001b[39m=\u001b[39m autograph\u001b[39m.\u001b[39;49mtf_convert(\u001b[39mself\u001b[39;49m\u001b[39m.\u001b[39;49m_func, ag_ctx)(\u001b[39m*\u001b[39;49mnested_args)\n\u001b[0;32m    169\u001b[0m ret \u001b[39m=\u001b[39m variable_utils\u001b[39m.\u001b[39mconvert_variables_to_tensors(ret)\n\u001b[0;32m    170\u001b[0m \u001b[39mif\u001b[39;00m _should_pack(ret):\n",
      "File \u001b[1;32mc:\\Users\\Computing\\AppData\\Local\\Programs\\Python\\Python311\\Lib\\site-packages\\tensorflow\\python\\autograph\\impl\\api.py:693\u001b[0m, in \u001b[0;36mconvert.<locals>.decorator.<locals>.wrapper\u001b[1;34m(*args, **kwargs)\u001b[0m\n\u001b[0;32m    691\u001b[0m \u001b[39mexcept\u001b[39;00m \u001b[39mException\u001b[39;00m \u001b[39mas\u001b[39;00m e:  \u001b[39m# pylint:disable=broad-except\u001b[39;00m\n\u001b[0;32m    692\u001b[0m   \u001b[39mif\u001b[39;00m \u001b[39mhasattr\u001b[39m(e, \u001b[39m'\u001b[39m\u001b[39mag_error_metadata\u001b[39m\u001b[39m'\u001b[39m):\n\u001b[1;32m--> 693\u001b[0m     \u001b[39mraise\u001b[39;00m e\u001b[39m.\u001b[39mag_error_metadata\u001b[39m.\u001b[39mto_exception(e)\n\u001b[0;32m    694\u001b[0m   \u001b[39melse\u001b[39;00m:\n\u001b[0;32m    695\u001b[0m     \u001b[39mraise\u001b[39;00m\n",
      "File \u001b[1;32mc:\\Users\\Computing\\AppData\\Local\\Programs\\Python\\Python311\\Lib\\site-packages\\tensorflow\\python\\autograph\\impl\\api.py:690\u001b[0m, in \u001b[0;36mconvert.<locals>.decorator.<locals>.wrapper\u001b[1;34m(*args, **kwargs)\u001b[0m\n\u001b[0;32m    688\u001b[0m \u001b[39mtry\u001b[39;00m:\n\u001b[0;32m    689\u001b[0m   \u001b[39mwith\u001b[39;00m conversion_ctx:\n\u001b[1;32m--> 690\u001b[0m     \u001b[39mreturn\u001b[39;00m converted_call(f, args, kwargs, options\u001b[39m=\u001b[39;49moptions)\n\u001b[0;32m    691\u001b[0m \u001b[39mexcept\u001b[39;00m \u001b[39mException\u001b[39;00m \u001b[39mas\u001b[39;00m e:  \u001b[39m# pylint:disable=broad-except\u001b[39;00m\n\u001b[0;32m    692\u001b[0m   \u001b[39mif\u001b[39;00m \u001b[39mhasattr\u001b[39m(e, \u001b[39m'\u001b[39m\u001b[39mag_error_metadata\u001b[39m\u001b[39m'\u001b[39m):\n",
      "File \u001b[1;32mc:\\Users\\Computing\\AppData\\Local\\Programs\\Python\\Python311\\Lib\\site-packages\\tensorflow\\python\\autograph\\impl\\api.py:439\u001b[0m, in \u001b[0;36mconverted_call\u001b[1;34m(f, args, kwargs, caller_fn_scope, options)\u001b[0m\n\u001b[0;32m    437\u001b[0m \u001b[39mtry\u001b[39;00m:\n\u001b[0;32m    438\u001b[0m   \u001b[39mif\u001b[39;00m kwargs \u001b[39mis\u001b[39;00m \u001b[39mnot\u001b[39;00m \u001b[39mNone\u001b[39;00m:\n\u001b[1;32m--> 439\u001b[0m     result \u001b[39m=\u001b[39m converted_f(\u001b[39m*\u001b[39;49meffective_args, \u001b[39m*\u001b[39;49m\u001b[39m*\u001b[39;49mkwargs)\n\u001b[0;32m    440\u001b[0m   \u001b[39melse\u001b[39;00m:\n\u001b[0;32m    441\u001b[0m     result \u001b[39m=\u001b[39m converted_f(\u001b[39m*\u001b[39meffective_args)\n",
      "File \u001b[1;32mC:\\Users\\COMPUT~1\\AppData\\Local\\Temp\\__autograph_generated_fileq69go7j1.py:29\u001b[0m, in \u001b[0;36mouter_factory.<locals>.inner_factory.<locals>.tf__split_window\u001b[1;34m(self, features)\u001b[0m\n\u001b[0;32m     27\u001b[0m ag__\u001b[39m.\u001b[39mif_stmt(ag__\u001b[39m.\u001b[39mld(\u001b[39mself\u001b[39m)\u001b[39m.\u001b[39mlabel_columns \u001b[39mis\u001b[39;00m \u001b[39mnot\u001b[39;00m \u001b[39mNone\u001b[39;00m, if_body, else_body, get_state, set_state, (\u001b[39m'\u001b[39m\u001b[39mlabels\u001b[39m\u001b[39m'\u001b[39m,), \u001b[39m1\u001b[39m)\n\u001b[0;32m     28\u001b[0m ag__\u001b[39m.\u001b[39mconverted_call(ag__\u001b[39m.\u001b[39mld(inputs)\u001b[39m.\u001b[39mset_shape, ([\u001b[39mNone\u001b[39;00m, ag__\u001b[39m.\u001b[39mld(\u001b[39mself\u001b[39m)\u001b[39m.\u001b[39minput_width, \u001b[39mNone\u001b[39;00m],), \u001b[39mNone\u001b[39;00m, fscope)\n\u001b[1;32m---> 29\u001b[0m ag__\u001b[39m.\u001b[39;49mconverted_call(ag__\u001b[39m.\u001b[39;49mld(labels)\u001b[39m.\u001b[39;49mset_shape, ([\u001b[39mNone\u001b[39;49;00m, ag__\u001b[39m.\u001b[39;49mld(\u001b[39mself\u001b[39;49m)\u001b[39m.\u001b[39;49mlabel_width, \u001b[39mNone\u001b[39;49;00m],), \u001b[39mNone\u001b[39;49;00m, fscope)\n\u001b[0;32m     30\u001b[0m \u001b[39mtry\u001b[39;00m:\n\u001b[0;32m     31\u001b[0m     do_return \u001b[39m=\u001b[39m \u001b[39mTrue\u001b[39;00m\n",
      "File \u001b[1;32mc:\\Users\\Computing\\AppData\\Local\\Programs\\Python\\Python311\\Lib\\site-packages\\tensorflow\\python\\autograph\\impl\\api.py:331\u001b[0m, in \u001b[0;36mconverted_call\u001b[1;34m(f, args, kwargs, caller_fn_scope, options)\u001b[0m\n\u001b[0;32m    329\u001b[0m \u001b[39mif\u001b[39;00m conversion\u001b[39m.\u001b[39mis_in_allowlist_cache(f, options):\n\u001b[0;32m    330\u001b[0m   logging\u001b[39m.\u001b[39mlog(\u001b[39m2\u001b[39m, \u001b[39m'\u001b[39m\u001b[39mAllowlisted \u001b[39m\u001b[39m%s\u001b[39;00m\u001b[39m: from cache\u001b[39m\u001b[39m'\u001b[39m, f)\n\u001b[1;32m--> 331\u001b[0m   \u001b[39mreturn\u001b[39;00m _call_unconverted(f, args, kwargs, options, \u001b[39mFalse\u001b[39;49;00m)\n\u001b[0;32m    333\u001b[0m \u001b[39mif\u001b[39;00m ag_ctx\u001b[39m.\u001b[39mcontrol_status_ctx()\u001b[39m.\u001b[39mstatus \u001b[39m==\u001b[39m ag_ctx\u001b[39m.\u001b[39mStatus\u001b[39m.\u001b[39mDISABLED:\n\u001b[0;32m    334\u001b[0m   logging\u001b[39m.\u001b[39mlog(\u001b[39m2\u001b[39m, \u001b[39m'\u001b[39m\u001b[39mAllowlisted: \u001b[39m\u001b[39m%s\u001b[39;00m\u001b[39m: AutoGraph is disabled in context\u001b[39m\u001b[39m'\u001b[39m, f)\n",
      "File \u001b[1;32mc:\\Users\\Computing\\AppData\\Local\\Programs\\Python\\Python311\\Lib\\site-packages\\tensorflow\\python\\autograph\\impl\\api.py:460\u001b[0m, in \u001b[0;36m_call_unconverted\u001b[1;34m(f, args, kwargs, options, update_cache)\u001b[0m\n\u001b[0;32m    458\u001b[0m \u001b[39mif\u001b[39;00m kwargs \u001b[39mis\u001b[39;00m \u001b[39mnot\u001b[39;00m \u001b[39mNone\u001b[39;00m:\n\u001b[0;32m    459\u001b[0m   \u001b[39mreturn\u001b[39;00m f(\u001b[39m*\u001b[39margs, \u001b[39m*\u001b[39m\u001b[39m*\u001b[39mkwargs)\n\u001b[1;32m--> 460\u001b[0m \u001b[39mreturn\u001b[39;00m f(\u001b[39m*\u001b[39;49margs)\n",
      "File \u001b[1;32mc:\\Users\\Computing\\AppData\\Local\\Programs\\Python\\Python311\\Lib\\site-packages\\tensorflow\\python\\framework\\ops.py:777\u001b[0m, in \u001b[0;36mTensor.set_shape\u001b[1;34m(self, shape)\u001b[0m\n\u001b[0;32m    775\u001b[0m     \u001b[39melse\u001b[39;00m:\n\u001b[0;32m    776\u001b[0m       dim_list\u001b[39m.\u001b[39mappend(dim\u001b[39m.\u001b[39mvalue)\n\u001b[1;32m--> 777\u001b[0m \u001b[39mself\u001b[39;49m\u001b[39m.\u001b[39;49m_set_shape(dim_list, unknown_shape)\n",
      "\u001b[1;31mValueError\u001b[0m: in user code:\n\n    File \"C:\\Users\\Computing\\AppData\\Local\\Temp\\ipykernel_22312\\4001016132.py\", line 34, in split_window  *\n        labels.set_shape([None, self.label_width,None])\n\n    ValueError: Dimension 1 in both shapes must be equal, but are 1 and 24. Shapes are [?,1,?] and [?,24,?].\n"
     ]
    }
   ],
   "source": [
    "plot_training_history( compile_and_fit(lstm_model, train_df,val_df))"
   ]
  },
  {
   "cell_type": "code",
   "execution_count": null,
   "metadata": {},
   "outputs": [],
   "source": [
    "val_performance['LSTM'] = lstm_model.evaluate(wide_window.val)\n",
    "val_performance"
   ]
  },
  {
   "attachments": {},
   "cell_type": "markdown",
   "metadata": {},
   "source": [
    "### Multiple output"
   ]
  },
  {
   "cell_type": "code",
   "execution_count": null,
   "metadata": {},
   "outputs": [],
   "source": [
    "single_step_window_multiple = WindowsGenerator(input_width=1, label_width=1, shift=1,train_df=train_df,val_df=val_df,test_df=test_df)"
   ]
  },
  {
   "cell_type": "code",
   "execution_count": null,
   "metadata": {},
   "outputs": [],
   "source": [
    "wide_step_window_multiple = WindowsGenerator(input_width=1, label_width=1, shift=1,train_df=train_df,val_df=val_df,test_df=test_df)"
   ]
  },
  {
   "cell_type": "code",
   "execution_count": null,
   "metadata": {},
   "outputs": [
    {
     "name": "stdout",
     "output_type": "stream",
     "text": [
      "208/208 [==============================] - 1s 3ms/step - loss: 0.0739 - mean_absolute_error: 0.0763\n"
     ]
    }
   ],
   "source": [
    "baseline_multiple = Baseline()\n",
    "baseline_multiple.compile(loss=tf.losses.MeanSquaredError(), metrics=[tf.metrics.MeanAbsoluteError()])\n",
    "val_performance={}\n",
    "performance = {}\n",
    "val_performance['Baseline_Multiple'] = baseline_multiple.evaluate(wide_step_window_multiple.val)"
   ]
  },
  {
   "cell_type": "code",
   "execution_count": null,
   "metadata": {},
   "outputs": [
    {
     "data": {
      "text/plain": [
       "{'Baseline_Multiple': [0.07386297732591629, 0.07626243680715561]}"
      ]
     },
     "execution_count": 254,
     "metadata": {},
     "output_type": "execute_result"
    }
   ],
   "source": [
    "val_performance"
   ]
  },
  {
   "cell_type": "code",
   "execution_count": null,
   "metadata": {},
   "outputs": [],
   "source": [
    "lstm_model = tf.keras.models.Sequential([\n",
    "    tf.keras.layers.LSTM(32,return_sequences=True),\n",
    "    tf.keras.layers.Dense(units=num_features)\n",
    "])"
   ]
  },
  {
   "cell_type": "code",
   "execution_count": null,
   "metadata": {},
   "outputs": [],
   "source": [
    "compile_and_fit(lstm_model,wide_window.val)"
   ]
  },
  {
   "cell_type": "code",
   "execution_count": null,
   "metadata": {},
   "outputs": [],
   "source": []
  },
  {
   "attachments": {},
   "cell_type": "markdown",
   "metadata": {},
   "source": [
    "### Multiple step period"
   ]
  },
  {
   "cell_type": "code",
   "execution_count": 294,
   "metadata": {},
   "outputs": [],
   "source": [
    "OUT_STEPS = 24\n",
    "\n",
    "multi_window = WindowsGenerator(input_width=24, label_width=OUT_STEPS, shift=OUT_STEPS, train_df=train_df,val_df=val_df,test_df=test_df)"
   ]
  },
  {
   "cell_type": "code",
   "execution_count": 295,
   "metadata": {},
   "outputs": [],
   "source": [
    "class MultiStepLastBaseline(tf.keras.Model):\n",
    "    def call(self, inputs):\n",
    "        return tf.tile(inputs[:,-1:,:], [1, OUT_STEPS,1])"
   ]
  },
  {
   "cell_type": "code",
   "execution_count": 296,
   "metadata": {},
   "outputs": [],
   "source": [
    "last_baseline = MultiStepLastBaseline()\n",
    "last_baseline.compile(loss=tf.losses.MeanSquaredError(), metrics=[tf.metrics.MeanAbsoluteError()])"
   ]
  },
  {
   "cell_type": "code",
   "execution_count": 297,
   "metadata": {},
   "outputs": [
    {
     "name": "stdout",
     "output_type": "stream",
     "text": [
      "207/207 [==============================] - 1s 3ms/step - loss: 0.4612 - mean_absolute_error: 0.2545\n"
     ]
    }
   ],
   "source": [
    "multi_val_performance = {}\n",
    "multi_val_performance['Last'] = last_baseline.evaluate(multi_window.val)"
   ]
  },
  {
   "cell_type": "code",
   "execution_count": 298,
   "metadata": {},
   "outputs": [],
   "source": [
    "multi_val_performance = {}"
   ]
  },
  {
   "attachments": {},
   "cell_type": "markdown",
   "metadata": {},
   "source": [
    "### Multi with linear model"
   ]
  },
  {
   "cell_type": "code",
   "execution_count": 299,
   "metadata": {},
   "outputs": [],
   "source": [
    "multi_linear_model = tf.keras.Sequential([\n",
    "    tf.keras.layers.Lambda(lambda x: x[:, -1:, :]),\n",
    "    tf.keras.layers.Dense(OUT_STEPS*num_features, kernel_initializer=tf.initializers.zeros),\n",
    "    tf.keras.layers.Reshape([OUT_STEPS,num_features])\n",
    "])"
   ]
  },
  {
   "cell_type": "code",
   "execution_count": 300,
   "metadata": {},
   "outputs": [
    {
     "name": "stdout",
     "output_type": "stream",
     "text": [
      "Epoch 1/20\n",
      "669/727 [==========================>...] - ETA: 0s - loss: 0.3764 - mean_absolute_error: 0.4153WARNING:tensorflow:Early stopping conditioned on metric `val_loss` which is not available. Available metrics are: loss,mean_absolute_error\n",
      "727/727 [==============================] - 1s 754us/step - loss: 0.3650 - mean_absolute_error: 0.4049\n",
      "Epoch 2/20\n",
      "669/727 [==========================>...] - ETA: 0s - loss: 0.1700 - mean_absolute_error: 0.2034WARNING:tensorflow:Early stopping conditioned on metric `val_loss` which is not available. Available metrics are: loss,mean_absolute_error\n",
      "727/727 [==============================] - 1s 751us/step - loss: 0.1695 - mean_absolute_error: 0.2000\n",
      "Epoch 3/20\n",
      "704/727 [============================>.] - ETA: 0s - loss: 0.1376 - mean_absolute_error: 0.1341WARNING:tensorflow:Early stopping conditioned on metric `val_loss` which is not available. Available metrics are: loss,mean_absolute_error\n",
      "727/727 [==============================] - 1s 720us/step - loss: 0.1399 - mean_absolute_error: 0.1336\n",
      "Epoch 4/20\n",
      "682/727 [===========================>..] - ETA: 0s - loss: 0.1306 - mean_absolute_error: 0.1079WARNING:tensorflow:Early stopping conditioned on metric `val_loss` which is not available. Available metrics are: loss,mean_absolute_error\n",
      "727/727 [==============================] - 1s 742us/step - loss: 0.1329 - mean_absolute_error: 0.1073\n",
      "Epoch 5/20\n",
      "703/727 [============================>.] - ETA: 0s - loss: 0.1273 - mean_absolute_error: 0.0969WARNING:tensorflow:Early stopping conditioned on metric `val_loss` which is not available. Available metrics are: loss,mean_absolute_error\n",
      "727/727 [==============================] - 1s 722us/step - loss: 0.1299 - mean_absolute_error: 0.0969\n",
      "Epoch 6/20\n",
      "694/727 [===========================>..] - ETA: 0s - loss: 0.1251 - mean_absolute_error: 0.0906WARNING:tensorflow:Early stopping conditioned on metric `val_loss` which is not available. Available metrics are: loss,mean_absolute_error\n",
      "727/727 [==============================] - 1s 801us/step - loss: 0.1284 - mean_absolute_error: 0.0908\n",
      "Epoch 7/20\n",
      "685/727 [===========================>..] - ETA: 0s - loss: 0.1249 - mean_absolute_error: 0.0872WARNING:tensorflow:Early stopping conditioned on metric `val_loss` which is not available. Available metrics are: loss,mean_absolute_error\n",
      "727/727 [==============================] - 1s 746us/step - loss: 0.1278 - mean_absolute_error: 0.0873\n",
      "Epoch 8/20\n",
      "724/727 [============================>.] - ETA: 0s - loss: 0.1278 - mean_absolute_error: 0.0853WARNING:tensorflow:Early stopping conditioned on metric `val_loss` which is not available. Available metrics are: loss,mean_absolute_error\n",
      "727/727 [==============================] - 1s 771us/step - loss: 0.1276 - mean_absolute_error: 0.0853\n",
      "Epoch 9/20\n",
      "709/727 [============================>.] - ETA: 0s - loss: 0.1246 - mean_absolute_error: 0.0837WARNING:tensorflow:Early stopping conditioned on metric `val_loss` which is not available. Available metrics are: loss,mean_absolute_error\n",
      "727/727 [==============================] - 1s 782us/step - loss: 0.1276 - mean_absolute_error: 0.0842\n",
      "Epoch 10/20\n",
      "722/727 [============================>.] - ETA: 0s - loss: 0.1269 - mean_absolute_error: 0.0836WARNING:tensorflow:Early stopping conditioned on metric `val_loss` which is not available. Available metrics are: loss,mean_absolute_error\n",
      "727/727 [==============================] - 1s 772us/step - loss: 0.1276 - mean_absolute_error: 0.0837\n",
      "Epoch 11/20\n",
      "715/727 [============================>.] - ETA: 0s - loss: 0.1244 - mean_absolute_error: 0.0832WARNING:tensorflow:Early stopping conditioned on metric `val_loss` which is not available. Available metrics are: loss,mean_absolute_error\n",
      "727/727 [==============================] - 1s 779us/step - loss: 0.1277 - mean_absolute_error: 0.0837\n",
      "Epoch 12/20\n",
      "718/727 [============================>.] - ETA: 0s - loss: 0.1261 - mean_absolute_error: 0.0834WARNING:tensorflow:Early stopping conditioned on metric `val_loss` which is not available. Available metrics are: loss,mean_absolute_error\n",
      "727/727 [==============================] - 1s 773us/step - loss: 0.1277 - mean_absolute_error: 0.0837\n",
      "Epoch 13/20\n",
      "704/727 [============================>.] - ETA: 0s - loss: 0.1251 - mean_absolute_error: 0.0833WARNING:tensorflow:Early stopping conditioned on metric `val_loss` which is not available. Available metrics are: loss,mean_absolute_error\n",
      "727/727 [==============================] - 1s 790us/step - loss: 0.1277 - mean_absolute_error: 0.0837\n",
      "Epoch 14/20\n",
      "722/727 [============================>.] - ETA: 0s - loss: 0.1270 - mean_absolute_error: 0.0836WARNING:tensorflow:Early stopping conditioned on metric `val_loss` which is not available. Available metrics are: loss,mean_absolute_error\n",
      "727/727 [==============================] - 1s 769us/step - loss: 0.1277 - mean_absolute_error: 0.0838\n",
      "Epoch 15/20\n",
      "709/727 [============================>.] - ETA: 0s - loss: 0.1247 - mean_absolute_error: 0.0834WARNING:tensorflow:Early stopping conditioned on metric `val_loss` which is not available. Available metrics are: loss,mean_absolute_error\n",
      "727/727 [==============================] - 1s 779us/step - loss: 0.1277 - mean_absolute_error: 0.0838\n",
      "Epoch 16/20\n",
      "722/727 [============================>.] - ETA: 0s - loss: 0.1270 - mean_absolute_error: 0.0839WARNING:tensorflow:Early stopping conditioned on metric `val_loss` which is not available. Available metrics are: loss,mean_absolute_error\n",
      "727/727 [==============================] - 1s 770us/step - loss: 0.1277 - mean_absolute_error: 0.0840\n",
      "Epoch 17/20\n",
      "680/727 [===========================>..] - ETA: 0s - loss: 0.1252 - mean_absolute_error: 0.0840WARNING:tensorflow:Early stopping conditioned on metric `val_loss` which is not available. Available metrics are: loss,mean_absolute_error\n",
      "727/727 [==============================] - 1s 743us/step - loss: 0.1277 - mean_absolute_error: 0.0843\n",
      "Epoch 18/20\n",
      "670/727 [==========================>...] - ETA: 0s - loss: 0.1262 - mean_absolute_error: 0.0849WARNING:tensorflow:Early stopping conditioned on metric `val_loss` which is not available. Available metrics are: loss,mean_absolute_error\n",
      "727/727 [==============================] - 1s 752us/step - loss: 0.1277 - mean_absolute_error: 0.0848\n",
      "Epoch 19/20\n",
      "688/727 [===========================>..] - ETA: 0s - loss: 0.1250 - mean_absolute_error: 0.0850WARNING:tensorflow:Early stopping conditioned on metric `val_loss` which is not available. Available metrics are: loss,mean_absolute_error\n",
      "727/727 [==============================] - 1s 815us/step - loss: 0.1278 - mean_absolute_error: 0.0854\n",
      "Epoch 20/20\n",
      "660/727 [==========================>...] - ETA: 0s - loss: 0.1242 - mean_absolute_error: 0.0862WARNING:tensorflow:Early stopping conditioned on metric `val_loss` which is not available. Available metrics are: loss,mean_absolute_error\n",
      "727/727 [==============================] - 1s 761us/step - loss: 0.1278 - mean_absolute_error: 0.0862\n",
      "207/207 [==============================] - 0s 737us/step - loss: 0.1183 - mean_absolute_error: 0.1477\n"
     ]
    }
   ],
   "source": [
    "compile_and_fit(multi_linear_model,multi_window)\n",
    "\n",
    "multi_val_performance['linear'] = multi_linear_model.evaluate(multi_window.val)"
   ]
  },
  {
   "cell_type": "code",
   "execution_count": 301,
   "metadata": {},
   "outputs": [
    {
     "data": {
      "text/plain": [
       "{'linear': [0.11831916868686676, 0.14774204790592194]}"
      ]
     },
     "execution_count": 301,
     "metadata": {},
     "output_type": "execute_result"
    }
   ],
   "source": [
    "multi_val_performance"
   ]
  },
  {
   "cell_type": "code",
   "execution_count": 302,
   "metadata": {},
   "outputs": [],
   "source": [
    "multi_dense_model = tf.keras.Sequential([\n",
    "    tf.keras.layers.Lambda(lambda x: x[:, -1:, :]),\n",
    "    tf.keras.layers.Dense(512, activation='relu'),\n",
    "    tf.keras.layers.Dense(OUT_STEPS*num_features, kernel_initializer=tf.initializers.zeros),\n",
    "    tf.keras.layers.Reshape([OUT_STEPS,num_features])\n",
    "])"
   ]
  },
  {
   "cell_type": "code",
   "execution_count": 303,
   "metadata": {},
   "outputs": [
    {
     "name": "stdout",
     "output_type": "stream",
     "text": [
      "Epoch 1/20\n",
      "713/727 [============================>.] - ETA: 0s - loss: 0.1382 - mean_absolute_error: 0.1321WARNING:tensorflow:Early stopping conditioned on metric `val_loss` which is not available. Available metrics are: loss,mean_absolute_error\n",
      "727/727 [==============================] - 1s 1ms/step - loss: 0.1409 - mean_absolute_error: 0.1323\n",
      "Epoch 2/20\n",
      "708/727 [============================>.] - ETA: 0s - loss: 0.1334 - mean_absolute_error: 0.1256WARNING:tensorflow:Early stopping conditioned on metric `val_loss` which is not available. Available metrics are: loss,mean_absolute_error\n",
      "727/727 [==============================] - 1s 1ms/step - loss: 0.1360 - mean_absolute_error: 0.1260\n",
      "Epoch 3/20\n",
      "706/727 [============================>.] - ETA: 0s - loss: 0.1281 - mean_absolute_error: 0.1184WARNING:tensorflow:Early stopping conditioned on metric `val_loss` which is not available. Available metrics are: loss,mean_absolute_error\n",
      "727/727 [==============================] - 1s 1ms/step - loss: 0.1305 - mean_absolute_error: 0.1191\n",
      "Epoch 4/20\n",
      "706/727 [============================>.] - ETA: 0s - loss: 0.1246 - mean_absolute_error: 0.1134WARNING:tensorflow:Early stopping conditioned on metric `val_loss` which is not available. Available metrics are: loss,mean_absolute_error\n",
      "727/727 [==============================] - 1s 1ms/step - loss: 0.1272 - mean_absolute_error: 0.1142\n",
      "Epoch 5/20\n",
      "692/727 [===========================>..] - ETA: 0s - loss: 0.1214 - mean_absolute_error: 0.1098WARNING:tensorflow:Early stopping conditioned on metric `val_loss` which is not available. Available metrics are: loss,mean_absolute_error\n",
      "727/727 [==============================] - 1s 1ms/step - loss: 0.1245 - mean_absolute_error: 0.1107\n",
      "Epoch 6/20\n",
      "705/727 [============================>.] - ETA: 0s - loss: 0.1196 - mean_absolute_error: 0.1061WARNING:tensorflow:Early stopping conditioned on metric `val_loss` which is not available. Available metrics are: loss,mean_absolute_error\n",
      "727/727 [==============================] - 1s 1ms/step - loss: 0.1222 - mean_absolute_error: 0.1071\n",
      "Epoch 7/20\n",
      "711/727 [============================>.] - ETA: 0s - loss: 0.1172 - mean_absolute_error: 0.1016WARNING:tensorflow:Early stopping conditioned on metric `val_loss` which is not available. Available metrics are: loss,mean_absolute_error\n",
      "727/727 [==============================] - 1s 1ms/step - loss: 0.1201 - mean_absolute_error: 0.1025\n",
      "Epoch 8/20\n",
      "719/727 [============================>.] - ETA: 0s - loss: 0.1178 - mean_absolute_error: 0.1001WARNING:tensorflow:Early stopping conditioned on metric `val_loss` which is not available. Available metrics are: loss,mean_absolute_error\n",
      "727/727 [==============================] - 1s 1ms/step - loss: 0.1191 - mean_absolute_error: 0.1005\n",
      "Epoch 9/20\n",
      "718/727 [============================>.] - ETA: 0s - loss: 0.1166 - mean_absolute_error: 0.0986WARNING:tensorflow:Early stopping conditioned on metric `val_loss` which is not available. Available metrics are: loss,mean_absolute_error\n",
      "727/727 [==============================] - 1s 1ms/step - loss: 0.1180 - mean_absolute_error: 0.0992\n",
      "Epoch 10/20\n",
      "706/727 [============================>.] - ETA: 0s - loss: 0.1146 - mean_absolute_error: 0.0977WARNING:tensorflow:Early stopping conditioned on metric `val_loss` which is not available. Available metrics are: loss,mean_absolute_error\n",
      "727/727 [==============================] - 1s 1ms/step - loss: 0.1173 - mean_absolute_error: 0.0985\n",
      "Epoch 11/20\n",
      "703/727 [============================>.] - ETA: 0s - loss: 0.1142 - mean_absolute_error: 0.0977WARNING:tensorflow:Early stopping conditioned on metric `val_loss` which is not available. Available metrics are: loss,mean_absolute_error\n",
      "727/727 [==============================] - 1s 1ms/step - loss: 0.1169 - mean_absolute_error: 0.0985\n",
      "Epoch 12/20\n",
      "717/727 [============================>.] - ETA: 0s - loss: 0.1141 - mean_absolute_error: 0.0970WARNING:tensorflow:Early stopping conditioned on metric `val_loss` which is not available. Available metrics are: loss,mean_absolute_error\n",
      "727/727 [==============================] - 1s 1ms/step - loss: 0.1164 - mean_absolute_error: 0.0976\n",
      "Epoch 13/20\n",
      "711/727 [============================>.] - ETA: 0s - loss: 0.1130 - mean_absolute_error: 0.0957WARNING:tensorflow:Early stopping conditioned on metric `val_loss` which is not available. Available metrics are: loss,mean_absolute_error\n",
      "727/727 [==============================] - 1s 1ms/step - loss: 0.1159 - mean_absolute_error: 0.0964\n",
      "Epoch 14/20\n",
      "701/727 [===========================>..] - ETA: 0s - loss: 0.1123 - mean_absolute_error: 0.0948WARNING:tensorflow:Early stopping conditioned on metric `val_loss` which is not available. Available metrics are: loss,mean_absolute_error\n",
      "727/727 [==============================] - 1s 1ms/step - loss: 0.1155 - mean_absolute_error: 0.0958\n",
      "Epoch 15/20\n",
      "710/727 [============================>.] - ETA: 0s - loss: 0.1123 - mean_absolute_error: 0.0938WARNING:tensorflow:Early stopping conditioned on metric `val_loss` which is not available. Available metrics are: loss,mean_absolute_error\n",
      "727/727 [==============================] - 1s 1ms/step - loss: 0.1152 - mean_absolute_error: 0.0945\n",
      "Epoch 16/20\n",
      "719/727 [============================>.] - ETA: 0s - loss: 0.1135 - mean_absolute_error: 0.0928WARNING:tensorflow:Early stopping conditioned on metric `val_loss` which is not available. Available metrics are: loss,mean_absolute_error\n",
      "727/727 [==============================] - 1s 1ms/step - loss: 0.1148 - mean_absolute_error: 0.0932\n",
      "Epoch 17/20\n",
      "700/727 [===========================>..] - ETA: 0s - loss: 0.1112 - mean_absolute_error: 0.0911WARNING:tensorflow:Early stopping conditioned on metric `val_loss` which is not available. Available metrics are: loss,mean_absolute_error\n",
      "727/727 [==============================] - 1s 1ms/step - loss: 0.1145 - mean_absolute_error: 0.0922\n",
      "Epoch 18/20\n",
      "715/727 [============================>.] - ETA: 0s - loss: 0.1113 - mean_absolute_error: 0.0906WARNING:tensorflow:Early stopping conditioned on metric `val_loss` which is not available. Available metrics are: loss,mean_absolute_error\n",
      "727/727 [==============================] - 1s 1ms/step - loss: 0.1143 - mean_absolute_error: 0.0913\n",
      "Epoch 19/20\n",
      "722/727 [============================>.] - ETA: 0s - loss: 0.1134 - mean_absolute_error: 0.0904WARNING:tensorflow:Early stopping conditioned on metric `val_loss` which is not available. Available metrics are: loss,mean_absolute_error\n",
      "727/727 [==============================] - 1s 1ms/step - loss: 0.1141 - mean_absolute_error: 0.0906\n",
      "Epoch 20/20\n",
      "716/727 [============================>.] - ETA: 0s - loss: 0.1112 - mean_absolute_error: 0.0898WARNING:tensorflow:Early stopping conditioned on metric `val_loss` which is not available. Available metrics are: loss,mean_absolute_error\n",
      "727/727 [==============================] - 1s 1ms/step - loss: 0.1139 - mean_absolute_error: 0.0904\n"
     ]
    }
   ],
   "source": [
    "compile_and_fit(multi_dense_model,multi_window)"
   ]
  },
  {
   "cell_type": "code",
   "execution_count": 304,
   "metadata": {},
   "outputs": [
    {
     "name": "stdout",
     "output_type": "stream",
     "text": [
      "207/207 [==============================] - 0s 879us/step - loss: 0.1445 - mean_absolute_error: 0.2175\n"
     ]
    }
   ],
   "source": [
    "multi_val_performance['Dense'] = multi_dense_model.evaluate(multi_window.val)"
   ]
  },
  {
   "cell_type": "code",
   "execution_count": 305,
   "metadata": {},
   "outputs": [
    {
     "data": {
      "text/plain": [
       "{'linear': [0.11831916868686676, 0.14774204790592194],\n",
       " 'Dense': [0.14446008205413818, 0.21749641001224518]}"
      ]
     },
     "execution_count": 305,
     "metadata": {},
     "output_type": "execute_result"
    }
   ],
   "source": [
    "multi_val_performance"
   ]
  },
  {
   "cell_type": "code",
   "execution_count": 306,
   "metadata": {},
   "outputs": [],
   "source": [
    "\n",
    "multi_conv_model = tf.keras.Sequential([\n",
    "    tf.keras.layers.Lambda(lambda x: x[:, -1:, :]),\n",
    "    tf.keras.layers.Conv1D(256, activation='relu', kernel_size=(CONV_WIDTH)),\n",
    "    tf.keras.layers.Dense(OUT_STEPS*num_features, kernel_initializer=tf.initializers.zeros),\n",
    "    tf.keras.layers.Reshape([OUT_STEPS,num_features])\n",
    "])"
   ]
  },
  {
   "cell_type": "code",
   "execution_count": null,
   "metadata": {},
   "outputs": [],
   "source": [
    "compile_and_fit(multi_conv_model, multi_window)"
   ]
  },
  {
   "attachments": {},
   "cell_type": "markdown",
   "metadata": {},
   "source": [
    "### Process tweets"
   ]
  },
  {
   "cell_type": "code",
   "execution_count": null,
   "metadata": {},
   "outputs": [],
   "source": [
    "tweets_2015 = pd.read_csv('../archive/data/tweets/combined_tweets_2015_labeled.csv')\n",
    "tweets_2016 = pd.read_csv('../archive/data/tweets/combined_tweets_2016_labeled.csv')\n",
    "tweets_2017 = pd.read_csv('../archive/data/tweets/combined_tweets_2017_labeled.csv')\n",
    "tweets_2018 = pd.read_csv('../archive/data/tweets/combined_tweets_2018_labeled.csv')\n",
    "tweets_2019 = pd.read_csv('../archive/data/tweets/combined_tweets_2019_apr_dec_labeled.csv')\n",
    "tweets_2020 = pd.read_csv('../archive/data/tweets/combined_tweets_2020_labeled.csv')\n",
    "tweets_2021 = pd.read_csv('../archive/data/tweets/combined_tweets_2021_jan_may_labeled.csv')"
   ]
  }
 ],
 "metadata": {
  "kernelspec": {
   "display_name": "Python 3",
   "language": "python",
   "name": "python3"
  },
  "language_info": {
   "codemirror_mode": {
    "name": "ipython",
    "version": 3
   },
   "file_extension": ".py",
   "mimetype": "text/x-python",
   "name": "python",
   "nbconvert_exporter": "python",
   "pygments_lexer": "ipython3",
   "version": "3.11.1 (tags/v3.11.1:a7a450f, Dec  6 2022, 19:58:39) [MSC v.1934 64 bit (AMD64)]"
  },
  "orig_nbformat": 4,
  "vscode": {
   "interpreter": {
    "hash": "24905e458ad4dc5a4619ab5330e2c95bb62fcc8cfba758a3e378b0342911d66f"
   }
  }
 },
 "nbformat": 4,
 "nbformat_minor": 2
}
