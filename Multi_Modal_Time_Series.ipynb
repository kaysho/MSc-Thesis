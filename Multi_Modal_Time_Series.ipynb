{
 "cells": [
  {
   "cell_type": "code",
   "execution_count": null,
   "metadata": {},
   "outputs": [],
   "source": [
    "%pip install yfinance\n",
    "%pip install nltk\n",
    "%pip install matplotlib\n",
    "%pip install seaborn\n",
    "%pip install wordcloud\n",
    "%pip install torchvision\n",
    "%pip install -U scikit-learn scipy matplotlib\n",
    "%pip install pytorch-lightning\n",
    "%pip install transformers"
   ]
  },
  {
   "cell_type": "code",
   "execution_count": 81,
   "metadata": {},
   "outputs": [],
   "source": [
    "from sklearn.metrics import mean_absolute_error\n",
    "import pandas as pd\n",
    "import tensorflow as tf\n",
    "import yfinance as yf\n",
    "\n",
    "import numpy as np\n",
    "\n",
    "from sklearn.model_selection import train_test_split"
   ]
  },
  {
   "cell_type": "code",
   "execution_count": 25,
   "metadata": {},
   "outputs": [
    {
     "name": "stdout",
     "output_type": "stream",
     "text": [
      "[*********************100%%**********************]  1 of 1 completed\n"
     ]
    }
   ],
   "source": [
    "start_date ='2009-01-12'\n",
    "end_date = '2023-01-09'\n",
    "price = yf.download(\"BTC-USD\", start=start_date, end=end_date)"
   ]
  },
  {
   "cell_type": "code",
   "execution_count": 27,
   "metadata": {},
   "outputs": [],
   "source": [
    "crypto_price_daily_2009_2023 = price.reset_index()"
   ]
  },
  {
   "cell_type": "code",
   "execution_count": 28,
   "metadata": {},
   "outputs": [
    {
     "data": {
      "text/plain": [
       "(3036, 7)"
      ]
     },
     "execution_count": 28,
     "metadata": {},
     "output_type": "execute_result"
    }
   ],
   "source": [
    "crypto_price_daily_2009_2023.shape"
   ]
  },
  {
   "cell_type": "code",
   "execution_count": 64,
   "metadata": {},
   "outputs": [],
   "source": [
    "crypto_price_hourly_2018_2022 = pd.read_csv('../archive/BTC-Hourly.csv')"
   ]
  },
  {
   "cell_type": "code",
   "execution_count": 49,
   "metadata": {},
   "outputs": [
    {
     "data": {
      "text/plain": [
       "(33259, 9)"
      ]
     },
     "execution_count": 49,
     "metadata": {},
     "output_type": "execute_result"
    }
   ],
   "source": [
    "crypto_price_hourly_2018_2022.shape"
   ]
  },
  {
   "cell_type": "code",
   "execution_count": 53,
   "metadata": {},
   "outputs": [
    {
     "data": {
      "text/html": [
       "<div>\n",
       "<style scoped>\n",
       "    .dataframe tbody tr th:only-of-type {\n",
       "        vertical-align: middle;\n",
       "    }\n",
       "\n",
       "    .dataframe tbody tr th {\n",
       "        vertical-align: top;\n",
       "    }\n",
       "\n",
       "    .dataframe thead th {\n",
       "        text-align: right;\n",
       "    }\n",
       "</style>\n",
       "<table border=\"1\" class=\"dataframe\">\n",
       "  <thead>\n",
       "    <tr style=\"text-align: right;\">\n",
       "      <th></th>\n",
       "      <th>unix</th>\n",
       "      <th>symbol</th>\n",
       "      <th>open</th>\n",
       "      <th>high</th>\n",
       "      <th>low</th>\n",
       "      <th>close</th>\n",
       "      <th>Volume BTC</th>\n",
       "      <th>Volume USD</th>\n",
       "    </tr>\n",
       "  </thead>\n",
       "  <tbody>\n",
       "    <tr>\n",
       "      <th>0</th>\n",
       "      <td>1646092800</td>\n",
       "      <td>BTC/USD</td>\n",
       "      <td>43221.71</td>\n",
       "      <td>43626.49</td>\n",
       "      <td>43185.48</td>\n",
       "      <td>43312.27</td>\n",
       "      <td>5.205632e+01</td>\n",
       "      <td>2.254677e+06</td>\n",
       "    </tr>\n",
       "    <tr>\n",
       "      <th>1</th>\n",
       "      <td>1646089200</td>\n",
       "      <td>BTC/USD</td>\n",
       "      <td>43085.30</td>\n",
       "      <td>43364.81</td>\n",
       "      <td>42892.37</td>\n",
       "      <td>43178.98</td>\n",
       "      <td>1.068161e+02</td>\n",
       "      <td>4.612210e+06</td>\n",
       "    </tr>\n",
       "    <tr>\n",
       "      <th>2</th>\n",
       "      <td>1646085600</td>\n",
       "      <td>BTC/USD</td>\n",
       "      <td>41657.23</td>\n",
       "      <td>44256.08</td>\n",
       "      <td>41650.29</td>\n",
       "      <td>42907.32</td>\n",
       "      <td>5.275406e+02</td>\n",
       "      <td>2.263535e+07</td>\n",
       "    </tr>\n",
       "    <tr>\n",
       "      <th>3</th>\n",
       "      <td>1646082000</td>\n",
       "      <td>BTC/USD</td>\n",
       "      <td>41917.09</td>\n",
       "      <td>41917.09</td>\n",
       "      <td>41542.60</td>\n",
       "      <td>41659.53</td>\n",
       "      <td>6.975168e+01</td>\n",
       "      <td>2.905822e+06</td>\n",
       "    </tr>\n",
       "    <tr>\n",
       "      <th>4</th>\n",
       "      <td>1646078400</td>\n",
       "      <td>BTC/USD</td>\n",
       "      <td>41361.99</td>\n",
       "      <td>41971.00</td>\n",
       "      <td>41284.11</td>\n",
       "      <td>41914.97</td>\n",
       "      <td>2.471517e+02</td>\n",
       "      <td>1.035935e+07</td>\n",
       "    </tr>\n",
       "    <tr>\n",
       "      <th>...</th>\n",
       "      <td>...</td>\n",
       "      <td>...</td>\n",
       "      <td>...</td>\n",
       "      <td>...</td>\n",
       "      <td>...</td>\n",
       "      <td>...</td>\n",
       "      <td>...</td>\n",
       "      <td>...</td>\n",
       "    </tr>\n",
       "    <tr>\n",
       "      <th>33254</th>\n",
       "      <td>1526378400</td>\n",
       "      <td>BTC/USD</td>\n",
       "      <td>8708.32</td>\n",
       "      <td>8865.00</td>\n",
       "      <td>8695.11</td>\n",
       "      <td>8795.90</td>\n",
       "      <td>1.110127e+07</td>\n",
       "      <td>1.260690e+03</td>\n",
       "    </tr>\n",
       "    <tr>\n",
       "      <th>33255</th>\n",
       "      <td>1526374800</td>\n",
       "      <td>BTC/USD</td>\n",
       "      <td>8728.49</td>\n",
       "      <td>8754.40</td>\n",
       "      <td>8701.35</td>\n",
       "      <td>8708.32</td>\n",
       "      <td>1.593992e+06</td>\n",
       "      <td>1.826200e+02</td>\n",
       "    </tr>\n",
       "    <tr>\n",
       "      <th>33256</th>\n",
       "      <td>1526371200</td>\n",
       "      <td>BTC/USD</td>\n",
       "      <td>8739.00</td>\n",
       "      <td>8750.27</td>\n",
       "      <td>8660.53</td>\n",
       "      <td>8728.49</td>\n",
       "      <td>7.986063e+06</td>\n",
       "      <td>9.177900e+02</td>\n",
       "    </tr>\n",
       "    <tr>\n",
       "      <th>33257</th>\n",
       "      <td>1526367600</td>\n",
       "      <td>BTC/USD</td>\n",
       "      <td>8740.99</td>\n",
       "      <td>8766.00</td>\n",
       "      <td>8721.11</td>\n",
       "      <td>8739.00</td>\n",
       "      <td>2.390399e+06</td>\n",
       "      <td>2.735800e+02</td>\n",
       "    </tr>\n",
       "    <tr>\n",
       "      <th>33258</th>\n",
       "      <td>1526364000</td>\n",
       "      <td>BTC/USD</td>\n",
       "      <td>8733.86</td>\n",
       "      <td>8796.68</td>\n",
       "      <td>8707.28</td>\n",
       "      <td>8740.99</td>\n",
       "      <td>4.906603e+06</td>\n",
       "      <td>5.599300e+02</td>\n",
       "    </tr>\n",
       "  </tbody>\n",
       "</table>\n",
       "<p>33259 rows × 8 columns</p>\n",
       "</div>"
      ],
      "text/plain": [
       "             unix   symbol      open      high       low     close  \\\n",
       "0      1646092800  BTC/USD  43221.71  43626.49  43185.48  43312.27   \n",
       "1      1646089200  BTC/USD  43085.30  43364.81  42892.37  43178.98   \n",
       "2      1646085600  BTC/USD  41657.23  44256.08  41650.29  42907.32   \n",
       "3      1646082000  BTC/USD  41917.09  41917.09  41542.60  41659.53   \n",
       "4      1646078400  BTC/USD  41361.99  41971.00  41284.11  41914.97   \n",
       "...           ...      ...       ...       ...       ...       ...   \n",
       "33254  1526378400  BTC/USD   8708.32   8865.00   8695.11   8795.90   \n",
       "33255  1526374800  BTC/USD   8728.49   8754.40   8701.35   8708.32   \n",
       "33256  1526371200  BTC/USD   8739.00   8750.27   8660.53   8728.49   \n",
       "33257  1526367600  BTC/USD   8740.99   8766.00   8721.11   8739.00   \n",
       "33258  1526364000  BTC/USD   8733.86   8796.68   8707.28   8740.99   \n",
       "\n",
       "         Volume BTC    Volume USD  \n",
       "0      5.205632e+01  2.254677e+06  \n",
       "1      1.068161e+02  4.612210e+06  \n",
       "2      5.275406e+02  2.263535e+07  \n",
       "3      6.975168e+01  2.905822e+06  \n",
       "4      2.471517e+02  1.035935e+07  \n",
       "...             ...           ...  \n",
       "33254  1.110127e+07  1.260690e+03  \n",
       "33255  1.593992e+06  1.826200e+02  \n",
       "33256  7.986063e+06  9.177900e+02  \n",
       "33257  2.390399e+06  2.735800e+02  \n",
       "33258  4.906603e+06  5.599300e+02  \n",
       "\n",
       "[33259 rows x 8 columns]"
      ]
     },
     "execution_count": 53,
     "metadata": {},
     "output_type": "execute_result"
    }
   ],
   "source": [
    "crypto_price_hourly_2018_2022"
   ]
  },
  {
   "cell_type": "code",
   "execution_count": 66,
   "metadata": {},
   "outputs": [],
   "source": [
    "df = crypto_price_hourly_2018_2022 #crypto_price_hourly_2018_2022.loc[:,['close']]"
   ]
  },
  {
   "cell_type": "code",
   "execution_count": null,
   "metadata": {},
   "outputs": [],
   "source": [
    "df"
   ]
  },
  {
   "cell_type": "code",
   "execution_count": 40,
   "metadata": {},
   "outputs": [],
   "source": [
    "prediction_period = 20"
   ]
  },
  {
   "cell_type": "code",
   "execution_count": null,
   "metadata": {},
   "outputs": [],
   "source": [
    "y_hats = []\n",
    "\n",
    "for i in reversed(range(prediction_period)):\n",
    "    print(i)\n",
    "\n",
    "    h = i + 1\n",
    "    window_index = (len(df) - h)\n",
    "\n",
    "\n",
    "    y_win = df[: window_index].tail(10)\n",
    "\n",
    "    y_hats.append(y_win.mean())"
   ]
  },
  {
   "cell_type": "code",
   "execution_count": null,
   "metadata": {},
   "outputs": [],
   "source": [
    "df.tail(prediction_period)"
   ]
  },
  {
   "cell_type": "code",
   "execution_count": 42,
   "metadata": {},
   "outputs": [
    {
     "data": {
      "text/plain": [
       "144.13730000000004"
      ]
     },
     "execution_count": 42,
     "metadata": {},
     "output_type": "execute_result"
    }
   ],
   "source": [
    "mean_absolute_error(df.tail(prediction_period), y_hats)"
   ]
  },
  {
   "cell_type": "code",
   "execution_count": 51,
   "metadata": {},
   "outputs": [
    {
     "data": {
      "text/html": [
       "<div>\n",
       "<style scoped>\n",
       "    .dataframe tbody tr th:only-of-type {\n",
       "        vertical-align: middle;\n",
       "    }\n",
       "\n",
       "    .dataframe tbody tr th {\n",
       "        vertical-align: top;\n",
       "    }\n",
       "\n",
       "    .dataframe thead th {\n",
       "        text-align: right;\n",
       "    }\n",
       "</style>\n",
       "<table border=\"1\" class=\"dataframe\">\n",
       "  <thead>\n",
       "    <tr style=\"text-align: right;\">\n",
       "      <th></th>\n",
       "      <th>unix</th>\n",
       "      <th>date</th>\n",
       "      <th>symbol</th>\n",
       "      <th>open</th>\n",
       "      <th>high</th>\n",
       "      <th>low</th>\n",
       "      <th>close</th>\n",
       "      <th>Volume BTC</th>\n",
       "      <th>Volume USD</th>\n",
       "    </tr>\n",
       "  </thead>\n",
       "  <tbody>\n",
       "    <tr>\n",
       "      <th>0</th>\n",
       "      <td>1646092800</td>\n",
       "      <td>2022-03-01 00:00:00</td>\n",
       "      <td>BTC/USD</td>\n",
       "      <td>43221.71</td>\n",
       "      <td>43626.49</td>\n",
       "      <td>43185.48</td>\n",
       "      <td>43312.27</td>\n",
       "      <td>5.205632e+01</td>\n",
       "      <td>2.254677e+06</td>\n",
       "    </tr>\n",
       "    <tr>\n",
       "      <th>1</th>\n",
       "      <td>1646089200</td>\n",
       "      <td>2022-02-28 23:00:00</td>\n",
       "      <td>BTC/USD</td>\n",
       "      <td>43085.30</td>\n",
       "      <td>43364.81</td>\n",
       "      <td>42892.37</td>\n",
       "      <td>43178.98</td>\n",
       "      <td>1.068161e+02</td>\n",
       "      <td>4.612210e+06</td>\n",
       "    </tr>\n",
       "    <tr>\n",
       "      <th>2</th>\n",
       "      <td>1646085600</td>\n",
       "      <td>2022-02-28 22:00:00</td>\n",
       "      <td>BTC/USD</td>\n",
       "      <td>41657.23</td>\n",
       "      <td>44256.08</td>\n",
       "      <td>41650.29</td>\n",
       "      <td>42907.32</td>\n",
       "      <td>5.275406e+02</td>\n",
       "      <td>2.263535e+07</td>\n",
       "    </tr>\n",
       "    <tr>\n",
       "      <th>3</th>\n",
       "      <td>1646082000</td>\n",
       "      <td>2022-02-28 21:00:00</td>\n",
       "      <td>BTC/USD</td>\n",
       "      <td>41917.09</td>\n",
       "      <td>41917.09</td>\n",
       "      <td>41542.60</td>\n",
       "      <td>41659.53</td>\n",
       "      <td>6.975168e+01</td>\n",
       "      <td>2.905822e+06</td>\n",
       "    </tr>\n",
       "    <tr>\n",
       "      <th>4</th>\n",
       "      <td>1646078400</td>\n",
       "      <td>2022-02-28 20:00:00</td>\n",
       "      <td>BTC/USD</td>\n",
       "      <td>41361.99</td>\n",
       "      <td>41971.00</td>\n",
       "      <td>41284.11</td>\n",
       "      <td>41914.97</td>\n",
       "      <td>2.471517e+02</td>\n",
       "      <td>1.035935e+07</td>\n",
       "    </tr>\n",
       "    <tr>\n",
       "      <th>...</th>\n",
       "      <td>...</td>\n",
       "      <td>...</td>\n",
       "      <td>...</td>\n",
       "      <td>...</td>\n",
       "      <td>...</td>\n",
       "      <td>...</td>\n",
       "      <td>...</td>\n",
       "      <td>...</td>\n",
       "      <td>...</td>\n",
       "    </tr>\n",
       "    <tr>\n",
       "      <th>33254</th>\n",
       "      <td>1526378400</td>\n",
       "      <td>2018-05-15 10:00:00</td>\n",
       "      <td>BTC/USD</td>\n",
       "      <td>8708.32</td>\n",
       "      <td>8865.00</td>\n",
       "      <td>8695.11</td>\n",
       "      <td>8795.90</td>\n",
       "      <td>1.110127e+07</td>\n",
       "      <td>1.260690e+03</td>\n",
       "    </tr>\n",
       "    <tr>\n",
       "      <th>33255</th>\n",
       "      <td>1526374800</td>\n",
       "      <td>2018-05-15 09:00:00</td>\n",
       "      <td>BTC/USD</td>\n",
       "      <td>8728.49</td>\n",
       "      <td>8754.40</td>\n",
       "      <td>8701.35</td>\n",
       "      <td>8708.32</td>\n",
       "      <td>1.593992e+06</td>\n",
       "      <td>1.826200e+02</td>\n",
       "    </tr>\n",
       "    <tr>\n",
       "      <th>33256</th>\n",
       "      <td>1526371200</td>\n",
       "      <td>2018-05-15 08:00:00</td>\n",
       "      <td>BTC/USD</td>\n",
       "      <td>8739.00</td>\n",
       "      <td>8750.27</td>\n",
       "      <td>8660.53</td>\n",
       "      <td>8728.49</td>\n",
       "      <td>7.986063e+06</td>\n",
       "      <td>9.177900e+02</td>\n",
       "    </tr>\n",
       "    <tr>\n",
       "      <th>33257</th>\n",
       "      <td>1526367600</td>\n",
       "      <td>2018-05-15 07:00:00</td>\n",
       "      <td>BTC/USD</td>\n",
       "      <td>8740.99</td>\n",
       "      <td>8766.00</td>\n",
       "      <td>8721.11</td>\n",
       "      <td>8739.00</td>\n",
       "      <td>2.390399e+06</td>\n",
       "      <td>2.735800e+02</td>\n",
       "    </tr>\n",
       "    <tr>\n",
       "      <th>33258</th>\n",
       "      <td>1526364000</td>\n",
       "      <td>2018-05-15 06:00:00</td>\n",
       "      <td>BTC/USD</td>\n",
       "      <td>8733.86</td>\n",
       "      <td>8796.68</td>\n",
       "      <td>8707.28</td>\n",
       "      <td>8740.99</td>\n",
       "      <td>4.906603e+06</td>\n",
       "      <td>5.599300e+02</td>\n",
       "    </tr>\n",
       "  </tbody>\n",
       "</table>\n",
       "<p>33259 rows × 9 columns</p>\n",
       "</div>"
      ],
      "text/plain": [
       "             unix                 date   symbol      open      high       low  \\\n",
       "0      1646092800  2022-03-01 00:00:00  BTC/USD  43221.71  43626.49  43185.48   \n",
       "1      1646089200  2022-02-28 23:00:00  BTC/USD  43085.30  43364.81  42892.37   \n",
       "2      1646085600  2022-02-28 22:00:00  BTC/USD  41657.23  44256.08  41650.29   \n",
       "3      1646082000  2022-02-28 21:00:00  BTC/USD  41917.09  41917.09  41542.60   \n",
       "4      1646078400  2022-02-28 20:00:00  BTC/USD  41361.99  41971.00  41284.11   \n",
       "...           ...                  ...      ...       ...       ...       ...   \n",
       "33254  1526378400  2018-05-15 10:00:00  BTC/USD   8708.32   8865.00   8695.11   \n",
       "33255  1526374800  2018-05-15 09:00:00  BTC/USD   8728.49   8754.40   8701.35   \n",
       "33256  1526371200  2018-05-15 08:00:00  BTC/USD   8739.00   8750.27   8660.53   \n",
       "33257  1526367600  2018-05-15 07:00:00  BTC/USD   8740.99   8766.00   8721.11   \n",
       "33258  1526364000  2018-05-15 06:00:00  BTC/USD   8733.86   8796.68   8707.28   \n",
       "\n",
       "          close    Volume BTC    Volume USD  \n",
       "0      43312.27  5.205632e+01  2.254677e+06  \n",
       "1      43178.98  1.068161e+02  4.612210e+06  \n",
       "2      42907.32  5.275406e+02  2.263535e+07  \n",
       "3      41659.53  6.975168e+01  2.905822e+06  \n",
       "4      41914.97  2.471517e+02  1.035935e+07  \n",
       "...         ...           ...           ...  \n",
       "33254   8795.90  1.110127e+07  1.260690e+03  \n",
       "33255   8708.32  1.593992e+06  1.826200e+02  \n",
       "33256   8728.49  7.986063e+06  9.177900e+02  \n",
       "33257   8739.00  2.390399e+06  2.735800e+02  \n",
       "33258   8740.99  4.906603e+06  5.599300e+02  \n",
       "\n",
       "[33259 rows x 9 columns]"
      ]
     },
     "execution_count": 51,
     "metadata": {},
     "output_type": "execute_result"
    }
   ],
   "source": [
    "crypto_price_hourly_2018_2022"
   ]
  },
  {
   "attachments": {},
   "cell_type": "markdown",
   "metadata": {},
   "source": [
    "### Preprocess dataset"
   ]
  },
  {
   "cell_type": "code",
   "execution_count": 89,
   "metadata": {},
   "outputs": [],
   "source": [
    "df = df.drop(['symbol'],axis=1)"
   ]
  },
  {
   "cell_type": "code",
   "execution_count": 90,
   "metadata": {},
   "outputs": [
    {
     "data": {
      "text/plain": [
       "Index(['unix', 'open', 'high', 'low', 'close', 'Volume BTC', 'Volume USD',\n",
       "       'Day sin', 'Day cos', 'Year sin', 'Year cos'],\n",
       "      dtype='object')"
      ]
     },
     "execution_count": 90,
     "metadata": {},
     "output_type": "execute_result"
    }
   ],
   "source": [
    "df.keys()"
   ]
  },
  {
   "cell_type": "code",
   "execution_count": 57,
   "metadata": {},
   "outputs": [],
   "source": [
    "import datetime"
   ]
  },
  {
   "cell_type": "code",
   "execution_count": 77,
   "metadata": {},
   "outputs": [],
   "source": [
    "date_time = pd.to_datetime(crypto_price_hourly_2018_2022.pop('date'), format='%Y-%m-%d %H:%M:%S')"
   ]
  },
  {
   "cell_type": "code",
   "execution_count": 78,
   "metadata": {},
   "outputs": [
    {
     "data": {
      "text/plain": [
       "0       2022-03-01 00:00:00\n",
       "1       2022-02-28 23:00:00\n",
       "2       2022-02-28 22:00:00\n",
       "3       2022-02-28 21:00:00\n",
       "4       2022-02-28 20:00:00\n",
       "                ...        \n",
       "33254   2018-05-15 10:00:00\n",
       "33255   2018-05-15 09:00:00\n",
       "33256   2018-05-15 08:00:00\n",
       "33257   2018-05-15 07:00:00\n",
       "33258   2018-05-15 06:00:00\n",
       "Name: date, Length: 33259, dtype: datetime64[ns]"
      ]
     },
     "execution_count": 78,
     "metadata": {},
     "output_type": "execute_result"
    }
   ],
   "source": [
    "date_time"
   ]
  },
  {
   "cell_type": "code",
   "execution_count": 79,
   "metadata": {},
   "outputs": [],
   "source": [
    "timestamp_s = date_time.map(datetime.datetime.timestamp)"
   ]
  },
  {
   "cell_type": "code",
   "execution_count": 80,
   "metadata": {},
   "outputs": [],
   "source": [
    "day = 24 * 60 * 60\n",
    "year = (365.2425) * day"
   ]
  },
  {
   "cell_type": "code",
   "execution_count": 82,
   "metadata": {},
   "outputs": [],
   "source": [
    "df['Day sin'] = np.sin(timestamp_s * (2 * np.pi / day))\n",
    "df['Day cos'] = np.cos(timestamp_s * (2 * np.pi / day))\n",
    "df['Year sin'] = np.sin(timestamp_s * (2 * np.pi / year))\n",
    "df['Year cos'] = np.cos(timestamp_s * (2 * np.pi / year))"
   ]
  },
  {
   "cell_type": "code",
   "execution_count": 83,
   "metadata": {},
   "outputs": [
    {
     "data": {
      "text/plain": [
       "{'unix': 0,\n",
       " 'symbol': 1,\n",
       " 'open': 2,\n",
       " 'high': 3,\n",
       " 'low': 4,\n",
       " 'close': 5,\n",
       " 'Volume BTC': 6,\n",
       " 'Volume USD': 7,\n",
       " 'Day sin': 8,\n",
       " 'Day cos': 9,\n",
       " 'Year sin': 10,\n",
       " 'Year cos': 11}"
      ]
     },
     "execution_count": 83,
     "metadata": {},
     "output_type": "execute_result"
    }
   ],
   "source": [
    "column_indices = {name: i for i, name in enumerate(df.columns)}\n",
    "\n",
    "column_indices"
   ]
  },
  {
   "cell_type": "code",
   "execution_count": 84,
   "metadata": {},
   "outputs": [
    {
     "data": {
      "text/plain": [
       "33259"
      ]
     },
     "execution_count": 84,
     "metadata": {},
     "output_type": "execute_result"
    }
   ],
   "source": [
    "n = len(df)\n",
    "n"
   ]
  },
  {
   "cell_type": "code",
   "execution_count": 91,
   "metadata": {},
   "outputs": [],
   "source": [
    "train_df = df[0:int(n*0.7)]\n",
    "val_df = df[int(n*0.7):int(n*0.9)]\n",
    "test_df = df[int(n*0.9):]"
   ]
  },
  {
   "cell_type": "code",
   "execution_count": 92,
   "metadata": {},
   "outputs": [
    {
     "data": {
      "text/plain": [
       "11"
      ]
     },
     "execution_count": 92,
     "metadata": {},
     "output_type": "execute_result"
    }
   ],
   "source": [
    "num_features = df.shape[1]\n",
    "\n",
    "num_features"
   ]
  },
  {
   "cell_type": "code",
   "execution_count": 93,
   "metadata": {},
   "outputs": [],
   "source": [
    "train_mean = train_df.mean()\n",
    "train_std = train_df.std()"
   ]
  },
  {
   "cell_type": "code",
   "execution_count": 94,
   "metadata": {},
   "outputs": [],
   "source": [
    "train_df = (train_df - train_mean) / train_std\n",
    "val_df = (val_df - train_mean) / train_std\n",
    "test_df = (test_df - train_mean) / train_std"
   ]
  },
  {
   "attachments": {},
   "cell_type": "markdown",
   "metadata": {},
   "source": [
    "### Windows Generator"
   ]
  },
  {
   "cell_type": "code",
   "execution_count": 98,
   "metadata": {},
   "outputs": [],
   "source": [
    "class WindowsGenerator():\n",
    "    def __init__(self, input_width, label_width,shift, train_df,val_df,test_df,label_columns = None):\n",
    "        self.train_df = train_df\n",
    "        self.val_df = val_df\n",
    "        self.test_df = test_df\n",
    "\n",
    "        self.label_columns = label_columns\n",
    "        if label_columns is not None:\n",
    "            self.label_columns_indices = {name: i for i, name in enumerate(label_columns)}\n",
    "\n",
    "        self.column_indices = {name: i for i,name in enumerate(train_df.columns)}\n",
    "\n",
    "        self.input_width = input_width\n",
    "        self.label_width = label_width\n",
    "        self.shift = shift\n",
    "\n",
    "        self.total_windows_size = input_width + shift\n",
    "\n",
    "        self.input_slice = slice(0,input_width)\n",
    "        self.input_indices = np.arange(self.total_windows_size)[self.input_slice]\n",
    "\n",
    "        self.label_start = self.total_windows_size - self.label_width\n",
    "        self.labels_slice = slice(self.label_start,None)\n",
    "        self.labe_indices = np.arange(self.total_windows_size)[self.labels_slice]\n",
    "\n",
    "    def split_window(self,features):\n",
    "        inputs = features[:, self.input_slice,:]\n",
    "        labels = features[:, self.labels_slice, :]\n",
    "\n",
    "        if self.label_columns is not None:\n",
    "            labels = tf.stack([labels[:,:,self.column_indices[name]] for name in self.label_columns],axis=1)\n",
    "        \n",
    "        inputs.set_shape([None, self.input_width,None])\n",
    "        labels.set_shape([None, self.label_width,None])\n",
    "\n",
    "        return inputs, labels\n",
    "\n",
    "    \n",
    "    def make_dataset(self,data):\n",
    "        data = np.array(data, dtype=np.float32)\n",
    "        ds = tf.keras.preprocessing.timeseries_dataset_from_array(data=data,targets=None,sequence_length=self.total_windows_size,sequence_stride=1,shuffle=False,batch_size=32)\n",
    "\n",
    "        ds = ds.map(self.split_window)\n",
    "        return ds\n",
    "\n",
    "    @property\n",
    "    def train(self):\n",
    "        return self.make_dataset(self.train_df)\n",
    "\n",
    "    @property\n",
    "    def val(self):\n",
    "        return self.make_dataset(self.val_df)\n",
    "\n",
    "    @property\n",
    "    def test(self):\n",
    "        return self.make_dataset(self.test_df)\n"
   ]
  },
  {
   "cell_type": "code",
   "execution_count": 99,
   "metadata": {},
   "outputs": [],
   "source": [
    "single_step_window = WindowsGenerator(input_width=1, label_width=1, shift=1,train_df=train_df,val_df=val_df,test_df=test_df,label_columns=['close'])"
   ]
  },
  {
   "attachments": {},
   "cell_type": "markdown",
   "metadata": {},
   "source": [
    "### Build a Baseline Model"
   ]
  },
  {
   "cell_type": "code",
   "execution_count": 100,
   "metadata": {},
   "outputs": [],
   "source": [
    "class Baseline(tf.keras.Model):\n",
    "    def __init__(self,label_index = None):\n",
    "        super().__init__()\n",
    "        self.label_index = label_index\n",
    "\n",
    "    def call(self,inputs):\n",
    "        if self.label_index is None:\n",
    "            return inputs\n",
    "        result = inputs[:,:, self.label_index]\n",
    "        return result[:,:, tf.newaxis]"
   ]
  },
  {
   "cell_type": "code",
   "execution_count": 101,
   "metadata": {},
   "outputs": [],
   "source": [
    "baseline = Baseline(label_index=column_indices['close']) "
   ]
  },
  {
   "cell_type": "code",
   "execution_count": null,
   "metadata": {},
   "outputs": [],
   "source": []
  }
 ],
 "metadata": {
  "kernelspec": {
   "display_name": "Python 3",
   "language": "python",
   "name": "python3"
  },
  "language_info": {
   "codemirror_mode": {
    "name": "ipython",
    "version": 3
   },
   "file_extension": ".py",
   "mimetype": "text/x-python",
   "name": "python",
   "nbconvert_exporter": "python",
   "pygments_lexer": "ipython3",
   "version": "3.11.1"
  },
  "orig_nbformat": 4,
  "vscode": {
   "interpreter": {
    "hash": "24905e458ad4dc5a4619ab5330e2c95bb62fcc8cfba758a3e378b0342911d66f"
   }
  }
 },
 "nbformat": 4,
 "nbformat_minor": 2
}
