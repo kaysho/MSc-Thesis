{
 "cells": [
  {
   "attachments": {},
   "cell_type": "markdown",
   "metadata": {},
   "source": [
    "## Obtain news article"
   ]
  },
  {
   "cell_type": "code",
   "execution_count": 1,
   "metadata": {},
   "outputs": [
    {
     "name": "stdout",
     "output_type": "stream",
     "text": [
      "Note: you may need to restart the kernel to use updated packages.\n"
     ]
    },
    {
     "name": "stderr",
     "output_type": "stream",
     "text": [
      "ERROR: Could not open requirements file: [Errno 2] No such file or directory: 'requirements.txt'\n",
      "\n",
      "[notice] A new release of pip is available: 23.0 -> 23.2.1\n",
      "[notice] To update, run: python.exe -m pip install --upgrade pip\n"
     ]
    }
   ],
   "source": [
    "%pip install -r requirements.txt "
   ]
  },
  {
   "cell_type": "code",
   "execution_count": 25,
   "metadata": {},
   "outputs": [],
   "source": [
    "import matplotlib.pyplot as plt"
   ]
  },
  {
   "cell_type": "code",
   "execution_count": 11,
   "metadata": {},
   "outputs": [],
   "source": [
    "# Import packages\n",
    "# Default packages\n",
    "import time\n",
    "import csv\n",
    "import os\n",
    "import json\n",
    "\n",
    "\n",
    "# Preinstalled packages\n",
    "import requests\n",
    "import pandas as pd\n",
    "\n",
    "# URL of our News API\n",
    "base_url = 'https://api.newscatcherapi.com/v2/search?lang=en'\n",
    "\n",
    "# Your API key\n",
    "X_API_KEY = 'YHBKmAH0DbzXSs_h7be46br_kfw3EhBcqXPtCTSg1Qc'"
   ]
  },
  {
   "cell_type": "code",
   "execution_count": 6,
   "metadata": {},
   "outputs": [],
   "source": [
    "# Put your API key to headers in order to be authorized to perform a call\n",
    "headers = {'x-api-key': X_API_KEY}\n",
    "# Define your desired parameters\n",
    "# params = [\n",
    "#     {\n",
    "#         'q': 'Bitcoin',\n",
    "#         'lang': 'en',\n",
    "#         'to_rank': 10000,\n",
    "#         'topic': \"business\",\n",
    "#         'page_size': 100,\n",
    "#         'page': 1,\n",
    "#         'from' : \"2015/01/01\",\n",
    "#         'to': \"2019/12/31\"\n",
    "#     }\n",
    "# ]\n",
    "\n",
    "params = [\n",
    "    {\n",
    "        'q': 'Bitcoin',\n",
    "        'lang': 'en',\n",
    "        'to_rank': 10000,\n",
    "        'topic': \"business\",\n",
    "        'page_size': 100,\n",
    "        'page': 1\n",
    "    }\n",
    "]\n",
    "\n"
   ]
  },
  {
   "cell_type": "code",
   "execution_count": 7,
   "metadata": {},
   "outputs": [
    {
     "name": "stdout",
     "output_type": "stream",
     "text": [
      "Query in use => {'q': 'Bitcoin', 'lang': 'en', 'to_rank': 10000, 'topic': 'business', 'page_size': 100, 'page': 1}\n",
      "Done for page number => 1\n",
      "Proceed extracting page number => 2\n",
      "Done for page number => 2\n",
      "All articles have been extracted\n"
     ]
    }
   ],
   "source": [
    "# Variable to store all found news articles, mp stands for \"multiple queries\"\n",
    "all_news_articles_mp = []\n",
    "\n",
    "# Infinite loop which ends when all articles are extracted\n",
    "for separated_param in params:\n",
    "\n",
    "    print(f'Query in use => {str(separated_param)}')\n",
    "    \n",
    "    while True:\n",
    "        # Wait for 1 second between each call\n",
    "        time.sleep(1)\n",
    "\n",
    "        # GET Call from previous section enriched with some logs\n",
    "        response = requests.get(base_url, headers=headers, params=separated_param)\n",
    "        results = json.loads(response.text.encode())\n",
    "        if response.status_code == 200:\n",
    "            print(f'Done for page number => {separated_param[\"page\"]}')\n",
    "\n",
    "\n",
    "            # Adding your parameters to each result to be able to explore afterwards\n",
    "            for i in results['articles']:\n",
    "                i['used_params'] = str(separated_param)\n",
    "\n",
    "\n",
    "            # Storing all found articles\n",
    "            all_news_articles_mp.extend(results['articles'])\n",
    "\n",
    "            # Ensuring to cover all pages by incrementing \"page\" value at each iteration\n",
    "            separated_param['page'] += 1\n",
    "            if separated_param['page'] > results['total_pages']:\n",
    "                print(\"All articles have been extracted\")\n",
    "                break\n",
    "            else:\n",
    "                print(f'Proceed extracting page number => {separated_param[\"page\"]}')\n",
    "        else:\n",
    "            print(results)\n",
    "            print(f'ERROR: API call failed for page number => {separated_param[\"page\"]}')\n",
    "            break"
   ]
  },
  {
   "cell_type": "code",
   "execution_count": 8,
   "metadata": {},
   "outputs": [
    {
     "name": "stdout",
     "output_type": "stream",
     "text": [
      "Number of extracted articles => 126\n"
     ]
    }
   ],
   "source": [
    "print(f'Number of extracted articles => {str(len(all_news_articles_mp))}')"
   ]
  },
  {
   "cell_type": "code",
   "execution_count": 9,
   "metadata": {},
   "outputs": [],
   "source": [
    "# Define variables\n",
    "unique_ids = []\n",
    "all_news_articles = []\n",
    "\n",
    "# Iterate on each article and check whether we saw this _id before\n",
    "for article in all_news_articles_mp:\n",
    "    if article['_id'] not in unique_ids:\n",
    "        unique_ids.append(article['_id'])\n",
    "        all_news_articles.append(article)"
   ]
  },
  {
   "cell_type": "code",
   "execution_count": 12,
   "metadata": {},
   "outputs": [],
   "source": [
    "# Import data into pandas\n",
    "pandas_table = pd.DataFrame(all_news_articles)"
   ]
  },
  {
   "cell_type": "code",
   "execution_count": 13,
   "metadata": {},
   "outputs": [
    {
     "data": {
      "text/html": [
       "<div>\n",
       "<style scoped>\n",
       "    .dataframe tbody tr th:only-of-type {\n",
       "        vertical-align: middle;\n",
       "    }\n",
       "\n",
       "    .dataframe tbody tr th {\n",
       "        vertical-align: top;\n",
       "    }\n",
       "\n",
       "    .dataframe thead th {\n",
       "        text-align: right;\n",
       "    }\n",
       "</style>\n",
       "<table border=\"1\" class=\"dataframe\">\n",
       "  <thead>\n",
       "    <tr style=\"text-align: right;\">\n",
       "      <th></th>\n",
       "      <th>title</th>\n",
       "      <th>author</th>\n",
       "      <th>published_date</th>\n",
       "      <th>published_date_precision</th>\n",
       "      <th>link</th>\n",
       "      <th>clean_url</th>\n",
       "      <th>excerpt</th>\n",
       "      <th>summary</th>\n",
       "      <th>rights</th>\n",
       "      <th>rank</th>\n",
       "      <th>topic</th>\n",
       "      <th>country</th>\n",
       "      <th>language</th>\n",
       "      <th>authors</th>\n",
       "      <th>media</th>\n",
       "      <th>is_opinion</th>\n",
       "      <th>twitter_account</th>\n",
       "      <th>_score</th>\n",
       "      <th>_id</th>\n",
       "      <th>used_params</th>\n",
       "    </tr>\n",
       "  </thead>\n",
       "  <tbody>\n",
       "    <tr>\n",
       "      <th>0</th>\n",
       "      <td>Bitcoin phone home: Use crypto to buy sim card...</td>\n",
       "      <td>Joe Hall</td>\n",
       "      <td>2023-08-08 12:55:00</td>\n",
       "      <td>full</td>\n",
       "      <td>https://cointelegraph.com/news/bitcoin-crypto-...</td>\n",
       "      <td>cointelegraph.com</td>\n",
       "      <td>A partnership between crypto marketplace Bitre...</td>\n",
       "      <td>A partnership between crypto e-commerce platfo...</td>\n",
       "      <td>cointelegraph.com</td>\n",
       "      <td>1696</td>\n",
       "      <td>business</td>\n",
       "      <td>US</td>\n",
       "      <td>en</td>\n",
       "      <td>Joe Hall</td>\n",
       "      <td>https://images.cointelegraph.com/images/1200_a...</td>\n",
       "      <td>False</td>\n",
       "      <td>@cointelegraph</td>\n",
       "      <td>11.269115</td>\n",
       "      <td>2e408dca78827908b28d0c6263a5d6b9</td>\n",
       "      <td>{'q': 'Bitcoin', 'lang': 'en', 'to_rank': 1000...</td>\n",
       "    </tr>\n",
       "    <tr>\n",
       "      <th>1</th>\n",
       "      <td>I write about the rapidly evolving VC and star...</td>\n",
       "      <td>Kjartan Rist</td>\n",
       "      <td>2023-08-10 13:31:17</td>\n",
       "      <td>full</td>\n",
       "      <td>https://www.forbes.com/sites/kjartanrist/2023/...</td>\n",
       "      <td>forbes.com</td>\n",
       "      <td>Is bitcoin finally breaking free of its associ...</td>\n",
       "      <td>The hype around the bitcoin price rollercoaste...</td>\n",
       "      <td>Copyright 2023 Forbes Media LLC</td>\n",
       "      <td>49</td>\n",
       "      <td>business</td>\n",
       "      <td>US</td>\n",
       "      <td>en</td>\n",
       "      <td>Kjartan Rist</td>\n",
       "      <td>https://imageio.forbes.com/specials-images/ima...</td>\n",
       "      <td>False</td>\n",
       "      <td>@forbes</td>\n",
       "      <td>11.244278</td>\n",
       "      <td>3c007d57c54e73306f8151687f3dc507</td>\n",
       "      <td>{'q': 'Bitcoin', 'lang': 'en', 'to_rank': 1000...</td>\n",
       "    </tr>\n",
       "    <tr>\n",
       "      <th>2</th>\n",
       "      <td>Speed Launches Magento Plugin, Simplifying Bit...</td>\n",
       "      <td>Jay Patel</td>\n",
       "      <td>2023-08-08 14:00:00</td>\n",
       "      <td>full</td>\n",
       "      <td>https://www.einnews.com/pr_news/647944000/spee...</td>\n",
       "      <td>einnews.com</td>\n",
       "      <td>Speed Launches Magento Plugin: Revolutionizing...</td>\n",
       "      <td>Speed Bitcoin Payment Processor\\n\\nSpeed Launc...</td>\n",
       "      <td>einnews.com</td>\n",
       "      <td>3825</td>\n",
       "      <td>business</td>\n",
       "      <td>UA</td>\n",
       "      <td>en</td>\n",
       "      <td>EIN News,Jay Patel</td>\n",
       "      <td>https://img.einnews.com/ampsize/515125/speed-b...</td>\n",
       "      <td>False</td>\n",
       "      <td>@einnews</td>\n",
       "      <td>11.229992</td>\n",
       "      <td>3b068f1da08f78cf0742e1f9e77f2a5e</td>\n",
       "      <td>{'q': 'Bitcoin', 'lang': 'en', 'to_rank': 1000...</td>\n",
       "    </tr>\n",
       "    <tr>\n",
       "      <th>3</th>\n",
       "      <td>Leak Reveals BlackRock's Game-Changing Bitcoin...</td>\n",
       "      <td>Billy Bambrough</td>\n",
       "      <td>2023-08-09 22:45:24</td>\n",
       "      <td>full</td>\n",
       "      <td>https://www.forbes.com/sites/digital-assets/20...</td>\n",
       "      <td>forbes.com</td>\n",
       "      <td>Bitcoin, ethereum and other cryptocurrencies w...</td>\n",
       "      <td>Bitcoin BTC, ethereum and other cryptocurrenci...</td>\n",
       "      <td>Copyright 2023 Forbes Media LLC</td>\n",
       "      <td>49</td>\n",
       "      <td>business</td>\n",
       "      <td>US</td>\n",
       "      <td>en</td>\n",
       "      <td>Billy Bambrough,Senior Contributor</td>\n",
       "      <td>https://imageio.forbes.com/specials-images/ima...</td>\n",
       "      <td>False</td>\n",
       "      <td>@billybambrough</td>\n",
       "      <td>11.225713</td>\n",
       "      <td>ec6029fd5cc4a6ffa0ff4e2633d33b21</td>\n",
       "      <td>{'q': 'Bitcoin', 'lang': 'en', 'to_rank': 1000...</td>\n",
       "    </tr>\n",
       "    <tr>\n",
       "      <th>4</th>\n",
       "      <td>The deadline for a ruling on Ark's application...</td>\n",
       "      <td>Bob Pisani</td>\n",
       "      <td>2023-08-07 12:30:00</td>\n",
       "      <td>timezone unknown</td>\n",
       "      <td>https://www.nbcphiladelphia.com/news/business/...</td>\n",
       "      <td>nbcphiladelphia.com</td>\n",
       "      <td>The SEC is required to give a thumbs up or thu...</td>\n",
       "      <td>It's put up or shut up time for the SEC on a b...</td>\n",
       "      <td>nbcphiladelphia.com</td>\n",
       "      <td>4181</td>\n",
       "      <td>business</td>\n",
       "      <td>US</td>\n",
       "      <td>en</td>\n",
       "      <td>Bob Pisani,Bob Pisani Cnbc,CNBC</td>\n",
       "      <td>https://media.nbcphiladelphia.com/2023/08/1072...</td>\n",
       "      <td>False</td>\n",
       "      <td>@nbcphiladelphia</td>\n",
       "      <td>11.220424</td>\n",
       "      <td>b406883f25fa7ed168ccc79217cdc176</td>\n",
       "      <td>{'q': 'Bitcoin', 'lang': 'en', 'to_rank': 1000...</td>\n",
       "    </tr>\n",
       "  </tbody>\n",
       "</table>\n",
       "</div>"
      ],
      "text/plain": [
       "                                               title           author  \\\n",
       "0  Bitcoin phone home: Use crypto to buy sim card...         Joe Hall   \n",
       "1  I write about the rapidly evolving VC and star...     Kjartan Rist   \n",
       "2  Speed Launches Magento Plugin, Simplifying Bit...        Jay Patel   \n",
       "3  Leak Reveals BlackRock's Game-Changing Bitcoin...  Billy Bambrough   \n",
       "4  The deadline for a ruling on Ark's application...       Bob Pisani   \n",
       "\n",
       "        published_date published_date_precision  \\\n",
       "0  2023-08-08 12:55:00                     full   \n",
       "1  2023-08-10 13:31:17                     full   \n",
       "2  2023-08-08 14:00:00                     full   \n",
       "3  2023-08-09 22:45:24                     full   \n",
       "4  2023-08-07 12:30:00         timezone unknown   \n",
       "\n",
       "                                                link            clean_url  \\\n",
       "0  https://cointelegraph.com/news/bitcoin-crypto-...    cointelegraph.com   \n",
       "1  https://www.forbes.com/sites/kjartanrist/2023/...           forbes.com   \n",
       "2  https://www.einnews.com/pr_news/647944000/spee...          einnews.com   \n",
       "3  https://www.forbes.com/sites/digital-assets/20...           forbes.com   \n",
       "4  https://www.nbcphiladelphia.com/news/business/...  nbcphiladelphia.com   \n",
       "\n",
       "                                             excerpt  \\\n",
       "0  A partnership between crypto marketplace Bitre...   \n",
       "1  Is bitcoin finally breaking free of its associ...   \n",
       "2  Speed Launches Magento Plugin: Revolutionizing...   \n",
       "3  Bitcoin, ethereum and other cryptocurrencies w...   \n",
       "4  The SEC is required to give a thumbs up or thu...   \n",
       "\n",
       "                                             summary  \\\n",
       "0  A partnership between crypto e-commerce platfo...   \n",
       "1  The hype around the bitcoin price rollercoaste...   \n",
       "2  Speed Bitcoin Payment Processor\\n\\nSpeed Launc...   \n",
       "3  Bitcoin BTC, ethereum and other cryptocurrenci...   \n",
       "4  It's put up or shut up time for the SEC on a b...   \n",
       "\n",
       "                            rights  rank     topic country language  \\\n",
       "0                cointelegraph.com  1696  business      US       en   \n",
       "1  Copyright 2023 Forbes Media LLC    49  business      US       en   \n",
       "2                      einnews.com  3825  business      UA       en   \n",
       "3  Copyright 2023 Forbes Media LLC    49  business      US       en   \n",
       "4              nbcphiladelphia.com  4181  business      US       en   \n",
       "\n",
       "                              authors  \\\n",
       "0                            Joe Hall   \n",
       "1                        Kjartan Rist   \n",
       "2                  EIN News,Jay Patel   \n",
       "3  Billy Bambrough,Senior Contributor   \n",
       "4     Bob Pisani,Bob Pisani Cnbc,CNBC   \n",
       "\n",
       "                                               media  is_opinion  \\\n",
       "0  https://images.cointelegraph.com/images/1200_a...       False   \n",
       "1  https://imageio.forbes.com/specials-images/ima...       False   \n",
       "2  https://img.einnews.com/ampsize/515125/speed-b...       False   \n",
       "3  https://imageio.forbes.com/specials-images/ima...       False   \n",
       "4  https://media.nbcphiladelphia.com/2023/08/1072...       False   \n",
       "\n",
       "    twitter_account     _score                               _id  \\\n",
       "0    @cointelegraph  11.269115  2e408dca78827908b28d0c6263a5d6b9   \n",
       "1           @forbes  11.244278  3c007d57c54e73306f8151687f3dc507   \n",
       "2          @einnews  11.229992  3b068f1da08f78cf0742e1f9e77f2a5e   \n",
       "3   @billybambrough  11.225713  ec6029fd5cc4a6ffa0ff4e2633d33b21   \n",
       "4  @nbcphiladelphia  11.220424  b406883f25fa7ed168ccc79217cdc176   \n",
       "\n",
       "                                         used_params  \n",
       "0  {'q': 'Bitcoin', 'lang': 'en', 'to_rank': 1000...  \n",
       "1  {'q': 'Bitcoin', 'lang': 'en', 'to_rank': 1000...  \n",
       "2  {'q': 'Bitcoin', 'lang': 'en', 'to_rank': 1000...  \n",
       "3  {'q': 'Bitcoin', 'lang': 'en', 'to_rank': 1000...  \n",
       "4  {'q': 'Bitcoin', 'lang': 'en', 'to_rank': 1000...  "
      ]
     },
     "execution_count": 13,
     "metadata": {},
     "output_type": "execute_result"
    }
   ],
   "source": [
    "pandas_table.head()"
   ]
  },
  {
   "cell_type": "code",
   "execution_count": 18,
   "metadata": {},
   "outputs": [
    {
     "data": {
      "text/plain": [
       "'Speed Launches Magento Plugin, Simplifying Bitcoin Payments for E-Commerce Stores'"
      ]
     },
     "execution_count": 18,
     "metadata": {},
     "output_type": "execute_result"
    }
   ],
   "source": [
    "pandas_table['title'][2]"
   ]
  },
  {
   "cell_type": "code",
   "execution_count": 24,
   "metadata": {},
   "outputs": [
    {
     "name": "stderr",
     "output_type": "stream",
     "text": [
      "C:\\Users\\Computing\\AppData\\Local\\Temp\\ipykernel_13920\\4279448406.py:2: SettingWithCopyWarning: \n",
      "A value is trying to be set on a copy of a slice from a DataFrame\n",
      "\n",
      "See the caveats in the documentation: https://pandas.pydata.org/pandas-docs/stable/user_guide/indexing.html#returning-a-view-versus-a-copy\n",
      "  df.rename(columns = {'text':'headline'}, inplace = True)\n"
     ]
    },
    {
     "data": {
      "text/html": [
       "<div>\n",
       "<style scoped>\n",
       "    .dataframe tbody tr th:only-of-type {\n",
       "        vertical-align: middle;\n",
       "    }\n",
       "\n",
       "    .dataframe tbody tr th {\n",
       "        vertical-align: top;\n",
       "    }\n",
       "\n",
       "    .dataframe thead th {\n",
       "        text-align: right;\n",
       "    }\n",
       "</style>\n",
       "<table border=\"1\" class=\"dataframe\">\n",
       "  <thead>\n",
       "    <tr style=\"text-align: right;\">\n",
       "      <th></th>\n",
       "      <th>title</th>\n",
       "    </tr>\n",
       "  </thead>\n",
       "  <tbody>\n",
       "    <tr>\n",
       "      <th>0</th>\n",
       "      <td>Bitcoin phone home: Use crypto to buy sim card...</td>\n",
       "    </tr>\n",
       "    <tr>\n",
       "      <th>1</th>\n",
       "      <td>I write about the rapidly evolving VC and star...</td>\n",
       "    </tr>\n",
       "    <tr>\n",
       "      <th>2</th>\n",
       "      <td>Speed Launches Magento Plugin, Simplifying Bit...</td>\n",
       "    </tr>\n",
       "    <tr>\n",
       "      <th>3</th>\n",
       "      <td>Leak Reveals BlackRock's Game-Changing Bitcoin...</td>\n",
       "    </tr>\n",
       "    <tr>\n",
       "      <th>4</th>\n",
       "      <td>The deadline for a ruling on Ark's application...</td>\n",
       "    </tr>\n",
       "  </tbody>\n",
       "</table>\n",
       "</div>"
      ],
      "text/plain": [
       "                                               title\n",
       "0  Bitcoin phone home: Use crypto to buy sim card...\n",
       "1  I write about the rapidly evolving VC and star...\n",
       "2  Speed Launches Magento Plugin, Simplifying Bit...\n",
       "3  Leak Reveals BlackRock's Game-Changing Bitcoin...\n",
       "4  The deadline for a ruling on Ark's application..."
      ]
     },
     "execution_count": 24,
     "metadata": {},
     "output_type": "execute_result"
    }
   ],
   "source": [
    "df = pandas_table[['title']]\n",
    "df.head()"
   ]
  },
  {
   "cell_type": "code",
   "execution_count": 21,
   "metadata": {},
   "outputs": [
    {
     "data": {
      "text/plain": [
       "(126, 1)"
      ]
     },
     "execution_count": 21,
     "metadata": {},
     "output_type": "execute_result"
    }
   ],
   "source": [
    "df.shape"
   ]
  },
  {
   "cell_type": "code",
   "execution_count": 22,
   "metadata": {},
   "outputs": [
    {
     "name": "stdout",
     "output_type": "stream",
     "text": [
      " Shape of dataframe after dropping duplicates:  (126, 1)\n"
     ]
    }
   ],
   "source": [
    "df.drop_duplicates()\n",
    "print(\" Shape of dataframe after dropping duplicates: \", df.shape)"
   ]
  },
  {
   "cell_type": "code",
   "execution_count": 23,
   "metadata": {},
   "outputs": [
    {
     "name": "stdout",
     "output_type": "stream",
     "text": [
      "Null Values in each column:\n",
      "    column name  Total missing  Percent missing\n",
      "0        title              0              0.0\n"
     ]
    }
   ],
   "source": [
    "#Null values\n",
    "\n",
    "null= df.isnull().sum().sort_values(ascending=False)\n",
    "total =df.shape[0]\n",
    "percent_missing= (df.isnull().sum()/total).sort_values(ascending=False)\n",
    "\n",
    "missing_data= pd.concat([null, percent_missing], axis=1, keys=['Total missing', 'Percent missing'])\n",
    "\n",
    "missing_data.reset_index(inplace=True)\n",
    "missing_data= missing_data.rename(columns= { \"index\": \" column name\"})\n",
    " \n",
    "print (\"Null Values in each column:\\n\", missing_data)"
   ]
  },
  {
   "cell_type": "code",
   "execution_count": 32,
   "metadata": {},
   "outputs": [
    {
     "data": {
      "image/png": "[encoded data removed]",
      "text/plain": [
       "<Figure size 1000x500 with 1 Axes>"
      ]
     },
     "metadata": {},
     "output_type": "display_data"
    }
   ],
   "source": [
    "fig, ax = plt.subplots(figsize=(10, 5))\n",
    "\n",
    "headline_length = pandas_table['title'].str.len()\n",
    "ax.hist(headline_length, color='#17C37B')\n",
    "ax.set_title('Characters in Headlines')\n",
    "\n",
    "plt.show()"
   ]
  },
  {
   "cell_type": "code",
   "execution_count": 33,
   "metadata": {},
   "outputs": [
    {
     "data": {
      "image/png": "[encoded data removed]",
      "text/plain": [
       "<Figure size 1500x500 with 1 Axes>"
      ]
     },
     "metadata": {},
     "output_type": "display_data"
    }
   ],
   "source": [
    "fig,(ax1)=plt.subplots(figsize=(15,5))\n",
    "\n",
    "headline_length=pandas_table['title'].str.split().map(lambda x: len(x))\n",
    "ax1.hist(headline_length,color='#17C37B')\n",
    "ax1.set_title('Positive Sentiments')\n",
    "\n",
    "fig.suptitle('Words in a Headline')\n",
    "plt.show()"
   ]
  },
  {
   "cell_type": "code",
   "execution_count": null,
   "metadata": {},
   "outputs": [],
   "source": [
    "fig,(ax1)=plt.subplots(figsize=(15,5))\n",
    "\n",
    "headline_length=pandas_table['title'].str.split().apply(lambda x : [len(i) for i in x])\n",
    "ax1.hist(headline_length,color='#17C37B')\n",
    "ax1.set_title('Headline')\n",
    "\n",
    "fig.suptitle('Average word length in each Headline')\n",
    "plt.show()"
   ]
  },
  {
   "cell_type": "code",
   "execution_count": 14,
   "metadata": {},
   "outputs": [],
   "source": [
    "pandas_table.to_csv('extracted_news_articles.csv', encoding='utf-8', sep=',')"
   ]
  }
 ],
 "metadata": {
  "kernelspec": {
   "display_name": "Python 3",
   "language": "python",
   "name": "python3"
  },
  "language_info": {
   "codemirror_mode": {
    "name": "ipython",
    "version": 3
   },
   "file_extension": ".py",
   "mimetype": "text/x-python",
   "name": "python",
   "nbconvert_exporter": "python",
   "pygments_lexer": "ipython3",
   "version": "3.11.1"
  },
  "orig_nbformat": 4,
  "vscode": {
   "interpreter": {
    "hash": "24905e458ad4dc5a4619ab5330e2c95bb62fcc8cfba758a3e378b0342911d66f"
   }
  }
 },
 "nbformat": 4,
 "nbformat_minor": 2
}
