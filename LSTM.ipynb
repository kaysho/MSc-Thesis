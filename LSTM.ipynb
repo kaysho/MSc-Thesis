{
 "cells": [
  {
   "cell_type": "code",
   "execution_count": 7,
   "metadata": {},
   "outputs": [
    {
     "name": "stdout",
     "output_type": "stream",
     "text": [
      "Requirement already satisfied: xgboost in c:\\users\\computing\\appdata\\local\\programs\\python\\python311\\lib\\site-packages (1.7.6)\n",
      "Requirement already satisfied: numpy in c:\\users\\computing\\appdata\\local\\programs\\python\\python311\\lib\\site-packages (from xgboost) (1.24.3)\n",
      "Requirement already satisfied: scipy in c:\\users\\computing\\appdata\\local\\programs\\python\\python311\\lib\\site-packages (from xgboost) (1.11.2)\n",
      "Note: you may need to restart the kernel to use updated packages.\n"
     ]
    },
    {
     "name": "stderr",
     "output_type": "stream",
     "text": [
      "\n",
      "[notice] A new release of pip is available: 23.0 -> 23.2.1\n",
      "[notice] To update, run: python.exe -m pip install --upgrade pip\n"
     ]
    },
    {
     "name": "stdout",
     "output_type": "stream",
     "text": [
      "Requirement already satisfied: tslearn in c:\\users\\computing\\appdata\\local\\programs\\python\\python311\\lib\\site-packages (0.6.2)\n",
      "Requirement already satisfied: numpy in c:\\users\\computing\\appdata\\local\\programs\\python\\python311\\lib\\site-packages (from tslearn) (1.24.3)\n",
      "Requirement already satisfied: scipy in c:\\users\\computing\\appdata\\local\\programs\\python\\python311\\lib\\site-packages (from tslearn) (1.11.2)\n",
      "Requirement already satisfied: scikit-learn in c:\\users\\computing\\appdata\\local\\programs\\python\\python311\\lib\\site-packages (from tslearn) (1.3.0)\n",
      "Requirement already satisfied: numba in c:\\users\\computing\\appdata\\local\\programs\\python\\python311\\lib\\site-packages (from tslearn) (0.57.1)\n",
      "Requirement already satisfied: joblib in c:\\users\\computing\\appdata\\local\\programs\\python\\python311\\lib\\site-packages (from tslearn) (1.3.2)\n",
      "Requirement already satisfied: llvmlite<0.41,>=0.40.0dev0 in c:\\users\\computing\\appdata\\local\\programs\\python\\python311\\lib\\site-packages (from numba->tslearn) (0.40.1)\n",
      "Requirement already satisfied: threadpoolctl>=2.0.0 in c:\\users\\computing\\appdata\\local\\programs\\python\\python311\\lib\\site-packages (from scikit-learn->tslearn) (3.2.0)\n",
      "Note: you may need to restart the kernel to use updated packages.\n"
     ]
    },
    {
     "name": "stderr",
     "output_type": "stream",
     "text": [
      "\n",
      "[notice] A new release of pip is available: 23.0 -> 23.2.1\n",
      "[notice] To update, run: python.exe -m pip install --upgrade pip\n"
     ]
    },
    {
     "name": "stdout",
     "output_type": "stream",
     "text": [
      "Requirement already satisfied: yfinance in c:\\users\\computing\\appdata\\local\\programs\\python\\python311\\lib\\site-packages (0.2.28)\n",
      "Requirement already satisfied: pandas>=1.3.0 in c:\\users\\computing\\appdata\\local\\programs\\python\\python311\\lib\\site-packages (from yfinance) (2.1.0)\n",
      "Requirement already satisfied: numpy>=1.16.5 in c:\\users\\computing\\appdata\\local\\programs\\python\\python311\\lib\\site-packages (from yfinance) (1.24.3)\n",
      "Requirement already satisfied: requests>=2.31 in c:\\users\\computing\\appdata\\local\\programs\\python\\python311\\lib\\site-packages (from yfinance) (2.31.0)\n",
      "Requirement already satisfied: multitasking>=0.0.7 in c:\\users\\computing\\appdata\\local\\programs\\python\\python311\\lib\\site-packages (from yfinance) (0.0.11)\n",
      "Requirement already satisfied: lxml>=4.9.1 in c:\\users\\computing\\appdata\\local\\programs\\python\\python311\\lib\\site-packages (from yfinance) (4.9.3)\n",
      "Requirement already satisfied: appdirs>=1.4.4 in c:\\users\\computing\\appdata\\local\\programs\\python\\python311\\lib\\site-packages (from yfinance) (1.4.4)\n",
      "Requirement already satisfied: pytz>=2022.5 in c:\\users\\computing\\appdata\\local\\programs\\python\\python311\\lib\\site-packages (from yfinance) (2023.3)\n",
      "Requirement already satisfied: frozendict>=2.3.4 in c:\\users\\computing\\appdata\\local\\programs\\python\\python311\\lib\\site-packages (from yfinance) (2.3.8)\n",
      "Requirement already satisfied: beautifulsoup4>=4.11.1 in c:\\users\\computing\\appdata\\local\\programs\\python\\python311\\lib\\site-packages (from yfinance) (4.12.2)\n",
      "Requirement already satisfied: html5lib>=1.1 in c:\\users\\computing\\appdata\\local\\programs\\python\\python311\\lib\\site-packages (from yfinance) (1.1)\n",
      "Requirement already satisfied: soupsieve>1.2 in c:\\users\\computing\\appdata\\local\\programs\\python\\python311\\lib\\site-packages (from beautifulsoup4>=4.11.1->yfinance) (2.5)\n",
      "Requirement already satisfied: six>=1.9 in c:\\users\\computing\\appdata\\roaming\\python\\python311\\site-packages (from html5lib>=1.1->yfinance) (1.16.0)\n",
      "Requirement already satisfied: webencodings in c:\\users\\computing\\appdata\\local\\programs\\python\\python311\\lib\\site-packages (from html5lib>=1.1->yfinance) (0.5.1)\n",
      "Requirement already satisfied: python-dateutil>=2.8.2 in c:\\users\\computing\\appdata\\roaming\\python\\python311\\site-packages (from pandas>=1.3.0->yfinance) (2.8.2)\n",
      "Requirement already satisfied: tzdata>=2022.1 in c:\\users\\computing\\appdata\\local\\programs\\python\\python311\\lib\\site-packages (from pandas>=1.3.0->yfinance) (2023.3)\n",
      "Requirement already satisfied: charset-normalizer<4,>=2 in c:\\users\\computing\\appdata\\local\\programs\\python\\python311\\lib\\site-packages (from requests>=2.31->yfinance) (3.2.0)\n",
      "Requirement already satisfied: idna<4,>=2.5 in c:\\users\\computing\\appdata\\local\\programs\\python\\python311\\lib\\site-packages (from requests>=2.31->yfinance) (3.4)\n",
      "Requirement already satisfied: urllib3<3,>=1.21.1 in c:\\users\\computing\\appdata\\local\\programs\\python\\python311\\lib\\site-packages (from requests>=2.31->yfinance) (1.26.16)\n",
      "Requirement already satisfied: certifi>=2017.4.17 in c:\\users\\computing\\appdata\\local\\programs\\python\\python311\\lib\\site-packages (from requests>=2.31->yfinance) (2023.7.22)\n",
      "Note: you may need to restart the kernel to use updated packages.\n"
     ]
    },
    {
     "name": "stderr",
     "output_type": "stream",
     "text": [
      "\n",
      "[notice] A new release of pip is available: 23.0 -> 23.2.1\n",
      "[notice] To update, run: python.exe -m pip install --upgrade pip\n"
     ]
    }
   ],
   "source": [
    "%pip install xgboost \n",
    "%pip install tslearn\n",
    "%pip install yfinance"
   ]
  },
  {
   "cell_type": "code",
   "execution_count": 8,
   "metadata": {},
   "outputs": [],
   "source": [
    "import numpy as np\n",
    "import matplotlib.pyplot as plt\n",
    "from sklearn.preprocessing import MinMaxScaler\n",
    "import yfinance as yf\n",
    "import torch\n",
    "import torch.nn as nn\n",
    "import torch.nn.functional as F\n",
    "import torch.optim as optim\n",
    "from torch.utils.data import DataLoader, TensorDataset\n",
    "\n",
    "from xgboost import XGBClassifier\n",
    "from sklearn.metrics import accuracy_score\n",
    "from sklearn.preprocessing import LabelEncoder\n",
    "\n",
    "#from sktime.datasets import load_UCR_UEA_dataset\n",
    "from tslearn.datasets import UCR_UEA_datasets\n",
    "\n",
    "#1d interpolation\n",
    "from scipy.interpolate import interp1d"
   ]
  },
  {
   "cell_type": "code",
   "execution_count": 22,
   "metadata": {},
   "outputs": [
    {
     "name": "stdout",
     "output_type": "stream",
     "text": [
      "[*********************100%%**********************]  1 of 1 completed\n"
     ]
    }
   ],
   "source": [
    "start_date ='2014-12-31'\n",
    "end_date = '2021-05-31'\n",
    "price = yf.download(\"BTC-USD\", start=start_date, end=end_date)"
   ]
  },
  {
   "cell_type": "code",
   "execution_count": 23,
   "metadata": {},
   "outputs": [],
   "source": [
    "price = price.reset_index()"
   ]
  },
  {
   "cell_type": "code",
   "execution_count": 24,
   "metadata": {},
   "outputs": [
    {
     "data": {
      "text/html": [
       "<div>\n",
       "<style scoped>\n",
       "    .dataframe tbody tr th:only-of-type {\n",
       "        vertical-align: middle;\n",
       "    }\n",
       "\n",
       "    .dataframe tbody tr th {\n",
       "        vertical-align: top;\n",
       "    }\n",
       "\n",
       "    .dataframe thead th {\n",
       "        text-align: right;\n",
       "    }\n",
       "</style>\n",
       "<table border=\"1\" class=\"dataframe\">\n",
       "  <thead>\n",
       "    <tr style=\"text-align: right;\">\n",
       "      <th></th>\n",
       "      <th>Date</th>\n",
       "      <th>Open</th>\n",
       "      <th>High</th>\n",
       "      <th>Low</th>\n",
       "      <th>Close</th>\n",
       "      <th>Adj Close</th>\n",
       "      <th>Volume</th>\n",
       "    </tr>\n",
       "  </thead>\n",
       "  <tbody>\n",
       "    <tr>\n",
       "      <th>0</th>\n",
       "      <td>2014-12-31</td>\n",
       "      <td>310.914001</td>\n",
       "      <td>320.192993</td>\n",
       "      <td>310.210999</td>\n",
       "      <td>320.192993</td>\n",
       "      <td>320.192993</td>\n",
       "      <td>13942900</td>\n",
       "    </tr>\n",
       "    <tr>\n",
       "      <th>1</th>\n",
       "      <td>2015-01-01</td>\n",
       "      <td>320.434998</td>\n",
       "      <td>320.434998</td>\n",
       "      <td>314.002991</td>\n",
       "      <td>314.248993</td>\n",
       "      <td>314.248993</td>\n",
       "      <td>8036550</td>\n",
       "    </tr>\n",
       "    <tr>\n",
       "      <th>2</th>\n",
       "      <td>2015-01-02</td>\n",
       "      <td>314.079010</td>\n",
       "      <td>315.838989</td>\n",
       "      <td>313.565002</td>\n",
       "      <td>315.032013</td>\n",
       "      <td>315.032013</td>\n",
       "      <td>7860650</td>\n",
       "    </tr>\n",
       "    <tr>\n",
       "      <th>3</th>\n",
       "      <td>2015-01-03</td>\n",
       "      <td>314.846008</td>\n",
       "      <td>315.149994</td>\n",
       "      <td>281.082001</td>\n",
       "      <td>281.082001</td>\n",
       "      <td>281.082001</td>\n",
       "      <td>33054400</td>\n",
       "    </tr>\n",
       "    <tr>\n",
       "      <th>4</th>\n",
       "      <td>2015-01-04</td>\n",
       "      <td>281.145996</td>\n",
       "      <td>287.230011</td>\n",
       "      <td>257.612000</td>\n",
       "      <td>264.195007</td>\n",
       "      <td>264.195007</td>\n",
       "      <td>55629100</td>\n",
       "    </tr>\n",
       "  </tbody>\n",
       "</table>\n",
       "</div>"
      ],
      "text/plain": [
       "        Date        Open        High         Low       Close   Adj Close  \\\n",
       "0 2014-12-31  310.914001  320.192993  310.210999  320.192993  320.192993   \n",
       "1 2015-01-01  320.434998  320.434998  314.002991  314.248993  314.248993   \n",
       "2 2015-01-02  314.079010  315.838989  313.565002  315.032013  315.032013   \n",
       "3 2015-01-03  314.846008  315.149994  281.082001  281.082001  281.082001   \n",
       "4 2015-01-04  281.145996  287.230011  257.612000  264.195007  264.195007   \n",
       "\n",
       "     Volume  \n",
       "0  13942900  \n",
       "1   8036550  \n",
       "2   7860650  \n",
       "3  33054400  \n",
       "4  55629100  "
      ]
     },
     "execution_count": 24,
     "metadata": {},
     "output_type": "execute_result"
    }
   ],
   "source": [
    "price.head()"
   ]
  },
  {
   "cell_type": "code",
   "execution_count": 25,
   "metadata": {},
   "outputs": [],
   "source": [
    "# Due to the high volatility nature of crypto currency we chose a 1 day lag\n",
    "lag = 1  # Number of lags\n",
    "price['Close Lagged Price'] = price['Close'].shift(lag)"
   ]
  },
  {
   "cell_type": "code",
   "execution_count": 26,
   "metadata": {},
   "outputs": [],
   "source": [
    "# We will compute 7, 14, 21 simple moving average moving average \n",
    "\n",
    "price['sma7'] = price['Close'].rolling(window=7).mean()\n",
    "price['sma14'] = price['Close'].rolling(window=14).mean()\n",
    "price['sma21'] = price['Close'].rolling(window=21).mean()\n",
    "\n",
    "\n",
    "price['ema12'] = price['Close'].ewm(span=12, adjust=False).mean()\n",
    "price['ema26'] = price['Close'].ewm(span=26, adjust=False).mean()\n",
    "\n",
    "# Calculate MACD Line\n",
    "price['MACD line'] = price['ema12'] - price['ema26']\n",
    "\n",
    "# Calculate Signal Line\n",
    "price['Signal line'] = price['MACD line'].ewm(span=9, adjust=False).mean()\n",
    "\n",
    "# Calculate MACD Histogram\n",
    "price['MACD histogram'] = price['MACD line'] - price['Signal line']\n"
   ]
  },
  {
   "cell_type": "code",
   "execution_count": 27,
   "metadata": {},
   "outputs": [],
   "source": [
    "price_2= price.Close.to_frame()\n",
    "price['PriceChange'] = price['Close'].pct_change() * 100 \n",
    "price['Label'] = np.where(price['PriceChange'] > 0, 1, 0)\n",
    "\n",
    "price['change']=price_2.apply(lambda x: x/x.shift(1)-1)\n",
    "price['log_change']=price_2.apply(lambda x: np.log(x)-np.log(x.shift(1)))\n",
    "price['change_label']=price['change'].apply (lambda x: x>0.02)"
   ]
  },
  {
   "cell_type": "code",
   "execution_count": 28,
   "metadata": {},
   "outputs": [],
   "source": [
    "window = 14  # Number of periods for RSI calculation\n",
    "\n",
    "# Calculate price changes\n",
    "delta = price['Close'].diff()\n",
    "\n",
    "# Calculate gains and losses\n",
    "gain = delta.where(delta > 0, 0)\n",
    "loss = -delta.where(delta < 0, 0)\n",
    "\n",
    "# Calculate average gains and losses\n",
    "avg_gain = gain.rolling(window=window).mean()\n",
    "avg_loss = loss.rolling(window=window).mean()\n",
    "\n",
    "# Calculate relative strength (RS) and RSI\n",
    "rs = avg_gain / avg_loss\n",
    "rsi = 100 - (100 / (1 + rs))\n",
    "\n",
    "price['rsi'] = rsi\n"
   ]
  },
  {
   "cell_type": "code",
   "execution_count": 29,
   "metadata": {},
   "outputs": [],
   "source": [
    "price = price.dropna()"
   ]
  },
  {
   "cell_type": "code",
   "execution_count": 33,
   "metadata": {},
   "outputs": [],
   "source": [
    "X = price.drop(['Date', 'change', 'log_change', 'change_label','Label'], axis=1)\n",
    "Y = price['Label']"
   ]
  },
  {
   "cell_type": "code",
   "execution_count": 34,
   "metadata": {},
   "outputs": [],
   "source": [
    "X = X.to_numpy()"
   ]
  },
  {
   "cell_type": "code",
   "execution_count": 37,
   "metadata": {},
   "outputs": [],
   "source": [
    "Y = Y.to_numpy()"
   ]
  },
  {
   "cell_type": "code",
   "execution_count": 38,
   "metadata": {},
   "outputs": [
    {
     "data": {
      "text/plain": [
       "(2323,)"
      ]
     },
     "execution_count": 38,
     "metadata": {},
     "output_type": "execute_result"
    }
   ],
   "source": [
    "Y.shape"
   ]
  },
  {
   "cell_type": "code",
   "execution_count": 39,
   "metadata": {},
   "outputs": [],
   "source": [
    "from sklearn.model_selection import train_test_split"
   ]
  },
  {
   "cell_type": "code",
   "execution_count": 40,
   "metadata": {},
   "outputs": [],
   "source": [
    "# Split the data into training, validation, and testing sets\n",
    "# First, split into training and temp sets (80% training, 20% temp)\n",
    "X_train, X_temp, y_train, y_temp = train_test_split(X, Y, test_size=0.2, random_state=42)\n",
    "# Then, split the temp set into validation and testing sets (50% validation, 50% testing)\n",
    "X_val, X_test, y_val, y_test = train_test_split(X_temp, y_temp, test_size=0.5, random_state=42)"
   ]
  },
  {
   "cell_type": "code",
   "execution_count": 41,
   "metadata": {},
   "outputs": [],
   "source": [
    "#encode the labels\n",
    "encoder = LabelEncoder()\n",
    "encoder.fit(y_train)\n",
    "y_train = encoder.transform(y_train)\n",
    "y_test = encoder.transform(y_test)"
   ]
  },
  {
   "cell_type": "code",
   "execution_count": 46,
   "metadata": {},
   "outputs": [],
   "source": [
    "#interpolate data\n",
    "length = 100\n",
    "def interpolate(X, length):\n",
    "    X_interpolated = []\n",
    "    for i in range(X.shape):\n",
    "        x = np.linspace(0, 1, X.shape[1])\n",
    "        f = interp1d(x, X[i], axis=0)\n",
    "        xnew = np.linspace(0, 1, length)\n",
    "        ynew = f(xnew)\n",
    "        X_interpolated.append(ynew)\n",
    "    return np.array(X_interpolated)"
   ]
  },
  {
   "cell_type": "code",
   "execution_count": 47,
   "metadata": {},
   "outputs": [
    {
     "ename": "TypeError",
     "evalue": "'tuple' object cannot be interpreted as an integer",
     "output_type": "error",
     "traceback": [
      "\u001b[1;31m---------------------------------------------------------------------------\u001b[0m",
      "\u001b[1;31mTypeError\u001b[0m                                 Traceback (most recent call last)",
      "Cell \u001b[1;32mIn[47], line 1\u001b[0m\n\u001b[1;32m----> 1\u001b[0m X_train \u001b[39m=\u001b[39m interpolate(X_train, length)\n\u001b[0;32m      2\u001b[0m X_test \u001b[39m=\u001b[39m interpolate(X_test, length)\n",
      "Cell \u001b[1;32mIn[46], line 5\u001b[0m, in \u001b[0;36minterpolate\u001b[1;34m(X, length)\u001b[0m\n\u001b[0;32m      3\u001b[0m \u001b[39mdef\u001b[39;00m \u001b[39minterpolate\u001b[39m(X, length):\n\u001b[0;32m      4\u001b[0m     X_interpolated \u001b[39m=\u001b[39m []\n\u001b[1;32m----> 5\u001b[0m     \u001b[39mfor\u001b[39;00m i \u001b[39min\u001b[39;00m \u001b[39mrange\u001b[39;49m(X\u001b[39m.\u001b[39;49mshape):\n\u001b[0;32m      6\u001b[0m         x \u001b[39m=\u001b[39m np\u001b[39m.\u001b[39mlinspace(\u001b[39m0\u001b[39m, \u001b[39m1\u001b[39m, X\u001b[39m.\u001b[39mshape[\u001b[39m1\u001b[39m])\n\u001b[0;32m      7\u001b[0m         f \u001b[39m=\u001b[39m interp1d(x, X[i], axis\u001b[39m=\u001b[39m\u001b[39m0\u001b[39m)\n",
      "\u001b[1;31mTypeError\u001b[0m: 'tuple' object cannot be interpreted as an integer"
     ]
    }
   ],
   "source": [
    "X_train = interpolate(X_train, length)\n",
    "X_test = interpolate(X_test, length)"
   ]
  },
  {
   "cell_type": "code",
   "execution_count": 48,
   "metadata": {},
   "outputs": [
    {
     "name": "stdout",
     "output_type": "stream",
     "text": [
      "Epoch 1/50\n",
      "25/25 [==============================] - 1s 3ms/step - loss: 0.1066\n",
      "Epoch 2/50\n",
      "25/25 [==============================] - 0s 2ms/step - loss: 0.0240\n",
      "Epoch 3/50\n",
      "25/25 [==============================] - 0s 2ms/step - loss: 0.0202\n",
      "Epoch 4/50\n",
      "25/25 [==============================] - 0s 3ms/step - loss: 0.0179\n",
      "Epoch 5/50\n",
      "25/25 [==============================] - 0s 3ms/step - loss: 0.0159\n",
      "Epoch 6/50\n",
      "25/25 [==============================] - 0s 2ms/step - loss: 0.0136\n",
      "Epoch 7/50\n",
      "25/25 [==============================] - 0s 3ms/step - loss: 0.0108\n",
      "Epoch 8/50\n",
      "25/25 [==============================] - 0s 2ms/step - loss: 0.0071\n",
      "Epoch 9/50\n",
      "25/25 [==============================] - 0s 2ms/step - loss: 0.0038\n",
      "Epoch 10/50\n",
      "25/25 [==============================] - 0s 2ms/step - loss: 0.0029\n",
      "Epoch 11/50\n",
      "25/25 [==============================] - 0s 2ms/step - loss: 0.0024\n",
      "Epoch 12/50\n",
      "25/25 [==============================] - 0s 3ms/step - loss: 0.0024\n",
      "Epoch 13/50\n",
      "25/25 [==============================] - 0s 2ms/step - loss: 0.0025\n",
      "Epoch 14/50\n",
      "25/25 [==============================] - 0s 2ms/step - loss: 0.0027\n",
      "Epoch 15/50\n",
      "25/25 [==============================] - 0s 2ms/step - loss: 0.0025\n",
      "Epoch 16/50\n",
      "25/25 [==============================] - 0s 2ms/step - loss: 0.0023\n",
      "Epoch 17/50\n",
      "25/25 [==============================] - 0s 2ms/step - loss: 0.0022\n",
      "Epoch 18/50\n",
      "25/25 [==============================] - 0s 2ms/step - loss: 0.0021\n",
      "Epoch 19/50\n",
      "25/25 [==============================] - 0s 2ms/step - loss: 0.0021\n",
      "Epoch 20/50\n",
      "25/25 [==============================] - 0s 3ms/step - loss: 0.0022\n",
      "Epoch 21/50\n",
      "25/25 [==============================] - 0s 3ms/step - loss: 0.0022\n",
      "Epoch 22/50\n",
      "25/25 [==============================] - 0s 2ms/step - loss: 0.0021\n",
      "Epoch 23/50\n",
      "25/25 [==============================] - 0s 2ms/step - loss: 0.0023\n",
      "Epoch 24/50\n",
      "25/25 [==============================] - 0s 2ms/step - loss: 0.0021\n",
      "Epoch 25/50\n",
      "25/25 [==============================] - 0s 3ms/step - loss: 0.0023\n",
      "Epoch 26/50\n",
      "25/25 [==============================] - 0s 3ms/step - loss: 0.0023\n",
      "Epoch 27/50\n",
      "25/25 [==============================] - 0s 3ms/step - loss: 0.0024\n",
      "Epoch 28/50\n",
      "25/25 [==============================] - 0s 2ms/step - loss: 0.0021\n",
      "Epoch 29/50\n",
      "25/25 [==============================] - 0s 2ms/step - loss: 0.0021\n",
      "Epoch 30/50\n",
      "25/25 [==============================] - 0s 2ms/step - loss: 0.0021\n",
      "Epoch 31/50\n",
      "25/25 [==============================] - 0s 2ms/step - loss: 0.0020\n",
      "Epoch 32/50\n",
      "25/25 [==============================] - 0s 2ms/step - loss: 0.0021\n",
      "Epoch 33/50\n",
      "25/25 [==============================] - 0s 2ms/step - loss: 0.0020\n",
      "Epoch 34/50\n",
      "25/25 [==============================] - 0s 2ms/step - loss: 0.0021\n",
      "Epoch 35/50\n",
      "25/25 [==============================] - 0s 2ms/step - loss: 0.0020\n",
      "Epoch 36/50\n",
      "25/25 [==============================] - 0s 2ms/step - loss: 0.0020\n",
      "Epoch 37/50\n",
      "25/25 [==============================] - 0s 3ms/step - loss: 0.0021\n",
      "Epoch 38/50\n",
      "25/25 [==============================] - 0s 3ms/step - loss: 0.0020\n",
      "Epoch 39/50\n",
      "25/25 [==============================] - 0s 3ms/step - loss: 0.0020\n",
      "Epoch 40/50\n",
      "25/25 [==============================] - 0s 3ms/step - loss: 0.0020\n",
      "Epoch 41/50\n",
      "25/25 [==============================] - 0s 3ms/step - loss: 0.0021\n",
      "Epoch 42/50\n",
      "25/25 [==============================] - 0s 3ms/step - loss: 0.0022\n",
      "Epoch 43/50\n",
      "25/25 [==============================] - 0s 3ms/step - loss: 0.0021\n",
      "Epoch 44/50\n",
      "25/25 [==============================] - 0s 2ms/step - loss: 0.0020\n",
      "Epoch 45/50\n",
      "25/25 [==============================] - 0s 2ms/step - loss: 0.0021\n",
      "Epoch 46/50\n",
      "25/25 [==============================] - 0s 2ms/step - loss: 0.0021\n",
      "Epoch 47/50\n",
      "25/25 [==============================] - 0s 2ms/step - loss: 0.0022\n",
      "Epoch 48/50\n",
      "25/25 [==============================] - 0s 2ms/step - loss: 0.0021\n",
      "Epoch 49/50\n",
      "25/25 [==============================] - 0s 2ms/step - loss: 0.0023\n",
      "Epoch 50/50\n",
      "25/25 [==============================] - 0s 2ms/step - loss: 0.0020\n",
      "7/7 [==============================] - 0s 1ms/step\n"
     ]
    },
    {
     "ename": "ValueError",
     "evalue": "Expected 2D array, got 1D array instead:\narray=[0.07911889 0.14244136 0.17171454 0.10595537 0.136661   0.20781518\n 0.18567156 0.17640327 0.14780535 0.29324373 0.30279806 0.38998222\n 0.38525454 0.41321143 0.49661165 0.53551645 0.50967679 0.63288079\n 0.56083052 0.6452561  0.65716486 0.78694508 0.77670828 0.81431973\n 0.78493574 0.88419999 0.88170942 0.89600976 0.84540848 0.87205763\n 0.88965944 0.80905509 0.84179954 0.84170135 0.84243194 0.7593448\n 0.78224348 0.68935738 0.70422299 0.71481863 0.65540209 0.67101191\n 0.58358702 0.63759777 0.52656025 0.53832316 0.42134252 0.42898913\n 0.4130653  0.32877633 0.30103111 0.3136112  0.2066688  0.21670733\n 0.22716462 0.21052353 0.16413549 0.11204028 0.09174841 0.12735396\n 0.14143271 0.01101004 0.04780975 0.1339863  0.12381062 0.08962675\n 0.12542405 0.16178029 0.12105077 0.15644264 0.23520565 0.26181615\n 0.25986006 0.36378119 0.42133933 0.4282586  0.49374367 0.50047688\n 0.59633267 0.57745901 0.59730504 0.6985511  0.6922828  0.68757862\n 0.76311648 0.72661579 0.75188968 0.80833335 0.84727349 0.85123306\n 0.8658232  0.88592129 0.85623192 0.84206369 0.85001162 0.82915879\n 0.81866719 0.82475716 0.85037881 0.76363947 0.73314196 0.78848717\n 0.71434331 0.67749449 0.68425207 0.60565245 0.60907786 0.52551218\n 0.52104994 0.48212928 0.40552772 0.39380863 0.27045983 0.23536493\n 0.25276593 0.28845479 0.17433064 0.1824236  0.19459585 0.19751759\n 0.14761373 0.09907632 0.02142736 0.06983723 0.12456273 0.06500704\n 0.10595865 0.13076016 0.13160377 0.18441138 0.20088206 0.16976093\n 0.21998306 0.20137466 0.26750025 0.25612896 0.38487696 0.377837\n 0.35175774 0.44796947 0.49152687 0.5244423  0.6571314  0.62532919\n 0.62598327 0.66848352 0.74040417 0.71737369 0.81886666 0.75181868\n 0.79143333 0.84065952 0.91854088 0.78483275 0.91862846 0.88482094\n 0.92024537 0.91970649 0.86760171 0.79446609 0.8648736  0.74258139\n 0.80651166 0.75686611 0.74090685 0.7245437  0.6148376  0.59946425\n 0.60730209 0.56558076 0.44111742 0.49696738 0.4184021  0.35599806\n 0.41278262 0.401629   0.25594135 0.29090685 0.25799447 0.23195653\n 0.22450387 0.1171774  0.1128613  0.13554192 0.07566325 0.06748078\n 0.11263845 0.08940655 0.08906414 0.0491815  0.07990621 0.0216291\n 0.10866882 0.19169427 0.17564377 0.27088307 0.24690841 0.22165736].\nReshape your data either using array.reshape(-1, 1) if your data has a single feature or array.reshape(1, -1) if it contains a single sample.",
     "output_type": "error",
     "traceback": [
      "\u001b[1;31m---------------------------------------------------------------------------\u001b[0m",
      "\u001b[1;31mValueError\u001b[0m                                Traceback (most recent call last)",
      "Cell \u001b[1;32mIn[48], line 50\u001b[0m\n\u001b[0;32m     48\u001b[0m \u001b[39m# Inverse transform the predictions and actual values to the original scale\u001b[39;00m\n\u001b[0;32m     49\u001b[0m y_pred \u001b[39m=\u001b[39m scaler\u001b[39m.\u001b[39minverse_transform(y_pred)\n\u001b[1;32m---> 50\u001b[0m y_test \u001b[39m=\u001b[39m scaler\u001b[39m.\u001b[39;49minverse_transform(y_test)\n\u001b[0;32m     52\u001b[0m \u001b[39m# Calculate the Mean Squared Error (MSE)\u001b[39;00m\n\u001b[0;32m     53\u001b[0m mse \u001b[39m=\u001b[39m mean_squared_error(y_test, y_pred)\n",
      "File \u001b[1;32mc:\\Users\\Computing\\AppData\\Local\\Programs\\Python\\Python311\\Lib\\site-packages\\sklearn\\preprocessing\\_data.py:543\u001b[0m, in \u001b[0;36mMinMaxScaler.inverse_transform\u001b[1;34m(self, X)\u001b[0m\n\u001b[0;32m    529\u001b[0m \u001b[39m\u001b[39m\u001b[39m\"\"\"Undo the scaling of X according to feature_range.\u001b[39;00m\n\u001b[0;32m    530\u001b[0m \n\u001b[0;32m    531\u001b[0m \u001b[39mParameters\u001b[39;00m\n\u001b[1;32m   (...)\u001b[0m\n\u001b[0;32m    539\u001b[0m \u001b[39m    Transformed data.\u001b[39;00m\n\u001b[0;32m    540\u001b[0m \u001b[39m\"\"\"\u001b[39;00m\n\u001b[0;32m    541\u001b[0m check_is_fitted(\u001b[39mself\u001b[39m)\n\u001b[1;32m--> 543\u001b[0m X \u001b[39m=\u001b[39m check_array(\n\u001b[0;32m    544\u001b[0m     X, copy\u001b[39m=\u001b[39;49m\u001b[39mself\u001b[39;49m\u001b[39m.\u001b[39;49mcopy, dtype\u001b[39m=\u001b[39;49mFLOAT_DTYPES, force_all_finite\u001b[39m=\u001b[39;49m\u001b[39m\"\u001b[39;49m\u001b[39mallow-nan\u001b[39;49m\u001b[39m\"\u001b[39;49m\n\u001b[0;32m    545\u001b[0m )\n\u001b[0;32m    547\u001b[0m X \u001b[39m-\u001b[39m\u001b[39m=\u001b[39m \u001b[39mself\u001b[39m\u001b[39m.\u001b[39mmin_\n\u001b[0;32m    548\u001b[0m X \u001b[39m/\u001b[39m\u001b[39m=\u001b[39m \u001b[39mself\u001b[39m\u001b[39m.\u001b[39mscale_\n",
      "File \u001b[1;32mc:\\Users\\Computing\\AppData\\Local\\Programs\\Python\\Python311\\Lib\\site-packages\\sklearn\\utils\\validation.py:940\u001b[0m, in \u001b[0;36mcheck_array\u001b[1;34m(array, accept_sparse, accept_large_sparse, dtype, order, copy, force_all_finite, ensure_2d, allow_nd, ensure_min_samples, ensure_min_features, estimator, input_name)\u001b[0m\n\u001b[0;32m    938\u001b[0m     \u001b[39m# If input is 1D raise error\u001b[39;00m\n\u001b[0;32m    939\u001b[0m     \u001b[39mif\u001b[39;00m array\u001b[39m.\u001b[39mndim \u001b[39m==\u001b[39m \u001b[39m1\u001b[39m:\n\u001b[1;32m--> 940\u001b[0m         \u001b[39mraise\u001b[39;00m \u001b[39mValueError\u001b[39;00m(\n\u001b[0;32m    941\u001b[0m             \u001b[39m\"\u001b[39m\u001b[39mExpected 2D array, got 1D array instead:\u001b[39m\u001b[39m\\n\u001b[39;00m\u001b[39marray=\u001b[39m\u001b[39m{}\u001b[39;00m\u001b[39m.\u001b[39m\u001b[39m\\n\u001b[39;00m\u001b[39m\"\u001b[39m\n\u001b[0;32m    942\u001b[0m             \u001b[39m\"\u001b[39m\u001b[39mReshape your data either using array.reshape(-1, 1) if \u001b[39m\u001b[39m\"\u001b[39m\n\u001b[0;32m    943\u001b[0m             \u001b[39m\"\u001b[39m\u001b[39myour data has a single feature or array.reshape(1, -1) \u001b[39m\u001b[39m\"\u001b[39m\n\u001b[0;32m    944\u001b[0m             \u001b[39m\"\u001b[39m\u001b[39mif it contains a single sample.\u001b[39m\u001b[39m\"\u001b[39m\u001b[39m.\u001b[39mformat(array)\n\u001b[0;32m    945\u001b[0m         )\n\u001b[0;32m    947\u001b[0m \u001b[39mif\u001b[39;00m dtype_numeric \u001b[39mand\u001b[39;00m \u001b[39mhasattr\u001b[39m(array\u001b[39m.\u001b[39mdtype, \u001b[39m\"\u001b[39m\u001b[39mkind\u001b[39m\u001b[39m\"\u001b[39m) \u001b[39mand\u001b[39;00m array\u001b[39m.\u001b[39mdtype\u001b[39m.\u001b[39mkind \u001b[39min\u001b[39;00m \u001b[39m\"\u001b[39m\u001b[39mUSV\u001b[39m\u001b[39m\"\u001b[39m:\n\u001b[0;32m    948\u001b[0m     \u001b[39mraise\u001b[39;00m \u001b[39mValueError\u001b[39;00m(\n\u001b[0;32m    949\u001b[0m         \u001b[39m\"\u001b[39m\u001b[39mdtype=\u001b[39m\u001b[39m'\u001b[39m\u001b[39mnumeric\u001b[39m\u001b[39m'\u001b[39m\u001b[39m is not compatible with arrays of bytes/strings.\u001b[39m\u001b[39m\"\u001b[39m\n\u001b[0;32m    950\u001b[0m         \u001b[39m\"\u001b[39m\u001b[39mConvert your data to numeric values explicitly instead.\u001b[39m\u001b[39m\"\u001b[39m\n\u001b[0;32m    951\u001b[0m     )\n",
      "\u001b[1;31mValueError\u001b[0m: Expected 2D array, got 1D array instead:\narray=[0.07911889 0.14244136 0.17171454 0.10595537 0.136661   0.20781518\n 0.18567156 0.17640327 0.14780535 0.29324373 0.30279806 0.38998222\n 0.38525454 0.41321143 0.49661165 0.53551645 0.50967679 0.63288079\n 0.56083052 0.6452561  0.65716486 0.78694508 0.77670828 0.81431973\n 0.78493574 0.88419999 0.88170942 0.89600976 0.84540848 0.87205763\n 0.88965944 0.80905509 0.84179954 0.84170135 0.84243194 0.7593448\n 0.78224348 0.68935738 0.70422299 0.71481863 0.65540209 0.67101191\n 0.58358702 0.63759777 0.52656025 0.53832316 0.42134252 0.42898913\n 0.4130653  0.32877633 0.30103111 0.3136112  0.2066688  0.21670733\n 0.22716462 0.21052353 0.16413549 0.11204028 0.09174841 0.12735396\n 0.14143271 0.01101004 0.04780975 0.1339863  0.12381062 0.08962675\n 0.12542405 0.16178029 0.12105077 0.15644264 0.23520565 0.26181615\n 0.25986006 0.36378119 0.42133933 0.4282586  0.49374367 0.50047688\n 0.59633267 0.57745901 0.59730504 0.6985511  0.6922828  0.68757862\n 0.76311648 0.72661579 0.75188968 0.80833335 0.84727349 0.85123306\n 0.8658232  0.88592129 0.85623192 0.84206369 0.85001162 0.82915879\n 0.81866719 0.82475716 0.85037881 0.76363947 0.73314196 0.78848717\n 0.71434331 0.67749449 0.68425207 0.60565245 0.60907786 0.52551218\n 0.52104994 0.48212928 0.40552772 0.39380863 0.27045983 0.23536493\n 0.25276593 0.28845479 0.17433064 0.1824236  0.19459585 0.19751759\n 0.14761373 0.09907632 0.02142736 0.06983723 0.12456273 0.06500704\n 0.10595865 0.13076016 0.13160377 0.18441138 0.20088206 0.16976093\n 0.21998306 0.20137466 0.26750025 0.25612896 0.38487696 0.377837\n 0.35175774 0.44796947 0.49152687 0.5244423  0.6571314  0.62532919\n 0.62598327 0.66848352 0.74040417 0.71737369 0.81886666 0.75181868\n 0.79143333 0.84065952 0.91854088 0.78483275 0.91862846 0.88482094\n 0.92024537 0.91970649 0.86760171 0.79446609 0.8648736  0.74258139\n 0.80651166 0.75686611 0.74090685 0.7245437  0.6148376  0.59946425\n 0.60730209 0.56558076 0.44111742 0.49696738 0.4184021  0.35599806\n 0.41278262 0.401629   0.25594135 0.29090685 0.25799447 0.23195653\n 0.22450387 0.1171774  0.1128613  0.13554192 0.07566325 0.06748078\n 0.11263845 0.08940655 0.08906414 0.0491815  0.07990621 0.0216291\n 0.10866882 0.19169427 0.17564377 0.27088307 0.24690841 0.22165736].\nReshape your data either using array.reshape(-1, 1) if your data has a single feature or array.reshape(1, -1) if it contains a single sample."
     ]
    }
   ],
   "source": [
    "import numpy as np\n",
    "import pandas as pd\n",
    "import matplotlib.pyplot as plt\n",
    "from sklearn.preprocessing import MinMaxScaler\n",
    "from tensorflow.keras.models import Sequential\n",
    "from tensorflow.keras.layers import LSTM, Dense\n",
    "from sklearn.metrics import mean_squared_error\n",
    "\n",
    "# Sample financial time series data (replace with your own data)\n",
    "# For demonstration, we'll use a simple sine wave pattern.\n",
    "data = np.sin(np.linspace(0, 100, 1000)) + np.random.randn(1000) * 0.1\n",
    "\n",
    "# Convert data to a DataFrame\n",
    "df = pd.DataFrame({'Price': data})\n",
    "\n",
    "# Normalize the data (scaling between 0 and 1)\n",
    "scaler = MinMaxScaler()\n",
    "df['Price'] = scaler.fit_transform(df[['Price']])\n",
    "\n",
    "# Prepare the data for LSTM training\n",
    "def create_sequences(data, seq_length):\n",
    "    sequences = []\n",
    "    for i in range(len(data) - seq_length):\n",
    "        seq = data[i:i+seq_length]\n",
    "        target = data[i+seq_length]\n",
    "        sequences.append((seq, target))\n",
    "    return np.array([x[0] for x in sequences]), np.array([x[1] for x in sequences])\n",
    "\n",
    "sequence_length = 10  # Adjust as needed\n",
    "X, y = create_sequences(df['Price'].values, sequence_length)\n",
    "\n",
    "# Split the data into training and testing sets\n",
    "train_size = int(len(X) * 0.8)\n",
    "X_train, X_test = X[:train_size], X[train_size:]\n",
    "y_train, y_test = y[:train_size], y[train_size:]\n",
    "\n",
    "# Create and train the LSTM model\n",
    "model = Sequential()\n",
    "model.add(LSTM(50, input_shape=(sequence_length, 1)))\n",
    "model.add(Dense(1))\n",
    "model.compile(optimizer='adam', loss='mean_squared_error')\n",
    "\n",
    "model.fit(X_train, y_train, epochs=50, batch_size=32)\n",
    "\n",
    "# Make predictions on the test data\n",
    "y_pred = model.predict(X_test)\n",
    "\n",
    "# Inverse transform the predictions and actual values to the original scale\n",
    "y_pred = scaler.inverse_transform(y_pred)\n",
    "y_test = scaler.inverse_transform(y_test)\n",
    "\n",
    "# Calculate the Mean Squared Error (MSE)\n",
    "mse = mean_squared_error(y_test, y_pred)\n",
    "print(f\"Mean Squared Error (MSE): {mse}\")\n",
    "\n",
    "# Visualize the predictions vs. actual values\n",
    "plt.figure(figsize=(12, 6))\n",
    "plt.plot(y_test, label='Actual')\n",
    "plt.plot(y_pred, label='Predicted')\n",
    "plt.legend()\n",
    "plt.title('Financial Time Series Prediction')\n",
    "plt.xlabel('Time')\n",
    "plt.ylabel('Price')\n",
    "plt.show()\n"
   ]
  },
  {
   "cell_type": "code",
   "execution_count": 49,
   "metadata": {},
   "outputs": [
    {
     "data": {
      "text/plain": [
       "array([[0.44870943, 0.56228347, 0.52640853, ..., 0.70843262, 0.75519158,\n",
       "        0.81185503],\n",
       "       [0.56228347, 0.52640853, 0.63804732, ..., 0.75519158, 0.81185503,\n",
       "        0.79914562],\n",
       "       [0.52640853, 0.63804732, 0.61941695, ..., 0.81185503, 0.79914562,\n",
       "        0.87909337],\n",
       "       ...,\n",
       "       [0.06748078, 0.11263845, 0.08940655, ..., 0.10866882, 0.19169427,\n",
       "        0.17564377],\n",
       "       [0.11263845, 0.08940655, 0.08906414, ..., 0.19169427, 0.17564377,\n",
       "        0.27088307],\n",
       "       [0.08940655, 0.08906414, 0.0491815 , ..., 0.17564377, 0.27088307,\n",
       "        0.24690841]])"
      ]
     },
     "execution_count": 49,
     "metadata": {},
     "output_type": "execute_result"
    }
   ],
   "source": [
    "X"
   ]
  }
 ],
 "metadata": {
  "kernelspec": {
   "display_name": "Python 3",
   "language": "python",
   "name": "python3"
  },
  "language_info": {
   "codemirror_mode": {
    "name": "ipython",
    "version": 3
   },
   "file_extension": ".py",
   "mimetype": "text/x-python",
   "name": "python",
   "nbconvert_exporter": "python",
   "pygments_lexer": "ipython3",
   "version": "3.11.1"
  },
  "orig_nbformat": 4,
  "vscode": {
   "interpreter": {
    "hash": "24905e458ad4dc5a4619ab5330e2c95bb62fcc8cfba758a3e378b0342911d66f"
   }
  }
 },
 "nbformat": 4,
 "nbformat_minor": 2
}
