{
 "cells": [
  {
   "attachments": {},
   "cell_type": "markdown",
   "metadata": {},
   "source": [
    "# Multi modal model"
   ]
  },
  {
   "cell_type": "code",
   "execution_count": 35,
   "metadata": {},
   "outputs": [
    {
     "name": "stdout",
     "output_type": "stream",
     "text": [
      "Requirement already satisfied: yfinance in c:\\users\\computing\\appdata\\local\\programs\\python\\python311\\lib\\site-packages (0.2.28)\n",
      "Requirement already satisfied: pandas>=1.3.0 in c:\\users\\computing\\appdata\\local\\programs\\python\\python311\\lib\\site-packages (from yfinance) (2.1.0)\n",
      "Requirement already satisfied: numpy>=1.16.5 in c:\\users\\computing\\appdata\\local\\programs\\python\\python311\\lib\\site-packages (from yfinance) (1.24.3)\n",
      "Requirement already satisfied: requests>=2.31 in c:\\users\\computing\\appdata\\local\\programs\\python\\python311\\lib\\site-packages (from yfinance) (2.31.0)\n",
      "Requirement already satisfied: multitasking>=0.0.7 in c:\\users\\computing\\appdata\\local\\programs\\python\\python311\\lib\\site-packages (from yfinance) (0.0.11)\n",
      "Requirement already satisfied: lxml>=4.9.1 in c:\\users\\computing\\appdata\\local\\programs\\python\\python311\\lib\\site-packages (from yfinance) (4.9.3)\n",
      "Requirement already satisfied: appdirs>=1.4.4 in c:\\users\\computing\\appdata\\local\\programs\\python\\python311\\lib\\site-packages (from yfinance) (1.4.4)\n",
      "Requirement already satisfied: pytz>=2022.5 in c:\\users\\computing\\appdata\\local\\programs\\python\\python311\\lib\\site-packages (from yfinance) (2023.3)\n",
      "Requirement already satisfied: frozendict>=2.3.4 in c:\\users\\computing\\appdata\\local\\programs\\python\\python311\\lib\\site-packages (from yfinance) (2.3.8)\n",
      "Requirement already satisfied: beautifulsoup4>=4.11.1 in c:\\users\\computing\\appdata\\local\\programs\\python\\python311\\lib\\site-packages (from yfinance) (4.12.2)\n",
      "Requirement already satisfied: html5lib>=1.1 in c:\\users\\computing\\appdata\\local\\programs\\python\\python311\\lib\\site-packages (from yfinance) (1.1)\n",
      "Requirement already satisfied: soupsieve>1.2 in c:\\users\\computing\\appdata\\local\\programs\\python\\python311\\lib\\site-packages (from beautifulsoup4>=4.11.1->yfinance) (2.5)\n",
      "Requirement already satisfied: six>=1.9 in c:\\users\\computing\\appdata\\roaming\\python\\python311\\site-packages (from html5lib>=1.1->yfinance) (1.16.0)\n",
      "Requirement already satisfied: webencodings in c:\\users\\computing\\appdata\\local\\programs\\python\\python311\\lib\\site-packages (from html5lib>=1.1->yfinance) (0.5.1)\n",
      "Requirement already satisfied: python-dateutil>=2.8.2 in c:\\users\\computing\\appdata\\roaming\\python\\python311\\site-packages (from pandas>=1.3.0->yfinance) (2.8.2)\n",
      "Requirement already satisfied: tzdata>=2022.1 in c:\\users\\computing\\appdata\\local\\programs\\python\\python311\\lib\\site-packages (from pandas>=1.3.0->yfinance) (2023.3)\n",
      "Requirement already satisfied: charset-normalizer<4,>=2 in c:\\users\\computing\\appdata\\local\\programs\\python\\python311\\lib\\site-packages (from requests>=2.31->yfinance) (3.2.0)\n",
      "Requirement already satisfied: idna<4,>=2.5 in c:\\users\\computing\\appdata\\local\\programs\\python\\python311\\lib\\site-packages (from requests>=2.31->yfinance) (3.4)\n",
      "Requirement already satisfied: urllib3<3,>=1.21.1 in c:\\users\\computing\\appdata\\local\\programs\\python\\python311\\lib\\site-packages (from requests>=2.31->yfinance) (1.26.16)\n",
      "Requirement already satisfied: certifi>=2017.4.17 in c:\\users\\computing\\appdata\\local\\programs\\python\\python311\\lib\\site-packages (from requests>=2.31->yfinance) (2023.7.22)\n",
      "Note: you may need to restart the kernel to use updated packages.\n"
     ]
    },
    {
     "name": "stderr",
     "output_type": "stream",
     "text": [
      "\n",
      "[notice] A new release of pip is available: 23.0 -> 23.2.1\n",
      "[notice] To update, run: python.exe -m pip install --upgrade pip\n"
     ]
    },
    {
     "name": "stdout",
     "output_type": "stream",
     "text": [
      "Note: you may need to restart the kernel to use updated packages.Requirement already satisfied: nltk in c:\\users\\computing\\appdata\\local\\programs\\python\\python311\\lib\\site-packages (3.8.1)\n",
      "Requirement already satisfied: click in c:\\users\\computing\\appdata\\local\\programs\\python\\python311\\lib\\site-packages (from nltk) (8.1.7)\n",
      "Requirement already satisfied: joblib in c:\\users\\computing\\appdata\\local\\programs\\python\\python311\\lib\\site-packages (from nltk) (1.3.2)\n",
      "Requirement already satisfied: regex>=2021.8.3 in c:\\users\\computing\\appdata\\local\\programs\\python\\python311\\lib\\site-packages (from nltk) (2023.8.8)\n",
      "Requirement already satisfied: tqdm in c:\\users\\computing\\appdata\\local\\programs\\python\\python311\\lib\\site-packages (from nltk) (4.66.1)\n",
      "Requirement already satisfied: colorama in c:\\users\\computing\\appdata\\roaming\\python\\python311\\site-packages (from click->nltk) (0.4.6)\n",
      "\n"
     ]
    },
    {
     "name": "stderr",
     "output_type": "stream",
     "text": [
      "\n",
      "[notice] A new release of pip is available: 23.0 -> 23.2.1\n",
      "[notice] To update, run: python.exe -m pip install --upgrade pip\n"
     ]
    },
    {
     "name": "stdout",
     "output_type": "stream",
     "text": [
      "Requirement already satisfied: matplotlib in c:\\users\\computing\\appdata\\local\\programs\\python\\python311\\lib\\site-packages (3.7.2)\n",
      "Requirement already satisfied: contourpy>=1.0.1 in c:\\users\\computing\\appdata\\local\\programs\\python\\python311\\lib\\site-packages (from matplotlib) (1.1.0)\n",
      "Requirement already satisfied: cycler>=0.10 in c:\\users\\computing\\appdata\\local\\programs\\python\\python311\\lib\\site-packages (from matplotlib) (0.11.0)\n",
      "Requirement already satisfied: fonttools>=4.22.0 in c:\\users\\computing\\appdata\\local\\programs\\python\\python311\\lib\\site-packages (from matplotlib) (4.42.1)\n",
      "Requirement already satisfied: kiwisolver>=1.0.1 in c:\\users\\computing\\appdata\\local\\programs\\python\\python311\\lib\\site-packages (from matplotlib) (1.4.5)\n",
      "Requirement already satisfied: numpy>=1.20 in c:\\users\\computing\\appdata\\local\\programs\\python\\python311\\lib\\site-packages (from matplotlib) (1.24.3)\n",
      "Requirement already satisfied: packaging>=20.0 in c:\\users\\computing\\appdata\\roaming\\python\\python311\\site-packages (from matplotlib) (23.1)\n",
      "Requirement already satisfied: pillow>=6.2.0 in c:\\users\\computing\\appdata\\local\\programs\\python\\python311\\lib\\site-packages (from matplotlib) (10.0.0)\n",
      "Requirement already satisfied: pyparsing<3.1,>=2.3.1 in c:\\users\\computing\\appdata\\local\\programs\\python\\python311\\lib\\site-packages (from matplotlib) (3.0.9)\n",
      "Requirement already satisfied: python-dateutil>=2.7 in c:\\users\\computing\\appdata\\roaming\\python\\python311\\site-packages (from matplotlib) (2.8.2)\n",
      "Requirement already satisfied: six>=1.5 in c:\\users\\computing\\appdata\\roaming\\python\\python311\\site-packages (from python-dateutil>=2.7->matplotlib) (1.16.0)\n",
      "Note: you may need to restart the kernel to use updated packages.\n"
     ]
    },
    {
     "name": "stderr",
     "output_type": "stream",
     "text": [
      "\n",
      "[notice] A new release of pip is available: 23.0 -> 23.2.1\n",
      "[notice] To update, run: python.exe -m pip install --upgrade pip\n"
     ]
    },
    {
     "name": "stdout",
     "output_type": "stream",
     "text": [
      "Requirement already satisfied: seaborn in c:\\users\\computing\\appdata\\local\\programs\\python\\python311\\lib\\site-packages (0.12.2)\n",
      "Requirement already satisfied: numpy!=1.24.0,>=1.17 in c:\\users\\computing\\appdata\\local\\programs\\python\\python311\\lib\\site-packages (from seaborn) (1.24.3)\n",
      "Requirement already satisfied: pandas>=0.25 in c:\\users\\computing\\appdata\\local\\programs\\python\\python311\\lib\\site-packages (from seaborn) (2.1.0)\n",
      "Requirement already satisfied: matplotlib!=3.6.1,>=3.1 in c:\\users\\computing\\appdata\\local\\programs\\python\\python311\\lib\\site-packages (from seaborn) (3.7.2)\n",
      "Requirement already satisfied: contourpy>=1.0.1 in c:\\users\\computing\\appdata\\local\\programs\\python\\python311\\lib\\site-packages (from matplotlib!=3.6.1,>=3.1->seaborn) (1.1.0)\n",
      "Requirement already satisfied: cycler>=0.10 in c:\\users\\computing\\appdata\\local\\programs\\python\\python311\\lib\\site-packages (from matplotlib!=3.6.1,>=3.1->seaborn) (0.11.0)\n",
      "Requirement already satisfied: fonttools>=4.22.0 in c:\\users\\computing\\appdata\\local\\programs\\python\\python311\\lib\\site-packages (from matplotlib!=3.6.1,>=3.1->seaborn) (4.42.1)\n",
      "Requirement already satisfied: kiwisolver>=1.0.1 in c:\\users\\computing\\appdata\\local\\programs\\python\\python311\\lib\\site-packages (from matplotlib!=3.6.1,>=3.1->seaborn) (1.4.5)\n",
      "Requirement already satisfied: packaging>=20.0 in c:\\users\\computing\\appdata\\roaming\\python\\python311\\site-packages (from matplotlib!=3.6.1,>=3.1->seaborn) (23.1)\n",
      "Requirement already satisfied: pillow>=6.2.0 in c:\\users\\computing\\appdata\\local\\programs\\python\\python311\\lib\\site-packages (from matplotlib!=3.6.1,>=3.1->seaborn) (10.0.0)\n",
      "Requirement already satisfied: pyparsing<3.1,>=2.3.1 in c:\\users\\computing\\appdata\\local\\programs\\python\\python311\\lib\\site-packages (from matplotlib!=3.6.1,>=3.1->seaborn) (3.0.9)\n",
      "Requirement already satisfied: python-dateutil>=2.7 in c:\\users\\computing\\appdata\\roaming\\python\\python311\\site-packages (from matplotlib!=3.6.1,>=3.1->seaborn) (2.8.2)\n",
      "Requirement already satisfied: pytz>=2020.1 in c:\\users\\computing\\appdata\\local\\programs\\python\\python311\\lib\\site-packages (from pandas>=0.25->seaborn) (2023.3)\n",
      "Requirement already satisfied: tzdata>=2022.1 in c:\\users\\computing\\appdata\\local\\programs\\python\\python311\\lib\\site-packages (from pandas>=0.25->seaborn) (2023.3)\n",
      "Requirement already satisfied: six>=1.5 in c:\\users\\computing\\appdata\\roaming\\python\\python311\\site-packages (from python-dateutil>=2.7->matplotlib!=3.6.1,>=3.1->seaborn) (1.16.0)\n",
      "Note: you may need to restart the kernel to use updated packages.\n"
     ]
    },
    {
     "name": "stderr",
     "output_type": "stream",
     "text": [
      "\n",
      "[notice] A new release of pip is available: 23.0 -> 23.2.1\n",
      "[notice] To update, run: python.exe -m pip install --upgrade pip\n"
     ]
    },
    {
     "name": "stdout",
     "output_type": "stream",
     "text": [
      "Requirement already satisfied: wordcloud in c:\\users\\computing\\appdata\\local\\programs\\python\\python311\\lib\\site-packages (1.9.2)\n",
      "Requirement already satisfied: numpy>=1.6.1 in c:\\users\\computing\\appdata\\local\\programs\\python\\python311\\lib\\site-packages (from wordcloud) (1.24.3)\n",
      "Requirement already satisfied: pillow in c:\\users\\computing\\appdata\\local\\programs\\python\\python311\\lib\\site-packages (from wordcloud) (10.0.0)\n",
      "Requirement already satisfied: matplotlib in c:\\users\\computing\\appdata\\local\\programs\\python\\python311\\lib\\site-packages (from wordcloud) (3.7.2)\n",
      "Requirement already satisfied: contourpy>=1.0.1 in c:\\users\\computing\\appdata\\local\\programs\\python\\python311\\lib\\site-packages (from matplotlib->wordcloud) (1.1.0)\n",
      "Requirement already satisfied: cycler>=0.10 in c:\\users\\computing\\appdata\\local\\programs\\python\\python311\\lib\\site-packages (from matplotlib->wordcloud) (0.11.0)\n",
      "Requirement already satisfied: fonttools>=4.22.0 in c:\\users\\computing\\appdata\\local\\programs\\python\\python311\\lib\\site-packages (from matplotlib->wordcloud) (4.42.1)\n",
      "Requirement already satisfied: kiwisolver>=1.0.1 in c:\\users\\computing\\appdata\\local\\programs\\python\\python311\\lib\\site-packages (from matplotlib->wordcloud) (1.4.5)\n",
      "Requirement already satisfied: packaging>=20.0 in c:\\users\\computing\\appdata\\roaming\\python\\python311\\site-packages (from matplotlib->wordcloud) (23.1)\n",
      "Requirement already satisfied: pyparsing<3.1,>=2.3.1 in c:\\users\\computing\\appdata\\local\\programs\\python\\python311\\lib\\site-packages (from matplotlib->wordcloud) (3.0.9)\n",
      "Requirement already satisfied: python-dateutil>=2.7 in c:\\users\\computing\\appdata\\roaming\\python\\python311\\site-packages (from matplotlib->wordcloud) (2.8.2)\n",
      "Requirement already satisfied: six>=1.5 in c:\\users\\computing\\appdata\\roaming\\python\\python311\\site-packages (from python-dateutil>=2.7->matplotlib->wordcloud) (1.16.0)\n",
      "Note: you may need to restart the kernel to use updated packages.\n"
     ]
    },
    {
     "name": "stderr",
     "output_type": "stream",
     "text": [
      "\n",
      "[notice] A new release of pip is available: 23.0 -> 23.2.1\n",
      "[notice] To update, run: python.exe -m pip install --upgrade pip\n"
     ]
    },
    {
     "name": "stdout",
     "output_type": "stream",
     "text": [
      "Requirement already satisfied: torchvision in c:\\users\\computing\\appdata\\local\\programs\\python\\python311\\lib\\site-packages (0.15.2)\n",
      "Requirement already satisfied: numpy in c:\\users\\computing\\appdata\\local\\programs\\python\\python311\\lib\\site-packages (from torchvision) (1.24.3)\n",
      "Requirement already satisfied: requests in c:\\users\\computing\\appdata\\local\\programs\\python\\python311\\lib\\site-packages (from torchvision) (2.31.0)\n",
      "Requirement already satisfied: torch==2.0.1 in c:\\users\\computing\\appdata\\local\\programs\\python\\python311\\lib\\site-packages (from torchvision) (2.0.1)\n",
      "Requirement already satisfied: pillow!=8.3.*,>=5.3.0 in c:\\users\\computing\\appdata\\local\\programs\\python\\python311\\lib\\site-packages (from torchvision) (10.0.0)\n",
      "Requirement already satisfied: filelock in c:\\users\\computing\\appdata\\local\\programs\\python\\python311\\lib\\site-packages (from torch==2.0.1->torchvision) (3.12.3)\n",
      "Requirement already satisfied: typing-extensions in c:\\users\\computing\\appdata\\local\\programs\\python\\python311\\lib\\site-packages (from torch==2.0.1->torchvision) (4.5.0)\n",
      "Requirement already satisfied: sympy in c:\\users\\computing\\appdata\\local\\programs\\python\\python311\\lib\\site-packages (from torch==2.0.1->torchvision) (1.12)\n",
      "Requirement already satisfied: networkx in c:\\users\\computing\\appdata\\local\\programs\\python\\python311\\lib\\site-packages (from torch==2.0.1->torchvision) (3.1)\n",
      "Requirement already satisfied: jinja2 in c:\\users\\computing\\appdata\\local\\programs\\python\\python311\\lib\\site-packages (from torch==2.0.1->torchvision) (3.1.2)\n",
      "Requirement already satisfied: charset-normalizer<4,>=2 in c:\\users\\computing\\appdata\\local\\programs\\python\\python311\\lib\\site-packages (from requests->torchvision) (3.2.0)\n",
      "Requirement already satisfied: idna<4,>=2.5 in c:\\users\\computing\\appdata\\local\\programs\\python\\python311\\lib\\site-packages (from requests->torchvision) (3.4)\n",
      "Requirement already satisfied: urllib3<3,>=1.21.1 in c:\\users\\computing\\appdata\\local\\programs\\python\\python311\\lib\\site-packages (from requests->torchvision) (1.26.16)\n",
      "Requirement already satisfied: certifi>=2017.4.17 in c:\\users\\computing\\appdata\\local\\programs\\python\\python311\\lib\\site-packages (from requests->torchvision) (2023.7.22)\n",
      "Requirement already satisfied: MarkupSafe>=2.0 in c:\\users\\computing\\appdata\\local\\programs\\python\\python311\\lib\\site-packages (from jinja2->torch==2.0.1->torchvision) (2.1.3)\n",
      "Requirement already satisfied: mpmath>=0.19 in c:\\users\\computing\\appdata\\local\\programs\\python\\python311\\lib\\site-packages (from sympy->torch==2.0.1->torchvision) (1.3.0)\n",
      "Note: you may need to restart the kernel to use updated packages.\n"
     ]
    },
    {
     "name": "stderr",
     "output_type": "stream",
     "text": [
      "\n",
      "[notice] A new release of pip is available: 23.0 -> 23.2.1\n",
      "[notice] To update, run: python.exe -m pip install --upgrade pip\n"
     ]
    },
    {
     "name": "stdout",
     "output_type": "stream",
     "text": [
      "Note: you may need to restart the kernel to use updated packages.\n",
      "Requirement already satisfied: scikit-learn in c:\\users\\computing\\appdata\\local\\programs\\python\\python311\\lib\\site-packages (1.3.0)\n",
      "Requirement already satisfied: scipy in c:\\users\\computing\\appdata\\local\\programs\\python\\python311\\lib\\site-packages (1.11.2)\n",
      "Requirement already satisfied: matplotlib in c:\\users\\computing\\appdata\\local\\programs\\python\\python311\\lib\\site-packages (3.7.2)\n",
      "Requirement already satisfied: numpy>=1.17.3 in c:\\users\\computing\\appdata\\local\\programs\\python\\python311\\lib\\site-packages (from scikit-learn) (1.24.3)\n",
      "Requirement already satisfied: joblib>=1.1.1 in c:\\users\\computing\\appdata\\local\\programs\\python\\python311\\lib\\site-packages (from scikit-learn) (1.3.2)\n",
      "Requirement already satisfied: threadpoolctl>=2.0.0 in c:\\users\\computing\\appdata\\local\\programs\\python\\python311\\lib\\site-packages (from scikit-learn) (3.2.0)\n",
      "Requirement already satisfied: contourpy>=1.0.1 in c:\\users\\computing\\appdata\\local\\programs\\python\\python311\\lib\\site-packages (from matplotlib) (1.1.0)\n",
      "Requirement already satisfied: cycler>=0.10 in c:\\users\\computing\\appdata\\local\\programs\\python\\python311\\lib\\site-packages (from matplotlib) (0.11.0)\n",
      "Requirement already satisfied: fonttools>=4.22.0 in c:\\users\\computing\\appdata\\local\\programs\\python\\python311\\lib\\site-packages (from matplotlib) (4.42.1)\n",
      "Requirement already satisfied: kiwisolver>=1.0.1 in c:\\users\\computing\\appdata\\local\\programs\\python\\python311\\lib\\site-packages (from matplotlib) (1.4.5)\n",
      "Requirement already satisfied: packaging>=20.0 in c:\\users\\computing\\appdata\\roaming\\python\\python311\\site-packages (from matplotlib) (23.1)\n",
      "Requirement already satisfied: pillow>=6.2.0 in c:\\users\\computing\\appdata\\local\\programs\\python\\python311\\lib\\site-packages (from matplotlib) (10.0.0)\n",
      "Requirement already satisfied: pyparsing<3.1,>=2.3.1 in c:\\users\\computing\\appdata\\local\\programs\\python\\python311\\lib\\site-packages (from matplotlib) (3.0.9)\n",
      "Requirement already satisfied: python-dateutil>=2.7 in c:\\users\\computing\\appdata\\roaming\\python\\python311\\site-packages (from matplotlib) (2.8.2)\n",
      "Requirement already satisfied: six>=1.5 in c:\\users\\computing\\appdata\\roaming\\python\\python311\\site-packages (from python-dateutil>=2.7->matplotlib) (1.16.0)\n"
     ]
    },
    {
     "name": "stderr",
     "output_type": "stream",
     "text": [
      "\n",
      "[notice] A new release of pip is available: 23.0 -> 23.2.1\n",
      "[notice] To update, run: python.exe -m pip install --upgrade pip\n"
     ]
    },
    {
     "name": "stdout",
     "output_type": "stream",
     "text": [
      "Requirement already satisfied: pytorch-lightning in c:\\users\\computing\\appdata\\local\\programs\\python\\python311\\lib\\site-packages (2.0.8)Note: you may need to restart the kernel to use updated packages.\n",
      "\n",
      "Requirement already satisfied: numpy>=1.17.2 in c:\\users\\computing\\appdata\\local\\programs\\python\\python311\\lib\\site-packages (from pytorch-lightning) (1.24.3)\n",
      "Requirement already satisfied: torch>=1.11.0 in c:\\users\\computing\\appdata\\local\\programs\\python\\python311\\lib\\site-packages (from pytorch-lightning) (2.0.1)\n",
      "Requirement already satisfied: tqdm>=4.57.0 in c:\\users\\computing\\appdata\\local\\programs\\python\\python311\\lib\\site-packages (from pytorch-lightning) (4.66.1)\n",
      "Requirement already satisfied: PyYAML>=5.4 in c:\\users\\computing\\appdata\\local\\programs\\python\\python311\\lib\\site-packages (from pytorch-lightning) (6.0.1)\n",
      "Requirement already satisfied: fsspec[http]>2021.06.0 in c:\\users\\computing\\appdata\\local\\programs\\python\\python311\\lib\\site-packages (from pytorch-lightning) (2023.9.0)\n",
      "Requirement already satisfied: torchmetrics>=0.7.0 in c:\\users\\computing\\appdata\\local\\programs\\python\\python311\\lib\\site-packages (from pytorch-lightning) (1.1.1)\n",
      "Requirement already satisfied: packaging>=17.1 in c:\\users\\computing\\appdata\\roaming\\python\\python311\\site-packages (from pytorch-lightning) (23.1)\n",
      "Requirement already satisfied: typing-extensions>=4.0.0 in c:\\users\\computing\\appdata\\local\\programs\\python\\python311\\lib\\site-packages (from pytorch-lightning) (4.5.0)\n",
      "Requirement already satisfied: lightning-utilities>=0.7.0 in c:\\users\\computing\\appdata\\local\\programs\\python\\python311\\lib\\site-packages (from pytorch-lightning) (0.9.0)\n",
      "Requirement already satisfied: requests in c:\\users\\computing\\appdata\\local\\programs\\python\\python311\\lib\\site-packages (from fsspec[http]>2021.06.0->pytorch-lightning) (2.31.0)\n",
      "Requirement already satisfied: aiohttp!=4.0.0a0,!=4.0.0a1 in c:\\users\\computing\\appdata\\local\\programs\\python\\python311\\lib\\site-packages (from fsspec[http]>2021.06.0->pytorch-lightning) (3.8.5)\n",
      "Requirement already satisfied: filelock in c:\\users\\computing\\appdata\\local\\programs\\python\\python311\\lib\\site-packages (from torch>=1.11.0->pytorch-lightning) (3.12.3)\n",
      "Requirement already satisfied: sympy in c:\\users\\computing\\appdata\\local\\programs\\python\\python311\\lib\\site-packages (from torch>=1.11.0->pytorch-lightning) (1.12)\n",
      "Requirement already satisfied: networkx in c:\\users\\computing\\appdata\\local\\programs\\python\\python311\\lib\\site-packages (from torch>=1.11.0->pytorch-lightning) (3.1)\n",
      "Requirement already satisfied: jinja2 in c:\\users\\computing\\appdata\\local\\programs\\python\\python311\\lib\\site-packages (from torch>=1.11.0->pytorch-lightning) (3.1.2)\n",
      "Requirement already satisfied: colorama in c:\\users\\computing\\appdata\\roaming\\python\\python311\\site-packages (from tqdm>=4.57.0->pytorch-lightning) (0.4.6)\n",
      "Requirement already satisfied: attrs>=17.3.0 in c:\\users\\computing\\appdata\\local\\programs\\python\\python311\\lib\\site-packages (from aiohttp!=4.0.0a0,!=4.0.0a1->fsspec[http]>2021.06.0->pytorch-lightning) (23.1.0)\n",
      "Requirement already satisfied: charset-normalizer<4.0,>=2.0 in c:\\users\\computing\\appdata\\local\\programs\\python\\python311\\lib\\site-packages (from aiohttp!=4.0.0a0,!=4.0.0a1->fsspec[http]>2021.06.0->pytorch-lightning) (3.2.0)\n",
      "Requirement already satisfied: multidict<7.0,>=4.5 in c:\\users\\computing\\appdata\\local\\programs\\python\\python311\\lib\\site-packages (from aiohttp!=4.0.0a0,!=4.0.0a1->fsspec[http]>2021.06.0->pytorch-lightning) (6.0.4)\n",
      "Requirement already satisfied: async-timeout<5.0,>=4.0.0a3 in c:\\users\\computing\\appdata\\local\\programs\\python\\python311\\lib\\site-packages (from aiohttp!=4.0.0a0,!=4.0.0a1->fsspec[http]>2021.06.0->pytorch-lightning) (4.0.3)\n",
      "Requirement already satisfied: yarl<2.0,>=1.0 in c:\\users\\computing\\appdata\\local\\programs\\python\\python311\\lib\\site-packages (from aiohttp!=4.0.0a0,!=4.0.0a1->fsspec[http]>2021.06.0->pytorch-lightning) (1.9.2)\n",
      "Requirement already satisfied: frozenlist>=1.1.1 in c:\\users\\computing\\appdata\\local\\programs\\python\\python311\\lib\\site-packages (from aiohttp!=4.0.0a0,!=4.0.0a1->fsspec[http]>2021.06.0->pytorch-lightning) (1.4.0)\n",
      "Requirement already satisfied: aiosignal>=1.1.2 in c:\\users\\computing\\appdata\\local\\programs\\python\\python311\\lib\\site-packages (from aiohttp!=4.0.0a0,!=4.0.0a1->fsspec[http]>2021.06.0->pytorch-lightning) (1.3.1)\n",
      "Requirement already satisfied: MarkupSafe>=2.0 in c:\\users\\computing\\appdata\\local\\programs\\python\\python311\\lib\\site-packages (from jinja2->torch>=1.11.0->pytorch-lightning) (2.1.3)\n",
      "Requirement already satisfied: idna<4,>=2.5 in c:\\users\\computing\\appdata\\local\\programs\\python\\python311\\lib\\site-packages (from requests->fsspec[http]>2021.06.0->pytorch-lightning) (3.4)\n",
      "Requirement already satisfied: urllib3<3,>=1.21.1 in c:\\users\\computing\\appdata\\local\\programs\\python\\python311\\lib\\site-packages (from requests->fsspec[http]>2021.06.0->pytorch-lightning) (1.26.16)\n",
      "Requirement already satisfied: certifi>=2017.4.17 in c:\\users\\computing\\appdata\\local\\programs\\python\\python311\\lib\\site-packages (from requests->fsspec[http]>2021.06.0->pytorch-lightning) (2023.7.22)\n",
      "Requirement already satisfied: mpmath>=0.19 in c:\\users\\computing\\appdata\\local\\programs\\python\\python311\\lib\\site-packages (from sympy->torch>=1.11.0->pytorch-lightning) (1.3.0)\n"
     ]
    },
    {
     "name": "stderr",
     "output_type": "stream",
     "text": [
      "\n",
      "[notice] A new release of pip is available: 23.0 -> 23.2.1\n",
      "[notice] To update, run: python.exe -m pip install --upgrade pip\n"
     ]
    },
    {
     "name": "stdout",
     "output_type": "stream",
     "text": [
      "Requirement already satisfied: transformers in c:\\users\\computing\\appdata\\local\\programs\\python\\python311\\lib\\site-packages (4.32.1)\n",
      "Requirement already satisfied: filelock in c:\\users\\computing\\appdata\\local\\programs\\python\\python311\\lib\\site-packages (from transformers) (3.12.3)\n",
      "Requirement already satisfied: huggingface-hub<1.0,>=0.15.1 in c:\\users\\computing\\appdata\\local\\programs\\python\\python311\\lib\\site-packages (from transformers) (0.16.4)\n",
      "Requirement already satisfied: numpy>=1.17 in c:\\users\\computing\\appdata\\local\\programs\\python\\python311\\lib\\site-packages (from transformers) (1.24.3)\n",
      "Requirement already satisfied: packaging>=20.0 in c:\\users\\computing\\appdata\\roaming\\python\\python311\\site-packages (from transformers) (23.1)\n",
      "Requirement already satisfied: pyyaml>=5.1 in c:\\users\\computing\\appdata\\local\\programs\\python\\python311\\lib\\site-packages (from transformers) (6.0.1)\n",
      "Requirement already satisfied: regex!=2019.12.17 in c:\\users\\computing\\appdata\\local\\programs\\python\\python311\\lib\\site-packages (from transformers) (2023.8.8)\n",
      "Requirement already satisfied: requests in c:\\users\\computing\\appdata\\local\\programs\\python\\python311\\lib\\site-packages (from transformers) (2.31.0)\n",
      "Requirement already satisfied: tokenizers!=0.11.3,<0.14,>=0.11.1 in c:\\users\\computing\\appdata\\local\\programs\\python\\python311\\lib\\site-packages (from transformers) (0.13.3)\n",
      "Requirement already satisfied: safetensors>=0.3.1 in c:\\users\\computing\\appdata\\local\\programs\\python\\python311\\lib\\site-packages (from transformers) (0.3.3)\n",
      "Requirement already satisfied: tqdm>=4.27 in c:\\users\\computing\\appdata\\local\\programs\\python\\python311\\lib\\site-packages (from transformers) (4.66.1)\n",
      "Requirement already satisfied: fsspec in c:\\users\\computing\\appdata\\local\\programs\\python\\python311\\lib\\site-packages (from huggingface-hub<1.0,>=0.15.1->transformers) (2023.9.0)\n",
      "Requirement already satisfied: typing-extensions>=3.7.4.3 in c:\\users\\computing\\appdata\\local\\programs\\python\\python311\\lib\\site-packages (from huggingface-hub<1.0,>=0.15.1->transformers) (4.5.0)\n",
      "Requirement already satisfied: colorama in c:\\users\\computing\\appdata\\roaming\\python\\python311\\site-packages (from tqdm>=4.27->transformers) (0.4.6)\n",
      "Requirement already satisfied: charset-normalizer<4,>=2 in c:\\users\\computing\\appdata\\local\\programs\\python\\python311\\lib\\site-packages (from requests->transformers) (3.2.0)\n",
      "Requirement already satisfied: idna<4,>=2.5 in c:\\users\\computing\\appdata\\local\\programs\\python\\python311\\lib\\site-packages (from requests->transformers) (3.4)\n",
      "Requirement already satisfied: urllib3<3,>=1.21.1 in c:\\users\\computing\\appdata\\local\\programs\\python\\python311\\lib\\site-packages (from requests->transformers) (1.26.16)\n",
      "Requirement already satisfied: certifi>=2017.4.17 in c:\\users\\computing\\appdata\\local\\programs\\python\\python311\\lib\\site-packages (from requests->transformers) (2023.7.22)\n",
      "Note: you may need to restart the kernel to use updated packages.\n"
     ]
    },
    {
     "name": "stderr",
     "output_type": "stream",
     "text": [
      "\n",
      "[notice] A new release of pip is available: 23.0 -> 23.2.1\n",
      "[notice] To update, run: python.exe -m pip install --upgrade pip\n"
     ]
    }
   ],
   "source": [
    "%pip install yfinance\n",
    "%pip install nltk\n",
    "%pip install matplotlib\n",
    "%pip install seaborn\n",
    "%pip install wordcloud\n",
    "%pip install torchvision\n",
    "%pip install -U scikit-learn scipy matplotlib\n",
    "%pip install pytorch-lightning\n",
    "%pip install transformers"
   ]
  },
  {
   "cell_type": "code",
   "execution_count": 36,
   "metadata": {},
   "outputs": [
    {
     "name": "stderr",
     "output_type": "stream",
     "text": [
      "[nltk_data] Downloading package words to\n",
      "[nltk_data]     C:\\Users\\Computing\\AppData\\Roaming\\nltk_data...\n",
      "[nltk_data]   Package words is already up-to-date!\n"
     ]
    }
   ],
   "source": [
    "import yfinance as yf\n",
    "import numpy as np\n",
    "import pandas as pd\n",
    "import glob\n",
    "import re\n",
    "import nltk\n",
    "import nest_asyncio\n",
    "import matplotlib.pyplot as plt\n",
    "from sklearn.metrics import accuracy_score\n",
    "from sklearn.linear_model import LogisticRegression\n",
    "\n",
    "from calendar import monthrange\n",
    "import numpy as np\n",
    "import pandas as pd\n",
    "import seaborn as sns\n",
    "import re\n",
    "import pickle\n",
    "from datetime import datetime, timedelta, date\n",
    "import pytz\n",
    "import torch\n",
    "import torch.nn as nn\n",
    "import torch.utils.data as td\n",
    "import sklearn\n",
    "import pytorch_lightning as pl\n",
    "from typing import List, Optional\n",
    "\n",
    "from joblib import Parallel, delayed\n",
    "import joblib\n",
    "import nltk\n",
    "import matplotlib.pyplot as plt\n",
    "import numpy as np\n",
    "import seaborn as sns\n",
    "from nltk.corpus import stopwords\n",
    "from wordcloud import WordCloud, STOPWORDS, ImageColorGenerator\n",
    "from collections import defaultdict,Counter\n",
    "import re\n",
    "from sklearn.ensemble import RandomForestClassifier\n",
    "from sklearn.feature_extraction.text import TfidfVectorizer, CountVectorizer\n",
    "from nltk.stem import WordNetLemmatizer,PorterStemmer\n",
    "nltk.download('words')\n",
    "from sklearn.model_selection import train_test_split\n",
    "from transformers import BertTokenizer, BertModel\n",
    "from sklearn.metrics import accuracy_score, classification_report, confusion_matrix, precision_score, recall_score\n",
    "\n",
    "import torch"
   ]
  },
  {
   "cell_type": "markdown",
   "metadata": {},
   "source": [
    "# Fetch financial record from 1st January 2015 - 31st May 2021"
   ]
  },
  {
   "cell_type": "code",
   "execution_count": 37,
   "metadata": {},
   "outputs": [
    {
     "name": "stdout",
     "output_type": "stream",
     "text": [
      "[*********************100%%**********************]  1 of 1 completed\n"
     ]
    }
   ],
   "source": [
    "start_date ='2015-01-01'\n",
    "end_date = '2021-12-31'\n",
    "price = yf.download(\"BTC-USD\", start=start_date, end=end_date)"
   ]
  },
  {
   "cell_type": "markdown",
   "metadata": {},
   "source": [
    "# Compute Lagged price"
   ]
  },
  {
   "cell_type": "code",
   "execution_count": 38,
   "metadata": {},
   "outputs": [
    {
     "data": {
      "text/html": [
       "<div>\n",
       "<style scoped>\n",
       "    .dataframe tbody tr th:only-of-type {\n",
       "        vertical-align: middle;\n",
       "    }\n",
       "\n",
       "    .dataframe tbody tr th {\n",
       "        vertical-align: top;\n",
       "    }\n",
       "\n",
       "    .dataframe thead th {\n",
       "        text-align: right;\n",
       "    }\n",
       "</style>\n",
       "<table border=\"1\" class=\"dataframe\">\n",
       "  <thead>\n",
       "    <tr style=\"text-align: right;\">\n",
       "      <th></th>\n",
       "      <th>Open</th>\n",
       "      <th>High</th>\n",
       "      <th>Low</th>\n",
       "      <th>Close</th>\n",
       "      <th>Adj Close</th>\n",
       "      <th>Volume</th>\n",
       "    </tr>\n",
       "    <tr>\n",
       "      <th>Date</th>\n",
       "      <th></th>\n",
       "      <th></th>\n",
       "      <th></th>\n",
       "      <th></th>\n",
       "      <th></th>\n",
       "      <th></th>\n",
       "    </tr>\n",
       "  </thead>\n",
       "  <tbody>\n",
       "    <tr>\n",
       "      <th>2015-01-01</th>\n",
       "      <td>320.434998</td>\n",
       "      <td>320.434998</td>\n",
       "      <td>314.002991</td>\n",
       "      <td>314.248993</td>\n",
       "      <td>314.248993</td>\n",
       "      <td>8036550</td>\n",
       "    </tr>\n",
       "    <tr>\n",
       "      <th>2015-01-02</th>\n",
       "      <td>314.079010</td>\n",
       "      <td>315.838989</td>\n",
       "      <td>313.565002</td>\n",
       "      <td>315.032013</td>\n",
       "      <td>315.032013</td>\n",
       "      <td>7860650</td>\n",
       "    </tr>\n",
       "    <tr>\n",
       "      <th>2015-01-03</th>\n",
       "      <td>314.846008</td>\n",
       "      <td>315.149994</td>\n",
       "      <td>281.082001</td>\n",
       "      <td>281.082001</td>\n",
       "      <td>281.082001</td>\n",
       "      <td>33054400</td>\n",
       "    </tr>\n",
       "    <tr>\n",
       "      <th>2015-01-04</th>\n",
       "      <td>281.145996</td>\n",
       "      <td>287.230011</td>\n",
       "      <td>257.612000</td>\n",
       "      <td>264.195007</td>\n",
       "      <td>264.195007</td>\n",
       "      <td>55629100</td>\n",
       "    </tr>\n",
       "    <tr>\n",
       "      <th>2015-01-05</th>\n",
       "      <td>265.084015</td>\n",
       "      <td>278.341003</td>\n",
       "      <td>265.084015</td>\n",
       "      <td>274.473999</td>\n",
       "      <td>274.473999</td>\n",
       "      <td>43962800</td>\n",
       "    </tr>\n",
       "  </tbody>\n",
       "</table>\n",
       "</div>"
      ],
      "text/plain": [
       "                  Open        High         Low       Close   Adj Close  \\\n",
       "Date                                                                     \n",
       "2015-01-01  320.434998  320.434998  314.002991  314.248993  314.248993   \n",
       "2015-01-02  314.079010  315.838989  313.565002  315.032013  315.032013   \n",
       "2015-01-03  314.846008  315.149994  281.082001  281.082001  281.082001   \n",
       "2015-01-04  281.145996  287.230011  257.612000  264.195007  264.195007   \n",
       "2015-01-05  265.084015  278.341003  265.084015  274.473999  274.473999   \n",
       "\n",
       "              Volume  \n",
       "Date                  \n",
       "2015-01-01   8036550  \n",
       "2015-01-02   7860650  \n",
       "2015-01-03  33054400  \n",
       "2015-01-04  55629100  \n",
       "2015-01-05  43962800  "
      ]
     },
     "execution_count": 38,
     "metadata": {},
     "output_type": "execute_result"
    }
   ],
   "source": [
    "price.head()"
   ]
  },
  {
   "cell_type": "code",
   "execution_count": 39,
   "metadata": {},
   "outputs": [],
   "source": [
    "price = price.reset_index()"
   ]
  },
  {
   "cell_type": "code",
   "execution_count": 40,
   "metadata": {},
   "outputs": [],
   "source": [
    "price_2= price.Close.to_frame()\n",
    "price['PriceChange'] = price['Close'].pct_change() * 100 \n",
    "price['Label'] = np.where(price['PriceChange'] > 0, 1, 0)\n",
    "\n",
    "price['change']=price_2.apply(lambda x: x/x.shift(1)-1)\n",
    "price['log_change']=price_2.apply(lambda x: np.log(x)-np.log(x.shift(1)))\n",
    "price['change_label']=price['change'].apply (lambda x: x>0.02)"
   ]
  },
  {
   "cell_type": "code",
   "execution_count": 41,
   "metadata": {},
   "outputs": [
    {
     "data": {
      "text/html": [
       "<div>\n",
       "<style scoped>\n",
       "    .dataframe tbody tr th:only-of-type {\n",
       "        vertical-align: middle;\n",
       "    }\n",
       "\n",
       "    .dataframe tbody tr th {\n",
       "        vertical-align: top;\n",
       "    }\n",
       "\n",
       "    .dataframe thead th {\n",
       "        text-align: right;\n",
       "    }\n",
       "</style>\n",
       "<table border=\"1\" class=\"dataframe\">\n",
       "  <thead>\n",
       "    <tr style=\"text-align: right;\">\n",
       "      <th></th>\n",
       "      <th>Date</th>\n",
       "      <th>Open</th>\n",
       "      <th>High</th>\n",
       "      <th>Low</th>\n",
       "      <th>Close</th>\n",
       "      <th>Adj Close</th>\n",
       "      <th>Volume</th>\n",
       "      <th>PriceChange</th>\n",
       "      <th>Label</th>\n",
       "      <th>change</th>\n",
       "      <th>log_change</th>\n",
       "      <th>change_label</th>\n",
       "    </tr>\n",
       "  </thead>\n",
       "  <tbody>\n",
       "    <tr>\n",
       "      <th>0</th>\n",
       "      <td>2015-01-01</td>\n",
       "      <td>320.434998</td>\n",
       "      <td>320.434998</td>\n",
       "      <td>314.002991</td>\n",
       "      <td>314.248993</td>\n",
       "      <td>314.248993</td>\n",
       "      <td>8036550</td>\n",
       "      <td>NaN</td>\n",
       "      <td>0</td>\n",
       "      <td>NaN</td>\n",
       "      <td>NaN</td>\n",
       "      <td>False</td>\n",
       "    </tr>\n",
       "    <tr>\n",
       "      <th>1</th>\n",
       "      <td>2015-01-02</td>\n",
       "      <td>314.079010</td>\n",
       "      <td>315.838989</td>\n",
       "      <td>313.565002</td>\n",
       "      <td>315.032013</td>\n",
       "      <td>315.032013</td>\n",
       "      <td>7860650</td>\n",
       "      <td>0.249172</td>\n",
       "      <td>1</td>\n",
       "      <td>0.002492</td>\n",
       "      <td>0.002489</td>\n",
       "      <td>False</td>\n",
       "    </tr>\n",
       "    <tr>\n",
       "      <th>2</th>\n",
       "      <td>2015-01-03</td>\n",
       "      <td>314.846008</td>\n",
       "      <td>315.149994</td>\n",
       "      <td>281.082001</td>\n",
       "      <td>281.082001</td>\n",
       "      <td>281.082001</td>\n",
       "      <td>33054400</td>\n",
       "      <td>-10.776686</td>\n",
       "      <td>0</td>\n",
       "      <td>-0.107767</td>\n",
       "      <td>-0.114028</td>\n",
       "      <td>False</td>\n",
       "    </tr>\n",
       "    <tr>\n",
       "      <th>3</th>\n",
       "      <td>2015-01-04</td>\n",
       "      <td>281.145996</td>\n",
       "      <td>287.230011</td>\n",
       "      <td>257.612000</td>\n",
       "      <td>264.195007</td>\n",
       "      <td>264.195007</td>\n",
       "      <td>55629100</td>\n",
       "      <td>-6.007853</td>\n",
       "      <td>0</td>\n",
       "      <td>-0.060079</td>\n",
       "      <td>-0.061959</td>\n",
       "      <td>False</td>\n",
       "    </tr>\n",
       "    <tr>\n",
       "      <th>4</th>\n",
       "      <td>2015-01-05</td>\n",
       "      <td>265.084015</td>\n",
       "      <td>278.341003</td>\n",
       "      <td>265.084015</td>\n",
       "      <td>274.473999</td>\n",
       "      <td>274.473999</td>\n",
       "      <td>43962800</td>\n",
       "      <td>3.890684</td>\n",
       "      <td>1</td>\n",
       "      <td>0.038907</td>\n",
       "      <td>0.038169</td>\n",
       "      <td>True</td>\n",
       "    </tr>\n",
       "  </tbody>\n",
       "</table>\n",
       "</div>"
      ],
      "text/plain": [
       "        Date        Open        High         Low       Close   Adj Close  \\\n",
       "0 2015-01-01  320.434998  320.434998  314.002991  314.248993  314.248993   \n",
       "1 2015-01-02  314.079010  315.838989  313.565002  315.032013  315.032013   \n",
       "2 2015-01-03  314.846008  315.149994  281.082001  281.082001  281.082001   \n",
       "3 2015-01-04  281.145996  287.230011  257.612000  264.195007  264.195007   \n",
       "4 2015-01-05  265.084015  278.341003  265.084015  274.473999  274.473999   \n",
       "\n",
       "     Volume  PriceChange  Label    change  log_change  change_label  \n",
       "0   8036550          NaN      0       NaN         NaN         False  \n",
       "1   7860650     0.249172      1  0.002492    0.002489         False  \n",
       "2  33054400   -10.776686      0 -0.107767   -0.114028         False  \n",
       "3  55629100    -6.007853      0 -0.060079   -0.061959         False  \n",
       "4  43962800     3.890684      1  0.038907    0.038169          True  "
      ]
     },
     "execution_count": 41,
     "metadata": {},
     "output_type": "execute_result"
    }
   ],
   "source": [
    "price.head()"
   ]
  },
  {
   "cell_type": "code",
   "execution_count": 42,
   "metadata": {},
   "outputs": [
    {
     "data": {
      "text/plain": [
       "(2556, 12)"
      ]
     },
     "execution_count": 42,
     "metadata": {},
     "output_type": "execute_result"
    }
   ],
   "source": [
    "price.shape"
   ]
  },
  {
   "cell_type": "code",
   "execution_count": 43,
   "metadata": {},
   "outputs": [],
   "source": [
    "window = 14  # Number of periods for RSI calculation\n",
    "\n",
    "# Calculate price changes\n",
    "delta = price['Close'].diff()\n",
    "\n",
    "# Calculate gains and losses\n",
    "gain = delta.where(delta > 0, 0)\n",
    "loss = -delta.where(delta < 0, 0)\n",
    "\n",
    "# Calculate average gains and losses\n",
    "avg_gain = gain.rolling(window=window).mean()\n",
    "avg_loss = loss.rolling(window=window).mean()\n",
    "\n",
    "# Calculate relative strength (RS) and RSI\n",
    "rs = avg_gain / avg_loss\n",
    "rsi = 100 - (100 / (1 + rs))\n",
    "\n",
    "price['rsi'] = rsi\n"
   ]
  },
  {
   "cell_type": "code",
   "execution_count": 44,
   "metadata": {},
   "outputs": [
    {
     "data": {
      "text/plain": [
       "(2556, 13)"
      ]
     },
     "execution_count": 44,
     "metadata": {},
     "output_type": "execute_result"
    }
   ],
   "source": [
    "price.shape"
   ]
  },
  {
   "cell_type": "code",
   "execution_count": 45,
   "metadata": {},
   "outputs": [
    {
     "data": {
      "text/html": [
       "<div>\n",
       "<style scoped>\n",
       "    .dataframe tbody tr th:only-of-type {\n",
       "        vertical-align: middle;\n",
       "    }\n",
       "\n",
       "    .dataframe tbody tr th {\n",
       "        vertical-align: top;\n",
       "    }\n",
       "\n",
       "    .dataframe thead th {\n",
       "        text-align: right;\n",
       "    }\n",
       "</style>\n",
       "<table border=\"1\" class=\"dataframe\">\n",
       "  <thead>\n",
       "    <tr style=\"text-align: right;\">\n",
       "      <th></th>\n",
       "      <th>Date</th>\n",
       "      <th>Open</th>\n",
       "      <th>High</th>\n",
       "      <th>Low</th>\n",
       "      <th>Close</th>\n",
       "      <th>Adj Close</th>\n",
       "      <th>Volume</th>\n",
       "      <th>PriceChange</th>\n",
       "      <th>Label</th>\n",
       "      <th>change</th>\n",
       "      <th>log_change</th>\n",
       "      <th>change_label</th>\n",
       "      <th>rsi</th>\n",
       "    </tr>\n",
       "  </thead>\n",
       "  <tbody>\n",
       "    <tr>\n",
       "      <th>2551</th>\n",
       "      <td>2021-12-26</td>\n",
       "      <td>50428.691406</td>\n",
       "      <td>51196.378906</td>\n",
       "      <td>49623.105469</td>\n",
       "      <td>50809.515625</td>\n",
       "      <td>50809.515625</td>\n",
       "      <td>20964372926</td>\n",
       "      <td>0.752840</td>\n",
       "      <td>1</td>\n",
       "      <td>0.007528</td>\n",
       "      <td>0.007500</td>\n",
       "      <td>False</td>\n",
       "      <td>52.409775</td>\n",
       "    </tr>\n",
       "    <tr>\n",
       "      <th>2552</th>\n",
       "      <td>2021-12-27</td>\n",
       "      <td>50802.609375</td>\n",
       "      <td>51956.328125</td>\n",
       "      <td>50499.468750</td>\n",
       "      <td>50640.417969</td>\n",
       "      <td>50640.417969</td>\n",
       "      <td>24324345758</td>\n",
       "      <td>-0.332807</td>\n",
       "      <td>0</td>\n",
       "      <td>-0.003328</td>\n",
       "      <td>-0.003334</td>\n",
       "      <td>False</td>\n",
       "      <td>66.874820</td>\n",
       "    </tr>\n",
       "    <tr>\n",
       "      <th>2553</th>\n",
       "      <td>2021-12-28</td>\n",
       "      <td>50679.859375</td>\n",
       "      <td>50679.859375</td>\n",
       "      <td>47414.210938</td>\n",
       "      <td>47588.855469</td>\n",
       "      <td>47588.855469</td>\n",
       "      <td>33430376883</td>\n",
       "      <td>-6.025943</td>\n",
       "      <td>0</td>\n",
       "      <td>-0.060259</td>\n",
       "      <td>-0.062151</td>\n",
       "      <td>False</td>\n",
       "      <td>53.368353</td>\n",
       "    </tr>\n",
       "    <tr>\n",
       "      <th>2554</th>\n",
       "      <td>2021-12-29</td>\n",
       "      <td>47623.871094</td>\n",
       "      <td>48119.742188</td>\n",
       "      <td>46201.496094</td>\n",
       "      <td>46444.710938</td>\n",
       "      <td>46444.710938</td>\n",
       "      <td>30049226299</td>\n",
       "      <td>-2.404228</td>\n",
       "      <td>0</td>\n",
       "      <td>-0.024042</td>\n",
       "      <td>-0.024336</td>\n",
       "      <td>False</td>\n",
       "      <td>40.817228</td>\n",
       "    </tr>\n",
       "    <tr>\n",
       "      <th>2555</th>\n",
       "      <td>2021-12-30</td>\n",
       "      <td>46490.605469</td>\n",
       "      <td>47879.964844</td>\n",
       "      <td>46060.312500</td>\n",
       "      <td>47178.125000</td>\n",
       "      <td>47178.125000</td>\n",
       "      <td>26686491018</td>\n",
       "      <td>1.579112</td>\n",
       "      <td>1</td>\n",
       "      <td>0.015791</td>\n",
       "      <td>0.015668</td>\n",
       "      <td>False</td>\n",
       "      <td>48.104370</td>\n",
       "    </tr>\n",
       "  </tbody>\n",
       "</table>\n",
       "</div>"
      ],
      "text/plain": [
       "           Date          Open          High           Low         Close  \\\n",
       "2551 2021-12-26  50428.691406  51196.378906  49623.105469  50809.515625   \n",
       "2552 2021-12-27  50802.609375  51956.328125  50499.468750  50640.417969   \n",
       "2553 2021-12-28  50679.859375  50679.859375  47414.210938  47588.855469   \n",
       "2554 2021-12-29  47623.871094  48119.742188  46201.496094  46444.710938   \n",
       "2555 2021-12-30  46490.605469  47879.964844  46060.312500  47178.125000   \n",
       "\n",
       "         Adj Close       Volume  PriceChange  Label    change  log_change  \\\n",
       "2551  50809.515625  20964372926     0.752840      1  0.007528    0.007500   \n",
       "2552  50640.417969  24324345758    -0.332807      0 -0.003328   -0.003334   \n",
       "2553  47588.855469  33430376883    -6.025943      0 -0.060259   -0.062151   \n",
       "2554  46444.710938  30049226299    -2.404228      0 -0.024042   -0.024336   \n",
       "2555  47178.125000  26686491018     1.579112      1  0.015791    0.015668   \n",
       "\n",
       "      change_label        rsi  \n",
       "2551         False  52.409775  \n",
       "2552         False  66.874820  \n",
       "2553         False  53.368353  \n",
       "2554         False  40.817228  \n",
       "2555         False  48.104370  "
      ]
     },
     "execution_count": 45,
     "metadata": {},
     "output_type": "execute_result"
    }
   ],
   "source": [
    "price.tail(5)"
   ]
  },
  {
   "cell_type": "code",
   "execution_count": 46,
   "metadata": {},
   "outputs": [],
   "source": [
    "price = price.dropna()"
   ]
  },
  {
   "cell_type": "code",
   "execution_count": 47,
   "metadata": {},
   "outputs": [
    {
     "data": {
      "text/plain": [
       "Date   Open   High   Low    Close  Adj Close  Volume  PriceChange  Label  change  log_change  change_label  rsi  \n",
       "False  False  False  False  False  False      False   False        False  False   False       False         False    2543\n",
       "Name: count, dtype: int64"
      ]
     },
     "execution_count": 47,
     "metadata": {},
     "output_type": "execute_result"
    }
   ],
   "source": [
    "price.isnull().value_counts()"
   ]
  },
  {
   "cell_type": "code",
   "execution_count": 48,
   "metadata": {},
   "outputs": [
    {
     "data": {
      "text/html": [
       "<div>\n",
       "<style scoped>\n",
       "    .dataframe tbody tr th:only-of-type {\n",
       "        vertical-align: middle;\n",
       "    }\n",
       "\n",
       "    .dataframe tbody tr th {\n",
       "        vertical-align: top;\n",
       "    }\n",
       "\n",
       "    .dataframe thead th {\n",
       "        text-align: right;\n",
       "    }\n",
       "</style>\n",
       "<table border=\"1\" class=\"dataframe\">\n",
       "  <thead>\n",
       "    <tr style=\"text-align: right;\">\n",
       "      <th></th>\n",
       "      <th>Date</th>\n",
       "      <th>Open</th>\n",
       "      <th>High</th>\n",
       "      <th>Low</th>\n",
       "      <th>Close</th>\n",
       "      <th>Adj Close</th>\n",
       "      <th>Volume</th>\n",
       "      <th>PriceChange</th>\n",
       "      <th>Label</th>\n",
       "      <th>change</th>\n",
       "      <th>log_change</th>\n",
       "      <th>rsi</th>\n",
       "    </tr>\n",
       "  </thead>\n",
       "  <tbody>\n",
       "    <tr>\n",
       "      <th>count</th>\n",
       "      <td>2543</td>\n",
       "      <td>2543.000000</td>\n",
       "      <td>2543.000000</td>\n",
       "      <td>2543.000000</td>\n",
       "      <td>2543.000000</td>\n",
       "      <td>2543.000000</td>\n",
       "      <td>2.543000e+03</td>\n",
       "      <td>2543.000000</td>\n",
       "      <td>2543.000000</td>\n",
       "      <td>2543.000000</td>\n",
       "      <td>2543.000000</td>\n",
       "      <td>2543.000000</td>\n",
       "    </tr>\n",
       "    <tr>\n",
       "      <th>mean</th>\n",
       "      <td>2018-07-08 00:00:00</td>\n",
       "      <td>11216.605895</td>\n",
       "      <td>11524.372882</td>\n",
       "      <td>10880.364241</td>\n",
       "      <td>11233.189416</td>\n",
       "      <td>11233.189416</td>\n",
       "      <td>1.513741e+10</td>\n",
       "      <td>0.286988</td>\n",
       "      <td>0.545812</td>\n",
       "      <td>0.002870</td>\n",
       "      <td>0.002101</td>\n",
       "      <td>54.995269</td>\n",
       "    </tr>\n",
       "    <tr>\n",
       "      <th>min</th>\n",
       "      <td>2015-01-14 00:00:00</td>\n",
       "      <td>176.897003</td>\n",
       "      <td>211.731003</td>\n",
       "      <td>171.509995</td>\n",
       "      <td>178.102997</td>\n",
       "      <td>178.102997</td>\n",
       "      <td>1.060090e+07</td>\n",
       "      <td>-37.169539</td>\n",
       "      <td>0.000000</td>\n",
       "      <td>-0.371695</td>\n",
       "      <td>-0.464730</td>\n",
       "      <td>4.699489</td>\n",
       "    </tr>\n",
       "    <tr>\n",
       "      <th>25%</th>\n",
       "      <td>2016-10-10 12:00:00</td>\n",
       "      <td>672.084503</td>\n",
       "      <td>682.961517</td>\n",
       "      <td>661.203979</td>\n",
       "      <td>672.985016</td>\n",
       "      <td>672.985016</td>\n",
       "      <td>1.004370e+08</td>\n",
       "      <td>-1.222883</td>\n",
       "      <td>0.000000</td>\n",
       "      <td>-0.012229</td>\n",
       "      <td>-0.012304</td>\n",
       "      <td>41.508309</td>\n",
       "    </tr>\n",
       "    <tr>\n",
       "      <th>50%</th>\n",
       "      <td>2018-07-08 00:00:00</td>\n",
       "      <td>6440.970215</td>\n",
       "      <td>6543.799805</td>\n",
       "      <td>6342.370117</td>\n",
       "      <td>6453.720215</td>\n",
       "      <td>6453.720215</td>\n",
       "      <td>5.375314e+09</td>\n",
       "      <td>0.208241</td>\n",
       "      <td>1.000000</td>\n",
       "      <td>0.002082</td>\n",
       "      <td>0.002080</td>\n",
       "      <td>55.069895</td>\n",
       "    </tr>\n",
       "    <tr>\n",
       "      <th>75%</th>\n",
       "      <td>2020-04-03 12:00:00</td>\n",
       "      <td>10371.066406</td>\n",
       "      <td>10654.814453</td>\n",
       "      <td>10147.165039</td>\n",
       "      <td>10372.579590</td>\n",
       "      <td>10372.579590</td>\n",
       "      <td>2.524040e+10</td>\n",
       "      <td>1.831734</td>\n",
       "      <td>1.000000</td>\n",
       "      <td>0.018317</td>\n",
       "      <td>0.018152</td>\n",
       "      <td>68.165608</td>\n",
       "    </tr>\n",
       "    <tr>\n",
       "      <th>max</th>\n",
       "      <td>2021-12-30 00:00:00</td>\n",
       "      <td>67549.734375</td>\n",
       "      <td>68789.625000</td>\n",
       "      <td>66382.062500</td>\n",
       "      <td>67566.828125</td>\n",
       "      <td>67566.828125</td>\n",
       "      <td>3.509679e+11</td>\n",
       "      <td>25.247169</td>\n",
       "      <td>1.000000</td>\n",
       "      <td>0.252472</td>\n",
       "      <td>0.225119</td>\n",
       "      <td>99.765628</td>\n",
       "    </tr>\n",
       "    <tr>\n",
       "      <th>std</th>\n",
       "      <td>NaN</td>\n",
       "      <td>15891.922186</td>\n",
       "      <td>16330.651939</td>\n",
       "      <td>15391.340417</td>\n",
       "      <td>15901.816648</td>\n",
       "      <td>15901.816648</td>\n",
       "      <td>2.028423e+10</td>\n",
       "      <td>3.898567</td>\n",
       "      <td>0.497995</td>\n",
       "      <td>0.038986</td>\n",
       "      <td>0.039311</td>\n",
       "      <td>18.469943</td>\n",
       "    </tr>\n",
       "  </tbody>\n",
       "</table>\n",
       "</div>"
      ],
      "text/plain": [
       "                      Date          Open          High           Low  \\\n",
       "count                 2543   2543.000000   2543.000000   2543.000000   \n",
       "mean   2018-07-08 00:00:00  11216.605895  11524.372882  10880.364241   \n",
       "min    2015-01-14 00:00:00    176.897003    211.731003    171.509995   \n",
       "25%    2016-10-10 12:00:00    672.084503    682.961517    661.203979   \n",
       "50%    2018-07-08 00:00:00   6440.970215   6543.799805   6342.370117   \n",
       "75%    2020-04-03 12:00:00  10371.066406  10654.814453  10147.165039   \n",
       "max    2021-12-30 00:00:00  67549.734375  68789.625000  66382.062500   \n",
       "std                    NaN  15891.922186  16330.651939  15391.340417   \n",
       "\n",
       "              Close     Adj Close        Volume  PriceChange        Label  \\\n",
       "count   2543.000000   2543.000000  2.543000e+03  2543.000000  2543.000000   \n",
       "mean   11233.189416  11233.189416  1.513741e+10     0.286988     0.545812   \n",
       "min      178.102997    178.102997  1.060090e+07   -37.169539     0.000000   \n",
       "25%      672.985016    672.985016  1.004370e+08    -1.222883     0.000000   \n",
       "50%     6453.720215   6453.720215  5.375314e+09     0.208241     1.000000   \n",
       "75%    10372.579590  10372.579590  2.524040e+10     1.831734     1.000000   \n",
       "max    67566.828125  67566.828125  3.509679e+11    25.247169     1.000000   \n",
       "std    15901.816648  15901.816648  2.028423e+10     3.898567     0.497995   \n",
       "\n",
       "            change   log_change          rsi  \n",
       "count  2543.000000  2543.000000  2543.000000  \n",
       "mean      0.002870     0.002101    54.995269  \n",
       "min      -0.371695    -0.464730     4.699489  \n",
       "25%      -0.012229    -0.012304    41.508309  \n",
       "50%       0.002082     0.002080    55.069895  \n",
       "75%       0.018317     0.018152    68.165608  \n",
       "max       0.252472     0.225119    99.765628  \n",
       "std       0.038986     0.039311    18.469943  "
      ]
     },
     "execution_count": 48,
     "metadata": {},
     "output_type": "execute_result"
    }
   ],
   "source": [
    "price.describe()"
   ]
  },
  {
   "cell_type": "code",
   "execution_count": 49,
   "metadata": {},
   "outputs": [
    {
     "name": "stdout",
     "output_type": "stream",
     "text": [
      "<class 'pandas.core.frame.DataFrame'>\n",
      "Index: 2543 entries, 13 to 2555\n",
      "Data columns (total 13 columns):\n",
      " #   Column        Non-Null Count  Dtype         \n",
      "---  ------        --------------  -----         \n",
      " 0   Date          2543 non-null   datetime64[ns]\n",
      " 1   Open          2543 non-null   float64       \n",
      " 2   High          2543 non-null   float64       \n",
      " 3   Low           2543 non-null   float64       \n",
      " 4   Close         2543 non-null   float64       \n",
      " 5   Adj Close     2543 non-null   float64       \n",
      " 6   Volume        2543 non-null   int64         \n",
      " 7   PriceChange   2543 non-null   float64       \n",
      " 8   Label         2543 non-null   int32         \n",
      " 9   change        2543 non-null   float64       \n",
      " 10  log_change    2543 non-null   float64       \n",
      " 11  change_label  2543 non-null   bool          \n",
      " 12  rsi           2543 non-null   float64       \n",
      "dtypes: bool(1), datetime64[ns](1), float64(9), int32(1), int64(1)\n",
      "memory usage: 250.8 KB\n"
     ]
    }
   ],
   "source": [
    "price.info()"
   ]
  },
  {
   "cell_type": "code",
   "execution_count": 50,
   "metadata": {},
   "outputs": [],
   "source": [
    "price_corr = price.drop(['Date'], axis=1)"
   ]
  },
  {
   "cell_type": "code",
   "execution_count": 51,
   "metadata": {},
   "outputs": [
    {
     "data": {
      "text/html": [
       "<div>\n",
       "<style scoped>\n",
       "    .dataframe tbody tr th:only-of-type {\n",
       "        vertical-align: middle;\n",
       "    }\n",
       "\n",
       "    .dataframe tbody tr th {\n",
       "        vertical-align: top;\n",
       "    }\n",
       "\n",
       "    .dataframe thead th {\n",
       "        text-align: right;\n",
       "    }\n",
       "</style>\n",
       "<table border=\"1\" class=\"dataframe\">\n",
       "  <thead>\n",
       "    <tr style=\"text-align: right;\">\n",
       "      <th></th>\n",
       "      <th>Open</th>\n",
       "      <th>High</th>\n",
       "      <th>Low</th>\n",
       "      <th>Close</th>\n",
       "      <th>Adj Close</th>\n",
       "      <th>Volume</th>\n",
       "      <th>PriceChange</th>\n",
       "      <th>Label</th>\n",
       "      <th>change</th>\n",
       "      <th>log_change</th>\n",
       "      <th>change_label</th>\n",
       "      <th>rsi</th>\n",
       "    </tr>\n",
       "  </thead>\n",
       "  <tbody>\n",
       "    <tr>\n",
       "      <th>Open</th>\n",
       "      <td>1.000000</td>\n",
       "      <td>0.999518</td>\n",
       "      <td>0.999057</td>\n",
       "      <td>0.998795</td>\n",
       "      <td>0.998795</td>\n",
       "      <td>0.729833</td>\n",
       "      <td>-0.022142</td>\n",
       "      <td>-0.040172</td>\n",
       "      <td>-0.022142</td>\n",
       "      <td>-0.023655</td>\n",
       "      <td>0.062735</td>\n",
       "      <td>-0.018562</td>\n",
       "    </tr>\n",
       "    <tr>\n",
       "      <th>High</th>\n",
       "      <td>0.999518</td>\n",
       "      <td>1.000000</td>\n",
       "      <td>0.999012</td>\n",
       "      <td>0.999479</td>\n",
       "      <td>0.999479</td>\n",
       "      <td>0.733329</td>\n",
       "      <td>-0.006247</td>\n",
       "      <td>-0.029798</td>\n",
       "      <td>-0.006247</td>\n",
       "      <td>-0.008300</td>\n",
       "      <td>0.077167</td>\n",
       "      <td>-0.015002</td>\n",
       "    </tr>\n",
       "    <tr>\n",
       "      <th>Low</th>\n",
       "      <td>0.999057</td>\n",
       "      <td>0.999012</td>\n",
       "      <td>1.000000</td>\n",
       "      <td>0.999377</td>\n",
       "      <td>0.999377</td>\n",
       "      <td>0.722262</td>\n",
       "      <td>-0.003431</td>\n",
       "      <td>-0.027766</td>\n",
       "      <td>-0.003431</td>\n",
       "      <td>-0.004445</td>\n",
       "      <td>0.070874</td>\n",
       "      <td>-0.012840</td>\n",
       "    </tr>\n",
       "    <tr>\n",
       "      <th>Close</th>\n",
       "      <td>0.998795</td>\n",
       "      <td>0.999479</td>\n",
       "      <td>0.999377</td>\n",
       "      <td>1.000000</td>\n",
       "      <td>1.000000</td>\n",
       "      <td>0.728765</td>\n",
       "      <td>0.008918</td>\n",
       "      <td>-0.019495</td>\n",
       "      <td>0.008918</td>\n",
       "      <td>0.007240</td>\n",
       "      <td>0.084167</td>\n",
       "      <td>-0.010335</td>\n",
       "    </tr>\n",
       "    <tr>\n",
       "      <th>Adj Close</th>\n",
       "      <td>0.998795</td>\n",
       "      <td>0.999479</td>\n",
       "      <td>0.999377</td>\n",
       "      <td>1.000000</td>\n",
       "      <td>1.000000</td>\n",
       "      <td>0.728765</td>\n",
       "      <td>0.008918</td>\n",
       "      <td>-0.019495</td>\n",
       "      <td>0.008918</td>\n",
       "      <td>0.007240</td>\n",
       "      <td>0.084167</td>\n",
       "      <td>-0.010335</td>\n",
       "    </tr>\n",
       "    <tr>\n",
       "      <th>Volume</th>\n",
       "      <td>0.729833</td>\n",
       "      <td>0.733329</td>\n",
       "      <td>0.722262</td>\n",
       "      <td>0.728765</td>\n",
       "      <td>0.728765</td>\n",
       "      <td>1.000000</td>\n",
       "      <td>-0.000936</td>\n",
       "      <td>-0.031087</td>\n",
       "      <td>-0.000936</td>\n",
       "      <td>-0.007772</td>\n",
       "      <td>0.091189</td>\n",
       "      <td>0.019148</td>\n",
       "    </tr>\n",
       "    <tr>\n",
       "      <th>PriceChange</th>\n",
       "      <td>-0.022142</td>\n",
       "      <td>-0.006247</td>\n",
       "      <td>-0.003431</td>\n",
       "      <td>0.008918</td>\n",
       "      <td>0.008918</td>\n",
       "      <td>-0.000936</td>\n",
       "      <td>1.000000</td>\n",
       "      <td>0.653452</td>\n",
       "      <td>1.000000</td>\n",
       "      <td>0.997802</td>\n",
       "      <td>0.663022</td>\n",
       "      <td>0.271431</td>\n",
       "    </tr>\n",
       "    <tr>\n",
       "      <th>Label</th>\n",
       "      <td>-0.040172</td>\n",
       "      <td>-0.029798</td>\n",
       "      <td>-0.027766</td>\n",
       "      <td>-0.019495</td>\n",
       "      <td>-0.019495</td>\n",
       "      <td>-0.031087</td>\n",
       "      <td>0.653452</td>\n",
       "      <td>1.000000</td>\n",
       "      <td>0.653452</td>\n",
       "      <td>0.649354</td>\n",
       "      <td>0.506363</td>\n",
       "      <td>0.230590</td>\n",
       "    </tr>\n",
       "    <tr>\n",
       "      <th>change</th>\n",
       "      <td>-0.022142</td>\n",
       "      <td>-0.006247</td>\n",
       "      <td>-0.003431</td>\n",
       "      <td>0.008918</td>\n",
       "      <td>0.008918</td>\n",
       "      <td>-0.000936</td>\n",
       "      <td>1.000000</td>\n",
       "      <td>0.653452</td>\n",
       "      <td>1.000000</td>\n",
       "      <td>0.997802</td>\n",
       "      <td>0.663022</td>\n",
       "      <td>0.271431</td>\n",
       "    </tr>\n",
       "    <tr>\n",
       "      <th>log_change</th>\n",
       "      <td>-0.023655</td>\n",
       "      <td>-0.008300</td>\n",
       "      <td>-0.004445</td>\n",
       "      <td>0.007240</td>\n",
       "      <td>0.007240</td>\n",
       "      <td>-0.007772</td>\n",
       "      <td>0.997802</td>\n",
       "      <td>0.649354</td>\n",
       "      <td>0.997802</td>\n",
       "      <td>1.000000</td>\n",
       "      <td>0.645698</td>\n",
       "      <td>0.273623</td>\n",
       "    </tr>\n",
       "    <tr>\n",
       "      <th>change_label</th>\n",
       "      <td>0.062735</td>\n",
       "      <td>0.077167</td>\n",
       "      <td>0.070874</td>\n",
       "      <td>0.084167</td>\n",
       "      <td>0.084167</td>\n",
       "      <td>0.091189</td>\n",
       "      <td>0.663022</td>\n",
       "      <td>0.506363</td>\n",
       "      <td>0.663022</td>\n",
       "      <td>0.645698</td>\n",
       "      <td>1.000000</td>\n",
       "      <td>0.189753</td>\n",
       "    </tr>\n",
       "    <tr>\n",
       "      <th>rsi</th>\n",
       "      <td>-0.018562</td>\n",
       "      <td>-0.015002</td>\n",
       "      <td>-0.012840</td>\n",
       "      <td>-0.010335</td>\n",
       "      <td>-0.010335</td>\n",
       "      <td>0.019148</td>\n",
       "      <td>0.271431</td>\n",
       "      <td>0.230590</td>\n",
       "      <td>0.271431</td>\n",
       "      <td>0.273623</td>\n",
       "      <td>0.189753</td>\n",
       "      <td>1.000000</td>\n",
       "    </tr>\n",
       "  </tbody>\n",
       "</table>\n",
       "</div>"
      ],
      "text/plain": [
       "                  Open      High       Low     Close  Adj Close    Volume  \\\n",
       "Open          1.000000  0.999518  0.999057  0.998795   0.998795  0.729833   \n",
       "High          0.999518  1.000000  0.999012  0.999479   0.999479  0.733329   \n",
       "Low           0.999057  0.999012  1.000000  0.999377   0.999377  0.722262   \n",
       "Close         0.998795  0.999479  0.999377  1.000000   1.000000  0.728765   \n",
       "Adj Close     0.998795  0.999479  0.999377  1.000000   1.000000  0.728765   \n",
       "Volume        0.729833  0.733329  0.722262  0.728765   0.728765  1.000000   \n",
       "PriceChange  -0.022142 -0.006247 -0.003431  0.008918   0.008918 -0.000936   \n",
       "Label        -0.040172 -0.029798 -0.027766 -0.019495  -0.019495 -0.031087   \n",
       "change       -0.022142 -0.006247 -0.003431  0.008918   0.008918 -0.000936   \n",
       "log_change   -0.023655 -0.008300 -0.004445  0.007240   0.007240 -0.007772   \n",
       "change_label  0.062735  0.077167  0.070874  0.084167   0.084167  0.091189   \n",
       "rsi          -0.018562 -0.015002 -0.012840 -0.010335  -0.010335  0.019148   \n",
       "\n",
       "              PriceChange     Label    change  log_change  change_label  \\\n",
       "Open            -0.022142 -0.040172 -0.022142   -0.023655      0.062735   \n",
       "High            -0.006247 -0.029798 -0.006247   -0.008300      0.077167   \n",
       "Low             -0.003431 -0.027766 -0.003431   -0.004445      0.070874   \n",
       "Close            0.008918 -0.019495  0.008918    0.007240      0.084167   \n",
       "Adj Close        0.008918 -0.019495  0.008918    0.007240      0.084167   \n",
       "Volume          -0.000936 -0.031087 -0.000936   -0.007772      0.091189   \n",
       "PriceChange      1.000000  0.653452  1.000000    0.997802      0.663022   \n",
       "Label            0.653452  1.000000  0.653452    0.649354      0.506363   \n",
       "change           1.000000  0.653452  1.000000    0.997802      0.663022   \n",
       "log_change       0.997802  0.649354  0.997802    1.000000      0.645698   \n",
       "change_label     0.663022  0.506363  0.663022    0.645698      1.000000   \n",
       "rsi              0.271431  0.230590  0.271431    0.273623      0.189753   \n",
       "\n",
       "                   rsi  \n",
       "Open         -0.018562  \n",
       "High         -0.015002  \n",
       "Low          -0.012840  \n",
       "Close        -0.010335  \n",
       "Adj Close    -0.010335  \n",
       "Volume        0.019148  \n",
       "PriceChange   0.271431  \n",
       "Label         0.230590  \n",
       "change        0.271431  \n",
       "log_change    0.273623  \n",
       "change_label  0.189753  \n",
       "rsi           1.000000  "
      ]
     },
     "execution_count": 51,
     "metadata": {},
     "output_type": "execute_result"
    }
   ],
   "source": [
    "price_corr.corr()"
   ]
  },
  {
   "cell_type": "code",
   "execution_count": 52,
   "metadata": {},
   "outputs": [
    {
     "data": {
      "image/png": "[encoded data removed]",
      "text/plain": [
       "<Figure size 2400x1200 with 2 Axes>"
      ]
     },
     "metadata": {},
     "output_type": "display_data"
    }
   ],
   "source": [
    "corrmat = price_corr.corr()\n",
    "\n",
    "ax = plt.subplots(figsize = (24, 12))\n",
    "\n",
    "sns.heatmap(corrmat, vmax = 0.9, square = True, annot = True, fmt = '0.2f', cmap = 'viridis');"
   ]
  },
  {
   "cell_type": "code",
   "execution_count": 53,
   "metadata": {},
   "outputs": [
    {
     "name": "stderr",
     "output_type": "stream",
     "text": [
      "c:\\Users\\Computing\\AppData\\Local\\Programs\\Python\\Python311\\Lib\\site-packages\\seaborn\\_oldcore.py:1498: FutureWarning: is_categorical_dtype is deprecated and will be removed in a future version. Use isinstance(dtype, CategoricalDtype) instead\n",
      "  if pd.api.types.is_categorical_dtype(vector):\n",
      "c:\\Users\\Computing\\AppData\\Local\\Programs\\Python\\Python311\\Lib\\site-packages\\seaborn\\_oldcore.py:1498: FutureWarning: is_categorical_dtype is deprecated and will be removed in a future version. Use isinstance(dtype, CategoricalDtype) instead\n",
      "  if pd.api.types.is_categorical_dtype(vector):\n",
      "c:\\Users\\Computing\\AppData\\Local\\Programs\\Python\\Python311\\Lib\\site-packages\\seaborn\\_oldcore.py:1498: FutureWarning: is_categorical_dtype is deprecated and will be removed in a future version. Use isinstance(dtype, CategoricalDtype) instead\n",
      "  if pd.api.types.is_categorical_dtype(vector):\n"
     ]
    },
    {
     "data": {
      "text/plain": [
       "<Axes: xlabel='Label', ylabel='count'>"
      ]
     },
     "execution_count": 53,
     "metadata": {},
     "output_type": "execute_result"
    },
    {
     "data": {
      "image/png": "[encoded data removed]",
      "text/plain": [
       "<Figure size 1000x600 with 1 Axes>"
      ]
     },
     "metadata": {},
     "output_type": "display_data"
    }
   ],
   "source": [
    "plt.figure(figsize = (10, 6))\n",
    "\n",
    "sns.countplot(x='Label', data = price)"
   ]
  },
  {
   "cell_type": "code",
   "execution_count": 54,
   "metadata": {},
   "outputs": [
    {
     "data": {
      "text/plain": [
       "Label\n",
       "1    1388\n",
       "0    1155\n",
       "Name: count, dtype: int64"
      ]
     },
     "execution_count": 54,
     "metadata": {},
     "output_type": "execute_result"
    }
   ],
   "source": [
    "price['Label'].value_counts()"
   ]
  },
  {
   "cell_type": "code",
   "execution_count": 179,
   "metadata": {},
   "outputs": [],
   "source": [
    "# price.skew()"
   ]
  },
  {
   "cell_type": "code",
   "execution_count": 55,
   "metadata": {},
   "outputs": [
    {
     "data": {
      "text/plain": [
       "<Figure size 1200x600 with 0 Axes>"
      ]
     },
     "metadata": {},
     "output_type": "display_data"
    },
    {
     "data": {
      "image/png": "[encoded data removed]",
      "text/plain": [
       "<Figure size 640x480 with 1 Axes>"
      ]
     },
     "metadata": {},
     "output_type": "display_data"
    }
   ],
   "source": [
    "# Plotting Open, High, Low, Close\n",
    "plt.figure(figsize=(12, 6))\n",
    "price[['Open', 'High', 'Low', 'Close']].plot()\n",
    "plt.title('Price Trends')\n",
    "plt.xlabel('Date')\n",
    "plt.ylabel('Price')\n",
    "plt.legend()\n",
    "plt.show()"
   ]
  },
  {
   "cell_type": "code",
   "execution_count": 56,
   "metadata": {},
   "outputs": [
    {
     "data": {
      "image/png": "[encoded data removed]",
      "text/plain": [
       "<Figure size 1200x600 with 1 Axes>"
      ]
     },
     "metadata": {},
     "output_type": "display_data"
    }
   ],
   "source": [
    "# Plotting Volume\n",
    "plt.figure(figsize=(12, 6))\n",
    "price['Volume'].plot()\n",
    "plt.title('Volume')\n",
    "plt.xlabel('Date')\n",
    "plt.ylabel('Volume')\n",
    "plt.show()"
   ]
  },
  {
   "cell_type": "code",
   "execution_count": null,
   "metadata": {},
   "outputs": [],
   "source": [
    "# Plotting Moving Averages\n",
    "plt.figure(figsize=(12, 6))\n",
    "price[['sma7', 'sma14', 'sma21']].plot()\n",
    "plt.title('Moving Averages')\n",
    "plt.xlabel('Date')\n",
    "plt.ylabel('Price')\n",
    "plt.legend()\n",
    "plt.show()"
   ]
  },
  {
   "cell_type": "code",
   "execution_count": 183,
   "metadata": {},
   "outputs": [
    {
     "data": {
      "text/plain": [
       "<Figure size 1200x600 with 0 Axes>"
      ]
     },
     "metadata": {},
     "output_type": "display_data"
    },
    {
     "data": {
      "image/png": "[encoded data removed]",
      "text/plain": [
       "<Figure size 640x480 with 1 Axes>"
      ]
     },
     "metadata": {},
     "output_type": "display_data"
    },
    {
     "data": {
      "image/png": "[encoded data removed]",
      "text/plain": [
       "<Figure size 1200x600 with 1 Axes>"
      ]
     },
     "metadata": {},
     "output_type": "display_data"
    }
   ],
   "source": [
    "# Plotting MACD Line, Signal Line, MACD Histogram\n",
    "plt.figure(figsize=(12, 6))\n",
    "price[['MACD line', 'Signal line', 'MACD histogram']].plot()\n",
    "plt.title('MACD Indicators')\n",
    "plt.xlabel('Date')\n",
    "plt.ylabel('Value')\n",
    "plt.legend()\n",
    "plt.show()\n",
    "\n",
    "# Plotting RSI\n",
    "plt.figure(figsize=(12, 6))\n",
    "price['rsi'].plot()\n",
    "plt.title('RSI')\n",
    "plt.xlabel('Date')\n",
    "plt.ylabel('RSI')\n",
    "plt.show()"
   ]
  },
  {
   "cell_type": "code",
   "execution_count": 184,
   "metadata": {},
   "outputs": [
    {
     "name": "stdout",
     "output_type": "stream",
     "text": [
      "<class 'pandas.core.frame.DataFrame'>\n",
      "Index: 2323 entries, 20 to 2342\n",
      "Data columns (total 22 columns):\n",
      " #   Column              Non-Null Count  Dtype  \n",
      "---  ------              --------------  -----  \n",
      " 0   Date                2323 non-null   object \n",
      " 1   Open                2323 non-null   float64\n",
      " 2   High                2323 non-null   float64\n",
      " 3   Low                 2323 non-null   float64\n",
      " 4   Close               2323 non-null   float64\n",
      " 5   Adj Close           2323 non-null   float64\n",
      " 6   Volume              2323 non-null   int64  \n",
      " 7   Close Lagged Price  2323 non-null   float64\n",
      " 8   sma7                2323 non-null   float64\n",
      " 9   sma14               2323 non-null   float64\n",
      " 10  sma21               2323 non-null   float64\n",
      " 11  ema12               2323 non-null   float64\n",
      " 12  ema26               2323 non-null   float64\n",
      " 13  MACD line           2323 non-null   float64\n",
      " 14  Signal line         2323 non-null   float64\n",
      " 15  MACD histogram      2323 non-null   float64\n",
      " 16  PriceChange         2323 non-null   float64\n",
      " 17  Label               2323 non-null   int32  \n",
      " 18  change              2323 non-null   float64\n",
      " 19  log_change          2323 non-null   float64\n",
      " 20  change_label        2323 non-null   bool   \n",
      " 21  rsi                 2323 non-null   float64\n",
      "dtypes: bool(1), float64(18), int32(1), int64(1), object(1)\n",
      "memory usage: 392.5+ KB\n"
     ]
    }
   ],
   "source": [
    "price.info()"
   ]
  },
  {
   "cell_type": "markdown",
   "metadata": {},
   "source": [
    "# Process tweets"
   ]
  },
  {
   "cell_type": "code",
   "execution_count": 62,
   "metadata": {},
   "outputs": [
    {
     "data": {
      "text/html": [
       "<div>\n",
       "<style scoped>\n",
       "    .dataframe tbody tr th:only-of-type {\n",
       "        vertical-align: middle;\n",
       "    }\n",
       "\n",
       "    .dataframe tbody tr th {\n",
       "        vertical-align: top;\n",
       "    }\n",
       "\n",
       "    .dataframe thead th {\n",
       "        text-align: right;\n",
       "    }\n",
       "</style>\n",
       "<table border=\"1\" class=\"dataframe\">\n",
       "  <thead>\n",
       "    <tr style=\"text-align: right;\">\n",
       "      <th></th>\n",
       "      <th>Date</th>\n",
       "      <th>Open</th>\n",
       "      <th>High</th>\n",
       "      <th>Low</th>\n",
       "      <th>Close</th>\n",
       "      <th>Adj Close</th>\n",
       "      <th>Volume</th>\n",
       "      <th>PriceChange</th>\n",
       "      <th>Label</th>\n",
       "      <th>change</th>\n",
       "      <th>log_change</th>\n",
       "      <th>change_label</th>\n",
       "      <th>rsi</th>\n",
       "    </tr>\n",
       "  </thead>\n",
       "  <tbody>\n",
       "    <tr>\n",
       "      <th>13</th>\n",
       "      <td>2015-01-14</td>\n",
       "      <td>223.893997</td>\n",
       "      <td>223.893997</td>\n",
       "      <td>171.509995</td>\n",
       "      <td>178.102997</td>\n",
       "      <td>178.102997</td>\n",
       "      <td>97638704</td>\n",
       "      <td>-21.144862</td>\n",
       "      <td>0</td>\n",
       "      <td>-0.211449</td>\n",
       "      <td>-0.237558</td>\n",
       "      <td>False</td>\n",
       "      <td>18.540940</td>\n",
       "    </tr>\n",
       "    <tr>\n",
       "      <th>14</th>\n",
       "      <td>2015-01-15</td>\n",
       "      <td>176.897003</td>\n",
       "      <td>229.067001</td>\n",
       "      <td>176.897003</td>\n",
       "      <td>209.843994</td>\n",
       "      <td>209.843994</td>\n",
       "      <td>81773504</td>\n",
       "      <td>17.821709</td>\n",
       "      <td>1</td>\n",
       "      <td>0.178217</td>\n",
       "      <td>0.164002</td>\n",
       "      <td>True</td>\n",
       "      <td>28.961378</td>\n",
       "    </tr>\n",
       "    <tr>\n",
       "      <th>15</th>\n",
       "      <td>2015-01-16</td>\n",
       "      <td>209.070007</td>\n",
       "      <td>221.591003</td>\n",
       "      <td>199.770996</td>\n",
       "      <td>208.097000</td>\n",
       "      <td>208.097000</td>\n",
       "      <td>38421000</td>\n",
       "      <td>-0.832520</td>\n",
       "      <td>0</td>\n",
       "      <td>-0.008325</td>\n",
       "      <td>-0.008360</td>\n",
       "      <td>False</td>\n",
       "      <td>28.534947</td>\n",
       "    </tr>\n",
       "    <tr>\n",
       "      <th>16</th>\n",
       "      <td>2015-01-17</td>\n",
       "      <td>207.834000</td>\n",
       "      <td>211.731003</td>\n",
       "      <td>194.875000</td>\n",
       "      <td>199.259995</td>\n",
       "      <td>199.259995</td>\n",
       "      <td>23469700</td>\n",
       "      <td>-4.246580</td>\n",
       "      <td>0</td>\n",
       "      <td>-0.042466</td>\n",
       "      <td>-0.043394</td>\n",
       "      <td>False</td>\n",
       "      <td>31.734361</td>\n",
       "    </tr>\n",
       "    <tr>\n",
       "      <th>17</th>\n",
       "      <td>2015-01-18</td>\n",
       "      <td>200.050003</td>\n",
       "      <td>218.695007</td>\n",
       "      <td>194.505997</td>\n",
       "      <td>210.339005</td>\n",
       "      <td>210.339005</td>\n",
       "      <td>30085100</td>\n",
       "      <td>5.560077</td>\n",
       "      <td>1</td>\n",
       "      <td>0.055601</td>\n",
       "      <td>0.054110</td>\n",
       "      <td>True</td>\n",
       "      <td>37.657329</td>\n",
       "    </tr>\n",
       "    <tr>\n",
       "      <th>...</th>\n",
       "      <td>...</td>\n",
       "      <td>...</td>\n",
       "      <td>...</td>\n",
       "      <td>...</td>\n",
       "      <td>...</td>\n",
       "      <td>...</td>\n",
       "      <td>...</td>\n",
       "      <td>...</td>\n",
       "      <td>...</td>\n",
       "      <td>...</td>\n",
       "      <td>...</td>\n",
       "      <td>...</td>\n",
       "      <td>...</td>\n",
       "    </tr>\n",
       "    <tr>\n",
       "      <th>2551</th>\n",
       "      <td>2021-12-26</td>\n",
       "      <td>50428.691406</td>\n",
       "      <td>51196.378906</td>\n",
       "      <td>49623.105469</td>\n",
       "      <td>50809.515625</td>\n",
       "      <td>50809.515625</td>\n",
       "      <td>20964372926</td>\n",
       "      <td>0.752840</td>\n",
       "      <td>1</td>\n",
       "      <td>0.007528</td>\n",
       "      <td>0.007500</td>\n",
       "      <td>False</td>\n",
       "      <td>52.409775</td>\n",
       "    </tr>\n",
       "    <tr>\n",
       "      <th>2552</th>\n",
       "      <td>2021-12-27</td>\n",
       "      <td>50802.609375</td>\n",
       "      <td>51956.328125</td>\n",
       "      <td>50499.468750</td>\n",
       "      <td>50640.417969</td>\n",
       "      <td>50640.417969</td>\n",
       "      <td>24324345758</td>\n",
       "      <td>-0.332807</td>\n",
       "      <td>0</td>\n",
       "      <td>-0.003328</td>\n",
       "      <td>-0.003334</td>\n",
       "      <td>False</td>\n",
       "      <td>66.874820</td>\n",
       "    </tr>\n",
       "    <tr>\n",
       "      <th>2553</th>\n",
       "      <td>2021-12-28</td>\n",
       "      <td>50679.859375</td>\n",
       "      <td>50679.859375</td>\n",
       "      <td>47414.210938</td>\n",
       "      <td>47588.855469</td>\n",
       "      <td>47588.855469</td>\n",
       "      <td>33430376883</td>\n",
       "      <td>-6.025943</td>\n",
       "      <td>0</td>\n",
       "      <td>-0.060259</td>\n",
       "      <td>-0.062151</td>\n",
       "      <td>False</td>\n",
       "      <td>53.368353</td>\n",
       "    </tr>\n",
       "    <tr>\n",
       "      <th>2554</th>\n",
       "      <td>2021-12-29</td>\n",
       "      <td>47623.871094</td>\n",
       "      <td>48119.742188</td>\n",
       "      <td>46201.496094</td>\n",
       "      <td>46444.710938</td>\n",
       "      <td>46444.710938</td>\n",
       "      <td>30049226299</td>\n",
       "      <td>-2.404228</td>\n",
       "      <td>0</td>\n",
       "      <td>-0.024042</td>\n",
       "      <td>-0.024336</td>\n",
       "      <td>False</td>\n",
       "      <td>40.817228</td>\n",
       "    </tr>\n",
       "    <tr>\n",
       "      <th>2555</th>\n",
       "      <td>2021-12-30</td>\n",
       "      <td>46490.605469</td>\n",
       "      <td>47879.964844</td>\n",
       "      <td>46060.312500</td>\n",
       "      <td>47178.125000</td>\n",
       "      <td>47178.125000</td>\n",
       "      <td>26686491018</td>\n",
       "      <td>1.579112</td>\n",
       "      <td>1</td>\n",
       "      <td>0.015791</td>\n",
       "      <td>0.015668</td>\n",
       "      <td>False</td>\n",
       "      <td>48.104370</td>\n",
       "    </tr>\n",
       "  </tbody>\n",
       "</table>\n",
       "<p>2543 rows × 13 columns</p>\n",
       "</div>"
      ],
      "text/plain": [
       "           Date          Open          High           Low         Close  \\\n",
       "13   2015-01-14    223.893997    223.893997    171.509995    178.102997   \n",
       "14   2015-01-15    176.897003    229.067001    176.897003    209.843994   \n",
       "15   2015-01-16    209.070007    221.591003    199.770996    208.097000   \n",
       "16   2015-01-17    207.834000    211.731003    194.875000    199.259995   \n",
       "17   2015-01-18    200.050003    218.695007    194.505997    210.339005   \n",
       "...         ...           ...           ...           ...           ...   \n",
       "2551 2021-12-26  50428.691406  51196.378906  49623.105469  50809.515625   \n",
       "2552 2021-12-27  50802.609375  51956.328125  50499.468750  50640.417969   \n",
       "2553 2021-12-28  50679.859375  50679.859375  47414.210938  47588.855469   \n",
       "2554 2021-12-29  47623.871094  48119.742188  46201.496094  46444.710938   \n",
       "2555 2021-12-30  46490.605469  47879.964844  46060.312500  47178.125000   \n",
       "\n",
       "         Adj Close       Volume  PriceChange  Label    change  log_change  \\\n",
       "13      178.102997     97638704   -21.144862      0 -0.211449   -0.237558   \n",
       "14      209.843994     81773504    17.821709      1  0.178217    0.164002   \n",
       "15      208.097000     38421000    -0.832520      0 -0.008325   -0.008360   \n",
       "16      199.259995     23469700    -4.246580      0 -0.042466   -0.043394   \n",
       "17      210.339005     30085100     5.560077      1  0.055601    0.054110   \n",
       "...            ...          ...          ...    ...       ...         ...   \n",
       "2551  50809.515625  20964372926     0.752840      1  0.007528    0.007500   \n",
       "2552  50640.417969  24324345758    -0.332807      0 -0.003328   -0.003334   \n",
       "2553  47588.855469  33430376883    -6.025943      0 -0.060259   -0.062151   \n",
       "2554  46444.710938  30049226299    -2.404228      0 -0.024042   -0.024336   \n",
       "2555  47178.125000  26686491018     1.579112      1  0.015791    0.015668   \n",
       "\n",
       "      change_label        rsi  \n",
       "13           False  18.540940  \n",
       "14            True  28.961378  \n",
       "15           False  28.534947  \n",
       "16           False  31.734361  \n",
       "17            True  37.657329  \n",
       "...            ...        ...  \n",
       "2551         False  52.409775  \n",
       "2552         False  66.874820  \n",
       "2553         False  53.368353  \n",
       "2554         False  40.817228  \n",
       "2555         False  48.104370  \n",
       "\n",
       "[2543 rows x 13 columns]"
      ]
     },
     "execution_count": 62,
     "metadata": {},
     "output_type": "execute_result"
    }
   ],
   "source": [
    "price"
   ]
  },
  {
   "cell_type": "code",
   "execution_count": 73,
   "metadata": {},
   "outputs": [],
   "source": [
    "tweets_2015 = pd.read_csv('../archive/data/tweets/combined_tweets_2015_labeled.csv')\n",
    "tweets_2016 = pd.read_csv('../archive/data/tweets/combined_tweets_2016_labeled.csv')\n",
    "tweets_2017 = pd.read_csv('../archive/data/tweets/combined_tweets_2017_labeled.csv')\n",
    "tweets_2018 = pd.read_csv('../archive/data/tweets/combined_tweets_2018_labeled.csv')\n",
    "tweets_2019 = pd.read_csv('../archive/data/tweets/combined_tweets_2019_apr_dec_labeled.csv')\n",
    "tweets_2020 = pd.read_csv('../archive/data/tweets/combined_tweets_2020_labeled.csv')\n",
    "tweets_2021 = pd.read_csv('../archive/data/tweets/combined_tweets_2021_jan_may_labeled.csv')"
   ]
  },
  {
   "cell_type": "code",
   "execution_count": 87,
   "metadata": {},
   "outputs": [],
   "source": [
    "frames = [tweets_2015,tweets_2016,tweets_2017,tweets_2018,tweets_2019,tweets_2020,tweets_2021]\n",
    "tweets = pd.concat(frames,ignore_index=True)"
   ]
  },
  {
   "cell_type": "code",
   "execution_count": 88,
   "metadata": {},
   "outputs": [],
   "source": [
    "tweets.rename(columns={\"date\": \"Date\"}, inplace=True)"
   ]
  },
  {
   "cell_type": "code",
   "execution_count": 76,
   "metadata": {},
   "outputs": [
    {
     "data": {
      "text/html": [
       "<div>\n",
       "<style scoped>\n",
       "    .dataframe tbody tr th:only-of-type {\n",
       "        vertical-align: middle;\n",
       "    }\n",
       "\n",
       "    .dataframe tbody tr th {\n",
       "        vertical-align: top;\n",
       "    }\n",
       "\n",
       "    .dataframe thead th {\n",
       "        text-align: right;\n",
       "    }\n",
       "</style>\n",
       "<table border=\"1\" class=\"dataframe\">\n",
       "  <thead>\n",
       "    <tr style=\"text-align: right;\">\n",
       "      <th></th>\n",
       "      <th>Unnamed: 0</th>\n",
       "      <th>Date</th>\n",
       "      <th>text_split</th>\n",
       "      <th>label_up5</th>\n",
       "      <th>label_up2</th>\n",
       "      <th>label_down5</th>\n",
       "      <th>label_down2</th>\n",
       "    </tr>\n",
       "  </thead>\n",
       "  <tbody>\n",
       "    <tr>\n",
       "      <th>0</th>\n",
       "      <td>0</td>\n",
       "      <td>2015-01-01</td>\n",
       "      <td>blocked me thats my achievement still like bit...</td>\n",
       "      <td>False</td>\n",
       "      <td>False</td>\n",
       "      <td>False</td>\n",
       "      <td>False</td>\n",
       "    </tr>\n",
       "    <tr>\n",
       "      <th>1</th>\n",
       "      <td>1</td>\n",
       "      <td>2015-01-01</td>\n",
       "      <td>accept here is bitcoin tip via claim it here c...</td>\n",
       "      <td>False</td>\n",
       "      <td>False</td>\n",
       "      <td>False</td>\n",
       "      <td>False</td>\n",
       "    </tr>\n",
       "    <tr>\n",
       "      <th>2</th>\n",
       "      <td>2</td>\n",
       "      <td>2015-01-01</td>\n",
       "      <td>btc bitcoin current price btc bitcoin parking ...</td>\n",
       "      <td>False</td>\n",
       "      <td>False</td>\n",
       "      <td>False</td>\n",
       "      <td>False</td>\n",
       "    </tr>\n",
       "    <tr>\n",
       "      <th>3</th>\n",
       "      <td>3</td>\n",
       "      <td>2015-01-01</td>\n",
       "      <td>revolution don miss out your bitcoin tip about...</td>\n",
       "      <td>False</td>\n",
       "      <td>False</td>\n",
       "      <td>False</td>\n",
       "      <td>False</td>\n",
       "    </tr>\n",
       "    <tr>\n",
       "      <th>4</th>\n",
       "      <td>4</td>\n",
       "      <td>2015-01-01</td>\n",
       "      <td>cap billion based on bitcoin informative my da...</td>\n",
       "      <td>False</td>\n",
       "      <td>False</td>\n",
       "      <td>False</td>\n",
       "      <td>False</td>\n",
       "    </tr>\n",
       "    <tr>\n",
       "      <th>...</th>\n",
       "      <td>...</td>\n",
       "      <td>...</td>\n",
       "      <td>...</td>\n",
       "      <td>...</td>\n",
       "      <td>...</td>\n",
       "      <td>...</td>\n",
       "      <td>...</td>\n",
       "    </tr>\n",
       "    <tr>\n",
       "      <th>342057</th>\n",
       "      <td>31805</td>\n",
       "      <td>2021-05-31</td>\n",
       "      <td>bitcoin claim free bitcoin bitcoin price sugge...</td>\n",
       "      <td>True</td>\n",
       "      <td>True</td>\n",
       "      <td>False</td>\n",
       "      <td>True</td>\n",
       "    </tr>\n",
       "    <tr>\n",
       "      <th>342058</th>\n",
       "      <td>31806</td>\n",
       "      <td>2021-05-31</td>\n",
       "      <td>het roulette het is wat of twitter deal gift s...</td>\n",
       "      <td>True</td>\n",
       "      <td>True</td>\n",
       "      <td>False</td>\n",
       "      <td>True</td>\n",
       "    </tr>\n",
       "    <tr>\n",
       "      <th>342059</th>\n",
       "      <td>31807</td>\n",
       "      <td>2021-05-31</td>\n",
       "      <td>longer it stays in this range it will be it go...</td>\n",
       "      <td>True</td>\n",
       "      <td>True</td>\n",
       "      <td>False</td>\n",
       "      <td>True</td>\n",
       "    </tr>\n",
       "    <tr>\n",
       "      <th>342060</th>\n",
       "      <td>31808</td>\n",
       "      <td>2021-05-31</td>\n",
       "      <td>en el video para el de media el de en ya para ...</td>\n",
       "      <td>True</td>\n",
       "      <td>True</td>\n",
       "      <td>False</td>\n",
       "      <td>True</td>\n",
       "    </tr>\n",
       "    <tr>\n",
       "      <th>342061</th>\n",
       "      <td>31809</td>\n",
       "      <td>2021-05-31</td>\n",
       "      <td>you are pleb and bitcoin don have boss mi btc ...</td>\n",
       "      <td>True</td>\n",
       "      <td>True</td>\n",
       "      <td>False</td>\n",
       "      <td>True</td>\n",
       "    </tr>\n",
       "  </tbody>\n",
       "</table>\n",
       "<p>342062 rows × 7 columns</p>\n",
       "</div>"
      ],
      "text/plain": [
       "        Unnamed: 0        Date  \\\n",
       "0                0  2015-01-01   \n",
       "1                1  2015-01-01   \n",
       "2                2  2015-01-01   \n",
       "3                3  2015-01-01   \n",
       "4                4  2015-01-01   \n",
       "...            ...         ...   \n",
       "342057       31805  2021-05-31   \n",
       "342058       31806  2021-05-31   \n",
       "342059       31807  2021-05-31   \n",
       "342060       31808  2021-05-31   \n",
       "342061       31809  2021-05-31   \n",
       "\n",
       "                                               text_split  label_up5  \\\n",
       "0       blocked me thats my achievement still like bit...      False   \n",
       "1       accept here is bitcoin tip via claim it here c...      False   \n",
       "2       btc bitcoin current price btc bitcoin parking ...      False   \n",
       "3       revolution don miss out your bitcoin tip about...      False   \n",
       "4       cap billion based on bitcoin informative my da...      False   \n",
       "...                                                   ...        ...   \n",
       "342057  bitcoin claim free bitcoin bitcoin price sugge...       True   \n",
       "342058  het roulette het is wat of twitter deal gift s...       True   \n",
       "342059  longer it stays in this range it will be it go...       True   \n",
       "342060  en el video para el de media el de en ya para ...       True   \n",
       "342061  you are pleb and bitcoin don have boss mi btc ...       True   \n",
       "\n",
       "        label_up2  label_down5  label_down2  \n",
       "0           False        False        False  \n",
       "1           False        False        False  \n",
       "2           False        False        False  \n",
       "3           False        False        False  \n",
       "4           False        False        False  \n",
       "...           ...          ...          ...  \n",
       "342057       True        False         True  \n",
       "342058       True        False         True  \n",
       "342059       True        False         True  \n",
       "342060       True        False         True  \n",
       "342061       True        False         True  \n",
       "\n",
       "[342062 rows x 7 columns]"
      ]
     },
     "execution_count": 76,
     "metadata": {},
     "output_type": "execute_result"
    }
   ],
   "source": [
    "tweets"
   ]
  },
  {
   "cell_type": "code",
   "execution_count": 90,
   "metadata": {},
   "outputs": [],
   "source": [
    "tweets = tweets.drop_duplicates(subset=['Date'])"
   ]
  },
  {
   "cell_type": "code",
   "execution_count": 91,
   "metadata": {},
   "outputs": [
    {
     "data": {
      "text/html": [
       "<div>\n",
       "<style scoped>\n",
       "    .dataframe tbody tr th:only-of-type {\n",
       "        vertical-align: middle;\n",
       "    }\n",
       "\n",
       "    .dataframe tbody tr th {\n",
       "        vertical-align: top;\n",
       "    }\n",
       "\n",
       "    .dataframe thead th {\n",
       "        text-align: right;\n",
       "    }\n",
       "</style>\n",
       "<table border=\"1\" class=\"dataframe\">\n",
       "  <thead>\n",
       "    <tr style=\"text-align: right;\">\n",
       "      <th></th>\n",
       "      <th>Unnamed: 0</th>\n",
       "      <th>Date</th>\n",
       "      <th>text_split</th>\n",
       "      <th>label_up5</th>\n",
       "      <th>label_up2</th>\n",
       "      <th>label_down5</th>\n",
       "      <th>label_down2</th>\n",
       "    </tr>\n",
       "  </thead>\n",
       "  <tbody>\n",
       "    <tr>\n",
       "      <th>0</th>\n",
       "      <td>0</td>\n",
       "      <td>2015-01-01</td>\n",
       "      <td>blocked me thats my achievement still like bit...</td>\n",
       "      <td>False</td>\n",
       "      <td>False</td>\n",
       "      <td>False</td>\n",
       "      <td>False</td>\n",
       "    </tr>\n",
       "    <tr>\n",
       "      <th>64</th>\n",
       "      <td>64</td>\n",
       "      <td>2015-01-02</td>\n",
       "      <td>bitcoin my brother and have just our first me ...</td>\n",
       "      <td>False</td>\n",
       "      <td>False</td>\n",
       "      <td>False</td>\n",
       "      <td>False</td>\n",
       "    </tr>\n",
       "    <tr>\n",
       "      <th>143</th>\n",
       "      <td>143</td>\n",
       "      <td>2015-01-03</td>\n",
       "      <td>bitcoin btc new post cryptocurrency trading ne...</td>\n",
       "      <td>False</td>\n",
       "      <td>False</td>\n",
       "      <td>True</td>\n",
       "      <td>True</td>\n",
       "    </tr>\n",
       "    <tr>\n",
       "      <th>228</th>\n",
       "      <td>228</td>\n",
       "      <td>2015-01-04</td>\n",
       "      <td>in the last there were exchange pair yielding ...</td>\n",
       "      <td>False</td>\n",
       "      <td>False</td>\n",
       "      <td>True</td>\n",
       "      <td>True</td>\n",
       "    </tr>\n",
       "    <tr>\n",
       "      <th>308</th>\n",
       "      <td>308</td>\n",
       "      <td>2015-01-05</td>\n",
       "      <td>can wait to get my tax refund and buy bitcoin ...</td>\n",
       "      <td>True</td>\n",
       "      <td>True</td>\n",
       "      <td>False</td>\n",
       "      <td>False</td>\n",
       "    </tr>\n",
       "    <tr>\n",
       "      <th>...</th>\n",
       "      <td>...</td>\n",
       "      <td>...</td>\n",
       "      <td>...</td>\n",
       "      <td>...</td>\n",
       "      <td>...</td>\n",
       "      <td>...</td>\n",
       "      <td>...</td>\n",
       "    </tr>\n",
       "    <tr>\n",
       "      <th>341031</th>\n",
       "      <td>30779</td>\n",
       "      <td>2021-05-27</td>\n",
       "      <td>bitcoin cryptocurrency money the central histo...</td>\n",
       "      <td>False</td>\n",
       "      <td>True</td>\n",
       "      <td>True</td>\n",
       "      <td>True</td>\n",
       "    </tr>\n",
       "    <tr>\n",
       "      <th>341235</th>\n",
       "      <td>30983</td>\n",
       "      <td>2021-05-28</td>\n",
       "      <td>what to do when bitcoin price crash bitcoin to...</td>\n",
       "      <td>False</td>\n",
       "      <td>False</td>\n",
       "      <td>True</td>\n",
       "      <td>True</td>\n",
       "    </tr>\n",
       "    <tr>\n",
       "      <th>341439</th>\n",
       "      <td>31187</td>\n",
       "      <td>2021-05-29</td>\n",
       "      <td>great project and hope it will achieve lots of...</td>\n",
       "      <td>False</td>\n",
       "      <td>True</td>\n",
       "      <td>True</td>\n",
       "      <td>True</td>\n",
       "    </tr>\n",
       "    <tr>\n",
       "      <th>341660</th>\n",
       "      <td>31408</td>\n",
       "      <td>2021-05-30</td>\n",
       "      <td>rager was do that too but like it will take of...</td>\n",
       "      <td>True</td>\n",
       "      <td>True</td>\n",
       "      <td>False</td>\n",
       "      <td>True</td>\n",
       "    </tr>\n",
       "    <tr>\n",
       "      <th>341865</th>\n",
       "      <td>31613</td>\n",
       "      <td>2021-05-31</td>\n",
       "      <td>daily crypto chat eth bitcoin and happy hour c...</td>\n",
       "      <td>True</td>\n",
       "      <td>True</td>\n",
       "      <td>False</td>\n",
       "      <td>True</td>\n",
       "    </tr>\n",
       "  </tbody>\n",
       "</table>\n",
       "<p>2247 rows × 7 columns</p>\n",
       "</div>"
      ],
      "text/plain": [
       "        Unnamed: 0        Date  \\\n",
       "0                0  2015-01-01   \n",
       "64              64  2015-01-02   \n",
       "143            143  2015-01-03   \n",
       "228            228  2015-01-04   \n",
       "308            308  2015-01-05   \n",
       "...            ...         ...   \n",
       "341031       30779  2021-05-27   \n",
       "341235       30983  2021-05-28   \n",
       "341439       31187  2021-05-29   \n",
       "341660       31408  2021-05-30   \n",
       "341865       31613  2021-05-31   \n",
       "\n",
       "                                               text_split  label_up5  \\\n",
       "0       blocked me thats my achievement still like bit...      False   \n",
       "64      bitcoin my brother and have just our first me ...      False   \n",
       "143     bitcoin btc new post cryptocurrency trading ne...      False   \n",
       "228     in the last there were exchange pair yielding ...      False   \n",
       "308     can wait to get my tax refund and buy bitcoin ...       True   \n",
       "...                                                   ...        ...   \n",
       "341031  bitcoin cryptocurrency money the central histo...      False   \n",
       "341235  what to do when bitcoin price crash bitcoin to...      False   \n",
       "341439  great project and hope it will achieve lots of...      False   \n",
       "341660  rager was do that too but like it will take of...       True   \n",
       "341865  daily crypto chat eth bitcoin and happy hour c...       True   \n",
       "\n",
       "        label_up2  label_down5  label_down2  \n",
       "0           False        False        False  \n",
       "64          False        False        False  \n",
       "143         False         True         True  \n",
       "228         False         True         True  \n",
       "308          True        False        False  \n",
       "...           ...          ...          ...  \n",
       "341031       True         True         True  \n",
       "341235      False         True         True  \n",
       "341439       True         True         True  \n",
       "341660       True        False         True  \n",
       "341865       True        False         True  \n",
       "\n",
       "[2247 rows x 7 columns]"
      ]
     },
     "execution_count": 91,
     "metadata": {},
     "output_type": "execute_result"
    }
   ],
   "source": [
    "tweets"
   ]
  },
  {
   "cell_type": "code",
   "execution_count": 92,
   "metadata": {},
   "outputs": [],
   "source": [
    "tweets = tweets.drop(['label_up5','label_up2','label_down5','label_down2','Unnamed: 0'],axis=1)"
   ]
  },
  {
   "cell_type": "code",
   "execution_count": 93,
   "metadata": {},
   "outputs": [
    {
     "data": {
      "text/html": [
       "<div>\n",
       "<style scoped>\n",
       "    .dataframe tbody tr th:only-of-type {\n",
       "        vertical-align: middle;\n",
       "    }\n",
       "\n",
       "    .dataframe tbody tr th {\n",
       "        vertical-align: top;\n",
       "    }\n",
       "\n",
       "    .dataframe thead th {\n",
       "        text-align: right;\n",
       "    }\n",
       "</style>\n",
       "<table border=\"1\" class=\"dataframe\">\n",
       "  <thead>\n",
       "    <tr style=\"text-align: right;\">\n",
       "      <th></th>\n",
       "      <th>Date</th>\n",
       "      <th>text_split</th>\n",
       "    </tr>\n",
       "  </thead>\n",
       "  <tbody>\n",
       "    <tr>\n",
       "      <th>0</th>\n",
       "      <td>2015-01-01</td>\n",
       "      <td>blocked me thats my achievement still like bit...</td>\n",
       "    </tr>\n",
       "    <tr>\n",
       "      <th>64</th>\n",
       "      <td>2015-01-02</td>\n",
       "      <td>bitcoin my brother and have just our first me ...</td>\n",
       "    </tr>\n",
       "    <tr>\n",
       "      <th>143</th>\n",
       "      <td>2015-01-03</td>\n",
       "      <td>bitcoin btc new post cryptocurrency trading ne...</td>\n",
       "    </tr>\n",
       "    <tr>\n",
       "      <th>228</th>\n",
       "      <td>2015-01-04</td>\n",
       "      <td>in the last there were exchange pair yielding ...</td>\n",
       "    </tr>\n",
       "    <tr>\n",
       "      <th>308</th>\n",
       "      <td>2015-01-05</td>\n",
       "      <td>can wait to get my tax refund and buy bitcoin ...</td>\n",
       "    </tr>\n",
       "    <tr>\n",
       "      <th>...</th>\n",
       "      <td>...</td>\n",
       "      <td>...</td>\n",
       "    </tr>\n",
       "    <tr>\n",
       "      <th>341031</th>\n",
       "      <td>2021-05-27</td>\n",
       "      <td>bitcoin cryptocurrency money the central histo...</td>\n",
       "    </tr>\n",
       "    <tr>\n",
       "      <th>341235</th>\n",
       "      <td>2021-05-28</td>\n",
       "      <td>what to do when bitcoin price crash bitcoin to...</td>\n",
       "    </tr>\n",
       "    <tr>\n",
       "      <th>341439</th>\n",
       "      <td>2021-05-29</td>\n",
       "      <td>great project and hope it will achieve lots of...</td>\n",
       "    </tr>\n",
       "    <tr>\n",
       "      <th>341660</th>\n",
       "      <td>2021-05-30</td>\n",
       "      <td>rager was do that too but like it will take of...</td>\n",
       "    </tr>\n",
       "    <tr>\n",
       "      <th>341865</th>\n",
       "      <td>2021-05-31</td>\n",
       "      <td>daily crypto chat eth bitcoin and happy hour c...</td>\n",
       "    </tr>\n",
       "  </tbody>\n",
       "</table>\n",
       "<p>2247 rows × 2 columns</p>\n",
       "</div>"
      ],
      "text/plain": [
       "              Date                                         text_split\n",
       "0       2015-01-01  blocked me thats my achievement still like bit...\n",
       "64      2015-01-02  bitcoin my brother and have just our first me ...\n",
       "143     2015-01-03  bitcoin btc new post cryptocurrency trading ne...\n",
       "228     2015-01-04  in the last there were exchange pair yielding ...\n",
       "308     2015-01-05  can wait to get my tax refund and buy bitcoin ...\n",
       "...            ...                                                ...\n",
       "341031  2021-05-27  bitcoin cryptocurrency money the central histo...\n",
       "341235  2021-05-28  what to do when bitcoin price crash bitcoin to...\n",
       "341439  2021-05-29  great project and hope it will achieve lots of...\n",
       "341660  2021-05-30  rager was do that too but like it will take of...\n",
       "341865  2021-05-31  daily crypto chat eth bitcoin and happy hour c...\n",
       "\n",
       "[2247 rows x 2 columns]"
      ]
     },
     "execution_count": 93,
     "metadata": {},
     "output_type": "execute_result"
    }
   ],
   "source": [
    "tweets"
   ]
  },
  {
   "cell_type": "code",
   "execution_count": 80,
   "metadata": {},
   "outputs": [],
   "source": [
    "price['Date'] = pd.to_datetime(price['Date'])"
   ]
  },
  {
   "cell_type": "code",
   "execution_count": 94,
   "metadata": {},
   "outputs": [],
   "source": [
    "tweets['Date'] = pd.to_datetime(tweets['Date'])"
   ]
  },
  {
   "cell_type": "code",
   "execution_count": 95,
   "metadata": {},
   "outputs": [],
   "source": [
    "f = tweets.merge(price,how='outer',on=['Date'])"
   ]
  },
  {
   "cell_type": "code",
   "execution_count": 96,
   "metadata": {},
   "outputs": [],
   "source": [
    "f = f.dropna()"
   ]
  },
  {
   "cell_type": "code",
   "execution_count": 97,
   "metadata": {},
   "outputs": [
    {
     "data": {
      "text/html": [
       "<div>\n",
       "<style scoped>\n",
       "    .dataframe tbody tr th:only-of-type {\n",
       "        vertical-align: middle;\n",
       "    }\n",
       "\n",
       "    .dataframe tbody tr th {\n",
       "        vertical-align: top;\n",
       "    }\n",
       "\n",
       "    .dataframe thead th {\n",
       "        text-align: right;\n",
       "    }\n",
       "</style>\n",
       "<table border=\"1\" class=\"dataframe\">\n",
       "  <thead>\n",
       "    <tr style=\"text-align: right;\">\n",
       "      <th></th>\n",
       "      <th>Date</th>\n",
       "      <th>text_split</th>\n",
       "      <th>Open</th>\n",
       "      <th>High</th>\n",
       "      <th>Low</th>\n",
       "      <th>Close</th>\n",
       "      <th>Adj Close</th>\n",
       "      <th>Volume</th>\n",
       "      <th>PriceChange</th>\n",
       "      <th>Label</th>\n",
       "      <th>change</th>\n",
       "      <th>log_change</th>\n",
       "      <th>change_label</th>\n",
       "      <th>rsi</th>\n",
       "    </tr>\n",
       "  </thead>\n",
       "  <tbody>\n",
       "    <tr>\n",
       "      <th>13</th>\n",
       "      <td>2015-01-14</td>\n",
       "      <td>the of tinder talk bitcoin via bitcoin big fou...</td>\n",
       "      <td>223.893997</td>\n",
       "      <td>223.893997</td>\n",
       "      <td>171.509995</td>\n",
       "      <td>178.102997</td>\n",
       "      <td>178.102997</td>\n",
       "      <td>9.763870e+07</td>\n",
       "      <td>-21.144862</td>\n",
       "      <td>0.0</td>\n",
       "      <td>-0.211449</td>\n",
       "      <td>-0.237558</td>\n",
       "      <td>False</td>\n",
       "      <td>18.540940</td>\n",
       "    </tr>\n",
       "    <tr>\n",
       "      <th>14</th>\n",
       "      <td>2015-01-15</td>\n",
       "      <td>in daily trading vol behind only bitcoin and l...</td>\n",
       "      <td>176.897003</td>\n",
       "      <td>229.067001</td>\n",
       "      <td>176.897003</td>\n",
       "      <td>209.843994</td>\n",
       "      <td>209.843994</td>\n",
       "      <td>8.177350e+07</td>\n",
       "      <td>17.821709</td>\n",
       "      <td>1.0</td>\n",
       "      <td>0.178217</td>\n",
       "      <td>0.164002</td>\n",
       "      <td>True</td>\n",
       "      <td>28.961378</td>\n",
       "    </tr>\n",
       "    <tr>\n",
       "      <th>15</th>\n",
       "      <td>2015-01-16</td>\n",
       "      <td>bitcoin conference tomorrow right planetary pl...</td>\n",
       "      <td>209.070007</td>\n",
       "      <td>221.591003</td>\n",
       "      <td>199.770996</td>\n",
       "      <td>208.097000</td>\n",
       "      <td>208.097000</td>\n",
       "      <td>3.842100e+07</td>\n",
       "      <td>-0.832520</td>\n",
       "      <td>0.0</td>\n",
       "      <td>-0.008325</td>\n",
       "      <td>-0.008360</td>\n",
       "      <td>False</td>\n",
       "      <td>28.534947</td>\n",
       "    </tr>\n",
       "    <tr>\n",
       "      <th>16</th>\n",
       "      <td>2015-01-17</td>\n",
       "      <td>visa para en it when my chais on bitcoin news ...</td>\n",
       "      <td>207.834000</td>\n",
       "      <td>211.731003</td>\n",
       "      <td>194.875000</td>\n",
       "      <td>199.259995</td>\n",
       "      <td>199.259995</td>\n",
       "      <td>2.346970e+07</td>\n",
       "      <td>-4.246580</td>\n",
       "      <td>0.0</td>\n",
       "      <td>-0.042466</td>\n",
       "      <td>-0.043394</td>\n",
       "      <td>False</td>\n",
       "      <td>31.734361</td>\n",
       "    </tr>\n",
       "    <tr>\n",
       "      <th>17</th>\n",
       "      <td>2015-01-18</td>\n",
       "      <td>bitcoin price now this is how it more bitcoin ...</td>\n",
       "      <td>200.050003</td>\n",
       "      <td>218.695007</td>\n",
       "      <td>194.505997</td>\n",
       "      <td>210.339005</td>\n",
       "      <td>210.339005</td>\n",
       "      <td>3.008510e+07</td>\n",
       "      <td>5.560077</td>\n",
       "      <td>1.0</td>\n",
       "      <td>0.055601</td>\n",
       "      <td>0.054110</td>\n",
       "      <td>True</td>\n",
       "      <td>37.657329</td>\n",
       "    </tr>\n",
       "    <tr>\n",
       "      <th>...</th>\n",
       "      <td>...</td>\n",
       "      <td>...</td>\n",
       "      <td>...</td>\n",
       "      <td>...</td>\n",
       "      <td>...</td>\n",
       "      <td>...</td>\n",
       "      <td>...</td>\n",
       "      <td>...</td>\n",
       "      <td>...</td>\n",
       "      <td>...</td>\n",
       "      <td>...</td>\n",
       "      <td>...</td>\n",
       "      <td>...</td>\n",
       "      <td>...</td>\n",
       "    </tr>\n",
       "    <tr>\n",
       "      <th>2242</th>\n",
       "      <td>2021-05-27</td>\n",
       "      <td>bitcoin cryptocurrency money the central histo...</td>\n",
       "      <td>39316.890625</td>\n",
       "      <td>40379.617188</td>\n",
       "      <td>37247.902344</td>\n",
       "      <td>38436.968750</td>\n",
       "      <td>38436.968750</td>\n",
       "      <td>4.321097e+10</td>\n",
       "      <td>-2.181570</td>\n",
       "      <td>0.0</td>\n",
       "      <td>-0.021816</td>\n",
       "      <td>-0.022057</td>\n",
       "      <td>False</td>\n",
       "      <td>30.743726</td>\n",
       "    </tr>\n",
       "    <tr>\n",
       "      <th>2243</th>\n",
       "      <td>2021-05-28</td>\n",
       "      <td>what to do when bitcoin price crash bitcoin to...</td>\n",
       "      <td>38507.082031</td>\n",
       "      <td>38856.968750</td>\n",
       "      <td>34779.039062</td>\n",
       "      <td>35697.605469</td>\n",
       "      <td>35697.605469</td>\n",
       "      <td>5.520019e+10</td>\n",
       "      <td>-7.126897</td>\n",
       "      <td>0.0</td>\n",
       "      <td>-0.071269</td>\n",
       "      <td>-0.073936</td>\n",
       "      <td>False</td>\n",
       "      <td>27.743299</td>\n",
       "    </tr>\n",
       "    <tr>\n",
       "      <th>2244</th>\n",
       "      <td>2021-05-29</td>\n",
       "      <td>great project and hope it will achieve lots of...</td>\n",
       "      <td>35684.156250</td>\n",
       "      <td>37234.500000</td>\n",
       "      <td>33693.929688</td>\n",
       "      <td>34616.066406</td>\n",
       "      <td>34616.066406</td>\n",
       "      <td>4.523101e+10</td>\n",
       "      <td>-3.029724</td>\n",
       "      <td>0.0</td>\n",
       "      <td>-0.030297</td>\n",
       "      <td>-0.030766</td>\n",
       "      <td>False</td>\n",
       "      <td>29.639910</td>\n",
       "    </tr>\n",
       "    <tr>\n",
       "      <th>2245</th>\n",
       "      <td>2021-05-30</td>\n",
       "      <td>rager was do that too but like it will take of...</td>\n",
       "      <td>34607.406250</td>\n",
       "      <td>36400.667969</td>\n",
       "      <td>33520.738281</td>\n",
       "      <td>35678.128906</td>\n",
       "      <td>35678.128906</td>\n",
       "      <td>3.164608e+10</td>\n",
       "      <td>3.068120</td>\n",
       "      <td>1.0</td>\n",
       "      <td>0.030681</td>\n",
       "      <td>0.030220</td>\n",
       "      <td>True</td>\n",
       "      <td>32.378224</td>\n",
       "    </tr>\n",
       "    <tr>\n",
       "      <th>2246</th>\n",
       "      <td>2021-05-31</td>\n",
       "      <td>daily crypto chat eth bitcoin and happy hour c...</td>\n",
       "      <td>35658.593750</td>\n",
       "      <td>37468.250000</td>\n",
       "      <td>34241.945312</td>\n",
       "      <td>37332.855469</td>\n",
       "      <td>37332.855469</td>\n",
       "      <td>3.900985e+10</td>\n",
       "      <td>4.637930</td>\n",
       "      <td>1.0</td>\n",
       "      <td>0.046379</td>\n",
       "      <td>0.045336</td>\n",
       "      <td>True</td>\n",
       "      <td>39.418156</td>\n",
       "    </tr>\n",
       "  </tbody>\n",
       "</table>\n",
       "<p>2234 rows × 14 columns</p>\n",
       "</div>"
      ],
      "text/plain": [
       "           Date                                         text_split  \\\n",
       "13   2015-01-14  the of tinder talk bitcoin via bitcoin big fou...   \n",
       "14   2015-01-15  in daily trading vol behind only bitcoin and l...   \n",
       "15   2015-01-16  bitcoin conference tomorrow right planetary pl...   \n",
       "16   2015-01-17  visa para en it when my chais on bitcoin news ...   \n",
       "17   2015-01-18  bitcoin price now this is how it more bitcoin ...   \n",
       "...         ...                                                ...   \n",
       "2242 2021-05-27  bitcoin cryptocurrency money the central histo...   \n",
       "2243 2021-05-28  what to do when bitcoin price crash bitcoin to...   \n",
       "2244 2021-05-29  great project and hope it will achieve lots of...   \n",
       "2245 2021-05-30  rager was do that too but like it will take of...   \n",
       "2246 2021-05-31  daily crypto chat eth bitcoin and happy hour c...   \n",
       "\n",
       "              Open          High           Low         Close     Adj Close  \\\n",
       "13      223.893997    223.893997    171.509995    178.102997    178.102997   \n",
       "14      176.897003    229.067001    176.897003    209.843994    209.843994   \n",
       "15      209.070007    221.591003    199.770996    208.097000    208.097000   \n",
       "16      207.834000    211.731003    194.875000    199.259995    199.259995   \n",
       "17      200.050003    218.695007    194.505997    210.339005    210.339005   \n",
       "...            ...           ...           ...           ...           ...   \n",
       "2242  39316.890625  40379.617188  37247.902344  38436.968750  38436.968750   \n",
       "2243  38507.082031  38856.968750  34779.039062  35697.605469  35697.605469   \n",
       "2244  35684.156250  37234.500000  33693.929688  34616.066406  34616.066406   \n",
       "2245  34607.406250  36400.667969  33520.738281  35678.128906  35678.128906   \n",
       "2246  35658.593750  37468.250000  34241.945312  37332.855469  37332.855469   \n",
       "\n",
       "            Volume  PriceChange  Label    change  log_change change_label  \\\n",
       "13    9.763870e+07   -21.144862    0.0 -0.211449   -0.237558        False   \n",
       "14    8.177350e+07    17.821709    1.0  0.178217    0.164002         True   \n",
       "15    3.842100e+07    -0.832520    0.0 -0.008325   -0.008360        False   \n",
       "16    2.346970e+07    -4.246580    0.0 -0.042466   -0.043394        False   \n",
       "17    3.008510e+07     5.560077    1.0  0.055601    0.054110         True   \n",
       "...            ...          ...    ...       ...         ...          ...   \n",
       "2242  4.321097e+10    -2.181570    0.0 -0.021816   -0.022057        False   \n",
       "2243  5.520019e+10    -7.126897    0.0 -0.071269   -0.073936        False   \n",
       "2244  4.523101e+10    -3.029724    0.0 -0.030297   -0.030766        False   \n",
       "2245  3.164608e+10     3.068120    1.0  0.030681    0.030220         True   \n",
       "2246  3.900985e+10     4.637930    1.0  0.046379    0.045336         True   \n",
       "\n",
       "            rsi  \n",
       "13    18.540940  \n",
       "14    28.961378  \n",
       "15    28.534947  \n",
       "16    31.734361  \n",
       "17    37.657329  \n",
       "...         ...  \n",
       "2242  30.743726  \n",
       "2243  27.743299  \n",
       "2244  29.639910  \n",
       "2245  32.378224  \n",
       "2246  39.418156  \n",
       "\n",
       "[2234 rows x 14 columns]"
      ]
     },
     "execution_count": 97,
     "metadata": {},
     "output_type": "execute_result"
    }
   ],
   "source": [
    "f"
   ]
  },
  {
   "cell_type": "code",
   "execution_count": 99,
   "metadata": {},
   "outputs": [],
   "source": [
    "from sklearn.model_selection import train_test_split"
   ]
  },
  {
   "cell_type": "code",
   "execution_count": 100,
   "metadata": {},
   "outputs": [],
   "source": [
    "sentence = f['text_split'].values\n",
    "label = f['change_label'].map({True: 1, False: 0})"
   ]
  },
  {
   "cell_type": "code",
   "execution_count": 101,
   "metadata": {},
   "outputs": [
    {
     "data": {
      "text/plain": [
       "13      0\n",
       "14      1\n",
       "15      0\n",
       "16      0\n",
       "17      1\n",
       "       ..\n",
       "2242    0\n",
       "2243    0\n",
       "2244    0\n",
       "2245    1\n",
       "2246    1\n",
       "Name: change_label, Length: 2234, dtype: int64"
      ]
     },
     "execution_count": 101,
     "metadata": {},
     "output_type": "execute_result"
    }
   ],
   "source": [
    "label"
   ]
  },
  {
   "cell_type": "code",
   "execution_count": 102,
   "metadata": {},
   "outputs": [],
   "source": [
    "sentence_train,sentence_test, label_train,label_test = train_test_split(sentence, label,test_size=0.25, random_state=1000)"
   ]
  },
  {
   "cell_type": "code",
   "execution_count": 103,
   "metadata": {},
   "outputs": [],
   "source": [
    "from keras.preprocessing.text import Tokenizer\n",
    "\n",
    "tokenizer  = Tokenizer(num_words=5000)\n",
    "tokenizer.fit_on_texts(sentence_train)\n"
   ]
  },
  {
   "cell_type": "code",
   "execution_count": 104,
   "metadata": {},
   "outputs": [],
   "source": [
    "xcnn_train = tokenizer.texts_to_sequences(sentence_train)\n",
    "xcnn_test = tokenizer.texts_to_sequences(sentence_test)\n",
    "vocab_size = len(tokenizer.word_index) + 1"
   ]
  },
  {
   "cell_type": "code",
   "execution_count": 108,
   "metadata": {},
   "outputs": [
    {
     "name": "stdout",
     "output_type": "stream",
     "text": [
      "Collecting keras_preprocessing\n",
      "  Using cached Keras_Preprocessing-1.1.2-py2.py3-none-any.whl (42 kB)\n",
      "Requirement already satisfied: numpy>=1.9.1 in c:\\users\\computing\\appdata\\local\\programs\\python\\python311\\lib\\site-packages (from keras_preprocessing) (1.24.3)\n",
      "Requirement already satisfied: six>=1.9.0 in c:\\users\\computing\\appdata\\roaming\\python\\python311\\site-packages (from keras_preprocessing) (1.16.0)\n",
      "Installing collected packages: keras_preprocessing\n",
      "Successfully installed keras_preprocessing-1.1.2\n",
      "Note: you may need to restart the kernel to use updated packages.\n"
     ]
    },
    {
     "name": "stderr",
     "output_type": "stream",
     "text": [
      "\n",
      "[notice] A new release of pip is available: 23.0 -> 23.2.1\n",
      "[notice] To update, run: python.exe -m pip install --upgrade pip\n"
     ]
    }
   ],
   "source": [
    "%pip install keras_preprocessing\n"
   ]
  },
  {
   "cell_type": "code",
   "execution_count": 109,
   "metadata": {},
   "outputs": [],
   "source": [
    "from sklearn.model_selection import train_test_split\n",
    "from sklearn.preprocessing import StandardScaler\n",
    "from keras.models import Sequential,Model\n",
    "from keras_preprocessing.sequence import pad_sequences\n",
    "from keras.layers import LSTM, Dense, Embedding, Input, concatenate,Conv2D,Conv1D,Flatten,BatchNormalization, MaxPooling2D,MaxPooling1D"
   ]
  },
  {
   "cell_type": "code",
   "execution_count": 110,
   "metadata": {},
   "outputs": [],
   "source": [
    "maxlen = 200\n",
    "xcnn_train = pad_sequences(xcnn_train,padding='post', maxlen=maxlen)\n",
    "\n",
    "xcnn_test = pad_sequences(xcnn_test, padding='post',maxlen=maxlen)"
   ]
  },
  {
   "cell_type": "code",
   "execution_count": 111,
   "metadata": {},
   "outputs": [
    {
     "name": "stdout",
     "output_type": "stream",
     "text": [
      "Model: \"sequential\"\n",
      "_________________________________________________________________\n",
      " Layer (type)                Output Shape              Param #   \n",
      "=================================================================\n",
      " embedding (Embedding)       (None, 200, 200)          1914800   \n",
      "                                                                 \n",
      " conv1d (Conv1D)             (None, 196, 128)          128128    \n",
      "                                                                 \n",
      " max_pooling1d (MaxPooling1  (None, 98, 128)           0         \n",
      " D)                                                              \n",
      "                                                                 \n",
      " dense (Dense)               (None, 98, 10)            1290      \n",
      "                                                                 \n",
      " dense_1 (Dense)             (None, 98, 1)             11        \n",
      "                                                                 \n",
      "=================================================================\n",
      "Total params: 2044229 (7.80 MB)\n",
      "Trainable params: 2044229 (7.80 MB)\n",
      "Non-trainable params: 0 (0.00 Byte)\n",
      "_________________________________________________________________\n"
     ]
    }
   ],
   "source": [
    "embedding_dim = 200\n",
    "model = Sequential()\n",
    "model.add(Embedding(vocab_size, embedding_dim,input_length=maxlen))\n",
    "model.add(Conv1D(128,5,activation='relu'))\n",
    "model.add(MaxPooling1D())\n",
    "model.add(Dense(10, activation='relu'))\n",
    "model.add(Dense(1,activation='sigmoid'))\n",
    "\n",
    "model.compile(optimizer='adam',loss='binary_crossentropy',metrics=['accuracy'])\n",
    "model.summary()"
   ]
  },
  {
   "cell_type": "code",
   "execution_count": 112,
   "metadata": {},
   "outputs": [
    {
     "name": "stdout",
     "output_type": "stream",
     "text": [
      "Epoch 1/2\n",
      "168/168 [==============================] - 4s 21ms/step - loss: 0.5628 - accuracy: 0.7591 - val_loss: 0.5516 - val_accuracy: 0.7603\n",
      "Epoch 2/2\n",
      "168/168 [==============================] - 3s 20ms/step - loss: 0.5324 - accuracy: 0.7660 - val_loss: 0.5655 - val_accuracy: 0.7602\n"
     ]
    },
    {
     "data": {
      "text/plain": [
       "<keras.src.callbacks.History at 0x14fddbabf90>"
      ]
     },
     "execution_count": 112,
     "metadata": {},
     "output_type": "execute_result"
    }
   ],
   "source": [
    "model.fit(xcnn_train, label_train, epochs=2, verbose=True, validation_data=(xcnn_test,label_test),batch_size=10)"
   ]
  },
  {
   "cell_type": "code",
   "execution_count": 113,
   "metadata": {},
   "outputs": [
    {
     "name": "stdout",
     "output_type": "stream",
     "text": [
      "9574\n",
      "btc bitcoin exchange comedic billboard campaign btc ai the generation of perpetual swap trade with up to leverage on platform built by former now to participate in giveaway bitcoin btc crypto eth two year false de em anterior the first non narcotic non home kit short term moon must watch btc market analysis now let get this crypto bitcoin cryptocurrency de um de em um bitcoin las bitcoin new airdrop to you get for token giveaway cryptocurrency eth bitcoin btc money earn bounty invest bitcoin is days away on via cryptocurrency market learn to survive them because bitcoin will always outlast them as it always over the last remember how you felt at the top of the market and act on that bitcoin so far it now unprofitable to even mine it las bitcoin bitcoin is here to stay satellite expansion sure of it two year false and climate change to bitcoin mining and indoor marijuana production the of the film is simple darkness human potential electricity it if you had bought of bitcoin the today days later you would have and the same amount of btc cryptocurrency that during his long in the empress kingdom as you know crypto\n",
      "[   8    1   69  914    8  373    2 1305    4 4298 2306  127   15   39\n",
      "    3  798   10  222  659   31  492   33    3  335    7  246    1    8\n",
      "   16   51  245  139 1818   14  124  225    2   75  354 1235  354  450\n",
      "  923 1349  591  410  473  284    8   74  182   33  234   38   18   16\n",
      "    1   20   14  365   14  124  365    1  168    1   28  140    3   11\n",
      "   38    9  288  246   20   51    1    8   50  110  721  191    1    6\n",
      "  215  351   10   21   20   74  280    3 1749  220  171    1   25  329\n",
      "  220   27   12  329   87    2   79  637   54   11 3062   22    2  162\n",
      "    4    2   74    5 1062   10   17    1   85  670   12   33 3752    3\n",
      "  193  285   12  168    1    1    6   72    3  636 3346 2845  355    4\n",
      "   12  245  139 1818    5 1306  216    3    1   61    5 1819 1989    2\n",
      "    4    2 1625    6  474  752  429  830   12   48   11  254  211    4\n",
      "    1    2  104  215  671   11   88   35    5    2  255  529    4    8\n",
      "   20   17  696  174  178    7    2 2846   27   11  128   16    0    0\n",
      "    0    0    0    0]\n"
     ]
    }
   ],
   "source": [
    "print(vocab_size)\n",
    "print(sentence_train[1])\n",
    "print(xcnn_train[1])"
   ]
  },
  {
   "cell_type": "code",
   "execution_count": null,
   "metadata": {},
   "outputs": [],
   "source": []
  },
  {
   "cell_type": "code",
   "execution_count": null,
   "metadata": {},
   "outputs": [],
   "source": [
    "tokenizer"
   ]
  },
  {
   "cell_type": "code",
   "execution_count": null,
   "metadata": {},
   "outputs": [
    {
     "data": {
      "text/plain": [
       "1099"
      ]
     },
     "execution_count": 32,
     "metadata": {},
     "output_type": "execute_result"
    }
   ],
   "source": [
    "len(tweets['text_split'][3])"
   ]
  },
  {
   "cell_type": "code",
   "execution_count": null,
   "metadata": {},
   "outputs": [],
   "source": [
    "# tweets = tweets.drop(columns=['date', 'label_up5','label_up2','label_down5','label_down2'])"
   ]
  },
  {
   "cell_type": "code",
   "execution_count": null,
   "metadata": {},
   "outputs": [
    {
     "data": {
      "text/plain": [
       "(2247, 2)"
      ]
     },
     "execution_count": 343,
     "metadata": {},
     "output_type": "execute_result"
    }
   ],
   "source": [
    "tweets.shape"
   ]
  },
  {
   "cell_type": "code",
   "execution_count": null,
   "metadata": {},
   "outputs": [
    {
     "data": {
      "text/html": [
       "<div>\n",
       "<style scoped>\n",
       "    .dataframe tbody tr th:only-of-type {\n",
       "        vertical-align: middle;\n",
       "    }\n",
       "\n",
       "    .dataframe tbody tr th {\n",
       "        vertical-align: top;\n",
       "    }\n",
       "\n",
       "    .dataframe thead th {\n",
       "        text-align: right;\n",
       "    }\n",
       "</style>\n",
       "<table border=\"1\" class=\"dataframe\">\n",
       "  <thead>\n",
       "    <tr style=\"text-align: right;\">\n",
       "      <th></th>\n",
       "      <th>Date</th>\n",
       "      <th>text_split</th>\n",
       "    </tr>\n",
       "  </thead>\n",
       "  <tbody>\n",
       "    <tr>\n",
       "      <th>0</th>\n",
       "      <td>2015-01-01</td>\n",
       "      <td>blocked me thats my achievement still like bit...</td>\n",
       "    </tr>\n",
       "    <tr>\n",
       "      <th>1</th>\n",
       "      <td>2015-01-02</td>\n",
       "      <td>bitcoin my brother and have just our first me ...</td>\n",
       "    </tr>\n",
       "    <tr>\n",
       "      <th>2</th>\n",
       "      <td>2015-01-03</td>\n",
       "      <td>bitcoin btc new post cryptocurrency trading ne...</td>\n",
       "    </tr>\n",
       "    <tr>\n",
       "      <th>3</th>\n",
       "      <td>2015-01-04</td>\n",
       "      <td>in the last there were exchange pair yielding ...</td>\n",
       "    </tr>\n",
       "    <tr>\n",
       "      <th>4</th>\n",
       "      <td>2015-01-05</td>\n",
       "      <td>can wait to get my tax refund and buy bitcoin ...</td>\n",
       "    </tr>\n",
       "    <tr>\n",
       "      <th>...</th>\n",
       "      <td>...</td>\n",
       "      <td>...</td>\n",
       "    </tr>\n",
       "    <tr>\n",
       "      <th>2242</th>\n",
       "      <td>2021-05-27</td>\n",
       "      <td>bitcoin cryptocurrency money the central histo...</td>\n",
       "    </tr>\n",
       "    <tr>\n",
       "      <th>2243</th>\n",
       "      <td>2021-05-28</td>\n",
       "      <td>what to do when bitcoin price crash bitcoin to...</td>\n",
       "    </tr>\n",
       "    <tr>\n",
       "      <th>2244</th>\n",
       "      <td>2021-05-29</td>\n",
       "      <td>great project and hope it will achieve lots of...</td>\n",
       "    </tr>\n",
       "    <tr>\n",
       "      <th>2245</th>\n",
       "      <td>2021-05-30</td>\n",
       "      <td>rager was do that too but like it will take of...</td>\n",
       "    </tr>\n",
       "    <tr>\n",
       "      <th>2246</th>\n",
       "      <td>2021-05-31</td>\n",
       "      <td>daily crypto chat eth bitcoin and happy hour c...</td>\n",
       "    </tr>\n",
       "  </tbody>\n",
       "</table>\n",
       "<p>2247 rows × 2 columns</p>\n",
       "</div>"
      ],
      "text/plain": [
       "            Date                                         text_split\n",
       "0     2015-01-01  blocked me thats my achievement still like bit...\n",
       "1     2015-01-02  bitcoin my brother and have just our first me ...\n",
       "2     2015-01-03  bitcoin btc new post cryptocurrency trading ne...\n",
       "3     2015-01-04  in the last there were exchange pair yielding ...\n",
       "4     2015-01-05  can wait to get my tax refund and buy bitcoin ...\n",
       "...          ...                                                ...\n",
       "2242  2021-05-27  bitcoin cryptocurrency money the central histo...\n",
       "2243  2021-05-28  what to do when bitcoin price crash bitcoin to...\n",
       "2244  2021-05-29  great project and hope it will achieve lots of...\n",
       "2245  2021-05-30  rager was do that too but like it will take of...\n",
       "2246  2021-05-31  daily crypto chat eth bitcoin and happy hour c...\n",
       "\n",
       "[2247 rows x 2 columns]"
      ]
     },
     "execution_count": 344,
     "metadata": {},
     "output_type": "execute_result"
    }
   ],
   "source": [
    "tweets"
   ]
  },
  {
   "cell_type": "code",
   "execution_count": null,
   "metadata": {},
   "outputs": [],
   "source": [
    "\n",
    "# tweets['Date']=tweets.Date.apply (lambda x : str(x)[:10])"
   ]
  },
  {
   "cell_type": "code",
   "execution_count": null,
   "metadata": {},
   "outputs": [],
   "source": [
    "tweets['Date'] = pd.to_datetime(tweets['Date'])"
   ]
  },
  {
   "cell_type": "code",
   "execution_count": null,
   "metadata": {},
   "outputs": [],
   "source": [
    "price['Date'] = pd.to_datetime(price['Date'])"
   ]
  },
  {
   "cell_type": "code",
   "execution_count": null,
   "metadata": {},
   "outputs": [],
   "source": [
    "price_tweets = tweets.merge(price, how='outer', on=['Date'])"
   ]
  },
  {
   "cell_type": "code",
   "execution_count": null,
   "metadata": {},
   "outputs": [
    {
     "data": {
      "text/html": [
       "<div>\n",
       "<style scoped>\n",
       "    .dataframe tbody tr th:only-of-type {\n",
       "        vertical-align: middle;\n",
       "    }\n",
       "\n",
       "    .dataframe tbody tr th {\n",
       "        vertical-align: top;\n",
       "    }\n",
       "\n",
       "    .dataframe thead th {\n",
       "        text-align: right;\n",
       "    }\n",
       "</style>\n",
       "<table border=\"1\" class=\"dataframe\">\n",
       "  <thead>\n",
       "    <tr style=\"text-align: right;\">\n",
       "      <th></th>\n",
       "      <th>Date</th>\n",
       "      <th>text_split</th>\n",
       "      <th>Open</th>\n",
       "      <th>High</th>\n",
       "      <th>Low</th>\n",
       "      <th>Close</th>\n",
       "      <th>Adj Close</th>\n",
       "      <th>Volume</th>\n",
       "      <th>sma7</th>\n",
       "      <th>sma14</th>\n",
       "      <th>sma21</th>\n",
       "      <th>ema12</th>\n",
       "      <th>ema26</th>\n",
       "      <th>MACD line</th>\n",
       "      <th>Signal line</th>\n",
       "      <th>MACD histogram</th>\n",
       "      <th>change</th>\n",
       "      <th>log_change</th>\n",
       "      <th>change_label</th>\n",
       "      <th>rsi</th>\n",
       "    </tr>\n",
       "  </thead>\n",
       "  <tbody>\n",
       "    <tr>\n",
       "      <th>0</th>\n",
       "      <td>2015-01-01</td>\n",
       "      <td>blocked me thats my achievement still like bit...</td>\n",
       "      <td>320.434998</td>\n",
       "      <td>320.434998</td>\n",
       "      <td>314.002991</td>\n",
       "      <td>314.248993</td>\n",
       "      <td>314.248993</td>\n",
       "      <td>8036550.0</td>\n",
       "      <td>NaN</td>\n",
       "      <td>NaN</td>\n",
       "      <td>NaN</td>\n",
       "      <td>319.278532</td>\n",
       "      <td>319.752697</td>\n",
       "      <td>-0.474165</td>\n",
       "      <td>-0.094833</td>\n",
       "      <td>-0.379332</td>\n",
       "      <td>-0.018564</td>\n",
       "      <td>-0.018738</td>\n",
       "      <td>False</td>\n",
       "      <td>NaN</td>\n",
       "    </tr>\n",
       "    <tr>\n",
       "      <th>1</th>\n",
       "      <td>2015-01-02</td>\n",
       "      <td>bitcoin my brother and have just our first me ...</td>\n",
       "      <td>314.079010</td>\n",
       "      <td>315.838989</td>\n",
       "      <td>313.565002</td>\n",
       "      <td>315.032013</td>\n",
       "      <td>315.032013</td>\n",
       "      <td>7860650.0</td>\n",
       "      <td>NaN</td>\n",
       "      <td>NaN</td>\n",
       "      <td>NaN</td>\n",
       "      <td>318.625221</td>\n",
       "      <td>319.403017</td>\n",
       "      <td>-0.777796</td>\n",
       "      <td>-0.231426</td>\n",
       "      <td>-0.546370</td>\n",
       "      <td>0.002492</td>\n",
       "      <td>0.002489</td>\n",
       "      <td>True</td>\n",
       "      <td>NaN</td>\n",
       "    </tr>\n",
       "    <tr>\n",
       "      <th>2</th>\n",
       "      <td>2015-01-03</td>\n",
       "      <td>bitcoin btc new post cryptocurrency trading ne...</td>\n",
       "      <td>314.846008</td>\n",
       "      <td>315.149994</td>\n",
       "      <td>281.082001</td>\n",
       "      <td>281.082001</td>\n",
       "      <td>281.082001</td>\n",
       "      <td>33054400.0</td>\n",
       "      <td>NaN</td>\n",
       "      <td>NaN</td>\n",
       "      <td>NaN</td>\n",
       "      <td>312.849341</td>\n",
       "      <td>316.564423</td>\n",
       "      <td>-3.715082</td>\n",
       "      <td>-0.928157</td>\n",
       "      <td>-2.786925</td>\n",
       "      <td>-0.107767</td>\n",
       "      <td>-0.114028</td>\n",
       "      <td>False</td>\n",
       "      <td>NaN</td>\n",
       "    </tr>\n",
       "    <tr>\n",
       "      <th>3</th>\n",
       "      <td>2015-01-04</td>\n",
       "      <td>in the last there were exchange pair yielding ...</td>\n",
       "      <td>281.145996</td>\n",
       "      <td>287.230011</td>\n",
       "      <td>257.612000</td>\n",
       "      <td>264.195007</td>\n",
       "      <td>264.195007</td>\n",
       "      <td>55629100.0</td>\n",
       "      <td>NaN</td>\n",
       "      <td>NaN</td>\n",
       "      <td>NaN</td>\n",
       "      <td>305.364059</td>\n",
       "      <td>312.685207</td>\n",
       "      <td>-7.321148</td>\n",
       "      <td>-2.206755</td>\n",
       "      <td>-5.114393</td>\n",
       "      <td>-0.060079</td>\n",
       "      <td>-0.061959</td>\n",
       "      <td>False</td>\n",
       "      <td>NaN</td>\n",
       "    </tr>\n",
       "    <tr>\n",
       "      <th>4</th>\n",
       "      <td>2015-01-05</td>\n",
       "      <td>can wait to get my tax refund and buy bitcoin ...</td>\n",
       "      <td>265.084015</td>\n",
       "      <td>278.341003</td>\n",
       "      <td>265.084015</td>\n",
       "      <td>274.473999</td>\n",
       "      <td>274.473999</td>\n",
       "      <td>43962800.0</td>\n",
       "      <td>NaN</td>\n",
       "      <td>NaN</td>\n",
       "      <td>NaN</td>\n",
       "      <td>300.611742</td>\n",
       "      <td>309.854747</td>\n",
       "      <td>-9.243005</td>\n",
       "      <td>-3.614005</td>\n",
       "      <td>-5.629000</td>\n",
       "      <td>0.038907</td>\n",
       "      <td>0.038169</td>\n",
       "      <td>True</td>\n",
       "      <td>NaN</td>\n",
       "    </tr>\n",
       "  </tbody>\n",
       "</table>\n",
       "</div>"
      ],
      "text/plain": [
       "        Date                                         text_split        Open  \\\n",
       "0 2015-01-01  blocked me thats my achievement still like bit...  320.434998   \n",
       "1 2015-01-02  bitcoin my brother and have just our first me ...  314.079010   \n",
       "2 2015-01-03  bitcoin btc new post cryptocurrency trading ne...  314.846008   \n",
       "3 2015-01-04  in the last there were exchange pair yielding ...  281.145996   \n",
       "4 2015-01-05  can wait to get my tax refund and buy bitcoin ...  265.084015   \n",
       "\n",
       "         High         Low       Close   Adj Close      Volume  sma7  sma14  \\\n",
       "0  320.434998  314.002991  314.248993  314.248993   8036550.0   NaN    NaN   \n",
       "1  315.838989  313.565002  315.032013  315.032013   7860650.0   NaN    NaN   \n",
       "2  315.149994  281.082001  281.082001  281.082001  33054400.0   NaN    NaN   \n",
       "3  287.230011  257.612000  264.195007  264.195007  55629100.0   NaN    NaN   \n",
       "4  278.341003  265.084015  274.473999  274.473999  43962800.0   NaN    NaN   \n",
       "\n",
       "   sma21       ema12       ema26  MACD line  Signal line  MACD histogram  \\\n",
       "0    NaN  319.278532  319.752697  -0.474165    -0.094833       -0.379332   \n",
       "1    NaN  318.625221  319.403017  -0.777796    -0.231426       -0.546370   \n",
       "2    NaN  312.849341  316.564423  -3.715082    -0.928157       -2.786925   \n",
       "3    NaN  305.364059  312.685207  -7.321148    -2.206755       -5.114393   \n",
       "4    NaN  300.611742  309.854747  -9.243005    -3.614005       -5.629000   \n",
       "\n",
       "     change  log_change change_label  rsi  \n",
       "0 -0.018564   -0.018738        False  NaN  \n",
       "1  0.002492    0.002489         True  NaN  \n",
       "2 -0.107767   -0.114028        False  NaN  \n",
       "3 -0.060079   -0.061959        False  NaN  \n",
       "4  0.038907    0.038169         True  NaN  "
      ]
     },
     "execution_count": 431,
     "metadata": {},
     "output_type": "execute_result"
    }
   ],
   "source": [
    "price_tweets.head()"
   ]
  },
  {
   "cell_type": "code",
   "execution_count": null,
   "metadata": {},
   "outputs": [
    {
     "data": {
      "text/plain": [
       "(2344, 20)"
      ]
     },
     "execution_count": 374,
     "metadata": {},
     "output_type": "execute_result"
    }
   ],
   "source": [
    "price_tweets.shape"
   ]
  },
  {
   "cell_type": "markdown",
   "metadata": {},
   "source": [
    "## Word embeddings"
   ]
  },
  {
   "cell_type": "markdown",
   "metadata": {},
   "source": [
    "#### Now that we have our dataset, let's get the word embedding for the news articles"
   ]
  },
  {
   "cell_type": "code",
   "execution_count": null,
   "metadata": {},
   "outputs": [],
   "source": [
    "%pip install transformers torch"
   ]
  },
  {
   "cell_type": "code",
   "execution_count": 115,
   "metadata": {},
   "outputs": [
    {
     "name": "stderr",
     "output_type": "stream",
     "text": [
      "Downloading pytorch_model.bin: 100%|██████████| 439M/439M [00:04<00:00, 108MB/s] \n"
     ]
    }
   ],
   "source": [
    "from transformers import AutoModel, AutoTokenizer\n",
    "\n",
    "model_name = \"yiyanghkust/finbert-tone\"\n",
    "tokenizer = AutoTokenizer.from_pretrained(model_name)\n",
    "model = AutoModel.from_pretrained(model_name)"
   ]
  },
  {
   "cell_type": "code",
   "execution_count": 116,
   "metadata": {},
   "outputs": [],
   "source": [
    "def processEmbeddings(text):\n",
    "    tokens = tokenizer.tokenize(text)\n",
    "\n",
    "    # Set the maximum segment length and overlap\n",
    "    max_segment_length = 200\n",
    "    overlap = 50\n",
    "\n",
    "    # Initialize lists to store embeddings and segment tokens\n",
    "    embeddings_list = []\n",
    "    segment_tokens_list = []\n",
    "\n",
    "    # Slide a window over the tokens and process each segment\n",
    "    for start in range(0, len(tokens), max_segment_length - overlap):\n",
    "        end = start + max_segment_length\n",
    "        segment_tokens = tokens[start:end]\n",
    "\n",
    "        # Convert segment tokens back to text and encode\n",
    "        segment_text = tokenizer.convert_tokens_to_string(segment_tokens)\n",
    "        inputs = tokenizer(segment_text, return_tensors=\"pt\", padding=True, truncation=True)\n",
    "\n",
    "        with torch.no_grad():\n",
    "            outputs = model(**inputs)\n",
    "            embeddings = outputs.last_hidden_state[:, 0, :]\n",
    "\n",
    "        embeddings_list.append(embeddings)\n",
    "        segment_tokens_list.append(segment_tokens)\n",
    "\n",
    "    # Combine embeddings and segment tokens for the entire text\n",
    "    all_embeddings = torch.cat(embeddings_list, dim=0)\n",
    "    # all_segment_tokens = sum(segment_tokens_list, [])\n",
    "    \n",
    "    return all_embeddings\n"
   ]
  },
  {
   "cell_type": "code",
   "execution_count": 117,
   "metadata": {},
   "outputs": [
    {
     "name": "stderr",
     "output_type": "stream",
     "text": [
      "Asking to truncate to max_length but no maximum length is provided and the model has no predefined maximum length. Default to no truncation.\n"
     ]
    }
   ],
   "source": [
    "f['text_embedding'] = f['text_split'].apply(processEmbeddings)"
   ]
  },
  {
   "cell_type": "code",
   "execution_count": null,
   "metadata": {},
   "outputs": [],
   "source": [
    "f['text_embedding']"
   ]
  },
  {
   "cell_type": "code",
   "execution_count": null,
   "metadata": {},
   "outputs": [],
   "source": []
  },
  {
   "cell_type": "code",
   "execution_count": null,
   "metadata": {},
   "outputs": [
    {
     "name": "stderr",
     "output_type": "stream",
     "text": [
      "C:\\Users\\HP\\AppData\\Local\\Temp\\ipykernel_15080\\3128454574.py:2: SettingWithCopyWarning: \n",
      "A value is trying to be set on a copy of a slice from a DataFrame.\n",
      "Try using .loc[row_indexer,col_indexer] = value instead\n",
      "\n",
      "See the caveats in the documentation: https://pandas.pydata.org/pandas-docs/stable/user_guide/indexing.html#returning-a-view-versus-a-copy\n",
      "  price_tweets['change_label'] = price_tweets['change_label'].map({True: 1, False: 0})\n"
     ]
    }
   ],
   "source": [
    "# Replace True with 1 and False with 0\n",
    "price_tweets['change_label'] = price_tweets['change_label'].map({True: 1, False: 0})"
   ]
  },
  {
   "cell_type": "code",
   "execution_count": null,
   "metadata": {},
   "outputs": [
    {
     "name": "stdout",
     "output_type": "stream",
     "text": [
      "<class 'pandas.core.frame.DataFrame'>\n",
      "Int64Index: 2227 entries, 19 to 2245\n",
      "Data columns (total 21 columns):\n",
      " #   Column           Non-Null Count  Dtype         \n",
      "---  ------           --------------  -----         \n",
      " 0   Date             2227 non-null   datetime64[ns]\n",
      " 1   text_split       2227 non-null   object        \n",
      " 2   Open             2227 non-null   float64       \n",
      " 3   High             2227 non-null   float64       \n",
      " 4   Low              2227 non-null   float64       \n",
      " 5   Close            2227 non-null   float64       \n",
      " 6   Adj Close        2227 non-null   float64       \n",
      " 7   Volume           2227 non-null   float64       \n",
      " 8   sma7             2227 non-null   float64       \n",
      " 9   sma14            2227 non-null   float64       \n",
      " 10  sma21            2227 non-null   float64       \n",
      " 11  ema12            2227 non-null   float64       \n",
      " 12  ema26            2227 non-null   float64       \n",
      " 13  MACD line        2227 non-null   float64       \n",
      " 14  Signal line      2227 non-null   float64       \n",
      " 15  MACD histogram   2227 non-null   float64       \n",
      " 16  change           2227 non-null   float64       \n",
      " 17  log_change       2227 non-null   float64       \n",
      " 18  change_label     2227 non-null   int64         \n",
      " 19  rsi              2227 non-null   float64       \n",
      " 20  text_embeddings  2227 non-null   object        \n",
      "dtypes: datetime64[ns](1), float64(17), int64(1), object(2)\n",
      "memory usage: 382.8+ KB\n"
     ]
    }
   ],
   "source": [
    "price_tweets.info()"
   ]
  },
  {
   "cell_type": "markdown",
   "metadata": {},
   "source": [
    "### Build the architecture"
   ]
  },
  {
   "cell_type": "code",
   "execution_count": null,
   "metadata": {},
   "outputs": [],
   "source": [
    "from sklearn.model_selection import train_test_split\n",
    "from sklearn.preprocessing import StandardScaler\n",
    "from keras.models import Sequential,Model\n",
    "from keras.layers import LSTM, Dense, Embedding, Input, concatenate,Conv2D,Conv1D,Flatten,BatchNormalization, MaxPooling2D,MaxPooling1D"
   ]
  },
  {
   "cell_type": "code",
   "execution_count": null,
   "metadata": {},
   "outputs": [],
   "source": [
    "features = price_tweets[['text_embeddings']]\n",
    "target = price_tweets['change_label']"
   ]
  },
  {
   "cell_type": "code",
   "execution_count": null,
   "metadata": {},
   "outputs": [
    {
     "data": {
      "text/plain": [
       "19      0\n",
       "20      1\n",
       "21      1\n",
       "22      0\n",
       "23      1\n",
       "       ..\n",
       "2241    1\n",
       "2242    0\n",
       "2243    0\n",
       "2244    0\n",
       "2245    1\n",
       "Name: change_label, Length: 2227, dtype: int64"
      ]
     },
     "execution_count": 415,
     "metadata": {},
     "output_type": "execute_result"
    }
   ],
   "source": [
    "target"
   ]
  },
  {
   "cell_type": "code",
   "execution_count": null,
   "metadata": {},
   "outputs": [],
   "source": [
    "# features = price_tweets.drop(['change_label', 'Date'], axis=1)  # Adjust columns as needed\n",
    "# target = price_tweets['change_label']"
   ]
  },
  {
   "cell_type": "code",
   "execution_count": null,
   "metadata": {},
   "outputs": [
    {
     "name": "stdout",
     "output_type": "stream",
     "text": [
      "<class 'pandas.core.frame.DataFrame'>\n",
      "Int64Index: 1726 entries, 383 to 2108\n",
      "Data columns (total 20 columns):\n",
      " #   Column              Non-Null Count  Dtype  \n",
      "---  ------              --------------  -----  \n",
      " 0   index               1726 non-null   float64\n",
      " 1   Open                1726 non-null   float64\n",
      " 2   High                1726 non-null   float64\n",
      " 3   Low                 1726 non-null   float64\n",
      " 4   Close               1726 non-null   float64\n",
      " 5   Adj Close           1726 non-null   float64\n",
      " 6   Volume              1726 non-null   float64\n",
      " 7   Close Lagged Price  1726 non-null   float64\n",
      " 8   sma7                1726 non-null   float64\n",
      " 9   sma14               1726 non-null   float64\n",
      " 10  sma21               1726 non-null   float64\n",
      " 11  ema12               1726 non-null   float64\n",
      " 12  ema26               1726 non-null   float64\n",
      " 13  MACD line           1726 non-null   float64\n",
      " 14  Signal line         1726 non-null   float64\n",
      " 15  MACD histogram      1726 non-null   float64\n",
      " 16  change              1726 non-null   float64\n",
      " 17  log_change          1726 non-null   float64\n",
      " 18  rsi                 1726 non-null   float64\n",
      " 19  text_embeddings     1726 non-null   object \n",
      "dtypes: float64(19), object(1)\n",
      "memory usage: 347.7+ KB\n"
     ]
    }
   ],
   "source": [
    "features.info()"
   ]
  },
  {
   "cell_type": "code",
   "execution_count": null,
   "metadata": {},
   "outputs": [],
   "source": [
    "# Split the data into training, validation, and testing sets\n",
    "# First, split into training and temp sets (80% training, 20% temp)\n",
    "X_train, X_temp, y_train, y_temp = train_test_split(features, target, test_size=0.2, random_state=42)\n",
    "\n",
    "# Then, split the temp set into validation and testing sets (50% validation, 50% testing)\n",
    "X_val, X_test, y_val, y_test = train_test_split(X_temp, y_temp, test_size=0.5, random_state=42)\n"
   ]
  },
  {
   "cell_type": "code",
   "execution_count": null,
   "metadata": {},
   "outputs": [],
   "source": [
    "# Normalize numerical features for each set\n",
    "# scaler = StandardScaler()\n",
    "# X_train_scaled = scaler.fit_transform(X_train.drop('text_embeddings', axis=1))\n",
    "# X_val_scaled = scaler.transform(X_val.drop('text_embeddings', axis=1))\n",
    "# X_test_scaled = scaler.transform(X_test.drop('text_embeddings', axis=1))\n"
   ]
  },
  {
   "cell_type": "code",
   "execution_count": null,
   "metadata": {},
   "outputs": [],
   "source": []
  },
  {
   "cell_type": "markdown",
   "metadata": {},
   "source": [
    "### Build CNN model"
   ]
  },
  {
   "cell_type": "code",
   "execution_count": null,
   "metadata": {},
   "outputs": [],
   "source": [
    "def cnn(embedding_dim):\n",
    "    model = Sequential()\n",
    "    model.add(Conv1D(64, 3, activation='relu', input_shape=(embedding_dim, 1)))\n",
    "    model.add(MaxPooling1D(2))\n",
    "    # model.add(Conv1D(128, 3, activation='relu'))\n",
    "    # model.add(MaxPooling1D(2))\n",
    "    model.add(Flatten())\n",
    "    model.add(Dense(128, activation='relu'))\n",
    "    model.add(Dense(1, activation='sigmoid'))\n",
    "    # model.add(Conv1D(filters=16, kernel_size=(3,3), activation=\"relu\",input_shape=(embedding_dim,)))\n",
    "\n",
    "    # model.add(MaxPooling2D(pool_size=(2,2)))\n",
    "\n",
    "    # model.add(Conv2D(filters=32,kernel_size=(3,3),activation='relu'))\n",
    "    \n",
    "    # model.add(MaxPooling2D(pool_size=(2,2)))\n",
    "\n",
    "    # model.add(Conv2D(filters=64,kernel_size=(3,3),activation='relu'))\n",
    "    \n",
    "    # model.add(MaxPooling2D(pool_size=(2,2)))\n",
    "\n",
    "    # model.add(Flatten())\n",
    "\n",
    "    # model.add(Dense(64,activation='relu'))\n",
    "\n",
    "    # model.add(Dense(1,activation='sigmoid'))\n",
    "\n",
    "    # model.compile(loss=\"binary_crossentropy\", optimizer=\"adam\", metrics=[\"accuracy\"])\n",
    "    return model\n"
   ]
  },
  {
   "cell_type": "markdown",
   "metadata": {},
   "source": []
  },
  {
   "cell_type": "code",
   "execution_count": null,
   "metadata": {},
   "outputs": [],
   "source": [
    "embedding_dim = X_train.iloc[0]['text_embeddings'].shape[0]"
   ]
  },
  {
   "cell_type": "code",
   "execution_count": null,
   "metadata": {},
   "outputs": [],
   "source": [
    "model = cnn(embedding_dim)"
   ]
  },
  {
   "cell_type": "code",
   "execution_count": null,
   "metadata": {},
   "outputs": [
    {
     "name": "stdout",
     "output_type": "stream",
     "text": [
      "Model: \"sequential_8\"\n",
      "_________________________________________________________________\n",
      " Layer (type)                Output Shape              Param #   \n",
      "=================================================================\n",
      " conv1d_2 (Conv1D)           (None, 766, 64)           256       \n",
      "                                                                 \n",
      " max_pooling1d_2 (MaxPooling  (None, 383, 64)          0         \n",
      " 1D)                                                             \n",
      "                                                                 \n",
      " flatten_3 (Flatten)         (None, 24512)             0         \n",
      "                                                                 \n",
      " dense_12 (Dense)            (None, 128)               3137664   \n",
      "                                                                 \n",
      " dense_13 (Dense)            (None, 1)                 129       \n",
      "                                                                 \n",
      "=================================================================\n",
      "Total params: 3,138,049\n",
      "Trainable params: 3,138,049\n",
      "Non-trainable params: 0\n",
      "_________________________________________________________________\n"
     ]
    }
   ],
   "source": [
    "model.summary()"
   ]
  },
  {
   "cell_type": "code",
   "execution_count": null,
   "metadata": {},
   "outputs": [],
   "source": [
    "embedding_dim = X_train.iloc[0]['text_embeddings'].shape[0]"
   ]
  },
  {
   "cell_type": "code",
   "execution_count": null,
   "metadata": {},
   "outputs": [],
   "source": [
    "# Build the LSTM model for text embeddings\n",
    "embedding_dim = X_train.iloc[0]['text_embeddings'].shape[0]\n",
    "text_input = Input(shape=(embedding_dim,), name='text_input')\n",
    "text_lstm = Dense(64, activation='relu')(text_input)"
   ]
  },
  {
   "cell_type": "code",
   "execution_count": null,
   "metadata": {},
   "outputs": [],
   "source": [
    "# Build the LSTM model for numerical features\n",
    "num_features_input = Input(shape=(X_train_scaled.shape[1],), name='num_features_input')\n",
    "num_lstm = Dense(64, activation='relu')(num_features_input)"
   ]
  },
  {
   "cell_type": "code",
   "execution_count": null,
   "metadata": {},
   "outputs": [],
   "source": [
    "# Combine the outputs of both LSTM models\n",
    "concatenated = concatenate([text_lstm, num_lstm])"
   ]
  },
  {
   "cell_type": "code",
   "execution_count": null,
   "metadata": {},
   "outputs": [],
   "source": [
    "# Build the final prediction layer\n",
    "output = Dense(1, activation='sigmoid')(concatenated)"
   ]
  },
  {
   "cell_type": "code",
   "execution_count": null,
   "metadata": {},
   "outputs": [],
   "source": [
    "# Create the multi-modal model\n",
    "model = Model(inputs=[text_input, num_features_input], outputs=output)"
   ]
  },
  {
   "cell_type": "code",
   "execution_count": null,
   "metadata": {},
   "outputs": [],
   "source": [
    "# Compile the model\n",
    "model.compile(loss='binary_crossentropy', optimizer='adam', metrics=['accuracy'])\n"
   ]
  },
  {
   "cell_type": "code",
   "execution_count": null,
   "metadata": {},
   "outputs": [],
   "source": [
    "data = features['text_embeddings']"
   ]
  },
  {
   "cell_type": "code",
   "execution_count": null,
   "metadata": {},
   "outputs": [
    {
     "name": "stdout",
     "output_type": "stream",
     "text": [
      "<class 'pandas.core.series.Series'>\n",
      "Int64Index: 2227 entries, 19 to 2245\n",
      "Series name: change_label\n",
      "Non-Null Count  Dtype\n",
      "--------------  -----\n",
      "2227 non-null   int64\n",
      "dtypes: int64(1)\n",
      "memory usage: 34.8 KB\n"
     ]
    }
   ],
   "source": [
    "target.info()"
   ]
  },
  {
   "cell_type": "code",
   "execution_count": null,
   "metadata": {},
   "outputs": [],
   "source": [
    "import tensorflow as tf\n"
   ]
  },
  {
   "cell_type": "code",
   "execution_count": null,
   "metadata": {},
   "outputs": [],
   "source": [
    "model.fit(data, np.array(target),validation_split=0.4, epochs=3)"
   ]
  },
  {
   "cell_type": "code",
   "execution_count": null,
   "metadata": {},
   "outputs": [],
   "source": [
    "# Train the model\n",
    "model.fit([np.array(X_train['text_embeddings']), X_train_scaled], y_train,\n",
    "          epochs=10, batch_size=32, validation_data=([np.array(X_test['text_embeddings'].tolist()), X_test], y_test))\n"
   ]
  },
  {
   "cell_type": "code",
   "execution_count": null,
   "metadata": {},
   "outputs": [
    {
     "name": "stdout",
     "output_type": "stream",
     "text": [
      "6/6 [==============================] - 0s 4ms/step - loss: 0.1413 - accuracy: 0.9653\n",
      "Loss: 0.1412552446126938, Accuracy: 0.9653179049491882\n"
     ]
    }
   ],
   "source": [
    "# Evaluate the model\n",
    "loss, accuracy = model.evaluate([np.array(X_test['text_embeddings'].tolist()), X_test_scaled], y_test)\n",
    "print(f\"Loss: {loss}, Accuracy: {accuracy}\")"
   ]
  }
 ],
 "metadata": {
  "kernelspec": {
   "display_name": "Python 3",
   "language": "python",
   "name": "python3"
  },
  "language_info": {
   "codemirror_mode": {
    "name": "ipython",
    "version": 3
   },
   "file_extension": ".py",
   "mimetype": "text/x-python",
   "name": "python",
   "nbconvert_exporter": "python",
   "pygments_lexer": "ipython3",
   "version": "3.11.1"
  },
  "orig_nbformat": 4,
  "vscode": {
   "interpreter": {
    "hash": "24905e458ad4dc5a4619ab5330e2c95bb62fcc8cfba758a3e378b0342911d66f"
   }
  }
 },
 "nbformat": 4,
 "nbformat_minor": 2
}
