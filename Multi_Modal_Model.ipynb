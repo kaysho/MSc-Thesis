{
 "cells": [
  {
   "attachments": {},
   "cell_type": "markdown",
   "metadata": {},
   "source": [
    "# Multi modal model"
   ]
  },
  {
   "cell_type": "code",
   "execution_count": null,
   "metadata": {},
   "outputs": [],
   "source": [
    "%pip install yfinance\n",
    "%pip install nltk\n",
    "%pip install matplotlib\n",
    "%pip install seaborn\n",
    "%pip install wordcloud\n",
    "%pip install torchvision\n",
    "%pip install -U scikit-learn scipy matplotlib\n",
    "%pip install pytorch-lightning\n",
    "%pip install transformers"
   ]
  },
  {
   "cell_type": "code",
   "execution_count": 1,
   "metadata": {},
   "outputs": [
    {
     "name": "stderr",
     "output_type": "stream",
     "text": [
      "C:\\Users\\HP\\AppData\\Local\\Packages\\PythonSoftwareFoundation.Python.3.10_qbz5n2kfra8p0\\LocalCache\\local-packages\\Python310\\site-packages\\torchvision\\models\\detection\\anchor_utils.py:63: UserWarning: Failed to initialize NumPy: module compiled against API version 0x10 but this version of numpy is 0xf . Check the section C-API incompatibility at the Troubleshooting ImportError section at https://numpy.org/devdocs/user/troubleshooting-importerror.html#c-api-incompatibility for indications on how to solve this problem . (Triggered internally at ..\\torch\\csrc\\utils\\tensor_numpy.cpp:84.)\n",
      "  device: torch.device = torch.device(\"cpu\"),\n",
      "C:\\Users\\HP\\AppData\\Local\\Packages\\PythonSoftwareFoundation.Python.3.10_qbz5n2kfra8p0\\LocalCache\\local-packages\\Python310\\site-packages\\tqdm\\auto.py:22: TqdmWarning: IProgress not found. Please update jupyter and ipywidgets. See https://ipywidgets.readthedocs.io/en/stable/user_install.html\n",
      "  from .autonotebook import tqdm as notebook_tqdm\n",
      "[nltk_data] Downloading package words to\n",
      "[nltk_data]     C:\\Users\\HP\\AppData\\Roaming\\nltk_data...\n",
      "[nltk_data]   Package words is already up-to-date!\n"
     ]
    }
   ],
   "source": [
    "import yfinance as yf\n",
    "import numpy as np\n",
    "import pandas as pd\n",
    "import glob\n",
    "import re\n",
    "import nltk\n",
    "import nest_asyncio\n",
    "import matplotlib.pyplot as plt\n",
    "\n",
    "from calendar import monthrange\n",
    "import numpy as np\n",
    "import pandas as pd\n",
    "import seaborn as sns\n",
    "import re\n",
    "import pickle\n",
    "from datetime import datetime, timedelta, date\n",
    "import pytz\n",
    "import torch\n",
    "import torch.nn as nn\n",
    "import torch.utils.data as td\n",
    "import sklearn\n",
    "import pytorch_lightning as pl\n",
    "from typing import List, Optional\n",
    "\n",
    "from joblib import Parallel, delayed\n",
    "import joblib\n",
    "import nltk\n",
    "import matplotlib.pyplot as plt\n",
    "import numpy as np\n",
    "import seaborn as sns\n",
    "from nltk.corpus import stopwords\n",
    "from wordcloud import WordCloud, STOPWORDS, ImageColorGenerator\n",
    "from collections import defaultdict,Counter\n",
    "import re\n",
    "from sklearn.ensemble import RandomForestClassifier\n",
    "from sklearn.feature_extraction.text import TfidfVectorizer, CountVectorizer\n",
    "from nltk.stem import WordNetLemmatizer,PorterStemmer\n",
    "nltk.download('words')\n",
    "\n",
    "from transformers import BertTokenizer, BertModel\n",
    "import torch"
   ]
  },
  {
   "cell_type": "markdown",
   "metadata": {},
   "source": [
    "# Fetch financial record from 1st January 2015 - 31st May 2021"
   ]
  },
  {
   "cell_type": "code",
   "execution_count": 2,
   "metadata": {},
   "outputs": [
    {
     "name": "stdout",
     "output_type": "stream",
     "text": [
      "[*********************100%%**********************]  1 of 1 completed\n"
     ]
    }
   ],
   "source": [
    "start_date ='2014-12-31'\n",
    "end_date = '2021-05-31'\n",
    "price = yf.download(\"BTC-USD\", start=start_date, end=end_date)"
   ]
  },
  {
   "cell_type": "markdown",
   "metadata": {},
   "source": [
    "# Compute Lagged price"
   ]
  },
  {
   "cell_type": "code",
   "execution_count": 3,
   "metadata": {},
   "outputs": [
    {
     "data": {
      "text/html": [
       "<div>\n",
       "<style scoped>\n",
       "    .dataframe tbody tr th:only-of-type {\n",
       "        vertical-align: middle;\n",
       "    }\n",
       "\n",
       "    .dataframe tbody tr th {\n",
       "        vertical-align: top;\n",
       "    }\n",
       "\n",
       "    .dataframe thead th {\n",
       "        text-align: right;\n",
       "    }\n",
       "</style>\n",
       "<table border=\"1\" class=\"dataframe\">\n",
       "  <thead>\n",
       "    <tr style=\"text-align: right;\">\n",
       "      <th></th>\n",
       "      <th>Open</th>\n",
       "      <th>High</th>\n",
       "      <th>Low</th>\n",
       "      <th>Close</th>\n",
       "      <th>Adj Close</th>\n",
       "      <th>Volume</th>\n",
       "    </tr>\n",
       "    <tr>\n",
       "      <th>Date</th>\n",
       "      <th></th>\n",
       "      <th></th>\n",
       "      <th></th>\n",
       "      <th></th>\n",
       "      <th></th>\n",
       "      <th></th>\n",
       "    </tr>\n",
       "  </thead>\n",
       "  <tbody>\n",
       "    <tr>\n",
       "      <th>2014-12-31</th>\n",
       "      <td>310.914001</td>\n",
       "      <td>320.192993</td>\n",
       "      <td>310.210999</td>\n",
       "      <td>320.192993</td>\n",
       "      <td>320.192993</td>\n",
       "      <td>13942900</td>\n",
       "    </tr>\n",
       "    <tr>\n",
       "      <th>2015-01-01</th>\n",
       "      <td>320.434998</td>\n",
       "      <td>320.434998</td>\n",
       "      <td>314.002991</td>\n",
       "      <td>314.248993</td>\n",
       "      <td>314.248993</td>\n",
       "      <td>8036550</td>\n",
       "    </tr>\n",
       "    <tr>\n",
       "      <th>2015-01-02</th>\n",
       "      <td>314.079010</td>\n",
       "      <td>315.838989</td>\n",
       "      <td>313.565002</td>\n",
       "      <td>315.032013</td>\n",
       "      <td>315.032013</td>\n",
       "      <td>7860650</td>\n",
       "    </tr>\n",
       "    <tr>\n",
       "      <th>2015-01-03</th>\n",
       "      <td>314.846008</td>\n",
       "      <td>315.149994</td>\n",
       "      <td>281.082001</td>\n",
       "      <td>281.082001</td>\n",
       "      <td>281.082001</td>\n",
       "      <td>33054400</td>\n",
       "    </tr>\n",
       "    <tr>\n",
       "      <th>2015-01-04</th>\n",
       "      <td>281.145996</td>\n",
       "      <td>287.230011</td>\n",
       "      <td>257.612000</td>\n",
       "      <td>264.195007</td>\n",
       "      <td>264.195007</td>\n",
       "      <td>55629100</td>\n",
       "    </tr>\n",
       "  </tbody>\n",
       "</table>\n",
       "</div>"
      ],
      "text/plain": [
       "                  Open        High         Low       Close   Adj Close  \\\n",
       "Date                                                                     \n",
       "2014-12-31  310.914001  320.192993  310.210999  320.192993  320.192993   \n",
       "2015-01-01  320.434998  320.434998  314.002991  314.248993  314.248993   \n",
       "2015-01-02  314.079010  315.838989  313.565002  315.032013  315.032013   \n",
       "2015-01-03  314.846008  315.149994  281.082001  281.082001  281.082001   \n",
       "2015-01-04  281.145996  287.230011  257.612000  264.195007  264.195007   \n",
       "\n",
       "              Volume  \n",
       "Date                  \n",
       "2014-12-31  13942900  \n",
       "2015-01-01   8036550  \n",
       "2015-01-02   7860650  \n",
       "2015-01-03  33054400  \n",
       "2015-01-04  55629100  "
      ]
     },
     "execution_count": 3,
     "metadata": {},
     "output_type": "execute_result"
    }
   ],
   "source": [
    "price.head()"
   ]
  },
  {
   "cell_type": "code",
   "execution_count": 4,
   "metadata": {},
   "outputs": [],
   "source": [
    "price=price.reset_index()"
   ]
  },
  {
   "cell_type": "code",
   "execution_count": 5,
   "metadata": {},
   "outputs": [],
   "source": [
    "# Due to the high volatility nature of crypto currency we chose a 1 day lag\n",
    "\n",
    "lag = 1  # Number of lags\n",
    "price['Close Lagged Price'] = price['Close'].shift(lag)"
   ]
  },
  {
   "cell_type": "code",
   "execution_count": 6,
   "metadata": {},
   "outputs": [
    {
     "data": {
      "text/html": [
       "<div>\n",
       "<style scoped>\n",
       "    .dataframe tbody tr th:only-of-type {\n",
       "        vertical-align: middle;\n",
       "    }\n",
       "\n",
       "    .dataframe tbody tr th {\n",
       "        vertical-align: top;\n",
       "    }\n",
       "\n",
       "    .dataframe thead th {\n",
       "        text-align: right;\n",
       "    }\n",
       "</style>\n",
       "<table border=\"1\" class=\"dataframe\">\n",
       "  <thead>\n",
       "    <tr style=\"text-align: right;\">\n",
       "      <th></th>\n",
       "      <th>Date</th>\n",
       "      <th>Open</th>\n",
       "      <th>High</th>\n",
       "      <th>Low</th>\n",
       "      <th>Close</th>\n",
       "      <th>Adj Close</th>\n",
       "      <th>Volume</th>\n",
       "      <th>Close Lagged Price</th>\n",
       "    </tr>\n",
       "  </thead>\n",
       "  <tbody>\n",
       "    <tr>\n",
       "      <th>0</th>\n",
       "      <td>2014-12-31</td>\n",
       "      <td>310.914001</td>\n",
       "      <td>320.192993</td>\n",
       "      <td>310.210999</td>\n",
       "      <td>320.192993</td>\n",
       "      <td>320.192993</td>\n",
       "      <td>13942900</td>\n",
       "      <td>NaN</td>\n",
       "    </tr>\n",
       "    <tr>\n",
       "      <th>1</th>\n",
       "      <td>2015-01-01</td>\n",
       "      <td>320.434998</td>\n",
       "      <td>320.434998</td>\n",
       "      <td>314.002991</td>\n",
       "      <td>314.248993</td>\n",
       "      <td>314.248993</td>\n",
       "      <td>8036550</td>\n",
       "      <td>320.192993</td>\n",
       "    </tr>\n",
       "    <tr>\n",
       "      <th>2</th>\n",
       "      <td>2015-01-02</td>\n",
       "      <td>314.079010</td>\n",
       "      <td>315.838989</td>\n",
       "      <td>313.565002</td>\n",
       "      <td>315.032013</td>\n",
       "      <td>315.032013</td>\n",
       "      <td>7860650</td>\n",
       "      <td>314.248993</td>\n",
       "    </tr>\n",
       "    <tr>\n",
       "      <th>3</th>\n",
       "      <td>2015-01-03</td>\n",
       "      <td>314.846008</td>\n",
       "      <td>315.149994</td>\n",
       "      <td>281.082001</td>\n",
       "      <td>281.082001</td>\n",
       "      <td>281.082001</td>\n",
       "      <td>33054400</td>\n",
       "      <td>315.032013</td>\n",
       "    </tr>\n",
       "    <tr>\n",
       "      <th>4</th>\n",
       "      <td>2015-01-04</td>\n",
       "      <td>281.145996</td>\n",
       "      <td>287.230011</td>\n",
       "      <td>257.612000</td>\n",
       "      <td>264.195007</td>\n",
       "      <td>264.195007</td>\n",
       "      <td>55629100</td>\n",
       "      <td>281.082001</td>\n",
       "    </tr>\n",
       "  </tbody>\n",
       "</table>\n",
       "</div>"
      ],
      "text/plain": [
       "        Date        Open        High         Low       Close   Adj Close  \\\n",
       "0 2014-12-31  310.914001  320.192993  310.210999  320.192993  320.192993   \n",
       "1 2015-01-01  320.434998  320.434998  314.002991  314.248993  314.248993   \n",
       "2 2015-01-02  314.079010  315.838989  313.565002  315.032013  315.032013   \n",
       "3 2015-01-03  314.846008  315.149994  281.082001  281.082001  281.082001   \n",
       "4 2015-01-04  281.145996  287.230011  257.612000  264.195007  264.195007   \n",
       "\n",
       "     Volume  Close Lagged Price  \n",
       "0  13942900                 NaN  \n",
       "1   8036550          320.192993  \n",
       "2   7860650          314.248993  \n",
       "3  33054400          315.032013  \n",
       "4  55629100          281.082001  "
      ]
     },
     "execution_count": 6,
     "metadata": {},
     "output_type": "execute_result"
    }
   ],
   "source": [
    "price.head()"
   ]
  },
  {
   "cell_type": "code",
   "execution_count": 7,
   "metadata": {},
   "outputs": [
    {
     "data": {
      "text/plain": [
       "(2343, 8)"
      ]
     },
     "execution_count": 7,
     "metadata": {},
     "output_type": "execute_result"
    }
   ],
   "source": [
    "price.shape"
   ]
  },
  {
   "cell_type": "code",
   "execution_count": 8,
   "metadata": {},
   "outputs": [
    {
     "name": "stdout",
     "output_type": "stream",
     "text": [
      "<class 'pandas.core.frame.DataFrame'>\n",
      "RangeIndex: 2343 entries, 0 to 2342\n",
      "Data columns (total 8 columns):\n",
      " #   Column              Non-Null Count  Dtype         \n",
      "---  ------              --------------  -----         \n",
      " 0   Date                2343 non-null   datetime64[ns]\n",
      " 1   Open                2343 non-null   float64       \n",
      " 2   High                2343 non-null   float64       \n",
      " 3   Low                 2343 non-null   float64       \n",
      " 4   Close               2343 non-null   float64       \n",
      " 5   Adj Close           2343 non-null   float64       \n",
      " 6   Volume              2343 non-null   int64         \n",
      " 7   Close Lagged Price  2342 non-null   float64       \n",
      "dtypes: datetime64[ns](1), float64(6), int64(1)\n",
      "memory usage: 146.6 KB\n"
     ]
    }
   ],
   "source": [
    "price.info()"
   ]
  },
  {
   "cell_type": "code",
   "execution_count": 9,
   "metadata": {},
   "outputs": [
    {
     "data": {
      "text/html": [
       "<div>\n",
       "<style scoped>\n",
       "    .dataframe tbody tr th:only-of-type {\n",
       "        vertical-align: middle;\n",
       "    }\n",
       "\n",
       "    .dataframe tbody tr th {\n",
       "        vertical-align: top;\n",
       "    }\n",
       "\n",
       "    .dataframe thead th {\n",
       "        text-align: right;\n",
       "    }\n",
       "</style>\n",
       "<table border=\"1\" class=\"dataframe\">\n",
       "  <thead>\n",
       "    <tr style=\"text-align: right;\">\n",
       "      <th></th>\n",
       "      <th>Date</th>\n",
       "      <th>Open</th>\n",
       "      <th>High</th>\n",
       "      <th>Low</th>\n",
       "      <th>Close</th>\n",
       "      <th>Adj Close</th>\n",
       "      <th>Volume</th>\n",
       "      <th>Close Lagged Price</th>\n",
       "    </tr>\n",
       "  </thead>\n",
       "  <tbody>\n",
       "    <tr>\n",
       "      <th>0</th>\n",
       "      <td>2014-12-31</td>\n",
       "      <td>310.914001</td>\n",
       "      <td>320.192993</td>\n",
       "      <td>310.210999</td>\n",
       "      <td>320.192993</td>\n",
       "      <td>320.192993</td>\n",
       "      <td>13942900</td>\n",
       "      <td>NaN</td>\n",
       "    </tr>\n",
       "    <tr>\n",
       "      <th>1</th>\n",
       "      <td>2015-01-01</td>\n",
       "      <td>320.434998</td>\n",
       "      <td>320.434998</td>\n",
       "      <td>314.002991</td>\n",
       "      <td>314.248993</td>\n",
       "      <td>314.248993</td>\n",
       "      <td>8036550</td>\n",
       "      <td>320.192993</td>\n",
       "    </tr>\n",
       "    <tr>\n",
       "      <th>2</th>\n",
       "      <td>2015-01-02</td>\n",
       "      <td>314.079010</td>\n",
       "      <td>315.838989</td>\n",
       "      <td>313.565002</td>\n",
       "      <td>315.032013</td>\n",
       "      <td>315.032013</td>\n",
       "      <td>7860650</td>\n",
       "      <td>314.248993</td>\n",
       "    </tr>\n",
       "    <tr>\n",
       "      <th>3</th>\n",
       "      <td>2015-01-03</td>\n",
       "      <td>314.846008</td>\n",
       "      <td>315.149994</td>\n",
       "      <td>281.082001</td>\n",
       "      <td>281.082001</td>\n",
       "      <td>281.082001</td>\n",
       "      <td>33054400</td>\n",
       "      <td>315.032013</td>\n",
       "    </tr>\n",
       "    <tr>\n",
       "      <th>4</th>\n",
       "      <td>2015-01-04</td>\n",
       "      <td>281.145996</td>\n",
       "      <td>287.230011</td>\n",
       "      <td>257.612000</td>\n",
       "      <td>264.195007</td>\n",
       "      <td>264.195007</td>\n",
       "      <td>55629100</td>\n",
       "      <td>281.082001</td>\n",
       "    </tr>\n",
       "  </tbody>\n",
       "</table>\n",
       "</div>"
      ],
      "text/plain": [
       "        Date        Open        High         Low       Close   Adj Close  \\\n",
       "0 2014-12-31  310.914001  320.192993  310.210999  320.192993  320.192993   \n",
       "1 2015-01-01  320.434998  320.434998  314.002991  314.248993  314.248993   \n",
       "2 2015-01-02  314.079010  315.838989  313.565002  315.032013  315.032013   \n",
       "3 2015-01-03  314.846008  315.149994  281.082001  281.082001  281.082001   \n",
       "4 2015-01-04  281.145996  287.230011  257.612000  264.195007  264.195007   \n",
       "\n",
       "     Volume  Close Lagged Price  \n",
       "0  13942900                 NaN  \n",
       "1   8036550          320.192993  \n",
       "2   7860650          314.248993  \n",
       "3  33054400          315.032013  \n",
       "4  55629100          281.082001  "
      ]
     },
     "execution_count": 9,
     "metadata": {},
     "output_type": "execute_result"
    }
   ],
   "source": [
    "price.head()"
   ]
  },
  {
   "cell_type": "markdown",
   "metadata": {},
   "source": [
    "# Compute moving average"
   ]
  },
  {
   "cell_type": "code",
   "execution_count": 10,
   "metadata": {},
   "outputs": [],
   "source": [
    "# We will compute 7, 14, 21 simple moving average moving average \n",
    "\n",
    "price['sma7'] = price['Close'].rolling(window=7).mean()\n",
    "price['sma14'] = price['Close'].rolling(window=14).mean()\n",
    "price['sma21'] = price['Close'].rolling(window=21).mean()\n",
    "\n",
    "\n",
    "price['ema12'] = price['Close'].ewm(span=12, adjust=False).mean()\n",
    "price['ema26'] = price['Close'].ewm(span=26, adjust=False).mean()\n",
    "\n",
    "# Calculate MACD Line\n",
    "price['MACD line'] = price['ema12'] - price['ema26']\n",
    "\n",
    "# Calculate Signal Line\n",
    "price['Signal line'] = price['MACD line'].ewm(span=9, adjust=False).mean()\n",
    "\n",
    "# Calculate MACD Histogram\n",
    "price['MACD histogram'] = price['MACD line'] - price['Signal line']\n"
   ]
  },
  {
   "cell_type": "code",
   "execution_count": 11,
   "metadata": {},
   "outputs": [],
   "source": [
    "\n",
    "price['Date']=price.Date.apply (lambda x : str(x)[:10])"
   ]
  },
  {
   "cell_type": "code",
   "execution_count": 12,
   "metadata": {},
   "outputs": [],
   "source": [
    "price_2= price.Close.to_frame()\n",
    "\n",
    "price['change']=price_2.apply(lambda x: x/x.shift(1)-1)\n",
    "price['log_change']=price_2.apply(lambda x: np.log(x)-np.log(x.shift(1)))\n",
    "price['change_label']=price['change'].apply (lambda x: x>0)"
   ]
  },
  {
   "cell_type": "code",
   "execution_count": 13,
   "metadata": {},
   "outputs": [
    {
     "data": {
      "text/html": [
       "<div>\n",
       "<style scoped>\n",
       "    .dataframe tbody tr th:only-of-type {\n",
       "        vertical-align: middle;\n",
       "    }\n",
       "\n",
       "    .dataframe tbody tr th {\n",
       "        vertical-align: top;\n",
       "    }\n",
       "\n",
       "    .dataframe thead th {\n",
       "        text-align: right;\n",
       "    }\n",
       "</style>\n",
       "<table border=\"1\" class=\"dataframe\">\n",
       "  <thead>\n",
       "    <tr style=\"text-align: right;\">\n",
       "      <th></th>\n",
       "      <th>Date</th>\n",
       "      <th>Open</th>\n",
       "      <th>High</th>\n",
       "      <th>Low</th>\n",
       "      <th>Close</th>\n",
       "      <th>Adj Close</th>\n",
       "      <th>Volume</th>\n",
       "      <th>Close Lagged Price</th>\n",
       "      <th>sma7</th>\n",
       "      <th>sma14</th>\n",
       "      <th>sma21</th>\n",
       "      <th>ema12</th>\n",
       "      <th>ema26</th>\n",
       "      <th>MACD line</th>\n",
       "      <th>Signal line</th>\n",
       "      <th>MACD histogram</th>\n",
       "      <th>change</th>\n",
       "      <th>log_change</th>\n",
       "      <th>change_label</th>\n",
       "    </tr>\n",
       "  </thead>\n",
       "  <tbody>\n",
       "    <tr>\n",
       "      <th>0</th>\n",
       "      <td>2014-12-31</td>\n",
       "      <td>310.914001</td>\n",
       "      <td>320.192993</td>\n",
       "      <td>310.210999</td>\n",
       "      <td>320.192993</td>\n",
       "      <td>320.192993</td>\n",
       "      <td>13942900</td>\n",
       "      <td>NaN</td>\n",
       "      <td>NaN</td>\n",
       "      <td>NaN</td>\n",
       "      <td>NaN</td>\n",
       "      <td>320.192993</td>\n",
       "      <td>320.192993</td>\n",
       "      <td>0.000000</td>\n",
       "      <td>0.000000</td>\n",
       "      <td>0.000000</td>\n",
       "      <td>NaN</td>\n",
       "      <td>NaN</td>\n",
       "      <td>False</td>\n",
       "    </tr>\n",
       "    <tr>\n",
       "      <th>1</th>\n",
       "      <td>2015-01-01</td>\n",
       "      <td>320.434998</td>\n",
       "      <td>320.434998</td>\n",
       "      <td>314.002991</td>\n",
       "      <td>314.248993</td>\n",
       "      <td>314.248993</td>\n",
       "      <td>8036550</td>\n",
       "      <td>320.192993</td>\n",
       "      <td>NaN</td>\n",
       "      <td>NaN</td>\n",
       "      <td>NaN</td>\n",
       "      <td>319.278532</td>\n",
       "      <td>319.752697</td>\n",
       "      <td>-0.474165</td>\n",
       "      <td>-0.094833</td>\n",
       "      <td>-0.379332</td>\n",
       "      <td>-0.018564</td>\n",
       "      <td>-0.018738</td>\n",
       "      <td>False</td>\n",
       "    </tr>\n",
       "    <tr>\n",
       "      <th>2</th>\n",
       "      <td>2015-01-02</td>\n",
       "      <td>314.079010</td>\n",
       "      <td>315.838989</td>\n",
       "      <td>313.565002</td>\n",
       "      <td>315.032013</td>\n",
       "      <td>315.032013</td>\n",
       "      <td>7860650</td>\n",
       "      <td>314.248993</td>\n",
       "      <td>NaN</td>\n",
       "      <td>NaN</td>\n",
       "      <td>NaN</td>\n",
       "      <td>318.625221</td>\n",
       "      <td>319.403017</td>\n",
       "      <td>-0.777796</td>\n",
       "      <td>-0.231426</td>\n",
       "      <td>-0.546370</td>\n",
       "      <td>0.002492</td>\n",
       "      <td>0.002489</td>\n",
       "      <td>True</td>\n",
       "    </tr>\n",
       "    <tr>\n",
       "      <th>3</th>\n",
       "      <td>2015-01-03</td>\n",
       "      <td>314.846008</td>\n",
       "      <td>315.149994</td>\n",
       "      <td>281.082001</td>\n",
       "      <td>281.082001</td>\n",
       "      <td>281.082001</td>\n",
       "      <td>33054400</td>\n",
       "      <td>315.032013</td>\n",
       "      <td>NaN</td>\n",
       "      <td>NaN</td>\n",
       "      <td>NaN</td>\n",
       "      <td>312.849341</td>\n",
       "      <td>316.564423</td>\n",
       "      <td>-3.715082</td>\n",
       "      <td>-0.928157</td>\n",
       "      <td>-2.786925</td>\n",
       "      <td>-0.107767</td>\n",
       "      <td>-0.114028</td>\n",
       "      <td>False</td>\n",
       "    </tr>\n",
       "    <tr>\n",
       "      <th>4</th>\n",
       "      <td>2015-01-04</td>\n",
       "      <td>281.145996</td>\n",
       "      <td>287.230011</td>\n",
       "      <td>257.612000</td>\n",
       "      <td>264.195007</td>\n",
       "      <td>264.195007</td>\n",
       "      <td>55629100</td>\n",
       "      <td>281.082001</td>\n",
       "      <td>NaN</td>\n",
       "      <td>NaN</td>\n",
       "      <td>NaN</td>\n",
       "      <td>305.364059</td>\n",
       "      <td>312.685207</td>\n",
       "      <td>-7.321148</td>\n",
       "      <td>-2.206755</td>\n",
       "      <td>-5.114393</td>\n",
       "      <td>-0.060079</td>\n",
       "      <td>-0.061959</td>\n",
       "      <td>False</td>\n",
       "    </tr>\n",
       "  </tbody>\n",
       "</table>\n",
       "</div>"
      ],
      "text/plain": [
       "         Date        Open        High         Low       Close   Adj Close  \\\n",
       "0  2014-12-31  310.914001  320.192993  310.210999  320.192993  320.192993   \n",
       "1  2015-01-01  320.434998  320.434998  314.002991  314.248993  314.248993   \n",
       "2  2015-01-02  314.079010  315.838989  313.565002  315.032013  315.032013   \n",
       "3  2015-01-03  314.846008  315.149994  281.082001  281.082001  281.082001   \n",
       "4  2015-01-04  281.145996  287.230011  257.612000  264.195007  264.195007   \n",
       "\n",
       "     Volume  Close Lagged Price  sma7  sma14  sma21       ema12       ema26  \\\n",
       "0  13942900                 NaN   NaN    NaN    NaN  320.192993  320.192993   \n",
       "1   8036550          320.192993   NaN    NaN    NaN  319.278532  319.752697   \n",
       "2   7860650          314.248993   NaN    NaN    NaN  318.625221  319.403017   \n",
       "3  33054400          315.032013   NaN    NaN    NaN  312.849341  316.564423   \n",
       "4  55629100          281.082001   NaN    NaN    NaN  305.364059  312.685207   \n",
       "\n",
       "   MACD line  Signal line  MACD histogram    change  log_change  change_label  \n",
       "0   0.000000     0.000000        0.000000       NaN         NaN         False  \n",
       "1  -0.474165    -0.094833       -0.379332 -0.018564   -0.018738         False  \n",
       "2  -0.777796    -0.231426       -0.546370  0.002492    0.002489          True  \n",
       "3  -3.715082    -0.928157       -2.786925 -0.107767   -0.114028         False  \n",
       "4  -7.321148    -2.206755       -5.114393 -0.060079   -0.061959         False  "
      ]
     },
     "execution_count": 13,
     "metadata": {},
     "output_type": "execute_result"
    }
   ],
   "source": [
    "price.head()"
   ]
  },
  {
   "cell_type": "code",
   "execution_count": 14,
   "metadata": {},
   "outputs": [
    {
     "data": {
      "text/plain": [
       "(2343, 19)"
      ]
     },
     "execution_count": 14,
     "metadata": {},
     "output_type": "execute_result"
    }
   ],
   "source": [
    "price.shape"
   ]
  },
  {
   "cell_type": "code",
   "execution_count": 15,
   "metadata": {},
   "outputs": [],
   "source": [
    "window = 14  # Number of periods for RSI calculation\n",
    "\n",
    "# Calculate price changes\n",
    "delta = price['Close'].diff()\n",
    "\n",
    "# Calculate gains and losses\n",
    "gain = delta.where(delta > 0, 0)\n",
    "loss = -delta.where(delta < 0, 0)\n",
    "\n",
    "# Calculate average gains and losses\n",
    "avg_gain = gain.rolling(window=window).mean()\n",
    "avg_loss = loss.rolling(window=window).mean()\n",
    "\n",
    "# Calculate relative strength (RS) and RSI\n",
    "rs = avg_gain / avg_loss\n",
    "rsi = 100 - (100 / (1 + rs))\n",
    "\n",
    "price['rsi'] = rsi\n"
   ]
  },
  {
   "cell_type": "code",
   "execution_count": 16,
   "metadata": {},
   "outputs": [
    {
     "data": {
      "text/plain": [
       "(2343, 20)"
      ]
     },
     "execution_count": 16,
     "metadata": {},
     "output_type": "execute_result"
    }
   ],
   "source": [
    "price.shape"
   ]
  },
  {
   "cell_type": "code",
   "execution_count": 17,
   "metadata": {},
   "outputs": [
    {
     "data": {
      "text/html": [
       "<div>\n",
       "<style scoped>\n",
       "    .dataframe tbody tr th:only-of-type {\n",
       "        vertical-align: middle;\n",
       "    }\n",
       "\n",
       "    .dataframe tbody tr th {\n",
       "        vertical-align: top;\n",
       "    }\n",
       "\n",
       "    .dataframe thead th {\n",
       "        text-align: right;\n",
       "    }\n",
       "</style>\n",
       "<table border=\"1\" class=\"dataframe\">\n",
       "  <thead>\n",
       "    <tr style=\"text-align: right;\">\n",
       "      <th></th>\n",
       "      <th>Date</th>\n",
       "      <th>Open</th>\n",
       "      <th>High</th>\n",
       "      <th>Low</th>\n",
       "      <th>Close</th>\n",
       "      <th>Adj Close</th>\n",
       "      <th>Volume</th>\n",
       "      <th>Close Lagged Price</th>\n",
       "      <th>sma7</th>\n",
       "      <th>sma14</th>\n",
       "      <th>sma21</th>\n",
       "      <th>ema12</th>\n",
       "      <th>ema26</th>\n",
       "      <th>MACD line</th>\n",
       "      <th>Signal line</th>\n",
       "      <th>MACD histogram</th>\n",
       "      <th>change</th>\n",
       "      <th>log_change</th>\n",
       "      <th>change_label</th>\n",
       "      <th>rsi</th>\n",
       "    </tr>\n",
       "  </thead>\n",
       "  <tbody>\n",
       "    <tr>\n",
       "      <th>2338</th>\n",
       "      <td>2021-05-26</td>\n",
       "      <td>38392.625000</td>\n",
       "      <td>40782.078125</td>\n",
       "      <td>37905.835938</td>\n",
       "      <td>39294.199219</td>\n",
       "      <td>39294.199219</td>\n",
       "      <td>51346735160</td>\n",
       "      <td>38402.222656</td>\n",
       "      <td>38113.863839</td>\n",
       "      <td>41647.098214</td>\n",
       "      <td>46455.394903</td>\n",
       "      <td>41038.820893</td>\n",
       "      <td>45730.196464</td>\n",
       "      <td>-4691.375571</td>\n",
       "      <td>-4177.557784</td>\n",
       "      <td>-513.817788</td>\n",
       "      <td>0.023227</td>\n",
       "      <td>0.022962</td>\n",
       "      <td>True</td>\n",
       "      <td>33.003717</td>\n",
       "    </tr>\n",
       "    <tr>\n",
       "      <th>2339</th>\n",
       "      <td>2021-05-27</td>\n",
       "      <td>39316.890625</td>\n",
       "      <td>40379.617188</td>\n",
       "      <td>37247.902344</td>\n",
       "      <td>38436.968750</td>\n",
       "      <td>38436.968750</td>\n",
       "      <td>43210968721</td>\n",
       "      <td>39294.199219</td>\n",
       "      <td>37778.753906</td>\n",
       "      <td>40841.439453</td>\n",
       "      <td>45600.178385</td>\n",
       "      <td>40638.535948</td>\n",
       "      <td>45189.957374</td>\n",
       "      <td>-4551.421426</td>\n",
       "      <td>-4252.330512</td>\n",
       "      <td>-299.090914</td>\n",
       "      <td>-0.021816</td>\n",
       "      <td>-0.022057</td>\n",
       "      <td>False</td>\n",
       "      <td>30.743726</td>\n",
       "    </tr>\n",
       "    <tr>\n",
       "      <th>2340</th>\n",
       "      <td>2021-05-28</td>\n",
       "      <td>38507.082031</td>\n",
       "      <td>38856.968750</td>\n",
       "      <td>34779.039062</td>\n",
       "      <td>35697.605469</td>\n",
       "      <td>35697.605469</td>\n",
       "      <td>55200191952</td>\n",
       "      <td>38436.968750</td>\n",
       "      <td>37549.170201</td>\n",
       "      <td>39828.373047</td>\n",
       "      <td>44568.807106</td>\n",
       "      <td>39878.392797</td>\n",
       "      <td>44486.820196</td>\n",
       "      <td>-4608.427399</td>\n",
       "      <td>-4323.549889</td>\n",
       "      <td>-284.877509</td>\n",
       "      <td>-0.071269</td>\n",
       "      <td>-0.073936</td>\n",
       "      <td>False</td>\n",
       "      <td>27.743299</td>\n",
       "    </tr>\n",
       "    <tr>\n",
       "      <th>2341</th>\n",
       "      <td>2021-05-29</td>\n",
       "      <td>35684.156250</td>\n",
       "      <td>37234.500000</td>\n",
       "      <td>33693.929688</td>\n",
       "      <td>34616.066406</td>\n",
       "      <td>34616.066406</td>\n",
       "      <td>45231013335</td>\n",
       "      <td>35697.605469</td>\n",
       "      <td>37131.946429</td>\n",
       "      <td>38960.935826</td>\n",
       "      <td>43417.011347</td>\n",
       "      <td>39068.804122</td>\n",
       "      <td>43755.653248</td>\n",
       "      <td>-4686.849127</td>\n",
       "      <td>-4396.209737</td>\n",
       "      <td>-290.639390</td>\n",
       "      <td>-0.030297</td>\n",
       "      <td>-0.030766</td>\n",
       "      <td>False</td>\n",
       "      <td>29.639910</td>\n",
       "    </tr>\n",
       "    <tr>\n",
       "      <th>2342</th>\n",
       "      <td>2021-05-30</td>\n",
       "      <td>34607.406250</td>\n",
       "      <td>36400.667969</td>\n",
       "      <td>33520.738281</td>\n",
       "      <td>35678.128906</td>\n",
       "      <td>35678.128906</td>\n",
       "      <td>31646080921</td>\n",
       "      <td>34616.066406</td>\n",
       "      <td>37261.595982</td>\n",
       "      <td>38191.083705</td>\n",
       "      <td>42343.002418</td>\n",
       "      <td>38547.161781</td>\n",
       "      <td>43157.318112</td>\n",
       "      <td>-4610.156331</td>\n",
       "      <td>-4438.999056</td>\n",
       "      <td>-171.157275</td>\n",
       "      <td>0.030681</td>\n",
       "      <td>0.030220</td>\n",
       "      <td>True</td>\n",
       "      <td>32.378224</td>\n",
       "    </tr>\n",
       "  </tbody>\n",
       "</table>\n",
       "</div>"
      ],
      "text/plain": [
       "            Date          Open          High           Low         Close  \\\n",
       "2338  2021-05-26  38392.625000  40782.078125  37905.835938  39294.199219   \n",
       "2339  2021-05-27  39316.890625  40379.617188  37247.902344  38436.968750   \n",
       "2340  2021-05-28  38507.082031  38856.968750  34779.039062  35697.605469   \n",
       "2341  2021-05-29  35684.156250  37234.500000  33693.929688  34616.066406   \n",
       "2342  2021-05-30  34607.406250  36400.667969  33520.738281  35678.128906   \n",
       "\n",
       "         Adj Close       Volume  Close Lagged Price          sma7  \\\n",
       "2338  39294.199219  51346735160        38402.222656  38113.863839   \n",
       "2339  38436.968750  43210968721        39294.199219  37778.753906   \n",
       "2340  35697.605469  55200191952        38436.968750  37549.170201   \n",
       "2341  34616.066406  45231013335        35697.605469  37131.946429   \n",
       "2342  35678.128906  31646080921        34616.066406  37261.595982   \n",
       "\n",
       "             sma14         sma21         ema12         ema26    MACD line  \\\n",
       "2338  41647.098214  46455.394903  41038.820893  45730.196464 -4691.375571   \n",
       "2339  40841.439453  45600.178385  40638.535948  45189.957374 -4551.421426   \n",
       "2340  39828.373047  44568.807106  39878.392797  44486.820196 -4608.427399   \n",
       "2341  38960.935826  43417.011347  39068.804122  43755.653248 -4686.849127   \n",
       "2342  38191.083705  42343.002418  38547.161781  43157.318112 -4610.156331   \n",
       "\n",
       "      Signal line  MACD histogram    change  log_change  change_label  \\\n",
       "2338 -4177.557784     -513.817788  0.023227    0.022962          True   \n",
       "2339 -4252.330512     -299.090914 -0.021816   -0.022057         False   \n",
       "2340 -4323.549889     -284.877509 -0.071269   -0.073936         False   \n",
       "2341 -4396.209737     -290.639390 -0.030297   -0.030766         False   \n",
       "2342 -4438.999056     -171.157275  0.030681    0.030220          True   \n",
       "\n",
       "            rsi  \n",
       "2338  33.003717  \n",
       "2339  30.743726  \n",
       "2340  27.743299  \n",
       "2341  29.639910  \n",
       "2342  32.378224  "
      ]
     },
     "execution_count": 17,
     "metadata": {},
     "output_type": "execute_result"
    }
   ],
   "source": [
    "price.tail(5)"
   ]
  },
  {
   "cell_type": "code",
   "execution_count": 18,
   "metadata": {},
   "outputs": [
    {
     "data": {
      "text/html": [
       "<div>\n",
       "<style scoped>\n",
       "    .dataframe tbody tr th:only-of-type {\n",
       "        vertical-align: middle;\n",
       "    }\n",
       "\n",
       "    .dataframe tbody tr th {\n",
       "        vertical-align: top;\n",
       "    }\n",
       "\n",
       "    .dataframe thead th {\n",
       "        text-align: right;\n",
       "    }\n",
       "</style>\n",
       "<table border=\"1\" class=\"dataframe\">\n",
       "  <thead>\n",
       "    <tr style=\"text-align: right;\">\n",
       "      <th></th>\n",
       "      <th>Date</th>\n",
       "      <th>Open</th>\n",
       "      <th>High</th>\n",
       "      <th>Low</th>\n",
       "      <th>Close</th>\n",
       "      <th>Adj Close</th>\n",
       "      <th>Volume</th>\n",
       "      <th>Close Lagged Price</th>\n",
       "      <th>sma7</th>\n",
       "      <th>sma14</th>\n",
       "      <th>sma21</th>\n",
       "      <th>ema12</th>\n",
       "      <th>ema26</th>\n",
       "      <th>MACD line</th>\n",
       "      <th>Signal line</th>\n",
       "      <th>MACD histogram</th>\n",
       "      <th>change</th>\n",
       "      <th>log_change</th>\n",
       "      <th>change_label</th>\n",
       "      <th>rsi</th>\n",
       "    </tr>\n",
       "  </thead>\n",
       "  <tbody>\n",
       "    <tr>\n",
       "      <th>20</th>\n",
       "      <td>2015-01-20</td>\n",
       "      <td>212.906998</td>\n",
       "      <td>215.240997</td>\n",
       "      <td>205.153000</td>\n",
       "      <td>211.315002</td>\n",
       "      <td>211.315002</td>\n",
       "      <td>24051100</td>\n",
       "      <td>214.860992</td>\n",
       "      <td>204.545569</td>\n",
       "      <td>238.144711</td>\n",
       "      <td>256.639998</td>\n",
       "      <td>228.277491</td>\n",
       "      <td>255.913627</td>\n",
       "      <td>-27.636136</td>\n",
       "      <td>-23.893678</td>\n",
       "      <td>-3.742459</td>\n",
       "      <td>-0.016504</td>\n",
       "      <td>-0.016641</td>\n",
       "      <td>False</td>\n",
       "      <td>31.670451</td>\n",
       "    </tr>\n",
       "    <tr>\n",
       "      <th>21</th>\n",
       "      <td>2015-01-21</td>\n",
       "      <td>211.378006</td>\n",
       "      <td>227.787994</td>\n",
       "      <td>211.212006</td>\n",
       "      <td>226.897003</td>\n",
       "      <td>226.897003</td>\n",
       "      <td>29924600</td>\n",
       "      <td>211.315002</td>\n",
       "      <td>211.516142</td>\n",
       "      <td>233.327568</td>\n",
       "      <td>252.197332</td>\n",
       "      <td>228.065108</td>\n",
       "      <td>253.764247</td>\n",
       "      <td>-25.699140</td>\n",
       "      <td>-24.254770</td>\n",
       "      <td>-1.444369</td>\n",
       "      <td>0.073738</td>\n",
       "      <td>0.071146</td>\n",
       "      <td>True</td>\n",
       "      <td>34.070140</td>\n",
       "    </tr>\n",
       "    <tr>\n",
       "      <th>22</th>\n",
       "      <td>2015-01-22</td>\n",
       "      <td>227.322006</td>\n",
       "      <td>237.018997</td>\n",
       "      <td>226.434006</td>\n",
       "      <td>233.406006</td>\n",
       "      <td>233.406006</td>\n",
       "      <td>33544600</td>\n",
       "      <td>226.897003</td>\n",
       "      <td>214.882143</td>\n",
       "      <td>229.760211</td>\n",
       "      <td>248.347666</td>\n",
       "      <td>228.886784</td>\n",
       "      <td>252.256230</td>\n",
       "      <td>-23.369445</td>\n",
       "      <td>-24.077705</td>\n",
       "      <td>0.708260</td>\n",
       "      <td>0.028687</td>\n",
       "      <td>0.028283</td>\n",
       "      <td>True</td>\n",
       "      <td>37.948058</td>\n",
       "    </tr>\n",
       "    <tr>\n",
       "      <th>23</th>\n",
       "      <td>2015-01-23</td>\n",
       "      <td>233.516998</td>\n",
       "      <td>234.845001</td>\n",
       "      <td>225.195999</td>\n",
       "      <td>232.878998</td>\n",
       "      <td>232.878998</td>\n",
       "      <td>24621700</td>\n",
       "      <td>233.406006</td>\n",
       "      <td>218.422429</td>\n",
       "      <td>225.650998</td>\n",
       "      <td>244.435617</td>\n",
       "      <td>229.500971</td>\n",
       "      <td>250.820879</td>\n",
       "      <td>-21.319908</td>\n",
       "      <td>-23.526146</td>\n",
       "      <td>2.206238</td>\n",
       "      <td>-0.002258</td>\n",
       "      <td>-0.002260</td>\n",
       "      <td>False</td>\n",
       "      <td>35.665555</td>\n",
       "    </tr>\n",
       "    <tr>\n",
       "      <th>24</th>\n",
       "      <td>2015-01-24</td>\n",
       "      <td>232.699997</td>\n",
       "      <td>248.210007</td>\n",
       "      <td>230.022003</td>\n",
       "      <td>247.847000</td>\n",
       "      <td>247.847000</td>\n",
       "      <td>24782500</td>\n",
       "      <td>232.878998</td>\n",
       "      <td>225.363429</td>\n",
       "      <td>223.726070</td>\n",
       "      <td>242.852998</td>\n",
       "      <td>232.323437</td>\n",
       "      <td>250.600592</td>\n",
       "      <td>-18.277155</td>\n",
       "      <td>-22.476347</td>\n",
       "      <td>4.199193</td>\n",
       "      <td>0.064274</td>\n",
       "      <td>0.062293</td>\n",
       "      <td>True</td>\n",
       "      <td>43.263526</td>\n",
       "    </tr>\n",
       "    <tr>\n",
       "      <th>...</th>\n",
       "      <td>...</td>\n",
       "      <td>...</td>\n",
       "      <td>...</td>\n",
       "      <td>...</td>\n",
       "      <td>...</td>\n",
       "      <td>...</td>\n",
       "      <td>...</td>\n",
       "      <td>...</td>\n",
       "      <td>...</td>\n",
       "      <td>...</td>\n",
       "      <td>...</td>\n",
       "      <td>...</td>\n",
       "      <td>...</td>\n",
       "      <td>...</td>\n",
       "      <td>...</td>\n",
       "      <td>...</td>\n",
       "      <td>...</td>\n",
       "      <td>...</td>\n",
       "      <td>...</td>\n",
       "      <td>...</td>\n",
       "    </tr>\n",
       "    <tr>\n",
       "      <th>2338</th>\n",
       "      <td>2021-05-26</td>\n",
       "      <td>38392.625000</td>\n",
       "      <td>40782.078125</td>\n",
       "      <td>37905.835938</td>\n",
       "      <td>39294.199219</td>\n",
       "      <td>39294.199219</td>\n",
       "      <td>51346735160</td>\n",
       "      <td>38402.222656</td>\n",
       "      <td>38113.863839</td>\n",
       "      <td>41647.098214</td>\n",
       "      <td>46455.394903</td>\n",
       "      <td>41038.820893</td>\n",
       "      <td>45730.196464</td>\n",
       "      <td>-4691.375571</td>\n",
       "      <td>-4177.557784</td>\n",
       "      <td>-513.817788</td>\n",
       "      <td>0.023227</td>\n",
       "      <td>0.022962</td>\n",
       "      <td>True</td>\n",
       "      <td>33.003717</td>\n",
       "    </tr>\n",
       "    <tr>\n",
       "      <th>2339</th>\n",
       "      <td>2021-05-27</td>\n",
       "      <td>39316.890625</td>\n",
       "      <td>40379.617188</td>\n",
       "      <td>37247.902344</td>\n",
       "      <td>38436.968750</td>\n",
       "      <td>38436.968750</td>\n",
       "      <td>43210968721</td>\n",
       "      <td>39294.199219</td>\n",
       "      <td>37778.753906</td>\n",
       "      <td>40841.439453</td>\n",
       "      <td>45600.178385</td>\n",
       "      <td>40638.535948</td>\n",
       "      <td>45189.957374</td>\n",
       "      <td>-4551.421426</td>\n",
       "      <td>-4252.330512</td>\n",
       "      <td>-299.090914</td>\n",
       "      <td>-0.021816</td>\n",
       "      <td>-0.022057</td>\n",
       "      <td>False</td>\n",
       "      <td>30.743726</td>\n",
       "    </tr>\n",
       "    <tr>\n",
       "      <th>2340</th>\n",
       "      <td>2021-05-28</td>\n",
       "      <td>38507.082031</td>\n",
       "      <td>38856.968750</td>\n",
       "      <td>34779.039062</td>\n",
       "      <td>35697.605469</td>\n",
       "      <td>35697.605469</td>\n",
       "      <td>55200191952</td>\n",
       "      <td>38436.968750</td>\n",
       "      <td>37549.170201</td>\n",
       "      <td>39828.373047</td>\n",
       "      <td>44568.807106</td>\n",
       "      <td>39878.392797</td>\n",
       "      <td>44486.820196</td>\n",
       "      <td>-4608.427399</td>\n",
       "      <td>-4323.549889</td>\n",
       "      <td>-284.877509</td>\n",
       "      <td>-0.071269</td>\n",
       "      <td>-0.073936</td>\n",
       "      <td>False</td>\n",
       "      <td>27.743299</td>\n",
       "    </tr>\n",
       "    <tr>\n",
       "      <th>2341</th>\n",
       "      <td>2021-05-29</td>\n",
       "      <td>35684.156250</td>\n",
       "      <td>37234.500000</td>\n",
       "      <td>33693.929688</td>\n",
       "      <td>34616.066406</td>\n",
       "      <td>34616.066406</td>\n",
       "      <td>45231013335</td>\n",
       "      <td>35697.605469</td>\n",
       "      <td>37131.946429</td>\n",
       "      <td>38960.935826</td>\n",
       "      <td>43417.011347</td>\n",
       "      <td>39068.804122</td>\n",
       "      <td>43755.653248</td>\n",
       "      <td>-4686.849127</td>\n",
       "      <td>-4396.209737</td>\n",
       "      <td>-290.639390</td>\n",
       "      <td>-0.030297</td>\n",
       "      <td>-0.030766</td>\n",
       "      <td>False</td>\n",
       "      <td>29.639910</td>\n",
       "    </tr>\n",
       "    <tr>\n",
       "      <th>2342</th>\n",
       "      <td>2021-05-30</td>\n",
       "      <td>34607.406250</td>\n",
       "      <td>36400.667969</td>\n",
       "      <td>33520.738281</td>\n",
       "      <td>35678.128906</td>\n",
       "      <td>35678.128906</td>\n",
       "      <td>31646080921</td>\n",
       "      <td>34616.066406</td>\n",
       "      <td>37261.595982</td>\n",
       "      <td>38191.083705</td>\n",
       "      <td>42343.002418</td>\n",
       "      <td>38547.161781</td>\n",
       "      <td>43157.318112</td>\n",
       "      <td>-4610.156331</td>\n",
       "      <td>-4438.999056</td>\n",
       "      <td>-171.157275</td>\n",
       "      <td>0.030681</td>\n",
       "      <td>0.030220</td>\n",
       "      <td>True</td>\n",
       "      <td>32.378224</td>\n",
       "    </tr>\n",
       "  </tbody>\n",
       "</table>\n",
       "<p>2323 rows × 20 columns</p>\n",
       "</div>"
      ],
      "text/plain": [
       "            Date          Open          High           Low         Close  \\\n",
       "20    2015-01-20    212.906998    215.240997    205.153000    211.315002   \n",
       "21    2015-01-21    211.378006    227.787994    211.212006    226.897003   \n",
       "22    2015-01-22    227.322006    237.018997    226.434006    233.406006   \n",
       "23    2015-01-23    233.516998    234.845001    225.195999    232.878998   \n",
       "24    2015-01-24    232.699997    248.210007    230.022003    247.847000   \n",
       "...          ...           ...           ...           ...           ...   \n",
       "2338  2021-05-26  38392.625000  40782.078125  37905.835938  39294.199219   \n",
       "2339  2021-05-27  39316.890625  40379.617188  37247.902344  38436.968750   \n",
       "2340  2021-05-28  38507.082031  38856.968750  34779.039062  35697.605469   \n",
       "2341  2021-05-29  35684.156250  37234.500000  33693.929688  34616.066406   \n",
       "2342  2021-05-30  34607.406250  36400.667969  33520.738281  35678.128906   \n",
       "\n",
       "         Adj Close       Volume  Close Lagged Price          sma7  \\\n",
       "20      211.315002     24051100          214.860992    204.545569   \n",
       "21      226.897003     29924600          211.315002    211.516142   \n",
       "22      233.406006     33544600          226.897003    214.882143   \n",
       "23      232.878998     24621700          233.406006    218.422429   \n",
       "24      247.847000     24782500          232.878998    225.363429   \n",
       "...            ...          ...                 ...           ...   \n",
       "2338  39294.199219  51346735160        38402.222656  38113.863839   \n",
       "2339  38436.968750  43210968721        39294.199219  37778.753906   \n",
       "2340  35697.605469  55200191952        38436.968750  37549.170201   \n",
       "2341  34616.066406  45231013335        35697.605469  37131.946429   \n",
       "2342  35678.128906  31646080921        34616.066406  37261.595982   \n",
       "\n",
       "             sma14         sma21         ema12         ema26    MACD line  \\\n",
       "20      238.144711    256.639998    228.277491    255.913627   -27.636136   \n",
       "21      233.327568    252.197332    228.065108    253.764247   -25.699140   \n",
       "22      229.760211    248.347666    228.886784    252.256230   -23.369445   \n",
       "23      225.650998    244.435617    229.500971    250.820879   -21.319908   \n",
       "24      223.726070    242.852998    232.323437    250.600592   -18.277155   \n",
       "...            ...           ...           ...           ...          ...   \n",
       "2338  41647.098214  46455.394903  41038.820893  45730.196464 -4691.375571   \n",
       "2339  40841.439453  45600.178385  40638.535948  45189.957374 -4551.421426   \n",
       "2340  39828.373047  44568.807106  39878.392797  44486.820196 -4608.427399   \n",
       "2341  38960.935826  43417.011347  39068.804122  43755.653248 -4686.849127   \n",
       "2342  38191.083705  42343.002418  38547.161781  43157.318112 -4610.156331   \n",
       "\n",
       "      Signal line  MACD histogram    change  log_change  change_label  \\\n",
       "20     -23.893678       -3.742459 -0.016504   -0.016641         False   \n",
       "21     -24.254770       -1.444369  0.073738    0.071146          True   \n",
       "22     -24.077705        0.708260  0.028687    0.028283          True   \n",
       "23     -23.526146        2.206238 -0.002258   -0.002260         False   \n",
       "24     -22.476347        4.199193  0.064274    0.062293          True   \n",
       "...           ...             ...       ...         ...           ...   \n",
       "2338 -4177.557784     -513.817788  0.023227    0.022962          True   \n",
       "2339 -4252.330512     -299.090914 -0.021816   -0.022057         False   \n",
       "2340 -4323.549889     -284.877509 -0.071269   -0.073936         False   \n",
       "2341 -4396.209737     -290.639390 -0.030297   -0.030766         False   \n",
       "2342 -4438.999056     -171.157275  0.030681    0.030220          True   \n",
       "\n",
       "            rsi  \n",
       "20    31.670451  \n",
       "21    34.070140  \n",
       "22    37.948058  \n",
       "23    35.665555  \n",
       "24    43.263526  \n",
       "...         ...  \n",
       "2338  33.003717  \n",
       "2339  30.743726  \n",
       "2340  27.743299  \n",
       "2341  29.639910  \n",
       "2342  32.378224  \n",
       "\n",
       "[2323 rows x 20 columns]"
      ]
     },
     "execution_count": 18,
     "metadata": {},
     "output_type": "execute_result"
    }
   ],
   "source": [
    "price.dropna()"
   ]
  },
  {
   "cell_type": "code",
   "execution_count": 332,
   "metadata": {},
   "outputs": [
    {
     "data": {
      "text/plain": [
       "Date   Open   High   Low    Close  Adj Close  Volume  sma7   sma14  sma21  ema12  ema26  MACD line  Signal line  MACD histogram  change  log_change  change_label  rsi  \n",
       "False  False  False  False  False  False      False   False  False  False  False  False  False      False        False           False   False       False         False    2323\n",
       "                                                                    True   False  False  False      False        False           False   False       False         False       7\n",
       "                                                             True   True   False  False  False      False        False           False   False       False         True        7\n",
       "                                                      True   True   True   False  False  False      False        False           False   False       False         True        5\n",
       "                                                                                                                                 True    True        False         True        1\n",
       "dtype: int64"
      ]
     },
     "execution_count": 332,
     "metadata": {},
     "output_type": "execute_result"
    }
   ],
   "source": [
    "price.isnull().value_counts()"
   ]
  },
  {
   "cell_type": "code",
   "execution_count": 333,
   "metadata": {},
   "outputs": [
    {
     "data": {
      "text/html": [
       "<div>\n",
       "<style scoped>\n",
       "    .dataframe tbody tr th:only-of-type {\n",
       "        vertical-align: middle;\n",
       "    }\n",
       "\n",
       "    .dataframe tbody tr th {\n",
       "        vertical-align: top;\n",
       "    }\n",
       "\n",
       "    .dataframe thead th {\n",
       "        text-align: right;\n",
       "    }\n",
       "</style>\n",
       "<table border=\"1\" class=\"dataframe\">\n",
       "  <thead>\n",
       "    <tr style=\"text-align: right;\">\n",
       "      <th></th>\n",
       "      <th>Open</th>\n",
       "      <th>High</th>\n",
       "      <th>Low</th>\n",
       "      <th>Close</th>\n",
       "      <th>Adj Close</th>\n",
       "      <th>Volume</th>\n",
       "      <th>sma7</th>\n",
       "      <th>sma14</th>\n",
       "      <th>sma21</th>\n",
       "      <th>ema12</th>\n",
       "      <th>ema26</th>\n",
       "      <th>MACD line</th>\n",
       "      <th>Signal line</th>\n",
       "      <th>MACD histogram</th>\n",
       "      <th>change</th>\n",
       "      <th>log_change</th>\n",
       "      <th>rsi</th>\n",
       "    </tr>\n",
       "  </thead>\n",
       "  <tbody>\n",
       "    <tr>\n",
       "      <th>count</th>\n",
       "      <td>2343.000000</td>\n",
       "      <td>2343.000000</td>\n",
       "      <td>2343.000000</td>\n",
       "      <td>2343.000000</td>\n",
       "      <td>2343.000000</td>\n",
       "      <td>2.343000e+03</td>\n",
       "      <td>2337.000000</td>\n",
       "      <td>2330.000000</td>\n",
       "      <td>2323.000000</td>\n",
       "      <td>2343.000000</td>\n",
       "      <td>2343.000000</td>\n",
       "      <td>2343.000000</td>\n",
       "      <td>2343.000000</td>\n",
       "      <td>2343.000000</td>\n",
       "      <td>2342.000000</td>\n",
       "      <td>2342.000000</td>\n",
       "      <td>2330.000000</td>\n",
       "    </tr>\n",
       "    <tr>\n",
       "      <th>mean</th>\n",
       "      <td>7880.943577</td>\n",
       "      <td>8106.670375</td>\n",
       "      <td>7634.287647</td>\n",
       "      <td>7895.661538</td>\n",
       "      <td>7895.661538</td>\n",
       "      <td>1.331788e+10</td>\n",
       "      <td>7868.947075</td>\n",
       "      <td>7835.496265</td>\n",
       "      <td>7795.744548</td>\n",
       "      <td>7805.926870</td>\n",
       "      <td>7667.123739</td>\n",
       "      <td>138.803131</td>\n",
       "      <td>146.381448</td>\n",
       "      <td>-7.578317</td>\n",
       "      <td>0.002798</td>\n",
       "      <td>0.002013</td>\n",
       "      <td>55.255566</td>\n",
       "    </tr>\n",
       "    <tr>\n",
       "      <th>std</th>\n",
       "      <td>11732.187280</td>\n",
       "      <td>12103.971702</td>\n",
       "      <td>11296.462436</td>\n",
       "      <td>11744.472877</td>\n",
       "      <td>11744.472877</td>\n",
       "      <td>2.015410e+10</td>\n",
       "      <td>11692.664767</td>\n",
       "      <td>11625.580844</td>\n",
       "      <td>11539.961961</td>\n",
       "      <td>11598.558728</td>\n",
       "      <td>11336.048017</td>\n",
       "      <td>762.112783</td>\n",
       "      <td>698.984436</td>\n",
       "      <td>212.317097</td>\n",
       "      <td>0.039365</td>\n",
       "      <td>0.039741</td>\n",
       "      <td>18.724279</td>\n",
       "    </tr>\n",
       "    <tr>\n",
       "      <th>min</th>\n",
       "      <td>176.897003</td>\n",
       "      <td>211.731003</td>\n",
       "      <td>171.509995</td>\n",
       "      <td>178.102997</td>\n",
       "      <td>178.102997</td>\n",
       "      <td>7.860650e+06</td>\n",
       "      <td>204.545569</td>\n",
       "      <td>222.873070</td>\n",
       "      <td>226.947285</td>\n",
       "      <td>224.308232</td>\n",
       "      <td>230.699077</td>\n",
       "      <td>-5053.274080</td>\n",
       "      <td>-4438.999056</td>\n",
       "      <td>-1694.518206</td>\n",
       "      <td>-0.371695</td>\n",
       "      <td>-0.464730</td>\n",
       "      <td>4.699489</td>\n",
       "    </tr>\n",
       "    <tr>\n",
       "      <th>25%</th>\n",
       "      <td>610.073517</td>\n",
       "      <td>613.331024</td>\n",
       "      <td>607.546509</td>\n",
       "      <td>610.319977</td>\n",
       "      <td>610.319977</td>\n",
       "      <td>8.172330e+07</td>\n",
       "      <td>613.461278</td>\n",
       "      <td>612.230159</td>\n",
       "      <td>616.903501</td>\n",
       "      <td>607.632334</td>\n",
       "      <td>606.231771</td>\n",
       "      <td>-23.304798</td>\n",
       "      <td>-25.721638</td>\n",
       "      <td>-14.865791</td>\n",
       "      <td>-0.011946</td>\n",
       "      <td>-0.012017</td>\n",
       "      <td>41.507384</td>\n",
       "    </tr>\n",
       "    <tr>\n",
       "      <th>50%</th>\n",
       "      <td>5251.480469</td>\n",
       "      <td>5359.924805</td>\n",
       "      <td>5167.418945</td>\n",
       "      <td>5268.291016</td>\n",
       "      <td>5268.291016</td>\n",
       "      <td>4.372764e+09</td>\n",
       "      <td>5300.891392</td>\n",
       "      <td>5291.845755</td>\n",
       "      <td>5268.098865</td>\n",
       "      <td>5227.853102</td>\n",
       "      <td>5054.793649</td>\n",
       "      <td>7.668835</td>\n",
       "      <td>7.296203</td>\n",
       "      <td>0.762819</td>\n",
       "      <td>0.002032</td>\n",
       "      <td>0.002030</td>\n",
       "      <td>55.634389</td>\n",
       "    </tr>\n",
       "    <tr>\n",
       "      <th>75%</th>\n",
       "      <td>9284.070801</td>\n",
       "      <td>9440.763184</td>\n",
       "      <td>9134.778809</td>\n",
       "      <td>9284.764160</td>\n",
       "      <td>9284.764160</td>\n",
       "      <td>1.971738e+10</td>\n",
       "      <td>9275.912946</td>\n",
       "      <td>9271.427159</td>\n",
       "      <td>9274.350539</td>\n",
       "      <td>9230.836635</td>\n",
       "      <td>9249.159251</td>\n",
       "      <td>186.572909</td>\n",
       "      <td>186.213884</td>\n",
       "      <td>29.411470</td>\n",
       "      <td>0.017943</td>\n",
       "      <td>0.017784</td>\n",
       "      <td>68.652524</td>\n",
       "    </tr>\n",
       "    <tr>\n",
       "      <th>max</th>\n",
       "      <td>63523.753906</td>\n",
       "      <td>64863.097656</td>\n",
       "      <td>62208.964844</td>\n",
       "      <td>63503.457031</td>\n",
       "      <td>63503.457031</td>\n",
       "      <td>3.509679e+11</td>\n",
       "      <td>61754.598772</td>\n",
       "      <td>60050.150949</td>\n",
       "      <td>59456.620536</td>\n",
       "      <td>60658.351968</td>\n",
       "      <td>58965.179769</td>\n",
       "      <td>5273.808690</td>\n",
       "      <td>4517.102703</td>\n",
       "      <td>1233.687910</td>\n",
       "      <td>0.252472</td>\n",
       "      <td>0.225119</td>\n",
       "      <td>99.765628</td>\n",
       "    </tr>\n",
       "  </tbody>\n",
       "</table>\n",
       "</div>"
      ],
      "text/plain": [
       "               Open          High           Low         Close     Adj Close  \\\n",
       "count   2343.000000   2343.000000   2343.000000   2343.000000   2343.000000   \n",
       "mean    7880.943577   8106.670375   7634.287647   7895.661538   7895.661538   \n",
       "std    11732.187280  12103.971702  11296.462436  11744.472877  11744.472877   \n",
       "min      176.897003    211.731003    171.509995    178.102997    178.102997   \n",
       "25%      610.073517    613.331024    607.546509    610.319977    610.319977   \n",
       "50%     5251.480469   5359.924805   5167.418945   5268.291016   5268.291016   \n",
       "75%     9284.070801   9440.763184   9134.778809   9284.764160   9284.764160   \n",
       "max    63523.753906  64863.097656  62208.964844  63503.457031  63503.457031   \n",
       "\n",
       "             Volume          sma7         sma14         sma21         ema12  \\\n",
       "count  2.343000e+03   2337.000000   2330.000000   2323.000000   2343.000000   \n",
       "mean   1.331788e+10   7868.947075   7835.496265   7795.744548   7805.926870   \n",
       "std    2.015410e+10  11692.664767  11625.580844  11539.961961  11598.558728   \n",
       "min    7.860650e+06    204.545569    222.873070    226.947285    224.308232   \n",
       "25%    8.172330e+07    613.461278    612.230159    616.903501    607.632334   \n",
       "50%    4.372764e+09   5300.891392   5291.845755   5268.098865   5227.853102   \n",
       "75%    1.971738e+10   9275.912946   9271.427159   9274.350539   9230.836635   \n",
       "max    3.509679e+11  61754.598772  60050.150949  59456.620536  60658.351968   \n",
       "\n",
       "              ema26    MACD line  Signal line  MACD histogram       change  \\\n",
       "count   2343.000000  2343.000000  2343.000000     2343.000000  2342.000000   \n",
       "mean    7667.123739   138.803131   146.381448       -7.578317     0.002798   \n",
       "std    11336.048017   762.112783   698.984436      212.317097     0.039365   \n",
       "min      230.699077 -5053.274080 -4438.999056    -1694.518206    -0.371695   \n",
       "25%      606.231771   -23.304798   -25.721638      -14.865791    -0.011946   \n",
       "50%     5054.793649     7.668835     7.296203        0.762819     0.002032   \n",
       "75%     9249.159251   186.572909   186.213884       29.411470     0.017943   \n",
       "max    58965.179769  5273.808690  4517.102703     1233.687910     0.252472   \n",
       "\n",
       "        log_change          rsi  \n",
       "count  2342.000000  2330.000000  \n",
       "mean      0.002013    55.255566  \n",
       "std       0.039741    18.724279  \n",
       "min      -0.464730     4.699489  \n",
       "25%      -0.012017    41.507384  \n",
       "50%       0.002030    55.634389  \n",
       "75%       0.017784    68.652524  \n",
       "max       0.225119    99.765628  "
      ]
     },
     "execution_count": 333,
     "metadata": {},
     "output_type": "execute_result"
    }
   ],
   "source": [
    "price.describe()"
   ]
  },
  {
   "cell_type": "code",
   "execution_count": 334,
   "metadata": {},
   "outputs": [
    {
     "name": "stdout",
     "output_type": "stream",
     "text": [
      "<class 'pandas.core.frame.DataFrame'>\n",
      "RangeIndex: 2343 entries, 0 to 2342\n",
      "Data columns (total 19 columns):\n",
      " #   Column          Non-Null Count  Dtype  \n",
      "---  ------          --------------  -----  \n",
      " 0   Date            2343 non-null   object \n",
      " 1   Open            2343 non-null   float64\n",
      " 2   High            2343 non-null   float64\n",
      " 3   Low             2343 non-null   float64\n",
      " 4   Close           2343 non-null   float64\n",
      " 5   Adj Close       2343 non-null   float64\n",
      " 6   Volume          2343 non-null   int64  \n",
      " 7   sma7            2337 non-null   float64\n",
      " 8   sma14           2330 non-null   float64\n",
      " 9   sma21           2323 non-null   float64\n",
      " 10  ema12           2343 non-null   float64\n",
      " 11  ema26           2343 non-null   float64\n",
      " 12  MACD line       2343 non-null   float64\n",
      " 13  Signal line     2343 non-null   float64\n",
      " 14  MACD histogram  2343 non-null   float64\n",
      " 15  change          2342 non-null   float64\n",
      " 16  log_change      2342 non-null   float64\n",
      " 17  change_label    2343 non-null   bool   \n",
      " 18  rsi             2330 non-null   float64\n",
      "dtypes: bool(1), float64(16), int64(1), object(1)\n",
      "memory usage: 331.9+ KB\n"
     ]
    }
   ],
   "source": [
    "price.info()"
   ]
  },
  {
   "cell_type": "code",
   "execution_count": 336,
   "metadata": {},
   "outputs": [
    {
     "data": {
      "text/html": [
       "<div>\n",
       "<style scoped>\n",
       "    .dataframe tbody tr th:only-of-type {\n",
       "        vertical-align: middle;\n",
       "    }\n",
       "\n",
       "    .dataframe tbody tr th {\n",
       "        vertical-align: top;\n",
       "    }\n",
       "\n",
       "    .dataframe thead th {\n",
       "        text-align: right;\n",
       "    }\n",
       "</style>\n",
       "<table border=\"1\" class=\"dataframe\">\n",
       "  <thead>\n",
       "    <tr style=\"text-align: right;\">\n",
       "      <th></th>\n",
       "      <th>Open</th>\n",
       "      <th>High</th>\n",
       "      <th>Low</th>\n",
       "      <th>Close</th>\n",
       "      <th>Adj Close</th>\n",
       "      <th>Volume</th>\n",
       "      <th>sma7</th>\n",
       "      <th>sma14</th>\n",
       "      <th>sma21</th>\n",
       "      <th>ema12</th>\n",
       "      <th>ema26</th>\n",
       "      <th>MACD line</th>\n",
       "      <th>Signal line</th>\n",
       "      <th>MACD histogram</th>\n",
       "      <th>change</th>\n",
       "      <th>log_change</th>\n",
       "      <th>change_label</th>\n",
       "      <th>rsi</th>\n",
       "    </tr>\n",
       "  </thead>\n",
       "  <tbody>\n",
       "    <tr>\n",
       "      <th>Open</th>\n",
       "      <td>1.000000</td>\n",
       "      <td>0.999393</td>\n",
       "      <td>0.998777</td>\n",
       "      <td>0.998562</td>\n",
       "      <td>0.998562</td>\n",
       "      <td>0.790719</td>\n",
       "      <td>0.998338</td>\n",
       "      <td>0.994600</td>\n",
       "      <td>0.990665</td>\n",
       "      <td>0.997137</td>\n",
       "      <td>0.991775</td>\n",
       "      <td>0.423216</td>\n",
       "      <td>0.500208</td>\n",
       "      <td>-0.127636</td>\n",
       "      <td>-0.015026</td>\n",
       "      <td>-0.018222</td>\n",
       "      <td>-0.035215</td>\n",
       "      <td>0.008914</td>\n",
       "    </tr>\n",
       "    <tr>\n",
       "      <th>High</th>\n",
       "      <td>0.999393</td>\n",
       "      <td>1.000000</td>\n",
       "      <td>0.998697</td>\n",
       "      <td>0.999370</td>\n",
       "      <td>0.999370</td>\n",
       "      <td>0.792970</td>\n",
       "      <td>0.998162</td>\n",
       "      <td>0.994464</td>\n",
       "      <td>0.990547</td>\n",
       "      <td>0.997023</td>\n",
       "      <td>0.991596</td>\n",
       "      <td>0.424158</td>\n",
       "      <td>0.500865</td>\n",
       "      <td>-0.126419</td>\n",
       "      <td>0.002269</td>\n",
       "      <td>-0.001595</td>\n",
       "      <td>-0.024888</td>\n",
       "      <td>0.012690</td>\n",
       "    </tr>\n",
       "    <tr>\n",
       "      <th>Low</th>\n",
       "      <td>0.998777</td>\n",
       "      <td>0.998697</td>\n",
       "      <td>1.000000</td>\n",
       "      <td>0.999239</td>\n",
       "      <td>0.999239</td>\n",
       "      <td>0.784591</td>\n",
       "      <td>0.996969</td>\n",
       "      <td>0.992784</td>\n",
       "      <td>0.988861</td>\n",
       "      <td>0.995722</td>\n",
       "      <td>0.990096</td>\n",
       "      <td>0.426667</td>\n",
       "      <td>0.500216</td>\n",
       "      <td>-0.115278</td>\n",
       "      <td>0.005512</td>\n",
       "      <td>0.002906</td>\n",
       "      <td>-0.022297</td>\n",
       "      <td>0.015343</td>\n",
       "    </tr>\n",
       "    <tr>\n",
       "      <th>Close</th>\n",
       "      <td>0.998562</td>\n",
       "      <td>0.999370</td>\n",
       "      <td>0.999239</td>\n",
       "      <td>1.000000</td>\n",
       "      <td>1.000000</td>\n",
       "      <td>0.789389</td>\n",
       "      <td>0.997218</td>\n",
       "      <td>0.993092</td>\n",
       "      <td>0.989119</td>\n",
       "      <td>0.995988</td>\n",
       "      <td>0.990236</td>\n",
       "      <td>0.428623</td>\n",
       "      <td>0.502669</td>\n",
       "      <td>-0.116329</td>\n",
       "      <td>0.018233</td>\n",
       "      <td>0.014831</td>\n",
       "      <td>-0.014835</td>\n",
       "      <td>0.017785</td>\n",
       "    </tr>\n",
       "    <tr>\n",
       "      <th>Adj Close</th>\n",
       "      <td>0.998562</td>\n",
       "      <td>0.999370</td>\n",
       "      <td>0.999239</td>\n",
       "      <td>1.000000</td>\n",
       "      <td>1.000000</td>\n",
       "      <td>0.789389</td>\n",
       "      <td>0.997218</td>\n",
       "      <td>0.993092</td>\n",
       "      <td>0.989119</td>\n",
       "      <td>0.995988</td>\n",
       "      <td>0.990236</td>\n",
       "      <td>0.428623</td>\n",
       "      <td>0.502669</td>\n",
       "      <td>-0.116329</td>\n",
       "      <td>0.018233</td>\n",
       "      <td>0.014831</td>\n",
       "      <td>-0.014835</td>\n",
       "      <td>0.017785</td>\n",
       "    </tr>\n",
       "    <tr>\n",
       "      <th>Volume</th>\n",
       "      <td>0.790719</td>\n",
       "      <td>0.792970</td>\n",
       "      <td>0.784591</td>\n",
       "      <td>0.789389</td>\n",
       "      <td>0.789389</td>\n",
       "      <td>1.000000</td>\n",
       "      <td>0.792070</td>\n",
       "      <td>0.787411</td>\n",
       "      <td>0.781357</td>\n",
       "      <td>0.789409</td>\n",
       "      <td>0.782722</td>\n",
       "      <td>0.371384</td>\n",
       "      <td>0.437667</td>\n",
       "      <td>-0.107791</td>\n",
       "      <td>0.005928</td>\n",
       "      <td>-0.001137</td>\n",
       "      <td>-0.027384</td>\n",
       "      <td>0.033557</td>\n",
       "    </tr>\n",
       "    <tr>\n",
       "      <th>sma7</th>\n",
       "      <td>0.998338</td>\n",
       "      <td>0.998162</td>\n",
       "      <td>0.996969</td>\n",
       "      <td>0.997218</td>\n",
       "      <td>0.997218</td>\n",
       "      <td>0.792070</td>\n",
       "      <td>1.000000</td>\n",
       "      <td>0.998019</td>\n",
       "      <td>0.994639</td>\n",
       "      <td>0.999331</td>\n",
       "      <td>0.995380</td>\n",
       "      <td>0.402842</td>\n",
       "      <td>0.489753</td>\n",
       "      <td>-0.166322</td>\n",
       "      <td>-0.012075</td>\n",
       "      <td>-0.015498</td>\n",
       "      <td>-0.033254</td>\n",
       "      <td>-0.008056</td>\n",
       "    </tr>\n",
       "    <tr>\n",
       "      <th>sma14</th>\n",
       "      <td>0.994600</td>\n",
       "      <td>0.994464</td>\n",
       "      <td>0.992784</td>\n",
       "      <td>0.993092</td>\n",
       "      <td>0.993092</td>\n",
       "      <td>0.787411</td>\n",
       "      <td>0.998019</td>\n",
       "      <td>1.000000</td>\n",
       "      <td>0.998701</td>\n",
       "      <td>0.999471</td>\n",
       "      <td>0.998589</td>\n",
       "      <td>0.357112</td>\n",
       "      <td>0.456333</td>\n",
       "      <td>-0.220410</td>\n",
       "      <td>-0.016685</td>\n",
       "      <td>-0.020206</td>\n",
       "      <td>-0.036274</td>\n",
       "      <td>-0.036583</td>\n",
       "    </tr>\n",
       "    <tr>\n",
       "      <th>sma21</th>\n",
       "      <td>0.990665</td>\n",
       "      <td>0.990547</td>\n",
       "      <td>0.988861</td>\n",
       "      <td>0.989119</td>\n",
       "      <td>0.989119</td>\n",
       "      <td>0.781357</td>\n",
       "      <td>0.994639</td>\n",
       "      <td>0.998701</td>\n",
       "      <td>1.000000</td>\n",
       "      <td>0.997666</td>\n",
       "      <td>0.999578</td>\n",
       "      <td>0.314821</td>\n",
       "      <td>0.417162</td>\n",
       "      <td>-0.243220</td>\n",
       "      <td>-0.019528</td>\n",
       "      <td>-0.023516</td>\n",
       "      <td>-0.037384</td>\n",
       "      <td>-0.059223</td>\n",
       "    </tr>\n",
       "    <tr>\n",
       "      <th>ema12</th>\n",
       "      <td>0.997137</td>\n",
       "      <td>0.997023</td>\n",
       "      <td>0.995722</td>\n",
       "      <td>0.995988</td>\n",
       "      <td>0.995988</td>\n",
       "      <td>0.789409</td>\n",
       "      <td>0.999331</td>\n",
       "      <td>0.999471</td>\n",
       "      <td>0.997666</td>\n",
       "      <td>1.000000</td>\n",
       "      <td>0.998053</td>\n",
       "      <td>0.373407</td>\n",
       "      <td>0.465027</td>\n",
       "      <td>-0.190604</td>\n",
       "      <td>-0.011472</td>\n",
       "      <td>-0.014906</td>\n",
       "      <td>-0.033044</td>\n",
       "      <td>-0.023618</td>\n",
       "    </tr>\n",
       "    <tr>\n",
       "      <th>ema26</th>\n",
       "      <td>0.991775</td>\n",
       "      <td>0.991596</td>\n",
       "      <td>0.990096</td>\n",
       "      <td>0.990236</td>\n",
       "      <td>0.990236</td>\n",
       "      <td>0.782722</td>\n",
       "      <td>0.995380</td>\n",
       "      <td>0.998589</td>\n",
       "      <td>0.999578</td>\n",
       "      <td>0.998053</td>\n",
       "      <td>1.000000</td>\n",
       "      <td>0.314825</td>\n",
       "      <td>0.411160</td>\n",
       "      <td>-0.223544</td>\n",
       "      <td>-0.016004</td>\n",
       "      <td>-0.019491</td>\n",
       "      <td>-0.035801</td>\n",
       "      <td>-0.050660</td>\n",
       "    </tr>\n",
       "    <tr>\n",
       "      <th>MACD line</th>\n",
       "      <td>0.423216</td>\n",
       "      <td>0.424158</td>\n",
       "      <td>0.426667</td>\n",
       "      <td>0.428623</td>\n",
       "      <td>0.428623</td>\n",
       "      <td>0.371384</td>\n",
       "      <td>0.402842</td>\n",
       "      <td>0.357112</td>\n",
       "      <td>0.314821</td>\n",
       "      <td>0.373407</td>\n",
       "      <td>0.314825</td>\n",
       "      <td>1.000000</td>\n",
       "      <td>0.961430</td>\n",
       "      <td>0.424311</td>\n",
       "      <td>0.063451</td>\n",
       "      <td>0.063065</td>\n",
       "      <td>0.029624</td>\n",
       "      <td>0.393686</td>\n",
       "    </tr>\n",
       "    <tr>\n",
       "      <th>Signal line</th>\n",
       "      <td>0.500208</td>\n",
       "      <td>0.500865</td>\n",
       "      <td>0.500216</td>\n",
       "      <td>0.502669</td>\n",
       "      <td>0.502669</td>\n",
       "      <td>0.437667</td>\n",
       "      <td>0.489753</td>\n",
       "      <td>0.456333</td>\n",
       "      <td>0.417162</td>\n",
       "      <td>0.465027</td>\n",
       "      <td>0.411160</td>\n",
       "      <td>0.961430</td>\n",
       "      <td>1.000000</td>\n",
       "      <td>0.158882</td>\n",
       "      <td>0.028902</td>\n",
       "      <td>0.027770</td>\n",
       "      <td>0.005772</td>\n",
       "      <td>0.295680</td>\n",
       "    </tr>\n",
       "    <tr>\n",
       "      <th>MACD histogram</th>\n",
       "      <td>-0.127636</td>\n",
       "      <td>-0.126419</td>\n",
       "      <td>-0.115278</td>\n",
       "      <td>-0.116329</td>\n",
       "      <td>-0.116329</td>\n",
       "      <td>-0.107791</td>\n",
       "      <td>-0.166322</td>\n",
       "      <td>-0.220410</td>\n",
       "      <td>-0.243220</td>\n",
       "      <td>-0.190604</td>\n",
       "      <td>-0.223544</td>\n",
       "      <td>0.424311</td>\n",
       "      <td>0.158882</td>\n",
       "      <td>1.000000</td>\n",
       "      <td>0.132605</td>\n",
       "      <td>0.134945</td>\n",
       "      <td>0.087333</td>\n",
       "      <td>0.439690</td>\n",
       "    </tr>\n",
       "    <tr>\n",
       "      <th>change</th>\n",
       "      <td>-0.015026</td>\n",
       "      <td>0.002269</td>\n",
       "      <td>0.005512</td>\n",
       "      <td>0.018233</td>\n",
       "      <td>0.018233</td>\n",
       "      <td>0.005928</td>\n",
       "      <td>-0.012075</td>\n",
       "      <td>-0.016685</td>\n",
       "      <td>-0.019528</td>\n",
       "      <td>-0.011472</td>\n",
       "      <td>-0.016004</td>\n",
       "      <td>0.063451</td>\n",
       "      <td>0.028902</td>\n",
       "      <td>0.132605</td>\n",
       "      <td>1.000000</td>\n",
       "      <td>0.997679</td>\n",
       "      <td>0.644634</td>\n",
       "      <td>0.274633</td>\n",
       "    </tr>\n",
       "    <tr>\n",
       "      <th>log_change</th>\n",
       "      <td>-0.018222</td>\n",
       "      <td>-0.001595</td>\n",
       "      <td>0.002906</td>\n",
       "      <td>0.014831</td>\n",
       "      <td>0.014831</td>\n",
       "      <td>-0.001137</td>\n",
       "      <td>-0.015498</td>\n",
       "      <td>-0.020206</td>\n",
       "      <td>-0.023516</td>\n",
       "      <td>-0.014906</td>\n",
       "      <td>-0.019491</td>\n",
       "      <td>0.063065</td>\n",
       "      <td>0.027770</td>\n",
       "      <td>0.134945</td>\n",
       "      <td>0.997679</td>\n",
       "      <td>1.000000</td>\n",
       "      <td>0.640163</td>\n",
       "      <td>0.276917</td>\n",
       "    </tr>\n",
       "    <tr>\n",
       "      <th>change_label</th>\n",
       "      <td>-0.035215</td>\n",
       "      <td>-0.024888</td>\n",
       "      <td>-0.022297</td>\n",
       "      <td>-0.014835</td>\n",
       "      <td>-0.014835</td>\n",
       "      <td>-0.027384</td>\n",
       "      <td>-0.033254</td>\n",
       "      <td>-0.036274</td>\n",
       "      <td>-0.037384</td>\n",
       "      <td>-0.033044</td>\n",
       "      <td>-0.035801</td>\n",
       "      <td>0.029624</td>\n",
       "      <td>0.005772</td>\n",
       "      <td>0.087333</td>\n",
       "      <td>0.644634</td>\n",
       "      <td>0.640163</td>\n",
       "      <td>1.000000</td>\n",
       "      <td>0.236283</td>\n",
       "    </tr>\n",
       "    <tr>\n",
       "      <th>rsi</th>\n",
       "      <td>0.008914</td>\n",
       "      <td>0.012690</td>\n",
       "      <td>0.015343</td>\n",
       "      <td>0.017785</td>\n",
       "      <td>0.017785</td>\n",
       "      <td>0.033557</td>\n",
       "      <td>-0.008056</td>\n",
       "      <td>-0.036583</td>\n",
       "      <td>-0.059223</td>\n",
       "      <td>-0.023618</td>\n",
       "      <td>-0.050660</td>\n",
       "      <td>0.393686</td>\n",
       "      <td>0.295680</td>\n",
       "      <td>0.439690</td>\n",
       "      <td>0.274633</td>\n",
       "      <td>0.276917</td>\n",
       "      <td>0.236283</td>\n",
       "      <td>1.000000</td>\n",
       "    </tr>\n",
       "  </tbody>\n",
       "</table>\n",
       "</div>"
      ],
      "text/plain": [
       "                    Open      High       Low     Close  Adj Close    Volume  \\\n",
       "Open            1.000000  0.999393  0.998777  0.998562   0.998562  0.790719   \n",
       "High            0.999393  1.000000  0.998697  0.999370   0.999370  0.792970   \n",
       "Low             0.998777  0.998697  1.000000  0.999239   0.999239  0.784591   \n",
       "Close           0.998562  0.999370  0.999239  1.000000   1.000000  0.789389   \n",
       "Adj Close       0.998562  0.999370  0.999239  1.000000   1.000000  0.789389   \n",
       "Volume          0.790719  0.792970  0.784591  0.789389   0.789389  1.000000   \n",
       "sma7            0.998338  0.998162  0.996969  0.997218   0.997218  0.792070   \n",
       "sma14           0.994600  0.994464  0.992784  0.993092   0.993092  0.787411   \n",
       "sma21           0.990665  0.990547  0.988861  0.989119   0.989119  0.781357   \n",
       "ema12           0.997137  0.997023  0.995722  0.995988   0.995988  0.789409   \n",
       "ema26           0.991775  0.991596  0.990096  0.990236   0.990236  0.782722   \n",
       "MACD line       0.423216  0.424158  0.426667  0.428623   0.428623  0.371384   \n",
       "Signal line     0.500208  0.500865  0.500216  0.502669   0.502669  0.437667   \n",
       "MACD histogram -0.127636 -0.126419 -0.115278 -0.116329  -0.116329 -0.107791   \n",
       "change         -0.015026  0.002269  0.005512  0.018233   0.018233  0.005928   \n",
       "log_change     -0.018222 -0.001595  0.002906  0.014831   0.014831 -0.001137   \n",
       "change_label   -0.035215 -0.024888 -0.022297 -0.014835  -0.014835 -0.027384   \n",
       "rsi             0.008914  0.012690  0.015343  0.017785   0.017785  0.033557   \n",
       "\n",
       "                    sma7     sma14     sma21     ema12     ema26  MACD line  \\\n",
       "Open            0.998338  0.994600  0.990665  0.997137  0.991775   0.423216   \n",
       "High            0.998162  0.994464  0.990547  0.997023  0.991596   0.424158   \n",
       "Low             0.996969  0.992784  0.988861  0.995722  0.990096   0.426667   \n",
       "Close           0.997218  0.993092  0.989119  0.995988  0.990236   0.428623   \n",
       "Adj Close       0.997218  0.993092  0.989119  0.995988  0.990236   0.428623   \n",
       "Volume          0.792070  0.787411  0.781357  0.789409  0.782722   0.371384   \n",
       "sma7            1.000000  0.998019  0.994639  0.999331  0.995380   0.402842   \n",
       "sma14           0.998019  1.000000  0.998701  0.999471  0.998589   0.357112   \n",
       "sma21           0.994639  0.998701  1.000000  0.997666  0.999578   0.314821   \n",
       "ema12           0.999331  0.999471  0.997666  1.000000  0.998053   0.373407   \n",
       "ema26           0.995380  0.998589  0.999578  0.998053  1.000000   0.314825   \n",
       "MACD line       0.402842  0.357112  0.314821  0.373407  0.314825   1.000000   \n",
       "Signal line     0.489753  0.456333  0.417162  0.465027  0.411160   0.961430   \n",
       "MACD histogram -0.166322 -0.220410 -0.243220 -0.190604 -0.223544   0.424311   \n",
       "change         -0.012075 -0.016685 -0.019528 -0.011472 -0.016004   0.063451   \n",
       "log_change     -0.015498 -0.020206 -0.023516 -0.014906 -0.019491   0.063065   \n",
       "change_label   -0.033254 -0.036274 -0.037384 -0.033044 -0.035801   0.029624   \n",
       "rsi            -0.008056 -0.036583 -0.059223 -0.023618 -0.050660   0.393686   \n",
       "\n",
       "                Signal line  MACD histogram    change  log_change  \\\n",
       "Open               0.500208       -0.127636 -0.015026   -0.018222   \n",
       "High               0.500865       -0.126419  0.002269   -0.001595   \n",
       "Low                0.500216       -0.115278  0.005512    0.002906   \n",
       "Close              0.502669       -0.116329  0.018233    0.014831   \n",
       "Adj Close          0.502669       -0.116329  0.018233    0.014831   \n",
       "Volume             0.437667       -0.107791  0.005928   -0.001137   \n",
       "sma7               0.489753       -0.166322 -0.012075   -0.015498   \n",
       "sma14              0.456333       -0.220410 -0.016685   -0.020206   \n",
       "sma21              0.417162       -0.243220 -0.019528   -0.023516   \n",
       "ema12              0.465027       -0.190604 -0.011472   -0.014906   \n",
       "ema26              0.411160       -0.223544 -0.016004   -0.019491   \n",
       "MACD line          0.961430        0.424311  0.063451    0.063065   \n",
       "Signal line        1.000000        0.158882  0.028902    0.027770   \n",
       "MACD histogram     0.158882        1.000000  0.132605    0.134945   \n",
       "change             0.028902        0.132605  1.000000    0.997679   \n",
       "log_change         0.027770        0.134945  0.997679    1.000000   \n",
       "change_label       0.005772        0.087333  0.644634    0.640163   \n",
       "rsi                0.295680        0.439690  0.274633    0.276917   \n",
       "\n",
       "                change_label       rsi  \n",
       "Open               -0.035215  0.008914  \n",
       "High               -0.024888  0.012690  \n",
       "Low                -0.022297  0.015343  \n",
       "Close              -0.014835  0.017785  \n",
       "Adj Close          -0.014835  0.017785  \n",
       "Volume             -0.027384  0.033557  \n",
       "sma7               -0.033254 -0.008056  \n",
       "sma14              -0.036274 -0.036583  \n",
       "sma21              -0.037384 -0.059223  \n",
       "ema12              -0.033044 -0.023618  \n",
       "ema26              -0.035801 -0.050660  \n",
       "MACD line           0.029624  0.393686  \n",
       "Signal line         0.005772  0.295680  \n",
       "MACD histogram      0.087333  0.439690  \n",
       "change              0.644634  0.274633  \n",
       "log_change          0.640163  0.276917  \n",
       "change_label        1.000000  0.236283  \n",
       "rsi                 0.236283  1.000000  "
      ]
     },
     "execution_count": 336,
     "metadata": {},
     "output_type": "execute_result"
    }
   ],
   "source": [
    "price.corr()"
   ]
  },
  {
   "cell_type": "code",
   "execution_count": 337,
   "metadata": {},
   "outputs": [
    {
     "data": {
      "text/plain": [
       "<Axes: >"
      ]
     },
     "execution_count": 337,
     "metadata": {},
     "output_type": "execute_result"
    },
    {
     "data": {
      "image/png": "[encoded data removed]",
      "text/plain": [
       "<Figure size 1200x1000 with 2 Axes>"
      ]
     },
     "metadata": {},
     "output_type": "display_data"
    }
   ],
   "source": [
    "fig, ax = plt.subplots(figsize=(12,10))\n",
    "\n",
    "sns.heatmap(price.corr(),annot=True)"
   ]
  },
  {
   "cell_type": "code",
   "execution_count": 89,
   "metadata": {},
   "outputs": [
    {
     "data": {
      "text/plain": [
       "<Figure size 1200x600 with 0 Axes>"
      ]
     },
     "metadata": {},
     "output_type": "display_data"
    },
    {
     "data": {
      "image/png": "[encoded data removed]",
      "text/plain": [
       "<Figure size 640x480 with 1 Axes>"
      ]
     },
     "metadata": {},
     "output_type": "display_data"
    }
   ],
   "source": [
    "# Plotting Open, High, Low, Close\n",
    "plt.figure(figsize=(12, 6))\n",
    "price[['Open', 'High', 'Low', 'Close']].plot()\n",
    "plt.title('Price Trends')\n",
    "plt.xlabel('Date')\n",
    "plt.ylabel('Price')\n",
    "plt.legend()\n",
    "plt.show()"
   ]
  },
  {
   "cell_type": "code",
   "execution_count": 90,
   "metadata": {},
   "outputs": [
    {
     "data": {
      "image/png": "[encoded data removed]",
      "text/plain": [
       "<Figure size 1200x600 with 1 Axes>"
      ]
     },
     "metadata": {},
     "output_type": "display_data"
    }
   ],
   "source": [
    "# Plotting Volume\n",
    "plt.figure(figsize=(12, 6))\n",
    "price['Volume'].plot()\n",
    "plt.title('Volume')\n",
    "plt.xlabel('Date')\n",
    "plt.ylabel('Volume')\n",
    "plt.show()"
   ]
  },
  {
   "cell_type": "code",
   "execution_count": 91,
   "metadata": {},
   "outputs": [
    {
     "data": {
      "text/plain": [
       "<Figure size 1200x600 with 0 Axes>"
      ]
     },
     "metadata": {},
     "output_type": "display_data"
    },
    {
     "data": {
      "image/png": "[encoded data removed]",
      "text/plain": [
       "<Figure size 640x480 with 1 Axes>"
      ]
     },
     "metadata": {},
     "output_type": "display_data"
    }
   ],
   "source": [
    "# Plotting Moving Averages\n",
    "plt.figure(figsize=(12, 6))\n",
    "price[['sma7', 'sma14', 'sma21']].plot()\n",
    "plt.title('Moving Averages')\n",
    "plt.xlabel('Date')\n",
    "plt.ylabel('Price')\n",
    "plt.legend()\n",
    "plt.show()"
   ]
  },
  {
   "cell_type": "code",
   "execution_count": 92,
   "metadata": {},
   "outputs": [
    {
     "data": {
      "text/plain": [
       "<Figure size 1200x600 with 0 Axes>"
      ]
     },
     "metadata": {},
     "output_type": "display_data"
    },
    {
     "data": {
      "image/png": "[encoded data removed]",
      "text/plain": [
       "<Figure size 640x480 with 1 Axes>"
      ]
     },
     "metadata": {},
     "output_type": "display_data"
    },
    {
     "data": {
      "image/png": "[encoded data removed]",
      "text/plain": [
       "<Figure size 1200x600 with 1 Axes>"
      ]
     },
     "metadata": {},
     "output_type": "display_data"
    }
   ],
   "source": [
    "# Plotting MACD Line, Signal Line, MACD Histogram\n",
    "plt.figure(figsize=(12, 6))\n",
    "price[['MACD line', 'Signal line', 'MACD histogram']].plot()\n",
    "plt.title('MACD Indicators')\n",
    "plt.xlabel('Date')\n",
    "plt.ylabel('Value')\n",
    "plt.legend()\n",
    "plt.show()\n",
    "\n",
    "# Plotting RSI\n",
    "plt.figure(figsize=(12, 6))\n",
    "price['rsi'].plot()\n",
    "plt.title('RSI')\n",
    "plt.xlabel('Date')\n",
    "plt.ylabel('RSI')\n",
    "plt.show()"
   ]
  },
  {
   "attachments": {},
   "cell_type": "markdown",
   "metadata": {},
   "source": [
    "# Process financial article"
   ]
  },
  {
   "cell_type": "code",
   "execution_count": 93,
   "metadata": {},
   "outputs": [],
   "source": [
    "from joblib import Parallel, delayed\n",
    "import joblib\n",
    "import nltk\n",
    "import matplotlib.pyplot as plt\n",
    "import numpy as np\n",
    "import seaborn as sns\n",
    "from nltk.corpus import stopwords\n",
    "from wordcloud import WordCloud, STOPWORDS, ImageColorGenerator\n",
    "from collections import defaultdict,Counter\n",
    "import re\n",
    "from nltk.stem import WordNetLemmatizer,PorterStemmer"
   ]
  },
  {
   "cell_type": "code",
   "execution_count": 94,
   "metadata": {},
   "outputs": [
    {
     "name": "stderr",
     "output_type": "stream",
     "text": [
      "[nltk_data] Downloading package stopwords to\n",
      "[nltk_data]     C:\\Users\\HP\\AppData\\Roaming\\nltk_data...\n",
      "[nltk_data]   Package stopwords is already up-to-date!\n"
     ]
    }
   ],
   "source": [
    "nltk.download('stopwords')\n",
    "\n",
    "stop=set(stopwords.words('english'))"
   ]
  },
  {
   "cell_type": "code",
   "execution_count": 95,
   "metadata": {},
   "outputs": [],
   "source": [
    "# Import packages\n",
    "# Default packages\n",
    "import time\n",
    "import csv\n",
    "import os\n",
    "import json\n",
    "\n",
    "\n",
    "# Preinstalled packages\n",
    "import requests\n",
    "import pandas as pd\n",
    "\n",
    "# URL of our News API\n",
    "base_url = 'https://api.newscatcherapi.com/v2/search?lang=en'\n",
    "\n",
    "# Your API key\n",
    "X_API_KEY = 'YHBKmAH0DbzXSs_h7be46br_kfw3EhBcqXPtCTSg1Qc'"
   ]
  },
  {
   "cell_type": "code",
   "execution_count": 96,
   "metadata": {},
   "outputs": [],
   "source": [
    "# Put your API key to headers in order to be authorized to perform a call\n",
    "headers = {'x-api-key': X_API_KEY}\n",
    "# Define your desired parameters\n",
    "# params = [\n",
    "#     {\n",
    "#         'q': 'Bitcoin',\n",
    "#         'lang': 'en',\n",
    "#         'to_rank': 10000,\n",
    "#         'topic': \"business\",\n",
    "#         'page_size': 100,\n",
    "#         'page': 1,\n",
    "#         'from' : \"2015/01/01\",\n",
    "#         'to': \"2019/12/31\"\n",
    "#     }\n",
    "# ]\n",
    "\n",
    "params = [\n",
    "    {\n",
    "        'q': 'Bitcoin',\n",
    "        'lang': 'en',\n",
    "        'to_rank': 10000,\n",
    "        'topic': \"business\",\n",
    "        'page_size': 100,\n",
    "        'page': 1\n",
    "    }\n",
    "]\n",
    "\n"
   ]
  },
  {
   "cell_type": "code",
   "execution_count": 97,
   "metadata": {},
   "outputs": [
    {
     "name": "stdout",
     "output_type": "stream",
     "text": [
      "Query in use => {'q': 'Bitcoin', 'lang': 'en', 'to_rank': 10000, 'topic': 'business', 'page_size': 100, 'page': 1}\n",
      "Done for page number => 1\n",
      "Proceed extracting page number => 2\n",
      "Done for page number => 2\n",
      "All articles have been extracted\n"
     ]
    }
   ],
   "source": [
    "# Variable to store all found news articles, mp stands for \"multiple queries\"\n",
    "all_news_articles_mp = []\n",
    "\n",
    "# Infinite loop which ends when all articles are extracted\n",
    "for separated_param in params:\n",
    "\n",
    "    print(f'Query in use => {str(separated_param)}')\n",
    "    \n",
    "    while True:\n",
    "        # Wait for 1 second between each call\n",
    "        time.sleep(1)\n",
    "\n",
    "        # GET Call from previous section enriched with some logs\n",
    "        response = requests.get(base_url, headers=headers, params=separated_param)\n",
    "        results = json.loads(response.text.encode())\n",
    "        if response.status_code == 200:\n",
    "            print(f'Done for page number => {separated_param[\"page\"]}')\n",
    "\n",
    "\n",
    "            # Adding your parameters to each result to be able to explore afterwards\n",
    "            for i in results['articles']:\n",
    "                i['used_params'] = str(separated_param)\n",
    "\n",
    "\n",
    "            # Storing all found articles\n",
    "            all_news_articles_mp.extend(results['articles'])\n",
    "\n",
    "            # Ensuring to cover all pages by incrementing \"page\" value at each iteration\n",
    "            separated_param['page'] += 1\n",
    "            if separated_param['page'] > results['total_pages']:\n",
    "                print(\"All articles have been extracted\")\n",
    "                break\n",
    "            else:\n",
    "                print(f'Proceed extracting page number => {separated_param[\"page\"]}')\n",
    "        else:\n",
    "            print(results)\n",
    "            print(f'ERROR: API call failed for page number => {separated_param[\"page\"]}')\n",
    "            break"
   ]
  },
  {
   "cell_type": "code",
   "execution_count": 98,
   "metadata": {},
   "outputs": [
    {
     "name": "stdout",
     "output_type": "stream",
     "text": [
      "Number of extracted articles => 129\n"
     ]
    }
   ],
   "source": [
    "print(f'Number of extracted articles => {str(len(all_news_articles_mp))}')"
   ]
  },
  {
   "cell_type": "code",
   "execution_count": 99,
   "metadata": {},
   "outputs": [],
   "source": [
    "# Define variables\n",
    "unique_ids = []\n",
    "all_news_articles = []\n",
    "\n",
    "# Iterate on each article and check whether we saw this _id before\n",
    "for article in all_news_articles_mp:\n",
    "    if article['_id'] not in unique_ids:\n",
    "        unique_ids.append(article['_id'])\n",
    "        all_news_articles.append(article)"
   ]
  },
  {
   "cell_type": "code",
   "execution_count": 103,
   "metadata": {},
   "outputs": [],
   "source": [
    "# Import data into pandas\n",
    "news_2023 = pd.DataFrame(all_news_articles)"
   ]
  },
  {
   "cell_type": "code",
   "execution_count": 104,
   "metadata": {},
   "outputs": [
    {
     "data": {
      "text/html": [
       "<div>\n",
       "<style scoped>\n",
       "    .dataframe tbody tr th:only-of-type {\n",
       "        vertical-align: middle;\n",
       "    }\n",
       "\n",
       "    .dataframe tbody tr th {\n",
       "        vertical-align: top;\n",
       "    }\n",
       "\n",
       "    .dataframe thead th {\n",
       "        text-align: right;\n",
       "    }\n",
       "</style>\n",
       "<table border=\"1\" class=\"dataframe\">\n",
       "  <thead>\n",
       "    <tr style=\"text-align: right;\">\n",
       "      <th></th>\n",
       "      <th>title</th>\n",
       "      <th>author</th>\n",
       "      <th>published_date</th>\n",
       "      <th>published_date_precision</th>\n",
       "      <th>link</th>\n",
       "      <th>clean_url</th>\n",
       "      <th>excerpt</th>\n",
       "      <th>summary</th>\n",
       "      <th>rights</th>\n",
       "      <th>rank</th>\n",
       "      <th>topic</th>\n",
       "      <th>country</th>\n",
       "      <th>language</th>\n",
       "      <th>authors</th>\n",
       "      <th>media</th>\n",
       "      <th>is_opinion</th>\n",
       "      <th>twitter_account</th>\n",
       "      <th>_score</th>\n",
       "      <th>_id</th>\n",
       "      <th>used_params</th>\n",
       "    </tr>\n",
       "  </thead>\n",
       "  <tbody>\n",
       "    <tr>\n",
       "      <th>0</th>\n",
       "      <td>A spot bitcoin ETF is much closer to reality, ...</td>\n",
       "      <td>Bob Pisani</td>\n",
       "      <td>2023-08-29 22:15:00</td>\n",
       "      <td>timezone unknown</td>\n",
       "      <td>https://www.cnbc.com/2023/08/29/a-spot-bitcoin...</td>\n",
       "      <td>cnbc.com</td>\n",
       "      <td>Well, now the SEC is in a real pickle. The U.S...</td>\n",
       "      <td>Well, now the SEC is in a real pickle. \\n \\nTh...</td>\n",
       "      <td>nbcphiladelphia.com</td>\n",
       "      <td>128</td>\n",
       "      <td>business</td>\n",
       "      <td>US</td>\n",
       "      <td>en</td>\n",
       "      <td>Bob Pisani,Bob Pisani Cnbc,CNBC</td>\n",
       "      <td>https://media.nbcphiladelphia.com/2023/08/1071...</td>\n",
       "      <td>False</td>\n",
       "      <td>@nbcphiladelphia</td>\n",
       "      <td>9.986321</td>\n",
       "      <td>358436c154af63b0848acfdefb630c3c</td>\n",
       "      <td>{'q': 'Bitcoin', 'lang': 'en', 'to_rank': 1000...</td>\n",
       "    </tr>\n",
       "    <tr>\n",
       "      <th>1</th>\n",
       "      <td>Bitcoin surges after court clears the way for ...</td>\n",
       "      <td>Matthew Fox</td>\n",
       "      <td>2023-08-29 15:41:11</td>\n",
       "      <td>full</td>\n",
       "      <td>https://markets.businessinsider.com/news/curre...</td>\n",
       "      <td>businessinsider.com</td>\n",
       "      <td>The court ruling could lead to a slew of bitco...</td>\n",
       "      <td>The wait for a \\nbitcoin\\n ETF could soon be c...</td>\n",
       "      <td>Insider Inc. 2023</td>\n",
       "      <td>106</td>\n",
       "      <td>business</td>\n",
       "      <td>US</td>\n",
       "      <td>en</td>\n",
       "      <td>Matthew Fox</td>\n",
       "      <td>https://i.insider.com/6493236b1465b60019987dc1...</td>\n",
       "      <td>False</td>\n",
       "      <td>@themoneygame</td>\n",
       "      <td>9.944221</td>\n",
       "      <td>dbbcbb9912ec9d315a8c23070d60b523</td>\n",
       "      <td>{'q': 'Bitcoin', 'lang': 'en', 'to_rank': 1000...</td>\n",
       "    </tr>\n",
       "    <tr>\n",
       "      <th>2</th>\n",
       "      <td>Bitcoin's Evolution Into A Legitimate Form Of ...</td>\n",
       "      <td>Susie Violet Ward</td>\n",
       "      <td>2023-08-29 14:42:49</td>\n",
       "      <td>full</td>\n",
       "      <td>https://www.forbes.com/sites/digital-assets/20...</td>\n",
       "      <td>forbes.com</td>\n",
       "      <td>Bitcoin's utility as a store of value is under...</td>\n",
       "      <td>Traditionally, our reliance on government-issu...</td>\n",
       "      <td>Copyright 2023 Forbes Media LLC</td>\n",
       "      <td>49</td>\n",
       "      <td>business</td>\n",
       "      <td>US</td>\n",
       "      <td>en</td>\n",
       "      <td>Susie Violet Ward</td>\n",
       "      <td>https://imageio.forbes.com/specials-images/ima...</td>\n",
       "      <td>False</td>\n",
       "      <td>@DecentraSuze</td>\n",
       "      <td>9.943146</td>\n",
       "      <td>b7061414244da91043b4c58b5f9cd332</td>\n",
       "      <td>{'q': 'Bitcoin', 'lang': 'en', 'to_rank': 1000...</td>\n",
       "    </tr>\n",
       "    <tr>\n",
       "      <th>3</th>\n",
       "      <td>Exploring BlackRock's Bold Bitcoin Venture</td>\n",
       "      <td>Steve Larsen</td>\n",
       "      <td>2023-08-25 13:29:25</td>\n",
       "      <td>full</td>\n",
       "      <td>https://www.forbes.com/sites/digital-assets/20...</td>\n",
       "      <td>forbes.com</td>\n",
       "      <td>Despite the U.S. Securities and Exchange Commi...</td>\n",
       "      <td>Cryptocurrencies are set to witness a pivotal ...</td>\n",
       "      <td>Copyright 2023 Forbes Media LLC</td>\n",
       "      <td>49</td>\n",
       "      <td>business</td>\n",
       "      <td>US</td>\n",
       "      <td>en</td>\n",
       "      <td>Steve Larsen</td>\n",
       "      <td>https://imageio.forbes.com/specials-images/ima...</td>\n",
       "      <td>False</td>\n",
       "      <td>@Defi_Steward</td>\n",
       "      <td>9.918984</td>\n",
       "      <td>a571cde01f6e0af34b9ab2f15ad1d1f0</td>\n",
       "      <td>{'q': 'Bitcoin', 'lang': 'en', 'to_rank': 1000...</td>\n",
       "    </tr>\n",
       "    <tr>\n",
       "      <th>4</th>\n",
       "      <td>Bitcoin And Human Rights: A Common Ground For ...</td>\n",
       "      <td>Javier Bastardo</td>\n",
       "      <td>2023-08-30 12:27:32</td>\n",
       "      <td>full</td>\n",
       "      <td>https://www.forbes.com/sites/digital-assets/20...</td>\n",
       "      <td>forbes.com</td>\n",
       "      <td>For HRF, bitcoin is a tool to pursue a politic...</td>\n",
       "      <td>Human rights activism is one of the most dange...</td>\n",
       "      <td>Copyright 2023 Forbes Media LLC</td>\n",
       "      <td>49</td>\n",
       "      <td>business</td>\n",
       "      <td>US</td>\n",
       "      <td>en</td>\n",
       "      <td>Javier Bastardo</td>\n",
       "      <td>https://imageio.forbes.com/specials-images/ima...</td>\n",
       "      <td>False</td>\n",
       "      <td>@forbes</td>\n",
       "      <td>9.887732</td>\n",
       "      <td>76e58a92f84e974b504c5809382c923c</td>\n",
       "      <td>{'q': 'Bitcoin', 'lang': 'en', 'to_rank': 1000...</td>\n",
       "    </tr>\n",
       "  </tbody>\n",
       "</table>\n",
       "</div>"
      ],
      "text/plain": [
       "                                               title             author  \\\n",
       "0  A spot bitcoin ETF is much closer to reality, ...         Bob Pisani   \n",
       "1  Bitcoin surges after court clears the way for ...        Matthew Fox   \n",
       "2  Bitcoin's Evolution Into A Legitimate Form Of ...  Susie Violet Ward   \n",
       "3         Exploring BlackRock's Bold Bitcoin Venture       Steve Larsen   \n",
       "4  Bitcoin And Human Rights: A Common Ground For ...    Javier Bastardo   \n",
       "\n",
       "        published_date published_date_precision  \\\n",
       "0  2023-08-29 22:15:00         timezone unknown   \n",
       "1  2023-08-29 15:41:11                     full   \n",
       "2  2023-08-29 14:42:49                     full   \n",
       "3  2023-08-25 13:29:25                     full   \n",
       "4  2023-08-30 12:27:32                     full   \n",
       "\n",
       "                                                link            clean_url  \\\n",
       "0  https://www.cnbc.com/2023/08/29/a-spot-bitcoin...             cnbc.com   \n",
       "1  https://markets.businessinsider.com/news/curre...  businessinsider.com   \n",
       "2  https://www.forbes.com/sites/digital-assets/20...           forbes.com   \n",
       "3  https://www.forbes.com/sites/digital-assets/20...           forbes.com   \n",
       "4  https://www.forbes.com/sites/digital-assets/20...           forbes.com   \n",
       "\n",
       "                                             excerpt  \\\n",
       "0  Well, now the SEC is in a real pickle. The U.S...   \n",
       "1  The court ruling could lead to a slew of bitco...   \n",
       "2  Bitcoin's utility as a store of value is under...   \n",
       "3  Despite the U.S. Securities and Exchange Commi...   \n",
       "4  For HRF, bitcoin is a tool to pursue a politic...   \n",
       "\n",
       "                                             summary  \\\n",
       "0  Well, now the SEC is in a real pickle. \\n \\nTh...   \n",
       "1  The wait for a \\nbitcoin\\n ETF could soon be c...   \n",
       "2  Traditionally, our reliance on government-issu...   \n",
       "3  Cryptocurrencies are set to witness a pivotal ...   \n",
       "4  Human rights activism is one of the most dange...   \n",
       "\n",
       "                            rights  rank     topic country language  \\\n",
       "0              nbcphiladelphia.com   128  business      US       en   \n",
       "1                Insider Inc. 2023   106  business      US       en   \n",
       "2  Copyright 2023 Forbes Media LLC    49  business      US       en   \n",
       "3  Copyright 2023 Forbes Media LLC    49  business      US       en   \n",
       "4  Copyright 2023 Forbes Media LLC    49  business      US       en   \n",
       "\n",
       "                           authors  \\\n",
       "0  Bob Pisani,Bob Pisani Cnbc,CNBC   \n",
       "1                      Matthew Fox   \n",
       "2                Susie Violet Ward   \n",
       "3                     Steve Larsen   \n",
       "4                  Javier Bastardo   \n",
       "\n",
       "                                               media  is_opinion  \\\n",
       "0  https://media.nbcphiladelphia.com/2023/08/1071...       False   \n",
       "1  https://i.insider.com/6493236b1465b60019987dc1...       False   \n",
       "2  https://imageio.forbes.com/specials-images/ima...       False   \n",
       "3  https://imageio.forbes.com/specials-images/ima...       False   \n",
       "4  https://imageio.forbes.com/specials-images/ima...       False   \n",
       "\n",
       "    twitter_account    _score                               _id  \\\n",
       "0  @nbcphiladelphia  9.986321  358436c154af63b0848acfdefb630c3c   \n",
       "1     @themoneygame  9.944221  dbbcbb9912ec9d315a8c23070d60b523   \n",
       "2     @DecentraSuze  9.943146  b7061414244da91043b4c58b5f9cd332   \n",
       "3     @Defi_Steward  9.918984  a571cde01f6e0af34b9ab2f15ad1d1f0   \n",
       "4           @forbes  9.887732  76e58a92f84e974b504c5809382c923c   \n",
       "\n",
       "                                         used_params  \n",
       "0  {'q': 'Bitcoin', 'lang': 'en', 'to_rank': 1000...  \n",
       "1  {'q': 'Bitcoin', 'lang': 'en', 'to_rank': 1000...  \n",
       "2  {'q': 'Bitcoin', 'lang': 'en', 'to_rank': 1000...  \n",
       "3  {'q': 'Bitcoin', 'lang': 'en', 'to_rank': 1000...  \n",
       "4  {'q': 'Bitcoin', 'lang': 'en', 'to_rank': 1000...  "
      ]
     },
     "execution_count": 104,
     "metadata": {},
     "output_type": "execute_result"
    }
   ],
   "source": [
    "news_2023.head()"
   ]
  },
  {
   "cell_type": "code",
   "execution_count": 34,
   "metadata": {},
   "outputs": [],
   "source": [
    "news_2013_2017 = pd.read_csv(\"../archive/crypto_news_parsed_2013-2017_train.csv\")\n",
    "news_2018 = pd.read_csv(\"../archive/crypto_news_parsed_2018_validation.csv\")\n"
   ]
  },
  {
   "cell_type": "code",
   "execution_count": 35,
   "metadata": {},
   "outputs": [],
   "source": [
    "frames = [news_2013_2017,news_2018]\n",
    "news = pd.concat(frames,ignore_index=True)"
   ]
  },
  {
   "cell_type": "code",
   "execution_count": 36,
   "metadata": {},
   "outputs": [],
   "source": [
    "def find_date_from_html(year, html):\n",
    "    date_regex = str(year) + r'[-/](\\d{2})[-/](\\d{2})'\n",
    "    date_matches = re.findall(date_regex,html)\n",
    "    date_matches = [(int(m),int(d)) for m,d in date_matches if int(m) < 13 and int(d) <= monthrange(int(year), int(m))[1] and int(d) > 0 and int(m) > 0]\n",
    "    if not date_matches:\n",
    "        return (None, None)\n",
    "    return max(set(date_matches), key=date_matches.count)"
   ]
  },
  {
   "cell_type": "code",
   "execution_count": 37,
   "metadata": {},
   "outputs": [],
   "source": [
    "\n",
    "date=[]\n",
    "count=0\n",
    "for i in range(0,len(news)):\n",
    "    date.append(find_date_from_html(news['year'][i],news['url'][i]))\n",
    "    if date[i] == (None,None):\n",
    "        count+=1"
   ]
  },
  {
   "cell_type": "code",
   "execution_count": 38,
   "metadata": {},
   "outputs": [
    {
     "data": {
      "text/plain": [
       "29795"
      ]
     },
     "execution_count": 38,
     "metadata": {},
     "output_type": "execute_result"
    }
   ],
   "source": [
    "count"
   ]
  },
  {
   "cell_type": "code",
   "execution_count": 39,
   "metadata": {},
   "outputs": [
    {
     "data": {
      "text/html": [
       "<div>\n",
       "<style scoped>\n",
       "    .dataframe tbody tr th:only-of-type {\n",
       "        vertical-align: middle;\n",
       "    }\n",
       "\n",
       "    .dataframe tbody tr th {\n",
       "        vertical-align: top;\n",
       "    }\n",
       "\n",
       "    .dataframe thead th {\n",
       "        text-align: right;\n",
       "    }\n",
       "</style>\n",
       "<table border=\"1\" class=\"dataframe\">\n",
       "  <thead>\n",
       "    <tr style=\"text-align: right;\">\n",
       "      <th></th>\n",
       "      <th>url</th>\n",
       "      <th>title</th>\n",
       "      <th>text</th>\n",
       "      <th>html</th>\n",
       "      <th>year</th>\n",
       "      <th>author</th>\n",
       "      <th>source</th>\n",
       "    </tr>\n",
       "  </thead>\n",
       "  <tbody>\n",
       "    <tr>\n",
       "      <th>0</th>\n",
       "      <td>https://www.ccn.com/bitcoin-price-update-will-...</td>\n",
       "      <td>Bitcoin Price Update: Will China Lead us Down?</td>\n",
       "      <td>Bitcoin Priced in USD on Mt. GoxAbove is Gox p...</td>\n",
       "      <td>&lt;figure id=\"attachment_4090\" style=\"width: 838...</td>\n",
       "      <td>2013</td>\n",
       "      <td>Gordon Hall</td>\n",
       "      <td>altcoin_analysis</td>\n",
       "    </tr>\n",
       "    <tr>\n",
       "      <th>1</th>\n",
       "      <td>https://www.ccn.com/key-bitcoin-price-levels-w...</td>\n",
       "      <td>Key Bitcoin Price Levels for Week 51 (15 – 22 ...</td>\n",
       "      <td>The Bitcoin price up to 2013/12/14, with Fib l...</td>\n",
       "      <td>&lt;figure id=\"attachment_3961\" style=\"width: 838...</td>\n",
       "      <td>2013</td>\n",
       "      <td>Gordon Hall</td>\n",
       "      <td>altcoin_analysis</td>\n",
       "    </tr>\n",
       "    <tr>\n",
       "      <th>2</th>\n",
       "      <td>https://www.ccn.com/national-australia-bank-ci...</td>\n",
       "      <td>National Australia Bank, Citing Highly Flawed ...</td>\n",
       "      <td>National Australia Bank looms over Melbourne’s...</td>\n",
       "      <td>&lt;figure id=\"attachment_5011\" style=\"width: 750...</td>\n",
       "      <td>2013</td>\n",
       "      <td>Gordon Hall</td>\n",
       "      <td>altcoin_analysis</td>\n",
       "    </tr>\n",
       "    <tr>\n",
       "      <th>3</th>\n",
       "      <td>https://www.ccn.com/chinese-banking-ban-bitcoi...</td>\n",
       "      <td>Chinese Bitcoin Ban Driven by  Chinese Banking...</td>\n",
       "      <td>Recent reports from China indicate there may b...</td>\n",
       "      <td>&lt;p&gt;&lt;span style=\"line-height: 1.5em;\"&gt;Recent re...</td>\n",
       "      <td>2013</td>\n",
       "      <td>Jonas Borchgrevink</td>\n",
       "      <td>altcoin_analysis</td>\n",
       "    </tr>\n",
       "    <tr>\n",
       "      <th>4</th>\n",
       "      <td>https://www.ccn.com/bitcoin-trade-update-opene...</td>\n",
       "      <td>Bitcoin Trade Update: Opened Position</td>\n",
       "      <td>Opened 1st Bitcoin trade position, price curre...</td>\n",
       "      <td>&lt;figure id=\"attachment_4921\" style=\"width: 750...</td>\n",
       "      <td>2013</td>\n",
       "      <td>Gordon Hall</td>\n",
       "      <td>altcoin_analysis</td>\n",
       "    </tr>\n",
       "  </tbody>\n",
       "</table>\n",
       "</div>"
      ],
      "text/plain": [
       "                                                 url  \\\n",
       "0  https://www.ccn.com/bitcoin-price-update-will-...   \n",
       "1  https://www.ccn.com/key-bitcoin-price-levels-w...   \n",
       "2  https://www.ccn.com/national-australia-bank-ci...   \n",
       "3  https://www.ccn.com/chinese-banking-ban-bitcoi...   \n",
       "4  https://www.ccn.com/bitcoin-trade-update-opene...   \n",
       "\n",
       "                                               title  \\\n",
       "0     Bitcoin Price Update: Will China Lead us Down?   \n",
       "1  Key Bitcoin Price Levels for Week 51 (15 – 22 ...   \n",
       "2  National Australia Bank, Citing Highly Flawed ...   \n",
       "3  Chinese Bitcoin Ban Driven by  Chinese Banking...   \n",
       "4              Bitcoin Trade Update: Opened Position   \n",
       "\n",
       "                                                text  \\\n",
       "0  Bitcoin Priced in USD on Mt. GoxAbove is Gox p...   \n",
       "1  The Bitcoin price up to 2013/12/14, with Fib l...   \n",
       "2  National Australia Bank looms over Melbourne’s...   \n",
       "3  Recent reports from China indicate there may b...   \n",
       "4  Opened 1st Bitcoin trade position, price curre...   \n",
       "\n",
       "                                                html  year  \\\n",
       "0  <figure id=\"attachment_4090\" style=\"width: 838...  2013   \n",
       "1  <figure id=\"attachment_3961\" style=\"width: 838...  2013   \n",
       "2  <figure id=\"attachment_5011\" style=\"width: 750...  2013   \n",
       "3  <p><span style=\"line-height: 1.5em;\">Recent re...  2013   \n",
       "4  <figure id=\"attachment_4921\" style=\"width: 750...  2013   \n",
       "\n",
       "               author            source  \n",
       "0         Gordon Hall  altcoin_analysis  \n",
       "1         Gordon Hall  altcoin_analysis  \n",
       "2         Gordon Hall  altcoin_analysis  \n",
       "3  Jonas Borchgrevink  altcoin_analysis  \n",
       "4         Gordon Hall  altcoin_analysis  "
      ]
     },
     "execution_count": 39,
     "metadata": {},
     "output_type": "execute_result"
    }
   ],
   "source": [
    "news.head()"
   ]
  },
  {
   "cell_type": "code",
   "execution_count": 40,
   "metadata": {},
   "outputs": [
    {
     "data": {
      "text/plain": [
       "39308"
      ]
     },
     "execution_count": 40,
     "metadata": {},
     "output_type": "execute_result"
    }
   ],
   "source": [
    "len(news)"
   ]
  },
  {
   "cell_type": "code",
   "execution_count": 41,
   "metadata": {},
   "outputs": [],
   "source": [
    "news[[\"month\", \"day\"]] = news.apply(lambda x: find_date_from_html(x[\"year\"], x[\"html\"]), axis=1, result_type='expand')\n",
    "news['date'] = pd.to_datetime(news[[\"year\", \"month\", \"day\"]], utc=True)\n",
    "news = news.drop(columns=[\"year\", \"month\", \"day\"])\n",
    "# news = news.set_index(\"date\")\n",
    "# news.dropna()"
   ]
  },
  {
   "cell_type": "code",
   "execution_count": 42,
   "metadata": {},
   "outputs": [
    {
     "data": {
      "text/plain": [
       "39308"
      ]
     },
     "execution_count": 42,
     "metadata": {},
     "output_type": "execute_result"
    }
   ],
   "source": [
    "len(news)"
   ]
  },
  {
   "cell_type": "code",
   "execution_count": 43,
   "metadata": {},
   "outputs": [
    {
     "data": {
      "text/html": [
       "<div>\n",
       "<style scoped>\n",
       "    .dataframe tbody tr th:only-of-type {\n",
       "        vertical-align: middle;\n",
       "    }\n",
       "\n",
       "    .dataframe tbody tr th {\n",
       "        vertical-align: top;\n",
       "    }\n",
       "\n",
       "    .dataframe thead th {\n",
       "        text-align: right;\n",
       "    }\n",
       "</style>\n",
       "<table border=\"1\" class=\"dataframe\">\n",
       "  <thead>\n",
       "    <tr style=\"text-align: right;\">\n",
       "      <th></th>\n",
       "      <th>url</th>\n",
       "      <th>title</th>\n",
       "      <th>text</th>\n",
       "      <th>html</th>\n",
       "      <th>author</th>\n",
       "      <th>source</th>\n",
       "      <th>date</th>\n",
       "    </tr>\n",
       "  </thead>\n",
       "  <tbody>\n",
       "    <tr>\n",
       "      <th>0</th>\n",
       "      <td>https://www.ccn.com/bitcoin-price-update-will-...</td>\n",
       "      <td>Bitcoin Price Update: Will China Lead us Down?</td>\n",
       "      <td>Bitcoin Priced in USD on Mt. GoxAbove is Gox p...</td>\n",
       "      <td>&lt;figure id=\"attachment_4090\" style=\"width: 838...</td>\n",
       "      <td>Gordon Hall</td>\n",
       "      <td>altcoin_analysis</td>\n",
       "      <td>2013-12-16 00:00:00+00:00</td>\n",
       "    </tr>\n",
       "    <tr>\n",
       "      <th>1</th>\n",
       "      <td>https://www.ccn.com/key-bitcoin-price-levels-w...</td>\n",
       "      <td>Key Bitcoin Price Levels for Week 51 (15 – 22 ...</td>\n",
       "      <td>The Bitcoin price up to 2013/12/14, with Fib l...</td>\n",
       "      <td>&lt;figure id=\"attachment_3961\" style=\"width: 838...</td>\n",
       "      <td>Gordon Hall</td>\n",
       "      <td>altcoin_analysis</td>\n",
       "      <td>2013-12-14 00:00:00+00:00</td>\n",
       "    </tr>\n",
       "    <tr>\n",
       "      <th>2</th>\n",
       "      <td>https://www.ccn.com/national-australia-bank-ci...</td>\n",
       "      <td>National Australia Bank, Citing Highly Flawed ...</td>\n",
       "      <td>National Australia Bank looms over Melbourne’s...</td>\n",
       "      <td>&lt;figure id=\"attachment_5011\" style=\"width: 750...</td>\n",
       "      <td>Gordon Hall</td>\n",
       "      <td>altcoin_analysis</td>\n",
       "      <td>2013-12-20 00:00:00+00:00</td>\n",
       "    </tr>\n",
       "    <tr>\n",
       "      <th>4</th>\n",
       "      <td>https://www.ccn.com/bitcoin-trade-update-opene...</td>\n",
       "      <td>Bitcoin Trade Update: Opened Position</td>\n",
       "      <td>Opened 1st Bitcoin trade position, price curre...</td>\n",
       "      <td>&lt;figure id=\"attachment_4921\" style=\"width: 750...</td>\n",
       "      <td>Gordon Hall</td>\n",
       "      <td>altcoin_analysis</td>\n",
       "      <td>2013-12-21 00:00:00+00:00</td>\n",
       "    </tr>\n",
       "    <tr>\n",
       "      <th>5</th>\n",
       "      <td>https://www.ccn.com/key-bitcoin-price-levels-w...</td>\n",
       "      <td>Key Bitcoin Price Levels for Week 52 (22 – 28 ...</td>\n",
       "      <td>Gox Bitcoin Price, Volume, Fib Levels, trendli...</td>\n",
       "      <td>&lt;figure id=\"attachment_4520\" style=\"width: 192...</td>\n",
       "      <td>Gordon Hall</td>\n",
       "      <td>altcoin_analysis</td>\n",
       "      <td>2013-12-05 00:00:00+00:00</td>\n",
       "    </tr>\n",
       "    <tr>\n",
       "      <th>...</th>\n",
       "      <td>...</td>\n",
       "      <td>...</td>\n",
       "      <td>...</td>\n",
       "      <td>...</td>\n",
       "      <td>...</td>\n",
       "      <td>...</td>\n",
       "      <td>...</td>\n",
       "    </tr>\n",
       "    <tr>\n",
       "      <th>39262</th>\n",
       "      <td>https://cointelegraph.com/news/indie-game-deli...</td>\n",
       "      <td>Indie Game Delisted From Steam Marketplace for...</td>\n",
       "      <td>Valve Corporation has removed a game from its ...</td>\n",
       "      <td>&lt;p dir=\"ltr\"&gt;Valve Corporation has removed a g...</td>\n",
       "      <td>Ana Alexandre</td>\n",
       "      <td>scam_news</td>\n",
       "      <td>2018-07-30 00:00:00+00:00</td>\n",
       "    </tr>\n",
       "    <tr>\n",
       "      <th>39279</th>\n",
       "      <td>https://cointelegraph.com/news/korean-crypto-e...</td>\n",
       "      <td>Korean Crypto Exchange Execs Detained On Fraud...</td>\n",
       "      <td>CoinNest co-founder and chief executive Kim Ik...</td>\n",
       "      <td>&lt;p dir=\"ltr\"&gt;&lt;a href=\"https://www.coinnest.co....</td>\n",
       "      <td>Marie Huillet</td>\n",
       "      <td>scam_news</td>\n",
       "      <td>2018-01-23 00:00:00+00:00</td>\n",
       "    </tr>\n",
       "    <tr>\n",
       "      <th>39291</th>\n",
       "      <td>https://cointelegraph.com/news/steve-wozniak-l...</td>\n",
       "      <td>Steve Wozniak ‘Loses 7 BTC’ In Unlikely Credit...</td>\n",
       "      <td>Apple co-founder Steve Wozniak allegedly lost ...</td>\n",
       "      <td>&lt;p dir=\"ltr\"&gt;Apple co-founder Steve Wozniak al...</td>\n",
       "      <td>William Suberg</td>\n",
       "      <td>scam_news</td>\n",
       "      <td>2018-02-26 00:00:00+00:00</td>\n",
       "    </tr>\n",
       "    <tr>\n",
       "      <th>39298</th>\n",
       "      <td>https://cointelegraph.com/news/opera-browser-a...</td>\n",
       "      <td>Opera Browser Addresses Cryptojacking, Adds An...</td>\n",
       "      <td>Opera, a web browser that has since December i...</td>\n",
       "      <td>&lt;p dir=\"ltr\"&gt;Opera, a web browser that has sin...</td>\n",
       "      <td>Molly Jane Zuckerman</td>\n",
       "      <td>scam_news</td>\n",
       "      <td>2018-01-22 00:00:00+00:00</td>\n",
       "    </tr>\n",
       "    <tr>\n",
       "      <th>39299</th>\n",
       "      <td>https://www.ccn.com/lg-subsidiary-launches-its...</td>\n",
       "      <td>LG Subsidiary Launches Enterprise Blockchain P...</td>\n",
       "      <td>The IT subsidiary of electronics giant LG has ...</td>\n",
       "      <td>&lt;p class=\"p1\"&gt;The IT subsidiary of electronics...</td>\n",
       "      <td>Samburaj Das</td>\n",
       "      <td>uncategorized</td>\n",
       "      <td>2018-05-11 00:00:00+00:00</td>\n",
       "    </tr>\n",
       "  </tbody>\n",
       "</table>\n",
       "<p>15350 rows × 7 columns</p>\n",
       "</div>"
      ],
      "text/plain": [
       "                                                     url  \\\n",
       "0      https://www.ccn.com/bitcoin-price-update-will-...   \n",
       "1      https://www.ccn.com/key-bitcoin-price-levels-w...   \n",
       "2      https://www.ccn.com/national-australia-bank-ci...   \n",
       "4      https://www.ccn.com/bitcoin-trade-update-opene...   \n",
       "5      https://www.ccn.com/key-bitcoin-price-levels-w...   \n",
       "...                                                  ...   \n",
       "39262  https://cointelegraph.com/news/indie-game-deli...   \n",
       "39279  https://cointelegraph.com/news/korean-crypto-e...   \n",
       "39291  https://cointelegraph.com/news/steve-wozniak-l...   \n",
       "39298  https://cointelegraph.com/news/opera-browser-a...   \n",
       "39299  https://www.ccn.com/lg-subsidiary-launches-its...   \n",
       "\n",
       "                                                   title  \\\n",
       "0         Bitcoin Price Update: Will China Lead us Down?   \n",
       "1      Key Bitcoin Price Levels for Week 51 (15 – 22 ...   \n",
       "2      National Australia Bank, Citing Highly Flawed ...   \n",
       "4                  Bitcoin Trade Update: Opened Position   \n",
       "5      Key Bitcoin Price Levels for Week 52 (22 – 28 ...   \n",
       "...                                                  ...   \n",
       "39262  Indie Game Delisted From Steam Marketplace for...   \n",
       "39279  Korean Crypto Exchange Execs Detained On Fraud...   \n",
       "39291  Steve Wozniak ‘Loses 7 BTC’ In Unlikely Credit...   \n",
       "39298  Opera Browser Addresses Cryptojacking, Adds An...   \n",
       "39299  LG Subsidiary Launches Enterprise Blockchain P...   \n",
       "\n",
       "                                                    text  \\\n",
       "0      Bitcoin Priced in USD on Mt. GoxAbove is Gox p...   \n",
       "1      The Bitcoin price up to 2013/12/14, with Fib l...   \n",
       "2      National Australia Bank looms over Melbourne’s...   \n",
       "4      Opened 1st Bitcoin trade position, price curre...   \n",
       "5      Gox Bitcoin Price, Volume, Fib Levels, trendli...   \n",
       "...                                                  ...   \n",
       "39262  Valve Corporation has removed a game from its ...   \n",
       "39279  CoinNest co-founder and chief executive Kim Ik...   \n",
       "39291  Apple co-founder Steve Wozniak allegedly lost ...   \n",
       "39298  Opera, a web browser that has since December i...   \n",
       "39299  The IT subsidiary of electronics giant LG has ...   \n",
       "\n",
       "                                                    html  \\\n",
       "0      <figure id=\"attachment_4090\" style=\"width: 838...   \n",
       "1      <figure id=\"attachment_3961\" style=\"width: 838...   \n",
       "2      <figure id=\"attachment_5011\" style=\"width: 750...   \n",
       "4      <figure id=\"attachment_4921\" style=\"width: 750...   \n",
       "5      <figure id=\"attachment_4520\" style=\"width: 192...   \n",
       "...                                                  ...   \n",
       "39262  <p dir=\"ltr\">Valve Corporation has removed a g...   \n",
       "39279  <p dir=\"ltr\"><a href=\"https://www.coinnest.co....   \n",
       "39291  <p dir=\"ltr\">Apple co-founder Steve Wozniak al...   \n",
       "39298  <p dir=\"ltr\">Opera, a web browser that has sin...   \n",
       "39299  <p class=\"p1\">The IT subsidiary of electronics...   \n",
       "\n",
       "                     author            source                      date  \n",
       "0               Gordon Hall  altcoin_analysis 2013-12-16 00:00:00+00:00  \n",
       "1               Gordon Hall  altcoin_analysis 2013-12-14 00:00:00+00:00  \n",
       "2               Gordon Hall  altcoin_analysis 2013-12-20 00:00:00+00:00  \n",
       "4               Gordon Hall  altcoin_analysis 2013-12-21 00:00:00+00:00  \n",
       "5               Gordon Hall  altcoin_analysis 2013-12-05 00:00:00+00:00  \n",
       "...                     ...               ...                       ...  \n",
       "39262         Ana Alexandre         scam_news 2018-07-30 00:00:00+00:00  \n",
       "39279        Marie Huillet          scam_news 2018-01-23 00:00:00+00:00  \n",
       "39291        William Suberg         scam_news 2018-02-26 00:00:00+00:00  \n",
       "39298  Molly Jane Zuckerman         scam_news 2018-01-22 00:00:00+00:00  \n",
       "39299          Samburaj Das     uncategorized 2018-05-11 00:00:00+00:00  \n",
       "\n",
       "[15350 rows x 7 columns]"
      ]
     },
     "execution_count": 43,
     "metadata": {},
     "output_type": "execute_result"
    }
   ],
   "source": [
    "news.dropna()"
   ]
  },
  {
   "cell_type": "code",
   "execution_count": 44,
   "metadata": {},
   "outputs": [
    {
     "data": {
      "text/plain": [
       "39308"
      ]
     },
     "execution_count": 44,
     "metadata": {},
     "output_type": "execute_result"
    }
   ],
   "source": [
    "len(news)"
   ]
  },
  {
   "cell_type": "code",
   "execution_count": 45,
   "metadata": {},
   "outputs": [],
   "source": [
    "news = news.dropna(subset=['date'])\n"
   ]
  },
  {
   "cell_type": "code",
   "execution_count": 46,
   "metadata": {},
   "outputs": [
    {
     "data": {
      "text/plain": [
       "15350"
      ]
     },
     "execution_count": 46,
     "metadata": {},
     "output_type": "execute_result"
    }
   ],
   "source": [
    "len(news)"
   ]
  },
  {
   "cell_type": "code",
   "execution_count": 47,
   "metadata": {},
   "outputs": [],
   "source": [
    "# pd.set_option('display.max_rows', None)"
   ]
  },
  {
   "cell_type": "code",
   "execution_count": 48,
   "metadata": {},
   "outputs": [],
   "source": [
    "# # Set the maximum number of rows to display\n",
    "# pd.set_option('display.max_rows', None)\n",
    "# # Reset display options to default\n",
    "# pd.reset_option('display.max_rows')\n"
   ]
  },
  {
   "cell_type": "code",
   "execution_count": 49,
   "metadata": {},
   "outputs": [],
   "source": [
    "news['date']=news.date.apply (lambda x : str(x)[:10])"
   ]
  },
  {
   "cell_type": "code",
   "execution_count": 50,
   "metadata": {},
   "outputs": [
    {
     "name": "stdout",
     "output_type": "stream",
     "text": [
      "0        2013-12-16\n",
      "1        2013-12-14\n",
      "2        2013-12-20\n",
      "4        2013-12-21\n",
      "5        2013-12-05\n",
      "            ...    \n",
      "39262    2018-07-30\n",
      "39279    2018-01-23\n",
      "39291    2018-02-26\n",
      "39298    2018-01-22\n",
      "39299    2018-05-11\n",
      "Name: date, Length: 15350, dtype: object\n"
     ]
    }
   ],
   "source": [
    "print(news['date'])"
   ]
  },
  {
   "cell_type": "code",
   "execution_count": 51,
   "metadata": {},
   "outputs": [],
   "source": [
    "#Remove Urls and HTML links\n",
    "def remove_urls(text):\n",
    "    url_remove = re.compile(r'https?://\\S+|www\\.\\S+')\n",
    "    return url_remove.sub(r'', text)\n",
    "news['title']=news['title'].apply(lambda x:remove_urls(x))\n",
    "\n",
    "def remove_html(text):\n",
    "    html=re.compile(r'<.*?>')\n",
    "    return html.sub(r'',text)\n",
    "news['title']=news['title'].apply(lambda x:remove_html(x))"
   ]
  },
  {
   "cell_type": "code",
   "execution_count": 52,
   "metadata": {},
   "outputs": [],
   "source": [
    "# Lower casing\n",
    "def lower(text):\n",
    "    low_text= text.lower()\n",
    "    return low_text\n",
    "news['title']=news['title'].apply(lambda x:lower(x))\n",
    "\n",
    "\n",
    "# Number removal\n",
    "def remove_num(text):\n",
    "    remove= re.sub(r'\\d+', '', text)\n",
    "    return remove\n",
    "news['title']=news['title'].apply(lambda x:remove_num(x))"
   ]
  },
  {
   "cell_type": "code",
   "execution_count": 53,
   "metadata": {},
   "outputs": [],
   "source": [
    "#Remove stopwords & Punctuations\n",
    "from nltk.corpus import stopwords\n",
    "\", \".join(stopwords.words('english'))\n",
    "STOPWORDS = set(stopwords.words('english'))\n",
    "\n",
    "def punct_remove(text):\n",
    "    punct = re.sub(r\"[^\\w\\s\\d]\",\"\", text)\n",
    "    return punct\n",
    "news['title']=news['title'].apply(lambda x:punct_remove(x))\n",
    "\n",
    "\n",
    "\n",
    "def remove_stopwords(text):\n",
    "    \"\"\"custom function to remove the stopwords\"\"\"\n",
    "    return \" \".join([word for word in str(text).split() if word not in STOPWORDS])\n",
    "news['title']=news['title'].apply(lambda x:remove_stopwords(x))"
   ]
  },
  {
   "cell_type": "code",
   "execution_count": 54,
   "metadata": {},
   "outputs": [],
   "source": [
    "#Remove mentions and hashtags\n",
    "def remove_mention(x):\n",
    "    text=re.sub(r'@\\w+','',x)\n",
    "    return text\n",
    "news['title']=news['title'].apply(lambda x:remove_mention(x))\n",
    "def remove_hash(x):\n",
    "    text=re.sub(r'#\\w+','',x)\n",
    "    return text\n",
    "news['title']=news['title'].apply(lambda x:remove_hash(x))"
   ]
  },
  {
   "cell_type": "code",
   "execution_count": 55,
   "metadata": {},
   "outputs": [],
   "source": [
    "#Remove extra white space left while removing stuff\n",
    "def remove_space(text):\n",
    "    space_remove = re.sub(r\"\\s+\",\" \",text).strip()\n",
    "    return space_remove\n",
    "def stemming(text):\n",
    "    ps = PorterStemmer()\n",
    "    \n",
    "    return\" \".join([ps.stem(word) for word in str(text).split()])\n",
    "    \n",
    "def lemmatizing(text):\n",
    "    wordnet_lemmatizer = WordNetLemmatizer()\n",
    "    \n",
    "    return\" \".join([wordnet_lemmatizer.lemmatize(word) for word in str(text).split()])\n",
    "news['title']=news['title'].apply(lambda x:remove_space(x))"
   ]
  },
  {
   "cell_type": "code",
   "execution_count": 56,
   "metadata": {},
   "outputs": [
    {
     "data": {
      "text/plain": [
       "[('bitcoin', 6996),\n",
       " ('price', 5112),\n",
       " ('analysis', 3513),\n",
       " ('technical', 1946),\n",
       " ('ethereum', 1446),\n",
       " ('watch', 1200),\n",
       " ('blockchain', 1169),\n",
       " ('crypto', 885),\n",
       " ('cryptocurrency', 698),\n",
       " ('new', 595),\n",
       " ('btc', 563),\n",
       " ('ethusd', 537),\n",
       " ('trading', 498),\n",
       " ('exchange', 491),\n",
       " ('cash', 481),\n",
       " ('litecoin', 470),\n",
       " ('ripple', 414),\n",
       " ('tech', 406),\n",
       " ('weekly', 381),\n",
       " ('bank', 373)]"
      ]
     },
     "execution_count": 56,
     "metadata": {},
     "output_type": "execute_result"
    }
   ],
   "source": [
    "from collections import Counter\n",
    "comment_words = '' \n",
    "stopwords = set(STOPWORDS) \n",
    "\n",
    "for val in news.title: \n",
    "      \n",
    "    # typecaste each val to string \n",
    "    val = str(val) \n",
    "  \n",
    "    # split the value \n",
    "    tokens = val.split() \n",
    "      \n",
    "    # Converts each token into lowercase \n",
    "    for i in range(len(tokens)): \n",
    "        tokens[i] = tokens[i].lower() \n",
    "      \n",
    "    comment_words += \" \".join(tokens)+\" \"\n",
    "split_it = comment_words.split()\n",
    "Counter = Counter(split_it)\n",
    "number=20\n",
    "most_occur = Counter.most_common(number)\n",
    "most_occur"
   ]
  },
  {
   "cell_type": "code",
   "execution_count": 57,
   "metadata": {},
   "outputs": [
    {
     "data": {
      "text/plain": [
       "<Axes: xlabel='Word'>"
      ]
     },
     "execution_count": 57,
     "metadata": {},
     "output_type": "execute_result"
    },
    {
     "data": {
      "image/png": "[encoded data removed]",
      "text/plain": [
       "<Figure size 640x480 with 1 Axes>"
      ]
     },
     "metadata": {},
     "output_type": "display_data"
    }
   ],
   "source": [
    "dfm = pd.DataFrame(most_occur, columns = ['Word', 'Count'])\n",
    "dfm.plot.bar(x='Word',y='Count')"
   ]
  },
  {
   "cell_type": "code",
   "execution_count": 58,
   "metadata": {},
   "outputs": [],
   "source": [
    "news['title']=news['title'].apply(lambda x:stemming(x))"
   ]
  },
  {
   "cell_type": "code",
   "execution_count": 59,
   "metadata": {},
   "outputs": [
    {
     "data": {
      "text/html": [
       "<div>\n",
       "<style scoped>\n",
       "    .dataframe tbody tr th:only-of-type {\n",
       "        vertical-align: middle;\n",
       "    }\n",
       "\n",
       "    .dataframe tbody tr th {\n",
       "        vertical-align: top;\n",
       "    }\n",
       "\n",
       "    .dataframe thead th {\n",
       "        text-align: right;\n",
       "    }\n",
       "</style>\n",
       "<table border=\"1\" class=\"dataframe\">\n",
       "  <thead>\n",
       "    <tr style=\"text-align: right;\">\n",
       "      <th></th>\n",
       "      <th>url</th>\n",
       "      <th>title</th>\n",
       "      <th>text</th>\n",
       "      <th>html</th>\n",
       "      <th>author</th>\n",
       "      <th>source</th>\n",
       "      <th>date</th>\n",
       "    </tr>\n",
       "  </thead>\n",
       "  <tbody>\n",
       "    <tr>\n",
       "      <th>0</th>\n",
       "      <td>https://www.ccn.com/bitcoin-price-update-will-...</td>\n",
       "      <td>bitcoin price updat china lead us</td>\n",
       "      <td>Bitcoin Priced in USD on Mt. GoxAbove is Gox p...</td>\n",
       "      <td>&lt;figure id=\"attachment_4090\" style=\"width: 838...</td>\n",
       "      <td>Gordon Hall</td>\n",
       "      <td>altcoin_analysis</td>\n",
       "      <td>2013-12-16</td>\n",
       "    </tr>\n",
       "    <tr>\n",
       "      <th>1</th>\n",
       "      <td>https://www.ccn.com/key-bitcoin-price-levels-w...</td>\n",
       "      <td>key bitcoin price level week dec</td>\n",
       "      <td>The Bitcoin price up to 2013/12/14, with Fib l...</td>\n",
       "      <td>&lt;figure id=\"attachment_3961\" style=\"width: 838...</td>\n",
       "      <td>Gordon Hall</td>\n",
       "      <td>altcoin_analysis</td>\n",
       "      <td>2013-12-14</td>\n",
       "    </tr>\n",
       "    <tr>\n",
       "      <th>2</th>\n",
       "      <td>https://www.ccn.com/national-australia-bank-ci...</td>\n",
       "      <td>nation australia bank cite highli flaw data ca...</td>\n",
       "      <td>National Australia Bank looms over Melbourne’s...</td>\n",
       "      <td>&lt;figure id=\"attachment_5011\" style=\"width: 750...</td>\n",
       "      <td>Gordon Hall</td>\n",
       "      <td>altcoin_analysis</td>\n",
       "      <td>2013-12-20</td>\n",
       "    </tr>\n",
       "    <tr>\n",
       "      <th>4</th>\n",
       "      <td>https://www.ccn.com/bitcoin-trade-update-opene...</td>\n",
       "      <td>bitcoin trade updat open posit</td>\n",
       "      <td>Opened 1st Bitcoin trade position, price curre...</td>\n",
       "      <td>&lt;figure id=\"attachment_4921\" style=\"width: 750...</td>\n",
       "      <td>Gordon Hall</td>\n",
       "      <td>altcoin_analysis</td>\n",
       "      <td>2013-12-21</td>\n",
       "    </tr>\n",
       "    <tr>\n",
       "      <th>5</th>\n",
       "      <td>https://www.ccn.com/key-bitcoin-price-levels-w...</td>\n",
       "      <td>key bitcoin price level week dec trade plan</td>\n",
       "      <td>Gox Bitcoin Price, Volume, Fib Levels, trendli...</td>\n",
       "      <td>&lt;figure id=\"attachment_4520\" style=\"width: 192...</td>\n",
       "      <td>Gordon Hall</td>\n",
       "      <td>altcoin_analysis</td>\n",
       "      <td>2013-12-05</td>\n",
       "    </tr>\n",
       "    <tr>\n",
       "      <th>...</th>\n",
       "      <td>...</td>\n",
       "      <td>...</td>\n",
       "      <td>...</td>\n",
       "      <td>...</td>\n",
       "      <td>...</td>\n",
       "      <td>...</td>\n",
       "      <td>...</td>\n",
       "    </tr>\n",
       "    <tr>\n",
       "      <th>39262</th>\n",
       "      <td>https://cointelegraph.com/news/indie-game-deli...</td>\n",
       "      <td>indi game delist steam marketplac alleg crypto...</td>\n",
       "      <td>Valve Corporation has removed a game from its ...</td>\n",
       "      <td>&lt;p dir=\"ltr\"&gt;Valve Corporation has removed a g...</td>\n",
       "      <td>Ana Alexandre</td>\n",
       "      <td>scam_news</td>\n",
       "      <td>2018-07-30</td>\n",
       "    </tr>\n",
       "    <tr>\n",
       "      <th>39279</th>\n",
       "      <td>https://cointelegraph.com/news/korean-crypto-e...</td>\n",
       "      <td>korean crypto exchang exec detain fraud embezz...</td>\n",
       "      <td>CoinNest co-founder and chief executive Kim Ik...</td>\n",
       "      <td>&lt;p dir=\"ltr\"&gt;&lt;a href=\"https://www.coinnest.co....</td>\n",
       "      <td>Marie Huillet</td>\n",
       "      <td>scam_news</td>\n",
       "      <td>2018-01-23</td>\n",
       "    </tr>\n",
       "    <tr>\n",
       "      <th>39291</th>\n",
       "      <td>https://cointelegraph.com/news/steve-wozniak-l...</td>\n",
       "      <td>steve wozniak lose btc unlik credit card fraud</td>\n",
       "      <td>Apple co-founder Steve Wozniak allegedly lost ...</td>\n",
       "      <td>&lt;p dir=\"ltr\"&gt;Apple co-founder Steve Wozniak al...</td>\n",
       "      <td>William Suberg</td>\n",
       "      <td>scam_news</td>\n",
       "      <td>2018-02-26</td>\n",
       "    </tr>\n",
       "    <tr>\n",
       "      <th>39298</th>\n",
       "      <td>https://cointelegraph.com/news/opera-browser-a...</td>\n",
       "      <td>opera browser address cryptojack add anticrypt...</td>\n",
       "      <td>Opera, a web browser that has since December i...</td>\n",
       "      <td>&lt;p dir=\"ltr\"&gt;Opera, a web browser that has sin...</td>\n",
       "      <td>Molly Jane Zuckerman</td>\n",
       "      <td>scam_news</td>\n",
       "      <td>2018-01-22</td>\n",
       "    </tr>\n",
       "    <tr>\n",
       "      <th>39299</th>\n",
       "      <td>https://www.ccn.com/lg-subsidiary-launches-its...</td>\n",
       "      <td>lg subsidiari launch enterpris blockchain plat...</td>\n",
       "      <td>The IT subsidiary of electronics giant LG has ...</td>\n",
       "      <td>&lt;p class=\"p1\"&gt;The IT subsidiary of electronics...</td>\n",
       "      <td>Samburaj Das</td>\n",
       "      <td>uncategorized</td>\n",
       "      <td>2018-05-11</td>\n",
       "    </tr>\n",
       "  </tbody>\n",
       "</table>\n",
       "<p>15350 rows × 7 columns</p>\n",
       "</div>"
      ],
      "text/plain": [
       "                                                     url  \\\n",
       "0      https://www.ccn.com/bitcoin-price-update-will-...   \n",
       "1      https://www.ccn.com/key-bitcoin-price-levels-w...   \n",
       "2      https://www.ccn.com/national-australia-bank-ci...   \n",
       "4      https://www.ccn.com/bitcoin-trade-update-opene...   \n",
       "5      https://www.ccn.com/key-bitcoin-price-levels-w...   \n",
       "...                                                  ...   \n",
       "39262  https://cointelegraph.com/news/indie-game-deli...   \n",
       "39279  https://cointelegraph.com/news/korean-crypto-e...   \n",
       "39291  https://cointelegraph.com/news/steve-wozniak-l...   \n",
       "39298  https://cointelegraph.com/news/opera-browser-a...   \n",
       "39299  https://www.ccn.com/lg-subsidiary-launches-its...   \n",
       "\n",
       "                                                   title  \\\n",
       "0                      bitcoin price updat china lead us   \n",
       "1                       key bitcoin price level week dec   \n",
       "2      nation australia bank cite highli flaw data ca...   \n",
       "4                         bitcoin trade updat open posit   \n",
       "5            key bitcoin price level week dec trade plan   \n",
       "...                                                  ...   \n",
       "39262  indi game delist steam marketplac alleg crypto...   \n",
       "39279  korean crypto exchang exec detain fraud embezz...   \n",
       "39291     steve wozniak lose btc unlik credit card fraud   \n",
       "39298  opera browser address cryptojack add anticrypt...   \n",
       "39299  lg subsidiari launch enterpris blockchain plat...   \n",
       "\n",
       "                                                    text  \\\n",
       "0      Bitcoin Priced in USD on Mt. GoxAbove is Gox p...   \n",
       "1      The Bitcoin price up to 2013/12/14, with Fib l...   \n",
       "2      National Australia Bank looms over Melbourne’s...   \n",
       "4      Opened 1st Bitcoin trade position, price curre...   \n",
       "5      Gox Bitcoin Price, Volume, Fib Levels, trendli...   \n",
       "...                                                  ...   \n",
       "39262  Valve Corporation has removed a game from its ...   \n",
       "39279  CoinNest co-founder and chief executive Kim Ik...   \n",
       "39291  Apple co-founder Steve Wozniak allegedly lost ...   \n",
       "39298  Opera, a web browser that has since December i...   \n",
       "39299  The IT subsidiary of electronics giant LG has ...   \n",
       "\n",
       "                                                    html  \\\n",
       "0      <figure id=\"attachment_4090\" style=\"width: 838...   \n",
       "1      <figure id=\"attachment_3961\" style=\"width: 838...   \n",
       "2      <figure id=\"attachment_5011\" style=\"width: 750...   \n",
       "4      <figure id=\"attachment_4921\" style=\"width: 750...   \n",
       "5      <figure id=\"attachment_4520\" style=\"width: 192...   \n",
       "...                                                  ...   \n",
       "39262  <p dir=\"ltr\">Valve Corporation has removed a g...   \n",
       "39279  <p dir=\"ltr\"><a href=\"https://www.coinnest.co....   \n",
       "39291  <p dir=\"ltr\">Apple co-founder Steve Wozniak al...   \n",
       "39298  <p dir=\"ltr\">Opera, a web browser that has sin...   \n",
       "39299  <p class=\"p1\">The IT subsidiary of electronics...   \n",
       "\n",
       "                     author            source        date  \n",
       "0               Gordon Hall  altcoin_analysis  2013-12-16  \n",
       "1               Gordon Hall  altcoin_analysis  2013-12-14  \n",
       "2               Gordon Hall  altcoin_analysis  2013-12-20  \n",
       "4               Gordon Hall  altcoin_analysis  2013-12-21  \n",
       "5               Gordon Hall  altcoin_analysis  2013-12-05  \n",
       "...                     ...               ...         ...  \n",
       "39262         Ana Alexandre         scam_news  2018-07-30  \n",
       "39279        Marie Huillet          scam_news  2018-01-23  \n",
       "39291        William Suberg         scam_news  2018-02-26  \n",
       "39298  Molly Jane Zuckerman         scam_news  2018-01-22  \n",
       "39299          Samburaj Das     uncategorized  2018-05-11  \n",
       "\n",
       "[15350 rows x 7 columns]"
      ]
     },
     "execution_count": 59,
     "metadata": {},
     "output_type": "execute_result"
    }
   ],
   "source": [
    "news"
   ]
  },
  {
   "cell_type": "code",
   "execution_count": 60,
   "metadata": {},
   "outputs": [],
   "source": [
    "news = news.groupby('date')['title'].apply(lambda x: ' '.join(x)).reset_index()"
   ]
  },
  {
   "cell_type": "code",
   "execution_count": 61,
   "metadata": {},
   "outputs": [
    {
     "data": {
      "text/plain": [
       "1735"
      ]
     },
     "execution_count": 61,
     "metadata": {},
     "output_type": "execute_result"
    }
   ],
   "source": [
    "len(news)"
   ]
  },
  {
   "cell_type": "code",
   "execution_count": 62,
   "metadata": {},
   "outputs": [
    {
     "data": {
      "text/html": [
       "<div>\n",
       "<style scoped>\n",
       "    .dataframe tbody tr th:only-of-type {\n",
       "        vertical-align: middle;\n",
       "    }\n",
       "\n",
       "    .dataframe tbody tr th {\n",
       "        vertical-align: top;\n",
       "    }\n",
       "\n",
       "    .dataframe thead th {\n",
       "        text-align: right;\n",
       "    }\n",
       "</style>\n",
       "<table border=\"1\" class=\"dataframe\">\n",
       "  <thead>\n",
       "    <tr style=\"text-align: right;\">\n",
       "      <th></th>\n",
       "      <th>date</th>\n",
       "      <th>title</th>\n",
       "    </tr>\n",
       "  </thead>\n",
       "  <tbody>\n",
       "    <tr>\n",
       "      <th>0</th>\n",
       "      <td>2013-01-01</td>\n",
       "      <td>happen us regul bitcoin meet bitcoin exchang b...</td>\n",
       "    </tr>\n",
       "    <tr>\n",
       "      <th>1</th>\n",
       "      <td>2013-01-02</td>\n",
       "      <td>vault satoshi expand canadian bitcoin exchang ...</td>\n",
       "    </tr>\n",
       "    <tr>\n",
       "      <th>2</th>\n",
       "      <td>2013-01-22</td>\n",
       "      <td>gambl bitcoin block chain</td>\n",
       "    </tr>\n",
       "    <tr>\n",
       "      <th>3</th>\n",
       "      <td>2013-01-26</td>\n",
       "      <td>bitmark want move money bitcoin incasino gambl</td>\n",
       "    </tr>\n",
       "    <tr>\n",
       "      <th>4</th>\n",
       "      <td>2013-02-01</td>\n",
       "      <td>bitcoin solut startup intern bank issu</td>\n",
       "    </tr>\n",
       "  </tbody>\n",
       "</table>\n",
       "</div>"
      ],
      "text/plain": [
       "         date                                              title\n",
       "0  2013-01-01  happen us regul bitcoin meet bitcoin exchang b...\n",
       "1  2013-01-02  vault satoshi expand canadian bitcoin exchang ...\n",
       "2  2013-01-22                          gambl bitcoin block chain\n",
       "3  2013-01-26     bitmark want move money bitcoin incasino gambl\n",
       "4  2013-02-01             bitcoin solut startup intern bank issu"
      ]
     },
     "execution_count": 62,
     "metadata": {},
     "output_type": "execute_result"
    }
   ],
   "source": [
    "news.head()"
   ]
  },
  {
   "cell_type": "code",
   "execution_count": 63,
   "metadata": {},
   "outputs": [],
   "source": [
    "news.rename(columns={\"date\": \"Date\"}, inplace=True)\n",
    "price.rename(columns={\"date\": \"Date\"}, inplace=True)"
   ]
  },
  {
   "cell_type": "code",
   "execution_count": null,
   "metadata": {},
   "outputs": [],
   "source": [
    "news_price = news.merge(price, how='outer', on=['Date'])"
   ]
  },
  {
   "cell_type": "code",
   "execution_count": null,
   "metadata": {},
   "outputs": [],
   "source": [
    "news_price = news_price.dropna()"
   ]
  },
  {
   "cell_type": "code",
   "execution_count": null,
   "metadata": {},
   "outputs": [
    {
     "data": {
      "text/plain": [
       "1257"
      ]
     },
     "execution_count": 580,
     "metadata": {},
     "output_type": "execute_result"
    }
   ],
   "source": [
    "len(news_price)"
   ]
  },
  {
   "cell_type": "markdown",
   "metadata": {},
   "source": [
    "# Process tweets"
   ]
  },
  {
   "cell_type": "code",
   "execution_count": 19,
   "metadata": {},
   "outputs": [],
   "source": [
    "tweets_2015 = pd.read_csv('../archive/data/tweets/combined_tweets_2015_labeled.csv')\n",
    "tweets_2016 = pd.read_csv('../archive/data/tweets/combined_tweets_2016_labeled.csv')\n",
    "tweets_2017 = pd.read_csv('../archive/data/tweets/combined_tweets_2017_labeled.csv')\n",
    "tweets_2018 = pd.read_csv('../archive/data/tweets/combined_tweets_2018_labeled.csv')\n",
    "tweets_2019 = pd.read_csv('../archive/data/tweets/combined_tweets_2019_apr_dec_labeled.csv')\n",
    "tweets_2020 = pd.read_csv('../archive/data/tweets/combined_tweets_2020_labeled.csv')\n",
    "tweets_2021 = pd.read_csv('../archive/data/tweets/combined_tweets_2021_jan_may_labeled.csv')\n",
    "\n"
   ]
  },
  {
   "cell_type": "code",
   "execution_count": 21,
   "metadata": {},
   "outputs": [],
   "source": [
    "frames = [tweets_2015,tweets_2016,tweets_2017,tweets_2018,tweets_2019,tweets_2020,tweets_2021]\n",
    "tweets = pd.concat(frames,ignore_index=True)"
   ]
  },
  {
   "cell_type": "code",
   "execution_count": 22,
   "metadata": {},
   "outputs": [],
   "source": [
    "tweets.rename(columns={\"date\": \"Date\"}, inplace=True)"
   ]
  },
  {
   "cell_type": "code",
   "execution_count": 23,
   "metadata": {},
   "outputs": [
    {
     "data": {
      "text/html": [
       "<div>\n",
       "<style scoped>\n",
       "    .dataframe tbody tr th:only-of-type {\n",
       "        vertical-align: middle;\n",
       "    }\n",
       "\n",
       "    .dataframe tbody tr th {\n",
       "        vertical-align: top;\n",
       "    }\n",
       "\n",
       "    .dataframe thead th {\n",
       "        text-align: right;\n",
       "    }\n",
       "</style>\n",
       "<table border=\"1\" class=\"dataframe\">\n",
       "  <thead>\n",
       "    <tr style=\"text-align: right;\">\n",
       "      <th></th>\n",
       "      <th>Unnamed: 0</th>\n",
       "      <th>Date</th>\n",
       "      <th>text_split</th>\n",
       "      <th>label_up5</th>\n",
       "      <th>label_up2</th>\n",
       "      <th>label_down5</th>\n",
       "      <th>label_down2</th>\n",
       "    </tr>\n",
       "  </thead>\n",
       "  <tbody>\n",
       "    <tr>\n",
       "      <th>0</th>\n",
       "      <td>0</td>\n",
       "      <td>2015-01-01</td>\n",
       "      <td>blocked me thats my achievement still like bit...</td>\n",
       "      <td>False</td>\n",
       "      <td>False</td>\n",
       "      <td>False</td>\n",
       "      <td>False</td>\n",
       "    </tr>\n",
       "    <tr>\n",
       "      <th>1</th>\n",
       "      <td>1</td>\n",
       "      <td>2015-01-01</td>\n",
       "      <td>accept here is bitcoin tip via claim it here c...</td>\n",
       "      <td>False</td>\n",
       "      <td>False</td>\n",
       "      <td>False</td>\n",
       "      <td>False</td>\n",
       "    </tr>\n",
       "    <tr>\n",
       "      <th>2</th>\n",
       "      <td>2</td>\n",
       "      <td>2015-01-01</td>\n",
       "      <td>btc bitcoin current price btc bitcoin parking ...</td>\n",
       "      <td>False</td>\n",
       "      <td>False</td>\n",
       "      <td>False</td>\n",
       "      <td>False</td>\n",
       "    </tr>\n",
       "    <tr>\n",
       "      <th>3</th>\n",
       "      <td>3</td>\n",
       "      <td>2015-01-01</td>\n",
       "      <td>revolution don miss out your bitcoin tip about...</td>\n",
       "      <td>False</td>\n",
       "      <td>False</td>\n",
       "      <td>False</td>\n",
       "      <td>False</td>\n",
       "    </tr>\n",
       "    <tr>\n",
       "      <th>4</th>\n",
       "      <td>4</td>\n",
       "      <td>2015-01-01</td>\n",
       "      <td>cap billion based on bitcoin informative my da...</td>\n",
       "      <td>False</td>\n",
       "      <td>False</td>\n",
       "      <td>False</td>\n",
       "      <td>False</td>\n",
       "    </tr>\n",
       "    <tr>\n",
       "      <th>...</th>\n",
       "      <td>...</td>\n",
       "      <td>...</td>\n",
       "      <td>...</td>\n",
       "      <td>...</td>\n",
       "      <td>...</td>\n",
       "      <td>...</td>\n",
       "      <td>...</td>\n",
       "    </tr>\n",
       "    <tr>\n",
       "      <th>342057</th>\n",
       "      <td>31805</td>\n",
       "      <td>2021-05-31</td>\n",
       "      <td>bitcoin claim free bitcoin bitcoin price sugge...</td>\n",
       "      <td>True</td>\n",
       "      <td>True</td>\n",
       "      <td>False</td>\n",
       "      <td>True</td>\n",
       "    </tr>\n",
       "    <tr>\n",
       "      <th>342058</th>\n",
       "      <td>31806</td>\n",
       "      <td>2021-05-31</td>\n",
       "      <td>het roulette het is wat of twitter deal gift s...</td>\n",
       "      <td>True</td>\n",
       "      <td>True</td>\n",
       "      <td>False</td>\n",
       "      <td>True</td>\n",
       "    </tr>\n",
       "    <tr>\n",
       "      <th>342059</th>\n",
       "      <td>31807</td>\n",
       "      <td>2021-05-31</td>\n",
       "      <td>longer it stays in this range it will be it go...</td>\n",
       "      <td>True</td>\n",
       "      <td>True</td>\n",
       "      <td>False</td>\n",
       "      <td>True</td>\n",
       "    </tr>\n",
       "    <tr>\n",
       "      <th>342060</th>\n",
       "      <td>31808</td>\n",
       "      <td>2021-05-31</td>\n",
       "      <td>en el video para el de media el de en ya para ...</td>\n",
       "      <td>True</td>\n",
       "      <td>True</td>\n",
       "      <td>False</td>\n",
       "      <td>True</td>\n",
       "    </tr>\n",
       "    <tr>\n",
       "      <th>342061</th>\n",
       "      <td>31809</td>\n",
       "      <td>2021-05-31</td>\n",
       "      <td>you are pleb and bitcoin don have boss mi btc ...</td>\n",
       "      <td>True</td>\n",
       "      <td>True</td>\n",
       "      <td>False</td>\n",
       "      <td>True</td>\n",
       "    </tr>\n",
       "  </tbody>\n",
       "</table>\n",
       "<p>342062 rows × 7 columns</p>\n",
       "</div>"
      ],
      "text/plain": [
       "        Unnamed: 0        Date  \\\n",
       "0                0  2015-01-01   \n",
       "1                1  2015-01-01   \n",
       "2                2  2015-01-01   \n",
       "3                3  2015-01-01   \n",
       "4                4  2015-01-01   \n",
       "...            ...         ...   \n",
       "342057       31805  2021-05-31   \n",
       "342058       31806  2021-05-31   \n",
       "342059       31807  2021-05-31   \n",
       "342060       31808  2021-05-31   \n",
       "342061       31809  2021-05-31   \n",
       "\n",
       "                                               text_split  label_up5  \\\n",
       "0       blocked me thats my achievement still like bit...      False   \n",
       "1       accept here is bitcoin tip via claim it here c...      False   \n",
       "2       btc bitcoin current price btc bitcoin parking ...      False   \n",
       "3       revolution don miss out your bitcoin tip about...      False   \n",
       "4       cap billion based on bitcoin informative my da...      False   \n",
       "...                                                   ...        ...   \n",
       "342057  bitcoin claim free bitcoin bitcoin price sugge...       True   \n",
       "342058  het roulette het is wat of twitter deal gift s...       True   \n",
       "342059  longer it stays in this range it will be it go...       True   \n",
       "342060  en el video para el de media el de en ya para ...       True   \n",
       "342061  you are pleb and bitcoin don have boss mi btc ...       True   \n",
       "\n",
       "        label_up2  label_down5  label_down2  \n",
       "0           False        False        False  \n",
       "1           False        False        False  \n",
       "2           False        False        False  \n",
       "3           False        False        False  \n",
       "4           False        False        False  \n",
       "...           ...          ...          ...  \n",
       "342057       True        False         True  \n",
       "342058       True        False         True  \n",
       "342059       True        False         True  \n",
       "342060       True        False         True  \n",
       "342061       True        False         True  \n",
       "\n",
       "[342062 rows x 7 columns]"
      ]
     },
     "execution_count": 23,
     "metadata": {},
     "output_type": "execute_result"
    }
   ],
   "source": [
    "tweets"
   ]
  },
  {
   "cell_type": "code",
   "execution_count": 37,
   "metadata": {},
   "outputs": [],
   "source": [
    "from sklearn.model_selection import train_test_split"
   ]
  },
  {
   "cell_type": "code",
   "execution_count": 74,
   "metadata": {},
   "outputs": [],
   "source": [
    "sentence = tweets['text_split'].values\n",
    "label = tweets['label_down2'].map({True: 1, False: 0})"
   ]
  },
  {
   "cell_type": "code",
   "execution_count": 75,
   "metadata": {},
   "outputs": [
    {
     "data": {
      "text/plain": [
       "0         0\n",
       "1         0\n",
       "2         0\n",
       "3         0\n",
       "4         0\n",
       "         ..\n",
       "342057    1\n",
       "342058    1\n",
       "342059    1\n",
       "342060    1\n",
       "342061    1\n",
       "Name: label_down2, Length: 342062, dtype: int64"
      ]
     },
     "execution_count": 75,
     "metadata": {},
     "output_type": "execute_result"
    }
   ],
   "source": [
    "label"
   ]
  },
  {
   "cell_type": "code",
   "execution_count": 76,
   "metadata": {},
   "outputs": [],
   "source": [
    "sentence_train,sentence_test, label_train,label_test = train_test_split(sentence, label,test_size=0.25, random_state=1000)"
   ]
  },
  {
   "cell_type": "code",
   "execution_count": 78,
   "metadata": {},
   "outputs": [],
   "source": [
    "from keras.preprocessing.text import Tokenizer\n",
    "\n",
    "tokenizer  = Tokenizer(num_words=5000)\n",
    "tokenizer.fit_on_texts(sentence_train)\n"
   ]
  },
  {
   "cell_type": "code",
   "execution_count": 48,
   "metadata": {},
   "outputs": [],
   "source": [
    "xcnn_train = tokenizer.texts_to_sequences(sentence_train)\n",
    "xcnn_test = tokenizer.texts_to_sequences(sentence_test)\n",
    "vocab_size = len(tokenizer.word_index) + 1"
   ]
  },
  {
   "cell_type": "code",
   "execution_count": 79,
   "metadata": {},
   "outputs": [],
   "source": [
    "from sklearn.model_selection import train_test_split\n",
    "from sklearn.preprocessing import StandardScaler\n",
    "from keras.models import Sequential,Model\n",
    "from keras_preprocessing.sequence import pad_sequences\n",
    "from keras.layers import LSTM, Dense, Embedding, Input, concatenate,Conv2D,Conv1D,Flatten,BatchNormalization, MaxPooling2D,MaxPooling1D"
   ]
  },
  {
   "cell_type": "code",
   "execution_count": 80,
   "metadata": {},
   "outputs": [],
   "source": [
    "maxlen = 200\n",
    "xcnn_train = pad_sequences(xcnn_train,padding='post', maxlen=maxlen)\n",
    "\n",
    "xcnn_test = pad_sequences(xcnn_test, padding='post',maxlen=maxlen)"
   ]
  },
  {
   "cell_type": "code",
   "execution_count": 81,
   "metadata": {},
   "outputs": [
    {
     "name": "stdout",
     "output_type": "stream",
     "text": [
      "Model: \"sequential_4\"\n",
      "_________________________________________________________________\n",
      " Layer (type)                Output Shape              Param #   \n",
      "=================================================================\n",
      " embedding_2 (Embedding)     (None, 200, 200)          7069800   \n",
      "                                                                 \n",
      " conv1d_2 (Conv1D)           (None, 196, 128)          128128    \n",
      "                                                                 \n",
      " max_pooling1d_2 (MaxPooling  (None, 98, 128)          0         \n",
      " 1D)                                                             \n",
      "                                                                 \n",
      " dense_4 (Dense)             (None, 98, 10)            1290      \n",
      "                                                                 \n",
      " dense_5 (Dense)             (None, 98, 1)             11        \n",
      "                                                                 \n",
      "=================================================================\n",
      "Total params: 7,199,229\n",
      "Trainable params: 7,199,229\n",
      "Non-trainable params: 0\n",
      "_________________________________________________________________\n"
     ]
    }
   ],
   "source": [
    "embedding_dim = 200\n",
    "model = Sequential()\n",
    "model.add(Embedding(vocab_size, embedding_dim,input_length=maxlen))\n",
    "model.add(Conv1D(128,5,activation='relu'))\n",
    "model.add(MaxPooling1D())\n",
    "model.add(Dense(10, activation='relu'))\n",
    "model.add(Dense(1,activation='sigmoid'))\n",
    "\n",
    "model.compile(optimizer='adam',loss='binary_crossentropy',metrics=['accuracy'])\n",
    "model.summary()"
   ]
  },
  {
   "cell_type": "code",
   "execution_count": 82,
   "metadata": {},
   "outputs": [
    {
     "name": "stdout",
     "output_type": "stream",
     "text": [
      "Epoch 1/2\n",
      "25655/25655 [==============================] - 2741s 106ms/step - loss: 0.6902 - accuracy: 0.5387 - val_loss: 0.6899 - val_accuracy: 0.5400\n",
      "Epoch 2/2\n",
      " 2525/25655 [=>............................] - ETA: 39:01 - loss: 0.6898 - accuracy: 0.5412"
     ]
    }
   ],
   "source": [
    "model.fit(xcnn_train, label_train, epochs=2, verbose=True, validation_data=(xcnn_test,label_test),batch_size=10)"
   ]
  },
  {
   "cell_type": "code",
   "execution_count": 49,
   "metadata": {},
   "outputs": [
    {
     "name": "stdout",
     "output_type": "stream",
     "text": [
      "35349\n",
      "para el nice more that would adopt bitcoin in the future pro tip find top copy their automatically bitcoin via crypto bitcoin is bitcoin currency though seriously coin btc good article on bitcoin and view on its common iceland big bitcoin with over in stolen mining you don have to literally say buy bitcoin to say buy bitcoin all the big offering bitcoin related assets say that they are in the early of offering it to their this that they have bought of bitcoin in this dip and will buy more bitcoin dealer on money without bond money is freedom invest and make profit in my company brokage platform now for more serious minded invest wealth business cash rich entrepreneur finance profit debt bitcoin the crypto to as ether founder growth is near ceiling bitcoin as sec two linked to crypto how long will it be before all have style listening to think people choose to invite it into their ai advertising bitcoin fashion marketing crypto entrepreneur quote bitcoin bin den bitcoin bitcoin cash xrp iota some on bitcoin security bitcoin is his name helping crypto save the world is his game learn more about the historic rise of bitcoin\n",
      "[88, 40, 602, 33, 17, 99, 1771, 1, 8, 2, 143, 765, 1150, 347, 120, 658, 123, 908, 1, 26, 14, 1, 6, 1, 87, 578, 1208, 94, 5, 125, 502, 12, 1, 4, 756, 12, 84, 1373, 2307, 168, 1, 15, 90, 8, 1060, 63, 11, 76, 39, 3, 951, 231, 44, 1, 3, 231, 44, 1, 42, 2, 168, 1154, 1, 936, 444, 231, 17, 67, 23, 8, 2, 364, 7, 1154, 10, 3, 123, 19, 17, 67, 39, 267, 7, 1, 8, 19, 648, 4, 22, 44, 33, 1, 2192, 12, 54, 290, 1883, 54, 6, 743, 164, 4, 115, 195, 8, 32, 309, 199, 31, 9, 33, 1045, 3234, 164, 518, 176, 58, 554, 834, 249, 195, 921, 1, 2, 14, 3, 24, 427, 560, 562, 6, 684, 4408, 1, 24, 287, 275, 1906, 3, 14, 53, 152, 22, 10, 21, 204, 42, 39, 1678, 2170, 3, 121, 71, 1018, 3, 873, 10, 79, 123, 501, 1132, 1, 1263, 675, 14, 834, 1278, 1, 1665, 850, 1, 1, 58, 59, 404, 95, 12, 1, 330, 1, 6, 192, 523, 1461, 14, 593, 2, 98, 6, 192, 271, 242, 33, 51, 2, 1915, 355, 7, 1]\n"
     ]
    }
   ],
   "source": [
    "print(vocab_size)\n",
    "print(sentence_train[1])\n",
    "print(xcnn_train[1])"
   ]
  },
  {
   "cell_type": "code",
   "execution_count": null,
   "metadata": {},
   "outputs": [],
   "source": []
  },
  {
   "cell_type": "code",
   "execution_count": null,
   "metadata": {},
   "outputs": [],
   "source": [
    "tokenizer"
   ]
  },
  {
   "cell_type": "code",
   "execution_count": 32,
   "metadata": {},
   "outputs": [
    {
     "data": {
      "text/plain": [
       "1099"
      ]
     },
     "execution_count": 32,
     "metadata": {},
     "output_type": "execute_result"
    }
   ],
   "source": [
    "len(tweets['text_split'][3])"
   ]
  },
  {
   "cell_type": "code",
   "execution_count": 342,
   "metadata": {},
   "outputs": [],
   "source": [
    "tweets = tweets.groupby('Date')['text_split'].apply(lambda x: ' '.join(x)).reset_index()"
   ]
  },
  {
   "cell_type": "code",
   "execution_count": null,
   "metadata": {},
   "outputs": [],
   "source": [
    "# tweets = tweets.drop(columns=['date', 'label_up5','label_up2','label_down5','label_down2'])"
   ]
  },
  {
   "cell_type": "code",
   "execution_count": 343,
   "metadata": {},
   "outputs": [
    {
     "data": {
      "text/plain": [
       "(2247, 2)"
      ]
     },
     "execution_count": 343,
     "metadata": {},
     "output_type": "execute_result"
    }
   ],
   "source": [
    "tweets.shape"
   ]
  },
  {
   "cell_type": "code",
   "execution_count": 344,
   "metadata": {},
   "outputs": [
    {
     "data": {
      "text/html": [
       "<div>\n",
       "<style scoped>\n",
       "    .dataframe tbody tr th:only-of-type {\n",
       "        vertical-align: middle;\n",
       "    }\n",
       "\n",
       "    .dataframe tbody tr th {\n",
       "        vertical-align: top;\n",
       "    }\n",
       "\n",
       "    .dataframe thead th {\n",
       "        text-align: right;\n",
       "    }\n",
       "</style>\n",
       "<table border=\"1\" class=\"dataframe\">\n",
       "  <thead>\n",
       "    <tr style=\"text-align: right;\">\n",
       "      <th></th>\n",
       "      <th>Date</th>\n",
       "      <th>text_split</th>\n",
       "    </tr>\n",
       "  </thead>\n",
       "  <tbody>\n",
       "    <tr>\n",
       "      <th>0</th>\n",
       "      <td>2015-01-01</td>\n",
       "      <td>blocked me thats my achievement still like bit...</td>\n",
       "    </tr>\n",
       "    <tr>\n",
       "      <th>1</th>\n",
       "      <td>2015-01-02</td>\n",
       "      <td>bitcoin my brother and have just our first me ...</td>\n",
       "    </tr>\n",
       "    <tr>\n",
       "      <th>2</th>\n",
       "      <td>2015-01-03</td>\n",
       "      <td>bitcoin btc new post cryptocurrency trading ne...</td>\n",
       "    </tr>\n",
       "    <tr>\n",
       "      <th>3</th>\n",
       "      <td>2015-01-04</td>\n",
       "      <td>in the last there were exchange pair yielding ...</td>\n",
       "    </tr>\n",
       "    <tr>\n",
       "      <th>4</th>\n",
       "      <td>2015-01-05</td>\n",
       "      <td>can wait to get my tax refund and buy bitcoin ...</td>\n",
       "    </tr>\n",
       "    <tr>\n",
       "      <th>...</th>\n",
       "      <td>...</td>\n",
       "      <td>...</td>\n",
       "    </tr>\n",
       "    <tr>\n",
       "      <th>2242</th>\n",
       "      <td>2021-05-27</td>\n",
       "      <td>bitcoin cryptocurrency money the central histo...</td>\n",
       "    </tr>\n",
       "    <tr>\n",
       "      <th>2243</th>\n",
       "      <td>2021-05-28</td>\n",
       "      <td>what to do when bitcoin price crash bitcoin to...</td>\n",
       "    </tr>\n",
       "    <tr>\n",
       "      <th>2244</th>\n",
       "      <td>2021-05-29</td>\n",
       "      <td>great project and hope it will achieve lots of...</td>\n",
       "    </tr>\n",
       "    <tr>\n",
       "      <th>2245</th>\n",
       "      <td>2021-05-30</td>\n",
       "      <td>rager was do that too but like it will take of...</td>\n",
       "    </tr>\n",
       "    <tr>\n",
       "      <th>2246</th>\n",
       "      <td>2021-05-31</td>\n",
       "      <td>daily crypto chat eth bitcoin and happy hour c...</td>\n",
       "    </tr>\n",
       "  </tbody>\n",
       "</table>\n",
       "<p>2247 rows × 2 columns</p>\n",
       "</div>"
      ],
      "text/plain": [
       "            Date                                         text_split\n",
       "0     2015-01-01  blocked me thats my achievement still like bit...\n",
       "1     2015-01-02  bitcoin my brother and have just our first me ...\n",
       "2     2015-01-03  bitcoin btc new post cryptocurrency trading ne...\n",
       "3     2015-01-04  in the last there were exchange pair yielding ...\n",
       "4     2015-01-05  can wait to get my tax refund and buy bitcoin ...\n",
       "...          ...                                                ...\n",
       "2242  2021-05-27  bitcoin cryptocurrency money the central histo...\n",
       "2243  2021-05-28  what to do when bitcoin price crash bitcoin to...\n",
       "2244  2021-05-29  great project and hope it will achieve lots of...\n",
       "2245  2021-05-30  rager was do that too but like it will take of...\n",
       "2246  2021-05-31  daily crypto chat eth bitcoin and happy hour c...\n",
       "\n",
       "[2247 rows x 2 columns]"
      ]
     },
     "execution_count": 344,
     "metadata": {},
     "output_type": "execute_result"
    }
   ],
   "source": [
    "tweets"
   ]
  },
  {
   "cell_type": "code",
   "execution_count": null,
   "metadata": {},
   "outputs": [],
   "source": [
    "\n",
    "# tweets['Date']=tweets.Date.apply (lambda x : str(x)[:10])"
   ]
  },
  {
   "cell_type": "code",
   "execution_count": 345,
   "metadata": {},
   "outputs": [],
   "source": [
    "tweets['Date'] = pd.to_datetime(tweets['Date'])"
   ]
  },
  {
   "cell_type": "code",
   "execution_count": 348,
   "metadata": {},
   "outputs": [],
   "source": [
    "price['Date'] = pd.to_datetime(price['Date'])"
   ]
  },
  {
   "cell_type": "code",
   "execution_count": 430,
   "metadata": {},
   "outputs": [],
   "source": [
    "price_tweets = tweets.merge(price, how='outer', on=['Date'])"
   ]
  },
  {
   "cell_type": "code",
   "execution_count": 431,
   "metadata": {},
   "outputs": [
    {
     "data": {
      "text/html": [
       "<div>\n",
       "<style scoped>\n",
       "    .dataframe tbody tr th:only-of-type {\n",
       "        vertical-align: middle;\n",
       "    }\n",
       "\n",
       "    .dataframe tbody tr th {\n",
       "        vertical-align: top;\n",
       "    }\n",
       "\n",
       "    .dataframe thead th {\n",
       "        text-align: right;\n",
       "    }\n",
       "</style>\n",
       "<table border=\"1\" class=\"dataframe\">\n",
       "  <thead>\n",
       "    <tr style=\"text-align: right;\">\n",
       "      <th></th>\n",
       "      <th>Date</th>\n",
       "      <th>text_split</th>\n",
       "      <th>Open</th>\n",
       "      <th>High</th>\n",
       "      <th>Low</th>\n",
       "      <th>Close</th>\n",
       "      <th>Adj Close</th>\n",
       "      <th>Volume</th>\n",
       "      <th>sma7</th>\n",
       "      <th>sma14</th>\n",
       "      <th>sma21</th>\n",
       "      <th>ema12</th>\n",
       "      <th>ema26</th>\n",
       "      <th>MACD line</th>\n",
       "      <th>Signal line</th>\n",
       "      <th>MACD histogram</th>\n",
       "      <th>change</th>\n",
       "      <th>log_change</th>\n",
       "      <th>change_label</th>\n",
       "      <th>rsi</th>\n",
       "    </tr>\n",
       "  </thead>\n",
       "  <tbody>\n",
       "    <tr>\n",
       "      <th>0</th>\n",
       "      <td>2015-01-01</td>\n",
       "      <td>blocked me thats my achievement still like bit...</td>\n",
       "      <td>320.434998</td>\n",
       "      <td>320.434998</td>\n",
       "      <td>314.002991</td>\n",
       "      <td>314.248993</td>\n",
       "      <td>314.248993</td>\n",
       "      <td>8036550.0</td>\n",
       "      <td>NaN</td>\n",
       "      <td>NaN</td>\n",
       "      <td>NaN</td>\n",
       "      <td>319.278532</td>\n",
       "      <td>319.752697</td>\n",
       "      <td>-0.474165</td>\n",
       "      <td>-0.094833</td>\n",
       "      <td>-0.379332</td>\n",
       "      <td>-0.018564</td>\n",
       "      <td>-0.018738</td>\n",
       "      <td>False</td>\n",
       "      <td>NaN</td>\n",
       "    </tr>\n",
       "    <tr>\n",
       "      <th>1</th>\n",
       "      <td>2015-01-02</td>\n",
       "      <td>bitcoin my brother and have just our first me ...</td>\n",
       "      <td>314.079010</td>\n",
       "      <td>315.838989</td>\n",
       "      <td>313.565002</td>\n",
       "      <td>315.032013</td>\n",
       "      <td>315.032013</td>\n",
       "      <td>7860650.0</td>\n",
       "      <td>NaN</td>\n",
       "      <td>NaN</td>\n",
       "      <td>NaN</td>\n",
       "      <td>318.625221</td>\n",
       "      <td>319.403017</td>\n",
       "      <td>-0.777796</td>\n",
       "      <td>-0.231426</td>\n",
       "      <td>-0.546370</td>\n",
       "      <td>0.002492</td>\n",
       "      <td>0.002489</td>\n",
       "      <td>True</td>\n",
       "      <td>NaN</td>\n",
       "    </tr>\n",
       "    <tr>\n",
       "      <th>2</th>\n",
       "      <td>2015-01-03</td>\n",
       "      <td>bitcoin btc new post cryptocurrency trading ne...</td>\n",
       "      <td>314.846008</td>\n",
       "      <td>315.149994</td>\n",
       "      <td>281.082001</td>\n",
       "      <td>281.082001</td>\n",
       "      <td>281.082001</td>\n",
       "      <td>33054400.0</td>\n",
       "      <td>NaN</td>\n",
       "      <td>NaN</td>\n",
       "      <td>NaN</td>\n",
       "      <td>312.849341</td>\n",
       "      <td>316.564423</td>\n",
       "      <td>-3.715082</td>\n",
       "      <td>-0.928157</td>\n",
       "      <td>-2.786925</td>\n",
       "      <td>-0.107767</td>\n",
       "      <td>-0.114028</td>\n",
       "      <td>False</td>\n",
       "      <td>NaN</td>\n",
       "    </tr>\n",
       "    <tr>\n",
       "      <th>3</th>\n",
       "      <td>2015-01-04</td>\n",
       "      <td>in the last there were exchange pair yielding ...</td>\n",
       "      <td>281.145996</td>\n",
       "      <td>287.230011</td>\n",
       "      <td>257.612000</td>\n",
       "      <td>264.195007</td>\n",
       "      <td>264.195007</td>\n",
       "      <td>55629100.0</td>\n",
       "      <td>NaN</td>\n",
       "      <td>NaN</td>\n",
       "      <td>NaN</td>\n",
       "      <td>305.364059</td>\n",
       "      <td>312.685207</td>\n",
       "      <td>-7.321148</td>\n",
       "      <td>-2.206755</td>\n",
       "      <td>-5.114393</td>\n",
       "      <td>-0.060079</td>\n",
       "      <td>-0.061959</td>\n",
       "      <td>False</td>\n",
       "      <td>NaN</td>\n",
       "    </tr>\n",
       "    <tr>\n",
       "      <th>4</th>\n",
       "      <td>2015-01-05</td>\n",
       "      <td>can wait to get my tax refund and buy bitcoin ...</td>\n",
       "      <td>265.084015</td>\n",
       "      <td>278.341003</td>\n",
       "      <td>265.084015</td>\n",
       "      <td>274.473999</td>\n",
       "      <td>274.473999</td>\n",
       "      <td>43962800.0</td>\n",
       "      <td>NaN</td>\n",
       "      <td>NaN</td>\n",
       "      <td>NaN</td>\n",
       "      <td>300.611742</td>\n",
       "      <td>309.854747</td>\n",
       "      <td>-9.243005</td>\n",
       "      <td>-3.614005</td>\n",
       "      <td>-5.629000</td>\n",
       "      <td>0.038907</td>\n",
       "      <td>0.038169</td>\n",
       "      <td>True</td>\n",
       "      <td>NaN</td>\n",
       "    </tr>\n",
       "  </tbody>\n",
       "</table>\n",
       "</div>"
      ],
      "text/plain": [
       "        Date                                         text_split        Open  \\\n",
       "0 2015-01-01  blocked me thats my achievement still like bit...  320.434998   \n",
       "1 2015-01-02  bitcoin my brother and have just our first me ...  314.079010   \n",
       "2 2015-01-03  bitcoin btc new post cryptocurrency trading ne...  314.846008   \n",
       "3 2015-01-04  in the last there were exchange pair yielding ...  281.145996   \n",
       "4 2015-01-05  can wait to get my tax refund and buy bitcoin ...  265.084015   \n",
       "\n",
       "         High         Low       Close   Adj Close      Volume  sma7  sma14  \\\n",
       "0  320.434998  314.002991  314.248993  314.248993   8036550.0   NaN    NaN   \n",
       "1  315.838989  313.565002  315.032013  315.032013   7860650.0   NaN    NaN   \n",
       "2  315.149994  281.082001  281.082001  281.082001  33054400.0   NaN    NaN   \n",
       "3  287.230011  257.612000  264.195007  264.195007  55629100.0   NaN    NaN   \n",
       "4  278.341003  265.084015  274.473999  274.473999  43962800.0   NaN    NaN   \n",
       "\n",
       "   sma21       ema12       ema26  MACD line  Signal line  MACD histogram  \\\n",
       "0    NaN  319.278532  319.752697  -0.474165    -0.094833       -0.379332   \n",
       "1    NaN  318.625221  319.403017  -0.777796    -0.231426       -0.546370   \n",
       "2    NaN  312.849341  316.564423  -3.715082    -0.928157       -2.786925   \n",
       "3    NaN  305.364059  312.685207  -7.321148    -2.206755       -5.114393   \n",
       "4    NaN  300.611742  309.854747  -9.243005    -3.614005       -5.629000   \n",
       "\n",
       "     change  log_change change_label  rsi  \n",
       "0 -0.018564   -0.018738        False  NaN  \n",
       "1  0.002492    0.002489         True  NaN  \n",
       "2 -0.107767   -0.114028        False  NaN  \n",
       "3 -0.060079   -0.061959        False  NaN  \n",
       "4  0.038907    0.038169         True  NaN  "
      ]
     },
     "execution_count": 431,
     "metadata": {},
     "output_type": "execute_result"
    }
   ],
   "source": [
    "price_tweets.head()"
   ]
  },
  {
   "cell_type": "code",
   "execution_count": 374,
   "metadata": {},
   "outputs": [
    {
     "data": {
      "text/plain": [
       "(2344, 20)"
      ]
     },
     "execution_count": 374,
     "metadata": {},
     "output_type": "execute_result"
    }
   ],
   "source": [
    "price_tweets.shape"
   ]
  },
  {
   "cell_type": "code",
   "execution_count": 351,
   "metadata": {},
   "outputs": [
    {
     "name": "stdout",
     "output_type": "stream",
     "text": [
      "<class 'pandas.core.frame.DataFrame'>\n",
      "Int64Index: 2344 entries, 0 to 2343\n",
      "Data columns (total 20 columns):\n",
      " #   Column          Non-Null Count  Dtype         \n",
      "---  ------          --------------  -----         \n",
      " 0   Date            2344 non-null   datetime64[ns]\n",
      " 1   text_split      2247 non-null   object        \n",
      " 2   Open            2343 non-null   float64       \n",
      " 3   High            2343 non-null   float64       \n",
      " 4   Low             2343 non-null   float64       \n",
      " 5   Close           2343 non-null   float64       \n",
      " 6   Adj Close       2343 non-null   float64       \n",
      " 7   Volume          2343 non-null   float64       \n",
      " 8   sma7            2337 non-null   float64       \n",
      " 9   sma14           2330 non-null   float64       \n",
      " 10  sma21           2323 non-null   float64       \n",
      " 11  ema12           2343 non-null   float64       \n",
      " 12  ema26           2343 non-null   float64       \n",
      " 13  MACD line       2343 non-null   float64       \n",
      " 14  Signal line     2343 non-null   float64       \n",
      " 15  MACD histogram  2343 non-null   float64       \n",
      " 16  change          2342 non-null   float64       \n",
      " 17  log_change      2342 non-null   float64       \n",
      " 18  change_label    2343 non-null   object        \n",
      " 19  rsi             2330 non-null   float64       \n",
      "dtypes: datetime64[ns](1), float64(17), object(2)\n",
      "memory usage: 384.6+ KB\n"
     ]
    }
   ],
   "source": [
    "price_tweets.info()"
   ]
  },
  {
   "cell_type": "markdown",
   "metadata": {},
   "source": [
    "# Process news article"
   ]
  },
  {
   "cell_type": "code",
   "execution_count": 128,
   "metadata": {},
   "outputs": [],
   "source": [
    "news = pd.read_csv('../archive/data/cryptonews_processed_2013_2022.csv')"
   ]
  },
  {
   "cell_type": "code",
   "execution_count": 129,
   "metadata": {},
   "outputs": [
    {
     "data": {
      "text/plain": [
       "(28100, 3)"
      ]
     },
     "execution_count": 129,
     "metadata": {},
     "output_type": "execute_result"
    }
   ],
   "source": [
    "news.shape"
   ]
  },
  {
   "cell_type": "code",
   "execution_count": 130,
   "metadata": {},
   "outputs": [],
   "source": [
    "news.rename(columns={\"date\": \"Date\"}, inplace=True)"
   ]
  },
  {
   "cell_type": "code",
   "execution_count": 131,
   "metadata": {},
   "outputs": [],
   "source": [
    "news['Date']=news.Date.apply (lambda x : str(x)[:10])"
   ]
  },
  {
   "cell_type": "code",
   "execution_count": 132,
   "metadata": {},
   "outputs": [],
   "source": [
    "news= news.sort_values('Date',ascending=True)"
   ]
  },
  {
   "cell_type": "code",
   "execution_count": 133,
   "metadata": {},
   "outputs": [],
   "source": [
    "news = news.groupby('Date')['title'].apply(lambda x: ' '.join(x)).reset_index()"
   ]
  },
  {
   "cell_type": "code",
   "execution_count": 134,
   "metadata": {},
   "outputs": [],
   "source": [
    "news['Date'] = pd.to_datetime(news['Date'])"
   ]
  },
  {
   "cell_type": "code",
   "execution_count": 135,
   "metadata": {},
   "outputs": [
    {
     "data": {
      "text/html": [
       "<div>\n",
       "<style scoped>\n",
       "    .dataframe tbody tr th:only-of-type {\n",
       "        vertical-align: middle;\n",
       "    }\n",
       "\n",
       "    .dataframe tbody tr th {\n",
       "        vertical-align: top;\n",
       "    }\n",
       "\n",
       "    .dataframe thead th {\n",
       "        text-align: right;\n",
       "    }\n",
       "</style>\n",
       "<table border=\"1\" class=\"dataframe\">\n",
       "  <thead>\n",
       "    <tr style=\"text-align: right;\">\n",
       "      <th></th>\n",
       "      <th>Date</th>\n",
       "      <th>title</th>\n",
       "    </tr>\n",
       "  </thead>\n",
       "  <tbody>\n",
       "    <tr>\n",
       "      <th>2104</th>\n",
       "      <td>2022-11-11</td>\n",
       "      <td>bitcoin altcoin cryptolink stock correct sharp...</td>\n",
       "    </tr>\n",
       "    <tr>\n",
       "      <th>2105</th>\n",
       "      <td>2022-11-12</td>\n",
       "      <td>meltdown ftx consecut crash crypto market trig...</td>\n",
       "    </tr>\n",
       "    <tr>\n",
       "      <th>2106</th>\n",
       "      <td>2022-11-13</td>\n",
       "      <td>w dubai palm three subway outlet germani lates...</td>\n",
       "    </tr>\n",
       "    <tr>\n",
       "      <th>2107</th>\n",
       "      <td>2022-11-14</td>\n",
       "      <td>lin li compani founder agre lend million new h...</td>\n",
       "    </tr>\n",
       "    <tr>\n",
       "      <th>2108</th>\n",
       "      <td>2022-11-15</td>\n",
       "      <td>hbit seek legal advic recov digit asset questi...</td>\n",
       "    </tr>\n",
       "  </tbody>\n",
       "</table>\n",
       "</div>"
      ],
      "text/plain": [
       "           Date                                              title\n",
       "2104 2022-11-11  bitcoin altcoin cryptolink stock correct sharp...\n",
       "2105 2022-11-12  meltdown ftx consecut crash crypto market trig...\n",
       "2106 2022-11-13  w dubai palm three subway outlet germani lates...\n",
       "2107 2022-11-14  lin li compani founder agre lend million new h...\n",
       "2108 2022-11-15  hbit seek legal advic recov digit asset questi..."
      ]
     },
     "execution_count": 135,
     "metadata": {},
     "output_type": "execute_result"
    }
   ],
   "source": [
    "news.tail()"
   ]
  },
  {
   "cell_type": "code",
   "execution_count": 136,
   "metadata": {},
   "outputs": [
    {
     "name": "stdout",
     "output_type": "stream",
     "text": [
      "<class 'pandas.core.frame.DataFrame'>\n",
      "RangeIndex: 2109 entries, 0 to 2108\n",
      "Data columns (total 2 columns):\n",
      " #   Column  Non-Null Count  Dtype         \n",
      "---  ------  --------------  -----         \n",
      " 0   Date    2109 non-null   datetime64[ns]\n",
      " 1   title   2109 non-null   object        \n",
      "dtypes: datetime64[ns](1), object(1)\n",
      "memory usage: 33.1+ KB\n"
     ]
    }
   ],
   "source": [
    "news.info()"
   ]
  },
  {
   "cell_type": "code",
   "execution_count": 137,
   "metadata": {},
   "outputs": [
    {
     "data": {
      "text/html": [
       "<div>\n",
       "<style scoped>\n",
       "    .dataframe tbody tr th:only-of-type {\n",
       "        vertical-align: middle;\n",
       "    }\n",
       "\n",
       "    .dataframe tbody tr th {\n",
       "        vertical-align: top;\n",
       "    }\n",
       "\n",
       "    .dataframe thead th {\n",
       "        text-align: right;\n",
       "    }\n",
       "</style>\n",
       "<table border=\"1\" class=\"dataframe\">\n",
       "  <thead>\n",
       "    <tr style=\"text-align: right;\">\n",
       "      <th></th>\n",
       "      <th>Date</th>\n",
       "      <th>title</th>\n",
       "    </tr>\n",
       "  </thead>\n",
       "  <tbody>\n",
       "    <tr>\n",
       "      <th>0</th>\n",
       "      <td>2013-01-01</td>\n",
       "      <td>bitcoin exchange btc china temporarily halts t...</td>\n",
       "    </tr>\n",
       "    <tr>\n",
       "      <th>1</th>\n",
       "      <td>2013-01-02</td>\n",
       "      <td>vault satoshi expands canadian bitcoin exchang...</td>\n",
       "    </tr>\n",
       "    <tr>\n",
       "      <th>2</th>\n",
       "      <td>2013-01-22</td>\n",
       "      <td>gambling bitcoin block chain</td>\n",
       "    </tr>\n",
       "    <tr>\n",
       "      <th>3</th>\n",
       "      <td>2013-01-26</td>\n",
       "      <td>bitmarkers wants move money bitcoin incasino g...</td>\n",
       "    </tr>\n",
       "    <tr>\n",
       "      <th>4</th>\n",
       "      <td>2013-02-01</td>\n",
       "      <td>bitcoin solution startups international bankin...</td>\n",
       "    </tr>\n",
       "  </tbody>\n",
       "</table>\n",
       "</div>"
      ],
      "text/plain": [
       "        Date                                              title\n",
       "0 2013-01-01  bitcoin exchange btc china temporarily halts t...\n",
       "1 2013-01-02  vault satoshi expands canadian bitcoin exchang...\n",
       "2 2013-01-22                       gambling bitcoin block chain\n",
       "3 2013-01-26  bitmarkers wants move money bitcoin incasino g...\n",
       "4 2013-02-01  bitcoin solution startups international bankin..."
      ]
     },
     "execution_count": 137,
     "metadata": {},
     "output_type": "execute_result"
    }
   ],
   "source": [
    "news.head()"
   ]
  },
  {
   "cell_type": "code",
   "execution_count": 138,
   "metadata": {},
   "outputs": [
    {
     "data": {
      "text/plain": [
       "(3178, 21)"
      ]
     },
     "execution_count": 138,
     "metadata": {},
     "output_type": "execute_result"
    }
   ],
   "source": [
    "price.shape"
   ]
  },
  {
   "cell_type": "code",
   "execution_count": 432,
   "metadata": {},
   "outputs": [],
   "source": [
    "price['Date'] = pd.to_datetime(price['Date'])"
   ]
  },
  {
   "cell_type": "code",
   "execution_count": 433,
   "metadata": {},
   "outputs": [],
   "source": [
    "price_news = news.merge(price, how='outer', on=['Date'])"
   ]
  },
  {
   "cell_type": "code",
   "execution_count": 434,
   "metadata": {},
   "outputs": [
    {
     "data": {
      "text/plain": [
       "(3175, 20)"
      ]
     },
     "execution_count": 434,
     "metadata": {},
     "output_type": "execute_result"
    }
   ],
   "source": [
    "price_news.shape"
   ]
  },
  {
   "cell_type": "code",
   "execution_count": 435,
   "metadata": {},
   "outputs": [],
   "source": [
    "price_news = price_news.dropna()"
   ]
  },
  {
   "cell_type": "code",
   "execution_count": 436,
   "metadata": {},
   "outputs": [
    {
     "data": {
      "text/plain": [
       "(1258, 20)"
      ]
     },
     "execution_count": 436,
     "metadata": {},
     "output_type": "execute_result"
    }
   ],
   "source": [
    "price_news.shape"
   ]
  },
  {
   "cell_type": "code",
   "execution_count": 198,
   "metadata": {},
   "outputs": [
    {
     "data": {
      "text/html": [
       "<div>\n",
       "<style scoped>\n",
       "    .dataframe tbody tr th:only-of-type {\n",
       "        vertical-align: middle;\n",
       "    }\n",
       "\n",
       "    .dataframe tbody tr th {\n",
       "        vertical-align: top;\n",
       "    }\n",
       "\n",
       "    .dataframe thead th {\n",
       "        text-align: right;\n",
       "    }\n",
       "</style>\n",
       "<table border=\"1\" class=\"dataframe\">\n",
       "  <thead>\n",
       "    <tr style=\"text-align: right;\">\n",
       "      <th></th>\n",
       "      <th>Date</th>\n",
       "      <th>title</th>\n",
       "      <th>index</th>\n",
       "      <th>Open</th>\n",
       "      <th>High</th>\n",
       "      <th>Low</th>\n",
       "      <th>Close</th>\n",
       "      <th>Adj Close</th>\n",
       "      <th>Volume</th>\n",
       "      <th>Close Lagged Price</th>\n",
       "      <th>...</th>\n",
       "      <th>sma21</th>\n",
       "      <th>ema12</th>\n",
       "      <th>ema26</th>\n",
       "      <th>MACD line</th>\n",
       "      <th>Signal line</th>\n",
       "      <th>MACD histogram</th>\n",
       "      <th>change</th>\n",
       "      <th>log_change</th>\n",
       "      <th>change_label</th>\n",
       "      <th>rsi</th>\n",
       "    </tr>\n",
       "  </thead>\n",
       "  <tbody>\n",
       "    <tr>\n",
       "      <th>2108</th>\n",
       "      <td>2022-11-15</td>\n",
       "      <td>hbit seek legal advic recov digit asset questi...</td>\n",
       "      <td>2981.0</td>\n",
       "      <td>16617.484375</td>\n",
       "      <td>17051.962891</td>\n",
       "      <td>16542.550781</td>\n",
       "      <td>16884.613281</td>\n",
       "      <td>16884.613281</td>\n",
       "      <td>3.659944e+10</td>\n",
       "      <td>16618.199219</td>\n",
       "      <td>...</td>\n",
       "      <td>19243.521531</td>\n",
       "      <td>17832.666267</td>\n",
       "      <td>18701.799922</td>\n",
       "      <td>-869.133655</td>\n",
       "      <td>-492.353627</td>\n",
       "      <td>-376.780028</td>\n",
       "      <td>0.016031</td>\n",
       "      <td>0.015904</td>\n",
       "      <td>True</td>\n",
       "      <td>32.557499</td>\n",
       "    </tr>\n",
       "  </tbody>\n",
       "</table>\n",
       "<p>1 rows × 22 columns</p>\n",
       "</div>"
      ],
      "text/plain": [
       "           Date                                              title   index  \\\n",
       "2108 2022-11-15  hbit seek legal advic recov digit asset questi...  2981.0   \n",
       "\n",
       "              Open          High           Low         Close     Adj Close  \\\n",
       "2108  16617.484375  17051.962891  16542.550781  16884.613281  16884.613281   \n",
       "\n",
       "            Volume  Close Lagged Price  ...         sma21         ema12  \\\n",
       "2108  3.659944e+10        16618.199219  ...  19243.521531  17832.666267   \n",
       "\n",
       "             ema26   MACD line  Signal line  MACD histogram    change  \\\n",
       "2108  18701.799922 -869.133655  -492.353627     -376.780028  0.016031   \n",
       "\n",
       "      log_change  change_label        rsi  \n",
       "2108    0.015904          True  32.557499  \n",
       "\n",
       "[1 rows x 22 columns]"
      ]
     },
     "execution_count": 198,
     "metadata": {},
     "output_type": "execute_result"
    }
   ],
   "source": [
    "price_news.tail(1)"
   ]
  },
  {
   "cell_type": "markdown",
   "metadata": {},
   "source": [
    "## Word embeddings"
   ]
  },
  {
   "cell_type": "markdown",
   "metadata": {},
   "source": [
    "#### Now that we have our dataset, let's get the word embedding for the news articles"
   ]
  },
  {
   "cell_type": "code",
   "execution_count": 437,
   "metadata": {},
   "outputs": [
    {
     "name": "stdout",
     "output_type": "stream",
     "text": [
      "Requirement already satisfied: transformers in c:\\users\\hp\\appdata\\local\\packages\\pythonsoftwarefoundation.python.3.10_qbz5n2kfra8p0\\localcache\\local-packages\\python310\\site-packages (4.32.1)Note: you may need to restart the kernel to use updated packages.\n"
     ]
    },
    {
     "name": "stderr",
     "output_type": "stream",
     "text": [
      "WARNING: Ignoring invalid distribution -rotobuf (c:\\users\\hp\\appdata\\local\\packages\\pythonsoftwarefoundation.python.3.10_qbz5n2kfra8p0\\localcache\\local-packages\\python310\\site-packages)\n",
      "WARNING: Ignoring invalid distribution -rotobuf (c:\\users\\hp\\appdata\\local\\packages\\pythonsoftwarefoundation.python.3.10_qbz5n2kfra8p0\\localcache\\local-packages\\python310\\site-packages)\n",
      "WARNING: Ignoring invalid distribution -rotobuf (c:\\users\\hp\\appdata\\local\\packages\\pythonsoftwarefoundation.python.3.10_qbz5n2kfra8p0\\localcache\\local-packages\\python310\\site-packages)\n",
      "WARNING: Ignoring invalid distribution -rotobuf (c:\\users\\hp\\appdata\\local\\packages\\pythonsoftwarefoundation.python.3.10_qbz5n2kfra8p0\\localcache\\local-packages\\python310\\site-packages)\n",
      "\n",
      "[notice] A new release of pip is available: 23.1.1 -> 23.2.1\n",
      "[notice] To update, run: C:\\Users\\HP\\AppData\\Local\\Microsoft\\WindowsApps\\PythonSoftwareFoundation.Python.3.10_qbz5n2kfra8p0\\python.exe -m pip install --upgrade pip\n"
     ]
    },
    {
     "name": "stdout",
     "output_type": "stream",
     "text": [
      "\n",
      "Requirement already satisfied: torch in c:\\users\\hp\\appdata\\local\\packages\\pythonsoftwarefoundation.python.3.10_qbz5n2kfra8p0\\localcache\\local-packages\\python310\\site-packages (2.0.1)\n",
      "Requirement already satisfied: filelock in c:\\users\\hp\\appdata\\local\\packages\\pythonsoftwarefoundation.python.3.10_qbz5n2kfra8p0\\localcache\\local-packages\\python310\\site-packages (from transformers) (3.12.3)\n",
      "Requirement already satisfied: huggingface-hub<1.0,>=0.15.1 in c:\\users\\hp\\appdata\\local\\packages\\pythonsoftwarefoundation.python.3.10_qbz5n2kfra8p0\\localcache\\local-packages\\python310\\site-packages (from transformers) (0.16.4)\n",
      "Requirement already satisfied: numpy>=1.17 in c:\\users\\hp\\appdata\\local\\packages\\pythonsoftwarefoundation.python.3.10_qbz5n2kfra8p0\\localcache\\local-packages\\python310\\site-packages (from transformers) (1.22.3)\n",
      "Requirement already satisfied: packaging>=20.0 in c:\\users\\hp\\appdata\\local\\packages\\pythonsoftwarefoundation.python.3.10_qbz5n2kfra8p0\\localcache\\local-packages\\python310\\site-packages (from transformers) (21.3)\n",
      "Requirement already satisfied: pyyaml>=5.1 in c:\\users\\hp\\appdata\\local\\packages\\pythonsoftwarefoundation.python.3.10_qbz5n2kfra8p0\\localcache\\local-packages\\python310\\site-packages (from transformers) (5.4.1)\n",
      "Requirement already satisfied: regex!=2019.12.17 in c:\\users\\hp\\appdata\\local\\packages\\pythonsoftwarefoundation.python.3.10_qbz5n2kfra8p0\\localcache\\local-packages\\python310\\site-packages (from transformers) (2023.3.23)\n",
      "Requirement already satisfied: requests in c:\\users\\hp\\appdata\\local\\packages\\pythonsoftwarefoundation.python.3.10_qbz5n2kfra8p0\\localcache\\local-packages\\python310\\site-packages (from transformers) (2.31.0)\n",
      "Requirement already satisfied: tokenizers!=0.11.3,<0.14,>=0.11.1 in c:\\users\\hp\\appdata\\local\\packages\\pythonsoftwarefoundation.python.3.10_qbz5n2kfra8p0\\localcache\\local-packages\\python310\\site-packages (from transformers) (0.13.3)\n",
      "Requirement already satisfied: safetensors>=0.3.1 in c:\\users\\hp\\appdata\\local\\packages\\pythonsoftwarefoundation.python.3.10_qbz5n2kfra8p0\\localcache\\local-packages\\python310\\site-packages (from transformers) (0.3.3)\n",
      "Requirement already satisfied: tqdm>=4.27 in c:\\users\\hp\\appdata\\local\\packages\\pythonsoftwarefoundation.python.3.10_qbz5n2kfra8p0\\localcache\\local-packages\\python310\\site-packages (from transformers) (4.64.1)\n",
      "Requirement already satisfied: typing-extensions in c:\\users\\hp\\appdata\\local\\packages\\pythonsoftwarefoundation.python.3.10_qbz5n2kfra8p0\\localcache\\local-packages\\python310\\site-packages (from torch) (4.7.1)\n",
      "Requirement already satisfied: sympy in c:\\users\\hp\\appdata\\local\\packages\\pythonsoftwarefoundation.python.3.10_qbz5n2kfra8p0\\localcache\\local-packages\\python310\\site-packages (from torch) (1.12)\n",
      "Requirement already satisfied: networkx in c:\\users\\hp\\appdata\\local\\packages\\pythonsoftwarefoundation.python.3.10_qbz5n2kfra8p0\\localcache\\local-packages\\python310\\site-packages (from torch) (2.8.4)\n",
      "Requirement already satisfied: jinja2 in c:\\users\\hp\\appdata\\local\\packages\\pythonsoftwarefoundation.python.3.10_qbz5n2kfra8p0\\localcache\\local-packages\\python310\\site-packages (from torch) (3.1.2)\n",
      "Requirement already satisfied: fsspec in c:\\users\\hp\\appdata\\local\\packages\\pythonsoftwarefoundation.python.3.10_qbz5n2kfra8p0\\localcache\\local-packages\\python310\\site-packages (from huggingface-hub<1.0,>=0.15.1->transformers) (2023.6.0)\n",
      "Requirement already satisfied: pyparsing!=3.0.5,>=2.0.2 in c:\\users\\hp\\appdata\\local\\packages\\pythonsoftwarefoundation.python.3.10_qbz5n2kfra8p0\\localcache\\local-packages\\python310\\site-packages (from packaging>=20.0->transformers) (3.0.9)\n",
      "Requirement already satisfied: colorama in c:\\users\\hp\\appdata\\local\\packages\\pythonsoftwarefoundation.python.3.10_qbz5n2kfra8p0\\localcache\\local-packages\\python310\\site-packages (from tqdm>=4.27->transformers) (0.4.6)\n",
      "Requirement already satisfied: MarkupSafe>=2.0 in c:\\users\\hp\\appdata\\local\\packages\\pythonsoftwarefoundation.python.3.10_qbz5n2kfra8p0\\localcache\\local-packages\\python310\\site-packages (from jinja2->torch) (2.1.1)\n",
      "Requirement already satisfied: charset-normalizer<4,>=2 in c:\\users\\hp\\appdata\\local\\packages\\pythonsoftwarefoundation.python.3.10_qbz5n2kfra8p0\\localcache\\local-packages\\python310\\site-packages (from requests->transformers) (2.1.1)\n",
      "Requirement already satisfied: idna<4,>=2.5 in c:\\users\\hp\\appdata\\local\\packages\\pythonsoftwarefoundation.python.3.10_qbz5n2kfra8p0\\localcache\\local-packages\\python310\\site-packages (from requests->transformers) (3.4)\n",
      "Requirement already satisfied: urllib3<3,>=1.21.1 in c:\\users\\hp\\appdata\\local\\packages\\pythonsoftwarefoundation.python.3.10_qbz5n2kfra8p0\\localcache\\local-packages\\python310\\site-packages (from requests->transformers) (1.26.12)\n",
      "Requirement already satisfied: certifi>=2017.4.17 in c:\\users\\hp\\appdata\\local\\packages\\pythonsoftwarefoundation.python.3.10_qbz5n2kfra8p0\\localcache\\local-packages\\python310\\site-packages (from requests->transformers) (2022.9.24)\n",
      "Requirement already satisfied: mpmath>=0.19 in c:\\users\\hp\\appdata\\local\\packages\\pythonsoftwarefoundation.python.3.10_qbz5n2kfra8p0\\localcache\\local-packages\\python310\\site-packages (from sympy->torch) (1.3.0)\n"
     ]
    }
   ],
   "source": [
    "%pip install transformers torch"
   ]
  },
  {
   "cell_type": "code",
   "execution_count": 438,
   "metadata": {},
   "outputs": [],
   "source": [
    "from transformers import AutoModel, AutoTokenizer\n",
    "\n",
    "model_name = \"yiyanghkust/finbert-tone\"\n",
    "tokenizer = AutoTokenizer.from_pretrained(model_name)\n",
    "model = AutoModel.from_pretrained(model_name)"
   ]
  },
  {
   "cell_type": "code",
   "execution_count": 439,
   "metadata": {},
   "outputs": [],
   "source": [
    "def processEmbeddings(text):\n",
    "    tokens = tokenizer.tokenize(text)\n",
    "\n",
    "    # Set the maximum segment length and overlap\n",
    "    max_segment_length = 200\n",
    "    overlap = 50\n",
    "\n",
    "    # Initialize lists to store embeddings and segment tokens\n",
    "    embeddings_list = []\n",
    "    segment_tokens_list = []\n",
    "\n",
    "    # Slide a window over the tokens and process each segment\n",
    "    for start in range(0, len(tokens), max_segment_length - overlap):\n",
    "        end = start + max_segment_length\n",
    "        segment_tokens = tokens[start:end]\n",
    "\n",
    "        # Convert segment tokens back to text and encode\n",
    "        segment_text = tokenizer.convert_tokens_to_string(segment_tokens)\n",
    "        inputs = tokenizer(segment_text, return_tensors=\"pt\", padding=True, truncation=True)\n",
    "\n",
    "        with torch.no_grad():\n",
    "            outputs = model(**inputs)\n",
    "            embeddings = outputs.last_hidden_state[:, 0, :]\n",
    "\n",
    "        embeddings_list.append(embeddings)\n",
    "        segment_tokens_list.append(segment_tokens)\n",
    "\n",
    "    # Combine embeddings and segment tokens for the entire text\n",
    "    all_embeddings = torch.cat(embeddings_list, dim=0)\n",
    "    # all_segment_tokens = sum(segment_tokens_list, [])\n",
    "    \n",
    "    return all_embeddings\n"
   ]
  },
  {
   "cell_type": "code",
   "execution_count": 440,
   "metadata": {},
   "outputs": [
    {
     "name": "stderr",
     "output_type": "stream",
     "text": [
      "Asking to truncate to max_length but no maximum length is provided and the model has no predefined maximum length. Default to no truncation.\n"
     ]
    }
   ],
   "source": [
    "price_tweets['text_embeddings'] = price_tweets['text_split'].apply(processEmbeddings)"
   ]
  },
  {
   "cell_type": "code",
   "execution_count": 376,
   "metadata": {},
   "outputs": [
    {
     "data": {
      "text/plain": [
       "768"
      ]
     },
     "execution_count": 376,
     "metadata": {},
     "output_type": "execute_result"
    }
   ],
   "source": [
    "price_tweets.iloc[1720]['text_embeddings'].shape[0]"
   ]
  },
  {
   "cell_type": "code",
   "execution_count": 389,
   "metadata": {},
   "outputs": [],
   "source": [
    "embedding_dim = price_tweets.iloc[1720]['text_embeddings'].shape[0]"
   ]
  },
  {
   "cell_type": "code",
   "execution_count": null,
   "metadata": {},
   "outputs": [],
   "source": [
    "### without split the length of the headline we got this error => RuntimeError: The size of tensor a (1102) must match the size of tensor b (512) at non-singleton dimension 1"
   ]
  },
  {
   "cell_type": "code",
   "execution_count": 378,
   "metadata": {},
   "outputs": [
    {
     "name": "stdout",
     "output_type": "stream",
     "text": [
      "<class 'pandas.core.frame.DataFrame'>\n",
      "Int64Index: 2344 entries, 0 to 2343\n",
      "Data columns (total 21 columns):\n",
      " #   Column           Non-Null Count  Dtype         \n",
      "---  ------           --------------  -----         \n",
      " 0   Date             2344 non-null   datetime64[ns]\n",
      " 1   text_split       2247 non-null   object        \n",
      " 2   Open             2343 non-null   float64       \n",
      " 3   High             2343 non-null   float64       \n",
      " 4   Low              2343 non-null   float64       \n",
      " 5   Close            2343 non-null   float64       \n",
      " 6   Adj Close        2343 non-null   float64       \n",
      " 7   Volume           2343 non-null   float64       \n",
      " 8   sma7             2337 non-null   float64       \n",
      " 9   sma14            2330 non-null   float64       \n",
      " 10  sma21            2323 non-null   float64       \n",
      " 11  ema12            2343 non-null   float64       \n",
      " 12  ema26            2343 non-null   float64       \n",
      " 13  MACD line        2343 non-null   float64       \n",
      " 14  Signal line      2343 non-null   float64       \n",
      " 15  MACD histogram   2343 non-null   float64       \n",
      " 16  change           2342 non-null   float64       \n",
      " 17  log_change       2342 non-null   float64       \n",
      " 18  change_label     2343 non-null   object        \n",
      " 19  rsi              2330 non-null   float64       \n",
      " 20  text_embeddings  2344 non-null   object        \n",
      "dtypes: datetime64[ns](1), float64(17), object(3)\n",
      "memory usage: 402.9+ KB\n"
     ]
    }
   ],
   "source": [
    "price_tweets.info()"
   ]
  },
  {
   "cell_type": "code",
   "execution_count": 382,
   "metadata": {},
   "outputs": [],
   "source": [
    "price_tweets = price_tweets.dropna()"
   ]
  },
  {
   "cell_type": "code",
   "execution_count": 384,
   "metadata": {},
   "outputs": [
    {
     "data": {
      "text/plain": [
       "(2227, 21)"
      ]
     },
     "execution_count": 384,
     "metadata": {},
     "output_type": "execute_result"
    }
   ],
   "source": [
    "price_tweets.shape"
   ]
  },
  {
   "cell_type": "code",
   "execution_count": 383,
   "metadata": {},
   "outputs": [
    {
     "data": {
      "text/plain": [
       "array([False, True], dtype=object)"
      ]
     },
     "execution_count": 383,
     "metadata": {},
     "output_type": "execute_result"
    }
   ],
   "source": [
    "price_tweets['change_label'].unique()"
   ]
  },
  {
   "cell_type": "code",
   "execution_count": 385,
   "metadata": {},
   "outputs": [
    {
     "name": "stderr",
     "output_type": "stream",
     "text": [
      "C:\\Users\\HP\\AppData\\Local\\Temp\\ipykernel_15080\\3128454574.py:2: SettingWithCopyWarning: \n",
      "A value is trying to be set on a copy of a slice from a DataFrame.\n",
      "Try using .loc[row_indexer,col_indexer] = value instead\n",
      "\n",
      "See the caveats in the documentation: https://pandas.pydata.org/pandas-docs/stable/user_guide/indexing.html#returning-a-view-versus-a-copy\n",
      "  price_tweets['change_label'] = price_tweets['change_label'].map({True: 1, False: 0})\n"
     ]
    }
   ],
   "source": [
    "# Replace True with 1 and False with 0\n",
    "price_tweets['change_label'] = price_tweets['change_label'].map({True: 1, False: 0})"
   ]
  },
  {
   "cell_type": "code",
   "execution_count": 386,
   "metadata": {},
   "outputs": [
    {
     "name": "stdout",
     "output_type": "stream",
     "text": [
      "<class 'pandas.core.frame.DataFrame'>\n",
      "Int64Index: 2227 entries, 19 to 2245\n",
      "Data columns (total 21 columns):\n",
      " #   Column           Non-Null Count  Dtype         \n",
      "---  ------           --------------  -----         \n",
      " 0   Date             2227 non-null   datetime64[ns]\n",
      " 1   text_split       2227 non-null   object        \n",
      " 2   Open             2227 non-null   float64       \n",
      " 3   High             2227 non-null   float64       \n",
      " 4   Low              2227 non-null   float64       \n",
      " 5   Close            2227 non-null   float64       \n",
      " 6   Adj Close        2227 non-null   float64       \n",
      " 7   Volume           2227 non-null   float64       \n",
      " 8   sma7             2227 non-null   float64       \n",
      " 9   sma14            2227 non-null   float64       \n",
      " 10  sma21            2227 non-null   float64       \n",
      " 11  ema12            2227 non-null   float64       \n",
      " 12  ema26            2227 non-null   float64       \n",
      " 13  MACD line        2227 non-null   float64       \n",
      " 14  Signal line      2227 non-null   float64       \n",
      " 15  MACD histogram   2227 non-null   float64       \n",
      " 16  change           2227 non-null   float64       \n",
      " 17  log_change       2227 non-null   float64       \n",
      " 18  change_label     2227 non-null   int64         \n",
      " 19  rsi              2227 non-null   float64       \n",
      " 20  text_embeddings  2227 non-null   object        \n",
      "dtypes: datetime64[ns](1), float64(17), int64(1), object(2)\n",
      "memory usage: 382.8+ KB\n"
     ]
    }
   ],
   "source": [
    "price_tweets.info()"
   ]
  },
  {
   "cell_type": "markdown",
   "metadata": {},
   "source": [
    "### Build the architecture"
   ]
  },
  {
   "cell_type": "code",
   "execution_count": 395,
   "metadata": {},
   "outputs": [],
   "source": [
    "from sklearn.model_selection import train_test_split\n",
    "from sklearn.preprocessing import StandardScaler\n",
    "from keras.models import Sequential,Model\n",
    "from keras.layers import LSTM, Dense, Embedding, Input, concatenate,Conv2D,Conv1D,Flatten,BatchNormalization, MaxPooling2D,MaxPooling1D"
   ]
  },
  {
   "cell_type": "code",
   "execution_count": 407,
   "metadata": {},
   "outputs": [],
   "source": [
    "features = price_tweets[['text_embeddings']]\n",
    "target = price_tweets['change_label']"
   ]
  },
  {
   "cell_type": "code",
   "execution_count": 415,
   "metadata": {},
   "outputs": [
    {
     "data": {
      "text/plain": [
       "19      0\n",
       "20      1\n",
       "21      1\n",
       "22      0\n",
       "23      1\n",
       "       ..\n",
       "2241    1\n",
       "2242    0\n",
       "2243    0\n",
       "2244    0\n",
       "2245    1\n",
       "Name: change_label, Length: 2227, dtype: int64"
      ]
     },
     "execution_count": 415,
     "metadata": {},
     "output_type": "execute_result"
    }
   ],
   "source": [
    "target"
   ]
  },
  {
   "cell_type": "code",
   "execution_count": 255,
   "metadata": {},
   "outputs": [],
   "source": [
    "# features = price_tweets.drop(['change_label', 'Date'], axis=1)  # Adjust columns as needed\n",
    "# target = price_tweets['change_label']"
   ]
  },
  {
   "cell_type": "code",
   "execution_count": 387,
   "metadata": {},
   "outputs": [
    {
     "name": "stdout",
     "output_type": "stream",
     "text": [
      "<class 'pandas.core.frame.DataFrame'>\n",
      "Int64Index: 1726 entries, 383 to 2108\n",
      "Data columns (total 20 columns):\n",
      " #   Column              Non-Null Count  Dtype  \n",
      "---  ------              --------------  -----  \n",
      " 0   index               1726 non-null   float64\n",
      " 1   Open                1726 non-null   float64\n",
      " 2   High                1726 non-null   float64\n",
      " 3   Low                 1726 non-null   float64\n",
      " 4   Close               1726 non-null   float64\n",
      " 5   Adj Close           1726 non-null   float64\n",
      " 6   Volume              1726 non-null   float64\n",
      " 7   Close Lagged Price  1726 non-null   float64\n",
      " 8   sma7                1726 non-null   float64\n",
      " 9   sma14               1726 non-null   float64\n",
      " 10  sma21               1726 non-null   float64\n",
      " 11  ema12               1726 non-null   float64\n",
      " 12  ema26               1726 non-null   float64\n",
      " 13  MACD line           1726 non-null   float64\n",
      " 14  Signal line         1726 non-null   float64\n",
      " 15  MACD histogram      1726 non-null   float64\n",
      " 16  change              1726 non-null   float64\n",
      " 17  log_change          1726 non-null   float64\n",
      " 18  rsi                 1726 non-null   float64\n",
      " 19  text_embeddings     1726 non-null   object \n",
      "dtypes: float64(19), object(1)\n",
      "memory usage: 347.7+ KB\n"
     ]
    }
   ],
   "source": [
    "features.info()"
   ]
  },
  {
   "cell_type": "code",
   "execution_count": 412,
   "metadata": {},
   "outputs": [],
   "source": [
    "# Split the data into training, validation, and testing sets\n",
    "# First, split into training and temp sets (80% training, 20% temp)\n",
    "X_train, X_temp, y_train, y_temp = train_test_split(features, target, test_size=0.2, random_state=42)\n",
    "\n",
    "# Then, split the temp set into validation and testing sets (50% validation, 50% testing)\n",
    "X_val, X_test, y_val, y_test = train_test_split(X_temp, y_temp, test_size=0.5, random_state=42)\n"
   ]
  },
  {
   "cell_type": "code",
   "execution_count": null,
   "metadata": {},
   "outputs": [],
   "source": [
    "# Normalize numerical features for each set\n",
    "# scaler = StandardScaler()\n",
    "# X_train_scaled = scaler.fit_transform(X_train.drop('text_embeddings', axis=1))\n",
    "# X_val_scaled = scaler.transform(X_val.drop('text_embeddings', axis=1))\n",
    "# X_test_scaled = scaler.transform(X_test.drop('text_embeddings', axis=1))\n"
   ]
  },
  {
   "cell_type": "code",
   "execution_count": null,
   "metadata": {},
   "outputs": [],
   "source": []
  },
  {
   "cell_type": "markdown",
   "metadata": {},
   "source": [
    "### Build CNN model"
   ]
  },
  {
   "cell_type": "code",
   "execution_count": 399,
   "metadata": {},
   "outputs": [],
   "source": [
    "def cnn(embedding_dim):\n",
    "    model = Sequential()\n",
    "    model.add(Conv1D(64, 3, activation='relu', input_shape=(embedding_dim, 1)))\n",
    "    model.add(MaxPooling1D(2))\n",
    "    # model.add(Conv1D(128, 3, activation='relu'))\n",
    "    # model.add(MaxPooling1D(2))\n",
    "    model.add(Flatten())\n",
    "    model.add(Dense(128, activation='relu'))\n",
    "    model.add(Dense(1, activation='sigmoid'))\n",
    "    # model.add(Conv1D(filters=16, kernel_size=(3,3), activation=\"relu\",input_shape=(embedding_dim,)))\n",
    "\n",
    "    # model.add(MaxPooling2D(pool_size=(2,2)))\n",
    "\n",
    "    # model.add(Conv2D(filters=32,kernel_size=(3,3),activation='relu'))\n",
    "    \n",
    "    # model.add(MaxPooling2D(pool_size=(2,2)))\n",
    "\n",
    "    # model.add(Conv2D(filters=64,kernel_size=(3,3),activation='relu'))\n",
    "    \n",
    "    # model.add(MaxPooling2D(pool_size=(2,2)))\n",
    "\n",
    "    # model.add(Flatten())\n",
    "\n",
    "    # model.add(Dense(64,activation='relu'))\n",
    "\n",
    "    # model.add(Dense(1,activation='sigmoid'))\n",
    "\n",
    "    # model.compile(loss=\"binary_crossentropy\", optimizer=\"adam\", metrics=[\"accuracy\"])\n",
    "    return model\n"
   ]
  },
  {
   "cell_type": "markdown",
   "metadata": {},
   "source": []
  },
  {
   "cell_type": "code",
   "execution_count": 393,
   "metadata": {},
   "outputs": [],
   "source": [
    "embedding_dim = X_train.iloc[0]['text_embeddings'].shape[0]"
   ]
  },
  {
   "cell_type": "code",
   "execution_count": 400,
   "metadata": {},
   "outputs": [],
   "source": [
    "model = cnn(embedding_dim)"
   ]
  },
  {
   "cell_type": "code",
   "execution_count": 401,
   "metadata": {},
   "outputs": [
    {
     "name": "stdout",
     "output_type": "stream",
     "text": [
      "Model: \"sequential_8\"\n",
      "_________________________________________________________________\n",
      " Layer (type)                Output Shape              Param #   \n",
      "=================================================================\n",
      " conv1d_2 (Conv1D)           (None, 766, 64)           256       \n",
      "                                                                 \n",
      " max_pooling1d_2 (MaxPooling  (None, 383, 64)          0         \n",
      " 1D)                                                             \n",
      "                                                                 \n",
      " flatten_3 (Flatten)         (None, 24512)             0         \n",
      "                                                                 \n",
      " dense_12 (Dense)            (None, 128)               3137664   \n",
      "                                                                 \n",
      " dense_13 (Dense)            (None, 1)                 129       \n",
      "                                                                 \n",
      "=================================================================\n",
      "Total params: 3,138,049\n",
      "Trainable params: 3,138,049\n",
      "Non-trainable params: 0\n",
      "_________________________________________________________________\n"
     ]
    }
   ],
   "source": [
    "model.summary()"
   ]
  },
  {
   "cell_type": "code",
   "execution_count": 391,
   "metadata": {},
   "outputs": [],
   "source": [
    "embedding_dim = X_train.iloc[0]['text_embeddings'].shape[0]"
   ]
  },
  {
   "cell_type": "code",
   "execution_count": 259,
   "metadata": {},
   "outputs": [],
   "source": [
    "# Build the LSTM model for text embeddings\n",
    "embedding_dim = X_train.iloc[0]['text_embeddings'].shape[0]\n",
    "text_input = Input(shape=(embedding_dim,), name='text_input')\n",
    "text_lstm = Dense(64, activation='relu')(text_input)"
   ]
  },
  {
   "cell_type": "code",
   "execution_count": 260,
   "metadata": {},
   "outputs": [],
   "source": [
    "# Build the LSTM model for numerical features\n",
    "num_features_input = Input(shape=(X_train_scaled.shape[1],), name='num_features_input')\n",
    "num_lstm = Dense(64, activation='relu')(num_features_input)"
   ]
  },
  {
   "cell_type": "code",
   "execution_count": 261,
   "metadata": {},
   "outputs": [],
   "source": [
    "# Combine the outputs of both LSTM models\n",
    "concatenated = concatenate([text_lstm, num_lstm])"
   ]
  },
  {
   "cell_type": "code",
   "execution_count": 262,
   "metadata": {},
   "outputs": [],
   "source": [
    "# Build the final prediction layer\n",
    "output = Dense(1, activation='sigmoid')(concatenated)"
   ]
  },
  {
   "cell_type": "code",
   "execution_count": 263,
   "metadata": {},
   "outputs": [],
   "source": [
    "# Create the multi-modal model\n",
    "model = Model(inputs=[text_input, num_features_input], outputs=output)"
   ]
  },
  {
   "cell_type": "code",
   "execution_count": 402,
   "metadata": {},
   "outputs": [],
   "source": [
    "# Compile the model\n",
    "model.compile(loss='binary_crossentropy', optimizer='adam', metrics=['accuracy'])\n"
   ]
  },
  {
   "cell_type": "code",
   "execution_count": 419,
   "metadata": {},
   "outputs": [],
   "source": [
    "data = features['text_embeddings']"
   ]
  },
  {
   "cell_type": "code",
   "execution_count": 422,
   "metadata": {},
   "outputs": [
    {
     "name": "stdout",
     "output_type": "stream",
     "text": [
      "<class 'pandas.core.series.Series'>\n",
      "Int64Index: 2227 entries, 19 to 2245\n",
      "Series name: change_label\n",
      "Non-Null Count  Dtype\n",
      "--------------  -----\n",
      "2227 non-null   int64\n",
      "dtypes: int64(1)\n",
      "memory usage: 34.8 KB\n"
     ]
    }
   ],
   "source": [
    "target.info()"
   ]
  },
  {
   "cell_type": "code",
   "execution_count": 424,
   "metadata": {},
   "outputs": [],
   "source": [
    "import tensorflow as tf\n"
   ]
  },
  {
   "cell_type": "code",
   "execution_count": 426,
   "metadata": {},
   "outputs": [
    {
     "ename": "ValueError",
     "evalue": "Failed to convert a NumPy array to a Tensor (Unsupported object type numpy.ndarray).",
     "output_type": "error",
     "traceback": [
      "\u001b[1;31m---------------------------------------------------------------------------\u001b[0m",
      "\u001b[1;31mValueError\u001b[0m                                Traceback (most recent call last)",
      "\u001b[1;32md:\\Projects\\uol\\project\\src\\MSc-Thesis\\Multi_Modal_Model.ipynb Cell 150\u001b[0m in \u001b[0;36m1\n\u001b[1;32m----> <a href='vscode-notebook-cell:/d%3A/Projects/uol/project/src/MSc-Thesis/Multi_Modal_Model.ipynb#Z1436sZmlsZQ%3D%3D?line=0'>1</a>\u001b[0m embeddings_tensor \u001b[39m=\u001b[39m tf\u001b[39m.\u001b[39;49mconvert_to_tensor(features[\u001b[39m'\u001b[39;49m\u001b[39mtext_embeddings\u001b[39;49m\u001b[39m'\u001b[39;49m]\u001b[39m.\u001b[39;49mvalues)\n",
      "File \u001b[1;32m~\\AppData\\Local\\Packages\\PythonSoftwareFoundation.Python.3.10_qbz5n2kfra8p0\\LocalCache\\local-packages\\Python310\\site-packages\\tensorflow\\python\\util\\traceback_utils.py:153\u001b[0m, in \u001b[0;36mfilter_traceback.<locals>.error_handler\u001b[1;34m(*args, **kwargs)\u001b[0m\n\u001b[0;32m    151\u001b[0m \u001b[39mexcept\u001b[39;00m \u001b[39mException\u001b[39;00m \u001b[39mas\u001b[39;00m e:\n\u001b[0;32m    152\u001b[0m   filtered_tb \u001b[39m=\u001b[39m _process_traceback_frames(e\u001b[39m.\u001b[39m__traceback__)\n\u001b[1;32m--> 153\u001b[0m   \u001b[39mraise\u001b[39;00m e\u001b[39m.\u001b[39mwith_traceback(filtered_tb) \u001b[39mfrom\u001b[39;00m \u001b[39mNone\u001b[39m\n\u001b[0;32m    154\u001b[0m \u001b[39mfinally\u001b[39;00m:\n\u001b[0;32m    155\u001b[0m   \u001b[39mdel\u001b[39;00m filtered_tb\n",
      "File \u001b[1;32m~\\AppData\\Local\\Packages\\PythonSoftwareFoundation.Python.3.10_qbz5n2kfra8p0\\LocalCache\\local-packages\\Python310\\site-packages\\tensorflow\\python\\framework\\constant_op.py:102\u001b[0m, in \u001b[0;36mconvert_to_eager_tensor\u001b[1;34m(value, ctx, dtype)\u001b[0m\n\u001b[0;32m    100\u001b[0m     dtype \u001b[39m=\u001b[39m dtypes\u001b[39m.\u001b[39mas_dtype(dtype)\u001b[39m.\u001b[39mas_datatype_enum\n\u001b[0;32m    101\u001b[0m ctx\u001b[39m.\u001b[39mensure_initialized()\n\u001b[1;32m--> 102\u001b[0m \u001b[39mreturn\u001b[39;00m ops\u001b[39m.\u001b[39;49mEagerTensor(value, ctx\u001b[39m.\u001b[39;49mdevice_name, dtype)\n",
      "\u001b[1;31mValueError\u001b[0m: Failed to convert a NumPy array to a Tensor (Unsupported object type numpy.ndarray)."
     ]
    }
   ],
   "source": [
    "embeddings_tensor = tf.convert_to_tensor(features['text_embeddings'].values)"
   ]
  },
  {
   "cell_type": "code",
   "execution_count": 421,
   "metadata": {},
   "outputs": [
    {
     "ename": "ValueError",
     "evalue": "Failed to convert a NumPy array to a Tensor (Unsupported object type numpy.ndarray).",
     "output_type": "error",
     "traceback": [
      "\u001b[1;31m---------------------------------------------------------------------------\u001b[0m",
      "\u001b[1;31mValueError\u001b[0m                                Traceback (most recent call last)",
      "\u001b[1;32md:\\Projects\\uol\\project\\src\\MSc-Thesis\\Multi_Modal_Model.ipynb Cell 148\u001b[0m in \u001b[0;36m1\n\u001b[1;32m----> <a href='vscode-notebook-cell:/d%3A/Projects/uol/project/src/MSc-Thesis/Multi_Modal_Model.ipynb#Z1431sZmlsZQ%3D%3D?line=0'>1</a>\u001b[0m model\u001b[39m.\u001b[39;49mfit(data, np\u001b[39m.\u001b[39;49marray( target),validation_split\u001b[39m=\u001b[39;49m\u001b[39m0.4\u001b[39;49m, epochs\u001b[39m=\u001b[39;49m\u001b[39m3\u001b[39;49m)\n",
      "File \u001b[1;32m~\\AppData\\Local\\Packages\\PythonSoftwareFoundation.Python.3.10_qbz5n2kfra8p0\\LocalCache\\local-packages\\Python310\\site-packages\\keras\\utils\\traceback_utils.py:70\u001b[0m, in \u001b[0;36mfilter_traceback.<locals>.error_handler\u001b[1;34m(*args, **kwargs)\u001b[0m\n\u001b[0;32m     67\u001b[0m     filtered_tb \u001b[39m=\u001b[39m _process_traceback_frames(e\u001b[39m.\u001b[39m__traceback__)\n\u001b[0;32m     68\u001b[0m     \u001b[39m# To get the full stack trace, call:\u001b[39;00m\n\u001b[0;32m     69\u001b[0m     \u001b[39m# `tf.debugging.disable_traceback_filtering()`\u001b[39;00m\n\u001b[1;32m---> 70\u001b[0m     \u001b[39mraise\u001b[39;00m e\u001b[39m.\u001b[39mwith_traceback(filtered_tb) \u001b[39mfrom\u001b[39;00m \u001b[39mNone\u001b[39m\n\u001b[0;32m     71\u001b[0m \u001b[39mfinally\u001b[39;00m:\n\u001b[0;32m     72\u001b[0m     \u001b[39mdel\u001b[39;00m filtered_tb\n",
      "File \u001b[1;32m~\\AppData\\Local\\Packages\\PythonSoftwareFoundation.Python.3.10_qbz5n2kfra8p0\\LocalCache\\local-packages\\Python310\\site-packages\\tensorflow\\python\\framework\\constant_op.py:102\u001b[0m, in \u001b[0;36mconvert_to_eager_tensor\u001b[1;34m(value, ctx, dtype)\u001b[0m\n\u001b[0;32m    100\u001b[0m     dtype \u001b[39m=\u001b[39m dtypes\u001b[39m.\u001b[39mas_dtype(dtype)\u001b[39m.\u001b[39mas_datatype_enum\n\u001b[0;32m    101\u001b[0m ctx\u001b[39m.\u001b[39mensure_initialized()\n\u001b[1;32m--> 102\u001b[0m \u001b[39mreturn\u001b[39;00m ops\u001b[39m.\u001b[39;49mEagerTensor(value, ctx\u001b[39m.\u001b[39;49mdevice_name, dtype)\n",
      "\u001b[1;31mValueError\u001b[0m: Failed to convert a NumPy array to a Tensor (Unsupported object type numpy.ndarray)."
     ]
    }
   ],
   "source": [
    "model.fit(data, np.array(target),validation_split=0.4, epochs=3)"
   ]
  },
  {
   "cell_type": "code",
   "execution_count": 413,
   "metadata": {},
   "outputs": [
    {
     "ename": "ValueError",
     "evalue": "Data cardinality is ambiguous:\n  x sizes: 1781, 1380\n  y sizes: 1781\nMake sure all arrays contain the same number of samples.",
     "output_type": "error",
     "traceback": [
      "\u001b[1;31m---------------------------------------------------------------------------\u001b[0m",
      "\u001b[1;31mValueError\u001b[0m                                Traceback (most recent call last)",
      "\u001b[1;32md:\\Projects\\uol\\project\\src\\MSc-Thesis\\Multi_Modal_Model.ipynb Cell 146\u001b[0m in \u001b[0;36m2\n\u001b[0;32m      <a href='vscode-notebook-cell:/d%3A/Projects/uol/project/src/MSc-Thesis/Multi_Modal_Model.ipynb#Z1350sZmlsZQ%3D%3D?line=0'>1</a>\u001b[0m \u001b[39m# Train the model\u001b[39;00m\n\u001b[1;32m----> <a href='vscode-notebook-cell:/d%3A/Projects/uol/project/src/MSc-Thesis/Multi_Modal_Model.ipynb#Z1350sZmlsZQ%3D%3D?line=1'>2</a>\u001b[0m model\u001b[39m.\u001b[39;49mfit([np\u001b[39m.\u001b[39;49marray(X_train[\u001b[39m'\u001b[39;49m\u001b[39mtext_embeddings\u001b[39;49m\u001b[39m'\u001b[39;49m]\u001b[39m.\u001b[39;49mtolist()), X_train_scaled], y_train,\n\u001b[0;32m      <a href='vscode-notebook-cell:/d%3A/Projects/uol/project/src/MSc-Thesis/Multi_Modal_Model.ipynb#Z1350sZmlsZQ%3D%3D?line=2'>3</a>\u001b[0m           epochs\u001b[39m=\u001b[39;49m\u001b[39m10\u001b[39;49m, batch_size\u001b[39m=\u001b[39;49m\u001b[39m32\u001b[39;49m, validation_data\u001b[39m=\u001b[39;49m([np\u001b[39m.\u001b[39;49marray(X_test[\u001b[39m'\u001b[39;49m\u001b[39mtext_embeddings\u001b[39;49m\u001b[39m'\u001b[39;49m]\u001b[39m.\u001b[39;49mtolist()), X_test], y_test))\n",
      "File \u001b[1;32m~\\AppData\\Local\\Packages\\PythonSoftwareFoundation.Python.3.10_qbz5n2kfra8p0\\LocalCache\\local-packages\\Python310\\site-packages\\keras\\utils\\traceback_utils.py:70\u001b[0m, in \u001b[0;36mfilter_traceback.<locals>.error_handler\u001b[1;34m(*args, **kwargs)\u001b[0m\n\u001b[0;32m     67\u001b[0m     filtered_tb \u001b[39m=\u001b[39m _process_traceback_frames(e\u001b[39m.\u001b[39m__traceback__)\n\u001b[0;32m     68\u001b[0m     \u001b[39m# To get the full stack trace, call:\u001b[39;00m\n\u001b[0;32m     69\u001b[0m     \u001b[39m# `tf.debugging.disable_traceback_filtering()`\u001b[39;00m\n\u001b[1;32m---> 70\u001b[0m     \u001b[39mraise\u001b[39;00m e\u001b[39m.\u001b[39mwith_traceback(filtered_tb) \u001b[39mfrom\u001b[39;00m \u001b[39mNone\u001b[39m\n\u001b[0;32m     71\u001b[0m \u001b[39mfinally\u001b[39;00m:\n\u001b[0;32m     72\u001b[0m     \u001b[39mdel\u001b[39;00m filtered_tb\n",
      "File \u001b[1;32m~\\AppData\\Local\\Packages\\PythonSoftwareFoundation.Python.3.10_qbz5n2kfra8p0\\LocalCache\\local-packages\\Python310\\site-packages\\keras\\engine\\data_adapter.py:1851\u001b[0m, in \u001b[0;36m_check_data_cardinality\u001b[1;34m(data)\u001b[0m\n\u001b[0;32m   1844\u001b[0m     msg \u001b[39m+\u001b[39m\u001b[39m=\u001b[39m \u001b[39m\"\u001b[39m\u001b[39m  \u001b[39m\u001b[39m{}\u001b[39;00m\u001b[39m sizes: \u001b[39m\u001b[39m{}\u001b[39;00m\u001b[39m\\n\u001b[39;00m\u001b[39m\"\u001b[39m\u001b[39m.\u001b[39mformat(\n\u001b[0;32m   1845\u001b[0m         label,\n\u001b[0;32m   1846\u001b[0m         \u001b[39m\"\u001b[39m\u001b[39m, \u001b[39m\u001b[39m\"\u001b[39m\u001b[39m.\u001b[39mjoin(\n\u001b[0;32m   1847\u001b[0m             \u001b[39mstr\u001b[39m(i\u001b[39m.\u001b[39mshape[\u001b[39m0\u001b[39m]) \u001b[39mfor\u001b[39;00m i \u001b[39min\u001b[39;00m tf\u001b[39m.\u001b[39mnest\u001b[39m.\u001b[39mflatten(single_data)\n\u001b[0;32m   1848\u001b[0m         ),\n\u001b[0;32m   1849\u001b[0m     )\n\u001b[0;32m   1850\u001b[0m msg \u001b[39m+\u001b[39m\u001b[39m=\u001b[39m \u001b[39m\"\u001b[39m\u001b[39mMake sure all arrays contain the same number of samples.\u001b[39m\u001b[39m\"\u001b[39m\n\u001b[1;32m-> 1851\u001b[0m \u001b[39mraise\u001b[39;00m \u001b[39mValueError\u001b[39;00m(msg)\n",
      "\u001b[1;31mValueError\u001b[0m: Data cardinality is ambiguous:\n  x sizes: 1781, 1380\n  y sizes: 1781\nMake sure all arrays contain the same number of samples."
     ]
    }
   ],
   "source": [
    "# Train the model\n",
    "model.fit([np.array(X_train['text_embeddings']), X_train_scaled], y_train,\n",
    "          epochs=10, batch_size=32, validation_data=([np.array(X_test['text_embeddings'].tolist()), X_test], y_test))\n"
   ]
  },
  {
   "cell_type": "code",
   "execution_count": 266,
   "metadata": {},
   "outputs": [
    {
     "name": "stdout",
     "output_type": "stream",
     "text": [
      "6/6 [==============================] - 0s 4ms/step - loss: 0.1413 - accuracy: 0.9653\n",
      "Loss: 0.1412552446126938, Accuracy: 0.9653179049491882\n"
     ]
    }
   ],
   "source": [
    "# Evaluate the model\n",
    "loss, accuracy = model.evaluate([np.array(X_test['text_embeddings'].tolist()), X_test_scaled], y_test)\n",
    "print(f\"Loss: {loss}, Accuracy: {accuracy}\")"
   ]
  }
 ],
 "metadata": {
  "kernelspec": {
   "display_name": "Python 3",
   "language": "python",
   "name": "python3"
  },
  "language_info": {
   "codemirror_mode": {
    "name": "ipython",
    "version": 3
   },
   "file_extension": ".py",
   "mimetype": "text/x-python",
   "name": "python",
   "nbconvert_exporter": "python",
   "pygments_lexer": "ipython3",
   "version": "3.10.11"
  },
  "orig_nbformat": 4,
  "vscode": {
   "interpreter": {
    "hash": "24905e458ad4dc5a4619ab5330e2c95bb62fcc8cfba758a3e378b0342911d66f"
   }
  }
 },
 "nbformat": 4,
 "nbformat_minor": 2
}
