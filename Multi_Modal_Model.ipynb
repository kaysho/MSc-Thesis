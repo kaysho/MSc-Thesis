{
 "cells": [
  {
   "attachments": {},
   "cell_type": "markdown",
   "metadata": {},
   "source": [
    "# Multi modal model"
   ]
  },
  {
   "cell_type": "code",
   "execution_count": null,
   "metadata": {},
   "outputs": [],
   "source": [
    "%pip install yfinance\n",
    "%pip install nltk\n",
    "%pip install matplotlib\n",
    "%pip install seaborn\n",
    "%pip install wordcloud\n",
    "%pip install torchvision\n",
    "%pip install -U scikit-learn scipy matplotlib\n",
    "%pip install pytorch-lightning"
   ]
  },
  {
   "cell_type": "code",
   "execution_count": 131,
   "metadata": {},
   "outputs": [
    {
     "name": "stderr",
     "output_type": "stream",
     "text": [
      "[nltk_data] Downloading package words to\n",
      "[nltk_data]     C:\\Users\\Computing\\AppData\\Roaming\\nltk_data...\n",
      "[nltk_data]   Package words is already up-to-date!\n"
     ]
    },
    {
     "data": {
      "text/plain": [
       "True"
      ]
     },
     "execution_count": 131,
     "metadata": {},
     "output_type": "execute_result"
    }
   ],
   "source": [
    "import yfinance as yf\n",
    "import numpy as np\n",
    "import pandas as pd\n",
    "import glob\n",
    "import re\n",
    "import nltk\n",
    "import nest_asyncio\n",
    "import matplotlib.pyplot as plt\n",
    "\n",
    "from calendar import monthrange\n",
    "import numpy as np\n",
    "import pandas as pd\n",
    "import seaborn as sns\n",
    "import re\n",
    "import pickle\n",
    "from datetime import datetime, timedelta, date\n",
    "import pytz\n",
    "import torch\n",
    "import torch.nn as nn\n",
    "import torch.utils.data as td\n",
    "import sklearn\n",
    "import pytorch_lightning as pl\n",
    "from typing import List, Optional\n",
    "\n",
    "from joblib import Parallel, delayed\n",
    "import joblib\n",
    "import nltk\n",
    "import matplotlib.pyplot as plt\n",
    "import numpy as np\n",
    "import seaborn as sns\n",
    "from nltk.corpus import stopwords\n",
    "from wordcloud import WordCloud, STOPWORDS, ImageColorGenerator\n",
    "from collections import defaultdict,Counter\n",
    "import re\n",
    "from sklearn.ensemble import RandomForestClassifier\n",
    "from sklearn.feature_extraction.text import TfidfVectorizer, CountVectorizer\n",
    "from nltk.stem import WordNetLemmatizer,PorterStemmer\n",
    "nltk.download('words')"
   ]
  },
  {
   "cell_type": "markdown",
   "metadata": {},
   "source": [
    "# Fetch financial record from 1st January 2015 - 31st May 2021"
   ]
  },
  {
   "cell_type": "code",
   "execution_count": 10,
   "metadata": {},
   "outputs": [
    {
     "name": "stdout",
     "output_type": "stream",
     "text": [
      "[*********************100%%**********************]  1 of 1 completed\n"
     ]
    }
   ],
   "source": [
    "start_date ='2015-01-01'\n",
    "end_date = '2021-05-31'\n",
    "price = yf.download(\"BTC-USD\", start=start_date, end=end_date)"
   ]
  },
  {
   "cell_type": "markdown",
   "metadata": {},
   "source": [
    "# Compute Lagged price"
   ]
  },
  {
   "cell_type": "code",
   "execution_count": null,
   "metadata": {},
   "outputs": [],
   "source": [
    "price.head()    "
   ]
  },
  {
   "cell_type": "code",
   "execution_count": 12,
   "metadata": {},
   "outputs": [],
   "source": [
    "# Due to the high volatility nature of crypto currency we chose a 1 day lag\n",
    "\n",
    "lag = 1  # Number of lags\n",
    "price['Close Lagged Price'] = price['Close'].shift(lag)"
   ]
  },
  {
   "cell_type": "code",
   "execution_count": 13,
   "metadata": {},
   "outputs": [
    {
     "data": {
      "text/html": [
       "<div>\n",
       "<style scoped>\n",
       "    .dataframe tbody tr th:only-of-type {\n",
       "        vertical-align: middle;\n",
       "    }\n",
       "\n",
       "    .dataframe tbody tr th {\n",
       "        vertical-align: top;\n",
       "    }\n",
       "\n",
       "    .dataframe thead th {\n",
       "        text-align: right;\n",
       "    }\n",
       "</style>\n",
       "<table border=\"1\" class=\"dataframe\">\n",
       "  <thead>\n",
       "    <tr style=\"text-align: right;\">\n",
       "      <th></th>\n",
       "      <th>Open</th>\n",
       "      <th>High</th>\n",
       "      <th>Low</th>\n",
       "      <th>Close</th>\n",
       "      <th>Adj Close</th>\n",
       "      <th>Volume</th>\n",
       "      <th>Close Lagged Price</th>\n",
       "    </tr>\n",
       "    <tr>\n",
       "      <th>Date</th>\n",
       "      <th></th>\n",
       "      <th></th>\n",
       "      <th></th>\n",
       "      <th></th>\n",
       "      <th></th>\n",
       "      <th></th>\n",
       "      <th></th>\n",
       "    </tr>\n",
       "  </thead>\n",
       "  <tbody>\n",
       "    <tr>\n",
       "      <th>2015-01-01</th>\n",
       "      <td>320.434998</td>\n",
       "      <td>320.434998</td>\n",
       "      <td>314.002991</td>\n",
       "      <td>314.248993</td>\n",
       "      <td>314.248993</td>\n",
       "      <td>8036550</td>\n",
       "      <td>NaN</td>\n",
       "    </tr>\n",
       "    <tr>\n",
       "      <th>2015-01-02</th>\n",
       "      <td>314.079010</td>\n",
       "      <td>315.838989</td>\n",
       "      <td>313.565002</td>\n",
       "      <td>315.032013</td>\n",
       "      <td>315.032013</td>\n",
       "      <td>7860650</td>\n",
       "      <td>314.248993</td>\n",
       "    </tr>\n",
       "    <tr>\n",
       "      <th>2015-01-03</th>\n",
       "      <td>314.846008</td>\n",
       "      <td>315.149994</td>\n",
       "      <td>281.082001</td>\n",
       "      <td>281.082001</td>\n",
       "      <td>281.082001</td>\n",
       "      <td>33054400</td>\n",
       "      <td>315.032013</td>\n",
       "    </tr>\n",
       "    <tr>\n",
       "      <th>2015-01-04</th>\n",
       "      <td>281.145996</td>\n",
       "      <td>287.230011</td>\n",
       "      <td>257.612000</td>\n",
       "      <td>264.195007</td>\n",
       "      <td>264.195007</td>\n",
       "      <td>55629100</td>\n",
       "      <td>281.082001</td>\n",
       "    </tr>\n",
       "    <tr>\n",
       "      <th>2015-01-05</th>\n",
       "      <td>265.084015</td>\n",
       "      <td>278.341003</td>\n",
       "      <td>265.084015</td>\n",
       "      <td>274.473999</td>\n",
       "      <td>274.473999</td>\n",
       "      <td>43962800</td>\n",
       "      <td>264.195007</td>\n",
       "    </tr>\n",
       "  </tbody>\n",
       "</table>\n",
       "</div>"
      ],
      "text/plain": [
       "                  Open        High         Low       Close   Adj Close  \\\n",
       "Date                                                                     \n",
       "2015-01-01  320.434998  320.434998  314.002991  314.248993  314.248993   \n",
       "2015-01-02  314.079010  315.838989  313.565002  315.032013  315.032013   \n",
       "2015-01-03  314.846008  315.149994  281.082001  281.082001  281.082001   \n",
       "2015-01-04  281.145996  287.230011  257.612000  264.195007  264.195007   \n",
       "2015-01-05  265.084015  278.341003  265.084015  274.473999  274.473999   \n",
       "\n",
       "              Volume  Close Lagged Price  \n",
       "Date                                      \n",
       "2015-01-01   8036550                 NaN  \n",
       "2015-01-02   7860650          314.248993  \n",
       "2015-01-03  33054400          315.032013  \n",
       "2015-01-04  55629100          281.082001  \n",
       "2015-01-05  43962800          264.195007  "
      ]
     },
     "execution_count": 13,
     "metadata": {},
     "output_type": "execute_result"
    }
   ],
   "source": [
    "price.head()"
   ]
  },
  {
   "cell_type": "code",
   "execution_count": 14,
   "metadata": {},
   "outputs": [
    {
     "data": {
      "text/plain": [
       "(2342, 7)"
      ]
     },
     "execution_count": 14,
     "metadata": {},
     "output_type": "execute_result"
    }
   ],
   "source": [
    "price.shape"
   ]
  },
  {
   "cell_type": "markdown",
   "metadata": {},
   "source": [
    "# Compute moving average"
   ]
  },
  {
   "cell_type": "code",
   "execution_count": 15,
   "metadata": {},
   "outputs": [],
   "source": [
    "# We will compute 7, 14, 21 simple moving average moving average \n",
    "\n",
    "price['sma7'] = price['Close'].rolling(window=7).mean()\n",
    "price['sma14'] = price['Close'].rolling(window=14).mean()\n",
    "price['sma21'] = price['Close'].rolling(window=21).mean()\n",
    "\n",
    "\n",
    "price['ema12'] = price['Close'].ewm(span=12, adjust=False).mean()\n",
    "price['ema26'] = price['Close'].ewm(span=26, adjust=False).mean()\n",
    "\n",
    "# Calculate MACD Line\n",
    "price['MACD line'] = price['ema12'] - price['ema26']\n",
    "\n",
    "# Calculate Signal Line\n",
    "price['Signal line'] = price['MACD line'].ewm(span=9, adjust=False).mean()\n",
    "\n",
    "# Calculate MACD Histogram\n",
    "price['MACD histogram'] = price['MACD line'] - price['Signal line']\n"
   ]
  },
  {
   "cell_type": "code",
   "execution_count": null,
   "metadata": {},
   "outputs": [],
   "source": [
    "price.head()"
   ]
  },
  {
   "cell_type": "code",
   "execution_count": 17,
   "metadata": {},
   "outputs": [
    {
     "data": {
      "text/plain": [
       "(2342, 15)"
      ]
     },
     "execution_count": 17,
     "metadata": {},
     "output_type": "execute_result"
    }
   ],
   "source": [
    "price.shape"
   ]
  },
  {
   "cell_type": "code",
   "execution_count": 18,
   "metadata": {},
   "outputs": [],
   "source": [
    "window = 14  # Number of periods for RSI calculation\n",
    "\n",
    "# Calculate price changes\n",
    "delta = price['Close'].diff()\n",
    "\n",
    "# Calculate gains and losses\n",
    "gain = delta.where(delta > 0, 0)\n",
    "loss = -delta.where(delta < 0, 0)\n",
    "\n",
    "# Calculate average gains and losses\n",
    "avg_gain = gain.rolling(window=window).mean()\n",
    "avg_loss = loss.rolling(window=window).mean()\n",
    "\n",
    "# Calculate relative strength (RS) and RSI\n",
    "rs = avg_gain / avg_loss\n",
    "rsi = 100 - (100 / (1 + rs))\n",
    "\n",
    "price['rsi'] = rsi\n"
   ]
  },
  {
   "cell_type": "code",
   "execution_count": 19,
   "metadata": {},
   "outputs": [
    {
     "data": {
      "text/plain": [
       "(2342, 16)"
      ]
     },
     "execution_count": 19,
     "metadata": {},
     "output_type": "execute_result"
    }
   ],
   "source": [
    "price.shape"
   ]
  },
  {
   "cell_type": "code",
   "execution_count": null,
   "metadata": {},
   "outputs": [],
   "source": [
    "price.tail(5)"
   ]
  },
  {
   "cell_type": "code",
   "execution_count": 21,
   "metadata": {},
   "outputs": [
    {
     "data": {
      "text/html": [
       "<div>\n",
       "<style scoped>\n",
       "    .dataframe tbody tr th:only-of-type {\n",
       "        vertical-align: middle;\n",
       "    }\n",
       "\n",
       "    .dataframe tbody tr th {\n",
       "        vertical-align: top;\n",
       "    }\n",
       "\n",
       "    .dataframe thead th {\n",
       "        text-align: right;\n",
       "    }\n",
       "</style>\n",
       "<table border=\"1\" class=\"dataframe\">\n",
       "  <thead>\n",
       "    <tr style=\"text-align: right;\">\n",
       "      <th></th>\n",
       "      <th>Open</th>\n",
       "      <th>High</th>\n",
       "      <th>Low</th>\n",
       "      <th>Close</th>\n",
       "      <th>Adj Close</th>\n",
       "      <th>Volume</th>\n",
       "      <th>Close Lagged Price</th>\n",
       "      <th>sma7</th>\n",
       "      <th>sma14</th>\n",
       "      <th>sma21</th>\n",
       "      <th>ema12</th>\n",
       "      <th>ema26</th>\n",
       "      <th>MACD line</th>\n",
       "      <th>Signal line</th>\n",
       "      <th>MACD histogram</th>\n",
       "      <th>rsi</th>\n",
       "    </tr>\n",
       "    <tr>\n",
       "      <th>Date</th>\n",
       "      <th></th>\n",
       "      <th></th>\n",
       "      <th></th>\n",
       "      <th></th>\n",
       "      <th></th>\n",
       "      <th></th>\n",
       "      <th></th>\n",
       "      <th></th>\n",
       "      <th></th>\n",
       "      <th></th>\n",
       "      <th></th>\n",
       "      <th></th>\n",
       "      <th></th>\n",
       "      <th></th>\n",
       "      <th></th>\n",
       "      <th></th>\n",
       "    </tr>\n",
       "  </thead>\n",
       "  <tbody>\n",
       "    <tr>\n",
       "      <th>2015-01-21</th>\n",
       "      <td>211.378006</td>\n",
       "      <td>227.787994</td>\n",
       "      <td>211.212006</td>\n",
       "      <td>226.897003</td>\n",
       "      <td>226.897003</td>\n",
       "      <td>29924600</td>\n",
       "      <td>211.315002</td>\n",
       "      <td>211.516142</td>\n",
       "      <td>233.327568</td>\n",
       "      <td>252.197332</td>\n",
       "      <td>227.887069</td>\n",
       "      <td>252.583438</td>\n",
       "      <td>-24.696369</td>\n",
       "      <td>-23.050697</td>\n",
       "      <td>-1.645671</td>\n",
       "      <td>34.070140</td>\n",
       "    </tr>\n",
       "    <tr>\n",
       "      <th>2015-01-22</th>\n",
       "      <td>227.322006</td>\n",
       "      <td>237.018997</td>\n",
       "      <td>226.434006</td>\n",
       "      <td>233.406006</td>\n",
       "      <td>233.406006</td>\n",
       "      <td>33544600</td>\n",
       "      <td>226.897003</td>\n",
       "      <td>214.882143</td>\n",
       "      <td>229.760211</td>\n",
       "      <td>248.347666</td>\n",
       "      <td>228.736136</td>\n",
       "      <td>251.162887</td>\n",
       "      <td>-22.426751</td>\n",
       "      <td>-22.925908</td>\n",
       "      <td>0.499157</td>\n",
       "      <td>37.948058</td>\n",
       "    </tr>\n",
       "    <tr>\n",
       "      <th>2015-01-23</th>\n",
       "      <td>233.516998</td>\n",
       "      <td>234.845001</td>\n",
       "      <td>225.195999</td>\n",
       "      <td>232.878998</td>\n",
       "      <td>232.878998</td>\n",
       "      <td>24621700</td>\n",
       "      <td>233.406006</td>\n",
       "      <td>218.422429</td>\n",
       "      <td>225.650998</td>\n",
       "      <td>244.435617</td>\n",
       "      <td>229.373500</td>\n",
       "      <td>249.808525</td>\n",
       "      <td>-20.435025</td>\n",
       "      <td>-22.427731</td>\n",
       "      <td>1.992706</td>\n",
       "      <td>35.665555</td>\n",
       "    </tr>\n",
       "    <tr>\n",
       "      <th>2015-01-24</th>\n",
       "      <td>232.699997</td>\n",
       "      <td>248.210007</td>\n",
       "      <td>230.022003</td>\n",
       "      <td>247.847000</td>\n",
       "      <td>247.847000</td>\n",
       "      <td>24782500</td>\n",
       "      <td>232.878998</td>\n",
       "      <td>225.363429</td>\n",
       "      <td>223.726070</td>\n",
       "      <td>242.852998</td>\n",
       "      <td>232.215577</td>\n",
       "      <td>249.663227</td>\n",
       "      <td>-17.447650</td>\n",
       "      <td>-21.431715</td>\n",
       "      <td>3.984065</td>\n",
       "      <td>43.263526</td>\n",
       "    </tr>\n",
       "    <tr>\n",
       "      <th>2015-01-25</th>\n",
       "      <td>247.352005</td>\n",
       "      <td>255.074005</td>\n",
       "      <td>243.889999</td>\n",
       "      <td>253.718002</td>\n",
       "      <td>253.718002</td>\n",
       "      <td>33582700</td>\n",
       "      <td>247.847000</td>\n",
       "      <td>231.560429</td>\n",
       "      <td>222.873070</td>\n",
       "      <td>242.354093</td>\n",
       "      <td>235.523642</td>\n",
       "      <td>249.963581</td>\n",
       "      <td>-14.439938</td>\n",
       "      <td>-20.033360</td>\n",
       "      <td>5.593421</td>\n",
       "      <td>46.965307</td>\n",
       "    </tr>\n",
       "    <tr>\n",
       "      <th>...</th>\n",
       "      <td>...</td>\n",
       "      <td>...</td>\n",
       "      <td>...</td>\n",
       "      <td>...</td>\n",
       "      <td>...</td>\n",
       "      <td>...</td>\n",
       "      <td>...</td>\n",
       "      <td>...</td>\n",
       "      <td>...</td>\n",
       "      <td>...</td>\n",
       "      <td>...</td>\n",
       "      <td>...</td>\n",
       "      <td>...</td>\n",
       "      <td>...</td>\n",
       "      <td>...</td>\n",
       "      <td>...</td>\n",
       "    </tr>\n",
       "    <tr>\n",
       "      <th>2021-05-26</th>\n",
       "      <td>38392.625000</td>\n",
       "      <td>40782.078125</td>\n",
       "      <td>37905.835938</td>\n",
       "      <td>39294.199219</td>\n",
       "      <td>39294.199219</td>\n",
       "      <td>51346735160</td>\n",
       "      <td>38402.222656</td>\n",
       "      <td>38113.863839</td>\n",
       "      <td>41647.098214</td>\n",
       "      <td>46455.394903</td>\n",
       "      <td>41038.820893</td>\n",
       "      <td>45730.196464</td>\n",
       "      <td>-4691.375571</td>\n",
       "      <td>-4177.557784</td>\n",
       "      <td>-513.817788</td>\n",
       "      <td>33.003717</td>\n",
       "    </tr>\n",
       "    <tr>\n",
       "      <th>2021-05-27</th>\n",
       "      <td>39316.890625</td>\n",
       "      <td>40379.617188</td>\n",
       "      <td>37247.902344</td>\n",
       "      <td>38436.968750</td>\n",
       "      <td>38436.968750</td>\n",
       "      <td>43210968721</td>\n",
       "      <td>39294.199219</td>\n",
       "      <td>37778.753906</td>\n",
       "      <td>40841.439453</td>\n",
       "      <td>45600.178385</td>\n",
       "      <td>40638.535948</td>\n",
       "      <td>45189.957374</td>\n",
       "      <td>-4551.421426</td>\n",
       "      <td>-4252.330512</td>\n",
       "      <td>-299.090914</td>\n",
       "      <td>30.743726</td>\n",
       "    </tr>\n",
       "    <tr>\n",
       "      <th>2021-05-28</th>\n",
       "      <td>38507.082031</td>\n",
       "      <td>38856.968750</td>\n",
       "      <td>34779.039062</td>\n",
       "      <td>35697.605469</td>\n",
       "      <td>35697.605469</td>\n",
       "      <td>55200191952</td>\n",
       "      <td>38436.968750</td>\n",
       "      <td>37549.170201</td>\n",
       "      <td>39828.373047</td>\n",
       "      <td>44568.807106</td>\n",
       "      <td>39878.392797</td>\n",
       "      <td>44486.820196</td>\n",
       "      <td>-4608.427399</td>\n",
       "      <td>-4323.549889</td>\n",
       "      <td>-284.877509</td>\n",
       "      <td>27.743299</td>\n",
       "    </tr>\n",
       "    <tr>\n",
       "      <th>2021-05-29</th>\n",
       "      <td>35684.156250</td>\n",
       "      <td>37234.500000</td>\n",
       "      <td>33693.929688</td>\n",
       "      <td>34616.066406</td>\n",
       "      <td>34616.066406</td>\n",
       "      <td>45231013335</td>\n",
       "      <td>35697.605469</td>\n",
       "      <td>37131.946429</td>\n",
       "      <td>38960.935826</td>\n",
       "      <td>43417.011347</td>\n",
       "      <td>39068.804122</td>\n",
       "      <td>43755.653248</td>\n",
       "      <td>-4686.849127</td>\n",
       "      <td>-4396.209737</td>\n",
       "      <td>-290.639390</td>\n",
       "      <td>29.639910</td>\n",
       "    </tr>\n",
       "    <tr>\n",
       "      <th>2021-05-30</th>\n",
       "      <td>34607.406250</td>\n",
       "      <td>36400.667969</td>\n",
       "      <td>33520.738281</td>\n",
       "      <td>35678.128906</td>\n",
       "      <td>35678.128906</td>\n",
       "      <td>31646080921</td>\n",
       "      <td>34616.066406</td>\n",
       "      <td>37261.595982</td>\n",
       "      <td>38191.083705</td>\n",
       "      <td>42343.002418</td>\n",
       "      <td>38547.161781</td>\n",
       "      <td>43157.318112</td>\n",
       "      <td>-4610.156331</td>\n",
       "      <td>-4438.999056</td>\n",
       "      <td>-171.157275</td>\n",
       "      <td>32.378224</td>\n",
       "    </tr>\n",
       "  </tbody>\n",
       "</table>\n",
       "<p>2322 rows × 16 columns</p>\n",
       "</div>"
      ],
      "text/plain": [
       "                    Open          High           Low         Close  \\\n",
       "Date                                                                 \n",
       "2015-01-21    211.378006    227.787994    211.212006    226.897003   \n",
       "2015-01-22    227.322006    237.018997    226.434006    233.406006   \n",
       "2015-01-23    233.516998    234.845001    225.195999    232.878998   \n",
       "2015-01-24    232.699997    248.210007    230.022003    247.847000   \n",
       "2015-01-25    247.352005    255.074005    243.889999    253.718002   \n",
       "...                  ...           ...           ...           ...   \n",
       "2021-05-26  38392.625000  40782.078125  37905.835938  39294.199219   \n",
       "2021-05-27  39316.890625  40379.617188  37247.902344  38436.968750   \n",
       "2021-05-28  38507.082031  38856.968750  34779.039062  35697.605469   \n",
       "2021-05-29  35684.156250  37234.500000  33693.929688  34616.066406   \n",
       "2021-05-30  34607.406250  36400.667969  33520.738281  35678.128906   \n",
       "\n",
       "               Adj Close       Volume  Close Lagged Price          sma7  \\\n",
       "Date                                                                      \n",
       "2015-01-21    226.897003     29924600          211.315002    211.516142   \n",
       "2015-01-22    233.406006     33544600          226.897003    214.882143   \n",
       "2015-01-23    232.878998     24621700          233.406006    218.422429   \n",
       "2015-01-24    247.847000     24782500          232.878998    225.363429   \n",
       "2015-01-25    253.718002     33582700          247.847000    231.560429   \n",
       "...                  ...          ...                 ...           ...   \n",
       "2021-05-26  39294.199219  51346735160        38402.222656  38113.863839   \n",
       "2021-05-27  38436.968750  43210968721        39294.199219  37778.753906   \n",
       "2021-05-28  35697.605469  55200191952        38436.968750  37549.170201   \n",
       "2021-05-29  34616.066406  45231013335        35697.605469  37131.946429   \n",
       "2021-05-30  35678.128906  31646080921        34616.066406  37261.595982   \n",
       "\n",
       "                   sma14         sma21         ema12         ema26  \\\n",
       "Date                                                                 \n",
       "2015-01-21    233.327568    252.197332    227.887069    252.583438   \n",
       "2015-01-22    229.760211    248.347666    228.736136    251.162887   \n",
       "2015-01-23    225.650998    244.435617    229.373500    249.808525   \n",
       "2015-01-24    223.726070    242.852998    232.215577    249.663227   \n",
       "2015-01-25    222.873070    242.354093    235.523642    249.963581   \n",
       "...                  ...           ...           ...           ...   \n",
       "2021-05-26  41647.098214  46455.394903  41038.820893  45730.196464   \n",
       "2021-05-27  40841.439453  45600.178385  40638.535948  45189.957374   \n",
       "2021-05-28  39828.373047  44568.807106  39878.392797  44486.820196   \n",
       "2021-05-29  38960.935826  43417.011347  39068.804122  43755.653248   \n",
       "2021-05-30  38191.083705  42343.002418  38547.161781  43157.318112   \n",
       "\n",
       "              MACD line  Signal line  MACD histogram        rsi  \n",
       "Date                                                             \n",
       "2015-01-21   -24.696369   -23.050697       -1.645671  34.070140  \n",
       "2015-01-22   -22.426751   -22.925908        0.499157  37.948058  \n",
       "2015-01-23   -20.435025   -22.427731        1.992706  35.665555  \n",
       "2015-01-24   -17.447650   -21.431715        3.984065  43.263526  \n",
       "2015-01-25   -14.439938   -20.033360        5.593421  46.965307  \n",
       "...                 ...          ...             ...        ...  \n",
       "2021-05-26 -4691.375571 -4177.557784     -513.817788  33.003717  \n",
       "2021-05-27 -4551.421426 -4252.330512     -299.090914  30.743726  \n",
       "2021-05-28 -4608.427399 -4323.549889     -284.877509  27.743299  \n",
       "2021-05-29 -4686.849127 -4396.209737     -290.639390  29.639910  \n",
       "2021-05-30 -4610.156331 -4438.999056     -171.157275  32.378224  \n",
       "\n",
       "[2322 rows x 16 columns]"
      ]
     },
     "execution_count": 21,
     "metadata": {},
     "output_type": "execute_result"
    }
   ],
   "source": [
    "price.dropna()"
   ]
  },
  {
   "cell_type": "code",
   "execution_count": 23,
   "metadata": {},
   "outputs": [
    {
     "data": {
      "text/plain": [
       "Open   High   Low    Close  Adj Close  Volume  Close Lagged Price  sma7   sma14  sma21  ema12  ema26  MACD line  Signal line  MACD histogram  rsi  \n",
       "False  False  False  False  False      False   False               False  False  False  False  False  False      False        False           False    2322\n",
       "                                                                                 True   False  False  False      False        False           False       7\n",
       "                                                                          True   True   False  False  False      False        False           True        7\n",
       "                                                                   True   True   True   False  False  False      False        False           True        5\n",
       "                                               True                True   True   True   False  False  False      False        False           True        1\n",
       "Name: count, dtype: int64"
      ]
     },
     "execution_count": 23,
     "metadata": {},
     "output_type": "execute_result"
    }
   ],
   "source": [
    "price.isnull().value_counts()"
   ]
  },
  {
   "cell_type": "code",
   "execution_count": null,
   "metadata": {},
   "outputs": [],
   "source": [
    "price.describe()"
   ]
  },
  {
   "cell_type": "code",
   "execution_count": null,
   "metadata": {},
   "outputs": [],
   "source": [
    "price.info()"
   ]
  },
  {
   "cell_type": "code",
   "execution_count": 26,
   "metadata": {},
   "outputs": [
    {
     "data": {
      "text/plain": [
       "<Figure size 1200x600 with 0 Axes>"
      ]
     },
     "metadata": {},
     "output_type": "display_data"
    },
    {
     "data": {
      "image/png": "[encoded data removed]",
      "text/plain": [
       "<Figure size 640x480 with 1 Axes>"
      ]
     },
     "metadata": {},
     "output_type": "display_data"
    }
   ],
   "source": [
    "# Plotting Open, High, Low, Close\n",
    "plt.figure(figsize=(12, 6))\n",
    "price[['Open', 'High', 'Low', 'Close']].plot()\n",
    "plt.title('Price Trends')\n",
    "plt.xlabel('Date')\n",
    "plt.ylabel('Price')\n",
    "plt.legend()\n",
    "plt.show()"
   ]
  },
  {
   "cell_type": "code",
   "execution_count": 27,
   "metadata": {},
   "outputs": [
    {
     "data": {
      "image/png": "[encoded data removed]",
      "text/plain": [
       "<Figure size 1200x600 with 1 Axes>"
      ]
     },
     "metadata": {},
     "output_type": "display_data"
    }
   ],
   "source": [
    "# Plotting Volume\n",
    "plt.figure(figsize=(12, 6))\n",
    "price['Volume'].plot()\n",
    "plt.title('Volume')\n",
    "plt.xlabel('Date')\n",
    "plt.ylabel('Volume')\n",
    "plt.show()"
   ]
  },
  {
   "cell_type": "code",
   "execution_count": 28,
   "metadata": {},
   "outputs": [
    {
     "data": {
      "text/plain": [
       "<Figure size 1200x600 with 0 Axes>"
      ]
     },
     "metadata": {},
     "output_type": "display_data"
    },
    {
     "data": {
      "image/png": "[encoded data removed]",
      "text/plain": [
       "<Figure size 640x480 with 1 Axes>"
      ]
     },
     "metadata": {},
     "output_type": "display_data"
    }
   ],
   "source": [
    "# Plotting Moving Averages\n",
    "plt.figure(figsize=(12, 6))\n",
    "price[['sma7', 'sma14', 'sma21']].plot()\n",
    "plt.title('Moving Averages')\n",
    "plt.xlabel('Date')\n",
    "plt.ylabel('Price')\n",
    "plt.legend()\n",
    "plt.show()"
   ]
  },
  {
   "cell_type": "code",
   "execution_count": 29,
   "metadata": {},
   "outputs": [
    {
     "data": {
      "text/plain": [
       "<Figure size 1200x600 with 0 Axes>"
      ]
     },
     "metadata": {},
     "output_type": "display_data"
    },
    {
     "data": {
      "image/png": "[encoded data removed]",
      "text/plain": [
       "<Figure size 640x480 with 1 Axes>"
      ]
     },
     "metadata": {},
     "output_type": "display_data"
    },
    {
     "data": {
      "image/png": "[encoded data removed]",
      "text/plain": [
       "<Figure size 1200x600 with 1 Axes>"
      ]
     },
     "metadata": {},
     "output_type": "display_data"
    }
   ],
   "source": [
    "# Plotting MACD Line, Signal Line, MACD Histogram\n",
    "plt.figure(figsize=(12, 6))\n",
    "price[['MACD line', 'Signal line', 'MACD histogram']].plot()\n",
    "plt.title('MACD Indicators')\n",
    "plt.xlabel('Date')\n",
    "plt.ylabel('Value')\n",
    "plt.legend()\n",
    "plt.show()\n",
    "\n",
    "# Plotting RSI\n",
    "plt.figure(figsize=(12, 6))\n",
    "price['rsi'].plot()\n",
    "plt.title('RSI')\n",
    "plt.xlabel('Date')\n",
    "plt.ylabel('RSI')\n",
    "plt.show()"
   ]
  },
  {
   "attachments": {},
   "cell_type": "markdown",
   "metadata": {},
   "source": [
    "# Process financial article"
   ]
  },
  {
   "cell_type": "code",
   "execution_count": 35,
   "metadata": {},
   "outputs": [],
   "source": [
    "from joblib import Parallel, delayed\n",
    "import joblib\n",
    "import nltk\n",
    "import matplotlib.pyplot as plt\n",
    "import numpy as np\n",
    "import seaborn as sns\n",
    "from nltk.corpus import stopwords\n",
    "from wordcloud import WordCloud, STOPWORDS, ImageColorGenerator\n",
    "from collections import defaultdict,Counter\n",
    "import re\n",
    "from nltk.stem import WordNetLemmatizer,PorterStemmer"
   ]
  },
  {
   "cell_type": "code",
   "execution_count": null,
   "metadata": {},
   "outputs": [],
   "source": [
    "nltk.download('stopwords')\n",
    "\n",
    "stop=set(stopwords.words('english'))"
   ]
  },
  {
   "cell_type": "code",
   "execution_count": 37,
   "metadata": {},
   "outputs": [],
   "source": [
    "# Import packages\n",
    "# Default packages\n",
    "import time\n",
    "import csv\n",
    "import os\n",
    "import json\n",
    "\n",
    "\n",
    "# Preinstalled packages\n",
    "import requests\n",
    "import pandas as pd\n",
    "\n",
    "# URL of our News API\n",
    "base_url = 'https://api.newscatcherapi.com/v2/search?lang=en'\n",
    "\n",
    "# Your API key\n",
    "X_API_KEY = 'YHBKmAH0DbzXSs_h7be46br_kfw3EhBcqXPtCTSg1Qc'"
   ]
  },
  {
   "cell_type": "code",
   "execution_count": 52,
   "metadata": {},
   "outputs": [],
   "source": [
    "# Put your API key to headers in order to be authorized to perform a call\n",
    "headers = {'x-api-key': X_API_KEY}\n",
    "# Define your desired parameters\n",
    "# params = [\n",
    "#     {\n",
    "#         'q': 'Bitcoin',\n",
    "#         'lang': 'en',\n",
    "#         'to_rank': 10000,\n",
    "#         'topic': \"business\",\n",
    "#         'page_size': 100,\n",
    "#         'page': 1,\n",
    "#         'from' : \"2015/01/01\",\n",
    "#         'to': \"2019/12/31\"\n",
    "#     }\n",
    "# ]\n",
    "\n",
    "params = [\n",
    "    {\n",
    "        'q': 'Bitcoin',\n",
    "        'lang': 'en',\n",
    "        'to_rank': 10000,\n",
    "        'topic': \"business\",\n",
    "        'page_size': 100,\n",
    "        'page': 1\n",
    "    }\n",
    "]\n",
    "\n"
   ]
  },
  {
   "cell_type": "code",
   "execution_count": 53,
   "metadata": {},
   "outputs": [
    {
     "name": "stdout",
     "output_type": "stream",
     "text": [
      "Query in use => {'q': 'Bitcoin', 'lang': 'en', 'to_rank': 10000, 'topic': 'business', 'page_size': 100, 'page': 1}\n",
      "Done for page number => 1\n",
      "All articles have been extracted\n"
     ]
    }
   ],
   "source": [
    "# Variable to store all found news articles, mp stands for \"multiple queries\"\n",
    "all_news_articles_mp = []\n",
    "\n",
    "# Infinite loop which ends when all articles are extracted\n",
    "for separated_param in params:\n",
    "\n",
    "    print(f'Query in use => {str(separated_param)}')\n",
    "    \n",
    "    while True:\n",
    "        # Wait for 1 second between each call\n",
    "        time.sleep(1)\n",
    "\n",
    "        # GET Call from previous section enriched with some logs\n",
    "        response = requests.get(base_url, headers=headers, params=separated_param)\n",
    "        results = json.loads(response.text.encode())\n",
    "        if response.status_code == 200:\n",
    "            print(f'Done for page number => {separated_param[\"page\"]}')\n",
    "\n",
    "\n",
    "            # Adding your parameters to each result to be able to explore afterwards\n",
    "            for i in results['articles']:\n",
    "                i['used_params'] = str(separated_param)\n",
    "\n",
    "\n",
    "            # Storing all found articles\n",
    "            all_news_articles_mp.extend(results['articles'])\n",
    "\n",
    "            # Ensuring to cover all pages by incrementing \"page\" value at each iteration\n",
    "            separated_param['page'] += 1\n",
    "            if separated_param['page'] > results['total_pages']:\n",
    "                print(\"All articles have been extracted\")\n",
    "                break\n",
    "            else:\n",
    "                print(f'Proceed extracting page number => {separated_param[\"page\"]}')\n",
    "        else:\n",
    "            print(results)\n",
    "            print(f'ERROR: API call failed for page number => {separated_param[\"page\"]}')\n",
    "            break"
   ]
  },
  {
   "cell_type": "code",
   "execution_count": 54,
   "metadata": {},
   "outputs": [
    {
     "name": "stdout",
     "output_type": "stream",
     "text": [
      "Number of extracted articles => 89\n"
     ]
    }
   ],
   "source": [
    "print(f'Number of extracted articles => {str(len(all_news_articles_mp))}')"
   ]
  },
  {
   "cell_type": "code",
   "execution_count": 55,
   "metadata": {},
   "outputs": [],
   "source": [
    "# Define variables\n",
    "unique_ids = []\n",
    "all_news_articles = []\n",
    "\n",
    "# Iterate on each article and check whether we saw this _id before\n",
    "for article in all_news_articles_mp:\n",
    "    if article['_id'] not in unique_ids:\n",
    "        unique_ids.append(article['_id'])\n",
    "        all_news_articles.append(article)"
   ]
  },
  {
   "cell_type": "code",
   "execution_count": 56,
   "metadata": {},
   "outputs": [],
   "source": [
    "# Import data into pandas\n",
    "pandas_table = pd.DataFrame(all_news_articles)"
   ]
  },
  {
   "cell_type": "code",
   "execution_count": null,
   "metadata": {},
   "outputs": [],
   "source": [
    "pandas_table.head()"
   ]
  },
  {
   "cell_type": "code",
   "execution_count": 58,
   "metadata": {},
   "outputs": [],
   "source": [
    "news_2013_2017 = pd.read_csv(\"../archive/crypto_news_parsed_2013-2017_train.csv\")\n",
    "news_2018 = pd.read_csv(\"../archive/crypto_news_parsed_2018_validation.csv\")\n"
   ]
  },
  {
   "cell_type": "code",
   "execution_count": 60,
   "metadata": {},
   "outputs": [],
   "source": [
    "frames = [news_2013_2017,news_2018]\n",
    "news = pd.concat(frames,ignore_index=True)"
   ]
  },
  {
   "cell_type": "code",
   "execution_count": 62,
   "metadata": {},
   "outputs": [],
   "source": [
    "def find_date_from_html(year, html):\n",
    "    date_regex = str(year) + r'[-/](\\d{2})[-/](\\d{2})'\n",
    "    date_matches = re.findall(date_regex,html)\n",
    "    date_matches = [(int(m),int(d)) for m,d in date_matches if int(m) < 13 and int(d) <= monthrange(int(year), int(m))[1] and int(d) > 0 and int(m) > 0]\n",
    "    if not date_matches:\n",
    "        return (None, None)\n",
    "    return max(set(date_matches), key=date_matches.count)"
   ]
  },
  {
   "cell_type": "code",
   "execution_count": 74,
   "metadata": {},
   "outputs": [],
   "source": [
    "\n",
    "date=[]\n",
    "count=0\n",
    "for i in range(0,len(news)):\n",
    "    date.append(find_date_from_html(news['year'][i],news['url'][i]))\n",
    "    if date[i] == (None,None):\n",
    "        count+=1"
   ]
  },
  {
   "cell_type": "code",
   "execution_count": 75,
   "metadata": {},
   "outputs": [
    {
     "data": {
      "text/plain": [
       "29795"
      ]
     },
     "execution_count": 75,
     "metadata": {},
     "output_type": "execute_result"
    }
   ],
   "source": [
    "count"
   ]
  },
  {
   "cell_type": "code",
   "execution_count": null,
   "metadata": {},
   "outputs": [],
   "source": [
    "news[[\"month\", \"day\"]] = news.apply(lambda x: find_date_from_html(x[\"year\"], x[\"html\"]), axis=1, result_type='expand')\n",
    "news['date'] = pd.to_datetime(news[[\"year\", \"month\", \"day\"]], utc=True)\n",
    "news = news.drop(columns=[\"year\", \"month\", \"day\"])\n",
    "#news = news.set_index(\"date\")\n",
    "news.dropna()"
   ]
  },
  {
   "cell_type": "code",
   "execution_count": 79,
   "metadata": {},
   "outputs": [
    {
     "data": {
      "text/plain": [
       "39308"
      ]
     },
     "execution_count": 79,
     "metadata": {},
     "output_type": "execute_result"
    }
   ],
   "source": [
    "len(news)"
   ]
  },
  {
   "cell_type": "code",
   "execution_count": 80,
   "metadata": {},
   "outputs": [],
   "source": [
    "news=news[news['date'].isna()!=True]"
   ]
  },
  {
   "cell_type": "code",
   "execution_count": 81,
   "metadata": {},
   "outputs": [
    {
     "data": {
      "text/plain": [
       "15350"
      ]
     },
     "execution_count": 81,
     "metadata": {},
     "output_type": "execute_result"
    }
   ],
   "source": [
    "len(news)"
   ]
  },
  {
   "cell_type": "code",
   "execution_count": null,
   "metadata": {},
   "outputs": [],
   "source": [
    "news['date']"
   ]
  },
  {
   "cell_type": "code",
   "execution_count": 86,
   "metadata": {},
   "outputs": [],
   "source": [
    "#Remove Urls and HTML links\n",
    "def remove_urls(text):\n",
    "    url_remove = re.compile(r'https?://\\S+|www\\.\\S+')\n",
    "    return url_remove.sub(r'', text)\n",
    "news['title']=news['title'].apply(lambda x:remove_urls(x))\n",
    "\n",
    "def remove_html(text):\n",
    "    html=re.compile(r'<.*?>')\n",
    "    return html.sub(r'',text)\n",
    "news['title']=news['title'].apply(lambda x:remove_html(x))"
   ]
  },
  {
   "cell_type": "code",
   "execution_count": 85,
   "metadata": {},
   "outputs": [],
   "source": [
    "# Lower casing\n",
    "def lower(text):\n",
    "    low_text= text.lower()\n",
    "    return low_text\n",
    "news['title']=news['title'].apply(lambda x:lower(x))\n",
    "\n",
    "\n",
    "# Number removal\n",
    "def remove_num(text):\n",
    "    remove= re.sub(r'\\d+', '', text)\n",
    "    return remove\n",
    "news['title']=news['title'].apply(lambda x:remove_num(x))"
   ]
  },
  {
   "cell_type": "code",
   "execution_count": 84,
   "metadata": {},
   "outputs": [],
   "source": [
    "#Remove stopwords & Punctuations\n",
    "from nltk.corpus import stopwords\n",
    "\", \".join(stopwords.words('english'))\n",
    "STOPWORDS = set(stopwords.words('english'))\n",
    "\n",
    "def punct_remove(text):\n",
    "    punct = re.sub(r\"[^\\w\\s\\d]\",\"\", text)\n",
    "    return punct\n",
    "news['title']=news['title'].apply(lambda x:punct_remove(x))\n",
    "\n",
    "\n",
    "\n",
    "def remove_stopwords(text):\n",
    "    \"\"\"custom function to remove the stopwords\"\"\"\n",
    "    return \" \".join([word for word in str(text).split() if word not in STOPWORDS])\n",
    "news['title']=news['title'].apply(lambda x:remove_stopwords(x))"
   ]
  },
  {
   "cell_type": "code",
   "execution_count": 83,
   "metadata": {},
   "outputs": [],
   "source": [
    "#Remove mentions and hashtags\n",
    "def remove_mention(x):\n",
    "    text=re.sub(r'@\\w+','',x)\n",
    "    return text\n",
    "news['title']=news['title'].apply(lambda x:remove_mention(x))\n",
    "def remove_hash(x):\n",
    "    text=re.sub(r'#\\w+','',x)\n",
    "    return text\n",
    "news['title']=news['title'].apply(lambda x:remove_hash(x))"
   ]
  },
  {
   "cell_type": "code",
   "execution_count": 87,
   "metadata": {},
   "outputs": [],
   "source": [
    "#Remove extra white space left while removing stuff\n",
    "def remove_space(text):\n",
    "    space_remove = re.sub(r\"\\s+\",\" \",text).strip()\n",
    "    return space_remove\n",
    "def stemming(text):\n",
    "    ps = PorterStemmer()\n",
    "    \n",
    "    return\" \".join([ps.stem(word) for word in str(text).split()])\n",
    "    \n",
    "def lemmatizing(text):\n",
    "    wordnet_lemmatizer = WordNetLemmatizer()\n",
    "    \n",
    "    return\" \".join([wordnet_lemmatizer.lemmatize(word) for word in str(text).split()])\n",
    "news['title']=news['title'].apply(lambda x:remove_space(x))"
   ]
  },
  {
   "cell_type": "code",
   "execution_count": 88,
   "metadata": {},
   "outputs": [
    {
     "data": {
      "text/plain": [
       "[('bitcoin', 6994),\n",
       " ('price', 5112),\n",
       " ('analysis', 3513),\n",
       " ('technical', 1946),\n",
       " ('ethereum', 1446),\n",
       " ('watch', 1200),\n",
       " ('blockchain', 1169),\n",
       " ('crypto', 885),\n",
       " ('the', 847),\n",
       " ('cryptocurrency', 698),\n",
       " ('new', 595),\n",
       " ('btc', 563),\n",
       " ('ethusd', 537),\n",
       " ('trading', 498),\n",
       " ('exchange', 491),\n",
       " ('cash', 481),\n",
       " ('litecoin', 470),\n",
       " ('to', 455),\n",
       " ('ripple', 414),\n",
       " ('tech', 406)]"
      ]
     },
     "execution_count": 88,
     "metadata": {},
     "output_type": "execute_result"
    }
   ],
   "source": [
    "from collections import Counter\n",
    "comment_words = '' \n",
    "stopwords = set(STOPWORDS) \n",
    "\n",
    "for val in news.title: \n",
    "      \n",
    "    # typecaste each val to string \n",
    "    val = str(val) \n",
    "  \n",
    "    # split the value \n",
    "    tokens = val.split() \n",
    "      \n",
    "    # Converts each token into lowercase \n",
    "    for i in range(len(tokens)): \n",
    "        tokens[i] = tokens[i].lower() \n",
    "      \n",
    "    comment_words += \" \".join(tokens)+\" \"\n",
    "split_it = comment_words.split()\n",
    "Counter = Counter(split_it)\n",
    "number=20\n",
    "most_occur = Counter.most_common(number)\n",
    "most_occur"
   ]
  },
  {
   "cell_type": "code",
   "execution_count": 89,
   "metadata": {},
   "outputs": [
    {
     "data": {
      "text/plain": [
       "<Axes: xlabel='Word'>"
      ]
     },
     "execution_count": 89,
     "metadata": {},
     "output_type": "execute_result"
    },
    {
     "data": {
      "image/png": "[encoded data removed]",
      "text/plain": [
       "<Figure size 640x480 with 1 Axes>"
      ]
     },
     "metadata": {},
     "output_type": "display_data"
    }
   ],
   "source": [
    "dfm = pd.DataFrame(most_occur, columns = ['Word', 'Count'])\n",
    "dfm.plot.bar(x='Word',y='Count')"
   ]
  },
  {
   "cell_type": "code",
   "execution_count": 90,
   "metadata": {},
   "outputs": [],
   "source": [
    "news['title']=news['title'].apply(lambda x:stemming(x))"
   ]
  },
  {
   "attachments": {},
   "cell_type": "markdown",
   "metadata": {},
   "source": [
    "# Sentiment Analysis on news artciles"
   ]
  },
  {
   "cell_type": "code",
   "execution_count": null,
   "metadata": {},
   "outputs": [],
   "source": [
    "df=pd.read_csv('cryptonews.csv')\n",
    "df.head()"
   ]
  },
  {
   "cell_type": "code",
   "execution_count": 115,
   "metadata": {},
   "outputs": [
    {
     "data": {
      "text/html": [
       "<div>\n",
       "<style scoped>\n",
       "    .dataframe tbody tr th:only-of-type {\n",
       "        vertical-align: middle;\n",
       "    }\n",
       "\n",
       "    .dataframe tbody tr th {\n",
       "        vertical-align: top;\n",
       "    }\n",
       "\n",
       "    .dataframe thead th {\n",
       "        text-align: right;\n",
       "    }\n",
       "</style>\n",
       "<table border=\"1\" class=\"dataframe\">\n",
       "  <thead>\n",
       "    <tr style=\"text-align: right;\">\n",
       "      <th></th>\n",
       "      <th>headline</th>\n",
       "      <th>Label</th>\n",
       "    </tr>\n",
       "  </thead>\n",
       "  <tbody>\n",
       "    <tr>\n",
       "      <th>0</th>\n",
       "      <td>With a roster full of entertainment industry n...</td>\n",
       "      <td>positive</td>\n",
       "    </tr>\n",
       "    <tr>\n",
       "      <th>1</th>\n",
       "      <td>Blockchain analytics firm Nansen has released ...</td>\n",
       "      <td>negative</td>\n",
       "    </tr>\n",
       "    <tr>\n",
       "      <th>2</th>\n",
       "      <td>The hardware wallet firm is certain that the l...</td>\n",
       "      <td>positive</td>\n",
       "    </tr>\n",
       "    <tr>\n",
       "      <th>3</th>\n",
       "      <td>Kyle Davies, founder of the collapsed crypto f...</td>\n",
       "      <td>neutral</td>\n",
       "    </tr>\n",
       "    <tr>\n",
       "      <th>4</th>\n",
       "      <td>Despite the ongoing crypto market downturn whi...</td>\n",
       "      <td>positive</td>\n",
       "    </tr>\n",
       "  </tbody>\n",
       "</table>\n",
       "</div>"
      ],
      "text/plain": [
       "                                            headline     Label\n",
       "0  With a roster full of entertainment industry n...  positive\n",
       "1  Blockchain analytics firm Nansen has released ...  negative\n",
       "2  The hardware wallet firm is certain that the l...  positive\n",
       "3  Kyle Davies, founder of the collapsed crypto f...   neutral\n",
       "4  Despite the ongoing crypto market downturn whi...  positive"
      ]
     },
     "execution_count": 115,
     "metadata": {},
     "output_type": "execute_result"
    }
   ],
   "source": [
    "df=df[['text','sentiment']]\n",
    "df.loc[df['sentiment'].str.contains('positive'), 'sentiment'] = 'positive'\n",
    "df.loc[df['sentiment'].str.contains('negative'), 'sentiment'] = 'negative'\n",
    "df.loc[df['sentiment'].str.contains('neutral'), 'sentiment'] = 'neutral'\n",
    "df.rename(columns = {'text':'headline',\"sentiment\":\"Label\"}, inplace = True)\n",
    "df.head()"
   ]
  },
  {
   "cell_type": "code",
   "execution_count": 117,
   "metadata": {},
   "outputs": [],
   "source": [
    "train =  df.iloc[:10000,:]\n",
    "test =  df.iloc[:10000,:]"
   ]
  },
  {
   "cell_type": "code",
   "execution_count": 118,
   "metadata": {},
   "outputs": [
    {
     "name": "stdout",
     "output_type": "stream",
     "text": [
      " Shape of dataframe after dropping duplicates:  (12750, 2)\n"
     ]
    }
   ],
   "source": [
    "# Drop duplicates\n",
    "df.drop_duplicates()\n",
    "print(\" Shape of dataframe after dropping duplicates: \", df.shape)"
   ]
  },
  {
   "cell_type": "code",
   "execution_count": 119,
   "metadata": {},
   "outputs": [
    {
     "name": "stdout",
     "output_type": "stream",
     "text": [
      "Null Values in each column:\n",
      "    column name  Total missing  Percent missing\n",
      "0     headline              0              0.0\n",
      "1        Label              0              0.0\n"
     ]
    }
   ],
   "source": [
    "#Null values\n",
    "\n",
    "null= df.isnull().sum().sort_values(ascending=False)\n",
    "total =df.shape[0]\n",
    "percent_missing= (df.isnull().sum()/total).sort_values(ascending=False)\n",
    "\n",
    "missing_data= pd.concat([null, percent_missing], axis=1, keys=['Total missing', 'Percent missing'])\n",
    "\n",
    "missing_data.reset_index(inplace=True)\n",
    "missing_data= missing_data.rename(columns= { \"index\": \" column name\"})\n",
    " \n",
    "print (\"Null Values in each column:\\n\", missing_data)\n"
   ]
  },
  {
   "cell_type": "code",
   "execution_count": 120,
   "metadata": {},
   "outputs": [],
   "source": [
    "def create_corpus(target):\n",
    "    corpus=[]\n",
    "    \n",
    "    for x in train[train['Label']==target ]['headline'].str.split():\n",
    "        for i in x:\n",
    "            corpus.append(i)\n",
    "    return corpus"
   ]
  },
  {
   "cell_type": "code",
   "execution_count": null,
   "metadata": {},
   "outputs": [],
   "source": [
    "np.array(stop)"
   ]
  },
  {
   "cell_type": "code",
   "execution_count": 122,
   "metadata": {},
   "outputs": [],
   "source": [
    "#Remove Urls and HTML links\n",
    "def remove_urls(text):\n",
    "    url_remove = re.compile(r'https?://\\S+|www\\.\\S+')\n",
    "    return url_remove.sub(r'', text)\n",
    "df['headline']=df['headline'].apply(lambda x:remove_urls(x))\n",
    "\n",
    "def remove_html(text):\n",
    "    html=re.compile(r'<.*?>')\n",
    "    return html.sub(r'',text)\n",
    "df['headline']=df['headline'].apply(lambda x:remove_html(x))\n",
    "\n"
   ]
  },
  {
   "cell_type": "code",
   "execution_count": 123,
   "metadata": {},
   "outputs": [],
   "source": [
    "\n",
    "# Lower casing\n",
    "def lower(text):\n",
    "    low_text= text.lower()\n",
    "    return low_text\n",
    "df['headline']=df['headline'].apply(lambda x:lower(x))\n",
    "\n",
    "\n",
    "# Number removal\n",
    "def remove_num(text):\n",
    "    remove= re.sub(r'\\d+', '', text)\n",
    "    return remove\n",
    "df['headline']=df['headline'].apply(lambda x:remove_num(x))\n",
    "\n"
   ]
  },
  {
   "cell_type": "code",
   "execution_count": 124,
   "metadata": {},
   "outputs": [],
   "source": [
    "\n",
    "#Remove stopwords & Punctuations\n",
    "from nltk.corpus import stopwords\n",
    "\", \".join(stopwords.words('english'))\n",
    "STOPWORDS = set(stopwords.words('english'))\n",
    "\n",
    "def punct_remove(text):\n",
    "    punct = re.sub(r\"[^\\w\\s\\d]\",\"\", text)\n",
    "    return punct\n",
    "df['headline']=df['headline'].apply(lambda x:punct_remove(x))\n",
    "\n",
    "\n",
    "\n",
    "def remove_stopwords(text):\n",
    "    \"\"\"custom function to remove the stopwords\"\"\"\n",
    "    return \" \".join([word for word in str(text).split() if word not in STOPWORDS])\n",
    "df['headline']=df['headline'].apply(lambda x:remove_stopwords(x))\n",
    "\n"
   ]
  },
  {
   "cell_type": "code",
   "execution_count": 125,
   "metadata": {},
   "outputs": [],
   "source": [
    "#Remove mentions and hashtags\n",
    "def remove_mention(x):\n",
    "    text=re.sub(r'@\\w+','',x)\n",
    "    return text\n",
    "df['headline']=df['headline'].apply(lambda x:remove_mention(x))\n",
    "def remove_hash(x):\n",
    "    text=re.sub(r'#\\w+','',x)\n",
    "    return text\n",
    "df['headline']=df['headline'].apply(lambda x:remove_hash(x))\n"
   ]
  },
  {
   "cell_type": "code",
   "execution_count": 126,
   "metadata": {},
   "outputs": [],
   "source": [
    "\n",
    "#Remove extra white space left while removing stuff\n",
    "def remove_space(text):\n",
    "    space_remove = re.sub(r\"\\s+\",\" \",text).strip()\n",
    "    return space_remove\n",
    "def stemming(text):\n",
    "    ps = PorterStemmer()\n",
    "    \n",
    "    return\" \".join([ps.stem(word) for word in str(text).split()])\n",
    "    \n",
    "def lemmatizing(text):\n",
    "    wordnet_lemmatizer = WordNetLemmatizer()\n",
    "    \n",
    "    return\" \".join([wordnet_lemmatizer.lemmatize(word) for word in str(text).split()])\n",
    "df['headline']=df['headline'].apply(lambda x:remove_space(x))\n",
    "\n",
    "\n",
    "\n"
   ]
  },
  {
   "cell_type": "code",
   "execution_count": 128,
   "metadata": {},
   "outputs": [
    {
     "data": {
      "text/html": [
       "<div>\n",
       "<style scoped>\n",
       "    .dataframe tbody tr th:only-of-type {\n",
       "        vertical-align: middle;\n",
       "    }\n",
       "\n",
       "    .dataframe tbody tr th {\n",
       "        vertical-align: top;\n",
       "    }\n",
       "\n",
       "    .dataframe thead th {\n",
       "        text-align: right;\n",
       "    }\n",
       "</style>\n",
       "<table border=\"1\" class=\"dataframe\">\n",
       "  <thead>\n",
       "    <tr style=\"text-align: right;\">\n",
       "      <th></th>\n",
       "      <th>headline</th>\n",
       "      <th>Label</th>\n",
       "    </tr>\n",
       "  </thead>\n",
       "  <tbody>\n",
       "    <tr>\n",
       "      <th>0</th>\n",
       "      <td>roster full entertainment industry notables ae...</td>\n",
       "      <td>positive</td>\n",
       "    </tr>\n",
       "    <tr>\n",
       "      <th>1</th>\n",
       "      <td>blockchain analytics firm nansen released over...</td>\n",
       "      <td>negative</td>\n",
       "    </tr>\n",
       "    <tr>\n",
       "      <th>2</th>\n",
       "      <td>hardware wallet firm certain latest uptick dem...</td>\n",
       "      <td>positive</td>\n",
       "    </tr>\n",
       "    <tr>\n",
       "      <th>3</th>\n",
       "      <td>kyle davies founder collapsed crypto fund thre...</td>\n",
       "      <td>neutral</td>\n",
       "    </tr>\n",
       "    <tr>\n",
       "      <th>4</th>\n",
       "      <td>despite ongoing crypto market downturn intensi...</td>\n",
       "      <td>positive</td>\n",
       "    </tr>\n",
       "    <tr>\n",
       "      <th>...</th>\n",
       "      <td>...</td>\n",
       "      <td>...</td>\n",
       "    </tr>\n",
       "    <tr>\n",
       "      <th>12745</th>\n",
       "      <td>cream finance cream suffered another flash loa...</td>\n",
       "      <td>neutral</td>\n",
       "    </tr>\n",
       "    <tr>\n",
       "      <th>12746</th>\n",
       "      <td>banque de france disclosed results experimenta...</td>\n",
       "      <td>positive</td>\n",
       "    </tr>\n",
       "    <tr>\n",
       "      <th>12747</th>\n",
       "      <td>advancing project become xcaâxametaverseâxacom...</td>\n",
       "      <td>positive</td>\n",
       "    </tr>\n",
       "    <tr>\n",
       "      <th>12748</th>\n",
       "      <td>chinese companies still topping blockchain pat...</td>\n",
       "      <td>neutral</td>\n",
       "    </tr>\n",
       "    <tr>\n",
       "      <th>12749</th>\n",
       "      <td>within little year celo aims become fastest am...</td>\n",
       "      <td>positive</td>\n",
       "    </tr>\n",
       "  </tbody>\n",
       "</table>\n",
       "<p>12750 rows × 2 columns</p>\n",
       "</div>"
      ],
      "text/plain": [
       "                                                headline     Label\n",
       "0      roster full entertainment industry notables ae...  positive\n",
       "1      blockchain analytics firm nansen released over...  negative\n",
       "2      hardware wallet firm certain latest uptick dem...  positive\n",
       "3      kyle davies founder collapsed crypto fund thre...   neutral\n",
       "4      despite ongoing crypto market downturn intensi...  positive\n",
       "...                                                  ...       ...\n",
       "12745  cream finance cream suffered another flash loa...   neutral\n",
       "12746  banque de france disclosed results experimenta...  positive\n",
       "12747  advancing project become xcaâxametaverseâxacom...  positive\n",
       "12748  chinese companies still topping blockchain pat...   neutral\n",
       "12749  within little year celo aims become fastest am...  positive\n",
       "\n",
       "[12750 rows x 2 columns]"
      ]
     },
     "execution_count": 128,
     "metadata": {},
     "output_type": "execute_result"
    }
   ],
   "source": [
    "df"
   ]
  },
  {
   "cell_type": "code",
   "execution_count": 129,
   "metadata": {},
   "outputs": [],
   "source": [
    "countvector=CountVectorizer(ngram_range=(2,2))\n",
    "traindataset=countvector.fit_transform(train['headline'].tolist())"
   ]
  },
  {
   "cell_type": "code",
   "execution_count": 132,
   "metadata": {},
   "outputs": [
    {
     "data": {
      "text/html": [
       "<style>#sk-container-id-5 {color: black;}#sk-container-id-5 pre{padding: 0;}#sk-container-id-5 div.sk-toggleable {background-color: white;}#sk-container-id-5 label.sk-toggleable__label {cursor: pointer;display: block;width: 100%;margin-bottom: 0;padding: 0.3em;box-sizing: border-box;text-align: center;}#sk-container-id-5 label.sk-toggleable__label-arrow:before {content: \"▸\";float: left;margin-right: 0.25em;color: #696969;}#sk-container-id-5 label.sk-toggleable__label-arrow:hover:before {color: black;}#sk-container-id-5 div.sk-estimator:hover label.sk-toggleable__label-arrow:before {color: black;}#sk-container-id-5 div.sk-toggleable__content {max-height: 0;max-width: 0;overflow: hidden;text-align: left;background-color: #f0f8ff;}#sk-container-id-5 div.sk-toggleable__content pre {margin: 0.2em;color: black;border-radius: 0.25em;background-color: #f0f8ff;}#sk-container-id-5 input.sk-toggleable__control:checked~div.sk-toggleable__content {max-height: 200px;max-width: 100%;overflow: auto;}#sk-container-id-5 input.sk-toggleable__control:checked~label.sk-toggleable__label-arrow:before {content: \"▾\";}#sk-container-id-5 div.sk-estimator input.sk-toggleable__control:checked~label.sk-toggleable__label {background-color: #d4ebff;}#sk-container-id-5 div.sk-label input.sk-toggleable__control:checked~label.sk-toggleable__label {background-color: #d4ebff;}#sk-container-id-5 input.sk-hidden--visually {border: 0;clip: rect(1px 1px 1px 1px);clip: rect(1px, 1px, 1px, 1px);height: 1px;margin: -1px;overflow: hidden;padding: 0;position: absolute;width: 1px;}#sk-container-id-5 div.sk-estimator {font-family: monospace;background-color: #f0f8ff;border: 1px dotted black;border-radius: 0.25em;box-sizing: border-box;margin-bottom: 0.5em;}#sk-container-id-5 div.sk-estimator:hover {background-color: #d4ebff;}#sk-container-id-5 div.sk-parallel-item::after {content: \"\";width: 100%;border-bottom: 1px solid gray;flex-grow: 1;}#sk-container-id-5 div.sk-label:hover label.sk-toggleable__label {background-color: #d4ebff;}#sk-container-id-5 div.sk-serial::before {content: \"\";position: absolute;border-left: 1px solid gray;box-sizing: border-box;top: 0;bottom: 0;left: 50%;z-index: 0;}#sk-container-id-5 div.sk-serial {display: flex;flex-direction: column;align-items: center;background-color: white;padding-right: 0.2em;padding-left: 0.2em;position: relative;}#sk-container-id-5 div.sk-item {position: relative;z-index: 1;}#sk-container-id-5 div.sk-parallel {display: flex;align-items: stretch;justify-content: center;background-color: white;position: relative;}#sk-container-id-5 div.sk-item::before, #sk-container-id-5 div.sk-parallel-item::before {content: \"\";position: absolute;border-left: 1px solid gray;box-sizing: border-box;top: 0;bottom: 0;left: 50%;z-index: -1;}#sk-container-id-5 div.sk-parallel-item {display: flex;flex-direction: column;z-index: 1;position: relative;background-color: white;}#sk-container-id-5 div.sk-parallel-item:first-child::after {align-self: flex-end;width: 50%;}#sk-container-id-5 div.sk-parallel-item:last-child::after {align-self: flex-start;width: 50%;}#sk-container-id-5 div.sk-parallel-item:only-child::after {width: 0;}#sk-container-id-5 div.sk-dashed-wrapped {border: 1px dashed gray;margin: 0 0.4em 0.5em 0.4em;box-sizing: border-box;padding-bottom: 0.4em;background-color: white;}#sk-container-id-5 div.sk-label label {font-family: monospace;font-weight: bold;display: inline-block;line-height: 1.2em;}#sk-container-id-5 div.sk-label-container {text-align: center;}#sk-container-id-5 div.sk-container {/* jupyter's `normalize.less` sets `[hidden] { display: none; }` but bootstrap.min.css set `[hidden] { display: none !important; }` so we also need the `!important` here to be able to override the default hidden behavior on the sphinx rendered scikit-learn.org. See: https://github.com/scikit-learn/scikit-learn/issues/21755 */display: inline-block !important;position: relative;}#sk-container-id-5 div.sk-text-repr-fallback {display: none;}</style><div id=\"sk-container-id-5\" class=\"sk-top-container\"><div class=\"sk-text-repr-fallback\"><pre>RandomForestClassifier(criterion=&#x27;entropy&#x27;, n_estimators=200)</pre><b>In a Jupyter environment, please rerun this cell to show the HTML representation or trust the notebook. <br />On GitHub, the HTML representation is unable to render, please try loading this page with nbviewer.org.</b></div><div class=\"sk-container\" hidden><div class=\"sk-item\"><div class=\"sk-estimator sk-toggleable\"><input class=\"sk-toggleable__control sk-hidden--visually\" id=\"sk-estimator-id-5\" type=\"checkbox\" checked><label for=\"sk-estimator-id-5\" class=\"sk-toggleable__label sk-toggleable__label-arrow\">RandomForestClassifier</label><div class=\"sk-toggleable__content\"><pre>RandomForestClassifier(criterion=&#x27;entropy&#x27;, n_estimators=200)</pre></div></div></div></div></div>"
      ],
      "text/plain": [
       "RandomForestClassifier(criterion='entropy', n_estimators=200)"
      ]
     },
     "execution_count": 132,
     "metadata": {},
     "output_type": "execute_result"
    }
   ],
   "source": [
    "randomclassifier=RandomForestClassifier(n_estimators=200,criterion='entropy')\n",
    "randomclassifier.fit(traindataset,train['Label'])"
   ]
  },
  {
   "cell_type": "code",
   "execution_count": 134,
   "metadata": {},
   "outputs": [],
   "source": [
    "## Predict for the Test Dataset\n",
    "test_dataset = countvector.transform(test['headline'].tolist())\n",
    "predictions = randomclassifier.predict(test_dataset)"
   ]
  },
  {
   "cell_type": "code",
   "execution_count": 137,
   "metadata": {},
   "outputs": [],
   "source": [
    "new_dataset = countvector.transform(news['title'].tolist())"
   ]
  },
  {
   "cell_type": "code",
   "execution_count": 138,
   "metadata": {},
   "outputs": [],
   "source": [
    "predictions = randomclassifier.predict(new_dataset)"
   ]
  },
  {
   "cell_type": "code",
   "execution_count": 151,
   "metadata": {},
   "outputs": [
    {
     "data": {
      "text/plain": [
       "'key bitcoin price level week dec my trade plan'"
      ]
     },
     "execution_count": 151,
     "metadata": {},
     "output_type": "execute_result"
    }
   ],
   "source": [
    "news['title'][5]"
   ]
  },
  {
   "cell_type": "code",
   "execution_count": 145,
   "metadata": {},
   "outputs": [],
   "source": [
    "# Load the model from the file\n",
    "sentiment_model = joblib.load('sentiment_model.pkl')\n",
    "  "
   ]
  },
  {
   "cell_type": "code",
   "execution_count": 146,
   "metadata": {},
   "outputs": [],
   "source": [
    "k = sentiment_model.predict(new_dataset)"
   ]
  },
  {
   "cell_type": "code",
   "execution_count": 152,
   "metadata": {},
   "outputs": [
    {
     "data": {
      "text/plain": [
       "'neutral'"
      ]
     },
     "execution_count": 152,
     "metadata": {},
     "output_type": "execute_result"
    }
   ],
   "source": [
    "k[5]"
   ]
  },
  {
   "cell_type": "code",
   "execution_count": 112,
   "metadata": {},
   "outputs": [
    {
     "data": {
      "text/html": [
       "<style>#sk-container-id-4 {color: black;}#sk-container-id-4 pre{padding: 0;}#sk-container-id-4 div.sk-toggleable {background-color: white;}#sk-container-id-4 label.sk-toggleable__label {cursor: pointer;display: block;width: 100%;margin-bottom: 0;padding: 0.3em;box-sizing: border-box;text-align: center;}#sk-container-id-4 label.sk-toggleable__label-arrow:before {content: \"▸\";float: left;margin-right: 0.25em;color: #696969;}#sk-container-id-4 label.sk-toggleable__label-arrow:hover:before {color: black;}#sk-container-id-4 div.sk-estimator:hover label.sk-toggleable__label-arrow:before {color: black;}#sk-container-id-4 div.sk-toggleable__content {max-height: 0;max-width: 0;overflow: hidden;text-align: left;background-color: #f0f8ff;}#sk-container-id-4 div.sk-toggleable__content pre {margin: 0.2em;color: black;border-radius: 0.25em;background-color: #f0f8ff;}#sk-container-id-4 input.sk-toggleable__control:checked~div.sk-toggleable__content {max-height: 200px;max-width: 100%;overflow: auto;}#sk-container-id-4 input.sk-toggleable__control:checked~label.sk-toggleable__label-arrow:before {content: \"▾\";}#sk-container-id-4 div.sk-estimator input.sk-toggleable__control:checked~label.sk-toggleable__label {background-color: #d4ebff;}#sk-container-id-4 div.sk-label input.sk-toggleable__control:checked~label.sk-toggleable__label {background-color: #d4ebff;}#sk-container-id-4 input.sk-hidden--visually {border: 0;clip: rect(1px 1px 1px 1px);clip: rect(1px, 1px, 1px, 1px);height: 1px;margin: -1px;overflow: hidden;padding: 0;position: absolute;width: 1px;}#sk-container-id-4 div.sk-estimator {font-family: monospace;background-color: #f0f8ff;border: 1px dotted black;border-radius: 0.25em;box-sizing: border-box;margin-bottom: 0.5em;}#sk-container-id-4 div.sk-estimator:hover {background-color: #d4ebff;}#sk-container-id-4 div.sk-parallel-item::after {content: \"\";width: 100%;border-bottom: 1px solid gray;flex-grow: 1;}#sk-container-id-4 div.sk-label:hover label.sk-toggleable__label {background-color: #d4ebff;}#sk-container-id-4 div.sk-serial::before {content: \"\";position: absolute;border-left: 1px solid gray;box-sizing: border-box;top: 0;bottom: 0;left: 50%;z-index: 0;}#sk-container-id-4 div.sk-serial {display: flex;flex-direction: column;align-items: center;background-color: white;padding-right: 0.2em;padding-left: 0.2em;position: relative;}#sk-container-id-4 div.sk-item {position: relative;z-index: 1;}#sk-container-id-4 div.sk-parallel {display: flex;align-items: stretch;justify-content: center;background-color: white;position: relative;}#sk-container-id-4 div.sk-item::before, #sk-container-id-4 div.sk-parallel-item::before {content: \"\";position: absolute;border-left: 1px solid gray;box-sizing: border-box;top: 0;bottom: 0;left: 50%;z-index: -1;}#sk-container-id-4 div.sk-parallel-item {display: flex;flex-direction: column;z-index: 1;position: relative;background-color: white;}#sk-container-id-4 div.sk-parallel-item:first-child::after {align-self: flex-end;width: 50%;}#sk-container-id-4 div.sk-parallel-item:last-child::after {align-self: flex-start;width: 50%;}#sk-container-id-4 div.sk-parallel-item:only-child::after {width: 0;}#sk-container-id-4 div.sk-dashed-wrapped {border: 1px dashed gray;margin: 0 0.4em 0.5em 0.4em;box-sizing: border-box;padding-bottom: 0.4em;background-color: white;}#sk-container-id-4 div.sk-label label {font-family: monospace;font-weight: bold;display: inline-block;line-height: 1.2em;}#sk-container-id-4 div.sk-label-container {text-align: center;}#sk-container-id-4 div.sk-container {/* jupyter's `normalize.less` sets `[hidden] { display: none; }` but bootstrap.min.css set `[hidden] { display: none !important; }` so we also need the `!important` here to be able to override the default hidden behavior on the sphinx rendered scikit-learn.org. See: https://github.com/scikit-learn/scikit-learn/issues/21755 */display: inline-block !important;position: relative;}#sk-container-id-4 div.sk-text-repr-fallback {display: none;}</style><div id=\"sk-container-id-4\" class=\"sk-top-container\"><div class=\"sk-text-repr-fallback\"><pre>MultinomialNB()</pre><b>In a Jupyter environment, please rerun this cell to show the HTML representation or trust the notebook. <br />On GitHub, the HTML representation is unable to render, please try loading this page with nbviewer.org.</b></div><div class=\"sk-container\" hidden><div class=\"sk-item\"><div class=\"sk-estimator sk-toggleable\"><input class=\"sk-toggleable__control sk-hidden--visually\" id=\"sk-estimator-id-4\" type=\"checkbox\" checked><label for=\"sk-estimator-id-4\" class=\"sk-toggleable__label sk-toggleable__label-arrow\">MultinomialNB</label><div class=\"sk-toggleable__content\"><pre>MultinomialNB()</pre></div></div></div></div></div>"
      ],
      "text/plain": [
       "MultinomialNB()"
      ]
     },
     "execution_count": 112,
     "metadata": {},
     "output_type": "execute_result"
    }
   ],
   "source": [
    "sentiment_model.fit()"
   ]
  },
  {
   "cell_type": "code",
   "execution_count": null,
   "metadata": {},
   "outputs": [],
   "source": [
    "\n",
    "# Use the loaded model to make predictions\n",
    "news['sentiment'] = sentiment_model.predict(new_dataset)"
   ]
  },
  {
   "cell_type": "markdown",
   "metadata": {},
   "source": [
    "# Process tweets"
   ]
  },
  {
   "cell_type": "code",
   "execution_count": 86,
   "metadata": {},
   "outputs": [],
   "source": [
    "tweets_2015 = pd.read_csv('../msc/archive/data/tweets/combined_tweets_2015_labeled.csv')\n",
    "tweets_2016 = pd.read_csv('../msc/archive/data/tweets/combined_tweets_2016_labeled.csv')\n",
    "tweets_2017 = pd.read_csv('../msc/archive/data/tweets/combined_tweets_2017_labeled.csv')\n",
    "tweets_2018 = pd.read_csv('../msc/archive/data/tweets/combined_tweets_2018_labeled.csv')\n",
    "tweets_2019 = pd.read_csv('../msc/archive/data/tweets/combined_tweets_2019_apr_dec_labeled.csv')\n",
    "tweets_2020 = pd.read_csv('../msc/archive/data/tweets/combined_tweets_2020_labeled.csv')\n",
    "tweets_2021 = pd.read_csv('../msc/archive/data/tweets/combined_tweets_2021_jan_may_labeled.csv')\n"
   ]
  },
  {
   "cell_type": "code",
   "execution_count": 87,
   "metadata": {},
   "outputs": [],
   "source": [
    "frames = [tweets_2015,tweets_2016,tweets_2017,tweets_2018,tweets_2019,tweets_2020,tweets_2021]\n",
    "tweets = pd.concat(frames,ignore_index=True)"
   ]
  },
  {
   "cell_type": "code",
   "execution_count": 151,
   "metadata": {},
   "outputs": [],
   "source": [
    "tweets['Date'] = tweets['date']"
   ]
  },
  {
   "cell_type": "code",
   "execution_count": 155,
   "metadata": {},
   "outputs": [],
   "source": [
    "tweets = tweets.drop(columns=['date', 'label_up5','label_up2','label_down5','label_down2'])"
   ]
  },
  {
   "cell_type": "code",
   "execution_count": 156,
   "metadata": {},
   "outputs": [
    {
     "data": {
      "text/plain": [
       "(342062, 3)"
      ]
     },
     "execution_count": 156,
     "metadata": {},
     "output_type": "execute_result"
    }
   ],
   "source": [
    "tweets.shape"
   ]
  },
  {
   "cell_type": "code",
   "execution_count": 157,
   "metadata": {},
   "outputs": [
    {
     "data": {
      "text/html": [
       "<div>\n",
       "<style scoped>\n",
       "    .dataframe tbody tr th:only-of-type {\n",
       "        vertical-align: middle;\n",
       "    }\n",
       "\n",
       "    .dataframe tbody tr th {\n",
       "        vertical-align: top;\n",
       "    }\n",
       "\n",
       "    .dataframe thead th {\n",
       "        text-align: right;\n",
       "    }\n",
       "</style>\n",
       "<table border=\"1\" class=\"dataframe\">\n",
       "  <thead>\n",
       "    <tr style=\"text-align: right;\">\n",
       "      <th></th>\n",
       "      <th>Unnamed: 0</th>\n",
       "      <th>text_split</th>\n",
       "      <th>Date</th>\n",
       "    </tr>\n",
       "  </thead>\n",
       "  <tbody>\n",
       "    <tr>\n",
       "      <th>342057</th>\n",
       "      <td>31805</td>\n",
       "      <td>bitcoin claim free bitcoin bitcoin price sugge...</td>\n",
       "      <td>2021-05-31</td>\n",
       "    </tr>\n",
       "    <tr>\n",
       "      <th>342058</th>\n",
       "      <td>31806</td>\n",
       "      <td>het roulette het is wat of twitter deal gift s...</td>\n",
       "      <td>2021-05-31</td>\n",
       "    </tr>\n",
       "    <tr>\n",
       "      <th>342059</th>\n",
       "      <td>31807</td>\n",
       "      <td>longer it stays in this range it will be it go...</td>\n",
       "      <td>2021-05-31</td>\n",
       "    </tr>\n",
       "    <tr>\n",
       "      <th>342060</th>\n",
       "      <td>31808</td>\n",
       "      <td>en el video para el de media el de en ya para ...</td>\n",
       "      <td>2021-05-31</td>\n",
       "    </tr>\n",
       "    <tr>\n",
       "      <th>342061</th>\n",
       "      <td>31809</td>\n",
       "      <td>you are pleb and bitcoin don have boss mi btc ...</td>\n",
       "      <td>2021-05-31</td>\n",
       "    </tr>\n",
       "  </tbody>\n",
       "</table>\n",
       "</div>"
      ],
      "text/plain": [
       "        Unnamed: 0                                         text_split  \\\n",
       "342057       31805  bitcoin claim free bitcoin bitcoin price sugge...   \n",
       "342058       31806  het roulette het is wat of twitter deal gift s...   \n",
       "342059       31807  longer it stays in this range it will be it go...   \n",
       "342060       31808  en el video para el de media el de en ya para ...   \n",
       "342061       31809  you are pleb and bitcoin don have boss mi btc ...   \n",
       "\n",
       "              Date  \n",
       "342057  2021-05-31  \n",
       "342058  2021-05-31  \n",
       "342059  2021-05-31  \n",
       "342060  2021-05-31  \n",
       "342061  2021-05-31  "
      ]
     },
     "execution_count": 157,
     "metadata": {},
     "output_type": "execute_result"
    }
   ],
   "source": [
    "tweets.tail()"
   ]
  },
  {
   "cell_type": "code",
   "execution_count": 158,
   "metadata": {},
   "outputs": [
    {
     "data": {
      "text/html": [
       "<div>\n",
       "<style scoped>\n",
       "    .dataframe tbody tr th:only-of-type {\n",
       "        vertical-align: middle;\n",
       "    }\n",
       "\n",
       "    .dataframe tbody tr th {\n",
       "        vertical-align: top;\n",
       "    }\n",
       "\n",
       "    .dataframe thead th {\n",
       "        text-align: right;\n",
       "    }\n",
       "</style>\n",
       "<table border=\"1\" class=\"dataframe\">\n",
       "  <thead>\n",
       "    <tr style=\"text-align: right;\">\n",
       "      <th></th>\n",
       "      <th>Date</th>\n",
       "      <th>Open</th>\n",
       "      <th>High</th>\n",
       "      <th>Low</th>\n",
       "      <th>Close</th>\n",
       "      <th>Adj Close</th>\n",
       "      <th>Volume</th>\n",
       "      <th>Close Lagged Price</th>\n",
       "      <th>sma7</th>\n",
       "      <th>sma14</th>\n",
       "      <th>sma21</th>\n",
       "      <th>ema12</th>\n",
       "      <th>ema26</th>\n",
       "      <th>MACD line</th>\n",
       "      <th>Signal line</th>\n",
       "      <th>MACD histogram</th>\n",
       "      <th>rsi</th>\n",
       "    </tr>\n",
       "  </thead>\n",
       "  <tbody>\n",
       "    <tr>\n",
       "      <th>0</th>\n",
       "      <td>2015-01-01</td>\n",
       "      <td>320.434998</td>\n",
       "      <td>320.434998</td>\n",
       "      <td>314.002991</td>\n",
       "      <td>314.248993</td>\n",
       "      <td>314.248993</td>\n",
       "      <td>8036550</td>\n",
       "      <td>NaN</td>\n",
       "      <td>NaN</td>\n",
       "      <td>NaN</td>\n",
       "      <td>NaN</td>\n",
       "      <td>314.248993</td>\n",
       "      <td>314.248993</td>\n",
       "      <td>0.000000</td>\n",
       "      <td>0.000000</td>\n",
       "      <td>0.000000</td>\n",
       "      <td>NaN</td>\n",
       "    </tr>\n",
       "    <tr>\n",
       "      <th>1</th>\n",
       "      <td>2015-01-02</td>\n",
       "      <td>314.079010</td>\n",
       "      <td>315.838989</td>\n",
       "      <td>313.565002</td>\n",
       "      <td>315.032013</td>\n",
       "      <td>315.032013</td>\n",
       "      <td>7860650</td>\n",
       "      <td>314.248993</td>\n",
       "      <td>NaN</td>\n",
       "      <td>NaN</td>\n",
       "      <td>NaN</td>\n",
       "      <td>314.369458</td>\n",
       "      <td>314.306994</td>\n",
       "      <td>0.062463</td>\n",
       "      <td>0.012493</td>\n",
       "      <td>0.049971</td>\n",
       "      <td>NaN</td>\n",
       "    </tr>\n",
       "    <tr>\n",
       "      <th>2</th>\n",
       "      <td>2015-01-03</td>\n",
       "      <td>314.846008</td>\n",
       "      <td>315.149994</td>\n",
       "      <td>281.082001</td>\n",
       "      <td>281.082001</td>\n",
       "      <td>281.082001</td>\n",
       "      <td>33054400</td>\n",
       "      <td>315.032013</td>\n",
       "      <td>NaN</td>\n",
       "      <td>NaN</td>\n",
       "      <td>NaN</td>\n",
       "      <td>309.248310</td>\n",
       "      <td>311.845884</td>\n",
       "      <td>-2.597573</td>\n",
       "      <td>-0.509521</td>\n",
       "      <td>-2.088053</td>\n",
       "      <td>NaN</td>\n",
       "    </tr>\n",
       "    <tr>\n",
       "      <th>3</th>\n",
       "      <td>2015-01-04</td>\n",
       "      <td>281.145996</td>\n",
       "      <td>287.230011</td>\n",
       "      <td>257.612000</td>\n",
       "      <td>264.195007</td>\n",
       "      <td>264.195007</td>\n",
       "      <td>55629100</td>\n",
       "      <td>281.082001</td>\n",
       "      <td>NaN</td>\n",
       "      <td>NaN</td>\n",
       "      <td>NaN</td>\n",
       "      <td>302.317033</td>\n",
       "      <td>308.316189</td>\n",
       "      <td>-5.999156</td>\n",
       "      <td>-1.607448</td>\n",
       "      <td>-4.391709</td>\n",
       "      <td>NaN</td>\n",
       "    </tr>\n",
       "    <tr>\n",
       "      <th>4</th>\n",
       "      <td>2015-01-05</td>\n",
       "      <td>265.084015</td>\n",
       "      <td>278.341003</td>\n",
       "      <td>265.084015</td>\n",
       "      <td>274.473999</td>\n",
       "      <td>274.473999</td>\n",
       "      <td>43962800</td>\n",
       "      <td>264.195007</td>\n",
       "      <td>NaN</td>\n",
       "      <td>NaN</td>\n",
       "      <td>NaN</td>\n",
       "      <td>298.033489</td>\n",
       "      <td>305.809360</td>\n",
       "      <td>-7.775871</td>\n",
       "      <td>-2.841132</td>\n",
       "      <td>-4.934739</td>\n",
       "      <td>NaN</td>\n",
       "    </tr>\n",
       "  </tbody>\n",
       "</table>\n",
       "</div>"
      ],
      "text/plain": [
       "         Date        Open        High         Low       Close   Adj Close  \\\n",
       "0  2015-01-01  320.434998  320.434998  314.002991  314.248993  314.248993   \n",
       "1  2015-01-02  314.079010  315.838989  313.565002  315.032013  315.032013   \n",
       "2  2015-01-03  314.846008  315.149994  281.082001  281.082001  281.082001   \n",
       "3  2015-01-04  281.145996  287.230011  257.612000  264.195007  264.195007   \n",
       "4  2015-01-05  265.084015  278.341003  265.084015  274.473999  274.473999   \n",
       "\n",
       "     Volume  Close Lagged Price  sma7  sma14  sma21       ema12       ema26  \\\n",
       "0   8036550                 NaN   NaN    NaN    NaN  314.248993  314.248993   \n",
       "1   7860650          314.248993   NaN    NaN    NaN  314.369458  314.306994   \n",
       "2  33054400          315.032013   NaN    NaN    NaN  309.248310  311.845884   \n",
       "3  55629100          281.082001   NaN    NaN    NaN  302.317033  308.316189   \n",
       "4  43962800          264.195007   NaN    NaN    NaN  298.033489  305.809360   \n",
       "\n",
       "   MACD line  Signal line  MACD histogram  rsi  \n",
       "0   0.000000     0.000000        0.000000  NaN  \n",
       "1   0.062463     0.012493        0.049971  NaN  \n",
       "2  -2.597573    -0.509521       -2.088053  NaN  \n",
       "3  -5.999156    -1.607448       -4.391709  NaN  \n",
       "4  -7.775871    -2.841132       -4.934739  NaN  "
      ]
     },
     "execution_count": 158,
     "metadata": {},
     "output_type": "execute_result"
    }
   ],
   "source": [
    "price.head()"
   ]
  },
  {
   "cell_type": "code",
   "execution_count": 159,
   "metadata": {},
   "outputs": [],
   "source": [
    "price=price.reset_index()\n",
    "price['Date']=price.Date.apply (lambda x : str(x)[:10])"
   ]
  },
  {
   "cell_type": "code",
   "execution_count": 160,
   "metadata": {},
   "outputs": [
    {
     "data": {
      "text/html": [
       "<div>\n",
       "<style scoped>\n",
       "    .dataframe tbody tr th:only-of-type {\n",
       "        vertical-align: middle;\n",
       "    }\n",
       "\n",
       "    .dataframe tbody tr th {\n",
       "        vertical-align: top;\n",
       "    }\n",
       "\n",
       "    .dataframe thead th {\n",
       "        text-align: right;\n",
       "    }\n",
       "</style>\n",
       "<table border=\"1\" class=\"dataframe\">\n",
       "  <thead>\n",
       "    <tr style=\"text-align: right;\">\n",
       "      <th></th>\n",
       "      <th>index</th>\n",
       "      <th>Date</th>\n",
       "      <th>Open</th>\n",
       "      <th>High</th>\n",
       "      <th>Low</th>\n",
       "      <th>Close</th>\n",
       "      <th>Adj Close</th>\n",
       "      <th>Volume</th>\n",
       "      <th>Close Lagged Price</th>\n",
       "      <th>sma7</th>\n",
       "      <th>sma14</th>\n",
       "      <th>sma21</th>\n",
       "      <th>ema12</th>\n",
       "      <th>ema26</th>\n",
       "      <th>MACD line</th>\n",
       "      <th>Signal line</th>\n",
       "      <th>MACD histogram</th>\n",
       "      <th>rsi</th>\n",
       "    </tr>\n",
       "  </thead>\n",
       "  <tbody>\n",
       "    <tr>\n",
       "      <th>0</th>\n",
       "      <td>0</td>\n",
       "      <td>2015-01-01</td>\n",
       "      <td>320.434998</td>\n",
       "      <td>320.434998</td>\n",
       "      <td>314.002991</td>\n",
       "      <td>314.248993</td>\n",
       "      <td>314.248993</td>\n",
       "      <td>8036550</td>\n",
       "      <td>NaN</td>\n",
       "      <td>NaN</td>\n",
       "      <td>NaN</td>\n",
       "      <td>NaN</td>\n",
       "      <td>314.248993</td>\n",
       "      <td>314.248993</td>\n",
       "      <td>0.000000</td>\n",
       "      <td>0.000000</td>\n",
       "      <td>0.000000</td>\n",
       "      <td>NaN</td>\n",
       "    </tr>\n",
       "    <tr>\n",
       "      <th>1</th>\n",
       "      <td>1</td>\n",
       "      <td>2015-01-02</td>\n",
       "      <td>314.079010</td>\n",
       "      <td>315.838989</td>\n",
       "      <td>313.565002</td>\n",
       "      <td>315.032013</td>\n",
       "      <td>315.032013</td>\n",
       "      <td>7860650</td>\n",
       "      <td>314.248993</td>\n",
       "      <td>NaN</td>\n",
       "      <td>NaN</td>\n",
       "      <td>NaN</td>\n",
       "      <td>314.369458</td>\n",
       "      <td>314.306994</td>\n",
       "      <td>0.062463</td>\n",
       "      <td>0.012493</td>\n",
       "      <td>0.049971</td>\n",
       "      <td>NaN</td>\n",
       "    </tr>\n",
       "    <tr>\n",
       "      <th>2</th>\n",
       "      <td>2</td>\n",
       "      <td>2015-01-03</td>\n",
       "      <td>314.846008</td>\n",
       "      <td>315.149994</td>\n",
       "      <td>281.082001</td>\n",
       "      <td>281.082001</td>\n",
       "      <td>281.082001</td>\n",
       "      <td>33054400</td>\n",
       "      <td>315.032013</td>\n",
       "      <td>NaN</td>\n",
       "      <td>NaN</td>\n",
       "      <td>NaN</td>\n",
       "      <td>309.248310</td>\n",
       "      <td>311.845884</td>\n",
       "      <td>-2.597573</td>\n",
       "      <td>-0.509521</td>\n",
       "      <td>-2.088053</td>\n",
       "      <td>NaN</td>\n",
       "    </tr>\n",
       "    <tr>\n",
       "      <th>3</th>\n",
       "      <td>3</td>\n",
       "      <td>2015-01-04</td>\n",
       "      <td>281.145996</td>\n",
       "      <td>287.230011</td>\n",
       "      <td>257.612000</td>\n",
       "      <td>264.195007</td>\n",
       "      <td>264.195007</td>\n",
       "      <td>55629100</td>\n",
       "      <td>281.082001</td>\n",
       "      <td>NaN</td>\n",
       "      <td>NaN</td>\n",
       "      <td>NaN</td>\n",
       "      <td>302.317033</td>\n",
       "      <td>308.316189</td>\n",
       "      <td>-5.999156</td>\n",
       "      <td>-1.607448</td>\n",
       "      <td>-4.391709</td>\n",
       "      <td>NaN</td>\n",
       "    </tr>\n",
       "    <tr>\n",
       "      <th>4</th>\n",
       "      <td>4</td>\n",
       "      <td>2015-01-05</td>\n",
       "      <td>265.084015</td>\n",
       "      <td>278.341003</td>\n",
       "      <td>265.084015</td>\n",
       "      <td>274.473999</td>\n",
       "      <td>274.473999</td>\n",
       "      <td>43962800</td>\n",
       "      <td>264.195007</td>\n",
       "      <td>NaN</td>\n",
       "      <td>NaN</td>\n",
       "      <td>NaN</td>\n",
       "      <td>298.033489</td>\n",
       "      <td>305.809360</td>\n",
       "      <td>-7.775871</td>\n",
       "      <td>-2.841132</td>\n",
       "      <td>-4.934739</td>\n",
       "      <td>NaN</td>\n",
       "    </tr>\n",
       "  </tbody>\n",
       "</table>\n",
       "</div>"
      ],
      "text/plain": [
       "   index        Date        Open        High         Low       Close  \\\n",
       "0      0  2015-01-01  320.434998  320.434998  314.002991  314.248993   \n",
       "1      1  2015-01-02  314.079010  315.838989  313.565002  315.032013   \n",
       "2      2  2015-01-03  314.846008  315.149994  281.082001  281.082001   \n",
       "3      3  2015-01-04  281.145996  287.230011  257.612000  264.195007   \n",
       "4      4  2015-01-05  265.084015  278.341003  265.084015  274.473999   \n",
       "\n",
       "    Adj Close    Volume  Close Lagged Price  sma7  sma14  sma21       ema12  \\\n",
       "0  314.248993   8036550                 NaN   NaN    NaN    NaN  314.248993   \n",
       "1  315.032013   7860650          314.248993   NaN    NaN    NaN  314.369458   \n",
       "2  281.082001  33054400          315.032013   NaN    NaN    NaN  309.248310   \n",
       "3  264.195007  55629100          281.082001   NaN    NaN    NaN  302.317033   \n",
       "4  274.473999  43962800          264.195007   NaN    NaN    NaN  298.033489   \n",
       "\n",
       "        ema26  MACD line  Signal line  MACD histogram  rsi  \n",
       "0  314.248993   0.000000     0.000000        0.000000  NaN  \n",
       "1  314.306994   0.062463     0.012493        0.049971  NaN  \n",
       "2  311.845884  -2.597573    -0.509521       -2.088053  NaN  \n",
       "3  308.316189  -5.999156    -1.607448       -4.391709  NaN  \n",
       "4  305.809360  -7.775871    -2.841132       -4.934739  NaN  "
      ]
     },
     "execution_count": 160,
     "metadata": {},
     "output_type": "execute_result"
    }
   ],
   "source": [
    "price.head()"
   ]
  },
  {
   "cell_type": "code",
   "execution_count": null,
   "metadata": {},
   "outputs": [],
   "source": [
    "tweets"
   ]
  },
  {
   "cell_type": "code",
   "execution_count": 161,
   "metadata": {},
   "outputs": [],
   "source": [
    "price_tweets = tweets.merge(price, how='outer', on=['Date'])"
   ]
  },
  {
   "cell_type": "code",
   "execution_count": null,
   "metadata": {},
   "outputs": [],
   "source": [
    "price_tweets.head()"
   ]
  },
  {
   "cell_type": "code",
   "execution_count": 199,
   "metadata": {},
   "outputs": [
    {
     "name": "stdout",
     "output_type": "stream",
     "text": [
      "<class 'pandas.core.frame.DataFrame'>\n",
      "Int64Index: 342158 entries, 0 to 342157\n",
      "Data columns (total 20 columns):\n",
      " #   Column              Non-Null Count   Dtype  \n",
      "---  ------              --------------   -----  \n",
      " 0   Unnamed: 0          342062 non-null  float64\n",
      " 1   text_split          342062 non-null  object \n",
      " 2   Date                342158 non-null  object \n",
      " 3   index               341961 non-null  float64\n",
      " 4   Open                341961 non-null  float64\n",
      " 5   High                341961 non-null  float64\n",
      " 6   Low                 341961 non-null  float64\n",
      " 7   Close               341961 non-null  float64\n",
      " 8   Adj Close           341961 non-null  float64\n",
      " 9   Volume              341961 non-null  float64\n",
      " 10  Close Lagged Price  341897 non-null  float64\n",
      " 11  sma7                341505 non-null  float64\n",
      " 12  sma14               341034 non-null  float64\n",
      " 13  sma21               340455 non-null  float64\n",
      " 14  ema12               341961 non-null  float64\n",
      " 15  ema26               341961 non-null  float64\n",
      " 16  MACD line           341961 non-null  float64\n",
      " 17  Signal line         341961 non-null  float64\n",
      " 18  MACD histogram      341961 non-null  float64\n",
      " 19  rsi                 341034 non-null  float64\n",
      "dtypes: float64(18), object(2)\n",
      "memory usage: 54.8+ MB\n"
     ]
    }
   ],
   "source": [
    "price_tweets.info()"
   ]
  },
  {
   "cell_type": "markdown",
   "metadata": {},
   "source": [
    "# Process news article"
   ]
  },
  {
   "cell_type": "code",
   "execution_count": 233,
   "metadata": {},
   "outputs": [],
   "source": [
    "news = pd.read_csv('../msc/archive/data/cryptonews_processed_2013_2022.csv')"
   ]
  },
  {
   "cell_type": "code",
   "execution_count": 165,
   "metadata": {},
   "outputs": [
    {
     "data": {
      "text/html": [
       "<div>\n",
       "<style scoped>\n",
       "    .dataframe tbody tr th:only-of-type {\n",
       "        vertical-align: middle;\n",
       "    }\n",
       "\n",
       "    .dataframe tbody tr th {\n",
       "        vertical-align: top;\n",
       "    }\n",
       "\n",
       "    .dataframe thead th {\n",
       "        text-align: right;\n",
       "    }\n",
       "</style>\n",
       "<table border=\"1\" class=\"dataframe\">\n",
       "  <thead>\n",
       "    <tr style=\"text-align: right;\">\n",
       "      <th></th>\n",
       "      <th>date</th>\n",
       "      <th>sentiment</th>\n",
       "      <th>title</th>\n",
       "    </tr>\n",
       "  </thead>\n",
       "  <tbody>\n",
       "    <tr>\n",
       "      <th>0</th>\n",
       "      <td>2013-01-01 00:00:00+00:00</td>\n",
       "      <td>neutral</td>\n",
       "      <td>bitcoin exchange btc china temporarily halts t...</td>\n",
       "    </tr>\n",
       "    <tr>\n",
       "      <th>1</th>\n",
       "      <td>2013-01-01 00:00:00+00:00</td>\n",
       "      <td>neutral</td>\n",
       "      <td>happened us regulators bitcoin meeting</td>\n",
       "    </tr>\n",
       "    <tr>\n",
       "      <th>2</th>\n",
       "      <td>2013-01-02 00:00:00+00:00</td>\n",
       "      <td>positive</td>\n",
       "      <td>vault satoshi expands canadian bitcoin exchang...</td>\n",
       "    </tr>\n",
       "    <tr>\n",
       "      <th>3</th>\n",
       "      <td>2013-01-22 00:00:00+00:00</td>\n",
       "      <td>positive</td>\n",
       "      <td>gambling bitcoin block chain</td>\n",
       "    </tr>\n",
       "    <tr>\n",
       "      <th>4</th>\n",
       "      <td>2013-01-26 00:00:00+00:00</td>\n",
       "      <td>neutral</td>\n",
       "      <td>bitmarkers wants move money bitcoin incasino g...</td>\n",
       "    </tr>\n",
       "  </tbody>\n",
       "</table>\n",
       "</div>"
      ],
      "text/plain": [
       "                        date sentiment  \\\n",
       "0  2013-01-01 00:00:00+00:00   neutral   \n",
       "1  2013-01-01 00:00:00+00:00   neutral   \n",
       "2  2013-01-02 00:00:00+00:00  positive   \n",
       "3  2013-01-22 00:00:00+00:00  positive   \n",
       "4  2013-01-26 00:00:00+00:00   neutral   \n",
       "\n",
       "                                               title  \n",
       "0  bitcoin exchange btc china temporarily halts t...  \n",
       "1             happened us regulators bitcoin meeting  \n",
       "2  vault satoshi expands canadian bitcoin exchang...  \n",
       "3                       gambling bitcoin block chain  \n",
       "4  bitmarkers wants move money bitcoin incasino g...  "
      ]
     },
     "execution_count": 165,
     "metadata": {},
     "output_type": "execute_result"
    }
   ],
   "source": [
    "news.head()"
   ]
  },
  {
   "cell_type": "code",
   "execution_count": 234,
   "metadata": {},
   "outputs": [],
   "source": [
    "news = news.rename(columns = {'date':'Date', 'title': 'article'})"
   ]
  },
  {
   "cell_type": "code",
   "execution_count": 235,
   "metadata": {},
   "outputs": [],
   "source": [
    "news = news.drop(columns=['sentiment'])"
   ]
  },
  {
   "cell_type": "code",
   "execution_count": 236,
   "metadata": {},
   "outputs": [
    {
     "name": "stdout",
     "output_type": "stream",
     "text": [
      "<class 'pandas.core.frame.DataFrame'>\n",
      "RangeIndex: 28100 entries, 0 to 28099\n",
      "Data columns (total 2 columns):\n",
      " #   Column   Non-Null Count  Dtype \n",
      "---  ------   --------------  ----- \n",
      " 0   Date     28100 non-null  object\n",
      " 1   article  28100 non-null  object\n",
      "dtypes: object(2)\n",
      "memory usage: 439.2+ KB\n"
     ]
    }
   ],
   "source": [
    "news.info()"
   ]
  },
  {
   "cell_type": "code",
   "execution_count": 220,
   "metadata": {},
   "outputs": [
    {
     "data": {
      "text/html": [
       "<div>\n",
       "<style scoped>\n",
       "    .dataframe tbody tr th:only-of-type {\n",
       "        vertical-align: middle;\n",
       "    }\n",
       "\n",
       "    .dataframe tbody tr th {\n",
       "        vertical-align: top;\n",
       "    }\n",
       "\n",
       "    .dataframe thead th {\n",
       "        text-align: right;\n",
       "    }\n",
       "</style>\n",
       "<table border=\"1\" class=\"dataframe\">\n",
       "  <thead>\n",
       "    <tr style=\"text-align: right;\">\n",
       "      <th></th>\n",
       "      <th>Date</th>\n",
       "      <th>article</th>\n",
       "    </tr>\n",
       "  </thead>\n",
       "  <tbody>\n",
       "    <tr>\n",
       "      <th>0</th>\n",
       "      <td>2013-01-01 00:00:00+00:00</td>\n",
       "      <td>bitcoin exchange btc china temporarily halts t...</td>\n",
       "    </tr>\n",
       "    <tr>\n",
       "      <th>1</th>\n",
       "      <td>2013-01-01 00:00:00+00:00</td>\n",
       "      <td>happened us regulators bitcoin meeting</td>\n",
       "    </tr>\n",
       "    <tr>\n",
       "      <th>2</th>\n",
       "      <td>2013-01-02 00:00:00+00:00</td>\n",
       "      <td>vault satoshi expands canadian bitcoin exchang...</td>\n",
       "    </tr>\n",
       "    <tr>\n",
       "      <th>3</th>\n",
       "      <td>2013-01-22 00:00:00+00:00</td>\n",
       "      <td>gambling bitcoin block chain</td>\n",
       "    </tr>\n",
       "    <tr>\n",
       "      <th>4</th>\n",
       "      <td>2013-01-26 00:00:00+00:00</td>\n",
       "      <td>bitmarkers wants move money bitcoin incasino g...</td>\n",
       "    </tr>\n",
       "  </tbody>\n",
       "</table>\n",
       "</div>"
      ],
      "text/plain": [
       "                        Date  \\\n",
       "0  2013-01-01 00:00:00+00:00   \n",
       "1  2013-01-01 00:00:00+00:00   \n",
       "2  2013-01-02 00:00:00+00:00   \n",
       "3  2013-01-22 00:00:00+00:00   \n",
       "4  2013-01-26 00:00:00+00:00   \n",
       "\n",
       "                                             article  \n",
       "0  bitcoin exchange btc china temporarily halts t...  \n",
       "1             happened us regulators bitcoin meeting  \n",
       "2  vault satoshi expands canadian bitcoin exchang...  \n",
       "3                       gambling bitcoin block chain  \n",
       "4  bitmarkers wants move money bitcoin incasino g...  "
      ]
     },
     "execution_count": 220,
     "metadata": {},
     "output_type": "execute_result"
    }
   ],
   "source": [
    "news.head()"
   ]
  },
  {
   "cell_type": "code",
   "execution_count": 242,
   "metadata": {},
   "outputs": [],
   "source": [
    "news['Date'] = pd.to_datetime(news.Date,utc=True,format='%Y/%m/%d')"
   ]
  },
  {
   "cell_type": "code",
   "execution_count": 246,
   "metadata": {},
   "outputs": [],
   "source": [
    "news['Date']=news['Date'].dt.strftime('%Y-%m-%d')"
   ]
  },
  {
   "cell_type": "code",
   "execution_count": 247,
   "metadata": {},
   "outputs": [
    {
     "data": {
      "text/html": [
       "<div>\n",
       "<style scoped>\n",
       "    .dataframe tbody tr th:only-of-type {\n",
       "        vertical-align: middle;\n",
       "    }\n",
       "\n",
       "    .dataframe tbody tr th {\n",
       "        vertical-align: top;\n",
       "    }\n",
       "\n",
       "    .dataframe thead th {\n",
       "        text-align: right;\n",
       "    }\n",
       "</style>\n",
       "<table border=\"1\" class=\"dataframe\">\n",
       "  <thead>\n",
       "    <tr style=\"text-align: right;\">\n",
       "      <th></th>\n",
       "      <th>Date</th>\n",
       "      <th>article</th>\n",
       "    </tr>\n",
       "  </thead>\n",
       "  <tbody>\n",
       "    <tr>\n",
       "      <th>0</th>\n",
       "      <td>2013-01-01</td>\n",
       "      <td>bitcoin exchange btc china temporarily halts t...</td>\n",
       "    </tr>\n",
       "    <tr>\n",
       "      <th>1</th>\n",
       "      <td>2013-01-01</td>\n",
       "      <td>happened us regulators bitcoin meeting</td>\n",
       "    </tr>\n",
       "    <tr>\n",
       "      <th>2</th>\n",
       "      <td>2013-01-02</td>\n",
       "      <td>vault satoshi expands canadian bitcoin exchang...</td>\n",
       "    </tr>\n",
       "    <tr>\n",
       "      <th>3</th>\n",
       "      <td>2013-01-22</td>\n",
       "      <td>gambling bitcoin block chain</td>\n",
       "    </tr>\n",
       "    <tr>\n",
       "      <th>4</th>\n",
       "      <td>2013-01-26</td>\n",
       "      <td>bitmarkers wants move money bitcoin incasino g...</td>\n",
       "    </tr>\n",
       "    <tr>\n",
       "      <th>...</th>\n",
       "      <td>...</td>\n",
       "      <td>...</td>\n",
       "    </tr>\n",
       "    <tr>\n",
       "      <th>28095</th>\n",
       "      <td>2021-10-27</td>\n",
       "      <td>cream financ cream suffer anoth flash loan attack</td>\n",
       "    </tr>\n",
       "    <tr>\n",
       "      <th>28096</th>\n",
       "      <td>2021-10-19</td>\n",
       "      <td>banqu de franc disclos result experiment progr...</td>\n",
       "    </tr>\n",
       "    <tr>\n",
       "      <th>28097</th>\n",
       "      <td>2021-10-18</td>\n",
       "      <td>advanc project becom xcaâxametaverseâxacompany...</td>\n",
       "    </tr>\n",
       "    <tr>\n",
       "      <th>28098</th>\n",
       "      <td>2021-10-15</td>\n",
       "      <td>chines compani still top blockchain patent chart</td>\n",
       "    </tr>\n",
       "    <tr>\n",
       "      <th>28099</th>\n",
       "      <td>2021-10-12</td>\n",
       "      <td>within littl year celo aim becom fastest among...</td>\n",
       "    </tr>\n",
       "  </tbody>\n",
       "</table>\n",
       "<p>28100 rows × 2 columns</p>\n",
       "</div>"
      ],
      "text/plain": [
       "             Date                                            article\n",
       "0      2013-01-01  bitcoin exchange btc china temporarily halts t...\n",
       "1      2013-01-01             happened us regulators bitcoin meeting\n",
       "2      2013-01-02  vault satoshi expands canadian bitcoin exchang...\n",
       "3      2013-01-22                       gambling bitcoin block chain\n",
       "4      2013-01-26  bitmarkers wants move money bitcoin incasino g...\n",
       "...           ...                                                ...\n",
       "28095  2021-10-27  cream financ cream suffer anoth flash loan attack\n",
       "28096  2021-10-19  banqu de franc disclos result experiment progr...\n",
       "28097  2021-10-18  advanc project becom xcaâxametaverseâxacompany...\n",
       "28098  2021-10-15   chines compani still top blockchain patent chart\n",
       "28099  2021-10-12  within littl year celo aim becom fastest among...\n",
       "\n",
       "[28100 rows x 2 columns]"
      ]
     },
     "execution_count": 247,
     "metadata": {},
     "output_type": "execute_result"
    }
   ],
   "source": [
    "news"
   ]
  },
  {
   "cell_type": "code",
   "execution_count": 249,
   "metadata": {},
   "outputs": [],
   "source": [
    "price_tweets_news = news.merge(price_tweets, how='outer', on=['Date'])"
   ]
  },
  {
   "cell_type": "code",
   "execution_count": 252,
   "metadata": {},
   "outputs": [
    {
     "data": {
      "text/plain": [
       "(1812331, 21)"
      ]
     },
     "execution_count": 252,
     "metadata": {},
     "output_type": "execute_result"
    }
   ],
   "source": [
    "price_tweets_news.shape"
   ]
  },
  {
   "cell_type": "code",
   "execution_count": 255,
   "metadata": {},
   "outputs": [
    {
     "data": {
      "text/html": [
       "<div>\n",
       "<style scoped>\n",
       "    .dataframe tbody tr th:only-of-type {\n",
       "        vertical-align: middle;\n",
       "    }\n",
       "\n",
       "    .dataframe tbody tr th {\n",
       "        vertical-align: top;\n",
       "    }\n",
       "\n",
       "    .dataframe thead th {\n",
       "        text-align: right;\n",
       "    }\n",
       "</style>\n",
       "<table border=\"1\" class=\"dataframe\">\n",
       "  <thead>\n",
       "    <tr style=\"text-align: right;\">\n",
       "      <th></th>\n",
       "      <th>Date</th>\n",
       "      <th>article</th>\n",
       "      <th>Unnamed: 0</th>\n",
       "      <th>text_split</th>\n",
       "      <th>index</th>\n",
       "      <th>Open</th>\n",
       "      <th>High</th>\n",
       "      <th>Low</th>\n",
       "      <th>Close</th>\n",
       "      <th>Adj Close</th>\n",
       "      <th>...</th>\n",
       "      <th>Close Lagged Price</th>\n",
       "      <th>sma7</th>\n",
       "      <th>sma14</th>\n",
       "      <th>sma21</th>\n",
       "      <th>ema12</th>\n",
       "      <th>ema26</th>\n",
       "      <th>MACD line</th>\n",
       "      <th>Signal line</th>\n",
       "      <th>MACD histogram</th>\n",
       "      <th>rsi</th>\n",
       "    </tr>\n",
       "  </thead>\n",
       "  <tbody>\n",
       "    <tr>\n",
       "      <th>8660</th>\n",
       "      <td>2015-01-21</td>\n",
       "      <td>bitcoin trader gets fouryear jail term silk ro...</td>\n",
       "      <td>1506.0</td>\n",
       "      <td>un pone bitcoin to silk road ross was back in ...</td>\n",
       "      <td>20.0</td>\n",
       "      <td>211.378006</td>\n",
       "      <td>227.787994</td>\n",
       "      <td>211.212006</td>\n",
       "      <td>226.897003</td>\n",
       "      <td>226.897003</td>\n",
       "      <td>...</td>\n",
       "      <td>211.315002</td>\n",
       "      <td>211.516142</td>\n",
       "      <td>233.327568</td>\n",
       "      <td>252.197332</td>\n",
       "      <td>227.887069</td>\n",
       "      <td>252.583438</td>\n",
       "      <td>-24.696369</td>\n",
       "      <td>-23.050697</td>\n",
       "      <td>-1.645671</td>\n",
       "      <td>34.070140</td>\n",
       "    </tr>\n",
       "    <tr>\n",
       "      <th>8661</th>\n",
       "      <td>2015-01-21</td>\n",
       "      <td>bitcoin trader gets fouryear jail term silk ro...</td>\n",
       "      <td>1507.0</td>\n",
       "      <td>free here in just up for early access to debit...</td>\n",
       "      <td>20.0</td>\n",
       "      <td>211.378006</td>\n",
       "      <td>227.787994</td>\n",
       "      <td>211.212006</td>\n",
       "      <td>226.897003</td>\n",
       "      <td>226.897003</td>\n",
       "      <td>...</td>\n",
       "      <td>211.315002</td>\n",
       "      <td>211.516142</td>\n",
       "      <td>233.327568</td>\n",
       "      <td>252.197332</td>\n",
       "      <td>227.887069</td>\n",
       "      <td>252.583438</td>\n",
       "      <td>-24.696369</td>\n",
       "      <td>-23.050697</td>\n",
       "      <td>-1.645671</td>\n",
       "      <td>34.070140</td>\n",
       "    </tr>\n",
       "    <tr>\n",
       "      <th>8662</th>\n",
       "      <td>2015-01-21</td>\n",
       "      <td>bitcoin trader gets fouryear jail term silk ro...</td>\n",
       "      <td>1508.0</td>\n",
       "      <td>market via major financial and get together to...</td>\n",
       "      <td>20.0</td>\n",
       "      <td>211.378006</td>\n",
       "      <td>227.787994</td>\n",
       "      <td>211.212006</td>\n",
       "      <td>226.897003</td>\n",
       "      <td>226.897003</td>\n",
       "      <td>...</td>\n",
       "      <td>211.315002</td>\n",
       "      <td>211.516142</td>\n",
       "      <td>233.327568</td>\n",
       "      <td>252.197332</td>\n",
       "      <td>227.887069</td>\n",
       "      <td>252.583438</td>\n",
       "      <td>-24.696369</td>\n",
       "      <td>-23.050697</td>\n",
       "      <td>-1.645671</td>\n",
       "      <td>34.070140</td>\n",
       "    </tr>\n",
       "    <tr>\n",
       "      <th>8663</th>\n",
       "      <td>2015-01-21</td>\n",
       "      <td>bitcoin trader gets fouryear jail term silk ro...</td>\n",
       "      <td>1509.0</td>\n",
       "      <td>buy sell bitcoin btc site web love hope to hel...</td>\n",
       "      <td>20.0</td>\n",
       "      <td>211.378006</td>\n",
       "      <td>227.787994</td>\n",
       "      <td>211.212006</td>\n",
       "      <td>226.897003</td>\n",
       "      <td>226.897003</td>\n",
       "      <td>...</td>\n",
       "      <td>211.315002</td>\n",
       "      <td>211.516142</td>\n",
       "      <td>233.327568</td>\n",
       "      <td>252.197332</td>\n",
       "      <td>227.887069</td>\n",
       "      <td>252.583438</td>\n",
       "      <td>-24.696369</td>\n",
       "      <td>-23.050697</td>\n",
       "      <td>-1.645671</td>\n",
       "      <td>34.070140</td>\n",
       "    </tr>\n",
       "    <tr>\n",
       "      <th>8664</th>\n",
       "      <td>2015-01-21</td>\n",
       "      <td>bitcoin trader gets fouryear jail term silk ro...</td>\n",
       "      <td>1510.0</td>\n",
       "      <td>bitcoin ask bitcoin unbreakable coin video of ...</td>\n",
       "      <td>20.0</td>\n",
       "      <td>211.378006</td>\n",
       "      <td>227.787994</td>\n",
       "      <td>211.212006</td>\n",
       "      <td>226.897003</td>\n",
       "      <td>226.897003</td>\n",
       "      <td>...</td>\n",
       "      <td>211.315002</td>\n",
       "      <td>211.516142</td>\n",
       "      <td>233.327568</td>\n",
       "      <td>252.197332</td>\n",
       "      <td>227.887069</td>\n",
       "      <td>252.583438</td>\n",
       "      <td>-24.696369</td>\n",
       "      <td>-23.050697</td>\n",
       "      <td>-1.645671</td>\n",
       "      <td>34.070140</td>\n",
       "    </tr>\n",
       "    <tr>\n",
       "      <th>...</th>\n",
       "      <td>...</td>\n",
       "      <td>...</td>\n",
       "      <td>...</td>\n",
       "      <td>...</td>\n",
       "      <td>...</td>\n",
       "      <td>...</td>\n",
       "      <td>...</td>\n",
       "      <td>...</td>\n",
       "      <td>...</td>\n",
       "      <td>...</td>\n",
       "      <td>...</td>\n",
       "      <td>...</td>\n",
       "      <td>...</td>\n",
       "      <td>...</td>\n",
       "      <td>...</td>\n",
       "      <td>...</td>\n",
       "      <td>...</td>\n",
       "      <td>...</td>\n",
       "      <td>...</td>\n",
       "      <td>...</td>\n",
       "      <td>...</td>\n",
       "    </tr>\n",
       "    <tr>\n",
       "      <th>1591026</th>\n",
       "      <td>2018-11-13</td>\n",
       "      <td>bitcoin price watch heres whats morning</td>\n",
       "      <td>59334.0</td>\n",
       "      <td>affiliate or even lower then some other bitcoi...</td>\n",
       "      <td>1412.0</td>\n",
       "      <td>6373.189941</td>\n",
       "      <td>6395.270020</td>\n",
       "      <td>6342.669922</td>\n",
       "      <td>6359.490234</td>\n",
       "      <td>6359.490234</td>\n",
       "      <td>...</td>\n",
       "      <td>6371.270020</td>\n",
       "      <td>6417.247280</td>\n",
       "      <td>6401.615723</td>\n",
       "      <td>6414.436663</td>\n",
       "      <td>6405.482128</td>\n",
       "      <td>6428.360042</td>\n",
       "      <td>-22.877914</td>\n",
       "      <td>-22.623520</td>\n",
       "      <td>-0.254394</td>\n",
       "      <td>52.494579</td>\n",
       "    </tr>\n",
       "    <tr>\n",
       "      <th>1591027</th>\n",
       "      <td>2018-11-13</td>\n",
       "      <td>bitcoin price watch heres whats morning</td>\n",
       "      <td>59335.0</td>\n",
       "      <td>have you into that one curious about your take...</td>\n",
       "      <td>1412.0</td>\n",
       "      <td>6373.189941</td>\n",
       "      <td>6395.270020</td>\n",
       "      <td>6342.669922</td>\n",
       "      <td>6359.490234</td>\n",
       "      <td>6359.490234</td>\n",
       "      <td>...</td>\n",
       "      <td>6371.270020</td>\n",
       "      <td>6417.247280</td>\n",
       "      <td>6401.615723</td>\n",
       "      <td>6414.436663</td>\n",
       "      <td>6405.482128</td>\n",
       "      <td>6428.360042</td>\n",
       "      <td>-22.877914</td>\n",
       "      <td>-22.623520</td>\n",
       "      <td>-0.254394</td>\n",
       "      <td>52.494579</td>\n",
       "    </tr>\n",
       "    <tr>\n",
       "      <th>1591028</th>\n",
       "      <td>2018-11-13</td>\n",
       "      <td>bitcoin price watch heres whats morning</td>\n",
       "      <td>59336.0</td>\n",
       "      <td>come true la bitcoin cash association la de en...</td>\n",
       "      <td>1412.0</td>\n",
       "      <td>6373.189941</td>\n",
       "      <td>6395.270020</td>\n",
       "      <td>6342.669922</td>\n",
       "      <td>6359.490234</td>\n",
       "      <td>6359.490234</td>\n",
       "      <td>...</td>\n",
       "      <td>6371.270020</td>\n",
       "      <td>6417.247280</td>\n",
       "      <td>6401.615723</td>\n",
       "      <td>6414.436663</td>\n",
       "      <td>6405.482128</td>\n",
       "      <td>6428.360042</td>\n",
       "      <td>-22.877914</td>\n",
       "      <td>-22.623520</td>\n",
       "      <td>-0.254394</td>\n",
       "      <td>52.494579</td>\n",
       "    </tr>\n",
       "    <tr>\n",
       "      <th>1591029</th>\n",
       "      <td>2018-11-13</td>\n",
       "      <td>bitcoin price watch heres whats morning</td>\n",
       "      <td>59337.0</td>\n",
       "      <td>problem bitcoin medium of exchange nobody it a...</td>\n",
       "      <td>1412.0</td>\n",
       "      <td>6373.189941</td>\n",
       "      <td>6395.270020</td>\n",
       "      <td>6342.669922</td>\n",
       "      <td>6359.490234</td>\n",
       "      <td>6359.490234</td>\n",
       "      <td>...</td>\n",
       "      <td>6371.270020</td>\n",
       "      <td>6417.247280</td>\n",
       "      <td>6401.615723</td>\n",
       "      <td>6414.436663</td>\n",
       "      <td>6405.482128</td>\n",
       "      <td>6428.360042</td>\n",
       "      <td>-22.877914</td>\n",
       "      <td>-22.623520</td>\n",
       "      <td>-0.254394</td>\n",
       "      <td>52.494579</td>\n",
       "    </tr>\n",
       "    <tr>\n",
       "      <th>1591030</th>\n",
       "      <td>2018-11-13</td>\n",
       "      <td>bitcoin price watch heres whats morning</td>\n",
       "      <td>59338.0</td>\n",
       "      <td>de de bitcoin cash how to safely store bitcoin...</td>\n",
       "      <td>1412.0</td>\n",
       "      <td>6373.189941</td>\n",
       "      <td>6395.270020</td>\n",
       "      <td>6342.669922</td>\n",
       "      <td>6359.490234</td>\n",
       "      <td>6359.490234</td>\n",
       "      <td>...</td>\n",
       "      <td>6371.270020</td>\n",
       "      <td>6417.247280</td>\n",
       "      <td>6401.615723</td>\n",
       "      <td>6414.436663</td>\n",
       "      <td>6405.482128</td>\n",
       "      <td>6428.360042</td>\n",
       "      <td>-22.877914</td>\n",
       "      <td>-22.623520</td>\n",
       "      <td>-0.254394</td>\n",
       "      <td>52.494579</td>\n",
       "    </tr>\n",
       "  </tbody>\n",
       "</table>\n",
       "<p>1582247 rows × 21 columns</p>\n",
       "</div>"
      ],
      "text/plain": [
       "               Date                                            article  \\\n",
       "8660     2015-01-21  bitcoin trader gets fouryear jail term silk ro...   \n",
       "8661     2015-01-21  bitcoin trader gets fouryear jail term silk ro...   \n",
       "8662     2015-01-21  bitcoin trader gets fouryear jail term silk ro...   \n",
       "8663     2015-01-21  bitcoin trader gets fouryear jail term silk ro...   \n",
       "8664     2015-01-21  bitcoin trader gets fouryear jail term silk ro...   \n",
       "...             ...                                                ...   \n",
       "1591026  2018-11-13            bitcoin price watch heres whats morning   \n",
       "1591027  2018-11-13            bitcoin price watch heres whats morning   \n",
       "1591028  2018-11-13            bitcoin price watch heres whats morning   \n",
       "1591029  2018-11-13            bitcoin price watch heres whats morning   \n",
       "1591030  2018-11-13            bitcoin price watch heres whats morning   \n",
       "\n",
       "         Unnamed: 0                                         text_split  \\\n",
       "8660         1506.0  un pone bitcoin to silk road ross was back in ...   \n",
       "8661         1507.0  free here in just up for early access to debit...   \n",
       "8662         1508.0  market via major financial and get together to...   \n",
       "8663         1509.0  buy sell bitcoin btc site web love hope to hel...   \n",
       "8664         1510.0  bitcoin ask bitcoin unbreakable coin video of ...   \n",
       "...             ...                                                ...   \n",
       "1591026     59334.0  affiliate or even lower then some other bitcoi...   \n",
       "1591027     59335.0  have you into that one curious about your take...   \n",
       "1591028     59336.0  come true la bitcoin cash association la de en...   \n",
       "1591029     59337.0  problem bitcoin medium of exchange nobody it a...   \n",
       "1591030     59338.0  de de bitcoin cash how to safely store bitcoin...   \n",
       "\n",
       "          index         Open         High          Low        Close  \\\n",
       "8660       20.0   211.378006   227.787994   211.212006   226.897003   \n",
       "8661       20.0   211.378006   227.787994   211.212006   226.897003   \n",
       "8662       20.0   211.378006   227.787994   211.212006   226.897003   \n",
       "8663       20.0   211.378006   227.787994   211.212006   226.897003   \n",
       "8664       20.0   211.378006   227.787994   211.212006   226.897003   \n",
       "...         ...          ...          ...          ...          ...   \n",
       "1591026  1412.0  6373.189941  6395.270020  6342.669922  6359.490234   \n",
       "1591027  1412.0  6373.189941  6395.270020  6342.669922  6359.490234   \n",
       "1591028  1412.0  6373.189941  6395.270020  6342.669922  6359.490234   \n",
       "1591029  1412.0  6373.189941  6395.270020  6342.669922  6359.490234   \n",
       "1591030  1412.0  6373.189941  6395.270020  6342.669922  6359.490234   \n",
       "\n",
       "           Adj Close  ...  Close Lagged Price         sma7        sma14  \\\n",
       "8660      226.897003  ...          211.315002   211.516142   233.327568   \n",
       "8661      226.897003  ...          211.315002   211.516142   233.327568   \n",
       "8662      226.897003  ...          211.315002   211.516142   233.327568   \n",
       "8663      226.897003  ...          211.315002   211.516142   233.327568   \n",
       "8664      226.897003  ...          211.315002   211.516142   233.327568   \n",
       "...              ...  ...                 ...          ...          ...   \n",
       "1591026  6359.490234  ...         6371.270020  6417.247280  6401.615723   \n",
       "1591027  6359.490234  ...         6371.270020  6417.247280  6401.615723   \n",
       "1591028  6359.490234  ...         6371.270020  6417.247280  6401.615723   \n",
       "1591029  6359.490234  ...         6371.270020  6417.247280  6401.615723   \n",
       "1591030  6359.490234  ...         6371.270020  6417.247280  6401.615723   \n",
       "\n",
       "               sma21        ema12        ema26  MACD line  Signal line  \\\n",
       "8660      252.197332   227.887069   252.583438 -24.696369   -23.050697   \n",
       "8661      252.197332   227.887069   252.583438 -24.696369   -23.050697   \n",
       "8662      252.197332   227.887069   252.583438 -24.696369   -23.050697   \n",
       "8663      252.197332   227.887069   252.583438 -24.696369   -23.050697   \n",
       "8664      252.197332   227.887069   252.583438 -24.696369   -23.050697   \n",
       "...              ...          ...          ...        ...          ...   \n",
       "1591026  6414.436663  6405.482128  6428.360042 -22.877914   -22.623520   \n",
       "1591027  6414.436663  6405.482128  6428.360042 -22.877914   -22.623520   \n",
       "1591028  6414.436663  6405.482128  6428.360042 -22.877914   -22.623520   \n",
       "1591029  6414.436663  6405.482128  6428.360042 -22.877914   -22.623520   \n",
       "1591030  6414.436663  6405.482128  6428.360042 -22.877914   -22.623520   \n",
       "\n",
       "         MACD histogram        rsi  \n",
       "8660          -1.645671  34.070140  \n",
       "8661          -1.645671  34.070140  \n",
       "8662          -1.645671  34.070140  \n",
       "8663          -1.645671  34.070140  \n",
       "8664          -1.645671  34.070140  \n",
       "...                 ...        ...  \n",
       "1591026       -0.254394  52.494579  \n",
       "1591027       -0.254394  52.494579  \n",
       "1591028       -0.254394  52.494579  \n",
       "1591029       -0.254394  52.494579  \n",
       "1591030       -0.254394  52.494579  \n",
       "\n",
       "[1582247 rows x 21 columns]"
      ]
     },
     "execution_count": 255,
     "metadata": {},
     "output_type": "execute_result"
    }
   ],
   "source": [
    "price_tweets_news.dropna()"
   ]
  },
  {
   "cell_type": "code",
   "execution_count": 254,
   "metadata": {},
   "outputs": [
    {
     "data": {
      "text/plain": [
       "(1812331, 21)"
      ]
     },
     "execution_count": 254,
     "metadata": {},
     "output_type": "execute_result"
    }
   ],
   "source": [
    "price_tweets_news.shape"
   ]
  },
  {
   "cell_type": "code",
   "execution_count": 9,
   "metadata": {},
   "outputs": [],
   "source": [
    "#now let's try to split the text into smaller chunks, which is just taking the tutorial's code\n",
    "def get_split(text1,length=200, overlap=50):\n",
    "  l_total = []\n",
    "  l_parcial = []\n",
    "  if len(text1.split())//(length-overlap) >0:\n",
    "    n = len(text1.split())//(length-overlap)\n",
    "  else: \n",
    "    n = 1\n",
    "  for w in range(n):\n",
    "    if w == 0:\n",
    "      l_parcial = text1.split()[:length]\n",
    "      l_total.append(\" \".join(l_parcial))\n",
    "    else:\n",
    "      l_parcial = text1.split()[w*(length-overlap):w*(length-overlap) + length]\n",
    "      l_total.append(\" \".join(l_parcial))\n",
    "  return l_total"
   ]
  },
  {
   "cell_type": "code",
   "execution_count": null,
   "metadata": {},
   "outputs": [],
   "source": [
    "#next, tie them up, read in csv, combine into chunks, take the dates as the price? \n",
    "path = '../archive/data/tweets'\n",
    "all_files = glob.glob(path+'/*.csv')\n",
    "\n",
    "#let me try to use list1 to store string and list 2 to store dates\n",
    "li1=[]\n",
    "li2=[]\n",
    "for file in all_files:\n",
    "  df=pd.read_csv(file,sep=',',index_col=0)\n",
    "  df=df['text'].to_frame()\n",
    "  rawtxt=[]\n",
    "  for row in df.text:\n",
    "    rawtxt.append(row)\n",
    "  string = \" \".join(rawtxt)\n",
    "\n",
    "  date= file[-14:-4]\n",
    "  \n",
    "  li1.append(string)\n",
    "  li2.append(date)\n",
    "\n",
    "data=pd.DataFrame({'date':li2, 'text':li1})\n",
    "\n"
   ]
  },
  {
   "cell_type": "code",
   "execution_count": 3,
   "metadata": {},
   "outputs": [
    {
     "name": "stdout",
     "output_type": "stream",
     "text": [
      "[*********************100%%**********************]  1 of 1 completed\n"
     ]
    }
   ],
   "source": [
    "start_date ='2018-12-28'\n",
    "end_date = '2019-04-02'\n",
    "price = yf.download(\"BTC-USD\", start=start_date, end=end_date)"
   ]
  },
  {
   "cell_type": "code",
   "execution_count": 4,
   "metadata": {},
   "outputs": [
    {
     "data": {
      "text/html": [
       "<div>\n",
       "<style scoped>\n",
       "    .dataframe tbody tr th:only-of-type {\n",
       "        vertical-align: middle;\n",
       "    }\n",
       "\n",
       "    .dataframe tbody tr th {\n",
       "        vertical-align: top;\n",
       "    }\n",
       "\n",
       "    .dataframe thead th {\n",
       "        text-align: right;\n",
       "    }\n",
       "</style>\n",
       "<table border=\"1\" class=\"dataframe\">\n",
       "  <thead>\n",
       "    <tr style=\"text-align: right;\">\n",
       "      <th></th>\n",
       "      <th>Open</th>\n",
       "      <th>High</th>\n",
       "      <th>Low</th>\n",
       "      <th>Close</th>\n",
       "      <th>Adj Close</th>\n",
       "      <th>Volume</th>\n",
       "    </tr>\n",
       "    <tr>\n",
       "      <th>Date</th>\n",
       "      <th></th>\n",
       "      <th></th>\n",
       "      <th></th>\n",
       "      <th></th>\n",
       "      <th></th>\n",
       "      <th></th>\n",
       "    </tr>\n",
       "  </thead>\n",
       "  <tbody>\n",
       "    <tr>\n",
       "      <th>2018-12-28</th>\n",
       "      <td>3653.131836</td>\n",
       "      <td>3956.135986</td>\n",
       "      <td>3642.632080</td>\n",
       "      <td>3923.918701</td>\n",
       "      <td>3923.918701</td>\n",
       "      <td>5631554348</td>\n",
       "    </tr>\n",
       "    <tr>\n",
       "      <th>2018-12-29</th>\n",
       "      <td>3932.491699</td>\n",
       "      <td>3963.758789</td>\n",
       "      <td>3820.408691</td>\n",
       "      <td>3820.408691</td>\n",
       "      <td>3820.408691</td>\n",
       "      <td>4991655917</td>\n",
       "    </tr>\n",
       "    <tr>\n",
       "      <th>2018-12-30</th>\n",
       "      <td>3822.384766</td>\n",
       "      <td>3901.908936</td>\n",
       "      <td>3797.219238</td>\n",
       "      <td>3865.952637</td>\n",
       "      <td>3865.952637</td>\n",
       "      <td>4770578575</td>\n",
       "    </tr>\n",
       "    <tr>\n",
       "      <th>2018-12-31</th>\n",
       "      <td>3866.839111</td>\n",
       "      <td>3868.742920</td>\n",
       "      <td>3725.867432</td>\n",
       "      <td>3742.700439</td>\n",
       "      <td>3742.700439</td>\n",
       "      <td>4661840806</td>\n",
       "    </tr>\n",
       "    <tr>\n",
       "      <th>2019-01-01</th>\n",
       "      <td>3746.713379</td>\n",
       "      <td>3850.913818</td>\n",
       "      <td>3707.231201</td>\n",
       "      <td>3843.520020</td>\n",
       "      <td>3843.520020</td>\n",
       "      <td>4324200990</td>\n",
       "    </tr>\n",
       "  </tbody>\n",
       "</table>\n",
       "</div>"
      ],
      "text/plain": [
       "                   Open         High          Low        Close    Adj Close  \\\n",
       "Date                                                                          \n",
       "2018-12-28  3653.131836  3956.135986  3642.632080  3923.918701  3923.918701   \n",
       "2018-12-29  3932.491699  3963.758789  3820.408691  3820.408691  3820.408691   \n",
       "2018-12-30  3822.384766  3901.908936  3797.219238  3865.952637  3865.952637   \n",
       "2018-12-31  3866.839111  3868.742920  3725.867432  3742.700439  3742.700439   \n",
       "2019-01-01  3746.713379  3850.913818  3707.231201  3843.520020  3843.520020   \n",
       "\n",
       "                Volume  \n",
       "Date                    \n",
       "2018-12-28  5631554348  \n",
       "2018-12-29  4991655917  \n",
       "2018-12-30  4770578575  \n",
       "2018-12-31  4661840806  \n",
       "2019-01-01  4324200990  "
      ]
     },
     "execution_count": 4,
     "metadata": {},
     "output_type": "execute_result"
    }
   ],
   "source": [
    "price.head(5)"
   ]
  },
  {
   "cell_type": "code",
   "execution_count": 5,
   "metadata": {},
   "outputs": [],
   "source": [
    "price_2= price.Close.to_frame()\n",
    "price['change']=price_2.apply(lambda x: x/x.shift(1)-1)\n",
    "price['log_change']=price_2.apply(lambda x: np.log(x)-np.log(x.shift(1)))\n",
    "price['change_label']=price['change'].apply (lambda x: x>0)\n",
    "price=price.reset_index()\n",
    "price['date']=price.Date.apply (lambda x : str(x)[:10])"
   ]
  },
  {
   "cell_type": "code",
   "execution_count": 6,
   "metadata": {},
   "outputs": [
    {
     "data": {
      "text/html": [
       "<div>\n",
       "<style scoped>\n",
       "    .dataframe tbody tr th:only-of-type {\n",
       "        vertical-align: middle;\n",
       "    }\n",
       "\n",
       "    .dataframe tbody tr th {\n",
       "        vertical-align: top;\n",
       "    }\n",
       "\n",
       "    .dataframe thead th {\n",
       "        text-align: right;\n",
       "    }\n",
       "</style>\n",
       "<table border=\"1\" class=\"dataframe\">\n",
       "  <thead>\n",
       "    <tr style=\"text-align: right;\">\n",
       "      <th></th>\n",
       "      <th>Date</th>\n",
       "      <th>Open</th>\n",
       "      <th>High</th>\n",
       "      <th>Low</th>\n",
       "      <th>Close</th>\n",
       "      <th>Adj Close</th>\n",
       "      <th>Volume</th>\n",
       "      <th>change</th>\n",
       "      <th>log_change</th>\n",
       "      <th>change_label</th>\n",
       "      <th>date</th>\n",
       "    </tr>\n",
       "  </thead>\n",
       "  <tbody>\n",
       "    <tr>\n",
       "      <th>0</th>\n",
       "      <td>2018-12-28</td>\n",
       "      <td>3653.131836</td>\n",
       "      <td>3956.135986</td>\n",
       "      <td>3642.632080</td>\n",
       "      <td>3923.918701</td>\n",
       "      <td>3923.918701</td>\n",
       "      <td>5631554348</td>\n",
       "      <td>NaN</td>\n",
       "      <td>NaN</td>\n",
       "      <td>False</td>\n",
       "      <td>2018-12-28</td>\n",
       "    </tr>\n",
       "    <tr>\n",
       "      <th>1</th>\n",
       "      <td>2018-12-29</td>\n",
       "      <td>3932.491699</td>\n",
       "      <td>3963.758789</td>\n",
       "      <td>3820.408691</td>\n",
       "      <td>3820.408691</td>\n",
       "      <td>3820.408691</td>\n",
       "      <td>4991655917</td>\n",
       "      <td>-0.026379</td>\n",
       "      <td>-0.026733</td>\n",
       "      <td>False</td>\n",
       "      <td>2018-12-29</td>\n",
       "    </tr>\n",
       "    <tr>\n",
       "      <th>2</th>\n",
       "      <td>2018-12-30</td>\n",
       "      <td>3822.384766</td>\n",
       "      <td>3901.908936</td>\n",
       "      <td>3797.219238</td>\n",
       "      <td>3865.952637</td>\n",
       "      <td>3865.952637</td>\n",
       "      <td>4770578575</td>\n",
       "      <td>0.011921</td>\n",
       "      <td>0.011851</td>\n",
       "      <td>True</td>\n",
       "      <td>2018-12-30</td>\n",
       "    </tr>\n",
       "    <tr>\n",
       "      <th>3</th>\n",
       "      <td>2018-12-31</td>\n",
       "      <td>3866.839111</td>\n",
       "      <td>3868.742920</td>\n",
       "      <td>3725.867432</td>\n",
       "      <td>3742.700439</td>\n",
       "      <td>3742.700439</td>\n",
       "      <td>4661840806</td>\n",
       "      <td>-0.031881</td>\n",
       "      <td>-0.032401</td>\n",
       "      <td>False</td>\n",
       "      <td>2018-12-31</td>\n",
       "    </tr>\n",
       "    <tr>\n",
       "      <th>4</th>\n",
       "      <td>2019-01-01</td>\n",
       "      <td>3746.713379</td>\n",
       "      <td>3850.913818</td>\n",
       "      <td>3707.231201</td>\n",
       "      <td>3843.520020</td>\n",
       "      <td>3843.520020</td>\n",
       "      <td>4324200990</td>\n",
       "      <td>0.026938</td>\n",
       "      <td>0.026581</td>\n",
       "      <td>True</td>\n",
       "      <td>2019-01-01</td>\n",
       "    </tr>\n",
       "    <tr>\n",
       "      <th>5</th>\n",
       "      <td>2019-01-02</td>\n",
       "      <td>3849.216309</td>\n",
       "      <td>3947.981201</td>\n",
       "      <td>3817.409424</td>\n",
       "      <td>3943.409424</td>\n",
       "      <td>3943.409424</td>\n",
       "      <td>5244856836</td>\n",
       "      <td>0.025989</td>\n",
       "      <td>0.025657</td>\n",
       "      <td>True</td>\n",
       "      <td>2019-01-02</td>\n",
       "    </tr>\n",
       "    <tr>\n",
       "      <th>6</th>\n",
       "      <td>2019-01-03</td>\n",
       "      <td>3931.048584</td>\n",
       "      <td>3935.685059</td>\n",
       "      <td>3826.222900</td>\n",
       "      <td>3836.741211</td>\n",
       "      <td>3836.741211</td>\n",
       "      <td>4530215219</td>\n",
       "      <td>-0.027050</td>\n",
       "      <td>-0.027422</td>\n",
       "      <td>False</td>\n",
       "      <td>2019-01-03</td>\n",
       "    </tr>\n",
       "    <tr>\n",
       "      <th>7</th>\n",
       "      <td>2019-01-04</td>\n",
       "      <td>3832.040039</td>\n",
       "      <td>3865.934570</td>\n",
       "      <td>3783.853760</td>\n",
       "      <td>3857.717529</td>\n",
       "      <td>3857.717529</td>\n",
       "      <td>4847965467</td>\n",
       "      <td>0.005467</td>\n",
       "      <td>0.005452</td>\n",
       "      <td>True</td>\n",
       "      <td>2019-01-04</td>\n",
       "    </tr>\n",
       "    <tr>\n",
       "      <th>8</th>\n",
       "      <td>2019-01-05</td>\n",
       "      <td>3851.973877</td>\n",
       "      <td>3904.903076</td>\n",
       "      <td>3836.900146</td>\n",
       "      <td>3845.194580</td>\n",
       "      <td>3845.194580</td>\n",
       "      <td>5137609824</td>\n",
       "      <td>-0.003246</td>\n",
       "      <td>-0.003251</td>\n",
       "      <td>False</td>\n",
       "      <td>2019-01-05</td>\n",
       "    </tr>\n",
       "    <tr>\n",
       "      <th>9</th>\n",
       "      <td>2019-01-06</td>\n",
       "      <td>3836.519043</td>\n",
       "      <td>4093.297363</td>\n",
       "      <td>3826.513184</td>\n",
       "      <td>4076.632568</td>\n",
       "      <td>4076.632568</td>\n",
       "      <td>5597027440</td>\n",
       "      <td>0.060189</td>\n",
       "      <td>0.058447</td>\n",
       "      <td>True</td>\n",
       "      <td>2019-01-06</td>\n",
       "    </tr>\n",
       "  </tbody>\n",
       "</table>\n",
       "</div>"
      ],
      "text/plain": [
       "        Date         Open         High          Low        Close    Adj Close  \\\n",
       "0 2018-12-28  3653.131836  3956.135986  3642.632080  3923.918701  3923.918701   \n",
       "1 2018-12-29  3932.491699  3963.758789  3820.408691  3820.408691  3820.408691   \n",
       "2 2018-12-30  3822.384766  3901.908936  3797.219238  3865.952637  3865.952637   \n",
       "3 2018-12-31  3866.839111  3868.742920  3725.867432  3742.700439  3742.700439   \n",
       "4 2019-01-01  3746.713379  3850.913818  3707.231201  3843.520020  3843.520020   \n",
       "5 2019-01-02  3849.216309  3947.981201  3817.409424  3943.409424  3943.409424   \n",
       "6 2019-01-03  3931.048584  3935.685059  3826.222900  3836.741211  3836.741211   \n",
       "7 2019-01-04  3832.040039  3865.934570  3783.853760  3857.717529  3857.717529   \n",
       "8 2019-01-05  3851.973877  3904.903076  3836.900146  3845.194580  3845.194580   \n",
       "9 2019-01-06  3836.519043  4093.297363  3826.513184  4076.632568  4076.632568   \n",
       "\n",
       "       Volume    change  log_change  change_label        date  \n",
       "0  5631554348       NaN         NaN         False  2018-12-28  \n",
       "1  4991655917 -0.026379   -0.026733         False  2018-12-29  \n",
       "2  4770578575  0.011921    0.011851          True  2018-12-30  \n",
       "3  4661840806 -0.031881   -0.032401         False  2018-12-31  \n",
       "4  4324200990  0.026938    0.026581          True  2019-01-01  \n",
       "5  5244856836  0.025989    0.025657          True  2019-01-02  \n",
       "6  4530215219 -0.027050   -0.027422         False  2019-01-03  \n",
       "7  4847965467  0.005467    0.005452          True  2019-01-04  \n",
       "8  5137609824 -0.003246   -0.003251         False  2019-01-05  \n",
       "9  5597027440  0.060189    0.058447          True  2019-01-06  "
      ]
     },
     "execution_count": 6,
     "metadata": {},
     "output_type": "execute_result"
    }
   ],
   "source": [
    "price.head(10)"
   ]
  },
  {
   "cell_type": "code",
   "execution_count": 8,
   "metadata": {},
   "outputs": [],
   "source": [
    "tweets = pd.read_csv(\"../msc/archive/data/tweets/combined_tweets_2019_apr_dec_labeled.csv\")"
   ]
  },
  {
   "cell_type": "code",
   "execution_count": 9,
   "metadata": {},
   "outputs": [
    {
     "data": {
      "text/html": [
       "<div>\n",
       "<style scoped>\n",
       "    .dataframe tbody tr th:only-of-type {\n",
       "        vertical-align: middle;\n",
       "    }\n",
       "\n",
       "    .dataframe tbody tr th {\n",
       "        vertical-align: top;\n",
       "    }\n",
       "\n",
       "    .dataframe thead th {\n",
       "        text-align: right;\n",
       "    }\n",
       "</style>\n",
       "<table border=\"1\" class=\"dataframe\">\n",
       "  <thead>\n",
       "    <tr style=\"text-align: right;\">\n",
       "      <th></th>\n",
       "      <th>Unnamed: 0</th>\n",
       "      <th>date</th>\n",
       "      <th>text_split</th>\n",
       "      <th>label_up5</th>\n",
       "      <th>label_up2</th>\n",
       "      <th>label_down5</th>\n",
       "      <th>label_down2</th>\n",
       "    </tr>\n",
       "  </thead>\n",
       "  <tbody>\n",
       "    <tr>\n",
       "      <th>0</th>\n",
       "      <td>0</td>\n",
       "      <td>2019-04-01</td>\n",
       "      <td>btc bitcoin current price more on food for tho...</td>\n",
       "      <td>False</td>\n",
       "      <td>False</td>\n",
       "      <td>False</td>\n",
       "      <td>False</td>\n",
       "    </tr>\n",
       "    <tr>\n",
       "      <th>1</th>\n",
       "      <td>1</td>\n",
       "      <td>2019-04-01</td>\n",
       "      <td>reveal is relevant in billion dollar bitcoin l...</td>\n",
       "      <td>False</td>\n",
       "      <td>False</td>\n",
       "      <td>False</td>\n",
       "      <td>False</td>\n",
       "    </tr>\n",
       "    <tr>\n",
       "      <th>2</th>\n",
       "      <td>2</td>\n",
       "      <td>2019-04-01</td>\n",
       "      <td>to year of crypto research and chance to win b...</td>\n",
       "      <td>False</td>\n",
       "      <td>False</td>\n",
       "      <td>False</td>\n",
       "      <td>False</td>\n",
       "    </tr>\n",
       "    <tr>\n",
       "      <th>3</th>\n",
       "      <td>3</td>\n",
       "      <td>2019-04-01</td>\n",
       "      <td>off is the solution appreciate that man there ...</td>\n",
       "      <td>False</td>\n",
       "      <td>False</td>\n",
       "      <td>False</td>\n",
       "      <td>False</td>\n",
       "    </tr>\n",
       "    <tr>\n",
       "      <th>4</th>\n",
       "      <td>4</td>\n",
       "      <td>2019-04-01</td>\n",
       "      <td>ratio buy at and sell at ratio bitcoin the onl...</td>\n",
       "      <td>False</td>\n",
       "      <td>False</td>\n",
       "      <td>False</td>\n",
       "      <td>False</td>\n",
       "    </tr>\n",
       "  </tbody>\n",
       "</table>\n",
       "</div>"
      ],
      "text/plain": [
       "   Unnamed: 0        date                                         text_split  \\\n",
       "0           0  2019-04-01  btc bitcoin current price more on food for tho...   \n",
       "1           1  2019-04-01  reveal is relevant in billion dollar bitcoin l...   \n",
       "2           2  2019-04-01  to year of crypto research and chance to win b...   \n",
       "3           3  2019-04-01  off is the solution appreciate that man there ...   \n",
       "4           4  2019-04-01  ratio buy at and sell at ratio bitcoin the onl...   \n",
       "\n",
       "   label_up5  label_up2  label_down5  label_down2  \n",
       "0      False      False        False        False  \n",
       "1      False      False        False        False  \n",
       "2      False      False        False        False  \n",
       "3      False      False        False        False  \n",
       "4      False      False        False        False  "
      ]
     },
     "execution_count": 9,
     "metadata": {},
     "output_type": "execute_result"
    }
   ],
   "source": [
    "tweets.head(5)"
   ]
  },
  {
   "cell_type": "code",
   "execution_count": 10,
   "metadata": {},
   "outputs": [],
   "source": [
    "tweets = tweets[['date', 'text_split']]"
   ]
  },
  {
   "cell_type": "code",
   "execution_count": 11,
   "metadata": {},
   "outputs": [
    {
     "data": {
      "text/html": [
       "<div>\n",
       "<style scoped>\n",
       "    .dataframe tbody tr th:only-of-type {\n",
       "        vertical-align: middle;\n",
       "    }\n",
       "\n",
       "    .dataframe tbody tr th {\n",
       "        vertical-align: top;\n",
       "    }\n",
       "\n",
       "    .dataframe thead th {\n",
       "        text-align: right;\n",
       "    }\n",
       "</style>\n",
       "<table border=\"1\" class=\"dataframe\">\n",
       "  <thead>\n",
       "    <tr style=\"text-align: right;\">\n",
       "      <th></th>\n",
       "      <th>date</th>\n",
       "      <th>text_split</th>\n",
       "    </tr>\n",
       "  </thead>\n",
       "  <tbody>\n",
       "    <tr>\n",
       "      <th>0</th>\n",
       "      <td>2019-04-01</td>\n",
       "      <td>btc bitcoin current price more on food for tho...</td>\n",
       "    </tr>\n",
       "    <tr>\n",
       "      <th>1</th>\n",
       "      <td>2019-04-01</td>\n",
       "      <td>reveal is relevant in billion dollar bitcoin l...</td>\n",
       "    </tr>\n",
       "    <tr>\n",
       "      <th>2</th>\n",
       "      <td>2019-04-01</td>\n",
       "      <td>to year of crypto research and chance to win b...</td>\n",
       "    </tr>\n",
       "    <tr>\n",
       "      <th>3</th>\n",
       "      <td>2019-04-01</td>\n",
       "      <td>off is the solution appreciate that man there ...</td>\n",
       "    </tr>\n",
       "    <tr>\n",
       "      <th>4</th>\n",
       "      <td>2019-04-01</td>\n",
       "      <td>ratio buy at and sell at ratio bitcoin the onl...</td>\n",
       "    </tr>\n",
       "  </tbody>\n",
       "</table>\n",
       "</div>"
      ],
      "text/plain": [
       "         date                                         text_split\n",
       "0  2019-04-01  btc bitcoin current price more on food for tho...\n",
       "1  2019-04-01  reveal is relevant in billion dollar bitcoin l...\n",
       "2  2019-04-01  to year of crypto research and chance to win b...\n",
       "3  2019-04-01  off is the solution appreciate that man there ...\n",
       "4  2019-04-01  ratio buy at and sell at ratio bitcoin the onl..."
      ]
     },
     "execution_count": 11,
     "metadata": {},
     "output_type": "execute_result"
    }
   ],
   "source": [
    "tweets.head()"
   ]
  },
  {
   "cell_type": "code",
   "execution_count": null,
   "metadata": {},
   "outputs": [],
   "source": [
    "tweets['text_split'][0]"
   ]
  },
  {
   "cell_type": "code",
   "execution_count": 14,
   "metadata": {},
   "outputs": [],
   "source": [
    "frame_x = tweets.merge(price, how='outer', on=['date'])"
   ]
  },
  {
   "cell_type": "code",
   "execution_count": 17,
   "metadata": {},
   "outputs": [
    {
     "data": {
      "text/html": [
       "<div>\n",
       "<style scoped>\n",
       "    .dataframe tbody tr th:only-of-type {\n",
       "        vertical-align: middle;\n",
       "    }\n",
       "\n",
       "    .dataframe tbody tr th {\n",
       "        vertical-align: top;\n",
       "    }\n",
       "\n",
       "    .dataframe thead th {\n",
       "        text-align: right;\n",
       "    }\n",
       "</style>\n",
       "<table border=\"1\" class=\"dataframe\">\n",
       "  <thead>\n",
       "    <tr style=\"text-align: right;\">\n",
       "      <th></th>\n",
       "      <th>date</th>\n",
       "      <th>text_split</th>\n",
       "      <th>Date</th>\n",
       "      <th>Open</th>\n",
       "      <th>High</th>\n",
       "      <th>Low</th>\n",
       "      <th>Close</th>\n",
       "      <th>Adj Close</th>\n",
       "      <th>Volume</th>\n",
       "      <th>change</th>\n",
       "      <th>log_change</th>\n",
       "      <th>change_label</th>\n",
       "    </tr>\n",
       "  </thead>\n",
       "  <tbody>\n",
       "    <tr>\n",
       "      <th>0</th>\n",
       "      <td>2019-04-01</td>\n",
       "      <td>btc bitcoin current price more on food for tho...</td>\n",
       "      <td>2019-04-01</td>\n",
       "      <td>4105.362305</td>\n",
       "      <td>4164.953125</td>\n",
       "      <td>4096.901367</td>\n",
       "      <td>4158.183105</td>\n",
       "      <td>4158.183105</td>\n",
       "      <td>1.015779e+10</td>\n",
       "      <td>0.012856</td>\n",
       "      <td>0.012774</td>\n",
       "      <td>True</td>\n",
       "    </tr>\n",
       "    <tr>\n",
       "      <th>1</th>\n",
       "      <td>2019-04-01</td>\n",
       "      <td>reveal is relevant in billion dollar bitcoin l...</td>\n",
       "      <td>2019-04-01</td>\n",
       "      <td>4105.362305</td>\n",
       "      <td>4164.953125</td>\n",
       "      <td>4096.901367</td>\n",
       "      <td>4158.183105</td>\n",
       "      <td>4158.183105</td>\n",
       "      <td>1.015779e+10</td>\n",
       "      <td>0.012856</td>\n",
       "      <td>0.012774</td>\n",
       "      <td>True</td>\n",
       "    </tr>\n",
       "    <tr>\n",
       "      <th>2</th>\n",
       "      <td>2019-04-01</td>\n",
       "      <td>to year of crypto research and chance to win b...</td>\n",
       "      <td>2019-04-01</td>\n",
       "      <td>4105.362305</td>\n",
       "      <td>4164.953125</td>\n",
       "      <td>4096.901367</td>\n",
       "      <td>4158.183105</td>\n",
       "      <td>4158.183105</td>\n",
       "      <td>1.015779e+10</td>\n",
       "      <td>0.012856</td>\n",
       "      <td>0.012774</td>\n",
       "      <td>True</td>\n",
       "    </tr>\n",
       "    <tr>\n",
       "      <th>3</th>\n",
       "      <td>2019-04-01</td>\n",
       "      <td>off is the solution appreciate that man there ...</td>\n",
       "      <td>2019-04-01</td>\n",
       "      <td>4105.362305</td>\n",
       "      <td>4164.953125</td>\n",
       "      <td>4096.901367</td>\n",
       "      <td>4158.183105</td>\n",
       "      <td>4158.183105</td>\n",
       "      <td>1.015779e+10</td>\n",
       "      <td>0.012856</td>\n",
       "      <td>0.012774</td>\n",
       "      <td>True</td>\n",
       "    </tr>\n",
       "    <tr>\n",
       "      <th>4</th>\n",
       "      <td>2019-04-01</td>\n",
       "      <td>ratio buy at and sell at ratio bitcoin the onl...</td>\n",
       "      <td>2019-04-01</td>\n",
       "      <td>4105.362305</td>\n",
       "      <td>4164.953125</td>\n",
       "      <td>4096.901367</td>\n",
       "      <td>4158.183105</td>\n",
       "      <td>4158.183105</td>\n",
       "      <td>1.015779e+10</td>\n",
       "      <td>0.012856</td>\n",
       "      <td>0.012774</td>\n",
       "      <td>True</td>\n",
       "    </tr>\n",
       "  </tbody>\n",
       "</table>\n",
       "</div>"
      ],
      "text/plain": [
       "         date                                         text_split       Date  \\\n",
       "0  2019-04-01  btc bitcoin current price more on food for tho... 2019-04-01   \n",
       "1  2019-04-01  reveal is relevant in billion dollar bitcoin l... 2019-04-01   \n",
       "2  2019-04-01  to year of crypto research and chance to win b... 2019-04-01   \n",
       "3  2019-04-01  off is the solution appreciate that man there ... 2019-04-01   \n",
       "4  2019-04-01  ratio buy at and sell at ratio bitcoin the onl... 2019-04-01   \n",
       "\n",
       "          Open         High          Low        Close    Adj Close  \\\n",
       "0  4105.362305  4164.953125  4096.901367  4158.183105  4158.183105   \n",
       "1  4105.362305  4164.953125  4096.901367  4158.183105  4158.183105   \n",
       "2  4105.362305  4164.953125  4096.901367  4158.183105  4158.183105   \n",
       "3  4105.362305  4164.953125  4096.901367  4158.183105  4158.183105   \n",
       "4  4105.362305  4164.953125  4096.901367  4158.183105  4158.183105   \n",
       "\n",
       "         Volume    change  log_change change_label  \n",
       "0  1.015779e+10  0.012856    0.012774         True  \n",
       "1  1.015779e+10  0.012856    0.012774         True  \n",
       "2  1.015779e+10  0.012856    0.012774         True  \n",
       "3  1.015779e+10  0.012856    0.012774         True  \n",
       "4  1.015779e+10  0.012856    0.012774         True  "
      ]
     },
     "execution_count": 17,
     "metadata": {},
     "output_type": "execute_result"
    }
   ],
   "source": [
    "frame_x.head()"
   ]
  },
  {
   "cell_type": "code",
   "execution_count": 18,
   "metadata": {},
   "outputs": [
    {
     "data": {
      "text/html": [
       "<div>\n",
       "<style scoped>\n",
       "    .dataframe tbody tr th:only-of-type {\n",
       "        vertical-align: middle;\n",
       "    }\n",
       "\n",
       "    .dataframe tbody tr th {\n",
       "        vertical-align: top;\n",
       "    }\n",
       "\n",
       "    .dataframe thead th {\n",
       "        text-align: right;\n",
       "    }\n",
       "</style>\n",
       "<table border=\"1\" class=\"dataframe\">\n",
       "  <thead>\n",
       "    <tr style=\"text-align: right;\">\n",
       "      <th></th>\n",
       "      <th>date</th>\n",
       "      <th>text_split</th>\n",
       "      <th>Date</th>\n",
       "      <th>Open</th>\n",
       "      <th>High</th>\n",
       "      <th>Low</th>\n",
       "      <th>Close</th>\n",
       "      <th>Adj Close</th>\n",
       "      <th>Volume</th>\n",
       "      <th>change</th>\n",
       "      <th>log_change</th>\n",
       "      <th>change_label</th>\n",
       "    </tr>\n",
       "  </thead>\n",
       "  <tbody>\n",
       "    <tr>\n",
       "      <th>0</th>\n",
       "      <td>2019-04-01</td>\n",
       "      <td>btc bitcoin current price more on food for tho...</td>\n",
       "      <td>2019-04-01</td>\n",
       "      <td>4105.362305</td>\n",
       "      <td>4164.953125</td>\n",
       "      <td>4096.901367</td>\n",
       "      <td>4158.183105</td>\n",
       "      <td>4158.183105</td>\n",
       "      <td>1.015779e+10</td>\n",
       "      <td>0.012856</td>\n",
       "      <td>0.012774</td>\n",
       "      <td>True</td>\n",
       "    </tr>\n",
       "    <tr>\n",
       "      <th>1</th>\n",
       "      <td>2019-04-01</td>\n",
       "      <td>reveal is relevant in billion dollar bitcoin l...</td>\n",
       "      <td>2019-04-01</td>\n",
       "      <td>4105.362305</td>\n",
       "      <td>4164.953125</td>\n",
       "      <td>4096.901367</td>\n",
       "      <td>4158.183105</td>\n",
       "      <td>4158.183105</td>\n",
       "      <td>1.015779e+10</td>\n",
       "      <td>0.012856</td>\n",
       "      <td>0.012774</td>\n",
       "      <td>True</td>\n",
       "    </tr>\n",
       "    <tr>\n",
       "      <th>2</th>\n",
       "      <td>2019-04-01</td>\n",
       "      <td>to year of crypto research and chance to win b...</td>\n",
       "      <td>2019-04-01</td>\n",
       "      <td>4105.362305</td>\n",
       "      <td>4164.953125</td>\n",
       "      <td>4096.901367</td>\n",
       "      <td>4158.183105</td>\n",
       "      <td>4158.183105</td>\n",
       "      <td>1.015779e+10</td>\n",
       "      <td>0.012856</td>\n",
       "      <td>0.012774</td>\n",
       "      <td>True</td>\n",
       "    </tr>\n",
       "    <tr>\n",
       "      <th>3</th>\n",
       "      <td>2019-04-01</td>\n",
       "      <td>off is the solution appreciate that man there ...</td>\n",
       "      <td>2019-04-01</td>\n",
       "      <td>4105.362305</td>\n",
       "      <td>4164.953125</td>\n",
       "      <td>4096.901367</td>\n",
       "      <td>4158.183105</td>\n",
       "      <td>4158.183105</td>\n",
       "      <td>1.015779e+10</td>\n",
       "      <td>0.012856</td>\n",
       "      <td>0.012774</td>\n",
       "      <td>True</td>\n",
       "    </tr>\n",
       "    <tr>\n",
       "      <th>4</th>\n",
       "      <td>2019-04-01</td>\n",
       "      <td>ratio buy at and sell at ratio bitcoin the onl...</td>\n",
       "      <td>2019-04-01</td>\n",
       "      <td>4105.362305</td>\n",
       "      <td>4164.953125</td>\n",
       "      <td>4096.901367</td>\n",
       "      <td>4158.183105</td>\n",
       "      <td>4158.183105</td>\n",
       "      <td>1.015779e+10</td>\n",
       "      <td>0.012856</td>\n",
       "      <td>0.012774</td>\n",
       "      <td>True</td>\n",
       "    </tr>\n",
       "    <tr>\n",
       "      <th>...</th>\n",
       "      <td>...</td>\n",
       "      <td>...</td>\n",
       "      <td>...</td>\n",
       "      <td>...</td>\n",
       "      <td>...</td>\n",
       "      <td>...</td>\n",
       "      <td>...</td>\n",
       "      <td>...</td>\n",
       "      <td>...</td>\n",
       "      <td>...</td>\n",
       "      <td>...</td>\n",
       "      <td>...</td>\n",
       "    </tr>\n",
       "    <tr>\n",
       "      <th>264</th>\n",
       "      <td>2019-04-01</td>\n",
       "      <td>of just posted new valor em bitcoin ser no arr...</td>\n",
       "      <td>2019-04-01</td>\n",
       "      <td>4105.362305</td>\n",
       "      <td>4164.953125</td>\n",
       "      <td>4096.901367</td>\n",
       "      <td>4158.183105</td>\n",
       "      <td>4158.183105</td>\n",
       "      <td>1.015779e+10</td>\n",
       "      <td>0.012856</td>\n",
       "      <td>0.012774</td>\n",
       "      <td>True</td>\n",
       "    </tr>\n",
       "    <tr>\n",
       "      <th>265</th>\n",
       "      <td>2019-04-01</td>\n",
       "      <td>de tu bien lo ha roger massive bitcoin exchang...</td>\n",
       "      <td>2019-04-01</td>\n",
       "      <td>4105.362305</td>\n",
       "      <td>4164.953125</td>\n",
       "      <td>4096.901367</td>\n",
       "      <td>4158.183105</td>\n",
       "      <td>4158.183105</td>\n",
       "      <td>1.015779e+10</td>\n",
       "      <td>0.012856</td>\n",
       "      <td>0.012774</td>\n",
       "      <td>True</td>\n",
       "    </tr>\n",
       "    <tr>\n",
       "      <th>266</th>\n",
       "      <td>2019-04-01</td>\n",
       "      <td>bitcoin faucet with difference you decide how ...</td>\n",
       "      <td>2019-04-01</td>\n",
       "      <td>4105.362305</td>\n",
       "      <td>4164.953125</td>\n",
       "      <td>4096.901367</td>\n",
       "      <td>4158.183105</td>\n",
       "      <td>4158.183105</td>\n",
       "      <td>1.015779e+10</td>\n",
       "      <td>0.012856</td>\n",
       "      <td>0.012774</td>\n",
       "      <td>True</td>\n",
       "    </tr>\n",
       "    <tr>\n",
       "      <th>267</th>\n",
       "      <td>2019-04-01</td>\n",
       "      <td>real again to make crypto great again to all p...</td>\n",
       "      <td>2019-04-01</td>\n",
       "      <td>4105.362305</td>\n",
       "      <td>4164.953125</td>\n",
       "      <td>4096.901367</td>\n",
       "      <td>4158.183105</td>\n",
       "      <td>4158.183105</td>\n",
       "      <td>1.015779e+10</td>\n",
       "      <td>0.012856</td>\n",
       "      <td>0.012774</td>\n",
       "      <td>True</td>\n",
       "    </tr>\n",
       "    <tr>\n",
       "      <th>268</th>\n",
       "      <td>2019-04-01</td>\n",
       "      <td>that question would need to know income stabil...</td>\n",
       "      <td>2019-04-01</td>\n",
       "      <td>4105.362305</td>\n",
       "      <td>4164.953125</td>\n",
       "      <td>4096.901367</td>\n",
       "      <td>4158.183105</td>\n",
       "      <td>4158.183105</td>\n",
       "      <td>1.015779e+10</td>\n",
       "      <td>0.012856</td>\n",
       "      <td>0.012774</td>\n",
       "      <td>True</td>\n",
       "    </tr>\n",
       "  </tbody>\n",
       "</table>\n",
       "<p>269 rows × 12 columns</p>\n",
       "</div>"
      ],
      "text/plain": [
       "           date                                         text_split       Date  \\\n",
       "0    2019-04-01  btc bitcoin current price more on food for tho... 2019-04-01   \n",
       "1    2019-04-01  reveal is relevant in billion dollar bitcoin l... 2019-04-01   \n",
       "2    2019-04-01  to year of crypto research and chance to win b... 2019-04-01   \n",
       "3    2019-04-01  off is the solution appreciate that man there ... 2019-04-01   \n",
       "4    2019-04-01  ratio buy at and sell at ratio bitcoin the onl... 2019-04-01   \n",
       "..          ...                                                ...        ...   \n",
       "264  2019-04-01  of just posted new valor em bitcoin ser no arr... 2019-04-01   \n",
       "265  2019-04-01  de tu bien lo ha roger massive bitcoin exchang... 2019-04-01   \n",
       "266  2019-04-01  bitcoin faucet with difference you decide how ... 2019-04-01   \n",
       "267  2019-04-01  real again to make crypto great again to all p... 2019-04-01   \n",
       "268  2019-04-01  that question would need to know income stabil... 2019-04-01   \n",
       "\n",
       "            Open         High          Low        Close    Adj Close  \\\n",
       "0    4105.362305  4164.953125  4096.901367  4158.183105  4158.183105   \n",
       "1    4105.362305  4164.953125  4096.901367  4158.183105  4158.183105   \n",
       "2    4105.362305  4164.953125  4096.901367  4158.183105  4158.183105   \n",
       "3    4105.362305  4164.953125  4096.901367  4158.183105  4158.183105   \n",
       "4    4105.362305  4164.953125  4096.901367  4158.183105  4158.183105   \n",
       "..           ...          ...          ...          ...          ...   \n",
       "264  4105.362305  4164.953125  4096.901367  4158.183105  4158.183105   \n",
       "265  4105.362305  4164.953125  4096.901367  4158.183105  4158.183105   \n",
       "266  4105.362305  4164.953125  4096.901367  4158.183105  4158.183105   \n",
       "267  4105.362305  4164.953125  4096.901367  4158.183105  4158.183105   \n",
       "268  4105.362305  4164.953125  4096.901367  4158.183105  4158.183105   \n",
       "\n",
       "           Volume    change  log_change change_label  \n",
       "0    1.015779e+10  0.012856    0.012774         True  \n",
       "1    1.015779e+10  0.012856    0.012774         True  \n",
       "2    1.015779e+10  0.012856    0.012774         True  \n",
       "3    1.015779e+10  0.012856    0.012774         True  \n",
       "4    1.015779e+10  0.012856    0.012774         True  \n",
       "..            ...       ...         ...          ...  \n",
       "264  1.015779e+10  0.012856    0.012774         True  \n",
       "265  1.015779e+10  0.012856    0.012774         True  \n",
       "266  1.015779e+10  0.012856    0.012774         True  \n",
       "267  1.015779e+10  0.012856    0.012774         True  \n",
       "268  1.015779e+10  0.012856    0.012774         True  \n",
       "\n",
       "[269 rows x 12 columns]"
      ]
     },
     "execution_count": 18,
     "metadata": {},
     "output_type": "execute_result"
    }
   ],
   "source": [
    "frame_x.dropna()"
   ]
  },
  {
   "cell_type": "code",
   "execution_count": 72,
   "metadata": {},
   "outputs": [],
   "source": [
    "df = pd.read_csv('../msc/archive/data/tweets/combined_tweets_2015_labeled.csv')"
   ]
  },
  {
   "cell_type": "code",
   "execution_count": 74,
   "metadata": {},
   "outputs": [
    {
     "data": {
      "text/html": [
       "<div>\n",
       "<style scoped>\n",
       "    .dataframe tbody tr th:only-of-type {\n",
       "        vertical-align: middle;\n",
       "    }\n",
       "\n",
       "    .dataframe tbody tr th {\n",
       "        vertical-align: top;\n",
       "    }\n",
       "\n",
       "    .dataframe thead th {\n",
       "        text-align: right;\n",
       "    }\n",
       "</style>\n",
       "<table border=\"1\" class=\"dataframe\">\n",
       "  <thead>\n",
       "    <tr style=\"text-align: right;\">\n",
       "      <th></th>\n",
       "      <th>Unnamed: 0</th>\n",
       "      <th>date</th>\n",
       "      <th>text_split</th>\n",
       "      <th>label_up5</th>\n",
       "      <th>label_up2</th>\n",
       "      <th>label_down5</th>\n",
       "      <th>label_down2</th>\n",
       "    </tr>\n",
       "  </thead>\n",
       "  <tbody>\n",
       "    <tr>\n",
       "      <th>0</th>\n",
       "      <td>0</td>\n",
       "      <td>2015-01-01</td>\n",
       "      <td>blocked me thats my achievement still like bit...</td>\n",
       "      <td>False</td>\n",
       "      <td>False</td>\n",
       "      <td>False</td>\n",
       "      <td>False</td>\n",
       "    </tr>\n",
       "    <tr>\n",
       "      <th>1</th>\n",
       "      <td>1</td>\n",
       "      <td>2015-01-01</td>\n",
       "      <td>accept here is bitcoin tip via claim it here c...</td>\n",
       "      <td>False</td>\n",
       "      <td>False</td>\n",
       "      <td>False</td>\n",
       "      <td>False</td>\n",
       "    </tr>\n",
       "    <tr>\n",
       "      <th>2</th>\n",
       "      <td>2</td>\n",
       "      <td>2015-01-01</td>\n",
       "      <td>btc bitcoin current price btc bitcoin parking ...</td>\n",
       "      <td>False</td>\n",
       "      <td>False</td>\n",
       "      <td>False</td>\n",
       "      <td>False</td>\n",
       "    </tr>\n",
       "    <tr>\n",
       "      <th>3</th>\n",
       "      <td>3</td>\n",
       "      <td>2015-01-01</td>\n",
       "      <td>revolution don miss out your bitcoin tip about...</td>\n",
       "      <td>False</td>\n",
       "      <td>False</td>\n",
       "      <td>False</td>\n",
       "      <td>False</td>\n",
       "    </tr>\n",
       "    <tr>\n",
       "      <th>4</th>\n",
       "      <td>4</td>\n",
       "      <td>2015-01-01</td>\n",
       "      <td>cap billion based on bitcoin informative my da...</td>\n",
       "      <td>False</td>\n",
       "      <td>False</td>\n",
       "      <td>False</td>\n",
       "      <td>False</td>\n",
       "    </tr>\n",
       "  </tbody>\n",
       "</table>\n",
       "</div>"
      ],
      "text/plain": [
       "   Unnamed: 0        date                                         text_split  \\\n",
       "0           0  2015-01-01  blocked me thats my achievement still like bit...   \n",
       "1           1  2015-01-01  accept here is bitcoin tip via claim it here c...   \n",
       "2           2  2015-01-01  btc bitcoin current price btc bitcoin parking ...   \n",
       "3           3  2015-01-01  revolution don miss out your bitcoin tip about...   \n",
       "4           4  2015-01-01  cap billion based on bitcoin informative my da...   \n",
       "\n",
       "   label_up5  label_up2  label_down5  label_down2  \n",
       "0      False      False        False        False  \n",
       "1      False      False        False        False  \n",
       "2      False      False        False        False  \n",
       "3      False      False        False        False  \n",
       "4      False      False        False        False  "
      ]
     },
     "execution_count": 74,
     "metadata": {},
     "output_type": "execute_result"
    }
   ],
   "source": [
    "df.head()"
   ]
  },
  {
   "cell_type": "code",
   "execution_count": 73,
   "metadata": {},
   "outputs": [
    {
     "data": {
      "text/plain": [
       "(28126, 7)"
      ]
     },
     "execution_count": 73,
     "metadata": {},
     "output_type": "execute_result"
    }
   ],
   "source": [
    "df.shape"
   ]
  },
  {
   "cell_type": "code",
   "execution_count": 79,
   "metadata": {},
   "outputs": [],
   "source": [
    "df = df['text_split'].to_frame()"
   ]
  }
 ],
 "metadata": {
  "kernelspec": {
   "display_name": "Python 3",
   "language": "python",
   "name": "python3"
  },
  "language_info": {
   "codemirror_mode": {
    "name": "ipython",
    "version": 3
   },
   "file_extension": ".py",
   "mimetype": "text/x-python",
   "name": "python",
   "nbconvert_exporter": "python",
   "pygments_lexer": "ipython3",
   "version": "3.11.1"
  },
  "orig_nbformat": 4,
  "vscode": {
   "interpreter": {
    "hash": "24905e458ad4dc5a4619ab5330e2c95bb62fcc8cfba758a3e378b0342911d66f"
   }
  }
 },
 "nbformat": 4,
 "nbformat_minor": 2
}
